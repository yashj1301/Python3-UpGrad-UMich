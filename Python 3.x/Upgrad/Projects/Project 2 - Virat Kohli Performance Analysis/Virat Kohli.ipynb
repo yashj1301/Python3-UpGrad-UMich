{
  "nbformat": 4,
  "nbformat_minor": 0,
  "metadata": {
    "colab": {
      "provenance": [],
      "collapsed_sections": [
        "b7DHx_cQQwm0",
        "TZDBK5CuQzrJ",
        "df7T5kV8RBHg",
        "iq7o4FzSRFaw",
        "WTage_aJdqnW",
        "VYjimI3xmYFd"
      ],
      "authorship_tag": "ABX9TyOc6z2/GCtnxJObY9h4gt2R",
      "include_colab_link": true
    },
    "kernelspec": {
      "name": "python3",
      "display_name": "Python 3"
    },
    "language_info": {
      "name": "python"
    }
  },
  "cells": [
    {
      "cell_type": "markdown",
      "metadata": {
        "id": "view-in-github",
        "colab_type": "text"
      },
      "source": [
        "<a href=\"https://colab.research.google.com/github/yashj1301/Python3-UpGrad-UMich/blob/master/Python%203.x/Upgrad/Projects/Project%202%20-%20Virat%20Kohli%20Performance%20Analysis/Virat%20Kohli.ipynb\" target=\"_parent\"><img src=\"https://colab.research.google.com/assets/colab-badge.svg\" alt=\"Open In Colab\"/></a>"
      ]
    },
    {
      "cell_type": "markdown",
      "source": [
        "## Analyzing Virat Kohli's Overall Performance"
      ],
      "metadata": {
        "id": "CsNZnAOaQqZz"
      }
    },
    {
      "cell_type": "markdown",
      "source": [
        "In this project, we will be analyzing Virat Kohli's performance from his debut to the very recent match - 2nd T20I against Australia. Let us import the necessary libraries first."
      ],
      "metadata": {
        "id": "Y6mygwYqKLvP"
      }
    },
    {
      "cell_type": "markdown",
      "source": [
        "### Importing necessary libraries"
      ],
      "metadata": {
        "id": "b7DHx_cQQwm0"
      }
    },
    {
      "cell_type": "code",
      "execution_count": 1,
      "metadata": {
        "id": "-S-mndc1N47q"
      },
      "outputs": [],
      "source": [
        "import numpy as np\n",
        "import pandas as pd\n",
        "import matplotlib.pyplot as plot\n",
        "import seaborn as cb\n",
        "import warnings as wr\n",
        "\n",
        "wr.filterwarnings('ignore')"
      ]
    },
    {
      "cell_type": "markdown",
      "source": [
        "### Importing Libraries to extract data from ESPN CricInfo Website"
      ],
      "metadata": {
        "id": "TZDBK5CuQzrJ"
      }
    },
    {
      "cell_type": "code",
      "source": [
        "!pip install html-table-parser-python3\n",
        "import urllib.request\n",
        "from pprint import pprint\n",
        "from html_table_parser.parser import HTMLTableParser"
      ],
      "metadata": {
        "id": "rypVP4DpOHH5"
      },
      "execution_count": null,
      "outputs": []
    },
    {
      "cell_type": "markdown",
      "source": [
        "Now, we will be using the __`HTMLTableParser`__ module to extract the data from the cricinfo website - https://stats.espncricinfo.com/ci/engine/player/253802.html?class=11;template=results;type=batting;view=innings . Let us go ahead."
      ],
      "metadata": {
        "id": "QI4sP1uZKbZW"
      }
    },
    {
      "cell_type": "markdown",
      "source": [
        "### Extracting Data"
      ],
      "metadata": {
        "id": "df7T5kV8RBHg"
      }
    },
    {
      "cell_type": "code",
      "source": [
        "# Opens a website and read its binary contents (HTTP Response Body)\n",
        "\n",
        "def url_get_contents(url):\n",
        "\n",
        "    #making request to the website\n",
        "    req = urllib.request.Request(url=url)\n",
        "    f = urllib.request.urlopen(req)\n",
        "\n",
        "    #reading contents of the website\n",
        "    return f.read()"
      ],
      "metadata": {
        "id": "v6H2I9ByOeyk"
      },
      "execution_count": 3,
      "outputs": []
    },
    {
      "cell_type": "code",
      "source": [
        "xhtml = url_get_contents('https://stats.espncricinfo.com/ci/engine/player/253802.html?class=11;template=results;type=batting;view=innings').decode('utf-8')\n",
        " \n",
        "# Defining the HTMLTableParser object\n",
        "p = HTMLTableParser()\n",
        "p.feed(xhtml)\n",
        " \n",
        "# converting the parsed data to\n",
        "# dataframe\n",
        "virat = pd.DataFrame(p.tables[3])\n",
        "virat.head()"
      ],
      "metadata": {
        "colab": {
          "base_uri": "https://localhost:8080/",
          "height": 206
        },
        "id": "4dCt2bLbOqiT",
        "outputId": "b485268a-54a2-4caf-ecea-db218b7ad62e"
      },
      "execution_count": 4,
      "outputs": [
        {
          "output_type": "execute_result",
          "data": {
            "text/plain": [
              "     0     1   2   3   4      5    6          7     8  9                10  \\\n",
              "0  Runs  Mins  BF  4s  6s     SR  Pos  Dismissal  Inns          Opposition   \n",
              "1    12    33  22   1   0  54.54    2        lbw     1     ODI v Sri Lanka   \n",
              "2    37    82  67   6   0  55.22    2     caught     2     ODI v Sri Lanka   \n",
              "3    25    40  38   4   0  65.78    1    run out     1     ODI v Sri Lanka   \n",
              "4    54    87  66   7   0  81.81    1     bowled     1     ODI v Sri Lanka   \n",
              "\n",
              "              11           12          13  \n",
              "0         Ground   Start Date              \n",
              "1       Dambulla  18 Aug 2008  ODI # 2742  \n",
              "2       Dambulla  20 Aug 2008  ODI # 2745  \n",
              "3  Colombo (RPS)  24 Aug 2008  ODI # 2750  \n",
              "4  Colombo (RPS)  27 Aug 2008  ODI # 2755  "
            ],
            "text/html": [
              "\n",
              "  <div id=\"df-b46077cb-066f-4eef-bd31-79d48011eb6a\">\n",
              "    <div class=\"colab-df-container\">\n",
              "      <div>\n",
              "<style scoped>\n",
              "    .dataframe tbody tr th:only-of-type {\n",
              "        vertical-align: middle;\n",
              "    }\n",
              "\n",
              "    .dataframe tbody tr th {\n",
              "        vertical-align: top;\n",
              "    }\n",
              "\n",
              "    .dataframe thead th {\n",
              "        text-align: right;\n",
              "    }\n",
              "</style>\n",
              "<table border=\"1\" class=\"dataframe\">\n",
              "  <thead>\n",
              "    <tr style=\"text-align: right;\">\n",
              "      <th></th>\n",
              "      <th>0</th>\n",
              "      <th>1</th>\n",
              "      <th>2</th>\n",
              "      <th>3</th>\n",
              "      <th>4</th>\n",
              "      <th>5</th>\n",
              "      <th>6</th>\n",
              "      <th>7</th>\n",
              "      <th>8</th>\n",
              "      <th>9</th>\n",
              "      <th>10</th>\n",
              "      <th>11</th>\n",
              "      <th>12</th>\n",
              "      <th>13</th>\n",
              "    </tr>\n",
              "  </thead>\n",
              "  <tbody>\n",
              "    <tr>\n",
              "      <th>0</th>\n",
              "      <td>Runs</td>\n",
              "      <td>Mins</td>\n",
              "      <td>BF</td>\n",
              "      <td>4s</td>\n",
              "      <td>6s</td>\n",
              "      <td>SR</td>\n",
              "      <td>Pos</td>\n",
              "      <td>Dismissal</td>\n",
              "      <td>Inns</td>\n",
              "      <td></td>\n",
              "      <td>Opposition</td>\n",
              "      <td>Ground</td>\n",
              "      <td>Start Date</td>\n",
              "      <td></td>\n",
              "    </tr>\n",
              "    <tr>\n",
              "      <th>1</th>\n",
              "      <td>12</td>\n",
              "      <td>33</td>\n",
              "      <td>22</td>\n",
              "      <td>1</td>\n",
              "      <td>0</td>\n",
              "      <td>54.54</td>\n",
              "      <td>2</td>\n",
              "      <td>lbw</td>\n",
              "      <td>1</td>\n",
              "      <td></td>\n",
              "      <td>ODI v Sri Lanka</td>\n",
              "      <td>Dambulla</td>\n",
              "      <td>18 Aug 2008</td>\n",
              "      <td>ODI # 2742</td>\n",
              "    </tr>\n",
              "    <tr>\n",
              "      <th>2</th>\n",
              "      <td>37</td>\n",
              "      <td>82</td>\n",
              "      <td>67</td>\n",
              "      <td>6</td>\n",
              "      <td>0</td>\n",
              "      <td>55.22</td>\n",
              "      <td>2</td>\n",
              "      <td>caught</td>\n",
              "      <td>2</td>\n",
              "      <td></td>\n",
              "      <td>ODI v Sri Lanka</td>\n",
              "      <td>Dambulla</td>\n",
              "      <td>20 Aug 2008</td>\n",
              "      <td>ODI # 2745</td>\n",
              "    </tr>\n",
              "    <tr>\n",
              "      <th>3</th>\n",
              "      <td>25</td>\n",
              "      <td>40</td>\n",
              "      <td>38</td>\n",
              "      <td>4</td>\n",
              "      <td>0</td>\n",
              "      <td>65.78</td>\n",
              "      <td>1</td>\n",
              "      <td>run out</td>\n",
              "      <td>1</td>\n",
              "      <td></td>\n",
              "      <td>ODI v Sri Lanka</td>\n",
              "      <td>Colombo (RPS)</td>\n",
              "      <td>24 Aug 2008</td>\n",
              "      <td>ODI # 2750</td>\n",
              "    </tr>\n",
              "    <tr>\n",
              "      <th>4</th>\n",
              "      <td>54</td>\n",
              "      <td>87</td>\n",
              "      <td>66</td>\n",
              "      <td>7</td>\n",
              "      <td>0</td>\n",
              "      <td>81.81</td>\n",
              "      <td>1</td>\n",
              "      <td>bowled</td>\n",
              "      <td>1</td>\n",
              "      <td></td>\n",
              "      <td>ODI v Sri Lanka</td>\n",
              "      <td>Colombo (RPS)</td>\n",
              "      <td>27 Aug 2008</td>\n",
              "      <td>ODI # 2755</td>\n",
              "    </tr>\n",
              "  </tbody>\n",
              "</table>\n",
              "</div>\n",
              "      <button class=\"colab-df-convert\" onclick=\"convertToInteractive('df-b46077cb-066f-4eef-bd31-79d48011eb6a')\"\n",
              "              title=\"Convert this dataframe to an interactive table.\"\n",
              "              style=\"display:none;\">\n",
              "        \n",
              "  <svg xmlns=\"http://www.w3.org/2000/svg\" height=\"24px\"viewBox=\"0 0 24 24\"\n",
              "       width=\"24px\">\n",
              "    <path d=\"M0 0h24v24H0V0z\" fill=\"none\"/>\n",
              "    <path d=\"M18.56 5.44l.94 2.06.94-2.06 2.06-.94-2.06-.94-.94-2.06-.94 2.06-2.06.94zm-11 1L8.5 8.5l.94-2.06 2.06-.94-2.06-.94L8.5 2.5l-.94 2.06-2.06.94zm10 10l.94 2.06.94-2.06 2.06-.94-2.06-.94-.94-2.06-.94 2.06-2.06.94z\"/><path d=\"M17.41 7.96l-1.37-1.37c-.4-.4-.92-.59-1.43-.59-.52 0-1.04.2-1.43.59L10.3 9.45l-7.72 7.72c-.78.78-.78 2.05 0 2.83L4 21.41c.39.39.9.59 1.41.59.51 0 1.02-.2 1.41-.59l7.78-7.78 2.81-2.81c.8-.78.8-2.07 0-2.86zM5.41 20L4 18.59l7.72-7.72 1.47 1.35L5.41 20z\"/>\n",
              "  </svg>\n",
              "      </button>\n",
              "      \n",
              "  <style>\n",
              "    .colab-df-container {\n",
              "      display:flex;\n",
              "      flex-wrap:wrap;\n",
              "      gap: 12px;\n",
              "    }\n",
              "\n",
              "    .colab-df-convert {\n",
              "      background-color: #E8F0FE;\n",
              "      border: none;\n",
              "      border-radius: 50%;\n",
              "      cursor: pointer;\n",
              "      display: none;\n",
              "      fill: #1967D2;\n",
              "      height: 32px;\n",
              "      padding: 0 0 0 0;\n",
              "      width: 32px;\n",
              "    }\n",
              "\n",
              "    .colab-df-convert:hover {\n",
              "      background-color: #E2EBFA;\n",
              "      box-shadow: 0px 1px 2px rgba(60, 64, 67, 0.3), 0px 1px 3px 1px rgba(60, 64, 67, 0.15);\n",
              "      fill: #174EA6;\n",
              "    }\n",
              "\n",
              "    [theme=dark] .colab-df-convert {\n",
              "      background-color: #3B4455;\n",
              "      fill: #D2E3FC;\n",
              "    }\n",
              "\n",
              "    [theme=dark] .colab-df-convert:hover {\n",
              "      background-color: #434B5C;\n",
              "      box-shadow: 0px 1px 3px 1px rgba(0, 0, 0, 0.15);\n",
              "      filter: drop-shadow(0px 1px 2px rgba(0, 0, 0, 0.3));\n",
              "      fill: #FFFFFF;\n",
              "    }\n",
              "  </style>\n",
              "\n",
              "      <script>\n",
              "        const buttonEl =\n",
              "          document.querySelector('#df-b46077cb-066f-4eef-bd31-79d48011eb6a button.colab-df-convert');\n",
              "        buttonEl.style.display =\n",
              "          google.colab.kernel.accessAllowed ? 'block' : 'none';\n",
              "\n",
              "        async function convertToInteractive(key) {\n",
              "          const element = document.querySelector('#df-b46077cb-066f-4eef-bd31-79d48011eb6a');\n",
              "          const dataTable =\n",
              "            await google.colab.kernel.invokeFunction('convertToInteractive',\n",
              "                                                     [key], {});\n",
              "          if (!dataTable) return;\n",
              "\n",
              "          const docLinkHtml = 'Like what you see? Visit the ' +\n",
              "            '<a target=\"_blank\" href=https://colab.research.google.com/notebooks/data_table.ipynb>data table notebook</a>'\n",
              "            + ' to learn more about interactive tables.';\n",
              "          element.innerHTML = '';\n",
              "          dataTable['output_type'] = 'display_data';\n",
              "          await google.colab.output.renderOutput(dataTable, element);\n",
              "          const docLink = document.createElement('div');\n",
              "          docLink.innerHTML = docLinkHtml;\n",
              "          element.appendChild(docLink);\n",
              "        }\n",
              "      </script>\n",
              "    </div>\n",
              "  </div>\n",
              "  "
            ]
          },
          "metadata": {},
          "execution_count": 4
        }
      ]
    },
    {
      "cell_type": "markdown",
      "source": [
        "We have extracted the data. Now, it is time to get going. We will perform the data cleaning first. "
      ],
      "metadata": {
        "id": "lkbGEs5FQihb"
      }
    },
    {
      "cell_type": "markdown",
      "source": [
        "### Preparing the DataFrame"
      ],
      "metadata": {
        "id": "iq7o4FzSRFaw"
      }
    },
    {
      "cell_type": "markdown",
      "source": [
        "Now, we will be preparing our dataframe. Our first order of business is to modify the metadata of the dataframe. Let us see."
      ],
      "metadata": {
        "id": "es6rVXcDTNNa"
      }
    },
    {
      "cell_type": "markdown",
      "source": [
        "#### Renaming Columns"
      ],
      "metadata": {
        "id": "rzhdJIxfRQPX"
      }
    },
    {
      "cell_type": "markdown",
      "source": [
        "First, we will rename the columns, and remove the row containing the names of the columns. Let us do that. "
      ],
      "metadata": {
        "id": "or2tNUlQRKHC"
      }
    },
    {
      "cell_type": "code",
      "source": [
        "virat.columns=virat.loc[0].values\n",
        "virat.head()"
      ],
      "metadata": {
        "colab": {
          "base_uri": "https://localhost:8080/",
          "height": 206
        },
        "id": "MfhJWJiHO_-X",
        "outputId": "090b2e86-333e-49c5-9c19-d89547a6f8e7"
      },
      "execution_count": 5,
      "outputs": [
        {
          "output_type": "execute_result",
          "data": {
            "text/plain": [
              "   Runs  Mins  BF  4s  6s     SR  Pos  Dismissal  Inns         Opposition  \\\n",
              "0  Runs  Mins  BF  4s  6s     SR  Pos  Dismissal  Inns         Opposition   \n",
              "1    12    33  22   1   0  54.54    2        lbw     1    ODI v Sri Lanka   \n",
              "2    37    82  67   6   0  55.22    2     caught     2    ODI v Sri Lanka   \n",
              "3    25    40  38   4   0  65.78    1    run out     1    ODI v Sri Lanka   \n",
              "4    54    87  66   7   0  81.81    1     bowled     1    ODI v Sri Lanka   \n",
              "\n",
              "          Ground   Start Date              \n",
              "0         Ground   Start Date              \n",
              "1       Dambulla  18 Aug 2008  ODI # 2742  \n",
              "2       Dambulla  20 Aug 2008  ODI # 2745  \n",
              "3  Colombo (RPS)  24 Aug 2008  ODI # 2750  \n",
              "4  Colombo (RPS)  27 Aug 2008  ODI # 2755  "
            ],
            "text/html": [
              "\n",
              "  <div id=\"df-35937045-2d30-4c68-a79e-1fb98d2386da\">\n",
              "    <div class=\"colab-df-container\">\n",
              "      <div>\n",
              "<style scoped>\n",
              "    .dataframe tbody tr th:only-of-type {\n",
              "        vertical-align: middle;\n",
              "    }\n",
              "\n",
              "    .dataframe tbody tr th {\n",
              "        vertical-align: top;\n",
              "    }\n",
              "\n",
              "    .dataframe thead th {\n",
              "        text-align: right;\n",
              "    }\n",
              "</style>\n",
              "<table border=\"1\" class=\"dataframe\">\n",
              "  <thead>\n",
              "    <tr style=\"text-align: right;\">\n",
              "      <th></th>\n",
              "      <th>Runs</th>\n",
              "      <th>Mins</th>\n",
              "      <th>BF</th>\n",
              "      <th>4s</th>\n",
              "      <th>6s</th>\n",
              "      <th>SR</th>\n",
              "      <th>Pos</th>\n",
              "      <th>Dismissal</th>\n",
              "      <th>Inns</th>\n",
              "      <th></th>\n",
              "      <th>Opposition</th>\n",
              "      <th>Ground</th>\n",
              "      <th>Start Date</th>\n",
              "      <th></th>\n",
              "    </tr>\n",
              "  </thead>\n",
              "  <tbody>\n",
              "    <tr>\n",
              "      <th>0</th>\n",
              "      <td>Runs</td>\n",
              "      <td>Mins</td>\n",
              "      <td>BF</td>\n",
              "      <td>4s</td>\n",
              "      <td>6s</td>\n",
              "      <td>SR</td>\n",
              "      <td>Pos</td>\n",
              "      <td>Dismissal</td>\n",
              "      <td>Inns</td>\n",
              "      <td></td>\n",
              "      <td>Opposition</td>\n",
              "      <td>Ground</td>\n",
              "      <td>Start Date</td>\n",
              "      <td></td>\n",
              "    </tr>\n",
              "    <tr>\n",
              "      <th>1</th>\n",
              "      <td>12</td>\n",
              "      <td>33</td>\n",
              "      <td>22</td>\n",
              "      <td>1</td>\n",
              "      <td>0</td>\n",
              "      <td>54.54</td>\n",
              "      <td>2</td>\n",
              "      <td>lbw</td>\n",
              "      <td>1</td>\n",
              "      <td></td>\n",
              "      <td>ODI v Sri Lanka</td>\n",
              "      <td>Dambulla</td>\n",
              "      <td>18 Aug 2008</td>\n",
              "      <td>ODI # 2742</td>\n",
              "    </tr>\n",
              "    <tr>\n",
              "      <th>2</th>\n",
              "      <td>37</td>\n",
              "      <td>82</td>\n",
              "      <td>67</td>\n",
              "      <td>6</td>\n",
              "      <td>0</td>\n",
              "      <td>55.22</td>\n",
              "      <td>2</td>\n",
              "      <td>caught</td>\n",
              "      <td>2</td>\n",
              "      <td></td>\n",
              "      <td>ODI v Sri Lanka</td>\n",
              "      <td>Dambulla</td>\n",
              "      <td>20 Aug 2008</td>\n",
              "      <td>ODI # 2745</td>\n",
              "    </tr>\n",
              "    <tr>\n",
              "      <th>3</th>\n",
              "      <td>25</td>\n",
              "      <td>40</td>\n",
              "      <td>38</td>\n",
              "      <td>4</td>\n",
              "      <td>0</td>\n",
              "      <td>65.78</td>\n",
              "      <td>1</td>\n",
              "      <td>run out</td>\n",
              "      <td>1</td>\n",
              "      <td></td>\n",
              "      <td>ODI v Sri Lanka</td>\n",
              "      <td>Colombo (RPS)</td>\n",
              "      <td>24 Aug 2008</td>\n",
              "      <td>ODI # 2750</td>\n",
              "    </tr>\n",
              "    <tr>\n",
              "      <th>4</th>\n",
              "      <td>54</td>\n",
              "      <td>87</td>\n",
              "      <td>66</td>\n",
              "      <td>7</td>\n",
              "      <td>0</td>\n",
              "      <td>81.81</td>\n",
              "      <td>1</td>\n",
              "      <td>bowled</td>\n",
              "      <td>1</td>\n",
              "      <td></td>\n",
              "      <td>ODI v Sri Lanka</td>\n",
              "      <td>Colombo (RPS)</td>\n",
              "      <td>27 Aug 2008</td>\n",
              "      <td>ODI # 2755</td>\n",
              "    </tr>\n",
              "  </tbody>\n",
              "</table>\n",
              "</div>\n",
              "      <button class=\"colab-df-convert\" onclick=\"convertToInteractive('df-35937045-2d30-4c68-a79e-1fb98d2386da')\"\n",
              "              title=\"Convert this dataframe to an interactive table.\"\n",
              "              style=\"display:none;\">\n",
              "        \n",
              "  <svg xmlns=\"http://www.w3.org/2000/svg\" height=\"24px\"viewBox=\"0 0 24 24\"\n",
              "       width=\"24px\">\n",
              "    <path d=\"M0 0h24v24H0V0z\" fill=\"none\"/>\n",
              "    <path d=\"M18.56 5.44l.94 2.06.94-2.06 2.06-.94-2.06-.94-.94-2.06-.94 2.06-2.06.94zm-11 1L8.5 8.5l.94-2.06 2.06-.94-2.06-.94L8.5 2.5l-.94 2.06-2.06.94zm10 10l.94 2.06.94-2.06 2.06-.94-2.06-.94-.94-2.06-.94 2.06-2.06.94z\"/><path d=\"M17.41 7.96l-1.37-1.37c-.4-.4-.92-.59-1.43-.59-.52 0-1.04.2-1.43.59L10.3 9.45l-7.72 7.72c-.78.78-.78 2.05 0 2.83L4 21.41c.39.39.9.59 1.41.59.51 0 1.02-.2 1.41-.59l7.78-7.78 2.81-2.81c.8-.78.8-2.07 0-2.86zM5.41 20L4 18.59l7.72-7.72 1.47 1.35L5.41 20z\"/>\n",
              "  </svg>\n",
              "      </button>\n",
              "      \n",
              "  <style>\n",
              "    .colab-df-container {\n",
              "      display:flex;\n",
              "      flex-wrap:wrap;\n",
              "      gap: 12px;\n",
              "    }\n",
              "\n",
              "    .colab-df-convert {\n",
              "      background-color: #E8F0FE;\n",
              "      border: none;\n",
              "      border-radius: 50%;\n",
              "      cursor: pointer;\n",
              "      display: none;\n",
              "      fill: #1967D2;\n",
              "      height: 32px;\n",
              "      padding: 0 0 0 0;\n",
              "      width: 32px;\n",
              "    }\n",
              "\n",
              "    .colab-df-convert:hover {\n",
              "      background-color: #E2EBFA;\n",
              "      box-shadow: 0px 1px 2px rgba(60, 64, 67, 0.3), 0px 1px 3px 1px rgba(60, 64, 67, 0.15);\n",
              "      fill: #174EA6;\n",
              "    }\n",
              "\n",
              "    [theme=dark] .colab-df-convert {\n",
              "      background-color: #3B4455;\n",
              "      fill: #D2E3FC;\n",
              "    }\n",
              "\n",
              "    [theme=dark] .colab-df-convert:hover {\n",
              "      background-color: #434B5C;\n",
              "      box-shadow: 0px 1px 3px 1px rgba(0, 0, 0, 0.15);\n",
              "      filter: drop-shadow(0px 1px 2px rgba(0, 0, 0, 0.3));\n",
              "      fill: #FFFFFF;\n",
              "    }\n",
              "  </style>\n",
              "\n",
              "      <script>\n",
              "        const buttonEl =\n",
              "          document.querySelector('#df-35937045-2d30-4c68-a79e-1fb98d2386da button.colab-df-convert');\n",
              "        buttonEl.style.display =\n",
              "          google.colab.kernel.accessAllowed ? 'block' : 'none';\n",
              "\n",
              "        async function convertToInteractive(key) {\n",
              "          const element = document.querySelector('#df-35937045-2d30-4c68-a79e-1fb98d2386da');\n",
              "          const dataTable =\n",
              "            await google.colab.kernel.invokeFunction('convertToInteractive',\n",
              "                                                     [key], {});\n",
              "          if (!dataTable) return;\n",
              "\n",
              "          const docLinkHtml = 'Like what you see? Visit the ' +\n",
              "            '<a target=\"_blank\" href=https://colab.research.google.com/notebooks/data_table.ipynb>data table notebook</a>'\n",
              "            + ' to learn more about interactive tables.';\n",
              "          element.innerHTML = '';\n",
              "          dataTable['output_type'] = 'display_data';\n",
              "          await google.colab.output.renderOutput(dataTable, element);\n",
              "          const docLink = document.createElement('div');\n",
              "          docLink.innerHTML = docLinkHtml;\n",
              "          element.appendChild(docLink);\n",
              "        }\n",
              "      </script>\n",
              "    </div>\n",
              "  </div>\n",
              "  "
            ]
          },
          "metadata": {},
          "execution_count": 5
        }
      ]
    },
    {
      "cell_type": "markdown",
      "source": [
        "#### Removing unnecessary rows and columns"
      ],
      "metadata": {
        "id": "rJUn6HbMSbHA"
      }
    },
    {
      "cell_type": "markdown",
      "source": [
        "Now, we will remove the first row, and last column. Let us see. "
      ],
      "metadata": {
        "id": "b26dx2dUSjat"
      }
    },
    {
      "cell_type": "code",
      "source": [
        "virat = virat.iloc[1:,:-1]\n",
        "virat.head()"
      ],
      "metadata": {
        "colab": {
          "base_uri": "https://localhost:8080/",
          "height": 206
        },
        "id": "eRGCNh-YQSOn",
        "outputId": "dc6cb0dd-e9bf-4c5f-e44f-c9398ad02189"
      },
      "execution_count": 6,
      "outputs": [
        {
          "output_type": "execute_result",
          "data": {
            "text/plain": [
              "  Runs Mins  BF 4s 6s     SR Pos Dismissal Inns         Opposition  \\\n",
              "1   12   33  22  1  0  54.54   2       lbw    1    ODI v Sri Lanka   \n",
              "2   37   82  67  6  0  55.22   2    caught    2    ODI v Sri Lanka   \n",
              "3   25   40  38  4  0  65.78   1   run out    1    ODI v Sri Lanka   \n",
              "4   54   87  66  7  0  81.81   1    bowled    1    ODI v Sri Lanka   \n",
              "5   31   45  46  3  1  67.39   1       lbw    2    ODI v Sri Lanka   \n",
              "\n",
              "          Ground   Start Date  \n",
              "1       Dambulla  18 Aug 2008  \n",
              "2       Dambulla  20 Aug 2008  \n",
              "3  Colombo (RPS)  24 Aug 2008  \n",
              "4  Colombo (RPS)  27 Aug 2008  \n",
              "5  Colombo (RPS)  29 Aug 2008  "
            ],
            "text/html": [
              "\n",
              "  <div id=\"df-d862fa56-27f1-4f03-b9e5-8121f9d37bde\">\n",
              "    <div class=\"colab-df-container\">\n",
              "      <div>\n",
              "<style scoped>\n",
              "    .dataframe tbody tr th:only-of-type {\n",
              "        vertical-align: middle;\n",
              "    }\n",
              "\n",
              "    .dataframe tbody tr th {\n",
              "        vertical-align: top;\n",
              "    }\n",
              "\n",
              "    .dataframe thead th {\n",
              "        text-align: right;\n",
              "    }\n",
              "</style>\n",
              "<table border=\"1\" class=\"dataframe\">\n",
              "  <thead>\n",
              "    <tr style=\"text-align: right;\">\n",
              "      <th></th>\n",
              "      <th>Runs</th>\n",
              "      <th>Mins</th>\n",
              "      <th>BF</th>\n",
              "      <th>4s</th>\n",
              "      <th>6s</th>\n",
              "      <th>SR</th>\n",
              "      <th>Pos</th>\n",
              "      <th>Dismissal</th>\n",
              "      <th>Inns</th>\n",
              "      <th></th>\n",
              "      <th>Opposition</th>\n",
              "      <th>Ground</th>\n",
              "      <th>Start Date</th>\n",
              "    </tr>\n",
              "  </thead>\n",
              "  <tbody>\n",
              "    <tr>\n",
              "      <th>1</th>\n",
              "      <td>12</td>\n",
              "      <td>33</td>\n",
              "      <td>22</td>\n",
              "      <td>1</td>\n",
              "      <td>0</td>\n",
              "      <td>54.54</td>\n",
              "      <td>2</td>\n",
              "      <td>lbw</td>\n",
              "      <td>1</td>\n",
              "      <td></td>\n",
              "      <td>ODI v Sri Lanka</td>\n",
              "      <td>Dambulla</td>\n",
              "      <td>18 Aug 2008</td>\n",
              "    </tr>\n",
              "    <tr>\n",
              "      <th>2</th>\n",
              "      <td>37</td>\n",
              "      <td>82</td>\n",
              "      <td>67</td>\n",
              "      <td>6</td>\n",
              "      <td>0</td>\n",
              "      <td>55.22</td>\n",
              "      <td>2</td>\n",
              "      <td>caught</td>\n",
              "      <td>2</td>\n",
              "      <td></td>\n",
              "      <td>ODI v Sri Lanka</td>\n",
              "      <td>Dambulla</td>\n",
              "      <td>20 Aug 2008</td>\n",
              "    </tr>\n",
              "    <tr>\n",
              "      <th>3</th>\n",
              "      <td>25</td>\n",
              "      <td>40</td>\n",
              "      <td>38</td>\n",
              "      <td>4</td>\n",
              "      <td>0</td>\n",
              "      <td>65.78</td>\n",
              "      <td>1</td>\n",
              "      <td>run out</td>\n",
              "      <td>1</td>\n",
              "      <td></td>\n",
              "      <td>ODI v Sri Lanka</td>\n",
              "      <td>Colombo (RPS)</td>\n",
              "      <td>24 Aug 2008</td>\n",
              "    </tr>\n",
              "    <tr>\n",
              "      <th>4</th>\n",
              "      <td>54</td>\n",
              "      <td>87</td>\n",
              "      <td>66</td>\n",
              "      <td>7</td>\n",
              "      <td>0</td>\n",
              "      <td>81.81</td>\n",
              "      <td>1</td>\n",
              "      <td>bowled</td>\n",
              "      <td>1</td>\n",
              "      <td></td>\n",
              "      <td>ODI v Sri Lanka</td>\n",
              "      <td>Colombo (RPS)</td>\n",
              "      <td>27 Aug 2008</td>\n",
              "    </tr>\n",
              "    <tr>\n",
              "      <th>5</th>\n",
              "      <td>31</td>\n",
              "      <td>45</td>\n",
              "      <td>46</td>\n",
              "      <td>3</td>\n",
              "      <td>1</td>\n",
              "      <td>67.39</td>\n",
              "      <td>1</td>\n",
              "      <td>lbw</td>\n",
              "      <td>2</td>\n",
              "      <td></td>\n",
              "      <td>ODI v Sri Lanka</td>\n",
              "      <td>Colombo (RPS)</td>\n",
              "      <td>29 Aug 2008</td>\n",
              "    </tr>\n",
              "  </tbody>\n",
              "</table>\n",
              "</div>\n",
              "      <button class=\"colab-df-convert\" onclick=\"convertToInteractive('df-d862fa56-27f1-4f03-b9e5-8121f9d37bde')\"\n",
              "              title=\"Convert this dataframe to an interactive table.\"\n",
              "              style=\"display:none;\">\n",
              "        \n",
              "  <svg xmlns=\"http://www.w3.org/2000/svg\" height=\"24px\"viewBox=\"0 0 24 24\"\n",
              "       width=\"24px\">\n",
              "    <path d=\"M0 0h24v24H0V0z\" fill=\"none\"/>\n",
              "    <path d=\"M18.56 5.44l.94 2.06.94-2.06 2.06-.94-2.06-.94-.94-2.06-.94 2.06-2.06.94zm-11 1L8.5 8.5l.94-2.06 2.06-.94-2.06-.94L8.5 2.5l-.94 2.06-2.06.94zm10 10l.94 2.06.94-2.06 2.06-.94-2.06-.94-.94-2.06-.94 2.06-2.06.94z\"/><path d=\"M17.41 7.96l-1.37-1.37c-.4-.4-.92-.59-1.43-.59-.52 0-1.04.2-1.43.59L10.3 9.45l-7.72 7.72c-.78.78-.78 2.05 0 2.83L4 21.41c.39.39.9.59 1.41.59.51 0 1.02-.2 1.41-.59l7.78-7.78 2.81-2.81c.8-.78.8-2.07 0-2.86zM5.41 20L4 18.59l7.72-7.72 1.47 1.35L5.41 20z\"/>\n",
              "  </svg>\n",
              "      </button>\n",
              "      \n",
              "  <style>\n",
              "    .colab-df-container {\n",
              "      display:flex;\n",
              "      flex-wrap:wrap;\n",
              "      gap: 12px;\n",
              "    }\n",
              "\n",
              "    .colab-df-convert {\n",
              "      background-color: #E8F0FE;\n",
              "      border: none;\n",
              "      border-radius: 50%;\n",
              "      cursor: pointer;\n",
              "      display: none;\n",
              "      fill: #1967D2;\n",
              "      height: 32px;\n",
              "      padding: 0 0 0 0;\n",
              "      width: 32px;\n",
              "    }\n",
              "\n",
              "    .colab-df-convert:hover {\n",
              "      background-color: #E2EBFA;\n",
              "      box-shadow: 0px 1px 2px rgba(60, 64, 67, 0.3), 0px 1px 3px 1px rgba(60, 64, 67, 0.15);\n",
              "      fill: #174EA6;\n",
              "    }\n",
              "\n",
              "    [theme=dark] .colab-df-convert {\n",
              "      background-color: #3B4455;\n",
              "      fill: #D2E3FC;\n",
              "    }\n",
              "\n",
              "    [theme=dark] .colab-df-convert:hover {\n",
              "      background-color: #434B5C;\n",
              "      box-shadow: 0px 1px 3px 1px rgba(0, 0, 0, 0.15);\n",
              "      filter: drop-shadow(0px 1px 2px rgba(0, 0, 0, 0.3));\n",
              "      fill: #FFFFFF;\n",
              "    }\n",
              "  </style>\n",
              "\n",
              "      <script>\n",
              "        const buttonEl =\n",
              "          document.querySelector('#df-d862fa56-27f1-4f03-b9e5-8121f9d37bde button.colab-df-convert');\n",
              "        buttonEl.style.display =\n",
              "          google.colab.kernel.accessAllowed ? 'block' : 'none';\n",
              "\n",
              "        async function convertToInteractive(key) {\n",
              "          const element = document.querySelector('#df-d862fa56-27f1-4f03-b9e5-8121f9d37bde');\n",
              "          const dataTable =\n",
              "            await google.colab.kernel.invokeFunction('convertToInteractive',\n",
              "                                                     [key], {});\n",
              "          if (!dataTable) return;\n",
              "\n",
              "          const docLinkHtml = 'Like what you see? Visit the ' +\n",
              "            '<a target=\"_blank\" href=https://colab.research.google.com/notebooks/data_table.ipynb>data table notebook</a>'\n",
              "            + ' to learn more about interactive tables.';\n",
              "          element.innerHTML = '';\n",
              "          dataTable['output_type'] = 'display_data';\n",
              "          await google.colab.output.renderOutput(dataTable, element);\n",
              "          const docLink = document.createElement('div');\n",
              "          docLink.innerHTML = docLinkHtml;\n",
              "          element.appendChild(docLink);\n",
              "        }\n",
              "      </script>\n",
              "    </div>\n",
              "  </div>\n",
              "  "
            ]
          },
          "metadata": {},
          "execution_count": 6
        }
      ]
    },
    {
      "cell_type": "markdown",
      "source": [
        "Now, our dataframe is ready for inspection. let us inspect the dataframe. Let us do that."
      ],
      "metadata": {
        "id": "1evoZ6v7TZ-p"
      }
    },
    {
      "cell_type": "code",
      "source": [
        "virat.info()"
      ],
      "metadata": {
        "colab": {
          "base_uri": "https://localhost:8080/"
        },
        "id": "2XFq7WUxSst7",
        "outputId": "32b50952-a877-4545-c8c0-b9f584fa7153"
      },
      "execution_count": 7,
      "outputs": [
        {
          "output_type": "stream",
          "name": "stdout",
          "text": [
            "<class 'pandas.core.frame.DataFrame'>\n",
            "RangeIndex: 548 entries, 1 to 548\n",
            "Data columns (total 13 columns):\n",
            " #   Column      Non-Null Count  Dtype \n",
            "---  ------      --------------  ----- \n",
            " 0   Runs        548 non-null    object\n",
            " 1   Mins        548 non-null    object\n",
            " 2   BF          548 non-null    object\n",
            " 3   4s          548 non-null    object\n",
            " 4   6s          548 non-null    object\n",
            " 5   SR          548 non-null    object\n",
            " 6   Pos         548 non-null    object\n",
            " 7   Dismissal   548 non-null    object\n",
            " 8   Inns        548 non-null    object\n",
            " 9               548 non-null    object\n",
            " 10  Opposition  548 non-null    object\n",
            " 11  Ground      548 non-null    object\n",
            " 12  Start Date  548 non-null    object\n",
            "dtypes: object(13)\n",
            "memory usage: 55.8+ KB\n"
          ]
        }
      ]
    },
    {
      "cell_type": "code",
      "source": [
        "orig = virat.shape\n",
        "orig"
      ],
      "metadata": {
        "colab": {
          "base_uri": "https://localhost:8080/"
        },
        "id": "UceXMcojcBHz",
        "outputId": "a306e271-3fb0-4b8c-e586-d4ad32b5a7b9"
      },
      "execution_count": 8,
      "outputs": [
        {
          "output_type": "execute_result",
          "data": {
            "text/plain": [
              "(548, 13)"
            ]
          },
          "metadata": {},
          "execution_count": 8
        }
      ]
    },
    {
      "cell_type": "markdown",
      "source": [
        "Now, we can proceed towards cleaning the dataframe. Let us start."
      ],
      "metadata": {
        "id": "LfPxkJu8dlpi"
      }
    },
    {
      "cell_type": "markdown",
      "source": [
        "### Cleaning the Data"
      ],
      "metadata": {
        "id": "WTage_aJdqnW"
      }
    },
    {
      "cell_type": "markdown",
      "source": [
        "We can clearly see that our dataframe has an additional column. Let us see what it is. "
      ],
      "metadata": {
        "id": "TgXrePQDT-l_"
      }
    },
    {
      "cell_type": "code",
      "source": [
        "virat[virat.columns[9]]"
      ],
      "metadata": {
        "colab": {
          "base_uri": "https://localhost:8080/"
        },
        "id": "o_ffSikvTw-M",
        "outputId": "098cadef-f2db-404c-ba03-9ce44e9b82d7"
      },
      "execution_count": 9,
      "outputs": [
        {
          "output_type": "execute_result",
          "data": {
            "text/plain": [
              "1       \n",
              "2       \n",
              "3       \n",
              "4       \n",
              "5       \n",
              "      ..\n",
              "544     \n",
              "545     \n",
              "546     \n",
              "547     \n",
              "548     \n",
              "Name: , Length: 548, dtype: object"
            ]
          },
          "metadata": {},
          "execution_count": 9
        }
      ]
    },
    {
      "cell_type": "markdown",
      "source": [
        "The column has blank values, hence we need to remove it. Let us do that. "
      ],
      "metadata": {
        "id": "WuNry1qzUqxO"
      }
    },
    {
      "cell_type": "code",
      "source": [
        "virat.drop('',axis=1,inplace=True)\n",
        "virat.columns"
      ],
      "metadata": {
        "colab": {
          "base_uri": "https://localhost:8080/"
        },
        "id": "NkuMMzUvT3SK",
        "outputId": "c08cea66-d3a3-4fef-b981-20fd57d225fb"
      },
      "execution_count": 10,
      "outputs": [
        {
          "output_type": "execute_result",
          "data": {
            "text/plain": [
              "Index(['Runs', 'Mins', 'BF', '4s', '6s', 'SR', 'Pos', 'Dismissal', 'Inns',\n",
              "       'Opposition', 'Ground', 'Start Date'],\n",
              "      dtype='object')"
            ]
          },
          "metadata": {},
          "execution_count": 10
        }
      ]
    },
    {
      "cell_type": "code",
      "source": [
        "virat.info()"
      ],
      "metadata": {
        "colab": {
          "base_uri": "https://localhost:8080/"
        },
        "id": "1rDOL_GCUyrf",
        "outputId": "25759e63-6f4f-4848-90bf-3ccd5bb7fa91"
      },
      "execution_count": 11,
      "outputs": [
        {
          "output_type": "stream",
          "name": "stdout",
          "text": [
            "<class 'pandas.core.frame.DataFrame'>\n",
            "RangeIndex: 548 entries, 1 to 548\n",
            "Data columns (total 12 columns):\n",
            " #   Column      Non-Null Count  Dtype \n",
            "---  ------      --------------  ----- \n",
            " 0   Runs        548 non-null    object\n",
            " 1   Mins        548 non-null    object\n",
            " 2   BF          548 non-null    object\n",
            " 3   4s          548 non-null    object\n",
            " 4   6s          548 non-null    object\n",
            " 5   SR          548 non-null    object\n",
            " 6   Pos         548 non-null    object\n",
            " 7   Dismissal   548 non-null    object\n",
            " 8   Inns        548 non-null    object\n",
            " 9   Opposition  548 non-null    object\n",
            " 10  Ground      548 non-null    object\n",
            " 11  Start Date  548 non-null    object\n",
            "dtypes: object(12)\n",
            "memory usage: 51.5+ KB\n"
          ]
        }
      ]
    },
    {
      "cell_type": "markdown",
      "source": [
        "Now, let us change the data types for each column. We have `7 numerical columns - runs, mins, bf, 4s, 6s, pos,inns` - and `one float column - SR`. Let us change them now."
      ],
      "metadata": {
        "id": "EPuTvAYVWXhY"
      }
    },
    {
      "cell_type": "code",
      "source": [
        "numeric = ['Runs','Mins','BF','4s','6s','Pos','Inns']\n",
        "decimal = 'SR'"
      ],
      "metadata": {
        "id": "CuCfp3faWTtZ"
      },
      "execution_count": 12,
      "outputs": []
    },
    {
      "cell_type": "markdown",
      "source": [
        "#### Numeric Columns"
      ],
      "metadata": {
        "id": "Qz5hR2Ijd921"
      }
    },
    {
      "cell_type": "code",
      "source": [
        "virat[numeric].astype(int)"
      ],
      "metadata": {
        "colab": {
          "base_uri": "https://localhost:8080/",
          "height": 230
        },
        "id": "NkmKnQOSW9mj",
        "outputId": "3e95ebd5-a1f8-48fd-d24a-994b01da0b03"
      },
      "execution_count": 13,
      "outputs": [
        {
          "output_type": "error",
          "ename": "ValueError",
          "evalue": "ignored",
          "traceback": [
            "\u001b[0;31m---------------------------------------------------------------------------\u001b[0m",
            "\u001b[0;31mValueError\u001b[0m                                Traceback (most recent call last)",
            "\u001b[0;32m<ipython-input-13-6f81445a60c4>\u001b[0m in \u001b[0;36m<module>\u001b[0;34m\u001b[0m\n\u001b[0;32m----> 1\u001b[0;31m \u001b[0mvirat\u001b[0m\u001b[0;34m[\u001b[0m\u001b[0mnumeric\u001b[0m\u001b[0;34m]\u001b[0m\u001b[0;34m.\u001b[0m\u001b[0mastype\u001b[0m\u001b[0;34m(\u001b[0m\u001b[0mint\u001b[0m\u001b[0;34m)\u001b[0m\u001b[0;34m\u001b[0m\u001b[0;34m\u001b[0m\u001b[0m\n\u001b[0m",
            "\u001b[0;32m/usr/local/lib/python3.7/dist-packages/pandas/core/generic.py\u001b[0m in \u001b[0;36mastype\u001b[0;34m(self, dtype, copy, errors)\u001b[0m\n\u001b[1;32m   5813\u001b[0m         \u001b[0;32melse\u001b[0m\u001b[0;34m:\u001b[0m\u001b[0;34m\u001b[0m\u001b[0;34m\u001b[0m\u001b[0m\n\u001b[1;32m   5814\u001b[0m             \u001b[0;31m# else, only a single dtype is given\u001b[0m\u001b[0;34m\u001b[0m\u001b[0;34m\u001b[0m\u001b[0;34m\u001b[0m\u001b[0m\n\u001b[0;32m-> 5815\u001b[0;31m             \u001b[0mnew_data\u001b[0m \u001b[0;34m=\u001b[0m \u001b[0mself\u001b[0m\u001b[0;34m.\u001b[0m\u001b[0m_mgr\u001b[0m\u001b[0;34m.\u001b[0m\u001b[0mastype\u001b[0m\u001b[0;34m(\u001b[0m\u001b[0mdtype\u001b[0m\u001b[0;34m=\u001b[0m\u001b[0mdtype\u001b[0m\u001b[0;34m,\u001b[0m \u001b[0mcopy\u001b[0m\u001b[0;34m=\u001b[0m\u001b[0mcopy\u001b[0m\u001b[0;34m,\u001b[0m \u001b[0merrors\u001b[0m\u001b[0;34m=\u001b[0m\u001b[0merrors\u001b[0m\u001b[0;34m)\u001b[0m\u001b[0;34m\u001b[0m\u001b[0;34m\u001b[0m\u001b[0m\n\u001b[0m\u001b[1;32m   5816\u001b[0m             \u001b[0;32mreturn\u001b[0m \u001b[0mself\u001b[0m\u001b[0;34m.\u001b[0m\u001b[0m_constructor\u001b[0m\u001b[0;34m(\u001b[0m\u001b[0mnew_data\u001b[0m\u001b[0;34m)\u001b[0m\u001b[0;34m.\u001b[0m\u001b[0m__finalize__\u001b[0m\u001b[0;34m(\u001b[0m\u001b[0mself\u001b[0m\u001b[0;34m,\u001b[0m \u001b[0mmethod\u001b[0m\u001b[0;34m=\u001b[0m\u001b[0;34m\"astype\"\u001b[0m\u001b[0;34m)\u001b[0m\u001b[0;34m\u001b[0m\u001b[0;34m\u001b[0m\u001b[0m\n\u001b[1;32m   5817\u001b[0m \u001b[0;34m\u001b[0m\u001b[0m\n",
            "\u001b[0;32m/usr/local/lib/python3.7/dist-packages/pandas/core/internals/managers.py\u001b[0m in \u001b[0;36mastype\u001b[0;34m(self, dtype, copy, errors)\u001b[0m\n\u001b[1;32m    416\u001b[0m \u001b[0;34m\u001b[0m\u001b[0m\n\u001b[1;32m    417\u001b[0m     \u001b[0;32mdef\u001b[0m \u001b[0mastype\u001b[0m\u001b[0;34m(\u001b[0m\u001b[0mself\u001b[0m\u001b[0;34m:\u001b[0m \u001b[0mT\u001b[0m\u001b[0;34m,\u001b[0m \u001b[0mdtype\u001b[0m\u001b[0;34m,\u001b[0m \u001b[0mcopy\u001b[0m\u001b[0;34m:\u001b[0m \u001b[0mbool\u001b[0m \u001b[0;34m=\u001b[0m \u001b[0;32mFalse\u001b[0m\u001b[0;34m,\u001b[0m \u001b[0merrors\u001b[0m\u001b[0;34m:\u001b[0m \u001b[0mstr\u001b[0m \u001b[0;34m=\u001b[0m \u001b[0;34m\"raise\"\u001b[0m\u001b[0;34m)\u001b[0m \u001b[0;34m->\u001b[0m \u001b[0mT\u001b[0m\u001b[0;34m:\u001b[0m\u001b[0;34m\u001b[0m\u001b[0;34m\u001b[0m\u001b[0m\n\u001b[0;32m--> 418\u001b[0;31m         \u001b[0;32mreturn\u001b[0m \u001b[0mself\u001b[0m\u001b[0;34m.\u001b[0m\u001b[0mapply\u001b[0m\u001b[0;34m(\u001b[0m\u001b[0;34m\"astype\"\u001b[0m\u001b[0;34m,\u001b[0m \u001b[0mdtype\u001b[0m\u001b[0;34m=\u001b[0m\u001b[0mdtype\u001b[0m\u001b[0;34m,\u001b[0m \u001b[0mcopy\u001b[0m\u001b[0;34m=\u001b[0m\u001b[0mcopy\u001b[0m\u001b[0;34m,\u001b[0m \u001b[0merrors\u001b[0m\u001b[0;34m=\u001b[0m\u001b[0merrors\u001b[0m\u001b[0;34m)\u001b[0m\u001b[0;34m\u001b[0m\u001b[0;34m\u001b[0m\u001b[0m\n\u001b[0m\u001b[1;32m    419\u001b[0m \u001b[0;34m\u001b[0m\u001b[0m\n\u001b[1;32m    420\u001b[0m     def convert(\n",
            "\u001b[0;32m/usr/local/lib/python3.7/dist-packages/pandas/core/internals/managers.py\u001b[0m in \u001b[0;36mapply\u001b[0;34m(self, f, align_keys, ignore_failures, **kwargs)\u001b[0m\n\u001b[1;32m    325\u001b[0m                     \u001b[0mapplied\u001b[0m \u001b[0;34m=\u001b[0m \u001b[0mb\u001b[0m\u001b[0;34m.\u001b[0m\u001b[0mapply\u001b[0m\u001b[0;34m(\u001b[0m\u001b[0mf\u001b[0m\u001b[0;34m,\u001b[0m \u001b[0;34m**\u001b[0m\u001b[0mkwargs\u001b[0m\u001b[0;34m)\u001b[0m\u001b[0;34m\u001b[0m\u001b[0;34m\u001b[0m\u001b[0m\n\u001b[1;32m    326\u001b[0m                 \u001b[0;32melse\u001b[0m\u001b[0;34m:\u001b[0m\u001b[0;34m\u001b[0m\u001b[0;34m\u001b[0m\u001b[0m\n\u001b[0;32m--> 327\u001b[0;31m                     \u001b[0mapplied\u001b[0m \u001b[0;34m=\u001b[0m \u001b[0mgetattr\u001b[0m\u001b[0;34m(\u001b[0m\u001b[0mb\u001b[0m\u001b[0;34m,\u001b[0m \u001b[0mf\u001b[0m\u001b[0;34m)\u001b[0m\u001b[0;34m(\u001b[0m\u001b[0;34m**\u001b[0m\u001b[0mkwargs\u001b[0m\u001b[0;34m)\u001b[0m\u001b[0;34m\u001b[0m\u001b[0;34m\u001b[0m\u001b[0m\n\u001b[0m\u001b[1;32m    328\u001b[0m             \u001b[0;32mexcept\u001b[0m \u001b[0;34m(\u001b[0m\u001b[0mTypeError\u001b[0m\u001b[0;34m,\u001b[0m \u001b[0mNotImplementedError\u001b[0m\u001b[0;34m)\u001b[0m\u001b[0;34m:\u001b[0m\u001b[0;34m\u001b[0m\u001b[0;34m\u001b[0m\u001b[0m\n\u001b[1;32m    329\u001b[0m                 \u001b[0;32mif\u001b[0m \u001b[0;32mnot\u001b[0m \u001b[0mignore_failures\u001b[0m\u001b[0;34m:\u001b[0m\u001b[0;34m\u001b[0m\u001b[0;34m\u001b[0m\u001b[0m\n",
            "\u001b[0;32m/usr/local/lib/python3.7/dist-packages/pandas/core/internals/blocks.py\u001b[0m in \u001b[0;36mastype\u001b[0;34m(self, dtype, copy, errors)\u001b[0m\n\u001b[1;32m    589\u001b[0m         \u001b[0mvalues\u001b[0m \u001b[0;34m=\u001b[0m \u001b[0mself\u001b[0m\u001b[0;34m.\u001b[0m\u001b[0mvalues\u001b[0m\u001b[0;34m\u001b[0m\u001b[0;34m\u001b[0m\u001b[0m\n\u001b[1;32m    590\u001b[0m \u001b[0;34m\u001b[0m\u001b[0m\n\u001b[0;32m--> 591\u001b[0;31m         \u001b[0mnew_values\u001b[0m \u001b[0;34m=\u001b[0m \u001b[0mastype_array_safe\u001b[0m\u001b[0;34m(\u001b[0m\u001b[0mvalues\u001b[0m\u001b[0;34m,\u001b[0m \u001b[0mdtype\u001b[0m\u001b[0;34m,\u001b[0m \u001b[0mcopy\u001b[0m\u001b[0;34m=\u001b[0m\u001b[0mcopy\u001b[0m\u001b[0;34m,\u001b[0m \u001b[0merrors\u001b[0m\u001b[0;34m=\u001b[0m\u001b[0merrors\u001b[0m\u001b[0;34m)\u001b[0m\u001b[0;34m\u001b[0m\u001b[0;34m\u001b[0m\u001b[0m\n\u001b[0m\u001b[1;32m    592\u001b[0m \u001b[0;34m\u001b[0m\u001b[0m\n\u001b[1;32m    593\u001b[0m         \u001b[0mnew_values\u001b[0m \u001b[0;34m=\u001b[0m \u001b[0mmaybe_coerce_values\u001b[0m\u001b[0;34m(\u001b[0m\u001b[0mnew_values\u001b[0m\u001b[0;34m)\u001b[0m\u001b[0;34m\u001b[0m\u001b[0;34m\u001b[0m\u001b[0m\n",
            "\u001b[0;32m/usr/local/lib/python3.7/dist-packages/pandas/core/dtypes/cast.py\u001b[0m in \u001b[0;36mastype_array_safe\u001b[0;34m(values, dtype, copy, errors)\u001b[0m\n\u001b[1;32m   1307\u001b[0m \u001b[0;34m\u001b[0m\u001b[0m\n\u001b[1;32m   1308\u001b[0m     \u001b[0;32mtry\u001b[0m\u001b[0;34m:\u001b[0m\u001b[0;34m\u001b[0m\u001b[0;34m\u001b[0m\u001b[0m\n\u001b[0;32m-> 1309\u001b[0;31m         \u001b[0mnew_values\u001b[0m \u001b[0;34m=\u001b[0m \u001b[0mastype_array\u001b[0m\u001b[0;34m(\u001b[0m\u001b[0mvalues\u001b[0m\u001b[0;34m,\u001b[0m \u001b[0mdtype\u001b[0m\u001b[0;34m,\u001b[0m \u001b[0mcopy\u001b[0m\u001b[0;34m=\u001b[0m\u001b[0mcopy\u001b[0m\u001b[0;34m)\u001b[0m\u001b[0;34m\u001b[0m\u001b[0;34m\u001b[0m\u001b[0m\n\u001b[0m\u001b[1;32m   1310\u001b[0m     \u001b[0;32mexcept\u001b[0m \u001b[0;34m(\u001b[0m\u001b[0mValueError\u001b[0m\u001b[0;34m,\u001b[0m \u001b[0mTypeError\u001b[0m\u001b[0;34m)\u001b[0m\u001b[0;34m:\u001b[0m\u001b[0;34m\u001b[0m\u001b[0;34m\u001b[0m\u001b[0m\n\u001b[1;32m   1311\u001b[0m         \u001b[0;31m# e.g. astype_nansafe can fail on object-dtype of strings\u001b[0m\u001b[0;34m\u001b[0m\u001b[0;34m\u001b[0m\u001b[0;34m\u001b[0m\u001b[0m\n",
            "\u001b[0;32m/usr/local/lib/python3.7/dist-packages/pandas/core/dtypes/cast.py\u001b[0m in \u001b[0;36mastype_array\u001b[0;34m(values, dtype, copy)\u001b[0m\n\u001b[1;32m   1255\u001b[0m \u001b[0;34m\u001b[0m\u001b[0m\n\u001b[1;32m   1256\u001b[0m     \u001b[0;32melse\u001b[0m\u001b[0;34m:\u001b[0m\u001b[0;34m\u001b[0m\u001b[0;34m\u001b[0m\u001b[0m\n\u001b[0;32m-> 1257\u001b[0;31m         \u001b[0mvalues\u001b[0m \u001b[0;34m=\u001b[0m \u001b[0mastype_nansafe\u001b[0m\u001b[0;34m(\u001b[0m\u001b[0mvalues\u001b[0m\u001b[0;34m,\u001b[0m \u001b[0mdtype\u001b[0m\u001b[0;34m,\u001b[0m \u001b[0mcopy\u001b[0m\u001b[0;34m=\u001b[0m\u001b[0mcopy\u001b[0m\u001b[0;34m)\u001b[0m\u001b[0;34m\u001b[0m\u001b[0;34m\u001b[0m\u001b[0m\n\u001b[0m\u001b[1;32m   1258\u001b[0m \u001b[0;34m\u001b[0m\u001b[0m\n\u001b[1;32m   1259\u001b[0m     \u001b[0;31m# in pandas we don't store numpy str dtypes, so convert to object\u001b[0m\u001b[0;34m\u001b[0m\u001b[0;34m\u001b[0m\u001b[0;34m\u001b[0m\u001b[0m\n",
            "\u001b[0;32m/usr/local/lib/python3.7/dist-packages/pandas/core/dtypes/cast.py\u001b[0m in \u001b[0;36mastype_nansafe\u001b[0;34m(arr, dtype, copy, skipna)\u001b[0m\n\u001b[1;32m   1093\u001b[0m     \u001b[0;32mif\u001b[0m \u001b[0marr\u001b[0m\u001b[0;34m.\u001b[0m\u001b[0mndim\u001b[0m \u001b[0;34m>\u001b[0m \u001b[0;36m1\u001b[0m\u001b[0;34m:\u001b[0m\u001b[0;34m\u001b[0m\u001b[0;34m\u001b[0m\u001b[0m\n\u001b[1;32m   1094\u001b[0m         \u001b[0mflat\u001b[0m \u001b[0;34m=\u001b[0m \u001b[0marr\u001b[0m\u001b[0;34m.\u001b[0m\u001b[0mravel\u001b[0m\u001b[0;34m(\u001b[0m\u001b[0;34m)\u001b[0m\u001b[0;34m\u001b[0m\u001b[0;34m\u001b[0m\u001b[0m\n\u001b[0;32m-> 1095\u001b[0;31m         \u001b[0mresult\u001b[0m \u001b[0;34m=\u001b[0m \u001b[0mastype_nansafe\u001b[0m\u001b[0;34m(\u001b[0m\u001b[0mflat\u001b[0m\u001b[0;34m,\u001b[0m \u001b[0mdtype\u001b[0m\u001b[0;34m,\u001b[0m \u001b[0mcopy\u001b[0m\u001b[0;34m=\u001b[0m\u001b[0mcopy\u001b[0m\u001b[0;34m,\u001b[0m \u001b[0mskipna\u001b[0m\u001b[0;34m=\u001b[0m\u001b[0mskipna\u001b[0m\u001b[0;34m)\u001b[0m\u001b[0;34m\u001b[0m\u001b[0;34m\u001b[0m\u001b[0m\n\u001b[0m\u001b[1;32m   1096\u001b[0m         \u001b[0;31m# error: Item \"ExtensionArray\" of \"Union[ExtensionArray, ndarray]\" has no\u001b[0m\u001b[0;34m\u001b[0m\u001b[0;34m\u001b[0m\u001b[0;34m\u001b[0m\u001b[0m\n\u001b[1;32m   1097\u001b[0m         \u001b[0;31m# attribute \"reshape\"\u001b[0m\u001b[0;34m\u001b[0m\u001b[0;34m\u001b[0m\u001b[0;34m\u001b[0m\u001b[0m\n",
            "\u001b[0;32m/usr/local/lib/python3.7/dist-packages/pandas/core/dtypes/cast.py\u001b[0m in \u001b[0;36mastype_nansafe\u001b[0;34m(arr, dtype, copy, skipna)\u001b[0m\n\u001b[1;32m   1172\u001b[0m         \u001b[0;31m# work around NumPy brokenness, #1987\u001b[0m\u001b[0;34m\u001b[0m\u001b[0;34m\u001b[0m\u001b[0;34m\u001b[0m\u001b[0m\n\u001b[1;32m   1173\u001b[0m         \u001b[0;32mif\u001b[0m \u001b[0mnp\u001b[0m\u001b[0;34m.\u001b[0m\u001b[0missubdtype\u001b[0m\u001b[0;34m(\u001b[0m\u001b[0mdtype\u001b[0m\u001b[0;34m.\u001b[0m\u001b[0mtype\u001b[0m\u001b[0;34m,\u001b[0m \u001b[0mnp\u001b[0m\u001b[0;34m.\u001b[0m\u001b[0minteger\u001b[0m\u001b[0;34m)\u001b[0m\u001b[0;34m:\u001b[0m\u001b[0;34m\u001b[0m\u001b[0;34m\u001b[0m\u001b[0m\n\u001b[0;32m-> 1174\u001b[0;31m             \u001b[0;32mreturn\u001b[0m \u001b[0mlib\u001b[0m\u001b[0;34m.\u001b[0m\u001b[0mastype_intsafe\u001b[0m\u001b[0;34m(\u001b[0m\u001b[0marr\u001b[0m\u001b[0;34m,\u001b[0m \u001b[0mdtype\u001b[0m\u001b[0;34m)\u001b[0m\u001b[0;34m\u001b[0m\u001b[0;34m\u001b[0m\u001b[0m\n\u001b[0m\u001b[1;32m   1175\u001b[0m \u001b[0;34m\u001b[0m\u001b[0m\n\u001b[1;32m   1176\u001b[0m         \u001b[0;31m# if we have a datetime/timedelta array of objects\u001b[0m\u001b[0;34m\u001b[0m\u001b[0;34m\u001b[0m\u001b[0;34m\u001b[0m\u001b[0m\n",
            "\u001b[0;32m/usr/local/lib/python3.7/dist-packages/pandas/_libs/lib.pyx\u001b[0m in \u001b[0;36mpandas._libs.lib.astype_intsafe\u001b[0;34m()\u001b[0m\n",
            "\u001b[0;31mValueError\u001b[0m: invalid literal for int() with base 10: '2*'"
          ]
        }
      ]
    },
    {
      "cell_type": "markdown",
      "source": [
        "Hence, the `Runs` column contains values with * (which means not out). But, we also have a `dismissal` column. Let us see if it contains a parameter depicting not out or not. "
      ],
      "metadata": {
        "id": "-fJO2qRBXSBY"
      }
    },
    {
      "cell_type": "code",
      "source": [
        "virat['Dismissal'].value_counts()"
      ],
      "metadata": {
        "colab": {
          "base_uri": "https://localhost:8080/"
        },
        "id": "h6BzWdxeW_E1",
        "outputId": "33ac7685-2778-4a97-853f-54a68763016a"
      },
      "execution_count": 14,
      "outputs": [
        {
          "output_type": "execute_result",
          "data": {
            "text/plain": [
              "caught        319\n",
              "not out        76\n",
              "lbw            52\n",
              "bowled         50\n",
              "-              24\n",
              "run out        20\n",
              "stumped         5\n",
              "hit wicket      2\n",
              "Name: Dismissal, dtype: int64"
            ]
          },
          "metadata": {},
          "execution_count": 14
        }
      ]
    },
    {
      "cell_type": "markdown",
      "source": [
        "It does have a parameter that says not out. So, we can safely remove the * from its values. But, we also have values where he did not bat or team did not bat. Hence, let us inspect this column first."
      ],
      "metadata": {
        "id": "d7-kaSHVXp82"
      }
    },
    {
      "cell_type": "code",
      "source": [
        "virat['Runs'].unique()"
      ],
      "metadata": {
        "colab": {
          "base_uri": "https://localhost:8080/"
        },
        "id": "y1o6RxdgYnhj",
        "outputId": "0808311a-3dd1-40c1-b86e-8386b415cd76"
      },
      "execution_count": 15,
      "outputs": [
        {
          "output_type": "execute_result",
          "data": {
            "text/plain": [
              "array(['12', '37', '25', '54', '31', '2*', '16', 'TDNB', '79*', '30',\n",
              "       '10', '27', '107', '9', '91', '71*', '102*', '2', 'DNB', '57', '0',\n",
              "       '82', '18', '68', '26*', '11', '28', '8', '118', '105', '64',\n",
              "       '63*', '22', '87*', '100*', '34', '1', '59', '24', '35', '14',\n",
              "       '81', '94', '4', '15', '55', '7', '112*', '86*', '52', '63', '3',\n",
              "       '117', '20', '23*', '80', '23', '44', '75', '116', '77', '66',\n",
              "       '21', '133*', '108', '183', '106', '38', '128*', '58', '103',\n",
              "       '51*', '70', '50', '40', '78*', '19', '14*', '6', '77*', '26',\n",
              "       '67*', '41', '22*', '58*', '43', '102', '115', '68*', '29', '61',\n",
              "       '115*', '86', '99', '119', '96', '46', '123', '78', '67', '105*',\n",
              "       '136', '48', '5', '36*', '57*', '72*', '39', '1*', '13', '62',\n",
              "       '127', '49', '53', '139*', '141', '169', '147', '3*', '33*', '33',\n",
              "       '44*', '138', '88', '90*', '59*', '56*', '41*', '55*', '82*',\n",
              "       '89*', '200', '45', '211', '17', '85*', '154*', '65', '49*', '167',\n",
              "       '6*', '235', '122', '204', '81*', '76*', '96*', '32*', '87',\n",
              "       '111*', '103*', '42', '131', '110*', '92', '121', '113', '104*',\n",
              "       '213', '243', '153', '112', '46*', '160*', '36', '129*', '20*',\n",
              "       '47', '71', '149', '51', '97', '139', '140', '157*', '61*', '104',\n",
              "       '60', '72', '34*', '120', '114*', '76', '31*', '254*', '94*',\n",
              "       '70*', '85', '30*', '89', '74', '73*', '80*', '56', '79', '122*'],\n",
              "      dtype=object)"
            ]
          },
          "metadata": {},
          "execution_count": 15
        }
      ]
    },
    {
      "cell_type": "markdown",
      "source": [
        "Hence, we do not need the entries where he did not bat. Let us remove those entries."
      ],
      "metadata": {
        "id": "LVTvaPRIZE3M"
      }
    },
    {
      "cell_type": "code",
      "source": [
        "virat = virat[virat['Runs'].isin(['DNB','TDNB'])==False]\n",
        "virat[virat['Runs'].isin(['DNB','TDNB'])]"
      ],
      "metadata": {
        "colab": {
          "base_uri": "https://localhost:8080/",
          "height": 49
        },
        "id": "VrXTvsHqY1HR",
        "outputId": "52192e89-3909-42b7-c692-375c54078a60"
      },
      "execution_count": 16,
      "outputs": [
        {
          "output_type": "execute_result",
          "data": {
            "text/plain": [
              "Empty DataFrame\n",
              "Columns: [Runs, Mins, BF, 4s, 6s, SR, Pos, Dismissal, Inns, Opposition, Ground, Start Date]\n",
              "Index: []"
            ],
            "text/html": [
              "\n",
              "  <div id=\"df-11e08f15-f6e6-4c26-98b7-192ec614f286\">\n",
              "    <div class=\"colab-df-container\">\n",
              "      <div>\n",
              "<style scoped>\n",
              "    .dataframe tbody tr th:only-of-type {\n",
              "        vertical-align: middle;\n",
              "    }\n",
              "\n",
              "    .dataframe tbody tr th {\n",
              "        vertical-align: top;\n",
              "    }\n",
              "\n",
              "    .dataframe thead th {\n",
              "        text-align: right;\n",
              "    }\n",
              "</style>\n",
              "<table border=\"1\" class=\"dataframe\">\n",
              "  <thead>\n",
              "    <tr style=\"text-align: right;\">\n",
              "      <th></th>\n",
              "      <th>Runs</th>\n",
              "      <th>Mins</th>\n",
              "      <th>BF</th>\n",
              "      <th>4s</th>\n",
              "      <th>6s</th>\n",
              "      <th>SR</th>\n",
              "      <th>Pos</th>\n",
              "      <th>Dismissal</th>\n",
              "      <th>Inns</th>\n",
              "      <th>Opposition</th>\n",
              "      <th>Ground</th>\n",
              "      <th>Start Date</th>\n",
              "    </tr>\n",
              "  </thead>\n",
              "  <tbody>\n",
              "  </tbody>\n",
              "</table>\n",
              "</div>\n",
              "      <button class=\"colab-df-convert\" onclick=\"convertToInteractive('df-11e08f15-f6e6-4c26-98b7-192ec614f286')\"\n",
              "              title=\"Convert this dataframe to an interactive table.\"\n",
              "              style=\"display:none;\">\n",
              "        \n",
              "  <svg xmlns=\"http://www.w3.org/2000/svg\" height=\"24px\"viewBox=\"0 0 24 24\"\n",
              "       width=\"24px\">\n",
              "    <path d=\"M0 0h24v24H0V0z\" fill=\"none\"/>\n",
              "    <path d=\"M18.56 5.44l.94 2.06.94-2.06 2.06-.94-2.06-.94-.94-2.06-.94 2.06-2.06.94zm-11 1L8.5 8.5l.94-2.06 2.06-.94-2.06-.94L8.5 2.5l-.94 2.06-2.06.94zm10 10l.94 2.06.94-2.06 2.06-.94-2.06-.94-.94-2.06-.94 2.06-2.06.94z\"/><path d=\"M17.41 7.96l-1.37-1.37c-.4-.4-.92-.59-1.43-.59-.52 0-1.04.2-1.43.59L10.3 9.45l-7.72 7.72c-.78.78-.78 2.05 0 2.83L4 21.41c.39.39.9.59 1.41.59.51 0 1.02-.2 1.41-.59l7.78-7.78 2.81-2.81c.8-.78.8-2.07 0-2.86zM5.41 20L4 18.59l7.72-7.72 1.47 1.35L5.41 20z\"/>\n",
              "  </svg>\n",
              "      </button>\n",
              "      \n",
              "  <style>\n",
              "    .colab-df-container {\n",
              "      display:flex;\n",
              "      flex-wrap:wrap;\n",
              "      gap: 12px;\n",
              "    }\n",
              "\n",
              "    .colab-df-convert {\n",
              "      background-color: #E8F0FE;\n",
              "      border: none;\n",
              "      border-radius: 50%;\n",
              "      cursor: pointer;\n",
              "      display: none;\n",
              "      fill: #1967D2;\n",
              "      height: 32px;\n",
              "      padding: 0 0 0 0;\n",
              "      width: 32px;\n",
              "    }\n",
              "\n",
              "    .colab-df-convert:hover {\n",
              "      background-color: #E2EBFA;\n",
              "      box-shadow: 0px 1px 2px rgba(60, 64, 67, 0.3), 0px 1px 3px 1px rgba(60, 64, 67, 0.15);\n",
              "      fill: #174EA6;\n",
              "    }\n",
              "\n",
              "    [theme=dark] .colab-df-convert {\n",
              "      background-color: #3B4455;\n",
              "      fill: #D2E3FC;\n",
              "    }\n",
              "\n",
              "    [theme=dark] .colab-df-convert:hover {\n",
              "      background-color: #434B5C;\n",
              "      box-shadow: 0px 1px 3px 1px rgba(0, 0, 0, 0.15);\n",
              "      filter: drop-shadow(0px 1px 2px rgba(0, 0, 0, 0.3));\n",
              "      fill: #FFFFFF;\n",
              "    }\n",
              "  </style>\n",
              "\n",
              "      <script>\n",
              "        const buttonEl =\n",
              "          document.querySelector('#df-11e08f15-f6e6-4c26-98b7-192ec614f286 button.colab-df-convert');\n",
              "        buttonEl.style.display =\n",
              "          google.colab.kernel.accessAllowed ? 'block' : 'none';\n",
              "\n",
              "        async function convertToInteractive(key) {\n",
              "          const element = document.querySelector('#df-11e08f15-f6e6-4c26-98b7-192ec614f286');\n",
              "          const dataTable =\n",
              "            await google.colab.kernel.invokeFunction('convertToInteractive',\n",
              "                                                     [key], {});\n",
              "          if (!dataTable) return;\n",
              "\n",
              "          const docLinkHtml = 'Like what you see? Visit the ' +\n",
              "            '<a target=\"_blank\" href=https://colab.research.google.com/notebooks/data_table.ipynb>data table notebook</a>'\n",
              "            + ' to learn more about interactive tables.';\n",
              "          element.innerHTML = '';\n",
              "          dataTable['output_type'] = 'display_data';\n",
              "          await google.colab.output.renderOutput(dataTable, element);\n",
              "          const docLink = document.createElement('div');\n",
              "          docLink.innerHTML = docLinkHtml;\n",
              "          element.appendChild(docLink);\n",
              "        }\n",
              "      </script>\n",
              "    </div>\n",
              "  </div>\n",
              "  "
            ]
          },
          "metadata": {},
          "execution_count": 16
        }
      ]
    },
    {
      "cell_type": "markdown",
      "source": [
        "Great ! Let us see how many entries we are left with."
      ],
      "metadata": {
        "id": "CpX1gKaRaZ6K"
      }
    },
    {
      "cell_type": "code",
      "source": [
        "virat.shape"
      ],
      "metadata": {
        "colab": {
          "base_uri": "https://localhost:8080/"
        },
        "id": "ZjPfI7ZKZuD9",
        "outputId": "45f51da0-b8e2-46ff-c76e-84b4ab0e03b3"
      },
      "execution_count": 17,
      "outputs": [
        {
          "output_type": "execute_result",
          "data": {
            "text/plain": [
              "(524, 12)"
            ]
          },
          "metadata": {},
          "execution_count": 17
        }
      ]
    },
    {
      "cell_type": "markdown",
      "source": [
        "We have lost 24 entries. Now, let us change the data types now. "
      ],
      "metadata": {
        "id": "rHbxSp7TaxZG"
      }
    },
    {
      "cell_type": "code",
      "source": [
        "virat[numeric].dtypes"
      ],
      "metadata": {
        "colab": {
          "base_uri": "https://localhost:8080/"
        },
        "id": "Cta3e1qralDn",
        "outputId": "4a97ddb1-2cb6-42fd-d2da-4846da92c62e"
      },
      "execution_count": 18,
      "outputs": [
        {
          "output_type": "execute_result",
          "data": {
            "text/plain": [
              "Runs    object\n",
              "Mins    object\n",
              "BF      object\n",
              "4s      object\n",
              "6s      object\n",
              "Pos     object\n",
              "Inns    object\n",
              "dtype: object"
            ]
          },
          "metadata": {},
          "execution_count": 18
        }
      ]
    },
    {
      "cell_type": "code",
      "source": [
        "virat['Runs']=virat['Runs'].str.strip('*').astype(int)\n",
        "virat['Runs'].dtype"
      ],
      "metadata": {
        "colab": {
          "base_uri": "https://localhost:8080/"
        },
        "id": "uwVP--kBbA0o",
        "outputId": "69d8ec0e-b267-4469-f5c4-0cebb786b94f"
      },
      "execution_count": 19,
      "outputs": [
        {
          "output_type": "execute_result",
          "data": {
            "text/plain": [
              "dtype('int64')"
            ]
          },
          "metadata": {},
          "execution_count": 19
        }
      ]
    },
    {
      "cell_type": "markdown",
      "source": [
        "Great. Now, let us inspect each numerical column for inconsistencies. "
      ],
      "metadata": {
        "id": "E7m3PeDVbrr5"
      }
    },
    {
      "cell_type": "code",
      "source": [
        "virat['Mins'].unique()"
      ],
      "metadata": {
        "colab": {
          "base_uri": "https://localhost:8080/"
        },
        "id": "6ONH5BrebR2A",
        "outputId": "fe9f1c9e-0b5d-48a8-b502-9e1ceaacbaf1"
      },
      "execution_count": 20,
      "outputs": [
        {
          "output_type": "execute_result",
          "data": {
            "text/plain": [
              "array(['33', '82', '40', '87', '45', '6', '28', '121', '53', '32', '20',\n",
              "       '93', '-', '19', '136', '98', '128', '3', '125', '123', '30', '35',\n",
              "       '31', '13', '57', '5', '22', '193', '162', '78', '83', '10', '122',\n",
              "       '43', '51', '126', '11', '113', '12', '16', '2', '38', '69', '15',\n",
              "       '118', '1', '68', '135', '72', '62', '92', '9', '18', '102', '70',\n",
              "       '134', '42', '21', '154', '99', '50', '107', '191', '237', '96',\n",
              "       '29', '156', '41', '44', '116', '36', '133', '148', '211', '158',\n",
              "       '80', '187', '65', '143', '284', '130', '67', '60', '61', '17',\n",
              "       '86', '356', '25', '110', '266', '119', '157', '76', '46', '66',\n",
              "       '120', '8', '26', '104', '4', '159', '7', '257', '254', '114',\n",
              "       '179', '88', '27', '14', '129', '131', '195', '23', '75', '39',\n",
              "       '77', '34', '54', '124', '164', '109', '192', '267', '279', '380',\n",
              "       '315', '24', '168', '106', '49', '64', '71', '55', '178', '58',\n",
              "       '155', '202', '73', '74', '259', '84', '174', '85', '37', '63',\n",
              "       '375', '144', '536', '152', '401', '172', '161', '515', '147',\n",
              "       '81', '295', '108', '203', '166', '59', '208', '386', '447', '89',\n",
              "       '379', '146', '220', '277', '185', '243', '292', '100', '170',\n",
              "       '112', '341', '217', '132', '373', '305', '150', '94', '105',\n",
              "       '103', '127', '244', '153', '200', '196', '173', '151', '111',\n",
              "       '273', '79', '47', '90'], dtype=object)"
            ]
          },
          "metadata": {},
          "execution_count": 20
        }
      ]
    },
    {
      "cell_type": "markdown",
      "source": [
        "We can see that for the `Mins` column, we have an inconsistent value `-`, which means data unavailable. Let us replace this with the value `0`. Later, we will create a dictionary in which we will explain which value represents what. "
      ],
      "metadata": {
        "id": "R55eCq-gca6C"
      }
    },
    {
      "cell_type": "code",
      "source": [
        "virat['Mins']=virat['Mins'].replace('-','0')\n",
        "virat['Mins'].unique()"
      ],
      "metadata": {
        "colab": {
          "base_uri": "https://localhost:8080/"
        },
        "id": "W_pjBfaibjWI",
        "outputId": "a44401c4-6337-40eb-ede6-1ee008b1d999"
      },
      "execution_count": 21,
      "outputs": [
        {
          "output_type": "execute_result",
          "data": {
            "text/plain": [
              "array(['33', '82', '40', '87', '45', '6', '28', '121', '53', '32', '20',\n",
              "       '93', '0', '19', '136', '98', '128', '3', '125', '123', '30', '35',\n",
              "       '31', '13', '57', '5', '22', '193', '162', '78', '83', '10', '122',\n",
              "       '43', '51', '126', '11', '113', '12', '16', '2', '38', '69', '15',\n",
              "       '118', '1', '68', '135', '72', '62', '92', '9', '18', '102', '70',\n",
              "       '134', '42', '21', '154', '99', '50', '107', '191', '237', '96',\n",
              "       '29', '156', '41', '44', '116', '36', '133', '148', '211', '158',\n",
              "       '80', '187', '65', '143', '284', '130', '67', '60', '61', '17',\n",
              "       '86', '356', '25', '110', '266', '119', '157', '76', '46', '66',\n",
              "       '120', '8', '26', '104', '4', '159', '7', '257', '254', '114',\n",
              "       '179', '88', '27', '14', '129', '131', '195', '23', '75', '39',\n",
              "       '77', '34', '54', '124', '164', '109', '192', '267', '279', '380',\n",
              "       '315', '24', '168', '106', '49', '64', '71', '55', '178', '58',\n",
              "       '155', '202', '73', '74', '259', '84', '174', '85', '37', '63',\n",
              "       '375', '144', '536', '152', '401', '172', '161', '515', '147',\n",
              "       '81', '295', '108', '203', '166', '59', '208', '386', '447', '89',\n",
              "       '379', '146', '220', '277', '185', '243', '292', '100', '170',\n",
              "       '112', '341', '217', '132', '373', '305', '150', '94', '105',\n",
              "       '103', '127', '244', '153', '200', '196', '173', '151', '111',\n",
              "       '273', '79', '47', '90'], dtype=object)"
            ]
          },
          "metadata": {},
          "execution_count": 21
        }
      ]
    },
    {
      "cell_type": "markdown",
      "source": [
        "Perfect ! Now, let us change the data types of all the remaining columns. "
      ],
      "metadata": {
        "id": "4_Wz8mH5c7b9"
      }
    },
    {
      "cell_type": "code",
      "source": [
        "virat[numeric[1:]]=virat[numeric[1:]].astype(int)\n",
        "virat[numeric].dtypes"
      ],
      "metadata": {
        "colab": {
          "base_uri": "https://localhost:8080/"
        },
        "id": "wmHgAMsqc0Q4",
        "outputId": "e987a45f-6da2-4dff-ee91-453fc64c75e0"
      },
      "execution_count": 22,
      "outputs": [
        {
          "output_type": "execute_result",
          "data": {
            "text/plain": [
              "Runs    int64\n",
              "Mins    int64\n",
              "BF      int64\n",
              "4s      int64\n",
              "6s      int64\n",
              "Pos     int64\n",
              "Inns    int64\n",
              "dtype: object"
            ]
          },
          "metadata": {},
          "execution_count": 22
        }
      ]
    },
    {
      "cell_type": "markdown",
      "source": [
        "Perfect ! Now, let us change the `SR` column to a `float` data type. "
      ],
      "metadata": {
        "id": "NNFErxCJdWMk"
      }
    },
    {
      "cell_type": "code",
      "source": [
        "virat['SR'].unique()"
      ],
      "metadata": {
        "colab": {
          "base_uri": "https://localhost:8080/"
        },
        "id": "0oOJn5SwdD8O",
        "outputId": "da8e16a0-2e07-4687-e9f9-913d6ebab699"
      },
      "execution_count": 23,
      "outputs": [
        {
          "output_type": "execute_result",
          "data": {
            "text/plain": [
              "array(['54.54', '55.22', '65.78', '81.81', '67.39', '100.00', '66.66',\n",
              "       '75.96', '73.17', '62.50', '142.10', '83.07', '93.85', '75.00',\n",
              "       '89.21', '104.41', '107.36', '25.00', '80.28', '-', '89.13',\n",
              "       '62.06', '71.57', '123.80', '50.00', '71.42', '82.35', '0.00',\n",
              "       '64.91', '97.52', '100.96', '87.67', '90.00', '147.36', '77.14',\n",
              "       '64.70', '68.29', '94.56', '33.33', '120.48', '160.00', '64.15',\n",
              "       '60.00', '77.63', '72.72', '42.85', '116.66', '78.64', '90.38',\n",
              "       '40.00', '27.77', '25.23', '56.60', '80.00', '75.34', '38.88',\n",
              "       '44.44', '115.05', '58.73', '114.28', '86.86', '93.75', '46.84',\n",
              "       '55.26', '95.12', '209.09', '94.11', '52.38', '56.09', '37.50',\n",
              "       '54.32', '55.14', '54.46', '35.48', '104.76', '129.16', '91.17',\n",
              "       '81.91', '64.28', '48.00', '79.51', '77.77', '154.65', '80.48',\n",
              "       '123.64', '93.80', '20.00', '58.46', '107.56', '65.71', '141.66',\n",
              "       '54.20', '53.36', '62.19', '170.73', '128.20', '125.00', '115.38',\n",
              "       '127.86', '28.35', '34.54', '53.84', '34.91', '123.52', '190.00',\n",
              "       '122.72', '41.17', '68.18', '68.51', '97.46', '78.78', '51.94',\n",
              "       '36.95', '51.93', '55.73', '12.50', '68.33', '75.60', '122.22',\n",
              "       '81.48', '90.62', '126.47', '122.89', '59.61', '106.48', '77.27',\n",
              "       '131.81', '71.76', '192.30', '93.15', '174.24', '73.07', '102.38',\n",
              "       '99.00', '105.55', '88.57', '65.74', '49.74', '52.87', '40.74',\n",
              "       '110.81', '120.00', '30.00', '105.12', '30.76', '65.68', '40.86',\n",
              "       '111.47', '45.45', '112.50', '131.70', '114.00', '104.54',\n",
              "       '163.63', '132.75', '27.58', '73.52', '52.00', '63.63', '37.03',\n",
              "       '61.90', '160.97', '79.48', '111.40', '111.36', '86.88', '103.12',\n",
              "       '110.31', '80.57', '70.37', '9.09', '62.13', '63.91', '48.42',\n",
              "       '56.25', '42.10', '84.92', '76.66', '91.66', '79.16', '7.69',\n",
              "       '85.18', '53.92', '72.89', '52.63', '159.25', '61.11', '98.57',\n",
              "       '40.84', '53.33', '70.96', '93.81', '88.05', '115.21', '178.78',\n",
              "       '138.88', '58.33', '96.07', '119.14', '146.42', '148.64', '160.78',\n",
              "       '189.36', '70.67', '48.88', '23.52', '177.77', '45.00', '32.14',\n",
              "       '69.23', '57.65', '60.71', '104.93', '114.92', '88.23', '85.52',\n",
              "       '62.54', '74.31', '48.81', '69.11', '51.72', '116.19', '87.30',\n",
              "       '111.53', '140.00', '82.92', '95.00', '35.13', '70.58', '26.08',\n",
              "       '119.11', '75.24', '123.07', '55.55', '68.08', '96.52', '177.27',\n",
              "       '75.73', '44.82', '117.14', '200.00', '27.27', '136.45', '94.82',\n",
              "       '151.85', '85.98', '70.90', '157.14', '96.80', '106.60', '236.36',\n",
              "       '154.76', '216.66', '87.39', '79.77', '84.66', '86.20', '38.46',\n",
              "       '70.00', '70.50', '50.94', '51.89', '92.00', '100.62', '90.36',\n",
              "       '134.37', '130.00', '90.90', '123.68', '148.27', '91.46', '80.35',\n",
              "       '98.61', '66.22', '54.83', '40.35', '58.62', '63.81', '52.28',\n",
              "       '64.78', '44.61', '60.43', '57.69', '130.84', '121.70', '89.91',\n",
              "       '113.79', '148.78', '18.75', '32.69', '47.85', '42.50', '40.19',\n",
              "       '38.98', '92.85', '74.19', '76.27', '95.55', '81.08', '141.17',\n",
              "       '189.47', '97.77', '96.66', '129.47', '52.94', '106.49', '118.46',\n",
              "       '106.34', '87.80', '86.84', '96.29', '16.66', '65.51', '121.73',\n",
              "       '131.11', '96.00', '115.15', '45.13', '46.62', '138.46', '124.00',\n",
              "       '75.59', '70.10', '188.00', '111.76', '241.37', '176.47', '152.94',\n",
              "       '102.63', '97.80', '140.62', '140.74', '80.95', '28.57', '44.18',\n",
              "       '46.66', '102.29', '80.76', '166.66', '139.34', '41.11', '22.91',\n",
              "       '41.61', '46.55', '148.97', '167.39', '153.84', '93.33', '83.54',\n",
              "       '40.77', '64.51', '44.00', '52.08', '45.83', '116.32', '37.23',\n",
              "       '39.30', '20.27', '77.38', '130.76', '126.82', '59.21', '47.91',\n",
              "       '81.25', '57.89', '183.33', '64.00', '102.94', '134.09', '136.36'],\n",
              "      dtype=object)"
            ]
          },
          "metadata": {},
          "execution_count": 23
        }
      ]
    },
    {
      "cell_type": "markdown",
      "source": [
        "We have an inappropriate value `-` here. Let us see the entries with this value. "
      ],
      "metadata": {
        "id": "25a_R5IIeXEs"
      }
    },
    {
      "cell_type": "code",
      "source": [
        "virat[virat['SR']=='-']"
      ],
      "metadata": {
        "colab": {
          "base_uri": "https://localhost:8080/",
          "height": 81
        },
        "id": "SGbCzcCCeD1V",
        "outputId": "7d3f44b7-a5bd-438f-ba6c-11718084455a"
      },
      "execution_count": 24,
      "outputs": [
        {
          "output_type": "execute_result",
          "data": {
            "text/plain": [
              "    Runs  Mins  BF  4s  6s SR  Pos Dismissal  Inns      Opposition    Ground  \\\n",
              "24     0     3   0   0   0  -    3   run out     1  ODI v Zimbabwe  Bulawayo   \n",
              "\n",
              "     Start Date  \n",
              "24  28 May 2010  "
            ],
            "text/html": [
              "\n",
              "  <div id=\"df-c9fc1b08-959a-4984-8f24-c779097d90e9\">\n",
              "    <div class=\"colab-df-container\">\n",
              "      <div>\n",
              "<style scoped>\n",
              "    .dataframe tbody tr th:only-of-type {\n",
              "        vertical-align: middle;\n",
              "    }\n",
              "\n",
              "    .dataframe tbody tr th {\n",
              "        vertical-align: top;\n",
              "    }\n",
              "\n",
              "    .dataframe thead th {\n",
              "        text-align: right;\n",
              "    }\n",
              "</style>\n",
              "<table border=\"1\" class=\"dataframe\">\n",
              "  <thead>\n",
              "    <tr style=\"text-align: right;\">\n",
              "      <th></th>\n",
              "      <th>Runs</th>\n",
              "      <th>Mins</th>\n",
              "      <th>BF</th>\n",
              "      <th>4s</th>\n",
              "      <th>6s</th>\n",
              "      <th>SR</th>\n",
              "      <th>Pos</th>\n",
              "      <th>Dismissal</th>\n",
              "      <th>Inns</th>\n",
              "      <th>Opposition</th>\n",
              "      <th>Ground</th>\n",
              "      <th>Start Date</th>\n",
              "    </tr>\n",
              "  </thead>\n",
              "  <tbody>\n",
              "    <tr>\n",
              "      <th>24</th>\n",
              "      <td>0</td>\n",
              "      <td>3</td>\n",
              "      <td>0</td>\n",
              "      <td>0</td>\n",
              "      <td>0</td>\n",
              "      <td>-</td>\n",
              "      <td>3</td>\n",
              "      <td>run out</td>\n",
              "      <td>1</td>\n",
              "      <td>ODI v Zimbabwe</td>\n",
              "      <td>Bulawayo</td>\n",
              "      <td>28 May 2010</td>\n",
              "    </tr>\n",
              "  </tbody>\n",
              "</table>\n",
              "</div>\n",
              "      <button class=\"colab-df-convert\" onclick=\"convertToInteractive('df-c9fc1b08-959a-4984-8f24-c779097d90e9')\"\n",
              "              title=\"Convert this dataframe to an interactive table.\"\n",
              "              style=\"display:none;\">\n",
              "        \n",
              "  <svg xmlns=\"http://www.w3.org/2000/svg\" height=\"24px\"viewBox=\"0 0 24 24\"\n",
              "       width=\"24px\">\n",
              "    <path d=\"M0 0h24v24H0V0z\" fill=\"none\"/>\n",
              "    <path d=\"M18.56 5.44l.94 2.06.94-2.06 2.06-.94-2.06-.94-.94-2.06-.94 2.06-2.06.94zm-11 1L8.5 8.5l.94-2.06 2.06-.94-2.06-.94L8.5 2.5l-.94 2.06-2.06.94zm10 10l.94 2.06.94-2.06 2.06-.94-2.06-.94-.94-2.06-.94 2.06-2.06.94z\"/><path d=\"M17.41 7.96l-1.37-1.37c-.4-.4-.92-.59-1.43-.59-.52 0-1.04.2-1.43.59L10.3 9.45l-7.72 7.72c-.78.78-.78 2.05 0 2.83L4 21.41c.39.39.9.59 1.41.59.51 0 1.02-.2 1.41-.59l7.78-7.78 2.81-2.81c.8-.78.8-2.07 0-2.86zM5.41 20L4 18.59l7.72-7.72 1.47 1.35L5.41 20z\"/>\n",
              "  </svg>\n",
              "      </button>\n",
              "      \n",
              "  <style>\n",
              "    .colab-df-container {\n",
              "      display:flex;\n",
              "      flex-wrap:wrap;\n",
              "      gap: 12px;\n",
              "    }\n",
              "\n",
              "    .colab-df-convert {\n",
              "      background-color: #E8F0FE;\n",
              "      border: none;\n",
              "      border-radius: 50%;\n",
              "      cursor: pointer;\n",
              "      display: none;\n",
              "      fill: #1967D2;\n",
              "      height: 32px;\n",
              "      padding: 0 0 0 0;\n",
              "      width: 32px;\n",
              "    }\n",
              "\n",
              "    .colab-df-convert:hover {\n",
              "      background-color: #E2EBFA;\n",
              "      box-shadow: 0px 1px 2px rgba(60, 64, 67, 0.3), 0px 1px 3px 1px rgba(60, 64, 67, 0.15);\n",
              "      fill: #174EA6;\n",
              "    }\n",
              "\n",
              "    [theme=dark] .colab-df-convert {\n",
              "      background-color: #3B4455;\n",
              "      fill: #D2E3FC;\n",
              "    }\n",
              "\n",
              "    [theme=dark] .colab-df-convert:hover {\n",
              "      background-color: #434B5C;\n",
              "      box-shadow: 0px 1px 3px 1px rgba(0, 0, 0, 0.15);\n",
              "      filter: drop-shadow(0px 1px 2px rgba(0, 0, 0, 0.3));\n",
              "      fill: #FFFFFF;\n",
              "    }\n",
              "  </style>\n",
              "\n",
              "      <script>\n",
              "        const buttonEl =\n",
              "          document.querySelector('#df-c9fc1b08-959a-4984-8f24-c779097d90e9 button.colab-df-convert');\n",
              "        buttonEl.style.display =\n",
              "          google.colab.kernel.accessAllowed ? 'block' : 'none';\n",
              "\n",
              "        async function convertToInteractive(key) {\n",
              "          const element = document.querySelector('#df-c9fc1b08-959a-4984-8f24-c779097d90e9');\n",
              "          const dataTable =\n",
              "            await google.colab.kernel.invokeFunction('convertToInteractive',\n",
              "                                                     [key], {});\n",
              "          if (!dataTable) return;\n",
              "\n",
              "          const docLinkHtml = 'Like what you see? Visit the ' +\n",
              "            '<a target=\"_blank\" href=https://colab.research.google.com/notebooks/data_table.ipynb>data table notebook</a>'\n",
              "            + ' to learn more about interactive tables.';\n",
              "          element.innerHTML = '';\n",
              "          dataTable['output_type'] = 'display_data';\n",
              "          await google.colab.output.renderOutput(dataTable, element);\n",
              "          const docLink = document.createElement('div');\n",
              "          docLink.innerHTML = docLinkHtml;\n",
              "          element.appendChild(docLink);\n",
              "        }\n",
              "      </script>\n",
              "    </div>\n",
              "  </div>\n",
              "  "
            ]
          },
          "metadata": {},
          "execution_count": 24
        }
      ]
    },
    {
      "cell_type": "markdown",
      "source": [
        "So, this is where Virat scored a diamond duck. Let us replace this value with 0. "
      ],
      "metadata": {
        "id": "mOt_ut-7egrl"
      }
    },
    {
      "cell_type": "code",
      "source": [
        "virat['SR']=virat['SR'].replace('-','0').astype(float)\n",
        "virat['SR'].dtype"
      ],
      "metadata": {
        "colab": {
          "base_uri": "https://localhost:8080/"
        },
        "id": "qokSedCSeQ3w",
        "outputId": "55ebe721-a29d-4c02-e3be-fb98574466e6"
      },
      "execution_count": 25,
      "outputs": [
        {
          "output_type": "execute_result",
          "data": {
            "text/plain": [
              "dtype('float64')"
            ]
          },
          "metadata": {},
          "execution_count": 25
        }
      ]
    },
    {
      "cell_type": "markdown",
      "source": [
        "Perfect. Now, let us check our data types again."
      ],
      "metadata": {
        "id": "Z0lY-KwffL0K"
      }
    },
    {
      "cell_type": "code",
      "source": [
        "virat.info()"
      ],
      "metadata": {
        "colab": {
          "base_uri": "https://localhost:8080/"
        },
        "id": "SfGkS0i-erT7",
        "outputId": "e99afa6f-f696-44ba-f0ab-5bfedbed8a58"
      },
      "execution_count": 26,
      "outputs": [
        {
          "output_type": "stream",
          "name": "stdout",
          "text": [
            "<class 'pandas.core.frame.DataFrame'>\n",
            "Int64Index: 524 entries, 1 to 548\n",
            "Data columns (total 12 columns):\n",
            " #   Column      Non-Null Count  Dtype  \n",
            "---  ------      --------------  -----  \n",
            " 0   Runs        524 non-null    int64  \n",
            " 1   Mins        524 non-null    int64  \n",
            " 2   BF          524 non-null    int64  \n",
            " 3   4s          524 non-null    int64  \n",
            " 4   6s          524 non-null    int64  \n",
            " 5   SR          524 non-null    float64\n",
            " 6   Pos         524 non-null    int64  \n",
            " 7   Dismissal   524 non-null    object \n",
            " 8   Inns        524 non-null    int64  \n",
            " 9   Opposition  524 non-null    object \n",
            " 10  Ground      524 non-null    object \n",
            " 11  Start Date  524 non-null    object \n",
            "dtypes: float64(1), int64(7), object(4)\n",
            "memory usage: 53.2+ KB\n"
          ]
        }
      ]
    },
    {
      "cell_type": "markdown",
      "source": [
        "Great. Now, let us see our other columns."
      ],
      "metadata": {
        "id": "ZMj4lmwSfmyh"
      }
    },
    {
      "cell_type": "markdown",
      "source": [
        "#### String Columns"
      ],
      "metadata": {
        "id": "FMIbGVoffry4"
      }
    },
    {
      "cell_type": "code",
      "source": [
        "others = list(set(virat.columns) - set(numeric+[decimal]))\n",
        "others"
      ],
      "metadata": {
        "colab": {
          "base_uri": "https://localhost:8080/"
        },
        "id": "QupwzRlrfSgi",
        "outputId": "332924e9-f5d8-4ead-9989-136afced296d"
      },
      "execution_count": 27,
      "outputs": [
        {
          "output_type": "execute_result",
          "data": {
            "text/plain": [
              "['Opposition', 'Ground', 'Dismissal', 'Start Date']"
            ]
          },
          "metadata": {},
          "execution_count": 27
        }
      ]
    },
    {
      "cell_type": "markdown",
      "source": [
        "Now, let us inspect each of these columns."
      ],
      "metadata": {
        "id": "BQeTe7yHhuWl"
      }
    },
    {
      "cell_type": "code",
      "source": [
        "virat['Opposition'].unique()"
      ],
      "metadata": {
        "colab": {
          "base_uri": "https://localhost:8080/"
        },
        "id": "_Aq4X_mlgpuc",
        "outputId": "5f730d8e-826d-4fc2-8ca4-796ccf500d80"
      },
      "execution_count": 28,
      "outputs": [
        {
          "output_type": "execute_result",
          "data": {
            "text/plain": [
              "array(['ODI v Sri Lanka', 'ODI v Pakistan', 'ODI v West Indies',\n",
              "       'ODI v Australia', 'ODI v Bangladesh', 'ODI v South Africa',\n",
              "       'ODI v Zimbabwe', 'T20I v Zimbabwe', 'ODI v New Zealand',\n",
              "       'T20I v South Africa', 'ODI v England', 'ODI v Ireland',\n",
              "       'ODI v Netherlands', 'T20I v West Indies', 'Test v West Indies',\n",
              "       'T20I v England', 'Test v Australia', 'T20I v Australia',\n",
              "       'T20I v Sri Lanka', 'Test v New Zealand', 'T20I v New Zealand',\n",
              "       'T20I v Afghanistan', 'T20I v Pakistan', 'Test v England',\n",
              "       'Test v South Africa', 'T20I v Bangladesh', 'ODI v U.A.E.',\n",
              "       'Test v Bangladesh', 'Test v Sri Lanka', 'T20I v Ireland',\n",
              "       'ODI v Afghanistan', 'T20I v Scotland', 'T20I v Hong Kong'],\n",
              "      dtype=object)"
            ]
          },
          "metadata": {},
          "execution_count": 28
        }
      ]
    },
    {
      "cell_type": "markdown",
      "source": [
        "We can see that the column contains the opposition name as well as the format. Hence, we can create a new column of Format from this column. Let us do this. "
      ],
      "metadata": {
        "id": "wJZY4M36h6d5"
      }
    },
    {
      "cell_type": "code",
      "source": [
        "virat_new = virat.copy()\n",
        "virat_new.head()"
      ],
      "metadata": {
        "colab": {
          "base_uri": "https://localhost:8080/",
          "height": 206
        },
        "id": "lgxi_of_h1eU",
        "outputId": "01b34a44-f37c-4dc7-cd2b-c63c4e4420d6"
      },
      "execution_count": 29,
      "outputs": [
        {
          "output_type": "execute_result",
          "data": {
            "text/plain": [
              "   Runs  Mins  BF  4s  6s     SR  Pos Dismissal  Inns       Opposition  \\\n",
              "1    12    33  22   1   0  54.54    2       lbw     1  ODI v Sri Lanka   \n",
              "2    37    82  67   6   0  55.22    2    caught     2  ODI v Sri Lanka   \n",
              "3    25    40  38   4   0  65.78    1   run out     1  ODI v Sri Lanka   \n",
              "4    54    87  66   7   0  81.81    1    bowled     1  ODI v Sri Lanka   \n",
              "5    31    45  46   3   1  67.39    1       lbw     2  ODI v Sri Lanka   \n",
              "\n",
              "          Ground   Start Date  \n",
              "1       Dambulla  18 Aug 2008  \n",
              "2       Dambulla  20 Aug 2008  \n",
              "3  Colombo (RPS)  24 Aug 2008  \n",
              "4  Colombo (RPS)  27 Aug 2008  \n",
              "5  Colombo (RPS)  29 Aug 2008  "
            ],
            "text/html": [
              "\n",
              "  <div id=\"df-a052e008-9212-4f5f-97fb-15f20c51fecf\">\n",
              "    <div class=\"colab-df-container\">\n",
              "      <div>\n",
              "<style scoped>\n",
              "    .dataframe tbody tr th:only-of-type {\n",
              "        vertical-align: middle;\n",
              "    }\n",
              "\n",
              "    .dataframe tbody tr th {\n",
              "        vertical-align: top;\n",
              "    }\n",
              "\n",
              "    .dataframe thead th {\n",
              "        text-align: right;\n",
              "    }\n",
              "</style>\n",
              "<table border=\"1\" class=\"dataframe\">\n",
              "  <thead>\n",
              "    <tr style=\"text-align: right;\">\n",
              "      <th></th>\n",
              "      <th>Runs</th>\n",
              "      <th>Mins</th>\n",
              "      <th>BF</th>\n",
              "      <th>4s</th>\n",
              "      <th>6s</th>\n",
              "      <th>SR</th>\n",
              "      <th>Pos</th>\n",
              "      <th>Dismissal</th>\n",
              "      <th>Inns</th>\n",
              "      <th>Opposition</th>\n",
              "      <th>Ground</th>\n",
              "      <th>Start Date</th>\n",
              "    </tr>\n",
              "  </thead>\n",
              "  <tbody>\n",
              "    <tr>\n",
              "      <th>1</th>\n",
              "      <td>12</td>\n",
              "      <td>33</td>\n",
              "      <td>22</td>\n",
              "      <td>1</td>\n",
              "      <td>0</td>\n",
              "      <td>54.54</td>\n",
              "      <td>2</td>\n",
              "      <td>lbw</td>\n",
              "      <td>1</td>\n",
              "      <td>ODI v Sri Lanka</td>\n",
              "      <td>Dambulla</td>\n",
              "      <td>18 Aug 2008</td>\n",
              "    </tr>\n",
              "    <tr>\n",
              "      <th>2</th>\n",
              "      <td>37</td>\n",
              "      <td>82</td>\n",
              "      <td>67</td>\n",
              "      <td>6</td>\n",
              "      <td>0</td>\n",
              "      <td>55.22</td>\n",
              "      <td>2</td>\n",
              "      <td>caught</td>\n",
              "      <td>2</td>\n",
              "      <td>ODI v Sri Lanka</td>\n",
              "      <td>Dambulla</td>\n",
              "      <td>20 Aug 2008</td>\n",
              "    </tr>\n",
              "    <tr>\n",
              "      <th>3</th>\n",
              "      <td>25</td>\n",
              "      <td>40</td>\n",
              "      <td>38</td>\n",
              "      <td>4</td>\n",
              "      <td>0</td>\n",
              "      <td>65.78</td>\n",
              "      <td>1</td>\n",
              "      <td>run out</td>\n",
              "      <td>1</td>\n",
              "      <td>ODI v Sri Lanka</td>\n",
              "      <td>Colombo (RPS)</td>\n",
              "      <td>24 Aug 2008</td>\n",
              "    </tr>\n",
              "    <tr>\n",
              "      <th>4</th>\n",
              "      <td>54</td>\n",
              "      <td>87</td>\n",
              "      <td>66</td>\n",
              "      <td>7</td>\n",
              "      <td>0</td>\n",
              "      <td>81.81</td>\n",
              "      <td>1</td>\n",
              "      <td>bowled</td>\n",
              "      <td>1</td>\n",
              "      <td>ODI v Sri Lanka</td>\n",
              "      <td>Colombo (RPS)</td>\n",
              "      <td>27 Aug 2008</td>\n",
              "    </tr>\n",
              "    <tr>\n",
              "      <th>5</th>\n",
              "      <td>31</td>\n",
              "      <td>45</td>\n",
              "      <td>46</td>\n",
              "      <td>3</td>\n",
              "      <td>1</td>\n",
              "      <td>67.39</td>\n",
              "      <td>1</td>\n",
              "      <td>lbw</td>\n",
              "      <td>2</td>\n",
              "      <td>ODI v Sri Lanka</td>\n",
              "      <td>Colombo (RPS)</td>\n",
              "      <td>29 Aug 2008</td>\n",
              "    </tr>\n",
              "  </tbody>\n",
              "</table>\n",
              "</div>\n",
              "      <button class=\"colab-df-convert\" onclick=\"convertToInteractive('df-a052e008-9212-4f5f-97fb-15f20c51fecf')\"\n",
              "              title=\"Convert this dataframe to an interactive table.\"\n",
              "              style=\"display:none;\">\n",
              "        \n",
              "  <svg xmlns=\"http://www.w3.org/2000/svg\" height=\"24px\"viewBox=\"0 0 24 24\"\n",
              "       width=\"24px\">\n",
              "    <path d=\"M0 0h24v24H0V0z\" fill=\"none\"/>\n",
              "    <path d=\"M18.56 5.44l.94 2.06.94-2.06 2.06-.94-2.06-.94-.94-2.06-.94 2.06-2.06.94zm-11 1L8.5 8.5l.94-2.06 2.06-.94-2.06-.94L8.5 2.5l-.94 2.06-2.06.94zm10 10l.94 2.06.94-2.06 2.06-.94-2.06-.94-.94-2.06-.94 2.06-2.06.94z\"/><path d=\"M17.41 7.96l-1.37-1.37c-.4-.4-.92-.59-1.43-.59-.52 0-1.04.2-1.43.59L10.3 9.45l-7.72 7.72c-.78.78-.78 2.05 0 2.83L4 21.41c.39.39.9.59 1.41.59.51 0 1.02-.2 1.41-.59l7.78-7.78 2.81-2.81c.8-.78.8-2.07 0-2.86zM5.41 20L4 18.59l7.72-7.72 1.47 1.35L5.41 20z\"/>\n",
              "  </svg>\n",
              "      </button>\n",
              "      \n",
              "  <style>\n",
              "    .colab-df-container {\n",
              "      display:flex;\n",
              "      flex-wrap:wrap;\n",
              "      gap: 12px;\n",
              "    }\n",
              "\n",
              "    .colab-df-convert {\n",
              "      background-color: #E8F0FE;\n",
              "      border: none;\n",
              "      border-radius: 50%;\n",
              "      cursor: pointer;\n",
              "      display: none;\n",
              "      fill: #1967D2;\n",
              "      height: 32px;\n",
              "      padding: 0 0 0 0;\n",
              "      width: 32px;\n",
              "    }\n",
              "\n",
              "    .colab-df-convert:hover {\n",
              "      background-color: #E2EBFA;\n",
              "      box-shadow: 0px 1px 2px rgba(60, 64, 67, 0.3), 0px 1px 3px 1px rgba(60, 64, 67, 0.15);\n",
              "      fill: #174EA6;\n",
              "    }\n",
              "\n",
              "    [theme=dark] .colab-df-convert {\n",
              "      background-color: #3B4455;\n",
              "      fill: #D2E3FC;\n",
              "    }\n",
              "\n",
              "    [theme=dark] .colab-df-convert:hover {\n",
              "      background-color: #434B5C;\n",
              "      box-shadow: 0px 1px 3px 1px rgba(0, 0, 0, 0.15);\n",
              "      filter: drop-shadow(0px 1px 2px rgba(0, 0, 0, 0.3));\n",
              "      fill: #FFFFFF;\n",
              "    }\n",
              "  </style>\n",
              "\n",
              "      <script>\n",
              "        const buttonEl =\n",
              "          document.querySelector('#df-a052e008-9212-4f5f-97fb-15f20c51fecf button.colab-df-convert');\n",
              "        buttonEl.style.display =\n",
              "          google.colab.kernel.accessAllowed ? 'block' : 'none';\n",
              "\n",
              "        async function convertToInteractive(key) {\n",
              "          const element = document.querySelector('#df-a052e008-9212-4f5f-97fb-15f20c51fecf');\n",
              "          const dataTable =\n",
              "            await google.colab.kernel.invokeFunction('convertToInteractive',\n",
              "                                                     [key], {});\n",
              "          if (!dataTable) return;\n",
              "\n",
              "          const docLinkHtml = 'Like what you see? Visit the ' +\n",
              "            '<a target=\"_blank\" href=https://colab.research.google.com/notebooks/data_table.ipynb>data table notebook</a>'\n",
              "            + ' to learn more about interactive tables.';\n",
              "          element.innerHTML = '';\n",
              "          dataTable['output_type'] = 'display_data';\n",
              "          await google.colab.output.renderOutput(dataTable, element);\n",
              "          const docLink = document.createElement('div');\n",
              "          docLink.innerHTML = docLinkHtml;\n",
              "          element.appendChild(docLink);\n",
              "        }\n",
              "      </script>\n",
              "    </div>\n",
              "  </div>\n",
              "  "
            ]
          },
          "metadata": {},
          "execution_count": 29
        }
      ]
    },
    {
      "cell_type": "code",
      "source": [
        "virat_new.insert(5,'Format',virat_new['Opposition'].str.split(' v ',n=1,expand=True)[0])\n",
        "virat_new['Opposition'] = virat_new['Opposition'].str.split(' v ',n=1,expand=True)[1]\n",
        "virat_new.head()"
      ],
      "metadata": {
        "colab": {
          "base_uri": "https://localhost:8080/",
          "height": 206
        },
        "id": "O6WmDm64iMKo",
        "outputId": "170fda7a-1f53-4793-9696-ae93ba269db8"
      },
      "execution_count": 30,
      "outputs": [
        {
          "output_type": "execute_result",
          "data": {
            "text/plain": [
              "   Runs  Mins  BF  4s  6s Format     SR  Pos Dismissal  Inns Opposition  \\\n",
              "1    12    33  22   1   0    ODI  54.54    2       lbw     1  Sri Lanka   \n",
              "2    37    82  67   6   0    ODI  55.22    2    caught     2  Sri Lanka   \n",
              "3    25    40  38   4   0    ODI  65.78    1   run out     1  Sri Lanka   \n",
              "4    54    87  66   7   0    ODI  81.81    1    bowled     1  Sri Lanka   \n",
              "5    31    45  46   3   1    ODI  67.39    1       lbw     2  Sri Lanka   \n",
              "\n",
              "          Ground   Start Date  \n",
              "1       Dambulla  18 Aug 2008  \n",
              "2       Dambulla  20 Aug 2008  \n",
              "3  Colombo (RPS)  24 Aug 2008  \n",
              "4  Colombo (RPS)  27 Aug 2008  \n",
              "5  Colombo (RPS)  29 Aug 2008  "
            ],
            "text/html": [
              "\n",
              "  <div id=\"df-4f2c363c-c180-420b-8103-9b095530853a\">\n",
              "    <div class=\"colab-df-container\">\n",
              "      <div>\n",
              "<style scoped>\n",
              "    .dataframe tbody tr th:only-of-type {\n",
              "        vertical-align: middle;\n",
              "    }\n",
              "\n",
              "    .dataframe tbody tr th {\n",
              "        vertical-align: top;\n",
              "    }\n",
              "\n",
              "    .dataframe thead th {\n",
              "        text-align: right;\n",
              "    }\n",
              "</style>\n",
              "<table border=\"1\" class=\"dataframe\">\n",
              "  <thead>\n",
              "    <tr style=\"text-align: right;\">\n",
              "      <th></th>\n",
              "      <th>Runs</th>\n",
              "      <th>Mins</th>\n",
              "      <th>BF</th>\n",
              "      <th>4s</th>\n",
              "      <th>6s</th>\n",
              "      <th>Format</th>\n",
              "      <th>SR</th>\n",
              "      <th>Pos</th>\n",
              "      <th>Dismissal</th>\n",
              "      <th>Inns</th>\n",
              "      <th>Opposition</th>\n",
              "      <th>Ground</th>\n",
              "      <th>Start Date</th>\n",
              "    </tr>\n",
              "  </thead>\n",
              "  <tbody>\n",
              "    <tr>\n",
              "      <th>1</th>\n",
              "      <td>12</td>\n",
              "      <td>33</td>\n",
              "      <td>22</td>\n",
              "      <td>1</td>\n",
              "      <td>0</td>\n",
              "      <td>ODI</td>\n",
              "      <td>54.54</td>\n",
              "      <td>2</td>\n",
              "      <td>lbw</td>\n",
              "      <td>1</td>\n",
              "      <td>Sri Lanka</td>\n",
              "      <td>Dambulla</td>\n",
              "      <td>18 Aug 2008</td>\n",
              "    </tr>\n",
              "    <tr>\n",
              "      <th>2</th>\n",
              "      <td>37</td>\n",
              "      <td>82</td>\n",
              "      <td>67</td>\n",
              "      <td>6</td>\n",
              "      <td>0</td>\n",
              "      <td>ODI</td>\n",
              "      <td>55.22</td>\n",
              "      <td>2</td>\n",
              "      <td>caught</td>\n",
              "      <td>2</td>\n",
              "      <td>Sri Lanka</td>\n",
              "      <td>Dambulla</td>\n",
              "      <td>20 Aug 2008</td>\n",
              "    </tr>\n",
              "    <tr>\n",
              "      <th>3</th>\n",
              "      <td>25</td>\n",
              "      <td>40</td>\n",
              "      <td>38</td>\n",
              "      <td>4</td>\n",
              "      <td>0</td>\n",
              "      <td>ODI</td>\n",
              "      <td>65.78</td>\n",
              "      <td>1</td>\n",
              "      <td>run out</td>\n",
              "      <td>1</td>\n",
              "      <td>Sri Lanka</td>\n",
              "      <td>Colombo (RPS)</td>\n",
              "      <td>24 Aug 2008</td>\n",
              "    </tr>\n",
              "    <tr>\n",
              "      <th>4</th>\n",
              "      <td>54</td>\n",
              "      <td>87</td>\n",
              "      <td>66</td>\n",
              "      <td>7</td>\n",
              "      <td>0</td>\n",
              "      <td>ODI</td>\n",
              "      <td>81.81</td>\n",
              "      <td>1</td>\n",
              "      <td>bowled</td>\n",
              "      <td>1</td>\n",
              "      <td>Sri Lanka</td>\n",
              "      <td>Colombo (RPS)</td>\n",
              "      <td>27 Aug 2008</td>\n",
              "    </tr>\n",
              "    <tr>\n",
              "      <th>5</th>\n",
              "      <td>31</td>\n",
              "      <td>45</td>\n",
              "      <td>46</td>\n",
              "      <td>3</td>\n",
              "      <td>1</td>\n",
              "      <td>ODI</td>\n",
              "      <td>67.39</td>\n",
              "      <td>1</td>\n",
              "      <td>lbw</td>\n",
              "      <td>2</td>\n",
              "      <td>Sri Lanka</td>\n",
              "      <td>Colombo (RPS)</td>\n",
              "      <td>29 Aug 2008</td>\n",
              "    </tr>\n",
              "  </tbody>\n",
              "</table>\n",
              "</div>\n",
              "      <button class=\"colab-df-convert\" onclick=\"convertToInteractive('df-4f2c363c-c180-420b-8103-9b095530853a')\"\n",
              "              title=\"Convert this dataframe to an interactive table.\"\n",
              "              style=\"display:none;\">\n",
              "        \n",
              "  <svg xmlns=\"http://www.w3.org/2000/svg\" height=\"24px\"viewBox=\"0 0 24 24\"\n",
              "       width=\"24px\">\n",
              "    <path d=\"M0 0h24v24H0V0z\" fill=\"none\"/>\n",
              "    <path d=\"M18.56 5.44l.94 2.06.94-2.06 2.06-.94-2.06-.94-.94-2.06-.94 2.06-2.06.94zm-11 1L8.5 8.5l.94-2.06 2.06-.94-2.06-.94L8.5 2.5l-.94 2.06-2.06.94zm10 10l.94 2.06.94-2.06 2.06-.94-2.06-.94-.94-2.06-.94 2.06-2.06.94z\"/><path d=\"M17.41 7.96l-1.37-1.37c-.4-.4-.92-.59-1.43-.59-.52 0-1.04.2-1.43.59L10.3 9.45l-7.72 7.72c-.78.78-.78 2.05 0 2.83L4 21.41c.39.39.9.59 1.41.59.51 0 1.02-.2 1.41-.59l7.78-7.78 2.81-2.81c.8-.78.8-2.07 0-2.86zM5.41 20L4 18.59l7.72-7.72 1.47 1.35L5.41 20z\"/>\n",
              "  </svg>\n",
              "      </button>\n",
              "      \n",
              "  <style>\n",
              "    .colab-df-container {\n",
              "      display:flex;\n",
              "      flex-wrap:wrap;\n",
              "      gap: 12px;\n",
              "    }\n",
              "\n",
              "    .colab-df-convert {\n",
              "      background-color: #E8F0FE;\n",
              "      border: none;\n",
              "      border-radius: 50%;\n",
              "      cursor: pointer;\n",
              "      display: none;\n",
              "      fill: #1967D2;\n",
              "      height: 32px;\n",
              "      padding: 0 0 0 0;\n",
              "      width: 32px;\n",
              "    }\n",
              "\n",
              "    .colab-df-convert:hover {\n",
              "      background-color: #E2EBFA;\n",
              "      box-shadow: 0px 1px 2px rgba(60, 64, 67, 0.3), 0px 1px 3px 1px rgba(60, 64, 67, 0.15);\n",
              "      fill: #174EA6;\n",
              "    }\n",
              "\n",
              "    [theme=dark] .colab-df-convert {\n",
              "      background-color: #3B4455;\n",
              "      fill: #D2E3FC;\n",
              "    }\n",
              "\n",
              "    [theme=dark] .colab-df-convert:hover {\n",
              "      background-color: #434B5C;\n",
              "      box-shadow: 0px 1px 3px 1px rgba(0, 0, 0, 0.15);\n",
              "      filter: drop-shadow(0px 1px 2px rgba(0, 0, 0, 0.3));\n",
              "      fill: #FFFFFF;\n",
              "    }\n",
              "  </style>\n",
              "\n",
              "      <script>\n",
              "        const buttonEl =\n",
              "          document.querySelector('#df-4f2c363c-c180-420b-8103-9b095530853a button.colab-df-convert');\n",
              "        buttonEl.style.display =\n",
              "          google.colab.kernel.accessAllowed ? 'block' : 'none';\n",
              "\n",
              "        async function convertToInteractive(key) {\n",
              "          const element = document.querySelector('#df-4f2c363c-c180-420b-8103-9b095530853a');\n",
              "          const dataTable =\n",
              "            await google.colab.kernel.invokeFunction('convertToInteractive',\n",
              "                                                     [key], {});\n",
              "          if (!dataTable) return;\n",
              "\n",
              "          const docLinkHtml = 'Like what you see? Visit the ' +\n",
              "            '<a target=\"_blank\" href=https://colab.research.google.com/notebooks/data_table.ipynb>data table notebook</a>'\n",
              "            + ' to learn more about interactive tables.';\n",
              "          element.innerHTML = '';\n",
              "          dataTable['output_type'] = 'display_data';\n",
              "          await google.colab.output.renderOutput(dataTable, element);\n",
              "          const docLink = document.createElement('div');\n",
              "          docLink.innerHTML = docLinkHtml;\n",
              "          element.appendChild(docLink);\n",
              "        }\n",
              "      </script>\n",
              "    </div>\n",
              "  </div>\n",
              "  "
            ]
          },
          "metadata": {},
          "execution_count": 30
        }
      ]
    },
    {
      "cell_type": "code",
      "source": [
        "virat_new.Format.value_counts()"
      ],
      "metadata": {
        "colab": {
          "base_uri": "https://localhost:8080/"
        },
        "id": "jr1VJyNji15N",
        "outputId": "635e9ebd-cad9-4d11-f802-2b50c76c8b10"
      },
      "execution_count": 31,
      "outputs": [
        {
          "output_type": "execute_result",
          "data": {
            "text/plain": [
              "ODI     253\n",
              "Test    173\n",
              "T20I     98\n",
              "Name: Format, dtype: int64"
            ]
          },
          "metadata": {},
          "execution_count": 31
        }
      ]
    },
    {
      "cell_type": "markdown",
      "source": [
        "Great. We have transformed the column. Now, let us move on to the `Dismissal` column. First, check unique values."
      ],
      "metadata": {
        "id": "VeNAOMPHk54D"
      }
    },
    {
      "cell_type": "code",
      "source": [
        "virat_new.Dismissal.unique()"
      ],
      "metadata": {
        "colab": {
          "base_uri": "https://localhost:8080/"
        },
        "id": "hPEPGd7Gkd21",
        "outputId": "9e2dc745-a88d-4c6b-dd02-1662dbe99ab4"
      },
      "execution_count": 32,
      "outputs": [
        {
          "output_type": "execute_result",
          "data": {
            "text/plain": [
              "array(['lbw', 'caught', 'run out', 'bowled', 'not out', 'stumped',\n",
              "       'hit wicket'], dtype=object)"
            ]
          },
          "metadata": {},
          "execution_count": 32
        }
      ]
    },
    {
      "cell_type": "markdown",
      "source": [
        "So, this column does not have any errors or anything in the values. Let us examine another column."
      ],
      "metadata": {
        "id": "ud8qBybdlJ6w"
      }
    },
    {
      "cell_type": "code",
      "source": [
        "virat_new.Ground.unique()"
      ],
      "metadata": {
        "colab": {
          "base_uri": "https://localhost:8080/"
        },
        "id": "mzpQpb2ulGpW",
        "outputId": "2770aeae-4766-4b6a-ee51-1953ef068d6a"
      },
      "execution_count": 33,
      "outputs": [
        {
          "output_type": "execute_result",
          "data": {
            "text/plain": [
              "array(['Dambulla', 'Colombo (RPS)', 'Centurion', 'Johannesburg',\n",
              "       'Vadodara', 'Mohali', 'Rajkot', 'Nagpur', 'Kolkata', 'Mirpur',\n",
              "       'Jaipur', 'Ahmedabad', 'Bulawayo', 'Harare', 'Visakhapatnam',\n",
              "       'Guwahati', 'Bengaluru', 'Chennai', 'Durban', 'Cape Town',\n",
              "       'Gqeberha', 'Delhi', 'Wankhede', 'Port of Spain', 'North Sound',\n",
              "       'Kingston', 'Bridgetown', 'Roseau', 'Manchester',\n",
              "       'Chester-le-Street', 'Southampton', 'The Oval', \"Lord's\",\n",
              "       'Cardiff', 'Hyderabad (Deccan)', 'Cuttack', 'Indore', 'Melbourne',\n",
              "       'Sydney', 'Perth', 'Adelaide', 'Brisbane', 'Hobart', 'Hambantota',\n",
              "       'Pallekele', 'Pune', 'Kochi', 'Ranchi', 'Dharamsala', 'Birmingham',\n",
              "       'Kanpur', 'Napier', 'Hamilton', 'Auckland', 'Wellington',\n",
              "       'Fatullah', 'Nottingham', 'Leeds', 'Galle', 'Colombo (PSS)',\n",
              "       'Colombo (SSC)', 'Canberra', 'Gros Islet', 'Lauderhill',\n",
              "       'Thiruvananthapuram', 'Dublin (Malahide)', 'Bristol', 'Brabourne',\n",
              "       'Mount Maunganui', 'Providence', 'Christchurch', 'Dubai (DSC)',\n",
              "       'Paarl'], dtype=object)"
            ]
          },
          "metadata": {},
          "execution_count": 33
        }
      ]
    },
    {
      "cell_type": "markdown",
      "source": [
        "Great ! So, this column also does not need modifications. Next, let us see the `start date` column."
      ],
      "metadata": {
        "id": "kjKc1crGlXwh"
      }
    },
    {
      "cell_type": "code",
      "source": [
        "virat_new['Start Date'].unique()"
      ],
      "metadata": {
        "colab": {
          "base_uri": "https://localhost:8080/"
        },
        "id": "acoX2qSGlUZY",
        "outputId": "1345cd39-040b-4ff1-d653-b54944c2c59f"
      },
      "execution_count": 34,
      "outputs": [
        {
          "output_type": "execute_result",
          "data": {
            "text/plain": [
              "array(['18 Aug 2008', '20 Aug 2008', '24 Aug 2008', '27 Aug 2008',\n",
              "       '29 Aug 2008', '14 Sep 2009', '26 Sep 2009', '30 Sep 2009',\n",
              "       '25 Oct 2009', '2 Nov 2009', '15 Dec 2009', '18 Dec 2009',\n",
              "       '24 Dec 2009', '5 Jan 2010', '7 Jan 2010', '10 Jan 2010',\n",
              "       '11 Jan 2010', '13 Jan 2010', '21 Feb 2010', '27 Feb 2010',\n",
              "       '28 May 2010', '30 May 2010', '3 Jun 2010', '5 Jun 2010',\n",
              "       '12 Jun 2010', '16 Jun 2010', '19 Jun 2010', '22 Jun 2010',\n",
              "       '24 Jun 2010', '16 Aug 2010', '25 Aug 2010', '28 Aug 2010',\n",
              "       '20 Oct 2010', '28 Nov 2010', '1 Dec 2010', '4 Dec 2010',\n",
              "       '7 Dec 2010', '10 Dec 2010', '9 Jan 2011', '12 Jan 2011',\n",
              "       '15 Jan 2011', '18 Jan 2011', '21 Jan 2011', '23 Jan 2011',\n",
              "       '19 Feb 2011', '27 Feb 2011', '6 Mar 2011', '9 Mar 2011',\n",
              "       '12 Mar 2011', '20 Mar 2011', '24 Mar 2011', '30 Mar 2011',\n",
              "       '2 Apr 2011', '4 Jun 2011', '6 Jun 2011', '8 Jun 2011',\n",
              "       '11 Jun 2011', '13 Jun 2011', '16 Jun 2011', '20 Jun 2011',\n",
              "       '28 Jun 2011', '6 Jul 2011', '31 Aug 2011', '3 Sep 2011',\n",
              "       '6 Sep 2011', '9 Sep 2011', '11 Sep 2011', '16 Sep 2011',\n",
              "       '14 Oct 2011', '17 Oct 2011', '20 Oct 2011', '23 Oct 2011',\n",
              "       '25 Oct 2011', '29 Oct 2011', '22 Nov 2011', '29 Nov 2011',\n",
              "       '2 Dec 2011', '5 Dec 2011', '8 Dec 2011', '11 Dec 2011',\n",
              "       '26 Dec 2011', '3 Jan 2012', '13 Jan 2012', '24 Jan 2012',\n",
              "       '1 Feb 2012', '3 Feb 2012', '5 Feb 2012', '8 Feb 2012',\n",
              "       '12 Feb 2012', '14 Feb 2012', '19 Feb 2012', '21 Feb 2012',\n",
              "       '26 Feb 2012', '28 Feb 2012', '13 Mar 2012', '16 Mar 2012',\n",
              "       '18 Mar 2012', '21 Jul 2012', '24 Jul 2012', '28 Jul 2012',\n",
              "       '31 Jul 2012', '4 Aug 2012', '7 Aug 2012', '23 Aug 2012',\n",
              "       '31 Aug 2012', '11 Sep 2012', '19 Sep 2012', '23 Sep 2012',\n",
              "       '28 Sep 2012', '30 Sep 2012', '2 Oct 2012', '15 Nov 2012',\n",
              "       '23 Nov 2012', '5 Dec 2012', '13 Dec 2012', '20 Dec 2012',\n",
              "       '22 Dec 2012', '25 Dec 2012', '28 Dec 2012', '30 Dec 2012',\n",
              "       '3 Jan 2013', '6 Jan 2013', '11 Jan 2013', '15 Jan 2013',\n",
              "       '19 Jan 2013', '23 Jan 2013', '27 Jan 2013', '22 Feb 2013',\n",
              "       '2 Mar 2013', '14 Mar 2013', '22 Mar 2013', '6 Jun 2013',\n",
              "       '11 Jun 2013', '15 Jun 2013', '20 Jun 2013', '23 Jun 2013',\n",
              "       '30 Jun 2013', '2 Jul 2013', '5 Jul 2013', '9 Jul 2013',\n",
              "       '11 Jul 2013', '24 Jul 2013', '26 Jul 2013', '28 Jul 2013',\n",
              "       '10 Oct 2013', '13 Oct 2013', '16 Oct 2013', '19 Oct 2013',\n",
              "       '30 Oct 2013', '2 Nov 2013', '6 Nov 2013', '14 Nov 2013',\n",
              "       '21 Nov 2013', '24 Nov 2013', '27 Nov 2013', '5 Dec 2013',\n",
              "       '8 Dec 2013', '18 Dec 2013', '26 Dec 2013', '19 Jan 2014',\n",
              "       '22 Jan 2014', '25 Jan 2014', '28 Jan 2014', '31 Jan 2014',\n",
              "       '6 Feb 2014', '14 Feb 2014', '26 Feb 2014', '28 Feb 2014',\n",
              "       '2 Mar 2014', '21 Mar 2014', '23 Mar 2014', '28 Mar 2014',\n",
              "       '30 Mar 2014', '4 Apr 2014', '6 Apr 2014', '9 Jul 2014',\n",
              "       '17 Jul 2014', '27 Jul 2014', '7 Aug 2014', '15 Aug 2014',\n",
              "       '27 Aug 2014', '30 Aug 2014', '2 Sep 2014', '5 Sep 2014',\n",
              "       '7 Sep 2014', '8 Oct 2014', '11 Oct 2014', '17 Oct 2014',\n",
              "       '2 Nov 2014', '6 Nov 2014', '9 Nov 2014', '13 Nov 2014',\n",
              "       '16 Nov 2014', '9 Dec 2014', '17 Dec 2014', '26 Dec 2014',\n",
              "       '6 Jan 2015', '18 Jan 2015', '20 Jan 2015', '26 Jan 2015',\n",
              "       '30 Jan 2015', '15 Feb 2015', '22 Feb 2015', '28 Feb 2015',\n",
              "       '6 Mar 2015', '10 Mar 2015', '14 Mar 2015', '19 Mar 2015',\n",
              "       '26 Mar 2015', '10 Jun 2015', '18 Jun 2015', '21 Jun 2015',\n",
              "       '24 Jun 2015', '12 Aug 2015', '20 Aug 2015', '28 Aug 2015',\n",
              "       '2 Oct 2015', '5 Oct 2015', '11 Oct 2015', '14 Oct 2015',\n",
              "       '18 Oct 2015', '22 Oct 2015', '25 Oct 2015', '5 Nov 2015',\n",
              "       '25 Nov 2015', '3 Dec 2015', '12 Jan 2016', '15 Jan 2016',\n",
              "       '17 Jan 2016', '20 Jan 2016', '23 Jan 2016', '26 Jan 2016',\n",
              "       '29 Jan 2016', '31 Jan 2016', '24 Feb 2016', '27 Feb 2016',\n",
              "       '1 Mar 2016', '6 Mar 2016', '15 Mar 2016', '19 Mar 2016',\n",
              "       '23 Mar 2016', '27 Mar 2016', '31 Mar 2016', '21 Jul 2016',\n",
              "       '30 Jul 2016', '9 Aug 2016', '27 Aug 2016', '22 Sep 2016',\n",
              "       '30 Sep 2016', '8 Oct 2016', '16 Oct 2016', '20 Oct 2016',\n",
              "       '23 Oct 2016', '26 Oct 2016', '29 Oct 2016', '9 Nov 2016',\n",
              "       '17 Nov 2016', '26 Nov 2016', '8 Dec 2016', '16 Dec 2016',\n",
              "       '15 Jan 2017', '19 Jan 2017', '22 Jan 2017', '26 Jan 2017',\n",
              "       '29 Jan 2017', '1 Feb 2017', '9 Feb 2017', '23 Feb 2017',\n",
              "       '4 Mar 2017', '16 Mar 2017', '4 Jun 2017', '8 Jun 2017',\n",
              "       '11 Jun 2017', '15 Jun 2017', '18 Jun 2017', '23 Jun 2017',\n",
              "       '25 Jun 2017', '30 Jun 2017', '2 Jul 2017', '6 Jul 2017',\n",
              "       '9 Jul 2017', '26 Jul 2017', '3 Aug 2017', '12 Aug 2017',\n",
              "       '20 Aug 2017', '24 Aug 2017', '27 Aug 2017', '31 Aug 2017',\n",
              "       '3 Sep 2017', '6 Sep 2017', '17 Sep 2017', '21 Sep 2017',\n",
              "       '24 Sep 2017', '28 Sep 2017', '1 Oct 2017', '7 Oct 2017',\n",
              "       '10 Oct 2017', '22 Oct 2017', '25 Oct 2017', '29 Oct 2017',\n",
              "       '1 Nov 2017', '4 Nov 2017', '7 Nov 2017', '16 Nov 2017',\n",
              "       '24 Nov 2017', '2 Dec 2017', '5 Jan 2018', '13 Jan 2018',\n",
              "       '24 Jan 2018', '1 Feb 2018', '4 Feb 2018', '7 Feb 2018',\n",
              "       '10 Feb 2018', '13 Feb 2018', '16 Feb 2018', '18 Feb 2018',\n",
              "       '21 Feb 2018', '27 Jun 2018', '29 Jun 2018', '3 Jul 2018',\n",
              "       '6 Jul 2018', '8 Jul 2018', '12 Jul 2018', '14 Jul 2018',\n",
              "       '17 Jul 2018', '1 Aug 2018', '9 Aug 2018', '18 Aug 2018',\n",
              "       '30 Aug 2018', '7 Sep 2018', '4 Oct 2018', '12 Oct 2018',\n",
              "       '21 Oct 2018', '24 Oct 2018', '27 Oct 2018', '29 Oct 2018',\n",
              "       '1 Nov 2018', '21 Nov 2018', '25 Nov 2018', '6 Dec 2018',\n",
              "       '14 Dec 2018', '26 Dec 2018', '3 Jan 2019', '12 Jan 2019',\n",
              "       '15 Jan 2019', '18 Jan 2019', '23 Jan 2019', '26 Jan 2019',\n",
              "       '28 Jan 2019', '24 Feb 2019', '27 Feb 2019', '2 Mar 2019',\n",
              "       '5 Mar 2019', '8 Mar 2019', '10 Mar 2019', '13 Mar 2019',\n",
              "       '5 Jun 2019', '9 Jun 2019', '16 Jun 2019', '22 Jun 2019',\n",
              "       '27 Jun 2019', '30 Jun 2019', '2 Jul 2019', '6 Jul 2019',\n",
              "       '9 Jul 2019', '3 Aug 2019', '4 Aug 2019', '6 Aug 2019',\n",
              "       '11 Aug 2019', '14 Aug 2019', '22 Aug 2019', '30 Aug 2019',\n",
              "       '18 Sep 2019', '22 Sep 2019', '2 Oct 2019', '10 Oct 2019',\n",
              "       '19 Oct 2019', '14 Nov 2019', '22 Nov 2019', '6 Dec 2019',\n",
              "       '8 Dec 2019', '11 Dec 2019', '15 Dec 2019', '18 Dec 2019',\n",
              "       '22 Dec 2019', '7 Jan 2020', '10 Jan 2020', '14 Jan 2020',\n",
              "       '17 Jan 2020', '19 Jan 2020', '24 Jan 2020', '26 Jan 2020',\n",
              "       '29 Jan 2020', '31 Jan 2020', '5 Feb 2020', '8 Feb 2020',\n",
              "       '11 Feb 2020', '21 Feb 2020', '29 Feb 2020', '27 Nov 2020',\n",
              "       '29 Nov 2020', '2 Dec 2020', '4 Dec 2020', '6 Dec 2020',\n",
              "       '8 Dec 2020', '17 Dec 2020', '5 Feb 2021', '13 Feb 2021',\n",
              "       '24 Feb 2021', '4 Mar 2021', '12 Mar 2021', '14 Mar 2021',\n",
              "       '16 Mar 2021', '18 Mar 2021', '20 Mar 2021', '23 Mar 2021',\n",
              "       '26 Mar 2021', '28 Mar 2021', '18 Jun 2021', '4 Aug 2021',\n",
              "       '12 Aug 2021', '25 Aug 2021', '2 Sep 2021', '24 Oct 2021',\n",
              "       '31 Oct 2021', '5 Nov 2021', '3 Dec 2021', '26 Dec 2021',\n",
              "       '11 Jan 2022', '19 Jan 2022', '21 Jan 2022', '23 Jan 2022',\n",
              "       '6 Feb 2022', '9 Feb 2022', '11 Feb 2022', '16 Feb 2022',\n",
              "       '18 Feb 2022', '4 Mar 2022', '12 Mar 2022', '1 Jul 2022',\n",
              "       '9 Jul 2022', '10 Jul 2022', '14 Jul 2022', '17 Jul 2022',\n",
              "       '28 Aug 2022', '31 Aug 2022', '4 Sep 2022', '6 Sep 2022',\n",
              "       '8 Sep 2022', '20 Sep 2022', '23 Sep 2022'], dtype=object)"
            ]
          },
          "metadata": {},
          "execution_count": 34
        }
      ]
    },
    {
      "cell_type": "markdown",
      "source": [
        "We can clearly see that there are no improper values. Now, let us check for null values. "
      ],
      "metadata": {
        "id": "Bfrh2gHtl13a"
      }
    },
    {
      "cell_type": "markdown",
      "source": [
        "#### Checking for Null Values"
      ],
      "metadata": {
        "id": "-BTmYwpkl9wR"
      }
    },
    {
      "cell_type": "code",
      "source": [
        "virat_new.isnull().sum()"
      ],
      "metadata": {
        "colab": {
          "base_uri": "https://localhost:8080/"
        },
        "id": "UQpyFqNUlmw2",
        "outputId": "7864e985-0b0f-4971-92a5-8af68da891cc"
      },
      "execution_count": 35,
      "outputs": [
        {
          "output_type": "execute_result",
          "data": {
            "text/plain": [
              "Runs          0\n",
              "Mins          0\n",
              "BF            0\n",
              "4s            0\n",
              "6s            0\n",
              "Format        0\n",
              "SR            0\n",
              "Pos           0\n",
              "Dismissal     0\n",
              "Inns          0\n",
              "Opposition    0\n",
              "Ground        0\n",
              "Start Date    0\n",
              "dtype: int64"
            ]
          },
          "metadata": {},
          "execution_count": 35
        }
      ]
    },
    {
      "cell_type": "code",
      "source": [
        "virat_new.isnull().sum(axis=1).max()"
      ],
      "metadata": {
        "colab": {
          "base_uri": "https://localhost:8080/"
        },
        "id": "K1VY2UPdmE4Y",
        "outputId": "6fb06fc6-08c2-4bc7-c18b-d92055da15e9"
      },
      "execution_count": 36,
      "outputs": [
        {
          "output_type": "execute_result",
          "data": {
            "text/plain": [
              "0"
            ]
          },
          "metadata": {},
          "execution_count": 36
        }
      ]
    },
    {
      "cell_type": "markdown",
      "source": [
        "Hence, we do not have any null values. Now, let us move ahead to our data visualization."
      ],
      "metadata": {
        "id": "SOIA3tXDmQ5L"
      }
    },
    {
      "cell_type": "markdown",
      "source": [
        "### Data Visualization"
      ],
      "metadata": {
        "id": "VYjimI3xmYFd"
      }
    },
    {
      "cell_type": "markdown",
      "source": [
        "Now, it is time for our data visualization. First, let us find out some descriptive statistics for our columns."
      ],
      "metadata": {
        "id": "A1lL7Y3lmqt4"
      }
    },
    {
      "cell_type": "code",
      "source": [
        "virat_new.info()"
      ],
      "metadata": {
        "colab": {
          "base_uri": "https://localhost:8080/"
        },
        "id": "vEu9WxSgmIq7",
        "outputId": "cc4771d3-76ad-47ee-e7c9-0d0be6d31996"
      },
      "execution_count": 37,
      "outputs": [
        {
          "output_type": "stream",
          "name": "stdout",
          "text": [
            "<class 'pandas.core.frame.DataFrame'>\n",
            "Int64Index: 524 entries, 1 to 548\n",
            "Data columns (total 13 columns):\n",
            " #   Column      Non-Null Count  Dtype  \n",
            "---  ------      --------------  -----  \n",
            " 0   Runs        524 non-null    int64  \n",
            " 1   Mins        524 non-null    int64  \n",
            " 2   BF          524 non-null    int64  \n",
            " 3   4s          524 non-null    int64  \n",
            " 4   6s          524 non-null    int64  \n",
            " 5   Format      524 non-null    object \n",
            " 6   SR          524 non-null    float64\n",
            " 7   Pos         524 non-null    int64  \n",
            " 8   Dismissal   524 non-null    object \n",
            " 9   Inns        524 non-null    int64  \n",
            " 10  Opposition  524 non-null    object \n",
            " 11  Ground      524 non-null    object \n",
            " 12  Start Date  524 non-null    object \n",
            "dtypes: float64(1), int64(7), object(5)\n",
            "memory usage: 57.3+ KB\n"
          ]
        }
      ]
    },
    {
      "cell_type": "code",
      "source": [
        "num = ['Runs','Mins','BF','4s','6s','SR']\n",
        "cat = ['Format','Dismissal','Opposition','Ground']"
      ],
      "metadata": {
        "id": "omy9GkoEm1p4"
      },
      "execution_count": 38,
      "outputs": []
    },
    {
      "cell_type": "code",
      "source": [
        "round(virat_new[num].describe(),3)"
      ],
      "metadata": {
        "colab": {
          "base_uri": "https://localhost:8080/",
          "height": 300
        },
        "id": "pIafSmvfnMfN",
        "outputId": "96436b8e-5fe1-4833-af79-49f73d653cd4"
      },
      "execution_count": 39,
      "outputs": [
        {
          "output_type": "execute_result",
          "data": {
            "text/plain": [
              "          Runs     Mins       BF       4s       6s       SR\n",
              "count  524.000  524.000  524.000  524.000  524.000  524.000\n",
              "mean    45.830   72.011   58.011    4.561    0.483   77.230\n",
              "std     44.508   83.200   57.990    4.968    1.002   44.604\n",
              "min      0.000    0.000    0.000    0.000    0.000    0.000\n",
              "25%     11.000   11.000   17.000    1.000    0.000   47.978\n",
              "50%     32.500   44.000   41.000    3.000    0.000   72.240\n",
              "75%     70.000  109.000   83.000    7.000    1.000  101.292\n",
              "max    254.000  536.000  366.000   33.000    7.000  241.370"
            ],
            "text/html": [
              "\n",
              "  <div id=\"df-050cd855-d93e-4fb1-b106-07ebdd1c3ff0\">\n",
              "    <div class=\"colab-df-container\">\n",
              "      <div>\n",
              "<style scoped>\n",
              "    .dataframe tbody tr th:only-of-type {\n",
              "        vertical-align: middle;\n",
              "    }\n",
              "\n",
              "    .dataframe tbody tr th {\n",
              "        vertical-align: top;\n",
              "    }\n",
              "\n",
              "    .dataframe thead th {\n",
              "        text-align: right;\n",
              "    }\n",
              "</style>\n",
              "<table border=\"1\" class=\"dataframe\">\n",
              "  <thead>\n",
              "    <tr style=\"text-align: right;\">\n",
              "      <th></th>\n",
              "      <th>Runs</th>\n",
              "      <th>Mins</th>\n",
              "      <th>BF</th>\n",
              "      <th>4s</th>\n",
              "      <th>6s</th>\n",
              "      <th>SR</th>\n",
              "    </tr>\n",
              "  </thead>\n",
              "  <tbody>\n",
              "    <tr>\n",
              "      <th>count</th>\n",
              "      <td>524.000</td>\n",
              "      <td>524.000</td>\n",
              "      <td>524.000</td>\n",
              "      <td>524.000</td>\n",
              "      <td>524.000</td>\n",
              "      <td>524.000</td>\n",
              "    </tr>\n",
              "    <tr>\n",
              "      <th>mean</th>\n",
              "      <td>45.830</td>\n",
              "      <td>72.011</td>\n",
              "      <td>58.011</td>\n",
              "      <td>4.561</td>\n",
              "      <td>0.483</td>\n",
              "      <td>77.230</td>\n",
              "    </tr>\n",
              "    <tr>\n",
              "      <th>std</th>\n",
              "      <td>44.508</td>\n",
              "      <td>83.200</td>\n",
              "      <td>57.990</td>\n",
              "      <td>4.968</td>\n",
              "      <td>1.002</td>\n",
              "      <td>44.604</td>\n",
              "    </tr>\n",
              "    <tr>\n",
              "      <th>min</th>\n",
              "      <td>0.000</td>\n",
              "      <td>0.000</td>\n",
              "      <td>0.000</td>\n",
              "      <td>0.000</td>\n",
              "      <td>0.000</td>\n",
              "      <td>0.000</td>\n",
              "    </tr>\n",
              "    <tr>\n",
              "      <th>25%</th>\n",
              "      <td>11.000</td>\n",
              "      <td>11.000</td>\n",
              "      <td>17.000</td>\n",
              "      <td>1.000</td>\n",
              "      <td>0.000</td>\n",
              "      <td>47.978</td>\n",
              "    </tr>\n",
              "    <tr>\n",
              "      <th>50%</th>\n",
              "      <td>32.500</td>\n",
              "      <td>44.000</td>\n",
              "      <td>41.000</td>\n",
              "      <td>3.000</td>\n",
              "      <td>0.000</td>\n",
              "      <td>72.240</td>\n",
              "    </tr>\n",
              "    <tr>\n",
              "      <th>75%</th>\n",
              "      <td>70.000</td>\n",
              "      <td>109.000</td>\n",
              "      <td>83.000</td>\n",
              "      <td>7.000</td>\n",
              "      <td>1.000</td>\n",
              "      <td>101.292</td>\n",
              "    </tr>\n",
              "    <tr>\n",
              "      <th>max</th>\n",
              "      <td>254.000</td>\n",
              "      <td>536.000</td>\n",
              "      <td>366.000</td>\n",
              "      <td>33.000</td>\n",
              "      <td>7.000</td>\n",
              "      <td>241.370</td>\n",
              "    </tr>\n",
              "  </tbody>\n",
              "</table>\n",
              "</div>\n",
              "      <button class=\"colab-df-convert\" onclick=\"convertToInteractive('df-050cd855-d93e-4fb1-b106-07ebdd1c3ff0')\"\n",
              "              title=\"Convert this dataframe to an interactive table.\"\n",
              "              style=\"display:none;\">\n",
              "        \n",
              "  <svg xmlns=\"http://www.w3.org/2000/svg\" height=\"24px\"viewBox=\"0 0 24 24\"\n",
              "       width=\"24px\">\n",
              "    <path d=\"M0 0h24v24H0V0z\" fill=\"none\"/>\n",
              "    <path d=\"M18.56 5.44l.94 2.06.94-2.06 2.06-.94-2.06-.94-.94-2.06-.94 2.06-2.06.94zm-11 1L8.5 8.5l.94-2.06 2.06-.94-2.06-.94L8.5 2.5l-.94 2.06-2.06.94zm10 10l.94 2.06.94-2.06 2.06-.94-2.06-.94-.94-2.06-.94 2.06-2.06.94z\"/><path d=\"M17.41 7.96l-1.37-1.37c-.4-.4-.92-.59-1.43-.59-.52 0-1.04.2-1.43.59L10.3 9.45l-7.72 7.72c-.78.78-.78 2.05 0 2.83L4 21.41c.39.39.9.59 1.41.59.51 0 1.02-.2 1.41-.59l7.78-7.78 2.81-2.81c.8-.78.8-2.07 0-2.86zM5.41 20L4 18.59l7.72-7.72 1.47 1.35L5.41 20z\"/>\n",
              "  </svg>\n",
              "      </button>\n",
              "      \n",
              "  <style>\n",
              "    .colab-df-container {\n",
              "      display:flex;\n",
              "      flex-wrap:wrap;\n",
              "      gap: 12px;\n",
              "    }\n",
              "\n",
              "    .colab-df-convert {\n",
              "      background-color: #E8F0FE;\n",
              "      border: none;\n",
              "      border-radius: 50%;\n",
              "      cursor: pointer;\n",
              "      display: none;\n",
              "      fill: #1967D2;\n",
              "      height: 32px;\n",
              "      padding: 0 0 0 0;\n",
              "      width: 32px;\n",
              "    }\n",
              "\n",
              "    .colab-df-convert:hover {\n",
              "      background-color: #E2EBFA;\n",
              "      box-shadow: 0px 1px 2px rgba(60, 64, 67, 0.3), 0px 1px 3px 1px rgba(60, 64, 67, 0.15);\n",
              "      fill: #174EA6;\n",
              "    }\n",
              "\n",
              "    [theme=dark] .colab-df-convert {\n",
              "      background-color: #3B4455;\n",
              "      fill: #D2E3FC;\n",
              "    }\n",
              "\n",
              "    [theme=dark] .colab-df-convert:hover {\n",
              "      background-color: #434B5C;\n",
              "      box-shadow: 0px 1px 3px 1px rgba(0, 0, 0, 0.15);\n",
              "      filter: drop-shadow(0px 1px 2px rgba(0, 0, 0, 0.3));\n",
              "      fill: #FFFFFF;\n",
              "    }\n",
              "  </style>\n",
              "\n",
              "      <script>\n",
              "        const buttonEl =\n",
              "          document.querySelector('#df-050cd855-d93e-4fb1-b106-07ebdd1c3ff0 button.colab-df-convert');\n",
              "        buttonEl.style.display =\n",
              "          google.colab.kernel.accessAllowed ? 'block' : 'none';\n",
              "\n",
              "        async function convertToInteractive(key) {\n",
              "          const element = document.querySelector('#df-050cd855-d93e-4fb1-b106-07ebdd1c3ff0');\n",
              "          const dataTable =\n",
              "            await google.colab.kernel.invokeFunction('convertToInteractive',\n",
              "                                                     [key], {});\n",
              "          if (!dataTable) return;\n",
              "\n",
              "          const docLinkHtml = 'Like what you see? Visit the ' +\n",
              "            '<a target=\"_blank\" href=https://colab.research.google.com/notebooks/data_table.ipynb>data table notebook</a>'\n",
              "            + ' to learn more about interactive tables.';\n",
              "          element.innerHTML = '';\n",
              "          dataTable['output_type'] = 'display_data';\n",
              "          await google.colab.output.renderOutput(dataTable, element);\n",
              "          const docLink = document.createElement('div');\n",
              "          docLink.innerHTML = docLinkHtml;\n",
              "          element.appendChild(docLink);\n",
              "        }\n",
              "      </script>\n",
              "    </div>\n",
              "  </div>\n",
              "  "
            ]
          },
          "metadata": {},
          "execution_count": 39
        }
      ]
    },
    {
      "cell_type": "markdown",
      "source": [
        "We can clearly see how many statistics are the way we hear on TV. Virat has averaged over 45 in his entire career, if we take the not out innings into consideration. \n",
        "\n",
        "Now, let us learn about the categorical columns."
      ],
      "metadata": {
        "id": "5CpGO1yrolWH"
      }
    },
    {
      "cell_type": "code",
      "source": [
        "round(virat_new[cat].describe(),3)"
      ],
      "metadata": {
        "colab": {
          "base_uri": "https://localhost:8080/",
          "height": 175
        },
        "id": "mviXda8VnPeO",
        "outputId": "598da9b0-749b-45a6-a571-c5e34c54bb80"
      },
      "execution_count": 40,
      "outputs": [
        {
          "output_type": "execute_result",
          "data": {
            "text/plain": [
              "       Format Dismissal Opposition  Ground\n",
              "count     524       524        524     524\n",
              "unique      3         7         15      73\n",
              "top       ODI    caught    England  Mirpur\n",
              "freq      253       319        104      23"
            ],
            "text/html": [
              "\n",
              "  <div id=\"df-76d7c2d5-9408-4706-867f-9f3c3b8193dc\">\n",
              "    <div class=\"colab-df-container\">\n",
              "      <div>\n",
              "<style scoped>\n",
              "    .dataframe tbody tr th:only-of-type {\n",
              "        vertical-align: middle;\n",
              "    }\n",
              "\n",
              "    .dataframe tbody tr th {\n",
              "        vertical-align: top;\n",
              "    }\n",
              "\n",
              "    .dataframe thead th {\n",
              "        text-align: right;\n",
              "    }\n",
              "</style>\n",
              "<table border=\"1\" class=\"dataframe\">\n",
              "  <thead>\n",
              "    <tr style=\"text-align: right;\">\n",
              "      <th></th>\n",
              "      <th>Format</th>\n",
              "      <th>Dismissal</th>\n",
              "      <th>Opposition</th>\n",
              "      <th>Ground</th>\n",
              "    </tr>\n",
              "  </thead>\n",
              "  <tbody>\n",
              "    <tr>\n",
              "      <th>count</th>\n",
              "      <td>524</td>\n",
              "      <td>524</td>\n",
              "      <td>524</td>\n",
              "      <td>524</td>\n",
              "    </tr>\n",
              "    <tr>\n",
              "      <th>unique</th>\n",
              "      <td>3</td>\n",
              "      <td>7</td>\n",
              "      <td>15</td>\n",
              "      <td>73</td>\n",
              "    </tr>\n",
              "    <tr>\n",
              "      <th>top</th>\n",
              "      <td>ODI</td>\n",
              "      <td>caught</td>\n",
              "      <td>England</td>\n",
              "      <td>Mirpur</td>\n",
              "    </tr>\n",
              "    <tr>\n",
              "      <th>freq</th>\n",
              "      <td>253</td>\n",
              "      <td>319</td>\n",
              "      <td>104</td>\n",
              "      <td>23</td>\n",
              "    </tr>\n",
              "  </tbody>\n",
              "</table>\n",
              "</div>\n",
              "      <button class=\"colab-df-convert\" onclick=\"convertToInteractive('df-76d7c2d5-9408-4706-867f-9f3c3b8193dc')\"\n",
              "              title=\"Convert this dataframe to an interactive table.\"\n",
              "              style=\"display:none;\">\n",
              "        \n",
              "  <svg xmlns=\"http://www.w3.org/2000/svg\" height=\"24px\"viewBox=\"0 0 24 24\"\n",
              "       width=\"24px\">\n",
              "    <path d=\"M0 0h24v24H0V0z\" fill=\"none\"/>\n",
              "    <path d=\"M18.56 5.44l.94 2.06.94-2.06 2.06-.94-2.06-.94-.94-2.06-.94 2.06-2.06.94zm-11 1L8.5 8.5l.94-2.06 2.06-.94-2.06-.94L8.5 2.5l-.94 2.06-2.06.94zm10 10l.94 2.06.94-2.06 2.06-.94-2.06-.94-.94-2.06-.94 2.06-2.06.94z\"/><path d=\"M17.41 7.96l-1.37-1.37c-.4-.4-.92-.59-1.43-.59-.52 0-1.04.2-1.43.59L10.3 9.45l-7.72 7.72c-.78.78-.78 2.05 0 2.83L4 21.41c.39.39.9.59 1.41.59.51 0 1.02-.2 1.41-.59l7.78-7.78 2.81-2.81c.8-.78.8-2.07 0-2.86zM5.41 20L4 18.59l7.72-7.72 1.47 1.35L5.41 20z\"/>\n",
              "  </svg>\n",
              "      </button>\n",
              "      \n",
              "  <style>\n",
              "    .colab-df-container {\n",
              "      display:flex;\n",
              "      flex-wrap:wrap;\n",
              "      gap: 12px;\n",
              "    }\n",
              "\n",
              "    .colab-df-convert {\n",
              "      background-color: #E8F0FE;\n",
              "      border: none;\n",
              "      border-radius: 50%;\n",
              "      cursor: pointer;\n",
              "      display: none;\n",
              "      fill: #1967D2;\n",
              "      height: 32px;\n",
              "      padding: 0 0 0 0;\n",
              "      width: 32px;\n",
              "    }\n",
              "\n",
              "    .colab-df-convert:hover {\n",
              "      background-color: #E2EBFA;\n",
              "      box-shadow: 0px 1px 2px rgba(60, 64, 67, 0.3), 0px 1px 3px 1px rgba(60, 64, 67, 0.15);\n",
              "      fill: #174EA6;\n",
              "    }\n",
              "\n",
              "    [theme=dark] .colab-df-convert {\n",
              "      background-color: #3B4455;\n",
              "      fill: #D2E3FC;\n",
              "    }\n",
              "\n",
              "    [theme=dark] .colab-df-convert:hover {\n",
              "      background-color: #434B5C;\n",
              "      box-shadow: 0px 1px 3px 1px rgba(0, 0, 0, 0.15);\n",
              "      filter: drop-shadow(0px 1px 2px rgba(0, 0, 0, 0.3));\n",
              "      fill: #FFFFFF;\n",
              "    }\n",
              "  </style>\n",
              "\n",
              "      <script>\n",
              "        const buttonEl =\n",
              "          document.querySelector('#df-76d7c2d5-9408-4706-867f-9f3c3b8193dc button.colab-df-convert');\n",
              "        buttonEl.style.display =\n",
              "          google.colab.kernel.accessAllowed ? 'block' : 'none';\n",
              "\n",
              "        async function convertToInteractive(key) {\n",
              "          const element = document.querySelector('#df-76d7c2d5-9408-4706-867f-9f3c3b8193dc');\n",
              "          const dataTable =\n",
              "            await google.colab.kernel.invokeFunction('convertToInteractive',\n",
              "                                                     [key], {});\n",
              "          if (!dataTable) return;\n",
              "\n",
              "          const docLinkHtml = 'Like what you see? Visit the ' +\n",
              "            '<a target=\"_blank\" href=https://colab.research.google.com/notebooks/data_table.ipynb>data table notebook</a>'\n",
              "            + ' to learn more about interactive tables.';\n",
              "          element.innerHTML = '';\n",
              "          dataTable['output_type'] = 'display_data';\n",
              "          await google.colab.output.renderOutput(dataTable, element);\n",
              "          const docLink = document.createElement('div');\n",
              "          docLink.innerHTML = docLinkHtml;\n",
              "          element.appendChild(docLink);\n",
              "        }\n",
              "      </script>\n",
              "    </div>\n",
              "  </div>\n",
              "  "
            ]
          },
          "metadata": {},
          "execution_count": 40
        }
      ]
    },
    {
      "cell_type": "markdown",
      "source": [
        "We can see that he has played the most in ODI's , and has been caught out most times. He has played the most matches against England. Now, let us create some pivot tables."
      ],
      "metadata": {
        "id": "XycYNRkepAAE"
      }
    },
    {
      "cell_type": "markdown",
      "source": [
        "#### 1. Number of innings played in each format"
      ],
      "metadata": {
        "id": "uXTMRVPQ7IKT"
      }
    },
    {
      "cell_type": "code",
      "source": [
        "virat_new.pivot_table(index='Format',values='Runs',aggfunc=np.size)"
      ],
      "metadata": {
        "colab": {
          "base_uri": "https://localhost:8080/",
          "height": 175
        },
        "id": "s4ngUCBen-kP",
        "outputId": "dbf24217-d265-46dd-8ca8-04d9edc02a54"
      },
      "execution_count": 41,
      "outputs": [
        {
          "output_type": "execute_result",
          "data": {
            "text/plain": [
              "        Runs\n",
              "Format      \n",
              "ODI      253\n",
              "T20I      98\n",
              "Test     173"
            ],
            "text/html": [
              "\n",
              "  <div id=\"df-d6f707e4-3a99-46d0-87ea-32d22ecc7e0c\">\n",
              "    <div class=\"colab-df-container\">\n",
              "      <div>\n",
              "<style scoped>\n",
              "    .dataframe tbody tr th:only-of-type {\n",
              "        vertical-align: middle;\n",
              "    }\n",
              "\n",
              "    .dataframe tbody tr th {\n",
              "        vertical-align: top;\n",
              "    }\n",
              "\n",
              "    .dataframe thead th {\n",
              "        text-align: right;\n",
              "    }\n",
              "</style>\n",
              "<table border=\"1\" class=\"dataframe\">\n",
              "  <thead>\n",
              "    <tr style=\"text-align: right;\">\n",
              "      <th></th>\n",
              "      <th>Runs</th>\n",
              "    </tr>\n",
              "    <tr>\n",
              "      <th>Format</th>\n",
              "      <th></th>\n",
              "    </tr>\n",
              "  </thead>\n",
              "  <tbody>\n",
              "    <tr>\n",
              "      <th>ODI</th>\n",
              "      <td>253</td>\n",
              "    </tr>\n",
              "    <tr>\n",
              "      <th>T20I</th>\n",
              "      <td>98</td>\n",
              "    </tr>\n",
              "    <tr>\n",
              "      <th>Test</th>\n",
              "      <td>173</td>\n",
              "    </tr>\n",
              "  </tbody>\n",
              "</table>\n",
              "</div>\n",
              "      <button class=\"colab-df-convert\" onclick=\"convertToInteractive('df-d6f707e4-3a99-46d0-87ea-32d22ecc7e0c')\"\n",
              "              title=\"Convert this dataframe to an interactive table.\"\n",
              "              style=\"display:none;\">\n",
              "        \n",
              "  <svg xmlns=\"http://www.w3.org/2000/svg\" height=\"24px\"viewBox=\"0 0 24 24\"\n",
              "       width=\"24px\">\n",
              "    <path d=\"M0 0h24v24H0V0z\" fill=\"none\"/>\n",
              "    <path d=\"M18.56 5.44l.94 2.06.94-2.06 2.06-.94-2.06-.94-.94-2.06-.94 2.06-2.06.94zm-11 1L8.5 8.5l.94-2.06 2.06-.94-2.06-.94L8.5 2.5l-.94 2.06-2.06.94zm10 10l.94 2.06.94-2.06 2.06-.94-2.06-.94-.94-2.06-.94 2.06-2.06.94z\"/><path d=\"M17.41 7.96l-1.37-1.37c-.4-.4-.92-.59-1.43-.59-.52 0-1.04.2-1.43.59L10.3 9.45l-7.72 7.72c-.78.78-.78 2.05 0 2.83L4 21.41c.39.39.9.59 1.41.59.51 0 1.02-.2 1.41-.59l7.78-7.78 2.81-2.81c.8-.78.8-2.07 0-2.86zM5.41 20L4 18.59l7.72-7.72 1.47 1.35L5.41 20z\"/>\n",
              "  </svg>\n",
              "      </button>\n",
              "      \n",
              "  <style>\n",
              "    .colab-df-container {\n",
              "      display:flex;\n",
              "      flex-wrap:wrap;\n",
              "      gap: 12px;\n",
              "    }\n",
              "\n",
              "    .colab-df-convert {\n",
              "      background-color: #E8F0FE;\n",
              "      border: none;\n",
              "      border-radius: 50%;\n",
              "      cursor: pointer;\n",
              "      display: none;\n",
              "      fill: #1967D2;\n",
              "      height: 32px;\n",
              "      padding: 0 0 0 0;\n",
              "      width: 32px;\n",
              "    }\n",
              "\n",
              "    .colab-df-convert:hover {\n",
              "      background-color: #E2EBFA;\n",
              "      box-shadow: 0px 1px 2px rgba(60, 64, 67, 0.3), 0px 1px 3px 1px rgba(60, 64, 67, 0.15);\n",
              "      fill: #174EA6;\n",
              "    }\n",
              "\n",
              "    [theme=dark] .colab-df-convert {\n",
              "      background-color: #3B4455;\n",
              "      fill: #D2E3FC;\n",
              "    }\n",
              "\n",
              "    [theme=dark] .colab-df-convert:hover {\n",
              "      background-color: #434B5C;\n",
              "      box-shadow: 0px 1px 3px 1px rgba(0, 0, 0, 0.15);\n",
              "      filter: drop-shadow(0px 1px 2px rgba(0, 0, 0, 0.3));\n",
              "      fill: #FFFFFF;\n",
              "    }\n",
              "  </style>\n",
              "\n",
              "      <script>\n",
              "        const buttonEl =\n",
              "          document.querySelector('#df-d6f707e4-3a99-46d0-87ea-32d22ecc7e0c button.colab-df-convert');\n",
              "        buttonEl.style.display =\n",
              "          google.colab.kernel.accessAllowed ? 'block' : 'none';\n",
              "\n",
              "        async function convertToInteractive(key) {\n",
              "          const element = document.querySelector('#df-d6f707e4-3a99-46d0-87ea-32d22ecc7e0c');\n",
              "          const dataTable =\n",
              "            await google.colab.kernel.invokeFunction('convertToInteractive',\n",
              "                                                     [key], {});\n",
              "          if (!dataTable) return;\n",
              "\n",
              "          const docLinkHtml = 'Like what you see? Visit the ' +\n",
              "            '<a target=\"_blank\" href=https://colab.research.google.com/notebooks/data_table.ipynb>data table notebook</a>'\n",
              "            + ' to learn more about interactive tables.';\n",
              "          element.innerHTML = '';\n",
              "          dataTable['output_type'] = 'display_data';\n",
              "          await google.colab.output.renderOutput(dataTable, element);\n",
              "          const docLink = document.createElement('div');\n",
              "          docLink.innerHTML = docLinkHtml;\n",
              "          element.appendChild(docLink);\n",
              "        }\n",
              "      </script>\n",
              "    </div>\n",
              "  </div>\n",
              "  "
            ]
          },
          "metadata": {},
          "execution_count": 41
        }
      ]
    },
    {
      "cell_type": "markdown",
      "source": [
        "#### 2. Average in each Format"
      ],
      "metadata": {
        "id": "QVKSmvLE7Pbc"
      }
    },
    {
      "cell_type": "code",
      "source": [
        "x = virat_new.copy()\n",
        "x['Dismissal'].value_counts()"
      ],
      "metadata": {
        "colab": {
          "base_uri": "https://localhost:8080/"
        },
        "id": "jYVktlx0phgh",
        "outputId": "9fa5a8d8-0b58-4bca-efe6-c8a938fe3ca1"
      },
      "execution_count": 42,
      "outputs": [
        {
          "output_type": "execute_result",
          "data": {
            "text/plain": [
              "caught        319\n",
              "not out        76\n",
              "lbw            52\n",
              "bowled         50\n",
              "run out        20\n",
              "stumped         5\n",
              "hit wicket      2\n",
              "Name: Dismissal, dtype: int64"
            ]
          },
          "metadata": {},
          "execution_count": 42
        }
      ]
    },
    {
      "cell_type": "markdown",
      "source": [
        "Note that for calculating average, we need to consider only the innings where he got out. We can see that he has been not out 76 times, and hence, these entries don't have to be considered. "
      ],
      "metadata": {
        "id": "wGXvD6_fMJEu"
      }
    },
    {
      "cell_type": "code",
      "source": [
        "x['Dismissal'].replace('not out',np.nan,inplace=True)\n",
        "x['Dismissal'].value_counts()"
      ],
      "metadata": {
        "colab": {
          "base_uri": "https://localhost:8080/"
        },
        "id": "YK-fV04Np1vo",
        "outputId": "f959d736-1c32-4d00-bd73-e4923b761eb6"
      },
      "execution_count": 43,
      "outputs": [
        {
          "output_type": "execute_result",
          "data": {
            "text/plain": [
              "caught        319\n",
              "lbw            52\n",
              "bowled         50\n",
              "run out        20\n",
              "stumped         5\n",
              "hit wicket      2\n",
              "Name: Dismissal, dtype: int64"
            ]
          },
          "metadata": {},
          "execution_count": 43
        }
      ]
    },
    {
      "cell_type": "markdown",
      "source": [
        "Now, we will use the `groupby()` function to calculate the average across Formats, and use the `count()` function to return only non-null number of innings."
      ],
      "metadata": {
        "id": "Zg9-jWV7MdOa"
      }
    },
    {
      "cell_type": "code",
      "source": [
        "runs = x.groupby('Format')[['Runs']].sum()\n",
        "inns = x.groupby('Format')[['Dismissal']].count()\n",
        "\n",
        "average = pd.concat([runs,inns],axis=1)\n",
        "average['average'] = round(average['Runs']/average['Dismissal'],3)\n",
        "cb.set_style('darkgrid')\n",
        "average['average'].plot(kind='bar',title='Average across all formats')\n",
        "plot.ylabel('Average')\n",
        "plot.xticks(rotation=0)\n",
        "plot.show()"
      ],
      "metadata": {
        "colab": {
          "base_uri": "https://localhost:8080/",
          "height": 295
        },
        "id": "9euUPh0Zp8Fu",
        "outputId": "620630f1-d9d2-46c2-a411-7d6d0d0813be"
      },
      "execution_count": 47,
      "outputs": [
        {
          "output_type": "display_data",
          "data": {
            "text/plain": [
              "<Figure size 432x288 with 1 Axes>"
            ],
            "image/png": "[encoded data removed]"
          },
          "metadata": {}
        }
      ]
    },
    {
      "cell_type": "markdown",
      "source": [
        "#### 3. Time Series Analysis for Runs scored and Average in each Format"
      ],
      "metadata": {
        "id": "ddChG-cK7kCj"
      }
    },
    {
      "cell_type": "markdown",
      "source": [
        "Now, we will conduct a time series analysis, where we will see how his performance has gone throughout his career. First, we will look towards his runs scored, and then towards his average. Let us see. "
      ],
      "metadata": {
        "id": "RaSv7jCFMvA7"
      }
    },
    {
      "cell_type": "code",
      "source": [
        "x['Year']= x['Start Date'].str.rsplit(' ',n=2,expand=True)[2]\n",
        "x.head()"
      ],
      "metadata": {
        "colab": {
          "base_uri": "https://localhost:8080/",
          "height": 206
        },
        "id": "L08xwWiStvTK",
        "outputId": "6583e12d-f298-4212-ae4d-e3037981ba29"
      },
      "execution_count": 45,
      "outputs": [
        {
          "output_type": "execute_result",
          "data": {
            "text/plain": [
              "   Runs  Mins  BF  4s  6s Format     SR  Pos Dismissal  Inns Opposition  \\\n",
              "1    12    33  22   1   0    ODI  54.54    2       lbw     1  Sri Lanka   \n",
              "2    37    82  67   6   0    ODI  55.22    2    caught     2  Sri Lanka   \n",
              "3    25    40  38   4   0    ODI  65.78    1   run out     1  Sri Lanka   \n",
              "4    54    87  66   7   0    ODI  81.81    1    bowled     1  Sri Lanka   \n",
              "5    31    45  46   3   1    ODI  67.39    1       lbw     2  Sri Lanka   \n",
              "\n",
              "          Ground   Start Date  Year  \n",
              "1       Dambulla  18 Aug 2008  2008  \n",
              "2       Dambulla  20 Aug 2008  2008  \n",
              "3  Colombo (RPS)  24 Aug 2008  2008  \n",
              "4  Colombo (RPS)  27 Aug 2008  2008  \n",
              "5  Colombo (RPS)  29 Aug 2008  2008  "
            ],
            "text/html": [
              "\n",
              "  <div id=\"df-a2321e63-ed98-43f1-9c13-6465b9b3df5f\">\n",
              "    <div class=\"colab-df-container\">\n",
              "      <div>\n",
              "<style scoped>\n",
              "    .dataframe tbody tr th:only-of-type {\n",
              "        vertical-align: middle;\n",
              "    }\n",
              "\n",
              "    .dataframe tbody tr th {\n",
              "        vertical-align: top;\n",
              "    }\n",
              "\n",
              "    .dataframe thead th {\n",
              "        text-align: right;\n",
              "    }\n",
              "</style>\n",
              "<table border=\"1\" class=\"dataframe\">\n",
              "  <thead>\n",
              "    <tr style=\"text-align: right;\">\n",
              "      <th></th>\n",
              "      <th>Runs</th>\n",
              "      <th>Mins</th>\n",
              "      <th>BF</th>\n",
              "      <th>4s</th>\n",
              "      <th>6s</th>\n",
              "      <th>Format</th>\n",
              "      <th>SR</th>\n",
              "      <th>Pos</th>\n",
              "      <th>Dismissal</th>\n",
              "      <th>Inns</th>\n",
              "      <th>Opposition</th>\n",
              "      <th>Ground</th>\n",
              "      <th>Start Date</th>\n",
              "      <th>Year</th>\n",
              "    </tr>\n",
              "  </thead>\n",
              "  <tbody>\n",
              "    <tr>\n",
              "      <th>1</th>\n",
              "      <td>12</td>\n",
              "      <td>33</td>\n",
              "      <td>22</td>\n",
              "      <td>1</td>\n",
              "      <td>0</td>\n",
              "      <td>ODI</td>\n",
              "      <td>54.54</td>\n",
              "      <td>2</td>\n",
              "      <td>lbw</td>\n",
              "      <td>1</td>\n",
              "      <td>Sri Lanka</td>\n",
              "      <td>Dambulla</td>\n",
              "      <td>18 Aug 2008</td>\n",
              "      <td>2008</td>\n",
              "    </tr>\n",
              "    <tr>\n",
              "      <th>2</th>\n",
              "      <td>37</td>\n",
              "      <td>82</td>\n",
              "      <td>67</td>\n",
              "      <td>6</td>\n",
              "      <td>0</td>\n",
              "      <td>ODI</td>\n",
              "      <td>55.22</td>\n",
              "      <td>2</td>\n",
              "      <td>caught</td>\n",
              "      <td>2</td>\n",
              "      <td>Sri Lanka</td>\n",
              "      <td>Dambulla</td>\n",
              "      <td>20 Aug 2008</td>\n",
              "      <td>2008</td>\n",
              "    </tr>\n",
              "    <tr>\n",
              "      <th>3</th>\n",
              "      <td>25</td>\n",
              "      <td>40</td>\n",
              "      <td>38</td>\n",
              "      <td>4</td>\n",
              "      <td>0</td>\n",
              "      <td>ODI</td>\n",
              "      <td>65.78</td>\n",
              "      <td>1</td>\n",
              "      <td>run out</td>\n",
              "      <td>1</td>\n",
              "      <td>Sri Lanka</td>\n",
              "      <td>Colombo (RPS)</td>\n",
              "      <td>24 Aug 2008</td>\n",
              "      <td>2008</td>\n",
              "    </tr>\n",
              "    <tr>\n",
              "      <th>4</th>\n",
              "      <td>54</td>\n",
              "      <td>87</td>\n",
              "      <td>66</td>\n",
              "      <td>7</td>\n",
              "      <td>0</td>\n",
              "      <td>ODI</td>\n",
              "      <td>81.81</td>\n",
              "      <td>1</td>\n",
              "      <td>bowled</td>\n",
              "      <td>1</td>\n",
              "      <td>Sri Lanka</td>\n",
              "      <td>Colombo (RPS)</td>\n",
              "      <td>27 Aug 2008</td>\n",
              "      <td>2008</td>\n",
              "    </tr>\n",
              "    <tr>\n",
              "      <th>5</th>\n",
              "      <td>31</td>\n",
              "      <td>45</td>\n",
              "      <td>46</td>\n",
              "      <td>3</td>\n",
              "      <td>1</td>\n",
              "      <td>ODI</td>\n",
              "      <td>67.39</td>\n",
              "      <td>1</td>\n",
              "      <td>lbw</td>\n",
              "      <td>2</td>\n",
              "      <td>Sri Lanka</td>\n",
              "      <td>Colombo (RPS)</td>\n",
              "      <td>29 Aug 2008</td>\n",
              "      <td>2008</td>\n",
              "    </tr>\n",
              "  </tbody>\n",
              "</table>\n",
              "</div>\n",
              "      <button class=\"colab-df-convert\" onclick=\"convertToInteractive('df-a2321e63-ed98-43f1-9c13-6465b9b3df5f')\"\n",
              "              title=\"Convert this dataframe to an interactive table.\"\n",
              "              style=\"display:none;\">\n",
              "        \n",
              "  <svg xmlns=\"http://www.w3.org/2000/svg\" height=\"24px\"viewBox=\"0 0 24 24\"\n",
              "       width=\"24px\">\n",
              "    <path d=\"M0 0h24v24H0V0z\" fill=\"none\"/>\n",
              "    <path d=\"M18.56 5.44l.94 2.06.94-2.06 2.06-.94-2.06-.94-.94-2.06-.94 2.06-2.06.94zm-11 1L8.5 8.5l.94-2.06 2.06-.94-2.06-.94L8.5 2.5l-.94 2.06-2.06.94zm10 10l.94 2.06.94-2.06 2.06-.94-2.06-.94-.94-2.06-.94 2.06-2.06.94z\"/><path d=\"M17.41 7.96l-1.37-1.37c-.4-.4-.92-.59-1.43-.59-.52 0-1.04.2-1.43.59L10.3 9.45l-7.72 7.72c-.78.78-.78 2.05 0 2.83L4 21.41c.39.39.9.59 1.41.59.51 0 1.02-.2 1.41-.59l7.78-7.78 2.81-2.81c.8-.78.8-2.07 0-2.86zM5.41 20L4 18.59l7.72-7.72 1.47 1.35L5.41 20z\"/>\n",
              "  </svg>\n",
              "      </button>\n",
              "      \n",
              "  <style>\n",
              "    .colab-df-container {\n",
              "      display:flex;\n",
              "      flex-wrap:wrap;\n",
              "      gap: 12px;\n",
              "    }\n",
              "\n",
              "    .colab-df-convert {\n",
              "      background-color: #E8F0FE;\n",
              "      border: none;\n",
              "      border-radius: 50%;\n",
              "      cursor: pointer;\n",
              "      display: none;\n",
              "      fill: #1967D2;\n",
              "      height: 32px;\n",
              "      padding: 0 0 0 0;\n",
              "      width: 32px;\n",
              "    }\n",
              "\n",
              "    .colab-df-convert:hover {\n",
              "      background-color: #E2EBFA;\n",
              "      box-shadow: 0px 1px 2px rgba(60, 64, 67, 0.3), 0px 1px 3px 1px rgba(60, 64, 67, 0.15);\n",
              "      fill: #174EA6;\n",
              "    }\n",
              "\n",
              "    [theme=dark] .colab-df-convert {\n",
              "      background-color: #3B4455;\n",
              "      fill: #D2E3FC;\n",
              "    }\n",
              "\n",
              "    [theme=dark] .colab-df-convert:hover {\n",
              "      background-color: #434B5C;\n",
              "      box-shadow: 0px 1px 3px 1px rgba(0, 0, 0, 0.15);\n",
              "      filter: drop-shadow(0px 1px 2px rgba(0, 0, 0, 0.3));\n",
              "      fill: #FFFFFF;\n",
              "    }\n",
              "  </style>\n",
              "\n",
              "      <script>\n",
              "        const buttonEl =\n",
              "          document.querySelector('#df-a2321e63-ed98-43f1-9c13-6465b9b3df5f button.colab-df-convert');\n",
              "        buttonEl.style.display =\n",
              "          google.colab.kernel.accessAllowed ? 'block' : 'none';\n",
              "\n",
              "        async function convertToInteractive(key) {\n",
              "          const element = document.querySelector('#df-a2321e63-ed98-43f1-9c13-6465b9b3df5f');\n",
              "          const dataTable =\n",
              "            await google.colab.kernel.invokeFunction('convertToInteractive',\n",
              "                                                     [key], {});\n",
              "          if (!dataTable) return;\n",
              "\n",
              "          const docLinkHtml = 'Like what you see? Visit the ' +\n",
              "            '<a target=\"_blank\" href=https://colab.research.google.com/notebooks/data_table.ipynb>data table notebook</a>'\n",
              "            + ' to learn more about interactive tables.';\n",
              "          element.innerHTML = '';\n",
              "          dataTable['output_type'] = 'display_data';\n",
              "          await google.colab.output.renderOutput(dataTable, element);\n",
              "          const docLink = document.createElement('div');\n",
              "          docLink.innerHTML = docLinkHtml;\n",
              "          element.appendChild(docLink);\n",
              "        }\n",
              "      </script>\n",
              "    </div>\n",
              "  </div>\n",
              "  "
            ]
          },
          "metadata": {},
          "execution_count": 45
        }
      ]
    },
    {
      "cell_type": "code",
      "source": [
        "x.pivot_table(index='Year',columns='Format',values='Runs',aggfunc=np.sum).plot(\n",
        "    marker='.',color=['red','darkblue','green'], title='Runs Scored vs Format for Virat Kohli in Intl. Cricket',\n",
        "    figsize=(10,7),ylabel='Runs')\n",
        "plot.show()"
      ],
      "metadata": {
        "colab": {
          "base_uri": "https://localhost:8080/",
          "height": 458
        },
        "id": "rHrtxOxHvV-o",
        "outputId": "5dc1590d-6fb8-4cc7-9e33-91299985af07"
      },
      "execution_count": 48,
      "outputs": [
        {
          "output_type": "display_data",
          "data": {
            "text/plain": [
              "<Figure size 720x504 with 1 Axes>"
            ],
            "image/png": "[encoded data removed]"
          },
          "metadata": {}
        }
      ]
    },
    {
      "cell_type": "markdown",
      "source": [
        "We can clearly see how he peaked from 2012 to 2016, which was his greatest year in all formats, and then after 2019, he experienced a slump. Let us look at the averages now."
      ],
      "metadata": {
        "id": "HtKnkcbNNL3F"
      }
    },
    {
      "cell_type": "code",
      "source": [
        "runs = x.pivot_table(index='Year',columns='Format',values='Runs',aggfunc=np.sum)\n",
        "inns = x.pivot_table(index='Year',columns='Format',values='Dismissal',aggfunc=lambda x:x.count())\n",
        "\n",
        "round(runs/inns,3).plot(figsize=(10,7),title='Average Across All Formats',ylabel='Average',color=['green','red','darkblue'], marker='.')\n",
        "plot.show()"
      ],
      "metadata": {
        "colab": {
          "base_uri": "https://localhost:8080/",
          "height": 458
        },
        "id": "36ObjtAgv8uQ",
        "outputId": "137cd4fe-241e-45ac-cb86-71fd643c68a2"
      },
      "execution_count": 385,
      "outputs": [
        {
          "output_type": "display_data",
          "data": {
            "text/plain": [
              "<Figure size 720x504 with 1 Axes>"
            ],
            "image/png": "[encoded data removed]"
          },
          "metadata": {}
        }
      ]
    },
    {
      "cell_type": "markdown",
      "source": [
        "Similar story can be seen here as well. His averages were at peak during 2012-2016, but slumped down after 2019. "
      ],
      "metadata": {
        "id": "T-q-Ra6HNaEJ"
      }
    },
    {
      "cell_type": "markdown",
      "source": [
        "#### 4. Distribution of Runs scored"
      ],
      "metadata": {
        "id": "R-tL39Di8Goc"
      }
    },
    {
      "cell_type": "markdown",
      "source": [
        "Now, let us look at some advanced plots. We will be creating a KDE (kernel density estimation) graph to analyze the distribution of the runs scored by Virat Kohli. Let us see. "
      ],
      "metadata": {
        "id": "J74X-nygNqTv"
      }
    },
    {
      "cell_type": "code",
      "source": [
        "cb.set_style('whitegrid')\n",
        "plot.subplots(figsize=(9,6))\n",
        "cb.distplot(x['Runs'],norm_hist=False)\n",
        "plot.title('KDE Density Chart for Runs scored')\n",
        "plot.show()"
      ],
      "metadata": {
        "colab": {
          "base_uri": "https://localhost:8080/",
          "height": 404
        },
        "id": "_pqaV-w651nv",
        "outputId": "a7068e6f-88f7-4a62-d151-d99108652788"
      },
      "execution_count": 49,
      "outputs": [
        {
          "output_type": "display_data",
          "data": {
            "text/plain": [
              "<Figure size 648x432 with 1 Axes>"
            ],
            "image/png": "[encoded data removed]"
          },
          "metadata": {}
        }
      ]
    },
    {
      "cell_type": "markdown",
      "source": [
        "It is clearly visible how skewed the chart is towards the left. It peaks at a value between 0 and 50, which is justified, since he has scored 124 50s and 71 100s in 448 innings. "
      ],
      "metadata": {
        "id": "RcS-dcdDOD8v"
      }
    },
    {
      "cell_type": "markdown",
      "source": [
        "#### 5. Percentage of Runs scored in each format against various oppositions"
      ],
      "metadata": {
        "id": "RlVpKG7YAvYf"
      }
    },
    {
      "cell_type": "markdown",
      "source": [
        "Now, we will create a stacked bar chart showing how much he has scored against various oppositions in all the 3 formats relatively. Let us see."
      ],
      "metadata": {
        "id": "3kieG59MOnwD"
      }
    },
    {
      "cell_type": "code",
      "source": [
        "runs = x.pivot_table(index='Opposition',columns='Format',values='Runs',aggfunc=np.sum)\n",
        "inns = x.pivot_table(index='Opposition',columns='Format',values='Dismissal',aggfunc=lambda x:x.count())\n",
        "\n",
        "average=round(runs/inns,3)\n",
        "(average.apply(lambda x:x/x.sum(),axis=1)*100).plot(kind='barh',stacked=True,figsize=(9,6),title='% of Runs Scored across Formats')\n",
        "plot.legend(loc=(1.02,0.8))\n",
        "plot.show()"
      ],
      "metadata": {
        "colab": {
          "base_uri": "https://localhost:8080/",
          "height": 390
        },
        "id": "8Mdh3DIm8whP",
        "outputId": "245f7634-0d8f-4908-cd30-8d5b35b55f7e"
      },
      "execution_count": 50,
      "outputs": [
        {
          "output_type": "display_data",
          "data": {
            "text/plain": [
              "<Figure size 648x432 with 1 Axes>"
            ],
            "image/png": "[encoded data removed]"
          },
          "metadata": {}
        }
      ]
    },
    {
      "cell_type": "markdown",
      "source": [
        "It is clearly visible that he hasn't scored much against Zimbabwe, Scotland, UAE and Hong Kong. It is also surprising that he hasn't played a test match against Pakistan in his whole career !"
      ],
      "metadata": {
        "id": "GNPpnpj-O4_1"
      }
    },
    {
      "cell_type": "markdown",
      "source": [
        "#### 6. Correlation between Runs scored and Minutes stayed at the crease"
      ],
      "metadata": {
        "id": "5lL5qKtLIrbg"
      }
    },
    {
      "cell_type": "markdown",
      "source": [
        "Now, let us see how some numeric variables connect to each other. We will see how does runs scored correlate to the minutes spent at crease. Let us see."
      ],
      "metadata": {
        "id": "WuUP8W4KPW6d"
      }
    },
    {
      "cell_type": "code",
      "source": [
        "plot.title('Runs Scored vs Minutes at Crease')\n",
        "plot.scatter(x='Runs',y='Mins',data=x)\n",
        "plot.xlabel('Runs Scored')\n",
        "plot.ylabel('Minutes at Crease')\n",
        "plot.show()"
      ],
      "metadata": {
        "colab": {
          "base_uri": "https://localhost:8080/",
          "height": 295
        },
        "id": "wHkS7XsZ94uP",
        "outputId": "f56bfd70-ecea-46b5-eed6-0e9505d05745"
      },
      "execution_count": 51,
      "outputs": [
        {
          "output_type": "display_data",
          "data": {
            "text/plain": [
              "<Figure size 432x288 with 1 Axes>"
            ],
            "image/png": "[encoded data removed]"
          },
          "metadata": {}
        }
      ]
    },
    {
      "cell_type": "markdown",
      "source": [
        "It is clearly visible that the more time he spends on the crease, the higher he scores. Hence, it is important for him to give himself some time in the middle."
      ],
      "metadata": {
        "id": "Av-vSQUyPing"
      }
    },
    {
      "cell_type": "markdown",
      "source": [
        "#### 7. Correlation between Runs and Balls Faced"
      ],
      "metadata": {
        "id": "MMUeulRrI1un"
      }
    },
    {
      "cell_type": "markdown",
      "source": [
        "Now, we will see how number of balls faced impacts the number of runs scored. Let us see. "
      ],
      "metadata": {
        "id": "qyU7UXjcPshe"
      }
    },
    {
      "cell_type": "code",
      "source": [
        "cb.set_style('darkgrid')\n",
        "plot.title('Runs Scored vs Balls Faced')\n",
        "cb.scatterplot(x='Runs',y='BF',data=x, estimator=lambda x:np.percentile(x,0.8))\n",
        "plot.xlabel('Runs Scored')\n",
        "plot.ylabel('Balls Faced')\n",
        "plot.show()"
      ],
      "metadata": {
        "colab": {
          "base_uri": "https://localhost:8080/",
          "height": 295
        },
        "id": "bo6UsBaNBv8J",
        "outputId": "f2515c4f-fa78-4dc4-9364-f0596c248e13"
      },
      "execution_count": 52,
      "outputs": [
        {
          "output_type": "display_data",
          "data": {
            "text/plain": [
              "<Figure size 432x288 with 1 Axes>"
            ],
            "image/png": "[encoded data removed]"
          },
          "metadata": {}
        }
      ]
    },
    {
      "cell_type": "markdown",
      "source": [
        "Another positive correlation shows that the more balls he faces, the more runs he scores, which is completely logical. "
      ],
      "metadata": {
        "id": "1saqHYnbP68B"
      }
    },
    {
      "cell_type": "markdown",
      "source": [
        "#### 8. Boxplots showing Distributions of Runs across Positions Batted and Grounds batted at"
      ],
      "metadata": {
        "id": "iypmtaDjJ6kp"
      }
    },
    {
      "cell_type": "markdown",
      "source": [
        "Now, we will plot some Boxplots showing various data points representing Virat Kohli's score at various positions and various venues. Let us see now."
      ],
      "metadata": {
        "id": "qddyc8-NQCMN"
      }
    },
    {
      "cell_type": "code",
      "source": [
        "cb.set_style('darkgrid')\n",
        "plot.subplots(figsize=(9,7))\n",
        "plot.title('Box Plot for Distribution of Runs Scored at Various Positions')\n",
        "cb.boxplot(x='Pos',y='Runs',data=x)\n",
        "plot.xlabel('Position Batted')\n",
        "plot.show()"
      ],
      "metadata": {
        "colab": {
          "base_uri": "https://localhost:8080/",
          "height": 458
        },
        "id": "yYwp8DiSCCdi",
        "outputId": "bbc7207e-0f88-489c-d6cb-0e8d9644014c"
      },
      "execution_count": 53,
      "outputs": [
        {
          "output_type": "display_data",
          "data": {
            "text/plain": [
              "<Figure size 648x504 with 1 Axes>"
            ],
            "image/png": "[encoded data removed]"
          },
          "metadata": {}
        }
      ]
    },
    {
      "cell_type": "markdown",
      "source": [
        "It is clearly visible that he has scored most of his runs batting at 2 to 4 positions, and those are the places where he has scored the highest as well. Let us now look at some happy hunting grounds for him. We will analyze the top 5 grounds. "
      ],
      "metadata": {
        "id": "SeJUgNnQQSc7"
      }
    },
    {
      "cell_type": "code",
      "source": [
        "top5 = x.groupby('Ground')[['Runs']].sum().sort_values(by='Runs',ascending=False)[:5].index\n",
        "top5"
      ],
      "metadata": {
        "colab": {
          "base_uri": "https://localhost:8080/"
        },
        "id": "cU4_5qDDHmaf",
        "outputId": "1ac24a22-bea8-48c2-fb59-7afacd28aaec"
      },
      "execution_count": 54,
      "outputs": [
        {
          "output_type": "execute_result",
          "data": {
            "text/plain": [
              "Index(['Mirpur', 'Wankhede', 'Visakhapatnam', 'Adelaide', 'Kolkata'], dtype='object', name='Ground')"
            ]
          },
          "metadata": {},
          "execution_count": 54
        }
      ]
    },
    {
      "cell_type": "code",
      "source": [
        "top = x[x['Ground'].isin(top5)]\n",
        "cb.set_style('darkgrid')\n",
        "plot.subplots(figsize=(9,7))\n",
        "plot.title('Box Plot for Distribution of Runs Scored at Top 5 Grounds')\n",
        "plot.xlabel('Position Batted')\n",
        "cb.boxplot(x='Ground',y='Runs',data=top)\n",
        "plot.show()"
      ],
      "metadata": {
        "colab": {
          "base_uri": "https://localhost:8080/",
          "height": 458
        },
        "id": "W2RE_GirEcZY",
        "outputId": "d7548668-bbb5-4a0c-d209-d9cc176c6d61"
      },
      "execution_count": 55,
      "outputs": [
        {
          "output_type": "display_data",
          "data": {
            "text/plain": [
              "<Figure size 648x504 with 1 Axes>"
            ],
            "image/png": "[encoded data removed]"
          },
          "metadata": {}
        }
      ]
    },
    {
      "cell_type": "markdown",
      "source": [
        "We can see that although he has scored the most runs in Mirpur (Bangladesh), his happy hunting grounds are Vizag and Adelaide."
      ],
      "metadata": {
        "id": "fofPkh1HQozB"
      }
    },
    {
      "cell_type": "markdown",
      "source": [
        "#### 9. Number of Half Centuries, Centuries, Double Centuries scored by Virat"
      ],
      "metadata": {
        "id": "McU15FfsRLiL"
      }
    },
    {
      "cell_type": "code",
      "source": [
        "half = x[x['Runs'].between(50,99)].shape[0]"
      ],
      "metadata": {
        "id": "YT6aqVJ4QlLN"
      },
      "execution_count": 61,
      "outputs": []
    },
    {
      "cell_type": "code",
      "source": [
        "full = x[x['Runs']>=100].shape[0]"
      ],
      "metadata": {
        "id": "uTDf9aHdQ4A-"
      },
      "execution_count": 62,
      "outputs": []
    },
    {
      "cell_type": "code",
      "source": [
        "double = x[x['Runs']>=200].shape[0]"
      ],
      "metadata": {
        "id": "z9ktQMQCRcS_"
      },
      "execution_count": 63,
      "outputs": []
    },
    {
      "cell_type": "code",
      "source": [
        "pd.DataFrame({'Half Centuries':half,'Centuries':full,'Double Centuries':double},index=['Number'])"
      ],
      "metadata": {
        "colab": {
          "base_uri": "https://localhost:8080/",
          "height": 81
        },
        "id": "vzcoDzLeRj7A",
        "outputId": "234ac033-63c7-4469-95b0-e52d6794fb84"
      },
      "execution_count": 68,
      "outputs": [
        {
          "output_type": "execute_result",
          "data": {
            "text/plain": [
              "        Half Centuries  Centuries  Double Centuries\n",
              "Number             124         71                 7"
            ],
            "text/html": [
              "\n",
              "  <div id=\"df-c93f9b15-91ed-448b-b1d1-8ea573cbe8f3\">\n",
              "    <div class=\"colab-df-container\">\n",
              "      <div>\n",
              "<style scoped>\n",
              "    .dataframe tbody tr th:only-of-type {\n",
              "        vertical-align: middle;\n",
              "    }\n",
              "\n",
              "    .dataframe tbody tr th {\n",
              "        vertical-align: top;\n",
              "    }\n",
              "\n",
              "    .dataframe thead th {\n",
              "        text-align: right;\n",
              "    }\n",
              "</style>\n",
              "<table border=\"1\" class=\"dataframe\">\n",
              "  <thead>\n",
              "    <tr style=\"text-align: right;\">\n",
              "      <th></th>\n",
              "      <th>Half Centuries</th>\n",
              "      <th>Centuries</th>\n",
              "      <th>Double Centuries</th>\n",
              "    </tr>\n",
              "  </thead>\n",
              "  <tbody>\n",
              "    <tr>\n",
              "      <th>Number</th>\n",
              "      <td>124</td>\n",
              "      <td>71</td>\n",
              "      <td>7</td>\n",
              "    </tr>\n",
              "  </tbody>\n",
              "</table>\n",
              "</div>\n",
              "      <button class=\"colab-df-convert\" onclick=\"convertToInteractive('df-c93f9b15-91ed-448b-b1d1-8ea573cbe8f3')\"\n",
              "              title=\"Convert this dataframe to an interactive table.\"\n",
              "              style=\"display:none;\">\n",
              "        \n",
              "  <svg xmlns=\"http://www.w3.org/2000/svg\" height=\"24px\"viewBox=\"0 0 24 24\"\n",
              "       width=\"24px\">\n",
              "    <path d=\"M0 0h24v24H0V0z\" fill=\"none\"/>\n",
              "    <path d=\"M18.56 5.44l.94 2.06.94-2.06 2.06-.94-2.06-.94-.94-2.06-.94 2.06-2.06.94zm-11 1L8.5 8.5l.94-2.06 2.06-.94-2.06-.94L8.5 2.5l-.94 2.06-2.06.94zm10 10l.94 2.06.94-2.06 2.06-.94-2.06-.94-.94-2.06-.94 2.06-2.06.94z\"/><path d=\"M17.41 7.96l-1.37-1.37c-.4-.4-.92-.59-1.43-.59-.52 0-1.04.2-1.43.59L10.3 9.45l-7.72 7.72c-.78.78-.78 2.05 0 2.83L4 21.41c.39.39.9.59 1.41.59.51 0 1.02-.2 1.41-.59l7.78-7.78 2.81-2.81c.8-.78.8-2.07 0-2.86zM5.41 20L4 18.59l7.72-7.72 1.47 1.35L5.41 20z\"/>\n",
              "  </svg>\n",
              "      </button>\n",
              "      \n",
              "  <style>\n",
              "    .colab-df-container {\n",
              "      display:flex;\n",
              "      flex-wrap:wrap;\n",
              "      gap: 12px;\n",
              "    }\n",
              "\n",
              "    .colab-df-convert {\n",
              "      background-color: #E8F0FE;\n",
              "      border: none;\n",
              "      border-radius: 50%;\n",
              "      cursor: pointer;\n",
              "      display: none;\n",
              "      fill: #1967D2;\n",
              "      height: 32px;\n",
              "      padding: 0 0 0 0;\n",
              "      width: 32px;\n",
              "    }\n",
              "\n",
              "    .colab-df-convert:hover {\n",
              "      background-color: #E2EBFA;\n",
              "      box-shadow: 0px 1px 2px rgba(60, 64, 67, 0.3), 0px 1px 3px 1px rgba(60, 64, 67, 0.15);\n",
              "      fill: #174EA6;\n",
              "    }\n",
              "\n",
              "    [theme=dark] .colab-df-convert {\n",
              "      background-color: #3B4455;\n",
              "      fill: #D2E3FC;\n",
              "    }\n",
              "\n",
              "    [theme=dark] .colab-df-convert:hover {\n",
              "      background-color: #434B5C;\n",
              "      box-shadow: 0px 1px 3px 1px rgba(0, 0, 0, 0.15);\n",
              "      filter: drop-shadow(0px 1px 2px rgba(0, 0, 0, 0.3));\n",
              "      fill: #FFFFFF;\n",
              "    }\n",
              "  </style>\n",
              "\n",
              "      <script>\n",
              "        const buttonEl =\n",
              "          document.querySelector('#df-c93f9b15-91ed-448b-b1d1-8ea573cbe8f3 button.colab-df-convert');\n",
              "        buttonEl.style.display =\n",
              "          google.colab.kernel.accessAllowed ? 'block' : 'none';\n",
              "\n",
              "        async function convertToInteractive(key) {\n",
              "          const element = document.querySelector('#df-c93f9b15-91ed-448b-b1d1-8ea573cbe8f3');\n",
              "          const dataTable =\n",
              "            await google.colab.kernel.invokeFunction('convertToInteractive',\n",
              "                                                     [key], {});\n",
              "          if (!dataTable) return;\n",
              "\n",
              "          const docLinkHtml = 'Like what you see? Visit the ' +\n",
              "            '<a target=\"_blank\" href=https://colab.research.google.com/notebooks/data_table.ipynb>data table notebook</a>'\n",
              "            + ' to learn more about interactive tables.';\n",
              "          element.innerHTML = '';\n",
              "          dataTable['output_type'] = 'display_data';\n",
              "          await google.colab.output.renderOutput(dataTable, element);\n",
              "          const docLink = document.createElement('div');\n",
              "          docLink.innerHTML = docLinkHtml;\n",
              "          element.appendChild(docLink);\n",
              "        }\n",
              "      </script>\n",
              "    </div>\n",
              "  </div>\n",
              "  "
            ]
          },
          "metadata": {},
          "execution_count": 68
        }
      ]
    },
    {
      "cell_type": "code",
      "source": [
        "piv = x[x['Runs'].between(50,99)]\n",
        "hc = piv.pivot_table(index='Format',values='Runs',aggfunc=np.size)\n",
        "\n",
        "piv1 = x[x['Runs']>=100]\n",
        "fc = piv1.pivot_table(index='Format',values='Runs',aggfunc=np.size)\n",
        "\n",
        "piv2 = x[x['Runs']>=200]\n",
        "dc = piv2.pivot_table(index='Format',values='Runs',aggfunc=np.size)\n",
        "\n",
        "total = pd.concat([hc,fc,dc],axis=1)\n",
        "total.columns = ['50s','100s','200s']\n",
        "total.fillna(0,inplace=True)\n",
        "total['200s']=total['200s'].astype(int)\n",
        "total"
      ],
      "metadata": {
        "colab": {
          "base_uri": "https://localhost:8080/",
          "height": 175
        },
        "id": "-osjuqi6SOaa",
        "outputId": "f4caa911-34c6-4d98-95fa-802f1f3105f4"
      },
      "execution_count": 97,
      "outputs": [
        {
          "output_type": "execute_result",
          "data": {
            "text/plain": [
              "        50s  100s  200s\n",
              "Format                 \n",
              "ODI      64    43     0\n",
              "T20I     32     1     0\n",
              "Test     28    27     7"
            ],
            "text/html": [
              "\n",
              "  <div id=\"df-8369ed2e-169a-4825-9bad-939c204b04d3\">\n",
              "    <div class=\"colab-df-container\">\n",
              "      <div>\n",
              "<style scoped>\n",
              "    .dataframe tbody tr th:only-of-type {\n",
              "        vertical-align: middle;\n",
              "    }\n",
              "\n",
              "    .dataframe tbody tr th {\n",
              "        vertical-align: top;\n",
              "    }\n",
              "\n",
              "    .dataframe thead th {\n",
              "        text-align: right;\n",
              "    }\n",
              "</style>\n",
              "<table border=\"1\" class=\"dataframe\">\n",
              "  <thead>\n",
              "    <tr style=\"text-align: right;\">\n",
              "      <th></th>\n",
              "      <th>50s</th>\n",
              "      <th>100s</th>\n",
              "      <th>200s</th>\n",
              "    </tr>\n",
              "    <tr>\n",
              "      <th>Format</th>\n",
              "      <th></th>\n",
              "      <th></th>\n",
              "      <th></th>\n",
              "    </tr>\n",
              "  </thead>\n",
              "  <tbody>\n",
              "    <tr>\n",
              "      <th>ODI</th>\n",
              "      <td>64</td>\n",
              "      <td>43</td>\n",
              "      <td>0</td>\n",
              "    </tr>\n",
              "    <tr>\n",
              "      <th>T20I</th>\n",
              "      <td>32</td>\n",
              "      <td>1</td>\n",
              "      <td>0</td>\n",
              "    </tr>\n",
              "    <tr>\n",
              "      <th>Test</th>\n",
              "      <td>28</td>\n",
              "      <td>27</td>\n",
              "      <td>7</td>\n",
              "    </tr>\n",
              "  </tbody>\n",
              "</table>\n",
              "</div>\n",
              "      <button class=\"colab-df-convert\" onclick=\"convertToInteractive('df-8369ed2e-169a-4825-9bad-939c204b04d3')\"\n",
              "              title=\"Convert this dataframe to an interactive table.\"\n",
              "              style=\"display:none;\">\n",
              "        \n",
              "  <svg xmlns=\"http://www.w3.org/2000/svg\" height=\"24px\"viewBox=\"0 0 24 24\"\n",
              "       width=\"24px\">\n",
              "    <path d=\"M0 0h24v24H0V0z\" fill=\"none\"/>\n",
              "    <path d=\"M18.56 5.44l.94 2.06.94-2.06 2.06-.94-2.06-.94-.94-2.06-.94 2.06-2.06.94zm-11 1L8.5 8.5l.94-2.06 2.06-.94-2.06-.94L8.5 2.5l-.94 2.06-2.06.94zm10 10l.94 2.06.94-2.06 2.06-.94-2.06-.94-.94-2.06-.94 2.06-2.06.94z\"/><path d=\"M17.41 7.96l-1.37-1.37c-.4-.4-.92-.59-1.43-.59-.52 0-1.04.2-1.43.59L10.3 9.45l-7.72 7.72c-.78.78-.78 2.05 0 2.83L4 21.41c.39.39.9.59 1.41.59.51 0 1.02-.2 1.41-.59l7.78-7.78 2.81-2.81c.8-.78.8-2.07 0-2.86zM5.41 20L4 18.59l7.72-7.72 1.47 1.35L5.41 20z\"/>\n",
              "  </svg>\n",
              "      </button>\n",
              "      \n",
              "  <style>\n",
              "    .colab-df-container {\n",
              "      display:flex;\n",
              "      flex-wrap:wrap;\n",
              "      gap: 12px;\n",
              "    }\n",
              "\n",
              "    .colab-df-convert {\n",
              "      background-color: #E8F0FE;\n",
              "      border: none;\n",
              "      border-radius: 50%;\n",
              "      cursor: pointer;\n",
              "      display: none;\n",
              "      fill: #1967D2;\n",
              "      height: 32px;\n",
              "      padding: 0 0 0 0;\n",
              "      width: 32px;\n",
              "    }\n",
              "\n",
              "    .colab-df-convert:hover {\n",
              "      background-color: #E2EBFA;\n",
              "      box-shadow: 0px 1px 2px rgba(60, 64, 67, 0.3), 0px 1px 3px 1px rgba(60, 64, 67, 0.15);\n",
              "      fill: #174EA6;\n",
              "    }\n",
              "\n",
              "    [theme=dark] .colab-df-convert {\n",
              "      background-color: #3B4455;\n",
              "      fill: #D2E3FC;\n",
              "    }\n",
              "\n",
              "    [theme=dark] .colab-df-convert:hover {\n",
              "      background-color: #434B5C;\n",
              "      box-shadow: 0px 1px 3px 1px rgba(0, 0, 0, 0.15);\n",
              "      filter: drop-shadow(0px 1px 2px rgba(0, 0, 0, 0.3));\n",
              "      fill: #FFFFFF;\n",
              "    }\n",
              "  </style>\n",
              "\n",
              "      <script>\n",
              "        const buttonEl =\n",
              "          document.querySelector('#df-8369ed2e-169a-4825-9bad-939c204b04d3 button.colab-df-convert');\n",
              "        buttonEl.style.display =\n",
              "          google.colab.kernel.accessAllowed ? 'block' : 'none';\n",
              "\n",
              "        async function convertToInteractive(key) {\n",
              "          const element = document.querySelector('#df-8369ed2e-169a-4825-9bad-939c204b04d3');\n",
              "          const dataTable =\n",
              "            await google.colab.kernel.invokeFunction('convertToInteractive',\n",
              "                                                     [key], {});\n",
              "          if (!dataTable) return;\n",
              "\n",
              "          const docLinkHtml = 'Like what you see? Visit the ' +\n",
              "            '<a target=\"_blank\" href=https://colab.research.google.com/notebooks/data_table.ipynb>data table notebook</a>'\n",
              "            + ' to learn more about interactive tables.';\n",
              "          element.innerHTML = '';\n",
              "          dataTable['output_type'] = 'display_data';\n",
              "          await google.colab.output.renderOutput(dataTable, element);\n",
              "          const docLink = document.createElement('div');\n",
              "          docLink.innerHTML = docLinkHtml;\n",
              "          element.appendChild(docLink);\n",
              "        }\n",
              "      </script>\n",
              "    </div>\n",
              "  </div>\n",
              "  "
            ]
          },
          "metadata": {},
          "execution_count": 97
        }
      ]
    },
    {
      "cell_type": "markdown",
      "source": [
        "## A Modern Day Legend after all ! Have a good day !\n",
        "\n",
        "<img src=\"https://c.ndtvimg.com/2022-09/r0rhv8m_virat-kohli-afp_625x300_08_September_22.jpg?im=FeatureCrop,algorithm=dnn,width=806,height=605\">"
      ],
      "metadata": {
        "id": "GvtTMzFJSCgM"
      }
    }
  ]
}
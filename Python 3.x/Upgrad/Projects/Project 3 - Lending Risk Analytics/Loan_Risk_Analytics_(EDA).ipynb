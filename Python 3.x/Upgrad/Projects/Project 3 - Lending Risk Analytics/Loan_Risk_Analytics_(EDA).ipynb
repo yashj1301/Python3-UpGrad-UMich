{
  "cells": [
    {
      "cell_type": "markdown",
      "metadata": {
        "id": "view-in-github",
        "colab_type": "text"
      },
      "source": [
        "<a href=\"https://colab.research.google.com/github/yashj1301/Python3-UpGrad-UMich/blob/master/Python%203.x/Upgrad/Projects/Project%203%20-%20Lending%20Risk%20Analytics/Loan_Risk_Analytics_(EDA).ipynb\" target=\"_parent\"><img src=\"https://colab.research.google.com/assets/colab-badge.svg\" alt=\"Open In Colab\"/></a>"
      ]
    },
    {
      "cell_type": "markdown",
      "metadata": {
        "id": "sUqSArROM7Hr"
      },
      "source": [
        "# Lending Club Default Analysis (By Yash Jain)\n",
        "\n",
        "### Business Understanding - You work for a consumer finance company that specialises in providing various types of loans to urban customers. When the company receives a loan application, it has to decide whether to approve or reject it based on the applicant’s profile. Two types of risks are associated with the bank’s decision:\n",
        "\n",
        "1. If the applicant is likely to repay the loan, then not approving the loan results in a loss of business to the company.\n",
        "\n",
        "2. If the applicant is not likely to repay the loan, i.e., they are likely to default, then approving the loan may lead to financial loss for the company.\n",
        "\n",
        "### Problem Statement - The company wants to understand the driving factors (or driver variables) behind loan default, i.e., the variables which are strong indicators of default.\n",
        "\n",
        "There are 3 categories, when a loan is accepted for a consumer - \n",
        "\n",
        "1. <u>Fully paid</u>: The applicant has fully paid the loan (the principal and the interest amount).\n",
        "2. <u>Current</u>: The applicant is in the process of paying the instalments, i.e., the tenure of the loan is not yet completed. These candidates are not labelled as ‘defaulted’.\n",
        "3. <u>Charged-off / Defaulted </u>: The applicant has not paid the instalments in due time for a long period, i.e., they have defaulted on the loan.\n",
        "\n",
        "First, let us import all the necessary libraries."
      ]
    },
    {
      "cell_type": "code",
      "execution_count": null,
      "metadata": {
        "id": "9N8wRQlmM7Hz"
      },
      "outputs": [],
      "source": [
        "import numpy as np\n",
        "import pandas as pd\n",
        "import matplotlib.pyplot as plot\n",
        "import seaborn as cb\n",
        "import warnings as warn\n",
        "\n",
        "warn.filterwarnings('ignore')"
      ]
    },
    {
      "cell_type": "markdown",
      "metadata": {
        "id": "YOSwrO52M7H1"
      },
      "source": [
        "## Data Understanding"
      ]
    },
    {
      "cell_type": "markdown",
      "source": [
        "First, let us import the dataset. Then, we will check the information and description for it."
      ],
      "metadata": {
        "id": "xyoE6W5VReF7"
      }
    },
    {
      "cell_type": "code",
      "source": [
        "loan_data = pd.read_csv(\"loan.csv\", sep=\",\")\n",
        "display(loan_data.info(),loan_data.describe())"
      ],
      "metadata": {
        "colab": {
          "base_uri": "https://localhost:8080/"
        },
        "id": "moEtV9O0RcnA",
        "outputId": "b23ff4e5-c193-4aee-c169-a61c61da4a46"
      },
      "execution_count": null,
      "outputs": [
        {
          "output_type": "stream",
          "name": "stdout",
          "text": [
            "<class 'pandas.core.frame.DataFrame'>\n",
            "RangeIndex: 39717 entries, 0 to 39716\n",
            "Columns: 111 entries, id to total_il_high_credit_limit\n",
            "dtypes: float64(74), int64(13), object(24)\n",
            "memory usage: 33.6+ MB\n"
          ]
        },
        {
          "output_type": "display_data",
          "data": {
            "text/plain": [
              "None"
            ]
          },
          "metadata": {}
        },
        {
          "output_type": "display_data",
          "data": {
            "text/plain": [
              "                 id     member_id     loan_amnt   funded_amnt  \\\n",
              "count  3.971700e+04  3.971700e+04  39717.000000  39717.000000   \n",
              "mean   6.831319e+05  8.504636e+05  11219.443815  10947.713196   \n",
              "std    2.106941e+05  2.656783e+05   7456.670694   7187.238670   \n",
              "min    5.473400e+04  7.069900e+04    500.000000    500.000000   \n",
              "25%    5.162210e+05  6.667800e+05   5500.000000   5400.000000   \n",
              "50%    6.656650e+05  8.508120e+05  10000.000000   9600.000000   \n",
              "75%    8.377550e+05  1.047339e+06  15000.000000  15000.000000   \n",
              "max    1.077501e+06  1.314167e+06  35000.000000  35000.000000   \n",
              "\n",
              "       funded_amnt_inv   installment    annual_inc           dti  \\\n",
              "count     39717.000000  39717.000000  3.971700e+04  39717.000000   \n",
              "mean      10397.448868    324.561922  6.896893e+04     13.315130   \n",
              "std        7128.450439    208.874874  6.379377e+04      6.678594   \n",
              "min           0.000000     15.690000  4.000000e+03      0.000000   \n",
              "25%        5000.000000    167.020000  4.040400e+04      8.170000   \n",
              "50%        8975.000000    280.220000  5.900000e+04     13.400000   \n",
              "75%       14400.000000    430.780000  8.230000e+04     18.600000   \n",
              "max       35000.000000   1305.190000  6.000000e+06     29.990000   \n",
              "\n",
              "        delinq_2yrs  inq_last_6mths  ...  num_tl_90g_dpd_24m  \\\n",
              "count  39717.000000    39717.000000  ...                 0.0   \n",
              "mean       0.146512        0.869200  ...                 NaN   \n",
              "std        0.491812        1.070219  ...                 NaN   \n",
              "min        0.000000        0.000000  ...                 NaN   \n",
              "25%        0.000000        0.000000  ...                 NaN   \n",
              "50%        0.000000        1.000000  ...                 NaN   \n",
              "75%        0.000000        1.000000  ...                 NaN   \n",
              "max       11.000000        8.000000  ...                 NaN   \n",
              "\n",
              "       num_tl_op_past_12m  pct_tl_nvr_dlq  percent_bc_gt_75  \\\n",
              "count                 0.0             0.0               0.0   \n",
              "mean                  NaN             NaN               NaN   \n",
              "std                   NaN             NaN               NaN   \n",
              "min                   NaN             NaN               NaN   \n",
              "25%                   NaN             NaN               NaN   \n",
              "50%                   NaN             NaN               NaN   \n",
              "75%                   NaN             NaN               NaN   \n",
              "max                   NaN             NaN               NaN   \n",
              "\n",
              "       pub_rec_bankruptcies  tax_liens  tot_hi_cred_lim  total_bal_ex_mort  \\\n",
              "count          39020.000000    39678.0              0.0                0.0   \n",
              "mean               0.043260        0.0              NaN                NaN   \n",
              "std                0.204324        0.0              NaN                NaN   \n",
              "min                0.000000        0.0              NaN                NaN   \n",
              "25%                0.000000        0.0              NaN                NaN   \n",
              "50%                0.000000        0.0              NaN                NaN   \n",
              "75%                0.000000        0.0              NaN                NaN   \n",
              "max                2.000000        0.0              NaN                NaN   \n",
              "\n",
              "       total_bc_limit  total_il_high_credit_limit  \n",
              "count             0.0                         0.0  \n",
              "mean              NaN                         NaN  \n",
              "std               NaN                         NaN  \n",
              "min               NaN                         NaN  \n",
              "25%               NaN                         NaN  \n",
              "50%               NaN                         NaN  \n",
              "75%               NaN                         NaN  \n",
              "max               NaN                         NaN  \n",
              "\n",
              "[8 rows x 87 columns]"
            ],
            "text/html": [
              "\n",
              "  <div id=\"df-fce2cb6c-89d9-4719-bfe8-a953d8e8bd1b\">\n",
              "    <div class=\"colab-df-container\">\n",
              "      <div>\n",
              "<style scoped>\n",
              "    .dataframe tbody tr th:only-of-type {\n",
              "        vertical-align: middle;\n",
              "    }\n",
              "\n",
              "    .dataframe tbody tr th {\n",
              "        vertical-align: top;\n",
              "    }\n",
              "\n",
              "    .dataframe thead th {\n",
              "        text-align: right;\n",
              "    }\n",
              "</style>\n",
              "<table border=\"1\" class=\"dataframe\">\n",
              "  <thead>\n",
              "    <tr style=\"text-align: right;\">\n",
              "      <th></th>\n",
              "      <th>id</th>\n",
              "      <th>member_id</th>\n",
              "      <th>loan_amnt</th>\n",
              "      <th>funded_amnt</th>\n",
              "      <th>funded_amnt_inv</th>\n",
              "      <th>installment</th>\n",
              "      <th>annual_inc</th>\n",
              "      <th>dti</th>\n",
              "      <th>delinq_2yrs</th>\n",
              "      <th>inq_last_6mths</th>\n",
              "      <th>...</th>\n",
              "      <th>num_tl_90g_dpd_24m</th>\n",
              "      <th>num_tl_op_past_12m</th>\n",
              "      <th>pct_tl_nvr_dlq</th>\n",
              "      <th>percent_bc_gt_75</th>\n",
              "      <th>pub_rec_bankruptcies</th>\n",
              "      <th>tax_liens</th>\n",
              "      <th>tot_hi_cred_lim</th>\n",
              "      <th>total_bal_ex_mort</th>\n",
              "      <th>total_bc_limit</th>\n",
              "      <th>total_il_high_credit_limit</th>\n",
              "    </tr>\n",
              "  </thead>\n",
              "  <tbody>\n",
              "    <tr>\n",
              "      <th>count</th>\n",
              "      <td>3.971700e+04</td>\n",
              "      <td>3.971700e+04</td>\n",
              "      <td>39717.000000</td>\n",
              "      <td>39717.000000</td>\n",
              "      <td>39717.000000</td>\n",
              "      <td>39717.000000</td>\n",
              "      <td>3.971700e+04</td>\n",
              "      <td>39717.000000</td>\n",
              "      <td>39717.000000</td>\n",
              "      <td>39717.000000</td>\n",
              "      <td>...</td>\n",
              "      <td>0.0</td>\n",
              "      <td>0.0</td>\n",
              "      <td>0.0</td>\n",
              "      <td>0.0</td>\n",
              "      <td>39020.000000</td>\n",
              "      <td>39678.0</td>\n",
              "      <td>0.0</td>\n",
              "      <td>0.0</td>\n",
              "      <td>0.0</td>\n",
              "      <td>0.0</td>\n",
              "    </tr>\n",
              "    <tr>\n",
              "      <th>mean</th>\n",
              "      <td>6.831319e+05</td>\n",
              "      <td>8.504636e+05</td>\n",
              "      <td>11219.443815</td>\n",
              "      <td>10947.713196</td>\n",
              "      <td>10397.448868</td>\n",
              "      <td>324.561922</td>\n",
              "      <td>6.896893e+04</td>\n",
              "      <td>13.315130</td>\n",
              "      <td>0.146512</td>\n",
              "      <td>0.869200</td>\n",
              "      <td>...</td>\n",
              "      <td>NaN</td>\n",
              "      <td>NaN</td>\n",
              "      <td>NaN</td>\n",
              "      <td>NaN</td>\n",
              "      <td>0.043260</td>\n",
              "      <td>0.0</td>\n",
              "      <td>NaN</td>\n",
              "      <td>NaN</td>\n",
              "      <td>NaN</td>\n",
              "      <td>NaN</td>\n",
              "    </tr>\n",
              "    <tr>\n",
              "      <th>std</th>\n",
              "      <td>2.106941e+05</td>\n",
              "      <td>2.656783e+05</td>\n",
              "      <td>7456.670694</td>\n",
              "      <td>7187.238670</td>\n",
              "      <td>7128.450439</td>\n",
              "      <td>208.874874</td>\n",
              "      <td>6.379377e+04</td>\n",
              "      <td>6.678594</td>\n",
              "      <td>0.491812</td>\n",
              "      <td>1.070219</td>\n",
              "      <td>...</td>\n",
              "      <td>NaN</td>\n",
              "      <td>NaN</td>\n",
              "      <td>NaN</td>\n",
              "      <td>NaN</td>\n",
              "      <td>0.204324</td>\n",
              "      <td>0.0</td>\n",
              "      <td>NaN</td>\n",
              "      <td>NaN</td>\n",
              "      <td>NaN</td>\n",
              "      <td>NaN</td>\n",
              "    </tr>\n",
              "    <tr>\n",
              "      <th>min</th>\n",
              "      <td>5.473400e+04</td>\n",
              "      <td>7.069900e+04</td>\n",
              "      <td>500.000000</td>\n",
              "      <td>500.000000</td>\n",
              "      <td>0.000000</td>\n",
              "      <td>15.690000</td>\n",
              "      <td>4.000000e+03</td>\n",
              "      <td>0.000000</td>\n",
              "      <td>0.000000</td>\n",
              "      <td>0.000000</td>\n",
              "      <td>...</td>\n",
              "      <td>NaN</td>\n",
              "      <td>NaN</td>\n",
              "      <td>NaN</td>\n",
              "      <td>NaN</td>\n",
              "      <td>0.000000</td>\n",
              "      <td>0.0</td>\n",
              "      <td>NaN</td>\n",
              "      <td>NaN</td>\n",
              "      <td>NaN</td>\n",
              "      <td>NaN</td>\n",
              "    </tr>\n",
              "    <tr>\n",
              "      <th>25%</th>\n",
              "      <td>5.162210e+05</td>\n",
              "      <td>6.667800e+05</td>\n",
              "      <td>5500.000000</td>\n",
              "      <td>5400.000000</td>\n",
              "      <td>5000.000000</td>\n",
              "      <td>167.020000</td>\n",
              "      <td>4.040400e+04</td>\n",
              "      <td>8.170000</td>\n",
              "      <td>0.000000</td>\n",
              "      <td>0.000000</td>\n",
              "      <td>...</td>\n",
              "      <td>NaN</td>\n",
              "      <td>NaN</td>\n",
              "      <td>NaN</td>\n",
              "      <td>NaN</td>\n",
              "      <td>0.000000</td>\n",
              "      <td>0.0</td>\n",
              "      <td>NaN</td>\n",
              "      <td>NaN</td>\n",
              "      <td>NaN</td>\n",
              "      <td>NaN</td>\n",
              "    </tr>\n",
              "    <tr>\n",
              "      <th>50%</th>\n",
              "      <td>6.656650e+05</td>\n",
              "      <td>8.508120e+05</td>\n",
              "      <td>10000.000000</td>\n",
              "      <td>9600.000000</td>\n",
              "      <td>8975.000000</td>\n",
              "      <td>280.220000</td>\n",
              "      <td>5.900000e+04</td>\n",
              "      <td>13.400000</td>\n",
              "      <td>0.000000</td>\n",
              "      <td>1.000000</td>\n",
              "      <td>...</td>\n",
              "      <td>NaN</td>\n",
              "      <td>NaN</td>\n",
              "      <td>NaN</td>\n",
              "      <td>NaN</td>\n",
              "      <td>0.000000</td>\n",
              "      <td>0.0</td>\n",
              "      <td>NaN</td>\n",
              "      <td>NaN</td>\n",
              "      <td>NaN</td>\n",
              "      <td>NaN</td>\n",
              "    </tr>\n",
              "    <tr>\n",
              "      <th>75%</th>\n",
              "      <td>8.377550e+05</td>\n",
              "      <td>1.047339e+06</td>\n",
              "      <td>15000.000000</td>\n",
              "      <td>15000.000000</td>\n",
              "      <td>14400.000000</td>\n",
              "      <td>430.780000</td>\n",
              "      <td>8.230000e+04</td>\n",
              "      <td>18.600000</td>\n",
              "      <td>0.000000</td>\n",
              "      <td>1.000000</td>\n",
              "      <td>...</td>\n",
              "      <td>NaN</td>\n",
              "      <td>NaN</td>\n",
              "      <td>NaN</td>\n",
              "      <td>NaN</td>\n",
              "      <td>0.000000</td>\n",
              "      <td>0.0</td>\n",
              "      <td>NaN</td>\n",
              "      <td>NaN</td>\n",
              "      <td>NaN</td>\n",
              "      <td>NaN</td>\n",
              "    </tr>\n",
              "    <tr>\n",
              "      <th>max</th>\n",
              "      <td>1.077501e+06</td>\n",
              "      <td>1.314167e+06</td>\n",
              "      <td>35000.000000</td>\n",
              "      <td>35000.000000</td>\n",
              "      <td>35000.000000</td>\n",
              "      <td>1305.190000</td>\n",
              "      <td>6.000000e+06</td>\n",
              "      <td>29.990000</td>\n",
              "      <td>11.000000</td>\n",
              "      <td>8.000000</td>\n",
              "      <td>...</td>\n",
              "      <td>NaN</td>\n",
              "      <td>NaN</td>\n",
              "      <td>NaN</td>\n",
              "      <td>NaN</td>\n",
              "      <td>2.000000</td>\n",
              "      <td>0.0</td>\n",
              "      <td>NaN</td>\n",
              "      <td>NaN</td>\n",
              "      <td>NaN</td>\n",
              "      <td>NaN</td>\n",
              "    </tr>\n",
              "  </tbody>\n",
              "</table>\n",
              "<p>8 rows × 87 columns</p>\n",
              "</div>\n",
              "      <button class=\"colab-df-convert\" onclick=\"convertToInteractive('df-fce2cb6c-89d9-4719-bfe8-a953d8e8bd1b')\"\n",
              "              title=\"Convert this dataframe to an interactive table.\"\n",
              "              style=\"display:none;\">\n",
              "        \n",
              "  <svg xmlns=\"http://www.w3.org/2000/svg\" height=\"24px\"viewBox=\"0 0 24 24\"\n",
              "       width=\"24px\">\n",
              "    <path d=\"M0 0h24v24H0V0z\" fill=\"none\"/>\n",
              "    <path d=\"M18.56 5.44l.94 2.06.94-2.06 2.06-.94-2.06-.94-.94-2.06-.94 2.06-2.06.94zm-11 1L8.5 8.5l.94-2.06 2.06-.94-2.06-.94L8.5 2.5l-.94 2.06-2.06.94zm10 10l.94 2.06.94-2.06 2.06-.94-2.06-.94-.94-2.06-.94 2.06-2.06.94z\"/><path d=\"M17.41 7.96l-1.37-1.37c-.4-.4-.92-.59-1.43-.59-.52 0-1.04.2-1.43.59L10.3 9.45l-7.72 7.72c-.78.78-.78 2.05 0 2.83L4 21.41c.39.39.9.59 1.41.59.51 0 1.02-.2 1.41-.59l7.78-7.78 2.81-2.81c.8-.78.8-2.07 0-2.86zM5.41 20L4 18.59l7.72-7.72 1.47 1.35L5.41 20z\"/>\n",
              "  </svg>\n",
              "      </button>\n",
              "      \n",
              "  <style>\n",
              "    .colab-df-container {\n",
              "      display:flex;\n",
              "      flex-wrap:wrap;\n",
              "      gap: 12px;\n",
              "    }\n",
              "\n",
              "    .colab-df-convert {\n",
              "      background-color: #E8F0FE;\n",
              "      border: none;\n",
              "      border-radius: 50%;\n",
              "      cursor: pointer;\n",
              "      display: none;\n",
              "      fill: #1967D2;\n",
              "      height: 32px;\n",
              "      padding: 0 0 0 0;\n",
              "      width: 32px;\n",
              "    }\n",
              "\n",
              "    .colab-df-convert:hover {\n",
              "      background-color: #E2EBFA;\n",
              "      box-shadow: 0px 1px 2px rgba(60, 64, 67, 0.3), 0px 1px 3px 1px rgba(60, 64, 67, 0.15);\n",
              "      fill: #174EA6;\n",
              "    }\n",
              "\n",
              "    [theme=dark] .colab-df-convert {\n",
              "      background-color: #3B4455;\n",
              "      fill: #D2E3FC;\n",
              "    }\n",
              "\n",
              "    [theme=dark] .colab-df-convert:hover {\n",
              "      background-color: #434B5C;\n",
              "      box-shadow: 0px 1px 3px 1px rgba(0, 0, 0, 0.15);\n",
              "      filter: drop-shadow(0px 1px 2px rgba(0, 0, 0, 0.3));\n",
              "      fill: #FFFFFF;\n",
              "    }\n",
              "  </style>\n",
              "\n",
              "      <script>\n",
              "        const buttonEl =\n",
              "          document.querySelector('#df-fce2cb6c-89d9-4719-bfe8-a953d8e8bd1b button.colab-df-convert');\n",
              "        buttonEl.style.display =\n",
              "          google.colab.kernel.accessAllowed ? 'block' : 'none';\n",
              "\n",
              "        async function convertToInteractive(key) {\n",
              "          const element = document.querySelector('#df-fce2cb6c-89d9-4719-bfe8-a953d8e8bd1b');\n",
              "          const dataTable =\n",
              "            await google.colab.kernel.invokeFunction('convertToInteractive',\n",
              "                                                     [key], {});\n",
              "          if (!dataTable) return;\n",
              "\n",
              "          const docLinkHtml = 'Like what you see? Visit the ' +\n",
              "            '<a target=\"_blank\" href=https://colab.research.google.com/notebooks/data_table.ipynb>data table notebook</a>'\n",
              "            + ' to learn more about interactive tables.';\n",
              "          element.innerHTML = '';\n",
              "          dataTable['output_type'] = 'display_data';\n",
              "          await google.colab.output.renderOutput(dataTable, element);\n",
              "          const docLink = document.createElement('div');\n",
              "          docLink.innerHTML = docLinkHtml;\n",
              "          element.appendChild(docLink);\n",
              "        }\n",
              "      </script>\n",
              "    </div>\n",
              "  </div>\n",
              "  "
            ]
          },
          "metadata": {}
        }
      ]
    },
    {
      "cell_type": "code",
      "source": [
        "loan_data.info()"
      ],
      "metadata": {
        "colab": {
          "base_uri": "https://localhost:8080/"
        },
        "id": "NbFvKkoCTwjf",
        "outputId": "aada0beb-36ba-4cd9-aa87-0caf6fdf7d7f"
      },
      "execution_count": null,
      "outputs": [
        {
          "output_type": "stream",
          "name": "stdout",
          "text": [
            "<class 'pandas.core.frame.DataFrame'>\n",
            "RangeIndex: 39717 entries, 0 to 39716\n",
            "Columns: 111 entries, id to total_il_high_credit_limit\n",
            "dtypes: float64(74), int64(13), object(24)\n",
            "memory usage: 33.6+ MB\n"
          ]
        }
      ]
    },
    {
      "cell_type": "markdown",
      "source": [
        "There are `87` numeric columns in our dataset, and the statistics for them are given above. Now, let us look at the shape of the dataset."
      ],
      "metadata": {
        "id": "yq9IsZKBSxD5"
      }
    },
    {
      "cell_type": "code",
      "execution_count": null,
      "metadata": {
        "colab": {
          "base_uri": "https://localhost:8080/"
        },
        "id": "sQkL1oYRM7H2",
        "outputId": "9f3f76c3-2e71-487f-c35a-0618ce1fdfdc"
      },
      "outputs": [
        {
          "output_type": "execute_result",
          "data": {
            "text/plain": [
              "(39717, 111)"
            ]
          },
          "metadata": {},
          "execution_count": 5
        }
      ],
      "source": [
        "orig = loan_data.shape\n",
        "orig"
      ]
    },
    {
      "cell_type": "markdown",
      "metadata": {
        "id": "Zvjld2qJM7H3"
      },
      "source": [
        "There are `39717` rows in our dataset, and `111` columns. Now, let us look at the names of the columns.\n"
      ]
    },
    {
      "cell_type": "code",
      "execution_count": null,
      "metadata": {
        "colab": {
          "base_uri": "https://localhost:8080/"
        },
        "id": "qG75qdNxM7H2",
        "outputId": "d031c557-22a5-494b-fd9c-70d45bee3680"
      },
      "outputs": [
        {
          "output_type": "execute_result",
          "data": {
            "text/plain": [
              "Index(['id', 'member_id', 'loan_amnt', 'funded_amnt', 'funded_amnt_inv',\n",
              "       'term', 'int_rate', 'installment', 'grade', 'sub_grade',\n",
              "       ...\n",
              "       'num_tl_90g_dpd_24m', 'num_tl_op_past_12m', 'pct_tl_nvr_dlq',\n",
              "       'percent_bc_gt_75', 'pub_rec_bankruptcies', 'tax_liens',\n",
              "       'tot_hi_cred_lim', 'total_bal_ex_mort', 'total_bc_limit',\n",
              "       'total_il_high_credit_limit'],\n",
              "      dtype='object', length=111)"
            ]
          },
          "metadata": {},
          "execution_count": 6
        }
      ],
      "source": [
        "loan_data.columns"
      ]
    },
    {
      "cell_type": "markdown",
      "source": [
        "Some of the important columns in the dataset are \n",
        "\n",
        "<li><code>loan_amount</code> </li>\n",
        "<li><code>term</code></li> \n",
        "<li><code>interest rate</code></li> \n",
        "<li><code>grade</code></li> \n",
        "<li><code>sub grade</code></li> \n",
        "<li><code>annual income</code></li> \n",
        "<li><code>purpose of the loan</code></li> \n",
        "\n",
        "etc. Our target variable is __`loan_status`__. Now, let us move ahead, and look at the first few and last few rows of the dataset."
      ],
      "metadata": {
        "id": "CTYPQ-cpVa5Q"
      }
    },
    {
      "cell_type": "code",
      "source": [
        "display(loan_data.head(5),loan_data.tail(5))"
      ],
      "metadata": {
        "colab": {
          "base_uri": "https://localhost:8080/"
        },
        "id": "A9EhBJvtVq1j",
        "outputId": "a6a34a2d-3e86-4b15-e39b-aaf60243ef98"
      },
      "execution_count": null,
      "outputs": [
        {
          "output_type": "display_data",
          "data": {
            "text/plain": [
              "        id  member_id  loan_amnt  funded_amnt  funded_amnt_inv        term  \\\n",
              "0  1077501    1296599       5000         5000           4975.0   36 months   \n",
              "1  1077430    1314167       2500         2500           2500.0   60 months   \n",
              "2  1077175    1313524       2400         2400           2400.0   36 months   \n",
              "3  1076863    1277178      10000        10000          10000.0   36 months   \n",
              "4  1075358    1311748       3000         3000           3000.0   60 months   \n",
              "\n",
              "  int_rate  installment grade sub_grade  ... num_tl_90g_dpd_24m  \\\n",
              "0   10.65%       162.87     B        B2  ...                NaN   \n",
              "1   15.27%        59.83     C        C4  ...                NaN   \n",
              "2   15.96%        84.33     C        C5  ...                NaN   \n",
              "3   13.49%       339.31     C        C1  ...                NaN   \n",
              "4   12.69%        67.79     B        B5  ...                NaN   \n",
              "\n",
              "  num_tl_op_past_12m pct_tl_nvr_dlq  percent_bc_gt_75 pub_rec_bankruptcies  \\\n",
              "0                NaN            NaN               NaN                  0.0   \n",
              "1                NaN            NaN               NaN                  0.0   \n",
              "2                NaN            NaN               NaN                  0.0   \n",
              "3                NaN            NaN               NaN                  0.0   \n",
              "4                NaN            NaN               NaN                  0.0   \n",
              "\n",
              "  tax_liens tot_hi_cred_lim total_bal_ex_mort total_bc_limit  \\\n",
              "0       0.0             NaN               NaN            NaN   \n",
              "1       0.0             NaN               NaN            NaN   \n",
              "2       0.0             NaN               NaN            NaN   \n",
              "3       0.0             NaN               NaN            NaN   \n",
              "4       0.0             NaN               NaN            NaN   \n",
              "\n",
              "  total_il_high_credit_limit  \n",
              "0                        NaN  \n",
              "1                        NaN  \n",
              "2                        NaN  \n",
              "3                        NaN  \n",
              "4                        NaN  \n",
              "\n",
              "[5 rows x 111 columns]"
            ],
            "text/html": [
              "\n",
              "  <div id=\"df-90fb38a0-c34c-4a4a-b933-9f7c8c5c3514\">\n",
              "    <div class=\"colab-df-container\">\n",
              "      <div>\n",
              "<style scoped>\n",
              "    .dataframe tbody tr th:only-of-type {\n",
              "        vertical-align: middle;\n",
              "    }\n",
              "\n",
              "    .dataframe tbody tr th {\n",
              "        vertical-align: top;\n",
              "    }\n",
              "\n",
              "    .dataframe thead th {\n",
              "        text-align: right;\n",
              "    }\n",
              "</style>\n",
              "<table border=\"1\" class=\"dataframe\">\n",
              "  <thead>\n",
              "    <tr style=\"text-align: right;\">\n",
              "      <th></th>\n",
              "      <th>id</th>\n",
              "      <th>member_id</th>\n",
              "      <th>loan_amnt</th>\n",
              "      <th>funded_amnt</th>\n",
              "      <th>funded_amnt_inv</th>\n",
              "      <th>term</th>\n",
              "      <th>int_rate</th>\n",
              "      <th>installment</th>\n",
              "      <th>grade</th>\n",
              "      <th>sub_grade</th>\n",
              "      <th>...</th>\n",
              "      <th>num_tl_90g_dpd_24m</th>\n",
              "      <th>num_tl_op_past_12m</th>\n",
              "      <th>pct_tl_nvr_dlq</th>\n",
              "      <th>percent_bc_gt_75</th>\n",
              "      <th>pub_rec_bankruptcies</th>\n",
              "      <th>tax_liens</th>\n",
              "      <th>tot_hi_cred_lim</th>\n",
              "      <th>total_bal_ex_mort</th>\n",
              "      <th>total_bc_limit</th>\n",
              "      <th>total_il_high_credit_limit</th>\n",
              "    </tr>\n",
              "  </thead>\n",
              "  <tbody>\n",
              "    <tr>\n",
              "      <th>0</th>\n",
              "      <td>1077501</td>\n",
              "      <td>1296599</td>\n",
              "      <td>5000</td>\n",
              "      <td>5000</td>\n",
              "      <td>4975.0</td>\n",
              "      <td>36 months</td>\n",
              "      <td>10.65%</td>\n",
              "      <td>162.87</td>\n",
              "      <td>B</td>\n",
              "      <td>B2</td>\n",
              "      <td>...</td>\n",
              "      <td>NaN</td>\n",
              "      <td>NaN</td>\n",
              "      <td>NaN</td>\n",
              "      <td>NaN</td>\n",
              "      <td>0.0</td>\n",
              "      <td>0.0</td>\n",
              "      <td>NaN</td>\n",
              "      <td>NaN</td>\n",
              "      <td>NaN</td>\n",
              "      <td>NaN</td>\n",
              "    </tr>\n",
              "    <tr>\n",
              "      <th>1</th>\n",
              "      <td>1077430</td>\n",
              "      <td>1314167</td>\n",
              "      <td>2500</td>\n",
              "      <td>2500</td>\n",
              "      <td>2500.0</td>\n",
              "      <td>60 months</td>\n",
              "      <td>15.27%</td>\n",
              "      <td>59.83</td>\n",
              "      <td>C</td>\n",
              "      <td>C4</td>\n",
              "      <td>...</td>\n",
              "      <td>NaN</td>\n",
              "      <td>NaN</td>\n",
              "      <td>NaN</td>\n",
              "      <td>NaN</td>\n",
              "      <td>0.0</td>\n",
              "      <td>0.0</td>\n",
              "      <td>NaN</td>\n",
              "      <td>NaN</td>\n",
              "      <td>NaN</td>\n",
              "      <td>NaN</td>\n",
              "    </tr>\n",
              "    <tr>\n",
              "      <th>2</th>\n",
              "      <td>1077175</td>\n",
              "      <td>1313524</td>\n",
              "      <td>2400</td>\n",
              "      <td>2400</td>\n",
              "      <td>2400.0</td>\n",
              "      <td>36 months</td>\n",
              "      <td>15.96%</td>\n",
              "      <td>84.33</td>\n",
              "      <td>C</td>\n",
              "      <td>C5</td>\n",
              "      <td>...</td>\n",
              "      <td>NaN</td>\n",
              "      <td>NaN</td>\n",
              "      <td>NaN</td>\n",
              "      <td>NaN</td>\n",
              "      <td>0.0</td>\n",
              "      <td>0.0</td>\n",
              "      <td>NaN</td>\n",
              "      <td>NaN</td>\n",
              "      <td>NaN</td>\n",
              "      <td>NaN</td>\n",
              "    </tr>\n",
              "    <tr>\n",
              "      <th>3</th>\n",
              "      <td>1076863</td>\n",
              "      <td>1277178</td>\n",
              "      <td>10000</td>\n",
              "      <td>10000</td>\n",
              "      <td>10000.0</td>\n",
              "      <td>36 months</td>\n",
              "      <td>13.49%</td>\n",
              "      <td>339.31</td>\n",
              "      <td>C</td>\n",
              "      <td>C1</td>\n",
              "      <td>...</td>\n",
              "      <td>NaN</td>\n",
              "      <td>NaN</td>\n",
              "      <td>NaN</td>\n",
              "      <td>NaN</td>\n",
              "      <td>0.0</td>\n",
              "      <td>0.0</td>\n",
              "      <td>NaN</td>\n",
              "      <td>NaN</td>\n",
              "      <td>NaN</td>\n",
              "      <td>NaN</td>\n",
              "    </tr>\n",
              "    <tr>\n",
              "      <th>4</th>\n",
              "      <td>1075358</td>\n",
              "      <td>1311748</td>\n",
              "      <td>3000</td>\n",
              "      <td>3000</td>\n",
              "      <td>3000.0</td>\n",
              "      <td>60 months</td>\n",
              "      <td>12.69%</td>\n",
              "      <td>67.79</td>\n",
              "      <td>B</td>\n",
              "      <td>B5</td>\n",
              "      <td>...</td>\n",
              "      <td>NaN</td>\n",
              "      <td>NaN</td>\n",
              "      <td>NaN</td>\n",
              "      <td>NaN</td>\n",
              "      <td>0.0</td>\n",
              "      <td>0.0</td>\n",
              "      <td>NaN</td>\n",
              "      <td>NaN</td>\n",
              "      <td>NaN</td>\n",
              "      <td>NaN</td>\n",
              "    </tr>\n",
              "  </tbody>\n",
              "</table>\n",
              "<p>5 rows × 111 columns</p>\n",
              "</div>\n",
              "      <button class=\"colab-df-convert\" onclick=\"convertToInteractive('df-90fb38a0-c34c-4a4a-b933-9f7c8c5c3514')\"\n",
              "              title=\"Convert this dataframe to an interactive table.\"\n",
              "              style=\"display:none;\">\n",
              "        \n",
              "  <svg xmlns=\"http://www.w3.org/2000/svg\" height=\"24px\"viewBox=\"0 0 24 24\"\n",
              "       width=\"24px\">\n",
              "    <path d=\"M0 0h24v24H0V0z\" fill=\"none\"/>\n",
              "    <path d=\"M18.56 5.44l.94 2.06.94-2.06 2.06-.94-2.06-.94-.94-2.06-.94 2.06-2.06.94zm-11 1L8.5 8.5l.94-2.06 2.06-.94-2.06-.94L8.5 2.5l-.94 2.06-2.06.94zm10 10l.94 2.06.94-2.06 2.06-.94-2.06-.94-.94-2.06-.94 2.06-2.06.94z\"/><path d=\"M17.41 7.96l-1.37-1.37c-.4-.4-.92-.59-1.43-.59-.52 0-1.04.2-1.43.59L10.3 9.45l-7.72 7.72c-.78.78-.78 2.05 0 2.83L4 21.41c.39.39.9.59 1.41.59.51 0 1.02-.2 1.41-.59l7.78-7.78 2.81-2.81c.8-.78.8-2.07 0-2.86zM5.41 20L4 18.59l7.72-7.72 1.47 1.35L5.41 20z\"/>\n",
              "  </svg>\n",
              "      </button>\n",
              "      \n",
              "  <style>\n",
              "    .colab-df-container {\n",
              "      display:flex;\n",
              "      flex-wrap:wrap;\n",
              "      gap: 12px;\n",
              "    }\n",
              "\n",
              "    .colab-df-convert {\n",
              "      background-color: #E8F0FE;\n",
              "      border: none;\n",
              "      border-radius: 50%;\n",
              "      cursor: pointer;\n",
              "      display: none;\n",
              "      fill: #1967D2;\n",
              "      height: 32px;\n",
              "      padding: 0 0 0 0;\n",
              "      width: 32px;\n",
              "    }\n",
              "\n",
              "    .colab-df-convert:hover {\n",
              "      background-color: #E2EBFA;\n",
              "      box-shadow: 0px 1px 2px rgba(60, 64, 67, 0.3), 0px 1px 3px 1px rgba(60, 64, 67, 0.15);\n",
              "      fill: #174EA6;\n",
              "    }\n",
              "\n",
              "    [theme=dark] .colab-df-convert {\n",
              "      background-color: #3B4455;\n",
              "      fill: #D2E3FC;\n",
              "    }\n",
              "\n",
              "    [theme=dark] .colab-df-convert:hover {\n",
              "      background-color: #434B5C;\n",
              "      box-shadow: 0px 1px 3px 1px rgba(0, 0, 0, 0.15);\n",
              "      filter: drop-shadow(0px 1px 2px rgba(0, 0, 0, 0.3));\n",
              "      fill: #FFFFFF;\n",
              "    }\n",
              "  </style>\n",
              "\n",
              "      <script>\n",
              "        const buttonEl =\n",
              "          document.querySelector('#df-90fb38a0-c34c-4a4a-b933-9f7c8c5c3514 button.colab-df-convert');\n",
              "        buttonEl.style.display =\n",
              "          google.colab.kernel.accessAllowed ? 'block' : 'none';\n",
              "\n",
              "        async function convertToInteractive(key) {\n",
              "          const element = document.querySelector('#df-90fb38a0-c34c-4a4a-b933-9f7c8c5c3514');\n",
              "          const dataTable =\n",
              "            await google.colab.kernel.invokeFunction('convertToInteractive',\n",
              "                                                     [key], {});\n",
              "          if (!dataTable) return;\n",
              "\n",
              "          const docLinkHtml = 'Like what you see? Visit the ' +\n",
              "            '<a target=\"_blank\" href=https://colab.research.google.com/notebooks/data_table.ipynb>data table notebook</a>'\n",
              "            + ' to learn more about interactive tables.';\n",
              "          element.innerHTML = '';\n",
              "          dataTable['output_type'] = 'display_data';\n",
              "          await google.colab.output.renderOutput(dataTable, element);\n",
              "          const docLink = document.createElement('div');\n",
              "          docLink.innerHTML = docLinkHtml;\n",
              "          element.appendChild(docLink);\n",
              "        }\n",
              "      </script>\n",
              "    </div>\n",
              "  </div>\n",
              "  "
            ]
          },
          "metadata": {}
        },
        {
          "output_type": "display_data",
          "data": {
            "text/plain": [
              "          id  member_id  loan_amnt  funded_amnt  funded_amnt_inv        term  \\\n",
              "39712  92187      92174       2500         2500           1075.0   36 months   \n",
              "39713  90665      90607       8500         8500            875.0   36 months   \n",
              "39714  90395      90390       5000         5000           1325.0   36 months   \n",
              "39715  90376      89243       5000         5000            650.0   36 months   \n",
              "39716  87023      86999       7500         7500            800.0   36 months   \n",
              "\n",
              "      int_rate  installment grade sub_grade  ... num_tl_90g_dpd_24m  \\\n",
              "39712    8.07%        78.42     A        A4  ...                NaN   \n",
              "39713   10.28%       275.38     C        C1  ...                NaN   \n",
              "39714    8.07%       156.84     A        A4  ...                NaN   \n",
              "39715    7.43%       155.38     A        A2  ...                NaN   \n",
              "39716   13.75%       255.43     E        E2  ...                NaN   \n",
              "\n",
              "      num_tl_op_past_12m pct_tl_nvr_dlq  percent_bc_gt_75  \\\n",
              "39712                NaN            NaN               NaN   \n",
              "39713                NaN            NaN               NaN   \n",
              "39714                NaN            NaN               NaN   \n",
              "39715                NaN            NaN               NaN   \n",
              "39716                NaN            NaN               NaN   \n",
              "\n",
              "      pub_rec_bankruptcies tax_liens tot_hi_cred_lim total_bal_ex_mort  \\\n",
              "39712                  NaN       NaN             NaN               NaN   \n",
              "39713                  NaN       NaN             NaN               NaN   \n",
              "39714                  NaN       NaN             NaN               NaN   \n",
              "39715                  NaN       NaN             NaN               NaN   \n",
              "39716                  NaN       NaN             NaN               NaN   \n",
              "\n",
              "      total_bc_limit total_il_high_credit_limit  \n",
              "39712            NaN                        NaN  \n",
              "39713            NaN                        NaN  \n",
              "39714            NaN                        NaN  \n",
              "39715            NaN                        NaN  \n",
              "39716            NaN                        NaN  \n",
              "\n",
              "[5 rows x 111 columns]"
            ],
            "text/html": [
              "\n",
              "  <div id=\"df-0a932fef-d217-47f3-b4e4-4e19aa243d65\">\n",
              "    <div class=\"colab-df-container\">\n",
              "      <div>\n",
              "<style scoped>\n",
              "    .dataframe tbody tr th:only-of-type {\n",
              "        vertical-align: middle;\n",
              "    }\n",
              "\n",
              "    .dataframe tbody tr th {\n",
              "        vertical-align: top;\n",
              "    }\n",
              "\n",
              "    .dataframe thead th {\n",
              "        text-align: right;\n",
              "    }\n",
              "</style>\n",
              "<table border=\"1\" class=\"dataframe\">\n",
              "  <thead>\n",
              "    <tr style=\"text-align: right;\">\n",
              "      <th></th>\n",
              "      <th>id</th>\n",
              "      <th>member_id</th>\n",
              "      <th>loan_amnt</th>\n",
              "      <th>funded_amnt</th>\n",
              "      <th>funded_amnt_inv</th>\n",
              "      <th>term</th>\n",
              "      <th>int_rate</th>\n",
              "      <th>installment</th>\n",
              "      <th>grade</th>\n",
              "      <th>sub_grade</th>\n",
              "      <th>...</th>\n",
              "      <th>num_tl_90g_dpd_24m</th>\n",
              "      <th>num_tl_op_past_12m</th>\n",
              "      <th>pct_tl_nvr_dlq</th>\n",
              "      <th>percent_bc_gt_75</th>\n",
              "      <th>pub_rec_bankruptcies</th>\n",
              "      <th>tax_liens</th>\n",
              "      <th>tot_hi_cred_lim</th>\n",
              "      <th>total_bal_ex_mort</th>\n",
              "      <th>total_bc_limit</th>\n",
              "      <th>total_il_high_credit_limit</th>\n",
              "    </tr>\n",
              "  </thead>\n",
              "  <tbody>\n",
              "    <tr>\n",
              "      <th>39712</th>\n",
              "      <td>92187</td>\n",
              "      <td>92174</td>\n",
              "      <td>2500</td>\n",
              "      <td>2500</td>\n",
              "      <td>1075.0</td>\n",
              "      <td>36 months</td>\n",
              "      <td>8.07%</td>\n",
              "      <td>78.42</td>\n",
              "      <td>A</td>\n",
              "      <td>A4</td>\n",
              "      <td>...</td>\n",
              "      <td>NaN</td>\n",
              "      <td>NaN</td>\n",
              "      <td>NaN</td>\n",
              "      <td>NaN</td>\n",
              "      <td>NaN</td>\n",
              "      <td>NaN</td>\n",
              "      <td>NaN</td>\n",
              "      <td>NaN</td>\n",
              "      <td>NaN</td>\n",
              "      <td>NaN</td>\n",
              "    </tr>\n",
              "    <tr>\n",
              "      <th>39713</th>\n",
              "      <td>90665</td>\n",
              "      <td>90607</td>\n",
              "      <td>8500</td>\n",
              "      <td>8500</td>\n",
              "      <td>875.0</td>\n",
              "      <td>36 months</td>\n",
              "      <td>10.28%</td>\n",
              "      <td>275.38</td>\n",
              "      <td>C</td>\n",
              "      <td>C1</td>\n",
              "      <td>...</td>\n",
              "      <td>NaN</td>\n",
              "      <td>NaN</td>\n",
              "      <td>NaN</td>\n",
              "      <td>NaN</td>\n",
              "      <td>NaN</td>\n",
              "      <td>NaN</td>\n",
              "      <td>NaN</td>\n",
              "      <td>NaN</td>\n",
              "      <td>NaN</td>\n",
              "      <td>NaN</td>\n",
              "    </tr>\n",
              "    <tr>\n",
              "      <th>39714</th>\n",
              "      <td>90395</td>\n",
              "      <td>90390</td>\n",
              "      <td>5000</td>\n",
              "      <td>5000</td>\n",
              "      <td>1325.0</td>\n",
              "      <td>36 months</td>\n",
              "      <td>8.07%</td>\n",
              "      <td>156.84</td>\n",
              "      <td>A</td>\n",
              "      <td>A4</td>\n",
              "      <td>...</td>\n",
              "      <td>NaN</td>\n",
              "      <td>NaN</td>\n",
              "      <td>NaN</td>\n",
              "      <td>NaN</td>\n",
              "      <td>NaN</td>\n",
              "      <td>NaN</td>\n",
              "      <td>NaN</td>\n",
              "      <td>NaN</td>\n",
              "      <td>NaN</td>\n",
              "      <td>NaN</td>\n",
              "    </tr>\n",
              "    <tr>\n",
              "      <th>39715</th>\n",
              "      <td>90376</td>\n",
              "      <td>89243</td>\n",
              "      <td>5000</td>\n",
              "      <td>5000</td>\n",
              "      <td>650.0</td>\n",
              "      <td>36 months</td>\n",
              "      <td>7.43%</td>\n",
              "      <td>155.38</td>\n",
              "      <td>A</td>\n",
              "      <td>A2</td>\n",
              "      <td>...</td>\n",
              "      <td>NaN</td>\n",
              "      <td>NaN</td>\n",
              "      <td>NaN</td>\n",
              "      <td>NaN</td>\n",
              "      <td>NaN</td>\n",
              "      <td>NaN</td>\n",
              "      <td>NaN</td>\n",
              "      <td>NaN</td>\n",
              "      <td>NaN</td>\n",
              "      <td>NaN</td>\n",
              "    </tr>\n",
              "    <tr>\n",
              "      <th>39716</th>\n",
              "      <td>87023</td>\n",
              "      <td>86999</td>\n",
              "      <td>7500</td>\n",
              "      <td>7500</td>\n",
              "      <td>800.0</td>\n",
              "      <td>36 months</td>\n",
              "      <td>13.75%</td>\n",
              "      <td>255.43</td>\n",
              "      <td>E</td>\n",
              "      <td>E2</td>\n",
              "      <td>...</td>\n",
              "      <td>NaN</td>\n",
              "      <td>NaN</td>\n",
              "      <td>NaN</td>\n",
              "      <td>NaN</td>\n",
              "      <td>NaN</td>\n",
              "      <td>NaN</td>\n",
              "      <td>NaN</td>\n",
              "      <td>NaN</td>\n",
              "      <td>NaN</td>\n",
              "      <td>NaN</td>\n",
              "    </tr>\n",
              "  </tbody>\n",
              "</table>\n",
              "<p>5 rows × 111 columns</p>\n",
              "</div>\n",
              "      <button class=\"colab-df-convert\" onclick=\"convertToInteractive('df-0a932fef-d217-47f3-b4e4-4e19aa243d65')\"\n",
              "              title=\"Convert this dataframe to an interactive table.\"\n",
              "              style=\"display:none;\">\n",
              "        \n",
              "  <svg xmlns=\"http://www.w3.org/2000/svg\" height=\"24px\"viewBox=\"0 0 24 24\"\n",
              "       width=\"24px\">\n",
              "    <path d=\"M0 0h24v24H0V0z\" fill=\"none\"/>\n",
              "    <path d=\"M18.56 5.44l.94 2.06.94-2.06 2.06-.94-2.06-.94-.94-2.06-.94 2.06-2.06.94zm-11 1L8.5 8.5l.94-2.06 2.06-.94-2.06-.94L8.5 2.5l-.94 2.06-2.06.94zm10 10l.94 2.06.94-2.06 2.06-.94-2.06-.94-.94-2.06-.94 2.06-2.06.94z\"/><path d=\"M17.41 7.96l-1.37-1.37c-.4-.4-.92-.59-1.43-.59-.52 0-1.04.2-1.43.59L10.3 9.45l-7.72 7.72c-.78.78-.78 2.05 0 2.83L4 21.41c.39.39.9.59 1.41.59.51 0 1.02-.2 1.41-.59l7.78-7.78 2.81-2.81c.8-.78.8-2.07 0-2.86zM5.41 20L4 18.59l7.72-7.72 1.47 1.35L5.41 20z\"/>\n",
              "  </svg>\n",
              "      </button>\n",
              "      \n",
              "  <style>\n",
              "    .colab-df-container {\n",
              "      display:flex;\n",
              "      flex-wrap:wrap;\n",
              "      gap: 12px;\n",
              "    }\n",
              "\n",
              "    .colab-df-convert {\n",
              "      background-color: #E8F0FE;\n",
              "      border: none;\n",
              "      border-radius: 50%;\n",
              "      cursor: pointer;\n",
              "      display: none;\n",
              "      fill: #1967D2;\n",
              "      height: 32px;\n",
              "      padding: 0 0 0 0;\n",
              "      width: 32px;\n",
              "    }\n",
              "\n",
              "    .colab-df-convert:hover {\n",
              "      background-color: #E2EBFA;\n",
              "      box-shadow: 0px 1px 2px rgba(60, 64, 67, 0.3), 0px 1px 3px 1px rgba(60, 64, 67, 0.15);\n",
              "      fill: #174EA6;\n",
              "    }\n",
              "\n",
              "    [theme=dark] .colab-df-convert {\n",
              "      background-color: #3B4455;\n",
              "      fill: #D2E3FC;\n",
              "    }\n",
              "\n",
              "    [theme=dark] .colab-df-convert:hover {\n",
              "      background-color: #434B5C;\n",
              "      box-shadow: 0px 1px 3px 1px rgba(0, 0, 0, 0.15);\n",
              "      filter: drop-shadow(0px 1px 2px rgba(0, 0, 0, 0.3));\n",
              "      fill: #FFFFFF;\n",
              "    }\n",
              "  </style>\n",
              "\n",
              "      <script>\n",
              "        const buttonEl =\n",
              "          document.querySelector('#df-0a932fef-d217-47f3-b4e4-4e19aa243d65 button.colab-df-convert');\n",
              "        buttonEl.style.display =\n",
              "          google.colab.kernel.accessAllowed ? 'block' : 'none';\n",
              "\n",
              "        async function convertToInteractive(key) {\n",
              "          const element = document.querySelector('#df-0a932fef-d217-47f3-b4e4-4e19aa243d65');\n",
              "          const dataTable =\n",
              "            await google.colab.kernel.invokeFunction('convertToInteractive',\n",
              "                                                     [key], {});\n",
              "          if (!dataTable) return;\n",
              "\n",
              "          const docLinkHtml = 'Like what you see? Visit the ' +\n",
              "            '<a target=\"_blank\" href=https://colab.research.google.com/notebooks/data_table.ipynb>data table notebook</a>'\n",
              "            + ' to learn more about interactive tables.';\n",
              "          element.innerHTML = '';\n",
              "          dataTable['output_type'] = 'display_data';\n",
              "          await google.colab.output.renderOutput(dataTable, element);\n",
              "          const docLink = document.createElement('div');\n",
              "          docLink.innerHTML = docLinkHtml;\n",
              "          element.appendChild(docLink);\n",
              "        }\n",
              "      </script>\n",
              "    </div>\n",
              "  </div>\n",
              "  "
            ]
          },
          "metadata": {}
        }
      ]
    },
    {
      "cell_type": "markdown",
      "source": [
        "Now, we will move towards data cleaning and preparation."
      ],
      "metadata": {
        "id": "a40tZ7QLVyRp"
      }
    },
    {
      "cell_type": "markdown",
      "metadata": {
        "id": "PFLZ8XQFM7H3"
      },
      "source": [
        "# Data Cleaning and Preparation\n",
        "\n",
        "From the above output, we can see that there are some columns containing null values. Let us see how many null values are there in each column."
      ]
    },
    {
      "cell_type": "code",
      "execution_count": null,
      "metadata": {
        "colab": {
          "base_uri": "https://localhost:8080/"
        },
        "id": "t5G6DWMzM7H4",
        "outputId": "e650ca63-696c-4d2d-8176-95fa470449cb"
      },
      "outputs": [
        {
          "output_type": "execute_result",
          "data": {
            "text/plain": [
              "id                                0\n",
              "member_id                         0\n",
              "loan_amnt                         0\n",
              "funded_amnt                       0\n",
              "funded_amnt_inv                   0\n",
              "                              ...  \n",
              "tax_liens                        39\n",
              "tot_hi_cred_lim               39717\n",
              "total_bal_ex_mort             39717\n",
              "total_bc_limit                39717\n",
              "total_il_high_credit_limit    39717\n",
              "Length: 111, dtype: int64"
            ]
          },
          "metadata": {},
          "execution_count": 8
        }
      ],
      "source": [
        "loan_data.isnull().sum()"
      ]
    },
    {
      "cell_type": "markdown",
      "source": [
        "It is clearly visible that there are some columns that have 100% null values. Hence, let us find out the __percentages of null__ values in each column."
      ],
      "metadata": {
        "id": "m5SDdTZ-WXMh"
      }
    },
    {
      "cell_type": "code",
      "execution_count": null,
      "metadata": {
        "colab": {
          "base_uri": "https://localhost:8080/"
        },
        "id": "dZ5DQqm5M7H5",
        "outputId": "26b38a82-ecfb-4e0d-ae45-a11e1bd130bf"
      },
      "outputs": [
        {
          "output_type": "execute_result",
          "data": {
            "text/plain": [
              "id                              0.0\n",
              "member_id                       0.0\n",
              "loan_amnt                       0.0\n",
              "funded_amnt                     0.0\n",
              "funded_amnt_inv                 0.0\n",
              "                              ...  \n",
              "tax_liens                       0.0\n",
              "tot_hi_cred_lim               100.0\n",
              "total_bal_ex_mort             100.0\n",
              "total_bc_limit                100.0\n",
              "total_il_high_credit_limit    100.0\n",
              "Length: 111, dtype: float64"
            ]
          },
          "metadata": {},
          "execution_count": 9
        }
      ],
      "source": [
        "null_perc = round(loan_data.isnull().sum()/orig[0], 2)*100\n",
        "null_perc"
      ]
    },
    {
      "cell_type": "markdown",
      "metadata": {
        "id": "XyRK3W58M7H6"
      },
      "source": [
        "We can see that many columns have 100% missing values, whereas some have null values between 30-90% range. \n",
        "\n",
        "First, let's get rid of the columns having 100% missing values."
      ]
    },
    {
      "cell_type": "code",
      "execution_count": null,
      "metadata": {
        "colab": {
          "base_uri": "https://localhost:8080/"
        },
        "id": "_faIslD7M7H6",
        "outputId": "3c342627-d814-4a33-9e75-622b8d438a11"
      },
      "outputs": [
        {
          "output_type": "execute_result",
          "data": {
            "text/plain": [
              "54"
            ]
          },
          "metadata": {},
          "execution_count": 10
        }
      ],
      "source": [
        "no_val = null_perc[null_perc==100].index\n",
        "no_val.shape[0]"
      ]
    },
    {
      "cell_type": "markdown",
      "source": [
        "We can see there are many columns that have 100% null values. Let us drop these columns, since they are insignificant in our analysis."
      ],
      "metadata": {
        "id": "capAEb73X6VZ"
      }
    },
    {
      "cell_type": "code",
      "source": [
        "loan = loan_data[list(set(loan_data.columns) - set(no_val))]\n",
        "loan.shape"
      ],
      "metadata": {
        "colab": {
          "base_uri": "https://localhost:8080/"
        },
        "id": "0uzZIL3AYDfj",
        "outputId": "261c6b56-738a-4687-cd23-7ccbffaf65d2"
      },
      "execution_count": null,
      "outputs": [
        {
          "output_type": "execute_result",
          "data": {
            "text/plain": [
              "(39717, 57)"
            ]
          },
          "metadata": {},
          "execution_count": 11
        }
      ]
    },
    {
      "cell_type": "markdown",
      "source": [
        "Hence, we have 57 columns left out of 111 columns. Now, let us see the percentage of null values again."
      ],
      "metadata": {
        "id": "eKncctqYZSt1"
      }
    },
    {
      "cell_type": "code",
      "execution_count": null,
      "metadata": {
        "colab": {
          "base_uri": "https://localhost:8080/"
        },
        "id": "Os4033SsM7H7",
        "outputId": "6eb6c49d-6596-4f12-8bfb-a3437cb4bf17"
      },
      "outputs": [
        {
          "output_type": "execute_result",
          "data": {
            "text/plain": [
              "recoveries                     0.00\n",
              "dti                            0.00\n",
              "application_type               0.00\n",
              "delinq_2yrs                    0.00\n",
              "open_acc                       0.00\n",
              "emp_title                      6.19\n",
              "mths_since_last_delinq        64.66\n",
              "chargeoff_within_12_mths       0.14\n",
              "purpose                        0.00\n",
              "annual_inc                     0.00\n",
              "last_credit_pull_d             0.01\n",
              "total_rec_late_fee             0.00\n",
              "total_pymnt_inv                0.00\n",
              "pub_rec_bankruptcies           1.75\n",
              "next_pymnt_d                  97.13\n",
              "policy_code                    0.00\n",
              "last_pymnt_d                   0.18\n",
              "id                             0.00\n",
              "initial_list_status            0.00\n",
              "term                           0.00\n",
              "desc                          32.58\n",
              "earliest_cr_line               0.00\n",
              "grade                          0.00\n",
              "verification_status            0.00\n",
              "delinq_amnt                    0.00\n",
              "pymnt_plan                     0.00\n",
              "revol_util                     0.13\n",
              "addr_state                     0.00\n",
              "installment                    0.00\n",
              "emp_length                     2.71\n",
              "collections_12_mths_ex_med     0.14\n",
              "total_rec_int                  0.00\n",
              "pub_rec                        0.00\n",
              "total_pymnt                    0.00\n",
              "issue_d                        0.00\n",
              "member_id                      0.00\n",
              "sub_grade                      0.00\n",
              "collection_recovery_fee        0.00\n",
              "funded_amnt_inv                0.00\n",
              "acc_now_delinq                 0.00\n",
              "zip_code                       0.00\n",
              "int_rate                       0.00\n",
              "last_pymnt_amnt                0.00\n",
              "total_rec_prncp                0.00\n",
              "url                            0.00\n",
              "funded_amnt                    0.00\n",
              "loan_status                    0.00\n",
              "inq_last_6mths                 0.00\n",
              "tax_liens                      0.10\n",
              "title                          0.03\n",
              "out_prncp_inv                  0.00\n",
              "loan_amnt                      0.00\n",
              "total_acc                      0.00\n",
              "revol_bal                      0.00\n",
              "home_ownership                 0.00\n",
              "mths_since_last_record        92.99\n",
              "out_prncp                      0.00\n",
              "dtype: float64"
            ]
          },
          "metadata": {},
          "execution_count": 12
        }
      ],
      "source": [
        "null_perc = round((loan.isnull().sum()/loan.shape[0])*100,2)\n",
        "null_perc"
      ]
    },
    {
      "cell_type": "markdown",
      "source": [
        "We can see that there are still columns that have more than 60% null values. Let us drop all those columns as well. "
      ],
      "metadata": {
        "id": "y5az0YqdZ4vj"
      }
    },
    {
      "cell_type": "code",
      "execution_count": null,
      "metadata": {
        "colab": {
          "base_uri": "https://localhost:8080/"
        },
        "id": "FhCsELkHM7H7",
        "outputId": "c31471cf-0436-488e-db2e-ac050294cf39"
      },
      "outputs": [
        {
          "output_type": "execute_result",
          "data": {
            "text/plain": [
              "Index(['mths_since_last_delinq', 'next_pymnt_d', 'mths_since_last_record'], dtype='object')"
            ]
          },
          "metadata": {},
          "execution_count": 13
        }
      ],
      "source": [
        "mt60null = null_perc[null_perc >=60].index\n",
        "mt60null"
      ]
    },
    {
      "cell_type": "code",
      "source": [
        "loan = loan[list(set(loan.columns) - set(mt60null))]\n",
        "loan.shape"
      ],
      "metadata": {
        "colab": {
          "base_uri": "https://localhost:8080/"
        },
        "id": "C9u16hIFaGNk",
        "outputId": "8a83af21-cc7a-4a1c-be8c-c333461fde84"
      },
      "execution_count": null,
      "outputs": [
        {
          "output_type": "execute_result",
          "data": {
            "text/plain": [
              "(39717, 54)"
            ]
          },
          "metadata": {},
          "execution_count": 14
        }
      ]
    },
    {
      "cell_type": "markdown",
      "source": [
        "Now, let us see the null values percentage again, this time in descending order."
      ],
      "metadata": {
        "id": "7lYrCtO1bPWx"
      }
    },
    {
      "cell_type": "code",
      "source": [
        "null_perc = round((loan.isnull().sum()/loan.shape[0])*100,2).sort_values(ascending=False)\n",
        "null_perc"
      ],
      "metadata": {
        "colab": {
          "base_uri": "https://localhost:8080/"
        },
        "id": "3Y4HA9XWbVq4",
        "outputId": "bebe7b97-5c1c-4314-f409-a57962ede66c"
      },
      "execution_count": null,
      "outputs": [
        {
          "output_type": "execute_result",
          "data": {
            "text/plain": [
              "desc                          32.58\n",
              "emp_title                      6.19\n",
              "emp_length                     2.71\n",
              "pub_rec_bankruptcies           1.75\n",
              "last_pymnt_d                   0.18\n",
              "collections_12_mths_ex_med     0.14\n",
              "chargeoff_within_12_mths       0.14\n",
              "revol_util                     0.13\n",
              "tax_liens                      0.10\n",
              "title                          0.03\n",
              "last_credit_pull_d             0.01\n",
              "collection_recovery_fee        0.00\n",
              "funded_amnt_inv                0.00\n",
              "sub_grade                      0.00\n",
              "acc_now_delinq                 0.00\n",
              "zip_code                       0.00\n",
              "int_rate                       0.00\n",
              "last_pymnt_amnt                0.00\n",
              "recoveries                     0.00\n",
              "total_rec_prncp                0.00\n",
              "url                            0.00\n",
              "funded_amnt                    0.00\n",
              "total_pymnt                    0.00\n",
              "loan_status                    0.00\n",
              "inq_last_6mths                 0.00\n",
              "out_prncp_inv                  0.00\n",
              "loan_amnt                      0.00\n",
              "total_acc                      0.00\n",
              "revol_bal                      0.00\n",
              "member_id                      0.00\n",
              "issue_d                        0.00\n",
              "installment                    0.00\n",
              "pub_rec                        0.00\n",
              "total_rec_int                  0.00\n",
              "open_acc                       0.00\n",
              "application_type               0.00\n",
              "delinq_2yrs                    0.00\n",
              "purpose                        0.00\n",
              "annual_inc                     0.00\n",
              "total_rec_late_fee             0.00\n",
              "total_pymnt_inv                0.00\n",
              "home_ownership                 0.00\n",
              "policy_code                    0.00\n",
              "id                             0.00\n",
              "initial_list_status            0.00\n",
              "term                           0.00\n",
              "earliest_cr_line               0.00\n",
              "grade                          0.00\n",
              "verification_status            0.00\n",
              "delinq_amnt                    0.00\n",
              "pymnt_plan                     0.00\n",
              "addr_state                     0.00\n",
              "dti                            0.00\n",
              "out_prncp                      0.00\n",
              "dtype: float64"
            ]
          },
          "metadata": {},
          "execution_count": 15
        }
      ]
    },
    {
      "cell_type": "markdown",
      "source": [
        "There is just one column `desc` which has significant null values. Let us see what it contains. "
      ],
      "metadata": {
        "id": "VnIeVz6vdNN8"
      }
    },
    {
      "cell_type": "code",
      "source": [
        "loan[['desc']].head(10)"
      ],
      "metadata": {
        "colab": {
          "base_uri": "https://localhost:8080/"
        },
        "id": "Z0CdLQ9TdUWm",
        "outputId": "2786c89c-b89d-4e4f-b1b7-a7294d224de6"
      },
      "execution_count": null,
      "outputs": [
        {
          "output_type": "execute_result",
          "data": {
            "text/plain": [
              "                                                desc\n",
              "0    Borrower added on 12/22/11 > I need to upgra...\n",
              "1    Borrower added on 12/22/11 > I plan to use t...\n",
              "2                                                NaN\n",
              "3    Borrower added on 12/21/11 > to pay for prop...\n",
              "4    Borrower added on 12/21/11 > I plan on combi...\n",
              "5                                                NaN\n",
              "6    Borrower added on 12/18/11 > I am planning o...\n",
              "7    Borrower added on 12/16/11 > Downpayment for...\n",
              "8    Borrower added on 12/21/11 > I own a small h...\n",
              "9    Borrower added on 12/16/11 > I'm trying to b..."
            ],
            "text/html": [
              "\n",
              "  <div id=\"df-3f306f6d-4a18-4e23-9683-4a803b4a8c84\">\n",
              "    <div class=\"colab-df-container\">\n",
              "      <div>\n",
              "<style scoped>\n",
              "    .dataframe tbody tr th:only-of-type {\n",
              "        vertical-align: middle;\n",
              "    }\n",
              "\n",
              "    .dataframe tbody tr th {\n",
              "        vertical-align: top;\n",
              "    }\n",
              "\n",
              "    .dataframe thead th {\n",
              "        text-align: right;\n",
              "    }\n",
              "</style>\n",
              "<table border=\"1\" class=\"dataframe\">\n",
              "  <thead>\n",
              "    <tr style=\"text-align: right;\">\n",
              "      <th></th>\n",
              "      <th>desc</th>\n",
              "    </tr>\n",
              "  </thead>\n",
              "  <tbody>\n",
              "    <tr>\n",
              "      <th>0</th>\n",
              "      <td>Borrower added on 12/22/11 &gt; I need to upgra...</td>\n",
              "    </tr>\n",
              "    <tr>\n",
              "      <th>1</th>\n",
              "      <td>Borrower added on 12/22/11 &gt; I plan to use t...</td>\n",
              "    </tr>\n",
              "    <tr>\n",
              "      <th>2</th>\n",
              "      <td>NaN</td>\n",
              "    </tr>\n",
              "    <tr>\n",
              "      <th>3</th>\n",
              "      <td>Borrower added on 12/21/11 &gt; to pay for prop...</td>\n",
              "    </tr>\n",
              "    <tr>\n",
              "      <th>4</th>\n",
              "      <td>Borrower added on 12/21/11 &gt; I plan on combi...</td>\n",
              "    </tr>\n",
              "    <tr>\n",
              "      <th>5</th>\n",
              "      <td>NaN</td>\n",
              "    </tr>\n",
              "    <tr>\n",
              "      <th>6</th>\n",
              "      <td>Borrower added on 12/18/11 &gt; I am planning o...</td>\n",
              "    </tr>\n",
              "    <tr>\n",
              "      <th>7</th>\n",
              "      <td>Borrower added on 12/16/11 &gt; Downpayment for...</td>\n",
              "    </tr>\n",
              "    <tr>\n",
              "      <th>8</th>\n",
              "      <td>Borrower added on 12/21/11 &gt; I own a small h...</td>\n",
              "    </tr>\n",
              "    <tr>\n",
              "      <th>9</th>\n",
              "      <td>Borrower added on 12/16/11 &gt; I'm trying to b...</td>\n",
              "    </tr>\n",
              "  </tbody>\n",
              "</table>\n",
              "</div>\n",
              "      <button class=\"colab-df-convert\" onclick=\"convertToInteractive('df-3f306f6d-4a18-4e23-9683-4a803b4a8c84')\"\n",
              "              title=\"Convert this dataframe to an interactive table.\"\n",
              "              style=\"display:none;\">\n",
              "        \n",
              "  <svg xmlns=\"http://www.w3.org/2000/svg\" height=\"24px\"viewBox=\"0 0 24 24\"\n",
              "       width=\"24px\">\n",
              "    <path d=\"M0 0h24v24H0V0z\" fill=\"none\"/>\n",
              "    <path d=\"M18.56 5.44l.94 2.06.94-2.06 2.06-.94-2.06-.94-.94-2.06-.94 2.06-2.06.94zm-11 1L8.5 8.5l.94-2.06 2.06-.94-2.06-.94L8.5 2.5l-.94 2.06-2.06.94zm10 10l.94 2.06.94-2.06 2.06-.94-2.06-.94-.94-2.06-.94 2.06-2.06.94z\"/><path d=\"M17.41 7.96l-1.37-1.37c-.4-.4-.92-.59-1.43-.59-.52 0-1.04.2-1.43.59L10.3 9.45l-7.72 7.72c-.78.78-.78 2.05 0 2.83L4 21.41c.39.39.9.59 1.41.59.51 0 1.02-.2 1.41-.59l7.78-7.78 2.81-2.81c.8-.78.8-2.07 0-2.86zM5.41 20L4 18.59l7.72-7.72 1.47 1.35L5.41 20z\"/>\n",
              "  </svg>\n",
              "      </button>\n",
              "      \n",
              "  <style>\n",
              "    .colab-df-container {\n",
              "      display:flex;\n",
              "      flex-wrap:wrap;\n",
              "      gap: 12px;\n",
              "    }\n",
              "\n",
              "    .colab-df-convert {\n",
              "      background-color: #E8F0FE;\n",
              "      border: none;\n",
              "      border-radius: 50%;\n",
              "      cursor: pointer;\n",
              "      display: none;\n",
              "      fill: #1967D2;\n",
              "      height: 32px;\n",
              "      padding: 0 0 0 0;\n",
              "      width: 32px;\n",
              "    }\n",
              "\n",
              "    .colab-df-convert:hover {\n",
              "      background-color: #E2EBFA;\n",
              "      box-shadow: 0px 1px 2px rgba(60, 64, 67, 0.3), 0px 1px 3px 1px rgba(60, 64, 67, 0.15);\n",
              "      fill: #174EA6;\n",
              "    }\n",
              "\n",
              "    [theme=dark] .colab-df-convert {\n",
              "      background-color: #3B4455;\n",
              "      fill: #D2E3FC;\n",
              "    }\n",
              "\n",
              "    [theme=dark] .colab-df-convert:hover {\n",
              "      background-color: #434B5C;\n",
              "      box-shadow: 0px 1px 3px 1px rgba(0, 0, 0, 0.15);\n",
              "      filter: drop-shadow(0px 1px 2px rgba(0, 0, 0, 0.3));\n",
              "      fill: #FFFFFF;\n",
              "    }\n",
              "  </style>\n",
              "\n",
              "      <script>\n",
              "        const buttonEl =\n",
              "          document.querySelector('#df-3f306f6d-4a18-4e23-9683-4a803b4a8c84 button.colab-df-convert');\n",
              "        buttonEl.style.display =\n",
              "          google.colab.kernel.accessAllowed ? 'block' : 'none';\n",
              "\n",
              "        async function convertToInteractive(key) {\n",
              "          const element = document.querySelector('#df-3f306f6d-4a18-4e23-9683-4a803b4a8c84');\n",
              "          const dataTable =\n",
              "            await google.colab.kernel.invokeFunction('convertToInteractive',\n",
              "                                                     [key], {});\n",
              "          if (!dataTable) return;\n",
              "\n",
              "          const docLinkHtml = 'Like what you see? Visit the ' +\n",
              "            '<a target=\"_blank\" href=https://colab.research.google.com/notebooks/data_table.ipynb>data table notebook</a>'\n",
              "            + ' to learn more about interactive tables.';\n",
              "          element.innerHTML = '';\n",
              "          dataTable['output_type'] = 'display_data';\n",
              "          await google.colab.output.renderOutput(dataTable, element);\n",
              "          const docLink = document.createElement('div');\n",
              "          docLink.innerHTML = docLinkHtml;\n",
              "          element.appendChild(docLink);\n",
              "        }\n",
              "      </script>\n",
              "    </div>\n",
              "  </div>\n",
              "  "
            ]
          },
          "metadata": {},
          "execution_count": 16
        }
      ]
    },
    {
      "cell_type": "markdown",
      "source": [
        "This column contains the comments written by the applicant while applying for the loan. But, since we do not know how to do text analysis, it is better to drop this column."
      ],
      "metadata": {
        "id": "wA5ic_8iddzm"
      }
    },
    {
      "cell_type": "code",
      "source": [
        "loan.drop('desc',axis=1,inplace=True)\n",
        "loan.shape"
      ],
      "metadata": {
        "colab": {
          "base_uri": "https://localhost:8080/"
        },
        "id": "Hd9pmd4KdpHg",
        "outputId": "cca47816-be5c-41e5-a739-9b0d493b63b3"
      },
      "execution_count": null,
      "outputs": [
        {
          "output_type": "execute_result",
          "data": {
            "text/plain": [
              "(39717, 53)"
            ]
          },
          "metadata": {},
          "execution_count": 17
        }
      ]
    },
    {
      "cell_type": "markdown",
      "source": [
        "Now, let us check for null value percentages again."
      ],
      "metadata": {
        "id": "95BUHQwGe6if"
      }
    },
    {
      "cell_type": "code",
      "source": [
        "null_perc = round((loan.isnull().sum()/loan.shape[0])*100,2).sort_values(ascending=False)\n",
        "null_perc[null_perc!=0]"
      ],
      "metadata": {
        "colab": {
          "base_uri": "https://localhost:8080/"
        },
        "id": "L0EpE4xGfAhc",
        "outputId": "ba9abf5d-c5a3-4ce0-c53d-9c849c7a4efc"
      },
      "execution_count": null,
      "outputs": [
        {
          "output_type": "execute_result",
          "data": {
            "text/plain": [
              "emp_title                     6.19\n",
              "emp_length                    2.71\n",
              "pub_rec_bankruptcies          1.75\n",
              "last_pymnt_d                  0.18\n",
              "collections_12_mths_ex_med    0.14\n",
              "chargeoff_within_12_mths      0.14\n",
              "revol_util                    0.13\n",
              "tax_liens                     0.10\n",
              "title                         0.03\n",
              "last_credit_pull_d            0.01\n",
              "dtype: float64"
            ]
          },
          "metadata": {},
          "execution_count": 18
        }
      ]
    },
    {
      "cell_type": "markdown",
      "source": [
        "Hence, there are very small percentages of null values in the dataset. We won't be imputing them as of now.\n",
        "\n",
        "There are final 39717 rows and 53 columns. Let us see how many columns we have lost. "
      ],
      "metadata": {
        "id": "aDTlXv-vam5Q"
      }
    },
    {
      "cell_type": "code",
      "source": [
        "round((1-loan.shape[1]/loan_data.shape[1])*100,3)"
      ],
      "metadata": {
        "colab": {
          "base_uri": "https://localhost:8080/"
        },
        "id": "A0f22BbpamLh",
        "outputId": "10926ef6-5583-4246-b900-f7f952c1d7a6"
      },
      "execution_count": null,
      "outputs": [
        {
          "output_type": "execute_result",
          "data": {
            "text/plain": [
              "52.252"
            ]
          },
          "metadata": {},
          "execution_count": 19
        }
      ]
    },
    {
      "cell_type": "markdown",
      "source": [
        "So, we have lost more than half of our columns by dealing with null values. Now, let us move on to rows. Let us see if there are any null values in our rows. \n"
      ],
      "metadata": {
        "id": "0wkC4S-1bD9Q"
      }
    },
    {
      "cell_type": "code",
      "execution_count": null,
      "metadata": {
        "colab": {
          "base_uri": "https://localhost:8080/"
        },
        "id": "v2MB3UQbM7IA",
        "outputId": "a4c2994b-d14f-4602-f032-8bdba2047103"
      },
      "outputs": [
        {
          "output_type": "execute_result",
          "data": {
            "text/plain": [
              "39706    5\n",
              "39715    5\n",
              "39714    5\n",
              "39660    5\n",
              "39659    5\n",
              "        ..\n",
              "15371    0\n",
              "15370    0\n",
              "15369    0\n",
              "15368    0\n",
              "19858    0\n",
              "Length: 39717, dtype: int64"
            ]
          },
          "metadata": {},
          "execution_count": 20
        }
      ],
      "source": [
        "loan.isnull().sum(axis=1).sort_values(ascending=False)"
      ]
    },
    {
      "cell_type": "markdown",
      "source": [
        "Let us find the percentage values for null values in this case as well. Let us see. "
      ],
      "metadata": {
        "id": "PPanDkI3gFzO"
      }
    },
    {
      "cell_type": "code",
      "source": [
        "row_null_perc = round((loan.isnull().sum(axis=1)/loan.shape[1])*100,3).sort_values(ascending=False)\n",
        "row_null_perc"
      ],
      "metadata": {
        "colab": {
          "base_uri": "https://localhost:8080/"
        },
        "id": "ivF2a28RgNzP",
        "outputId": "a5727106-a24d-4e54-ecc6-b71b1fed3a67"
      },
      "execution_count": null,
      "outputs": [
        {
          "output_type": "execute_result",
          "data": {
            "text/plain": [
              "39706    9.434\n",
              "39715    9.434\n",
              "39714    9.434\n",
              "39660    9.434\n",
              "39659    9.434\n",
              "         ...  \n",
              "15371    0.000\n",
              "15370    0.000\n",
              "15369    0.000\n",
              "15368    0.000\n",
              "19858    0.000\n",
              "Length: 39717, dtype: float64"
            ]
          },
          "metadata": {},
          "execution_count": 21
        }
      ]
    },
    {
      "cell_type": "markdown",
      "source": [
        "We can see that there are just around maximum 9.4% of null values for rows. Again, not so significant. Now, let us move ahead to data preparation.\n",
        "\n",
        "First, let us see the information of our dataset."
      ],
      "metadata": {
        "id": "96FiFLF8ginw"
      }
    },
    {
      "cell_type": "code",
      "execution_count": null,
      "metadata": {
        "colab": {
          "base_uri": "https://localhost:8080/"
        },
        "id": "tlHdy_ADM7IB",
        "outputId": "852d9ad5-6e90-4136-bfed-28f2f1f8d4ae"
      },
      "outputs": [
        {
          "output_type": "stream",
          "name": "stdout",
          "text": [
            "<class 'pandas.core.frame.DataFrame'>\n",
            "RangeIndex: 39717 entries, 0 to 39716\n",
            "Data columns (total 53 columns):\n",
            " #   Column                      Non-Null Count  Dtype  \n",
            "---  ------                      --------------  -----  \n",
            " 0   recoveries                  39717 non-null  float64\n",
            " 1   dti                         39717 non-null  float64\n",
            " 2   open_acc                    39717 non-null  int64  \n",
            " 3   application_type            39717 non-null  object \n",
            " 4   delinq_2yrs                 39717 non-null  int64  \n",
            " 5   emp_title                   37258 non-null  object \n",
            " 6   chargeoff_within_12_mths    39661 non-null  float64\n",
            " 7   purpose                     39717 non-null  object \n",
            " 8   annual_inc                  39717 non-null  float64\n",
            " 9   last_credit_pull_d          39715 non-null  object \n",
            " 10  total_rec_late_fee          39717 non-null  float64\n",
            " 11  total_pymnt_inv             39717 non-null  float64\n",
            " 12  home_ownership              39717 non-null  object \n",
            " 13  pub_rec_bankruptcies        39020 non-null  float64\n",
            " 14  policy_code                 39717 non-null  int64  \n",
            " 15  last_pymnt_d                39646 non-null  object \n",
            " 16  id                          39717 non-null  int64  \n",
            " 17  initial_list_status         39717 non-null  object \n",
            " 18  term                        39717 non-null  object \n",
            " 19  earliest_cr_line            39717 non-null  object \n",
            " 20  grade                       39717 non-null  object \n",
            " 21  verification_status         39717 non-null  object \n",
            " 22  delinq_amnt                 39717 non-null  int64  \n",
            " 23  pymnt_plan                  39717 non-null  object \n",
            " 24  revol_util                  39667 non-null  object \n",
            " 25  addr_state                  39717 non-null  object \n",
            " 26  installment                 39717 non-null  float64\n",
            " 27  emp_length                  38642 non-null  object \n",
            " 28  collections_12_mths_ex_med  39661 non-null  float64\n",
            " 29  total_rec_int               39717 non-null  float64\n",
            " 30  pub_rec                     39717 non-null  int64  \n",
            " 31  total_pymnt                 39717 non-null  float64\n",
            " 32  issue_d                     39717 non-null  object \n",
            " 33  sub_grade                   39717 non-null  object \n",
            " 34  collection_recovery_fee     39717 non-null  float64\n",
            " 35  funded_amnt_inv             39717 non-null  float64\n",
            " 36  acc_now_delinq              39717 non-null  int64  \n",
            " 37  zip_code                    39717 non-null  object \n",
            " 38  int_rate                    39717 non-null  object \n",
            " 39  last_pymnt_amnt             39717 non-null  float64\n",
            " 40  total_rec_prncp             39717 non-null  float64\n",
            " 41  url                         39717 non-null  object \n",
            " 42  funded_amnt                 39717 non-null  int64  \n",
            " 43  loan_status                 39717 non-null  object \n",
            " 44  inq_last_6mths              39717 non-null  int64  \n",
            " 45  tax_liens                   39678 non-null  float64\n",
            " 46  title                       39706 non-null  object \n",
            " 47  out_prncp_inv               39717 non-null  float64\n",
            " 48  loan_amnt                   39717 non-null  int64  \n",
            " 49  total_acc                   39717 non-null  int64  \n",
            " 50  revol_bal                   39717 non-null  int64  \n",
            " 51  member_id                   39717 non-null  int64  \n",
            " 52  out_prncp                   39717 non-null  float64\n",
            "dtypes: float64(18), int64(13), object(22)\n",
            "memory usage: 16.1+ MB\n"
          ]
        }
      ],
      "source": [
        "loan.info()"
      ]
    },
    {
      "cell_type": "markdown",
      "source": [
        "The column `int_rate`, short for interest rate, has been assigned as object type. Let us see it first."
      ],
      "metadata": {
        "id": "Cu2gCUCZhxiI"
      }
    },
    {
      "cell_type": "code",
      "source": [
        "loan['int_rate'].head()"
      ],
      "metadata": {
        "colab": {
          "base_uri": "https://localhost:8080/"
        },
        "id": "WQcUlw_EhmWz",
        "outputId": "e00b0e94-87c2-41d1-8064-da3474adeabf"
      },
      "execution_count": null,
      "outputs": [
        {
          "output_type": "execute_result",
          "data": {
            "text/plain": [
              "0    10.65%\n",
              "1    15.27%\n",
              "2    15.96%\n",
              "3    13.49%\n",
              "4    12.69%\n",
              "Name: int_rate, dtype: object"
            ]
          },
          "metadata": {},
          "execution_count": 23
        }
      ]
    },
    {
      "cell_type": "markdown",
      "source": [
        "Due to the % sign, it is imported as a string type. Hence, let us change it to float type. "
      ],
      "metadata": {
        "id": "CD5GQBRCh_xW"
      }
    },
    {
      "cell_type": "code",
      "source": [
        "loan['int_rate']=loan['int_rate'].str.strip('%').astype(float)\n",
        "loan.info()"
      ],
      "metadata": {
        "colab": {
          "base_uri": "https://localhost:8080/"
        },
        "id": "u5yigJKdiLiu",
        "outputId": "5c1d44fb-b69a-4375-b4b9-feec7eff8554"
      },
      "execution_count": null,
      "outputs": [
        {
          "output_type": "stream",
          "name": "stdout",
          "text": [
            "<class 'pandas.core.frame.DataFrame'>\n",
            "RangeIndex: 39717 entries, 0 to 39716\n",
            "Data columns (total 53 columns):\n",
            " #   Column                      Non-Null Count  Dtype  \n",
            "---  ------                      --------------  -----  \n",
            " 0   recoveries                  39717 non-null  float64\n",
            " 1   dti                         39717 non-null  float64\n",
            " 2   open_acc                    39717 non-null  int64  \n",
            " 3   application_type            39717 non-null  object \n",
            " 4   delinq_2yrs                 39717 non-null  int64  \n",
            " 5   emp_title                   37258 non-null  object \n",
            " 6   chargeoff_within_12_mths    39661 non-null  float64\n",
            " 7   purpose                     39717 non-null  object \n",
            " 8   annual_inc                  39717 non-null  float64\n",
            " 9   last_credit_pull_d          39715 non-null  object \n",
            " 10  total_rec_late_fee          39717 non-null  float64\n",
            " 11  total_pymnt_inv             39717 non-null  float64\n",
            " 12  home_ownership              39717 non-null  object \n",
            " 13  pub_rec_bankruptcies        39020 non-null  float64\n",
            " 14  policy_code                 39717 non-null  int64  \n",
            " 15  last_pymnt_d                39646 non-null  object \n",
            " 16  id                          39717 non-null  int64  \n",
            " 17  initial_list_status         39717 non-null  object \n",
            " 18  term                        39717 non-null  object \n",
            " 19  earliest_cr_line            39717 non-null  object \n",
            " 20  grade                       39717 non-null  object \n",
            " 21  verification_status         39717 non-null  object \n",
            " 22  delinq_amnt                 39717 non-null  int64  \n",
            " 23  pymnt_plan                  39717 non-null  object \n",
            " 24  revol_util                  39667 non-null  object \n",
            " 25  addr_state                  39717 non-null  object \n",
            " 26  installment                 39717 non-null  float64\n",
            " 27  emp_length                  38642 non-null  object \n",
            " 28  collections_12_mths_ex_med  39661 non-null  float64\n",
            " 29  total_rec_int               39717 non-null  float64\n",
            " 30  pub_rec                     39717 non-null  int64  \n",
            " 31  total_pymnt                 39717 non-null  float64\n",
            " 32  issue_d                     39717 non-null  object \n",
            " 33  sub_grade                   39717 non-null  object \n",
            " 34  collection_recovery_fee     39717 non-null  float64\n",
            " 35  funded_amnt_inv             39717 non-null  float64\n",
            " 36  acc_now_delinq              39717 non-null  int64  \n",
            " 37  zip_code                    39717 non-null  object \n",
            " 38  int_rate                    39717 non-null  float64\n",
            " 39  last_pymnt_amnt             39717 non-null  float64\n",
            " 40  total_rec_prncp             39717 non-null  float64\n",
            " 41  url                         39717 non-null  object \n",
            " 42  funded_amnt                 39717 non-null  int64  \n",
            " 43  loan_status                 39717 non-null  object \n",
            " 44  inq_last_6mths              39717 non-null  int64  \n",
            " 45  tax_liens                   39678 non-null  float64\n",
            " 46  title                       39706 non-null  object \n",
            " 47  out_prncp_inv               39717 non-null  float64\n",
            " 48  loan_amnt                   39717 non-null  int64  \n",
            " 49  total_acc                   39717 non-null  int64  \n",
            " 50  revol_bal                   39717 non-null  int64  \n",
            " 51  member_id                   39717 non-null  int64  \n",
            " 52  out_prncp                   39717 non-null  float64\n",
            "dtypes: float64(19), int64(13), object(21)\n",
            "memory usage: 16.1+ MB\n"
          ]
        }
      ]
    },
    {
      "cell_type": "markdown",
      "source": [
        "Now, let us move to another column, the `emp_length` column. Let us see what it contains. "
      ],
      "metadata": {
        "id": "w64r9NWhikOP"
      }
    },
    {
      "cell_type": "code",
      "source": [
        "loan['emp_length'].unique()"
      ],
      "metadata": {
        "colab": {
          "base_uri": "https://localhost:8080/"
        },
        "id": "d0gUWcVWiqdL",
        "outputId": "89fbab9d-9e73-4880-f51d-9a2e2d24545b"
      },
      "execution_count": null,
      "outputs": [
        {
          "output_type": "execute_result",
          "data": {
            "text/plain": [
              "array(['10+ years', '< 1 year', '1 year', '3 years', '8 years', '9 years',\n",
              "       '4 years', '5 years', '6 years', '2 years', '7 years', nan],\n",
              "      dtype=object)"
            ]
          },
          "metadata": {},
          "execution_count": 25
        }
      ]
    },
    {
      "cell_type": "markdown",
      "source": [
        "We can see that it is a categorical data. However, we can easily convert it into ratio data using the following scheme - \n",
        "\n",
        "1. <1 year - 0\n",
        "2. 1 year - 1\n",
        "3. 2 year - 2  \n",
        ".  \n",
        ".  \n",
        ".  \n",
        "11. 10+ years - 10\n",
        "\n",
        "Before doing this, let us drop the null values from this column. Let us test this before applying it. "
      ],
      "metadata": {
        "id": "nswAK84wjGIj"
      }
    },
    {
      "cell_type": "code",
      "source": [
        "x = loan['emp_length'].copy().dropna()\n",
        "x"
      ],
      "metadata": {
        "colab": {
          "base_uri": "https://localhost:8080/"
        },
        "id": "s-Q3xgSPi92I",
        "outputId": "45cdc2a1-c928-4ae5-db1a-020be16c6ee2"
      },
      "execution_count": null,
      "outputs": [
        {
          "output_type": "execute_result",
          "data": {
            "text/plain": [
              "0        10+ years\n",
              "1         < 1 year\n",
              "2        10+ years\n",
              "3        10+ years\n",
              "4           1 year\n",
              "           ...    \n",
              "39712      4 years\n",
              "39713      3 years\n",
              "39714     < 1 year\n",
              "39715     < 1 year\n",
              "39716     < 1 year\n",
              "Name: emp_length, Length: 38642, dtype: object"
            ]
          },
          "metadata": {},
          "execution_count": 26
        }
      ]
    },
    {
      "cell_type": "code",
      "source": [
        "new = x.apply(lambda y: y.strip('years').strip('+ ').replace('< 1','0')).astype(int)\n",
        "new.unique()"
      ],
      "metadata": {
        "colab": {
          "base_uri": "https://localhost:8080/"
        },
        "id": "3o1vZzwUm5Kc",
        "outputId": "859c1c77-909c-4e81-bdfe-1de6d36557ee"
      },
      "execution_count": null,
      "outputs": [
        {
          "output_type": "execute_result",
          "data": {
            "text/plain": [
              "array([10,  0,  1,  3,  8,  9,  4,  5,  6,  2,  7])"
            ]
          },
          "metadata": {},
          "execution_count": 27
        }
      ]
    },
    {
      "cell_type": "markdown",
      "source": [
        "Great. Now, let us apply this method to our original dataframe. "
      ],
      "metadata": {
        "id": "EYD-I19noPZa"
      }
    },
    {
      "cell_type": "code",
      "source": [
        "loan.dropna(how='all',axis=0,subset=['emp_length'],inplace=True)\n",
        "loan['emp_length'] = loan['emp_length'].apply(lambda y: y.strip('years').strip('+ ').replace('< 1','0')).astype(int)\n",
        "loan['emp_length'].unique()"
      ],
      "metadata": {
        "colab": {
          "base_uri": "https://localhost:8080/"
        },
        "id": "AIbF5mUnp3x2",
        "outputId": "d40ac5a2-1134-43b0-fc57-7b6d4987fa05"
      },
      "execution_count": null,
      "outputs": [
        {
          "output_type": "execute_result",
          "data": {
            "text/plain": [
              "array([10,  0,  1,  3,  8,  9,  4,  5,  6,  2,  7])"
            ]
          },
          "metadata": {},
          "execution_count": 28
        }
      ]
    },
    {
      "cell_type": "markdown",
      "source": [
        "Perfect ! We have modified the column. Now, let us look at the dataset information again."
      ],
      "metadata": {
        "id": "pWNJCBncuJcp"
      }
    },
    {
      "cell_type": "code",
      "execution_count": null,
      "metadata": {
        "colab": {
          "base_uri": "https://localhost:8080/"
        },
        "id": "H615gia0M7ID",
        "outputId": "2c0859e6-abe4-4afd-942c-6f258366db9e"
      },
      "outputs": [
        {
          "output_type": "stream",
          "name": "stdout",
          "text": [
            "<class 'pandas.core.frame.DataFrame'>\n",
            "Int64Index: 38642 entries, 0 to 39716\n",
            "Data columns (total 53 columns):\n",
            " #   Column                      Non-Null Count  Dtype  \n",
            "---  ------                      --------------  -----  \n",
            " 0   recoveries                  38642 non-null  float64\n",
            " 1   dti                         38642 non-null  float64\n",
            " 2   open_acc                    38642 non-null  int64  \n",
            " 3   application_type            38642 non-null  object \n",
            " 4   delinq_2yrs                 38642 non-null  int64  \n",
            " 5   emp_title                   37202 non-null  object \n",
            " 6   chargeoff_within_12_mths    38586 non-null  float64\n",
            " 7   purpose                     38642 non-null  object \n",
            " 8   annual_inc                  38642 non-null  float64\n",
            " 9   last_credit_pull_d          38640 non-null  object \n",
            " 10  total_rec_late_fee          38642 non-null  float64\n",
            " 11  total_pymnt_inv             38642 non-null  float64\n",
            " 12  home_ownership              38642 non-null  object \n",
            " 13  pub_rec_bankruptcies        37945 non-null  float64\n",
            " 14  policy_code                 38642 non-null  int64  \n",
            " 15  last_pymnt_d                38576 non-null  object \n",
            " 16  id                          38642 non-null  int64  \n",
            " 17  initial_list_status         38642 non-null  object \n",
            " 18  term                        38642 non-null  object \n",
            " 19  earliest_cr_line            38642 non-null  object \n",
            " 20  grade                       38642 non-null  object \n",
            " 21  verification_status         38642 non-null  object \n",
            " 22  delinq_amnt                 38642 non-null  int64  \n",
            " 23  pymnt_plan                  38642 non-null  object \n",
            " 24  revol_util                  38595 non-null  object \n",
            " 25  addr_state                  38642 non-null  object \n",
            " 26  installment                 38642 non-null  float64\n",
            " 27  emp_length                  38642 non-null  int64  \n",
            " 28  collections_12_mths_ex_med  38586 non-null  float64\n",
            " 29  total_rec_int               38642 non-null  float64\n",
            " 30  pub_rec                     38642 non-null  int64  \n",
            " 31  total_pymnt                 38642 non-null  float64\n",
            " 32  issue_d                     38642 non-null  object \n",
            " 33  sub_grade                   38642 non-null  object \n",
            " 34  collection_recovery_fee     38642 non-null  float64\n",
            " 35  funded_amnt_inv             38642 non-null  float64\n",
            " 36  acc_now_delinq              38642 non-null  int64  \n",
            " 37  zip_code                    38642 non-null  object \n",
            " 38  int_rate                    38642 non-null  float64\n",
            " 39  last_pymnt_amnt             38642 non-null  float64\n",
            " 40  total_rec_prncp             38642 non-null  float64\n",
            " 41  url                         38642 non-null  object \n",
            " 42  funded_amnt                 38642 non-null  int64  \n",
            " 43  loan_status                 38642 non-null  object \n",
            " 44  inq_last_6mths              38642 non-null  int64  \n",
            " 45  tax_liens                   38603 non-null  float64\n",
            " 46  title                       38632 non-null  object \n",
            " 47  out_prncp_inv               38642 non-null  float64\n",
            " 48  loan_amnt                   38642 non-null  int64  \n",
            " 49  total_acc                   38642 non-null  int64  \n",
            " 50  revol_bal                   38642 non-null  int64  \n",
            " 51  member_id                   38642 non-null  int64  \n",
            " 52  out_prncp                   38642 non-null  float64\n",
            "dtypes: float64(19), int64(14), object(20)\n",
            "memory usage: 15.9+ MB\n"
          ]
        }
      ],
      "source": [
        "loan.info()"
      ]
    },
    {
      "cell_type": "markdown",
      "metadata": {
        "id": "lDdx6QRDM7ID"
      },
      "source": [
        "# Data Analysis"
      ]
    },
    {
      "cell_type": "markdown",
      "source": [
        "Let's now move to data analysis. To start with, let us understand the objective of the analysis clearly and identify the variables that we want to consider for analysis. \n",
        "\n",
        "__Objective__: The objective is to identify the attributes that will influence whether a loan application is rejected or accepted. \n",
        "\n",
        "To accomplish this objective, there can be 2 types of attributes - \n",
        "\n",
        "1. Demographics (Age, Gender, Occupation etc)\n",
        "2. Loan Specific (Amount, Interest Rate, Tenure etc)\n",
        "\n",
        "We will perform an EDA for these two types of variables. Let us define the different attributes in each category.\n"
      ],
      "metadata": {
        "id": "8zkGW7Dq4uBk"
      }
    },
    {
      "cell_type": "code",
      "source": [
        "demographics = ['id','member_id','emp_title','emp_length','home_ownership','annual_inc','verification_status',\n",
        "                'dti','addr_state','acc_now_delinq','delinq_amnt',\n",
        "                'pub_rec_bankruptcies','tax_liens']\n",
        "\n",
        "loan_specs = ['loan_amnt','funded_amnt','funded_amnt_inv','term','int_rate','installment', 'grade', \n",
        "              'sub_grade', 'issue_d','loan_status','pymnt_plan','purpose',\n",
        "              'last_credit_pull_d','initial_list_status']\n",
        "\n",
        "print('Demographics:',len(demographics))\n",
        "print('Loan Specific:',len(loan_specs))"
      ],
      "metadata": {
        "colab": {
          "base_uri": "https://localhost:8080/"
        },
        "id": "clpH5pMi0KCX",
        "outputId": "e0d44a93-cc9b-4fcf-9eab-a4b17b3e41c0"
      },
      "execution_count": null,
      "outputs": [
        {
          "output_type": "stream",
          "name": "stdout",
          "text": [
            "Demographics: 13\n",
            "Loan Specific: 14\n"
          ]
        }
      ]
    },
    {
      "cell_type": "code",
      "source": [
        "loan_demo = loan.loc[:,demographics]\n",
        "loan_ls = loan.loc[:,loan_specs]"
      ],
      "metadata": {
        "id": "KRT2Sx_-OoLp"
      },
      "execution_count": null,
      "outputs": []
    },
    {
      "cell_type": "markdown",
      "source": [
        "Hence, we have listed 27 total attributes that would influence whether the loan would be rejected or accepted. Let us start working on them. First, we will study the target column - __`loan_status`__. Let us understand it. "
      ],
      "metadata": {
        "id": "6Q7KS9DI1H8d"
      }
    },
    {
      "cell_type": "code",
      "execution_count": null,
      "metadata": {
        "colab": {
          "base_uri": "https://localhost:8080/",
          "height": 175
        },
        "id": "f7l_2_SCM7ID",
        "outputId": "5390c171-24ab-4cf6-cf09-caf9356f57cc"
      },
      "outputs": [
        {
          "output_type": "execute_result",
          "data": {
            "text/plain": [
              "       loan_status\n",
              "count        38642\n",
              "unique           3\n",
              "top     Fully Paid\n",
              "freq         32145"
            ],
            "text/html": [
              "\n",
              "  <div id=\"df-7842eaac-c140-4f3c-a689-1488c03cd709\">\n",
              "    <div class=\"colab-df-container\">\n",
              "      <div>\n",
              "<style scoped>\n",
              "    .dataframe tbody tr th:only-of-type {\n",
              "        vertical-align: middle;\n",
              "    }\n",
              "\n",
              "    .dataframe tbody tr th {\n",
              "        vertical-align: top;\n",
              "    }\n",
              "\n",
              "    .dataframe thead th {\n",
              "        text-align: right;\n",
              "    }\n",
              "</style>\n",
              "<table border=\"1\" class=\"dataframe\">\n",
              "  <thead>\n",
              "    <tr style=\"text-align: right;\">\n",
              "      <th></th>\n",
              "      <th>loan_status</th>\n",
              "    </tr>\n",
              "  </thead>\n",
              "  <tbody>\n",
              "    <tr>\n",
              "      <th>count</th>\n",
              "      <td>38642</td>\n",
              "    </tr>\n",
              "    <tr>\n",
              "      <th>unique</th>\n",
              "      <td>3</td>\n",
              "    </tr>\n",
              "    <tr>\n",
              "      <th>top</th>\n",
              "      <td>Fully Paid</td>\n",
              "    </tr>\n",
              "    <tr>\n",
              "      <th>freq</th>\n",
              "      <td>32145</td>\n",
              "    </tr>\n",
              "  </tbody>\n",
              "</table>\n",
              "</div>\n",
              "      <button class=\"colab-df-convert\" onclick=\"convertToInteractive('df-7842eaac-c140-4f3c-a689-1488c03cd709')\"\n",
              "              title=\"Convert this dataframe to an interactive table.\"\n",
              "              style=\"display:none;\">\n",
              "        \n",
              "  <svg xmlns=\"http://www.w3.org/2000/svg\" height=\"24px\"viewBox=\"0 0 24 24\"\n",
              "       width=\"24px\">\n",
              "    <path d=\"M0 0h24v24H0V0z\" fill=\"none\"/>\n",
              "    <path d=\"M18.56 5.44l.94 2.06.94-2.06 2.06-.94-2.06-.94-.94-2.06-.94 2.06-2.06.94zm-11 1L8.5 8.5l.94-2.06 2.06-.94-2.06-.94L8.5 2.5l-.94 2.06-2.06.94zm10 10l.94 2.06.94-2.06 2.06-.94-2.06-.94-.94-2.06-.94 2.06-2.06.94z\"/><path d=\"M17.41 7.96l-1.37-1.37c-.4-.4-.92-.59-1.43-.59-.52 0-1.04.2-1.43.59L10.3 9.45l-7.72 7.72c-.78.78-.78 2.05 0 2.83L4 21.41c.39.39.9.59 1.41.59.51 0 1.02-.2 1.41-.59l7.78-7.78 2.81-2.81c.8-.78.8-2.07 0-2.86zM5.41 20L4 18.59l7.72-7.72 1.47 1.35L5.41 20z\"/>\n",
              "  </svg>\n",
              "      </button>\n",
              "      \n",
              "  <style>\n",
              "    .colab-df-container {\n",
              "      display:flex;\n",
              "      flex-wrap:wrap;\n",
              "      gap: 12px;\n",
              "    }\n",
              "\n",
              "    .colab-df-convert {\n",
              "      background-color: #E8F0FE;\n",
              "      border: none;\n",
              "      border-radius: 50%;\n",
              "      cursor: pointer;\n",
              "      display: none;\n",
              "      fill: #1967D2;\n",
              "      height: 32px;\n",
              "      padding: 0 0 0 0;\n",
              "      width: 32px;\n",
              "    }\n",
              "\n",
              "    .colab-df-convert:hover {\n",
              "      background-color: #E2EBFA;\n",
              "      box-shadow: 0px 1px 2px rgba(60, 64, 67, 0.3), 0px 1px 3px 1px rgba(60, 64, 67, 0.15);\n",
              "      fill: #174EA6;\n",
              "    }\n",
              "\n",
              "    [theme=dark] .colab-df-convert {\n",
              "      background-color: #3B4455;\n",
              "      fill: #D2E3FC;\n",
              "    }\n",
              "\n",
              "    [theme=dark] .colab-df-convert:hover {\n",
              "      background-color: #434B5C;\n",
              "      box-shadow: 0px 1px 3px 1px rgba(0, 0, 0, 0.15);\n",
              "      filter: drop-shadow(0px 1px 2px rgba(0, 0, 0, 0.3));\n",
              "      fill: #FFFFFF;\n",
              "    }\n",
              "  </style>\n",
              "\n",
              "      <script>\n",
              "        const buttonEl =\n",
              "          document.querySelector('#df-7842eaac-c140-4f3c-a689-1488c03cd709 button.colab-df-convert');\n",
              "        buttonEl.style.display =\n",
              "          google.colab.kernel.accessAllowed ? 'block' : 'none';\n",
              "\n",
              "        async function convertToInteractive(key) {\n",
              "          const element = document.querySelector('#df-7842eaac-c140-4f3c-a689-1488c03cd709');\n",
              "          const dataTable =\n",
              "            await google.colab.kernel.invokeFunction('convertToInteractive',\n",
              "                                                     [key], {});\n",
              "          if (!dataTable) return;\n",
              "\n",
              "          const docLinkHtml = 'Like what you see? Visit the ' +\n",
              "            '<a target=\"_blank\" href=https://colab.research.google.com/notebooks/data_table.ipynb>data table notebook</a>'\n",
              "            + ' to learn more about interactive tables.';\n",
              "          element.innerHTML = '';\n",
              "          dataTable['output_type'] = 'display_data';\n",
              "          await google.colab.output.renderOutput(dataTable, element);\n",
              "          const docLink = document.createElement('div');\n",
              "          docLink.innerHTML = docLinkHtml;\n",
              "          element.appendChild(docLink);\n",
              "        }\n",
              "      </script>\n",
              "    </div>\n",
              "  </div>\n",
              "  "
            ]
          },
          "metadata": {},
          "execution_count": 32
        }
      ],
      "source": [
        "loan_ls[['loan_status']].describe()"
      ]
    },
    {
      "cell_type": "markdown",
      "source": [
        "We can see that it is a categorical variable, having 3 unique values. Let us now list the unique values. "
      ],
      "metadata": {
        "id": "zfs781AB2Cbb"
      }
    },
    {
      "cell_type": "code",
      "execution_count": null,
      "metadata": {
        "colab": {
          "base_uri": "https://localhost:8080/"
        },
        "id": "zgQFL2u9M7ID",
        "outputId": "9bd8060f-0e73-4f45-a60a-21ba6a1300be"
      },
      "outputs": [
        {
          "output_type": "execute_result",
          "data": {
            "text/plain": [
              "Fully Paid     32145\n",
              "Charged Off     5399\n",
              "Current         1098\n",
              "Name: loan_status, dtype: int64"
            ]
          },
          "metadata": {},
          "execution_count": 33
        }
      ],
      "source": [
        "loan_ls['loan_status'].value_counts()"
      ]
    },
    {
      "cell_type": "markdown",
      "source": [
        "As per the information provided to us, we only need the entries where the customer has either defaulted (charged off) or fully paid. Hence, let us drop the values containing `current` as loan status."
      ],
      "metadata": {
        "id": "O0PJ23-h22lQ"
      }
    },
    {
      "cell_type": "code",
      "source": [
        "loan_ = loan[loan['loan_status']!='Current']\n",
        "loan_['loan_status'].value_counts()"
      ],
      "metadata": {
        "colab": {
          "base_uri": "https://localhost:8080/"
        },
        "id": "lP4ck1a95KI3",
        "outputId": "4b92ac19-03a4-47bd-bfbd-a26a20366160"
      },
      "execution_count": null,
      "outputs": [
        {
          "output_type": "execute_result",
          "data": {
            "text/plain": [
              "Fully Paid     32145\n",
              "Charged Off     5399\n",
              "Name: loan_status, dtype: int64"
            ]
          },
          "metadata": {},
          "execution_count": 34
        }
      ]
    },
    {
      "cell_type": "markdown",
      "source": [
        "Now, let us assign ordinal values to these two unique values - 0 means defaulted (charged off), and 1 means fully paid."
      ],
      "metadata": {
        "id": "V9JOn9Ui5Ung"
      }
    },
    {
      "cell_type": "code",
      "source": [
        "loan_['loan_status'] = loan_['loan_status'].apply(lambda x: 1 if x=='Fully Paid' else 0)\n",
        "loan_['loan_status'].value_counts()"
      ],
      "metadata": {
        "colab": {
          "base_uri": "https://localhost:8080/"
        },
        "id": "tiFJKR3H5dA-",
        "outputId": "43da2af9-9eca-45dd-f2ee-6b2e1d8f1fd8"
      },
      "execution_count": null,
      "outputs": [
        {
          "output_type": "execute_result",
          "data": {
            "text/plain": [
              "1    32145\n",
              "0     5399\n",
              "Name: loan_status, dtype: int64"
            ]
          },
          "metadata": {},
          "execution_count": 35
        }
      ]
    },
    {
      "cell_type": "markdown",
      "metadata": {
        "id": "BDh-VdsYM7IE"
      },
      "source": [
        "We can see that most borrowers have fully paid their loans. Let us see the percentage as well."
      ]
    },
    {
      "cell_type": "code",
      "source": [
        "round((loan_['loan_status'].value_counts()/loan_['loan_status'].value_counts().sum())*100,3)"
      ],
      "metadata": {
        "colab": {
          "base_uri": "https://localhost:8080/"
        },
        "id": "zRkQlExc6WTz",
        "outputId": "781dbfcc-ef76-4a60-a976-be3fe219581a"
      },
      "execution_count": null,
      "outputs": [
        {
          "output_type": "execute_result",
          "data": {
            "text/plain": [
              "1    85.62\n",
              "0    14.38\n",
              "Name: loan_status, dtype: float64"
            ]
          },
          "metadata": {},
          "execution_count": 36
        }
      ]
    },
    {
      "cell_type": "markdown",
      "source": [
        "Around 85.6% of borrowers have fully paid their loans. Hence, our Default rate comes out to be around 14.4%. Now, let us start with some univariate analysis."
      ],
      "metadata": {
        "id": "zdrsX3CY6rV5"
      }
    },
    {
      "cell_type": "markdown",
      "metadata": {
        "id": "jOKya8L6M7IF"
      },
      "source": [
        "## Univariate Analysis"
      ]
    },
    {
      "cell_type": "markdown",
      "metadata": {
        "id": "mwtv09ymM7IG"
      },
      "source": [
        "Let's first visualise the average default rates across categorical variables. We will be starting with the demographic variables. For the categorical variables, we will define a function to show the average default rates across each category."
      ]
    },
    {
      "cell_type": "markdown",
      "source": [
        "### Demographics"
      ],
      "metadata": {
        "id": "3N6BLRXbTOdq"
      }
    },
    {
      "cell_type": "code",
      "source": [
        "def avg_plot(cat):\n",
        "  df = round((1 - loan_.groupby(cat).mean()[['loan_status']])*100,2)\n",
        "  plot.subplots(figsize=(16,6))\n",
        "  plot.title('Average Loan Status Defaulter across '+cat)\n",
        "  cb.barplot(x =df.index, y = 'loan_status', data = df)\n",
        "  plot.show()"
      ],
      "metadata": {
        "id": "fcXT12mlIex_"
      },
      "execution_count": null,
      "outputs": []
    },
    {
      "cell_type": "markdown",
      "source": [
        "To plot the loan status with the numeric variables, we will use the boxplots. Hence, let us define a function for that as well. "
      ],
      "metadata": {
        "id": "5rmi0iuwgOmd"
      }
    },
    {
      "cell_type": "code",
      "source": [
        "def num_plot(var):\n",
        "  plot.subplots(figsize=(7,5))\n",
        "  plot.title('Box Plot of '+var+' vs Loan Status')\n",
        "  cb.boxplot(x = 'loan_status',y = var, data = loan_)\n",
        "  plot.grid()"
      ],
      "metadata": {
        "id": "ChDC6LNTgVgv"
      },
      "execution_count": null,
      "outputs": []
    },
    {
      "cell_type": "markdown",
      "source": [
        "1. Average Default Rates across employment length."
      ],
      "metadata": {
        "id": "igKwh3hl7h_K"
      }
    },
    {
      "cell_type": "code",
      "source": [
        "avg_plot('emp_length')"
      ],
      "metadata": {
        "colab": {
          "base_uri": "https://localhost:8080/",
          "height": 405
        },
        "id": "abg1skgnHRRm",
        "outputId": "27b91682-36c7-4fc1-dc39-590049fc1aec"
      },
      "execution_count": null,
      "outputs": [
        {
          "output_type": "display_data",
          "data": {
            "text/plain": [
              "<Figure size 1152x432 with 1 Axes>"
            ],
            "image/png": "[encoded data removed]"
          },
          "metadata": {}
        }
      ]
    },
    {
      "cell_type": "markdown",
      "source": [
        "The average loan defaulters have been more or less the same in case of all employment lengths. There is not much to see here. Hence, <font color='red'>this factor affects the defaulter status very slightly</font>. "
      ],
      "metadata": {
        "id": "FGQvrU4lEzsq"
      }
    },
    {
      "cell_type": "markdown",
      "source": [
        "2. Average Defaulters across Home Ownership"
      ],
      "metadata": {
        "id": "9OvBN7W_FBmH"
      }
    },
    {
      "cell_type": "code",
      "source": [
        "avg_plot('home_ownership')"
      ],
      "metadata": {
        "colab": {
          "base_uri": "https://localhost:8080/",
          "height": 405
        },
        "id": "D-jjMitaJBC-",
        "outputId": "717a2301-098b-454b-b65c-05695f509a6d"
      },
      "execution_count": null,
      "outputs": [
        {
          "output_type": "display_data",
          "data": {
            "text/plain": [
              "<Figure size 1152x432 with 1 Axes>"
            ],
            "image/png": "[encoded data removed]"
          },
          "metadata": {}
        }
      ]
    },
    {
      "cell_type": "markdown",
      "source": [
        "We can see that on an average, the most defaulters are in the category of OTHERS, whereas the other 3 stand pretty equivalent between 12.5 and 15. But still, it is not a great parameter influencing the defaulters."
      ],
      "metadata": {
        "id": "kdujk14rJJjt"
      }
    },
    {
      "cell_type": "markdown",
      "source": [
        "3. Average Defaulters across Verification Status"
      ],
      "metadata": {
        "id": "81H4HLYATzqo"
      }
    },
    {
      "cell_type": "code",
      "source": [
        "avg_plot('verification_status')"
      ],
      "metadata": {
        "colab": {
          "base_uri": "https://localhost:8080/",
          "height": 405
        },
        "id": "RCNRftwiJ1ye",
        "outputId": "605fa831-ae91-47bd-dc5d-dd0b5530dda5"
      },
      "execution_count": null,
      "outputs": [
        {
          "output_type": "display_data",
          "data": {
            "text/plain": [
              "<Figure size 1152x432 with 1 Axes>"
            ],
            "image/png": "[encoded data removed]"
          },
          "metadata": {}
        }
      ]
    },
    {
      "cell_type": "markdown",
      "metadata": {
        "id": "1gbSAGv6M7IH"
      },
      "source": [
        "Similar to the Grade, the Average Loan deaulters increase as we move from Not Verified to the Verified categories. Hence, it <font color = 'red'> is also affecting the defaulters positively.</font>"
      ]
    },
    {
      "cell_type": "markdown",
      "source": [
        "4. Distribution of DTI across both the loan statuses\n"
      ],
      "metadata": {
        "id": "FDBoCohoT4fj"
      }
    },
    {
      "cell_type": "code",
      "source": [
        "num_plot('dti')"
      ],
      "metadata": {
        "colab": {
          "base_uri": "https://localhost:8080/",
          "height": 351
        },
        "id": "3tOheJaNMGbk",
        "outputId": "3f2bc27b-bd85-41b6-8bb5-e14725874b3a"
      },
      "execution_count": null,
      "outputs": [
        {
          "output_type": "display_data",
          "data": {
            "text/plain": [
              "<Figure size 504x360 with 1 Axes>"
            ],
            "image/png": "[encoded data removed]"
          },
          "metadata": {}
        }
      ]
    },
    {
      "cell_type": "markdown",
      "source": [
        "While the highest and lowest values are the same, for the defaulters, most values of DTI lie between around 8 to 19. Hence, <font color = 'red'> this factor is also affecting the defaulters significantly</font>. \n",
        "\n",
        "This clearly means that people having higher expenses than income are more likely to become defaulters."
      ],
      "metadata": {
        "id": "6s07faj-UL5u"
      }
    },
    {
      "cell_type": "markdown",
      "source": [
        "5. Relation between the Loan Status and the Public Bankruptcy Records"
      ],
      "metadata": {
        "id": "n5YDjUjuWnCe"
      }
    },
    {
      "cell_type": "code",
      "source": [
        "loan_[['pub_rec_bankruptcies','loan_status']].pivot_table(index = 'pub_rec_bankruptcies', columns = 'loan_status', \n",
        "                  aggfunc = np.size)"
      ],
      "metadata": {
        "colab": {
          "base_uri": "https://localhost:8080/",
          "height": 175
        },
        "id": "zbwkotnpVEZ7",
        "outputId": "430632b9-f46f-4386-faaa-3155748c769a"
      },
      "execution_count": null,
      "outputs": [
        {
          "output_type": "execute_result",
          "data": {
            "text/plain": [
              "loan_status              0      1\n",
              "pub_rec_bankruptcies             \n",
              "0.0                   9888  60736\n",
              "1.0                    670   2390\n",
              "2.0                      4      6"
            ],
            "text/html": [
              "\n",
              "  <div id=\"df-43bed879-9513-4375-b0a3-cecdf7195310\">\n",
              "    <div class=\"colab-df-container\">\n",
              "      <div>\n",
              "<style scoped>\n",
              "    .dataframe tbody tr th:only-of-type {\n",
              "        vertical-align: middle;\n",
              "    }\n",
              "\n",
              "    .dataframe tbody tr th {\n",
              "        vertical-align: top;\n",
              "    }\n",
              "\n",
              "    .dataframe thead th {\n",
              "        text-align: right;\n",
              "    }\n",
              "</style>\n",
              "<table border=\"1\" class=\"dataframe\">\n",
              "  <thead>\n",
              "    <tr style=\"text-align: right;\">\n",
              "      <th>loan_status</th>\n",
              "      <th>0</th>\n",
              "      <th>1</th>\n",
              "    </tr>\n",
              "    <tr>\n",
              "      <th>pub_rec_bankruptcies</th>\n",
              "      <th></th>\n",
              "      <th></th>\n",
              "    </tr>\n",
              "  </thead>\n",
              "  <tbody>\n",
              "    <tr>\n",
              "      <th>0.0</th>\n",
              "      <td>9888</td>\n",
              "      <td>60736</td>\n",
              "    </tr>\n",
              "    <tr>\n",
              "      <th>1.0</th>\n",
              "      <td>670</td>\n",
              "      <td>2390</td>\n",
              "    </tr>\n",
              "    <tr>\n",
              "      <th>2.0</th>\n",
              "      <td>4</td>\n",
              "      <td>6</td>\n",
              "    </tr>\n",
              "  </tbody>\n",
              "</table>\n",
              "</div>\n",
              "      <button class=\"colab-df-convert\" onclick=\"convertToInteractive('df-43bed879-9513-4375-b0a3-cecdf7195310')\"\n",
              "              title=\"Convert this dataframe to an interactive table.\"\n",
              "              style=\"display:none;\">\n",
              "        \n",
              "  <svg xmlns=\"http://www.w3.org/2000/svg\" height=\"24px\"viewBox=\"0 0 24 24\"\n",
              "       width=\"24px\">\n",
              "    <path d=\"M0 0h24v24H0V0z\" fill=\"none\"/>\n",
              "    <path d=\"M18.56 5.44l.94 2.06.94-2.06 2.06-.94-2.06-.94-.94-2.06-.94 2.06-2.06.94zm-11 1L8.5 8.5l.94-2.06 2.06-.94-2.06-.94L8.5 2.5l-.94 2.06-2.06.94zm10 10l.94 2.06.94-2.06 2.06-.94-2.06-.94-.94-2.06-.94 2.06-2.06.94z\"/><path d=\"M17.41 7.96l-1.37-1.37c-.4-.4-.92-.59-1.43-.59-.52 0-1.04.2-1.43.59L10.3 9.45l-7.72 7.72c-.78.78-.78 2.05 0 2.83L4 21.41c.39.39.9.59 1.41.59.51 0 1.02-.2 1.41-.59l7.78-7.78 2.81-2.81c.8-.78.8-2.07 0-2.86zM5.41 20L4 18.59l7.72-7.72 1.47 1.35L5.41 20z\"/>\n",
              "  </svg>\n",
              "      </button>\n",
              "      \n",
              "  <style>\n",
              "    .colab-df-container {\n",
              "      display:flex;\n",
              "      flex-wrap:wrap;\n",
              "      gap: 12px;\n",
              "    }\n",
              "\n",
              "    .colab-df-convert {\n",
              "      background-color: #E8F0FE;\n",
              "      border: none;\n",
              "      border-radius: 50%;\n",
              "      cursor: pointer;\n",
              "      display: none;\n",
              "      fill: #1967D2;\n",
              "      height: 32px;\n",
              "      padding: 0 0 0 0;\n",
              "      width: 32px;\n",
              "    }\n",
              "\n",
              "    .colab-df-convert:hover {\n",
              "      background-color: #E2EBFA;\n",
              "      box-shadow: 0px 1px 2px rgba(60, 64, 67, 0.3), 0px 1px 3px 1px rgba(60, 64, 67, 0.15);\n",
              "      fill: #174EA6;\n",
              "    }\n",
              "\n",
              "    [theme=dark] .colab-df-convert {\n",
              "      background-color: #3B4455;\n",
              "      fill: #D2E3FC;\n",
              "    }\n",
              "\n",
              "    [theme=dark] .colab-df-convert:hover {\n",
              "      background-color: #434B5C;\n",
              "      box-shadow: 0px 1px 3px 1px rgba(0, 0, 0, 0.15);\n",
              "      filter: drop-shadow(0px 1px 2px rgba(0, 0, 0, 0.3));\n",
              "      fill: #FFFFFF;\n",
              "    }\n",
              "  </style>\n",
              "\n",
              "      <script>\n",
              "        const buttonEl =\n",
              "          document.querySelector('#df-43bed879-9513-4375-b0a3-cecdf7195310 button.colab-df-convert');\n",
              "        buttonEl.style.display =\n",
              "          google.colab.kernel.accessAllowed ? 'block' : 'none';\n",
              "\n",
              "        async function convertToInteractive(key) {\n",
              "          const element = document.querySelector('#df-43bed879-9513-4375-b0a3-cecdf7195310');\n",
              "          const dataTable =\n",
              "            await google.colab.kernel.invokeFunction('convertToInteractive',\n",
              "                                                     [key], {});\n",
              "          if (!dataTable) return;\n",
              "\n",
              "          const docLinkHtml = 'Like what you see? Visit the ' +\n",
              "            '<a target=\"_blank\" href=https://colab.research.google.com/notebooks/data_table.ipynb>data table notebook</a>'\n",
              "            + ' to learn more about interactive tables.';\n",
              "          element.innerHTML = '';\n",
              "          dataTable['output_type'] = 'display_data';\n",
              "          await google.colab.output.renderOutput(dataTable, element);\n",
              "          const docLink = document.createElement('div');\n",
              "          docLink.innerHTML = docLinkHtml;\n",
              "          element.appendChild(docLink);\n",
              "        }\n",
              "      </script>\n",
              "    </div>\n",
              "  </div>\n",
              "  "
            ]
          },
          "metadata": {},
          "execution_count": 64
        }
      ]
    },
    {
      "cell_type": "markdown",
      "source": [
        "It is visible that there is a significant difference between the number of defaulters for each public bankruptcy records count. It has an <font color='red'> inverse relationship </font> woth the loan status. "
      ],
      "metadata": {
        "id": "hzGdqXCtWPJH"
      }
    },
    {
      "cell_type": "code",
      "source": [
        "loan_['delinq_amnt'].value_counts()"
      ],
      "metadata": {
        "colab": {
          "base_uri": "https://localhost:8080/"
        },
        "id": "k2NdNj-IWwa3",
        "outputId": "566c8d2b-f9ec-4e0d-c068-c6fdd8ff6dba"
      },
      "execution_count": null,
      "outputs": [
        {
          "output_type": "execute_result",
          "data": {
            "text/plain": [
              "0    37544\n",
              "Name: delinq_amnt, dtype: int64"
            ]
          },
          "metadata": {},
          "execution_count": 65
        }
      ]
    },
    {
      "cell_type": "markdown",
      "source": [
        "### Loan Specifications "
      ],
      "metadata": {
        "id": "ocrWQJRCXCGp"
      }
    },
    {
      "cell_type": "markdown",
      "source": [
        "Here, the first thing we will do, is visualize the categorical variables with the defaulters. Let us do it now. "
      ],
      "metadata": {
        "id": "LS_JGKjrXE8C"
      }
    },
    {
      "cell_type": "markdown",
      "source": [
        "1. Average Defaulters across various Tenures (Terms of Loan)"
      ],
      "metadata": {
        "id": "XXRNMycwXLMG"
      }
    },
    {
      "cell_type": "code",
      "execution_count": null,
      "metadata": {
        "colab": {
          "base_uri": "https://localhost:8080/",
          "height": 404
        },
        "id": "WbGMI9OxM7IH",
        "outputId": "cf04e709-3b2d-4cf7-9687-e9c5efbc8834"
      },
      "outputs": [
        {
          "output_type": "display_data",
          "data": {
            "text/plain": [
              "<Figure size 1152x432 with 1 Axes>"
            ],
            "image/png": "[encoded data removed]"
          },
          "metadata": {}
        }
      ],
      "source": [
        "avg_plot('term')"
      ]
    },
    {
      "cell_type": "markdown",
      "source": [
        "From the little data that we have, as the term increases, the number of defaulters also increase. Hence, it has a <font color='red'> positive relationship </font> with the defaulters. "
      ],
      "metadata": {
        "id": "pxv1BrxnXXeB"
      }
    },
    {
      "cell_type": "markdown",
      "source": [
        "2. Average Defaulters across various Sub Grades"
      ],
      "metadata": {
        "id": "sGNOAPw9YhM7"
      }
    },
    {
      "cell_type": "code",
      "execution_count": null,
      "metadata": {
        "colab": {
          "base_uri": "https://localhost:8080/",
          "height": 405
        },
        "id": "CJi6u6ccM7IH",
        "outputId": "de37e861-0bed-4774-9dca-e5b731dc21e9"
      },
      "outputs": [
        {
          "output_type": "display_data",
          "data": {
            "text/plain": [
              "<Figure size 1152x432 with 1 Axes>"
            ],
            "image/png": "[encoded data removed]"
          },
          "metadata": {}
        }
      ],
      "source": [
        "avg_plot('sub_grade')"
      ]
    },
    {
      "cell_type": "markdown",
      "source": [
        "It can be noticed that apart from a few bars, the graph is going upwards, which means that as you move from A1 to G5, the number of defaulters increase. Hence, it has a <font color='red'>near positive effect</font> on the defaulters."
      ],
      "metadata": {
        "id": "156umxaTX5t2"
      }
    },
    {
      "cell_type": "markdown",
      "source": [
        "4. Average Defaulters across Grade"
      ],
      "metadata": {
        "id": "em8yOobnJvXT"
      }
    },
    {
      "cell_type": "code",
      "execution_count": null,
      "metadata": {
        "colab": {
          "base_uri": "https://localhost:8080/",
          "height": 404
        },
        "id": "7GS9JooQM7IH",
        "outputId": "6d6dcea6-6abd-45db-dc18-4a0f96c6f898"
      },
      "outputs": [
        {
          "output_type": "display_data",
          "data": {
            "text/plain": [
              "<Figure size 1152x432 with 1 Axes>"
            ],
            "image/png": "[encoded data removed]"
          },
          "metadata": {}
        }
      ],
      "source": [
        "avg_plot('grade')"
      ]
    },
    {
      "cell_type": "markdown",
      "source": [
        "Here, it is clearly visible that as the grade moves from A to G, the average defaulters also increase. Hence, <font color = 'red'>this factor affects the defaulter rate positively. "
      ],
      "metadata": {
        "id": "gC8RBzB1JZ77"
      }
    },
    {
      "cell_type": "markdown",
      "source": [
        "3. Average Defaulters across various Purposes"
      ],
      "metadata": {
        "id": "_MVxodfzYoYH"
      }
    },
    {
      "cell_type": "code",
      "execution_count": null,
      "metadata": {
        "colab": {
          "base_uri": "https://localhost:8080/",
          "height": 405
        },
        "id": "gT3dmp70M7II",
        "outputId": "8a0f6f54-88b7-465f-eb58-cb4e253f9715"
      },
      "outputs": [
        {
          "output_type": "display_data",
          "data": {
            "text/plain": [
              "<Figure size 1152x432 with 1 Axes>"
            ],
            "image/png": "[encoded data removed]"
          },
          "metadata": {}
        }
      ],
      "source": [
        "avg_plot('purpose')"
      ]
    },
    {
      "cell_type": "markdown",
      "source": [
        "We can see that the most defaulters belong to the category of small businesses, followed by renewable energy, house and education. "
      ],
      "metadata": {
        "id": "vnA10pyqZY7j"
      }
    },
    {
      "cell_type": "markdown",
      "source": [
        "4. Loan Status by distribution of Loan Amount"
      ],
      "metadata": {
        "id": "muRydxPmejrB"
      }
    },
    {
      "cell_type": "code",
      "source": [
        "num_plot('loan_amnt')"
      ],
      "metadata": {
        "colab": {
          "base_uri": "https://localhost:8080/",
          "height": 351
        },
        "id": "8fdZ1S_vZw3Y",
        "outputId": "04037314-c197-4936-a2c2-a798e65ed90a"
      },
      "execution_count": null,
      "outputs": [
        {
          "output_type": "display_data",
          "data": {
            "text/plain": [
              "<Figure size 504x360 with 1 Axes>"
            ],
            "image/png": "[encoded data removed]"
          },
          "metadata": {}
        }
      ]
    },
    {
      "cell_type": "markdown",
      "source": [
        "Here, it is quite visible that the IQR of defaulters is more than fully paid borrowers. Hence, as the loan amount increases, it can be seen that the defaulters also increase. This demonstrates a <font color=\"red\">positive effect</font> on the defaulters."
      ],
      "metadata": {
        "id": "-zMjs57fbH7R"
      }
    },
    {
      "cell_type": "markdown",
      "source": [
        "5. Loan status based on funded amount"
      ],
      "metadata": {
        "id": "8QUqa0AHeinE"
      }
    },
    {
      "cell_type": "code",
      "source": [
        "num_plot('funded_amnt')"
      ],
      "metadata": {
        "colab": {
          "base_uri": "https://localhost:8080/",
          "height": 351
        },
        "id": "W7I1fMqNbzQj",
        "outputId": "183a8ac2-a3f3-468f-f76d-6fea152944da"
      },
      "execution_count": null,
      "outputs": [
        {
          "output_type": "display_data",
          "data": {
            "text/plain": [
              "<Figure size 504x360 with 1 Axes>"
            ],
            "image/png": "[encoded data removed]"
          },
          "metadata": {}
        }
      ]
    },
    {
      "cell_type": "markdown",
      "source": [
        "This factor also contributes to the defaulters in the manner similar to the loan amount parameter. This may be due to the reason that most loans are 100% funded, without down payments.\n",
        "\n",
        "Let us find the percentages of funded loan amounts here."
      ],
      "metadata": {
        "id": "tGx7NPkkcrBJ"
      }
    },
    {
      "cell_type": "code",
      "source": [
        "percentfund = (loan_['funded_amnt']/loan_['loan_amnt'])*100\n",
        "plot.subplots(figsize=(7,7))\n",
        "plot.title('Distribution Plot for Funding Loan %')\n",
        "cb.distplot(percentfund)\n",
        "plot.show()"
      ],
      "metadata": {
        "colab": {
          "base_uri": "https://localhost:8080/",
          "height": 444
        },
        "id": "caQoQL5lc9D2",
        "outputId": "cca026a3-1747-49e5-afc7-924d711f8d8d"
      },
      "execution_count": null,
      "outputs": [
        {
          "output_type": "display_data",
          "data": {
            "text/plain": [
              "<Figure size 504x504 with 1 Axes>"
            ],
            "image/png": "[encoded data removed]"
          },
          "metadata": {}
        }
      ]
    },
    {
      "cell_type": "markdown",
      "source": [
        "It is clearly visible that most of the loans are funded 100% or near to 100%. Hence, funding amount is not an influential factor here. "
      ],
      "metadata": {
        "id": "EpCAc6v0d857"
      }
    },
    {
      "cell_type": "markdown",
      "source": [
        "6. Loan Status based on Interest Rate"
      ],
      "metadata": {
        "id": "sJs4GKmCf91Z"
      }
    },
    {
      "cell_type": "code",
      "source": [
        "num_plot('int_rate')"
      ],
      "metadata": {
        "colab": {
          "base_uri": "https://localhost:8080/",
          "height": 351
        },
        "id": "DtWJnFByfOoZ",
        "outputId": "9fe76e3c-62a4-45f9-9db7-ba7ada56ecf7"
      },
      "execution_count": null,
      "outputs": [
        {
          "output_type": "display_data",
          "data": {
            "text/plain": [
              "<Figure size 504x360 with 1 Axes>"
            ],
            "image/png": "[encoded data removed]"
          },
          "metadata": {}
        }
      ]
    },
    {
      "cell_type": "markdown",
      "source": [
        "It is clearly visible that the defaulters lie within a higher interest rate (IQR between around 12 to 16). Hence, <font color='red'>this factor affects the defaulters positively</font>. "
      ],
      "metadata": {
        "id": "B1y8CxgRft0I"
      }
    },
    {
      "cell_type": "markdown",
      "source": [
        "7. Loan Status based on Installment Amount"
      ],
      "metadata": {
        "id": "ArjpzIzDhSxn"
      }
    },
    {
      "cell_type": "code",
      "source": [
        "num_plot('installment')"
      ],
      "metadata": {
        "colab": {
          "base_uri": "https://localhost:8080/",
          "height": 351
        },
        "id": "LM4I2kbegEos",
        "outputId": "7a5dd0d0-e757-4144-cfcb-68e6d3de5023"
      },
      "execution_count": null,
      "outputs": [
        {
          "output_type": "display_data",
          "data": {
            "text/plain": [
              "<Figure size 504x360 with 1 Axes>"
            ],
            "image/png": "[encoded data removed]"
          },
          "metadata": {}
        }
      ]
    },
    {
      "cell_type": "markdown",
      "source": [
        "Similar to the installment, it is visible that the defaulters have installments in higher IQR than the fully paid borrowers, which can also be correlated to the higher interest rates. \n",
        "\n",
        "Hence, this factor also <font color=\"red\">affects the loan status positively</font>."
      ],
      "metadata": {
        "id": "xy6QPG3xhAhH"
      }
    },
    {
      "cell_type": "markdown",
      "source": [
        "8. Time Series Analysis"
      ],
      "metadata": {
        "id": "_OQ3GKwiWZyp"
      }
    },
    {
      "cell_type": "markdown",
      "source": [
        "Now, let us check if the month and year of issue plays a role in the defaulting of loans. Let us start with our time series analysis."
      ],
      "metadata": {
        "id": "SWgalenRWdt_"
      }
    },
    {
      "cell_type": "code",
      "execution_count": null,
      "metadata": {
        "colab": {
          "base_uri": "https://localhost:8080/",
          "height": 423
        },
        "id": "8t541YT1M7II",
        "outputId": "7d9cfd98-b0d2-4020-dc66-494c48d9eec2"
      },
      "outputs": [
        {
          "output_type": "execute_result",
          "data": {
            "text/plain": [
              "       year month\n",
              "0      2011   Dec\n",
              "1      2011   Dec\n",
              "2      2011   Dec\n",
              "3      2011   Dec\n",
              "5      2011   Dec\n",
              "...     ...   ...\n",
              "39712  2007   Jul\n",
              "39713  2007   Jul\n",
              "39714  2007   Jul\n",
              "39715  2007   Jul\n",
              "39716  2007   Jun\n",
              "\n",
              "[37544 rows x 2 columns]"
            ],
            "text/html": [
              "\n",
              "  <div id=\"df-5bb6552b-4523-4009-aa90-9e8a1c32e017\">\n",
              "    <div class=\"colab-df-container\">\n",
              "      <div>\n",
              "<style scoped>\n",
              "    .dataframe tbody tr th:only-of-type {\n",
              "        vertical-align: middle;\n",
              "    }\n",
              "\n",
              "    .dataframe tbody tr th {\n",
              "        vertical-align: top;\n",
              "    }\n",
              "\n",
              "    .dataframe thead th {\n",
              "        text-align: right;\n",
              "    }\n",
              "</style>\n",
              "<table border=\"1\" class=\"dataframe\">\n",
              "  <thead>\n",
              "    <tr style=\"text-align: right;\">\n",
              "      <th></th>\n",
              "      <th>year</th>\n",
              "      <th>month</th>\n",
              "    </tr>\n",
              "  </thead>\n",
              "  <tbody>\n",
              "    <tr>\n",
              "      <th>0</th>\n",
              "      <td>2011</td>\n",
              "      <td>Dec</td>\n",
              "    </tr>\n",
              "    <tr>\n",
              "      <th>1</th>\n",
              "      <td>2011</td>\n",
              "      <td>Dec</td>\n",
              "    </tr>\n",
              "    <tr>\n",
              "      <th>2</th>\n",
              "      <td>2011</td>\n",
              "      <td>Dec</td>\n",
              "    </tr>\n",
              "    <tr>\n",
              "      <th>3</th>\n",
              "      <td>2011</td>\n",
              "      <td>Dec</td>\n",
              "    </tr>\n",
              "    <tr>\n",
              "      <th>5</th>\n",
              "      <td>2011</td>\n",
              "      <td>Dec</td>\n",
              "    </tr>\n",
              "    <tr>\n",
              "      <th>...</th>\n",
              "      <td>...</td>\n",
              "      <td>...</td>\n",
              "    </tr>\n",
              "    <tr>\n",
              "      <th>39712</th>\n",
              "      <td>2007</td>\n",
              "      <td>Jul</td>\n",
              "    </tr>\n",
              "    <tr>\n",
              "      <th>39713</th>\n",
              "      <td>2007</td>\n",
              "      <td>Jul</td>\n",
              "    </tr>\n",
              "    <tr>\n",
              "      <th>39714</th>\n",
              "      <td>2007</td>\n",
              "      <td>Jul</td>\n",
              "    </tr>\n",
              "    <tr>\n",
              "      <th>39715</th>\n",
              "      <td>2007</td>\n",
              "      <td>Jul</td>\n",
              "    </tr>\n",
              "    <tr>\n",
              "      <th>39716</th>\n",
              "      <td>2007</td>\n",
              "      <td>Jun</td>\n",
              "    </tr>\n",
              "  </tbody>\n",
              "</table>\n",
              "<p>37544 rows × 2 columns</p>\n",
              "</div>\n",
              "      <button class=\"colab-df-convert\" onclick=\"convertToInteractive('df-5bb6552b-4523-4009-aa90-9e8a1c32e017')\"\n",
              "              title=\"Convert this dataframe to an interactive table.\"\n",
              "              style=\"display:none;\">\n",
              "        \n",
              "  <svg xmlns=\"http://www.w3.org/2000/svg\" height=\"24px\"viewBox=\"0 0 24 24\"\n",
              "       width=\"24px\">\n",
              "    <path d=\"M0 0h24v24H0V0z\" fill=\"none\"/>\n",
              "    <path d=\"M18.56 5.44l.94 2.06.94-2.06 2.06-.94-2.06-.94-.94-2.06-.94 2.06-2.06.94zm-11 1L8.5 8.5l.94-2.06 2.06-.94-2.06-.94L8.5 2.5l-.94 2.06-2.06.94zm10 10l.94 2.06.94-2.06 2.06-.94-2.06-.94-.94-2.06-.94 2.06-2.06.94z\"/><path d=\"M17.41 7.96l-1.37-1.37c-.4-.4-.92-.59-1.43-.59-.52 0-1.04.2-1.43.59L10.3 9.45l-7.72 7.72c-.78.78-.78 2.05 0 2.83L4 21.41c.39.39.9.59 1.41.59.51 0 1.02-.2 1.41-.59l7.78-7.78 2.81-2.81c.8-.78.8-2.07 0-2.86zM5.41 20L4 18.59l7.72-7.72 1.47 1.35L5.41 20z\"/>\n",
              "  </svg>\n",
              "      </button>\n",
              "      \n",
              "  <style>\n",
              "    .colab-df-container {\n",
              "      display:flex;\n",
              "      flex-wrap:wrap;\n",
              "      gap: 12px;\n",
              "    }\n",
              "\n",
              "    .colab-df-convert {\n",
              "      background-color: #E8F0FE;\n",
              "      border: none;\n",
              "      border-radius: 50%;\n",
              "      cursor: pointer;\n",
              "      display: none;\n",
              "      fill: #1967D2;\n",
              "      height: 32px;\n",
              "      padding: 0 0 0 0;\n",
              "      width: 32px;\n",
              "    }\n",
              "\n",
              "    .colab-df-convert:hover {\n",
              "      background-color: #E2EBFA;\n",
              "      box-shadow: 0px 1px 2px rgba(60, 64, 67, 0.3), 0px 1px 3px 1px rgba(60, 64, 67, 0.15);\n",
              "      fill: #174EA6;\n",
              "    }\n",
              "\n",
              "    [theme=dark] .colab-df-convert {\n",
              "      background-color: #3B4455;\n",
              "      fill: #D2E3FC;\n",
              "    }\n",
              "\n",
              "    [theme=dark] .colab-df-convert:hover {\n",
              "      background-color: #434B5C;\n",
              "      box-shadow: 0px 1px 3px 1px rgba(0, 0, 0, 0.15);\n",
              "      filter: drop-shadow(0px 1px 2px rgba(0, 0, 0, 0.3));\n",
              "      fill: #FFFFFF;\n",
              "    }\n",
              "  </style>\n",
              "\n",
              "      <script>\n",
              "        const buttonEl =\n",
              "          document.querySelector('#df-5bb6552b-4523-4009-aa90-9e8a1c32e017 button.colab-df-convert');\n",
              "        buttonEl.style.display =\n",
              "          google.colab.kernel.accessAllowed ? 'block' : 'none';\n",
              "\n",
              "        async function convertToInteractive(key) {\n",
              "          const element = document.querySelector('#df-5bb6552b-4523-4009-aa90-9e8a1c32e017');\n",
              "          const dataTable =\n",
              "            await google.colab.kernel.invokeFunction('convertToInteractive',\n",
              "                                                     [key], {});\n",
              "          if (!dataTable) return;\n",
              "\n",
              "          const docLinkHtml = 'Like what you see? Visit the ' +\n",
              "            '<a target=\"_blank\" href=https://colab.research.google.com/notebooks/data_table.ipynb>data table notebook</a>'\n",
              "            + ' to learn more about interactive tables.';\n",
              "          element.innerHTML = '';\n",
              "          dataTable['output_type'] = 'display_data';\n",
              "          await google.colab.output.renderOutput(dataTable, element);\n",
              "          const docLink = document.createElement('div');\n",
              "          docLink.innerHTML = docLinkHtml;\n",
              "          element.appendChild(docLink);\n",
              "        }\n",
              "      </script>\n",
              "    </div>\n",
              "  </div>\n",
              "  "
            ]
          },
          "metadata": {},
          "execution_count": 75
        }
      ],
      "source": [
        "loan_new = loan_.copy()\n",
        "loan_new['month'] = loan_new['issue_d'].str.split('-',n=1,expand=True)[0]\n",
        "loan_new['year'] = (loan_new['issue_d'].str.split('-',n=1,expand=True)[1].astype(int)+2000).astype(str)\n",
        "\n",
        "loan_new[['year','month']]"
      ]
    },
    {
      "cell_type": "code",
      "source": [
        "defaulter_by_year = (1 - loan_new.groupby(['year']).mean()[['loan_status']])*100\n",
        "\n",
        "cb.set_style('darkgrid')\n",
        "plot.subplots(figsize=(8,6))\n",
        "plot.title('Loan Defaulters % by Year')\n",
        "cb.lineplot(data = defaulter_by_year, legend=None,marker='*',markersize = 20, palette = 'Greens')\n",
        "plot.yticks(ticks = [i for i in range(13,19)], labels = ['{}%'.format(i) for i in range(13,19)])\n",
        "plot.show()"
      ],
      "metadata": {
        "colab": {
          "base_uri": "https://localhost:8080/",
          "height": 404
        },
        "id": "sBDaoLh_kqgq",
        "outputId": "9490d7c2-7943-4134-ca7e-72accac54063"
      },
      "execution_count": null,
      "outputs": [
        {
          "output_type": "display_data",
          "data": {
            "text/plain": [
              "<Figure size 576x432 with 1 Axes>"
            ],
            "image/png": "[encoded data removed]"
          },
          "metadata": {}
        }
      ]
    },
    {
      "cell_type": "markdown",
      "source": [
        "We can see that the defaulter rate has suddenly increased in 2011, after continuously decreasing for 4 years. Let us check the same for the month as well. "
      ],
      "metadata": {
        "id": "ozx7Db7FxlR1"
      }
    },
    {
      "cell_type": "code",
      "source": [
        "defaulter_by_month = (1 - loan_new.groupby(['month']).mean()[['loan_status']])*100\n",
        "defaulter_by_month.reset_index(inplace=True)\n",
        "\n",
        "defaulter_by_month['month num'] = [4,8,12,2,1,7,6,3,5,11,10,9]\n",
        "def_mon = defaulter_by_month.sort_values(by = 'month num').set_index('month')[['loan_status']]\n",
        "\n",
        "cb.set_style('darkgrid')\n",
        "plot.subplots(figsize=(8,6))\n",
        "plot.title('Loan Defaulters % by Month')\n",
        "cb.lineplot(data = def_mon,legend=None, palette = 'Reds', marker='*', markersize=20)\n",
        "plot.yticks(ticks=[i for i in range(12,17)],labels=['{}%'.format(i) for i in range(12,17)])\n",
        "plot.show()"
      ],
      "metadata": {
        "colab": {
          "base_uri": "https://localhost:8080/",
          "height": 404
        },
        "id": "UOaXGO5Lqc02",
        "outputId": "aeb991ec-8d3f-4453-98d3-c39c638c7121"
      },
      "execution_count": null,
      "outputs": [
        {
          "output_type": "display_data",
          "data": {
            "text/plain": [
              "<Figure size 576x432 with 1 Axes>"
            ],
            "image/png": "[encoded data removed]"
          },
          "metadata": {}
        }
      ]
    },
    {
      "cell_type": "markdown",
      "source": [
        "We can see some drastic jumps here, between the months April to May (3% jump), and August to September (more than 2% jump). Hence, the <font color='red'>month and year of loan issue</font> can affect the defaulters. \n",
        "\n",
        "Now, let us plot some multi-variate analysis as well."
      ],
      "metadata": {
        "id": "8niHjoX9x_1y"
      }
    },
    {
      "cell_type": "markdown",
      "source": [
        "## Multi Variate Analysis"
      ],
      "metadata": {
        "id": "3YGQ_NsLzYZp"
      }
    },
    {
      "cell_type": "markdown",
      "source": [
        "Now, we will start with multi-variate analysis for 2 or 3 variables. let us look at the month and year in combination from each other."
      ],
      "metadata": {
        "id": "ORwrcKXqzhNj"
      }
    },
    {
      "cell_type": "code",
      "source": [
        "month_and_year = 1 - loan_new.pivot_table(index = 'month', columns = 'year', values ='loan_status', aggfunc = np.mean)\n",
        "month_and_year['month num'] = [4,8,12,2,1,7,6,3,5,11,10,9]\n",
        "fin_my = month_and_year.sort_values(by = 'month num').iloc[:,:-1]\n",
        "\n",
        "fin_my.plot(kind = 'barh', figsize=(12,9), stacked=True, cmap='Pastel2', \n",
        "            title = 'Defaulters % for each month in each year')\n",
        "plot.show()"
      ],
      "metadata": {
        "colab": {
          "base_uri": "https://localhost:8080/",
          "height": 553
        },
        "id": "L9ntEcWpzt46",
        "outputId": "e87f8b07-b8e5-4b6d-aea7-78037ca0b168"
      },
      "execution_count": null,
      "outputs": [
        {
          "output_type": "display_data",
          "data": {
            "text/plain": [
              "<Figure size 864x648 with 1 Axes>"
            ],
            "image/png": "[encoded data removed]"
          },
          "metadata": {}
        }
      ]
    },
    {
      "cell_type": "markdown",
      "source": [
        "We can see that the year 2011 has seen significant rise in the number of defaulters, in all months. For all the other years besides it, the trend is somewhat neutral."
      ],
      "metadata": {
        "id": "szvfT4QAW8x2"
      }
    },
    {
      "cell_type": "markdown",
      "source": [
        "Now, let us look at the top 5 purposes for borrowing the loan. "
      ],
      "metadata": {
        "id": "qhAvMX6fXQJN"
      }
    },
    {
      "cell_type": "code",
      "source": [
        "top5purpose = loan_new[loan_new.purpose.isin([i[0] for i in loan_new[['purpose']].value_counts().head(5).index])]\n",
        "top5purpose.head()"
      ],
      "metadata": {
        "colab": {
          "base_uri": "https://localhost:8080/",
          "height": 386
        },
        "id": "clqWVuOD27VK",
        "outputId": "513321f6-d7ce-4f07-b6c7-007706516c98"
      },
      "execution_count": null,
      "outputs": [
        {
          "output_type": "execute_result",
          "data": {
            "text/plain": [
              "    recoveries    dti  open_acc application_type  delinq_2yrs  \\\n",
              "0         0.00  27.65         3       INDIVIDUAL            0   \n",
              "3         0.00  20.00        10       INDIVIDUAL            0   \n",
              "6         0.00  23.51         7       INDIVIDUAL            0   \n",
              "9       269.29  18.08         2       INDIVIDUAL            0   \n",
              "10        0.00  16.12        14       INDIVIDUAL            0   \n",
              "\n",
              "                    emp_title  chargeoff_within_12_mths             purpose  \\\n",
              "0                         NaN                       0.0         credit_card   \n",
              "3         AIR RESOURCES BOARD                       0.0               other   \n",
              "6   Southern Star Photography                       0.0  debt_consolidation   \n",
              "9                   Starbucks                       0.0               other   \n",
              "10      Southwest Rural metro                       0.0  debt_consolidation   \n",
              "\n",
              "    annual_inc last_credit_pull_d  ...  tax_liens  \\\n",
              "0      24000.0             May-16  ...        0.0   \n",
              "3      49200.0             Apr-16  ...        0.0   \n",
              "6      47004.0             May-16  ...        0.0   \n",
              "9      15000.0             Mar-13  ...        0.0   \n",
              "10     72000.0             Dec-15  ...        0.0   \n",
              "\n",
              "                          title out_prncp_inv  loan_amnt  total_acc revol_bal  \\\n",
              "0                      Computer           0.0       5000          9     13648   \n",
              "3                      personel           0.0      10000         37      5598   \n",
              "6                          Loan           0.0       7000         11     17726   \n",
              "9   Building my credit history.           0.0       5375          3      9279   \n",
              "10   High intrest Consolidation           0.0       6500         23      4032   \n",
              "\n",
              "    member_id out_prncp month  year  \n",
              "0     1296599       0.0   Dec  2011  \n",
              "3     1277178       0.0   Dec  2011  \n",
              "6     1304742       0.0   Dec  2011  \n",
              "9     1306721       0.0   Dec  2011  \n",
              "10    1305201       0.0   Dec  2011  \n",
              "\n",
              "[5 rows x 55 columns]"
            ],
            "text/html": [
              "\n",
              "  <div id=\"df-a30e0a97-d7e0-4f74-9281-49a424c27fcf\">\n",
              "    <div class=\"colab-df-container\">\n",
              "      <div>\n",
              "<style scoped>\n",
              "    .dataframe tbody tr th:only-of-type {\n",
              "        vertical-align: middle;\n",
              "    }\n",
              "\n",
              "    .dataframe tbody tr th {\n",
              "        vertical-align: top;\n",
              "    }\n",
              "\n",
              "    .dataframe thead th {\n",
              "        text-align: right;\n",
              "    }\n",
              "</style>\n",
              "<table border=\"1\" class=\"dataframe\">\n",
              "  <thead>\n",
              "    <tr style=\"text-align: right;\">\n",
              "      <th></th>\n",
              "      <th>recoveries</th>\n",
              "      <th>dti</th>\n",
              "      <th>open_acc</th>\n",
              "      <th>application_type</th>\n",
              "      <th>delinq_2yrs</th>\n",
              "      <th>emp_title</th>\n",
              "      <th>chargeoff_within_12_mths</th>\n",
              "      <th>purpose</th>\n",
              "      <th>annual_inc</th>\n",
              "      <th>last_credit_pull_d</th>\n",
              "      <th>...</th>\n",
              "      <th>tax_liens</th>\n",
              "      <th>title</th>\n",
              "      <th>out_prncp_inv</th>\n",
              "      <th>loan_amnt</th>\n",
              "      <th>total_acc</th>\n",
              "      <th>revol_bal</th>\n",
              "      <th>member_id</th>\n",
              "      <th>out_prncp</th>\n",
              "      <th>month</th>\n",
              "      <th>year</th>\n",
              "    </tr>\n",
              "  </thead>\n",
              "  <tbody>\n",
              "    <tr>\n",
              "      <th>0</th>\n",
              "      <td>0.00</td>\n",
              "      <td>27.65</td>\n",
              "      <td>3</td>\n",
              "      <td>INDIVIDUAL</td>\n",
              "      <td>0</td>\n",
              "      <td>NaN</td>\n",
              "      <td>0.0</td>\n",
              "      <td>credit_card</td>\n",
              "      <td>24000.0</td>\n",
              "      <td>May-16</td>\n",
              "      <td>...</td>\n",
              "      <td>0.0</td>\n",
              "      <td>Computer</td>\n",
              "      <td>0.0</td>\n",
              "      <td>5000</td>\n",
              "      <td>9</td>\n",
              "      <td>13648</td>\n",
              "      <td>1296599</td>\n",
              "      <td>0.0</td>\n",
              "      <td>Dec</td>\n",
              "      <td>2011</td>\n",
              "    </tr>\n",
              "    <tr>\n",
              "      <th>3</th>\n",
              "      <td>0.00</td>\n",
              "      <td>20.00</td>\n",
              "      <td>10</td>\n",
              "      <td>INDIVIDUAL</td>\n",
              "      <td>0</td>\n",
              "      <td>AIR RESOURCES BOARD</td>\n",
              "      <td>0.0</td>\n",
              "      <td>other</td>\n",
              "      <td>49200.0</td>\n",
              "      <td>Apr-16</td>\n",
              "      <td>...</td>\n",
              "      <td>0.0</td>\n",
              "      <td>personel</td>\n",
              "      <td>0.0</td>\n",
              "      <td>10000</td>\n",
              "      <td>37</td>\n",
              "      <td>5598</td>\n",
              "      <td>1277178</td>\n",
              "      <td>0.0</td>\n",
              "      <td>Dec</td>\n",
              "      <td>2011</td>\n",
              "    </tr>\n",
              "    <tr>\n",
              "      <th>6</th>\n",
              "      <td>0.00</td>\n",
              "      <td>23.51</td>\n",
              "      <td>7</td>\n",
              "      <td>INDIVIDUAL</td>\n",
              "      <td>0</td>\n",
              "      <td>Southern Star Photography</td>\n",
              "      <td>0.0</td>\n",
              "      <td>debt_consolidation</td>\n",
              "      <td>47004.0</td>\n",
              "      <td>May-16</td>\n",
              "      <td>...</td>\n",
              "      <td>0.0</td>\n",
              "      <td>Loan</td>\n",
              "      <td>0.0</td>\n",
              "      <td>7000</td>\n",
              "      <td>11</td>\n",
              "      <td>17726</td>\n",
              "      <td>1304742</td>\n",
              "      <td>0.0</td>\n",
              "      <td>Dec</td>\n",
              "      <td>2011</td>\n",
              "    </tr>\n",
              "    <tr>\n",
              "      <th>9</th>\n",
              "      <td>269.29</td>\n",
              "      <td>18.08</td>\n",
              "      <td>2</td>\n",
              "      <td>INDIVIDUAL</td>\n",
              "      <td>0</td>\n",
              "      <td>Starbucks</td>\n",
              "      <td>0.0</td>\n",
              "      <td>other</td>\n",
              "      <td>15000.0</td>\n",
              "      <td>Mar-13</td>\n",
              "      <td>...</td>\n",
              "      <td>0.0</td>\n",
              "      <td>Building my credit history.</td>\n",
              "      <td>0.0</td>\n",
              "      <td>5375</td>\n",
              "      <td>3</td>\n",
              "      <td>9279</td>\n",
              "      <td>1306721</td>\n",
              "      <td>0.0</td>\n",
              "      <td>Dec</td>\n",
              "      <td>2011</td>\n",
              "    </tr>\n",
              "    <tr>\n",
              "      <th>10</th>\n",
              "      <td>0.00</td>\n",
              "      <td>16.12</td>\n",
              "      <td>14</td>\n",
              "      <td>INDIVIDUAL</td>\n",
              "      <td>0</td>\n",
              "      <td>Southwest Rural metro</td>\n",
              "      <td>0.0</td>\n",
              "      <td>debt_consolidation</td>\n",
              "      <td>72000.0</td>\n",
              "      <td>Dec-15</td>\n",
              "      <td>...</td>\n",
              "      <td>0.0</td>\n",
              "      <td>High intrest Consolidation</td>\n",
              "      <td>0.0</td>\n",
              "      <td>6500</td>\n",
              "      <td>23</td>\n",
              "      <td>4032</td>\n",
              "      <td>1305201</td>\n",
              "      <td>0.0</td>\n",
              "      <td>Dec</td>\n",
              "      <td>2011</td>\n",
              "    </tr>\n",
              "  </tbody>\n",
              "</table>\n",
              "<p>5 rows × 55 columns</p>\n",
              "</div>\n",
              "      <button class=\"colab-df-convert\" onclick=\"convertToInteractive('df-a30e0a97-d7e0-4f74-9281-49a424c27fcf')\"\n",
              "              title=\"Convert this dataframe to an interactive table.\"\n",
              "              style=\"display:none;\">\n",
              "        \n",
              "  <svg xmlns=\"http://www.w3.org/2000/svg\" height=\"24px\"viewBox=\"0 0 24 24\"\n",
              "       width=\"24px\">\n",
              "    <path d=\"M0 0h24v24H0V0z\" fill=\"none\"/>\n",
              "    <path d=\"M18.56 5.44l.94 2.06.94-2.06 2.06-.94-2.06-.94-.94-2.06-.94 2.06-2.06.94zm-11 1L8.5 8.5l.94-2.06 2.06-.94-2.06-.94L8.5 2.5l-.94 2.06-2.06.94zm10 10l.94 2.06.94-2.06 2.06-.94-2.06-.94-.94-2.06-.94 2.06-2.06.94z\"/><path d=\"M17.41 7.96l-1.37-1.37c-.4-.4-.92-.59-1.43-.59-.52 0-1.04.2-1.43.59L10.3 9.45l-7.72 7.72c-.78.78-.78 2.05 0 2.83L4 21.41c.39.39.9.59 1.41.59.51 0 1.02-.2 1.41-.59l7.78-7.78 2.81-2.81c.8-.78.8-2.07 0-2.86zM5.41 20L4 18.59l7.72-7.72 1.47 1.35L5.41 20z\"/>\n",
              "  </svg>\n",
              "      </button>\n",
              "      \n",
              "  <style>\n",
              "    .colab-df-container {\n",
              "      display:flex;\n",
              "      flex-wrap:wrap;\n",
              "      gap: 12px;\n",
              "    }\n",
              "\n",
              "    .colab-df-convert {\n",
              "      background-color: #E8F0FE;\n",
              "      border: none;\n",
              "      border-radius: 50%;\n",
              "      cursor: pointer;\n",
              "      display: none;\n",
              "      fill: #1967D2;\n",
              "      height: 32px;\n",
              "      padding: 0 0 0 0;\n",
              "      width: 32px;\n",
              "    }\n",
              "\n",
              "    .colab-df-convert:hover {\n",
              "      background-color: #E2EBFA;\n",
              "      box-shadow: 0px 1px 2px rgba(60, 64, 67, 0.3), 0px 1px 3px 1px rgba(60, 64, 67, 0.15);\n",
              "      fill: #174EA6;\n",
              "    }\n",
              "\n",
              "    [theme=dark] .colab-df-convert {\n",
              "      background-color: #3B4455;\n",
              "      fill: #D2E3FC;\n",
              "    }\n",
              "\n",
              "    [theme=dark] .colab-df-convert:hover {\n",
              "      background-color: #434B5C;\n",
              "      box-shadow: 0px 1px 3px 1px rgba(0, 0, 0, 0.15);\n",
              "      filter: drop-shadow(0px 1px 2px rgba(0, 0, 0, 0.3));\n",
              "      fill: #FFFFFF;\n",
              "    }\n",
              "  </style>\n",
              "\n",
              "      <script>\n",
              "        const buttonEl =\n",
              "          document.querySelector('#df-a30e0a97-d7e0-4f74-9281-49a424c27fcf button.colab-df-convert');\n",
              "        buttonEl.style.display =\n",
              "          google.colab.kernel.accessAllowed ? 'block' : 'none';\n",
              "\n",
              "        async function convertToInteractive(key) {\n",
              "          const element = document.querySelector('#df-a30e0a97-d7e0-4f74-9281-49a424c27fcf');\n",
              "          const dataTable =\n",
              "            await google.colab.kernel.invokeFunction('convertToInteractive',\n",
              "                                                     [key], {});\n",
              "          if (!dataTable) return;\n",
              "\n",
              "          const docLinkHtml = 'Like what you see? Visit the ' +\n",
              "            '<a target=\"_blank\" href=https://colab.research.google.com/notebooks/data_table.ipynb>data table notebook</a>'\n",
              "            + ' to learn more about interactive tables.';\n",
              "          element.innerHTML = '';\n",
              "          dataTable['output_type'] = 'display_data';\n",
              "          await google.colab.output.renderOutput(dataTable, element);\n",
              "          const docLink = document.createElement('div');\n",
              "          docLink.innerHTML = docLinkHtml;\n",
              "          element.appendChild(docLink);\n",
              "        }\n",
              "      </script>\n",
              "    </div>\n",
              "  </div>\n",
              "  "
            ]
          },
          "metadata": {},
          "execution_count": 78
        }
      ]
    },
    {
      "cell_type": "code",
      "source": [
        "plot.subplots(figsize=(9,6))\n",
        "cb.barplot(x = 'loan_amnt', y = 'purpose', hue ='loan_status', data = top5purpose, palette = 'Pastel2', estimator = np.mean)\n",
        "plot.title('Average Loan Amount for each Loan Status based on top 5 purposes')\n",
        "plot.show()"
      ],
      "metadata": {
        "colab": {
          "base_uri": "https://localhost:8080/",
          "height": 405
        },
        "id": "PbdKWVYo9VSY",
        "outputId": "7dd3f61e-a651-4484-cb8e-ba3e71050c95"
      },
      "execution_count": null,
      "outputs": [
        {
          "output_type": "display_data",
          "data": {
            "text/plain": [
              "<Figure size 648x432 with 1 Axes>"
            ],
            "image/png": "[encoded data removed]"
          },
          "metadata": {}
        }
      ]
    },
    {
      "cell_type": "markdown",
      "source": [
        "It is clearly visible that purpose influences the defaulter rates. For each category in the top 5, the defaulters have more loan amount than the fully paid ones. \n",
        "\n",
        "Although this may not seem significant, but it is, when we consider the size of the data. Let us see the same for home ownership with annual income. "
      ],
      "metadata": {
        "id": "7ln6Bj85XYuc"
      }
    },
    {
      "cell_type": "code",
      "source": [
        "plot.subplots(figsize=(9,6))\n",
        "cb.barplot(x = 'annual_inc', y = 'home_ownership', hue ='loan_status', data = loan_new, palette = 'Pastel2', estimator = np.mean)\n",
        "plot.title('Average Annual Income for each Loan Status based on Home Ownership')\n",
        "plot.show()"
      ],
      "metadata": {
        "colab": {
          "base_uri": "https://localhost:8080/",
          "height": 405
        },
        "id": "lwImqSCH8nq0",
        "outputId": "f8873520-feb0-4320-f151-9265f53b693e"
      },
      "execution_count": null,
      "outputs": [
        {
          "output_type": "display_data",
          "data": {
            "text/plain": [
              "<Figure size 648x432 with 1 Axes>"
            ],
            "image/png": "[encoded data removed]"
          },
          "metadata": {}
        }
      ]
    },
    {
      "cell_type": "markdown",
      "source": [
        "We can see that as the annual income increases, the defaulter rates increase steadily in almost each category of the home ownership. Let us now look at the debt to income ratio (DTI) and the tenure (term) of the loan."
      ],
      "metadata": {
        "id": "2qi7z-GxYDor"
      }
    },
    {
      "cell_type": "code",
      "source": [
        "plot.subplots(figsize=(9,6))\n",
        "cb.barplot(x = 'term', y = 'dti', hue ='loan_status', data = loan_new, palette = 'Pastel2', estimator = np.mean)\n",
        "plot.title('Average Debt to Income Ratio per Tenure for each Loan Status')\n",
        "plot.show()"
      ],
      "metadata": {
        "colab": {
          "base_uri": "https://localhost:8080/",
          "height": 404
        },
        "id": "RN_rR3L6_1n8",
        "outputId": "2bcfb7d4-c985-45cd-f94e-8c190a714151"
      },
      "execution_count": null,
      "outputs": [
        {
          "output_type": "display_data",
          "data": {
            "text/plain": [
              "<Figure size 648x432 with 1 Axes>"
            ],
            "image/png": "[encoded data removed]"
          },
          "metadata": {}
        }
      ]
    },
    {
      "cell_type": "markdown",
      "source": [
        "We can see that there is not any significant difference, when we combine the two columns. Next, let us combine the DTI with the employment time. "
      ],
      "metadata": {
        "id": "Z3RB-2uVYjMp"
      }
    },
    {
      "cell_type": "code",
      "source": [
        "plot.subplots(figsize=(14,8))\n",
        "cb.barplot(x = 'emp_length', y = 'dti', hue ='loan_status', data = loan_new, palette = 'Pastel2', estimator = np.mean)\n",
        "plot.title('Average Debt to Income Ratio vs Time of Employment for each Loan Status')\n",
        "plot.show()"
      ],
      "metadata": {
        "colab": {
          "base_uri": "https://localhost:8080/",
          "height": 514
        },
        "id": "sxT1FGdFAO4b",
        "outputId": "f7bc8aab-8c58-4d86-d50f-ebfe4b7c20e2"
      },
      "execution_count": null,
      "outputs": [
        {
          "output_type": "display_data",
          "data": {
            "text/plain": [
              "<Figure size 1008x576 with 1 Axes>"
            ],
            "image/png": "[encoded data removed]"
          },
          "metadata": {}
        }
      ]
    },
    {
      "cell_type": "markdown",
      "source": [
        "In this case as well, there is not much significant difference, apart from the noticeable pattern that defaulters are more than fully paid borrowers for every category. Let us see the relation between grade and funded amount now."
      ],
      "metadata": {
        "id": "bWD-getTZETg"
      }
    },
    {
      "cell_type": "code",
      "source": [
        "loan_new.pivot_table(index = 'grade', columns = 'loan_status', values='funded_amnt', aggfunc = np.mean).plot(\n",
        "    kind = 'bar', figsize=(12,8),cmap='Pastel2')\n",
        "plot.ylabel('funded_amnt')\n",
        "plot.title('Average Funding Amount vs Grade for Each Loan Status')\n",
        "plot.xticks(rotation=0)\n",
        "plot.show()"
      ],
      "metadata": {
        "colab": {
          "base_uri": "https://localhost:8080/",
          "height": 513
        },
        "id": "dhgU3vLCBens",
        "outputId": "52bc95c6-a6ee-4647-da24-38e07b573a51"
      },
      "execution_count": null,
      "outputs": [
        {
          "output_type": "display_data",
          "data": {
            "text/plain": [
              "<Figure size 864x576 with 1 Axes>"
            ],
            "image/png": "[encoded data removed]"
          },
          "metadata": {}
        }
      ]
    },
    {
      "cell_type": "markdown",
      "source": [
        "It is easily visible that there is an increasing trend as we move from Grade A to Grade G, and the average funding amount also increases with grade. So, it can be considered as an influencing factor."
      ],
      "metadata": {
        "id": "RrC7tQtuZb5t"
      }
    },
    {
      "cell_type": "markdown",
      "source": [
        "Now, for the top 5 purposes, let us compare them with the home ownership on the basis of defaulter rates. Let us see now."
      ],
      "metadata": {
        "id": "g8VMAjR8ZrZp"
      }
    },
    {
      "cell_type": "code",
      "source": [
        "df_by_purpose = 1 - top5purpose.pivot_table(index = 'home_ownership', columns = 'purpose', values='loan_status', aggfunc = np.mean)\n",
        "plot.subplots(figsize=(10,6))\n",
        "cb.heatmap(df_by_purpose, cmap = 'Greens', annot=True)\n",
        "plot.show()"
      ],
      "metadata": {
        "colab": {
          "base_uri": "https://localhost:8080/",
          "height": 482
        },
        "id": "kYfUawmfFKYW",
        "outputId": "1aef0b46-b740-4d37-94da-517b23bf23f5"
      },
      "execution_count": null,
      "outputs": [
        {
          "output_type": "display_data",
          "data": {
            "text/plain": [
              "<Figure size 720x432 with 2 Axes>"
            ],
            "image/png": "[encoded data removed]"
          },
          "metadata": {}
        }
      ]
    },
    {
      "cell_type": "markdown",
      "source": [
        "We can clearly see that there are some categories that when combined, influences the defaulter rates. "
      ],
      "metadata": {
        "id": "vf2jN2fEZ01h"
      }
    },
    {
      "cell_type": "markdown",
      "metadata": {
        "id": "RIT3KVCpM7IV"
      },
      "source": [
        "Let us see the variation of default rate across each category in a categorical variable. We will define a function to perform this on all the categorical columns. "
      ]
    },
    {
      "cell_type": "code",
      "source": [
        "def dr_by_cat(cat_col):\n",
        "  cat = (1 - loan_new.groupby(cat_col).mean()[['loan_status']])*100\n",
        "  cat.sort_values(by='loan_status',inplace=True)\n",
        "  diff = [(cat.values[i][0]/cat.values[i-1][0])-1 if cat.values[i-1][0]!=0 and i!=0 else 0 for i in range(len(cat.values))]\n",
        "  cat['runn_diff']=np.array(diff)*100\n",
        "  display(cat)"
      ],
      "metadata": {
        "id": "mBnydQZBPs8U"
      },
      "execution_count": null,
      "outputs": []
    },
    {
      "cell_type": "code",
      "source": [
        "dr_by_cat('home_ownership')"
      ],
      "metadata": {
        "colab": {
          "base_uri": "https://localhost:8080/",
          "height": 237
        },
        "id": "4v3igT36G-Gc",
        "outputId": "d65391e0-1a4f-4aae-b3ce-a9a19604e2e5"
      },
      "execution_count": null,
      "outputs": [
        {
          "output_type": "display_data",
          "data": {
            "text/plain": [
              "                loan_status  runn_diff\n",
              "home_ownership                        \n",
              "NONE               0.000000   0.000000\n",
              "MORTGAGE          13.528171   0.000000\n",
              "OWN               14.440433   6.743425\n",
              "RENT              15.134418   4.805841\n",
              "OTHER             18.367347  21.361439"
            ],
            "text/html": [
              "\n",
              "  <div id=\"df-9de4e77b-4a8f-47b9-b59b-47432dfd7c35\">\n",
              "    <div class=\"colab-df-container\">\n",
              "      <div>\n",
              "<style scoped>\n",
              "    .dataframe tbody tr th:only-of-type {\n",
              "        vertical-align: middle;\n",
              "    }\n",
              "\n",
              "    .dataframe tbody tr th {\n",
              "        vertical-align: top;\n",
              "    }\n",
              "\n",
              "    .dataframe thead th {\n",
              "        text-align: right;\n",
              "    }\n",
              "</style>\n",
              "<table border=\"1\" class=\"dataframe\">\n",
              "  <thead>\n",
              "    <tr style=\"text-align: right;\">\n",
              "      <th></th>\n",
              "      <th>loan_status</th>\n",
              "      <th>runn_diff</th>\n",
              "    </tr>\n",
              "    <tr>\n",
              "      <th>home_ownership</th>\n",
              "      <th></th>\n",
              "      <th></th>\n",
              "    </tr>\n",
              "  </thead>\n",
              "  <tbody>\n",
              "    <tr>\n",
              "      <th>NONE</th>\n",
              "      <td>0.000000</td>\n",
              "      <td>0.000000</td>\n",
              "    </tr>\n",
              "    <tr>\n",
              "      <th>MORTGAGE</th>\n",
              "      <td>13.528171</td>\n",
              "      <td>0.000000</td>\n",
              "    </tr>\n",
              "    <tr>\n",
              "      <th>OWN</th>\n",
              "      <td>14.440433</td>\n",
              "      <td>6.743425</td>\n",
              "    </tr>\n",
              "    <tr>\n",
              "      <th>RENT</th>\n",
              "      <td>15.134418</td>\n",
              "      <td>4.805841</td>\n",
              "    </tr>\n",
              "    <tr>\n",
              "      <th>OTHER</th>\n",
              "      <td>18.367347</td>\n",
              "      <td>21.361439</td>\n",
              "    </tr>\n",
              "  </tbody>\n",
              "</table>\n",
              "</div>\n",
              "      <button class=\"colab-df-convert\" onclick=\"convertToInteractive('df-9de4e77b-4a8f-47b9-b59b-47432dfd7c35')\"\n",
              "              title=\"Convert this dataframe to an interactive table.\"\n",
              "              style=\"display:none;\">\n",
              "        \n",
              "  <svg xmlns=\"http://www.w3.org/2000/svg\" height=\"24px\"viewBox=\"0 0 24 24\"\n",
              "       width=\"24px\">\n",
              "    <path d=\"M0 0h24v24H0V0z\" fill=\"none\"/>\n",
              "    <path d=\"M18.56 5.44l.94 2.06.94-2.06 2.06-.94-2.06-.94-.94-2.06-.94 2.06-2.06.94zm-11 1L8.5 8.5l.94-2.06 2.06-.94-2.06-.94L8.5 2.5l-.94 2.06-2.06.94zm10 10l.94 2.06.94-2.06 2.06-.94-2.06-.94-.94-2.06-.94 2.06-2.06.94z\"/><path d=\"M17.41 7.96l-1.37-1.37c-.4-.4-.92-.59-1.43-.59-.52 0-1.04.2-1.43.59L10.3 9.45l-7.72 7.72c-.78.78-.78 2.05 0 2.83L4 21.41c.39.39.9.59 1.41.59.51 0 1.02-.2 1.41-.59l7.78-7.78 2.81-2.81c.8-.78.8-2.07 0-2.86zM5.41 20L4 18.59l7.72-7.72 1.47 1.35L5.41 20z\"/>\n",
              "  </svg>\n",
              "      </button>\n",
              "      \n",
              "  <style>\n",
              "    .colab-df-container {\n",
              "      display:flex;\n",
              "      flex-wrap:wrap;\n",
              "      gap: 12px;\n",
              "    }\n",
              "\n",
              "    .colab-df-convert {\n",
              "      background-color: #E8F0FE;\n",
              "      border: none;\n",
              "      border-radius: 50%;\n",
              "      cursor: pointer;\n",
              "      display: none;\n",
              "      fill: #1967D2;\n",
              "      height: 32px;\n",
              "      padding: 0 0 0 0;\n",
              "      width: 32px;\n",
              "    }\n",
              "\n",
              "    .colab-df-convert:hover {\n",
              "      background-color: #E2EBFA;\n",
              "      box-shadow: 0px 1px 2px rgba(60, 64, 67, 0.3), 0px 1px 3px 1px rgba(60, 64, 67, 0.15);\n",
              "      fill: #174EA6;\n",
              "    }\n",
              "\n",
              "    [theme=dark] .colab-df-convert {\n",
              "      background-color: #3B4455;\n",
              "      fill: #D2E3FC;\n",
              "    }\n",
              "\n",
              "    [theme=dark] .colab-df-convert:hover {\n",
              "      background-color: #434B5C;\n",
              "      box-shadow: 0px 1px 3px 1px rgba(0, 0, 0, 0.15);\n",
              "      filter: drop-shadow(0px 1px 2px rgba(0, 0, 0, 0.3));\n",
              "      fill: #FFFFFF;\n",
              "    }\n",
              "  </style>\n",
              "\n",
              "      <script>\n",
              "        const buttonEl =\n",
              "          document.querySelector('#df-9de4e77b-4a8f-47b9-b59b-47432dfd7c35 button.colab-df-convert');\n",
              "        buttonEl.style.display =\n",
              "          google.colab.kernel.accessAllowed ? 'block' : 'none';\n",
              "\n",
              "        async function convertToInteractive(key) {\n",
              "          const element = document.querySelector('#df-9de4e77b-4a8f-47b9-b59b-47432dfd7c35');\n",
              "          const dataTable =\n",
              "            await google.colab.kernel.invokeFunction('convertToInteractive',\n",
              "                                                     [key], {});\n",
              "          if (!dataTable) return;\n",
              "\n",
              "          const docLinkHtml = 'Like what you see? Visit the ' +\n",
              "            '<a target=\"_blank\" href=https://colab.research.google.com/notebooks/data_table.ipynb>data table notebook</a>'\n",
              "            + ' to learn more about interactive tables.';\n",
              "          element.innerHTML = '';\n",
              "          dataTable['output_type'] = 'display_data';\n",
              "          await google.colab.output.renderOutput(dataTable, element);\n",
              "          const docLink = document.createElement('div');\n",
              "          docLink.innerHTML = docLinkHtml;\n",
              "          element.appendChild(docLink);\n",
              "        }\n",
              "      </script>\n",
              "    </div>\n",
              "  </div>\n",
              "  "
            ]
          },
          "metadata": {}
        }
      ]
    },
    {
      "cell_type": "code",
      "source": [
        "dr_by_cat('verification_status')"
      ],
      "metadata": {
        "colab": {
          "base_uri": "https://localhost:8080/",
          "height": 175
        },
        "id": "KLHrsYiqT-UE",
        "outputId": "7751189f-5018-45f4-8d77-e0999e98185a"
      },
      "execution_count": null,
      "outputs": [
        {
          "output_type": "display_data",
          "data": {
            "text/plain": [
              "                     loan_status  runn_diff\n",
              "verification_status                        \n",
              "Not Verified           12.587541   0.000000\n",
              "Source Verified        14.704024  16.814103\n",
              "Verified               16.598709  12.885488"
            ],
            "text/html": [
              "\n",
              "  <div id=\"df-5a394981-0d57-47cf-b0b2-0cccb1ce1f2a\">\n",
              "    <div class=\"colab-df-container\">\n",
              "      <div>\n",
              "<style scoped>\n",
              "    .dataframe tbody tr th:only-of-type {\n",
              "        vertical-align: middle;\n",
              "    }\n",
              "\n",
              "    .dataframe tbody tr th {\n",
              "        vertical-align: top;\n",
              "    }\n",
              "\n",
              "    .dataframe thead th {\n",
              "        text-align: right;\n",
              "    }\n",
              "</style>\n",
              "<table border=\"1\" class=\"dataframe\">\n",
              "  <thead>\n",
              "    <tr style=\"text-align: right;\">\n",
              "      <th></th>\n",
              "      <th>loan_status</th>\n",
              "      <th>runn_diff</th>\n",
              "    </tr>\n",
              "    <tr>\n",
              "      <th>verification_status</th>\n",
              "      <th></th>\n",
              "      <th></th>\n",
              "    </tr>\n",
              "  </thead>\n",
              "  <tbody>\n",
              "    <tr>\n",
              "      <th>Not Verified</th>\n",
              "      <td>12.587541</td>\n",
              "      <td>0.000000</td>\n",
              "    </tr>\n",
              "    <tr>\n",
              "      <th>Source Verified</th>\n",
              "      <td>14.704024</td>\n",
              "      <td>16.814103</td>\n",
              "    </tr>\n",
              "    <tr>\n",
              "      <th>Verified</th>\n",
              "      <td>16.598709</td>\n",
              "      <td>12.885488</td>\n",
              "    </tr>\n",
              "  </tbody>\n",
              "</table>\n",
              "</div>\n",
              "      <button class=\"colab-df-convert\" onclick=\"convertToInteractive('df-5a394981-0d57-47cf-b0b2-0cccb1ce1f2a')\"\n",
              "              title=\"Convert this dataframe to an interactive table.\"\n",
              "              style=\"display:none;\">\n",
              "        \n",
              "  <svg xmlns=\"http://www.w3.org/2000/svg\" height=\"24px\"viewBox=\"0 0 24 24\"\n",
              "       width=\"24px\">\n",
              "    <path d=\"M0 0h24v24H0V0z\" fill=\"none\"/>\n",
              "    <path d=\"M18.56 5.44l.94 2.06.94-2.06 2.06-.94-2.06-.94-.94-2.06-.94 2.06-2.06.94zm-11 1L8.5 8.5l.94-2.06 2.06-.94-2.06-.94L8.5 2.5l-.94 2.06-2.06.94zm10 10l.94 2.06.94-2.06 2.06-.94-2.06-.94-.94-2.06-.94 2.06-2.06.94z\"/><path d=\"M17.41 7.96l-1.37-1.37c-.4-.4-.92-.59-1.43-.59-.52 0-1.04.2-1.43.59L10.3 9.45l-7.72 7.72c-.78.78-.78 2.05 0 2.83L4 21.41c.39.39.9.59 1.41.59.51 0 1.02-.2 1.41-.59l7.78-7.78 2.81-2.81c.8-.78.8-2.07 0-2.86zM5.41 20L4 18.59l7.72-7.72 1.47 1.35L5.41 20z\"/>\n",
              "  </svg>\n",
              "      </button>\n",
              "      \n",
              "  <style>\n",
              "    .colab-df-container {\n",
              "      display:flex;\n",
              "      flex-wrap:wrap;\n",
              "      gap: 12px;\n",
              "    }\n",
              "\n",
              "    .colab-df-convert {\n",
              "      background-color: #E8F0FE;\n",
              "      border: none;\n",
              "      border-radius: 50%;\n",
              "      cursor: pointer;\n",
              "      display: none;\n",
              "      fill: #1967D2;\n",
              "      height: 32px;\n",
              "      padding: 0 0 0 0;\n",
              "      width: 32px;\n",
              "    }\n",
              "\n",
              "    .colab-df-convert:hover {\n",
              "      background-color: #E2EBFA;\n",
              "      box-shadow: 0px 1px 2px rgba(60, 64, 67, 0.3), 0px 1px 3px 1px rgba(60, 64, 67, 0.15);\n",
              "      fill: #174EA6;\n",
              "    }\n",
              "\n",
              "    [theme=dark] .colab-df-convert {\n",
              "      background-color: #3B4455;\n",
              "      fill: #D2E3FC;\n",
              "    }\n",
              "\n",
              "    [theme=dark] .colab-df-convert:hover {\n",
              "      background-color: #434B5C;\n",
              "      box-shadow: 0px 1px 3px 1px rgba(0, 0, 0, 0.15);\n",
              "      filter: drop-shadow(0px 1px 2px rgba(0, 0, 0, 0.3));\n",
              "      fill: #FFFFFF;\n",
              "    }\n",
              "  </style>\n",
              "\n",
              "      <script>\n",
              "        const buttonEl =\n",
              "          document.querySelector('#df-5a394981-0d57-47cf-b0b2-0cccb1ce1f2a button.colab-df-convert');\n",
              "        buttonEl.style.display =\n",
              "          google.colab.kernel.accessAllowed ? 'block' : 'none';\n",
              "\n",
              "        async function convertToInteractive(key) {\n",
              "          const element = document.querySelector('#df-5a394981-0d57-47cf-b0b2-0cccb1ce1f2a');\n",
              "          const dataTable =\n",
              "            await google.colab.kernel.invokeFunction('convertToInteractive',\n",
              "                                                     [key], {});\n",
              "          if (!dataTable) return;\n",
              "\n",
              "          const docLinkHtml = 'Like what you see? Visit the ' +\n",
              "            '<a target=\"_blank\" href=https://colab.research.google.com/notebooks/data_table.ipynb>data table notebook</a>'\n",
              "            + ' to learn more about interactive tables.';\n",
              "          element.innerHTML = '';\n",
              "          dataTable['output_type'] = 'display_data';\n",
              "          await google.colab.output.renderOutput(dataTable, element);\n",
              "          const docLink = document.createElement('div');\n",
              "          docLink.innerHTML = docLinkHtml;\n",
              "          element.appendChild(docLink);\n",
              "        }\n",
              "      </script>\n",
              "    </div>\n",
              "  </div>\n",
              "  "
            ]
          },
          "metadata": {}
        }
      ]
    },
    {
      "cell_type": "code",
      "source": [
        "dr_by_cat('grade')"
      ],
      "metadata": {
        "colab": {
          "base_uri": "https://localhost:8080/",
          "height": 300
        },
        "id": "cwuLg_uoUD_3",
        "outputId": "bf0fdd4e-0f20-47e0-face-713d7a8ee4ba"
      },
      "execution_count": null,
      "outputs": [
        {
          "output_type": "display_data",
          "data": {
            "text/plain": [
              "       loan_status   runn_diff\n",
              "grade                         \n",
              "A         5.776398    0.000000\n",
              "B        11.928867  106.510493\n",
              "C        16.794889   40.791984\n",
              "D        21.791524   29.750932\n",
              "E        26.717557   22.605270\n",
              "F        32.638165   22.159988\n",
              "G        33.557047    2.815361"
            ],
            "text/html": [
              "\n",
              "  <div id=\"df-fec55996-a408-47b5-990b-68c959db28db\">\n",
              "    <div class=\"colab-df-container\">\n",
              "      <div>\n",
              "<style scoped>\n",
              "    .dataframe tbody tr th:only-of-type {\n",
              "        vertical-align: middle;\n",
              "    }\n",
              "\n",
              "    .dataframe tbody tr th {\n",
              "        vertical-align: top;\n",
              "    }\n",
              "\n",
              "    .dataframe thead th {\n",
              "        text-align: right;\n",
              "    }\n",
              "</style>\n",
              "<table border=\"1\" class=\"dataframe\">\n",
              "  <thead>\n",
              "    <tr style=\"text-align: right;\">\n",
              "      <th></th>\n",
              "      <th>loan_status</th>\n",
              "      <th>runn_diff</th>\n",
              "    </tr>\n",
              "    <tr>\n",
              "      <th>grade</th>\n",
              "      <th></th>\n",
              "      <th></th>\n",
              "    </tr>\n",
              "  </thead>\n",
              "  <tbody>\n",
              "    <tr>\n",
              "      <th>A</th>\n",
              "      <td>5.776398</td>\n",
              "      <td>0.000000</td>\n",
              "    </tr>\n",
              "    <tr>\n",
              "      <th>B</th>\n",
              "      <td>11.928867</td>\n",
              "      <td>106.510493</td>\n",
              "    </tr>\n",
              "    <tr>\n",
              "      <th>C</th>\n",
              "      <td>16.794889</td>\n",
              "      <td>40.791984</td>\n",
              "    </tr>\n",
              "    <tr>\n",
              "      <th>D</th>\n",
              "      <td>21.791524</td>\n",
              "      <td>29.750932</td>\n",
              "    </tr>\n",
              "    <tr>\n",
              "      <th>E</th>\n",
              "      <td>26.717557</td>\n",
              "      <td>22.605270</td>\n",
              "    </tr>\n",
              "    <tr>\n",
              "      <th>F</th>\n",
              "      <td>32.638165</td>\n",
              "      <td>22.159988</td>\n",
              "    </tr>\n",
              "    <tr>\n",
              "      <th>G</th>\n",
              "      <td>33.557047</td>\n",
              "      <td>2.815361</td>\n",
              "    </tr>\n",
              "  </tbody>\n",
              "</table>\n",
              "</div>\n",
              "      <button class=\"colab-df-convert\" onclick=\"convertToInteractive('df-fec55996-a408-47b5-990b-68c959db28db')\"\n",
              "              title=\"Convert this dataframe to an interactive table.\"\n",
              "              style=\"display:none;\">\n",
              "        \n",
              "  <svg xmlns=\"http://www.w3.org/2000/svg\" height=\"24px\"viewBox=\"0 0 24 24\"\n",
              "       width=\"24px\">\n",
              "    <path d=\"M0 0h24v24H0V0z\" fill=\"none\"/>\n",
              "    <path d=\"M18.56 5.44l.94 2.06.94-2.06 2.06-.94-2.06-.94-.94-2.06-.94 2.06-2.06.94zm-11 1L8.5 8.5l.94-2.06 2.06-.94-2.06-.94L8.5 2.5l-.94 2.06-2.06.94zm10 10l.94 2.06.94-2.06 2.06-.94-2.06-.94-.94-2.06-.94 2.06-2.06.94z\"/><path d=\"M17.41 7.96l-1.37-1.37c-.4-.4-.92-.59-1.43-.59-.52 0-1.04.2-1.43.59L10.3 9.45l-7.72 7.72c-.78.78-.78 2.05 0 2.83L4 21.41c.39.39.9.59 1.41.59.51 0 1.02-.2 1.41-.59l7.78-7.78 2.81-2.81c.8-.78.8-2.07 0-2.86zM5.41 20L4 18.59l7.72-7.72 1.47 1.35L5.41 20z\"/>\n",
              "  </svg>\n",
              "      </button>\n",
              "      \n",
              "  <style>\n",
              "    .colab-df-container {\n",
              "      display:flex;\n",
              "      flex-wrap:wrap;\n",
              "      gap: 12px;\n",
              "    }\n",
              "\n",
              "    .colab-df-convert {\n",
              "      background-color: #E8F0FE;\n",
              "      border: none;\n",
              "      border-radius: 50%;\n",
              "      cursor: pointer;\n",
              "      display: none;\n",
              "      fill: #1967D2;\n",
              "      height: 32px;\n",
              "      padding: 0 0 0 0;\n",
              "      width: 32px;\n",
              "    }\n",
              "\n",
              "    .colab-df-convert:hover {\n",
              "      background-color: #E2EBFA;\n",
              "      box-shadow: 0px 1px 2px rgba(60, 64, 67, 0.3), 0px 1px 3px 1px rgba(60, 64, 67, 0.15);\n",
              "      fill: #174EA6;\n",
              "    }\n",
              "\n",
              "    [theme=dark] .colab-df-convert {\n",
              "      background-color: #3B4455;\n",
              "      fill: #D2E3FC;\n",
              "    }\n",
              "\n",
              "    [theme=dark] .colab-df-convert:hover {\n",
              "      background-color: #434B5C;\n",
              "      box-shadow: 0px 1px 3px 1px rgba(0, 0, 0, 0.15);\n",
              "      filter: drop-shadow(0px 1px 2px rgba(0, 0, 0, 0.3));\n",
              "      fill: #FFFFFF;\n",
              "    }\n",
              "  </style>\n",
              "\n",
              "      <script>\n",
              "        const buttonEl =\n",
              "          document.querySelector('#df-fec55996-a408-47b5-990b-68c959db28db button.colab-df-convert');\n",
              "        buttonEl.style.display =\n",
              "          google.colab.kernel.accessAllowed ? 'block' : 'none';\n",
              "\n",
              "        async function convertToInteractive(key) {\n",
              "          const element = document.querySelector('#df-fec55996-a408-47b5-990b-68c959db28db');\n",
              "          const dataTable =\n",
              "            await google.colab.kernel.invokeFunction('convertToInteractive',\n",
              "                                                     [key], {});\n",
              "          if (!dataTable) return;\n",
              "\n",
              "          const docLinkHtml = 'Like what you see? Visit the ' +\n",
              "            '<a target=\"_blank\" href=https://colab.research.google.com/notebooks/data_table.ipynb>data table notebook</a>'\n",
              "            + ' to learn more about interactive tables.';\n",
              "          element.innerHTML = '';\n",
              "          dataTable['output_type'] = 'display_data';\n",
              "          await google.colab.output.renderOutput(dataTable, element);\n",
              "          const docLink = document.createElement('div');\n",
              "          docLink.innerHTML = docLinkHtml;\n",
              "          element.appendChild(docLink);\n",
              "        }\n",
              "      </script>\n",
              "    </div>\n",
              "  </div>\n",
              "  "
            ]
          },
          "metadata": {}
        }
      ]
    },
    {
      "cell_type": "code",
      "source": [
        "dr_by_cat('purpose')"
      ],
      "metadata": {
        "colab": {
          "base_uri": "https://localhost:8080/",
          "height": 519
        },
        "id": "g9OsnXHIUOlz",
        "outputId": "c2d1135e-b3f4-45f4-af6a-a6bdb09c2559"
      },
      "execution_count": null,
      "outputs": [
        {
          "output_type": "display_data",
          "data": {
            "text/plain": [
              "                    loan_status  runn_diff\n",
              "purpose                                   \n",
              "wedding               10.076670   0.000000\n",
              "major_purchase        10.144231   0.670464\n",
              "credit_card           10.410288   2.622742\n",
              "car                   10.704420   2.825398\n",
              "home_improvement      11.849192  10.694388\n",
              "vacation              14.367816  21.255660\n",
              "debt_consolidation    15.157001   5.492730\n",
              "moving                15.217391   0.398429\n",
              "medical               15.396341   1.175958\n",
              "other                 16.051710   4.256652\n",
              "educational           16.403785   2.193382\n",
              "house                 16.666667   1.602564\n",
              "renewable_energy      19.148936  14.893617\n",
              "small_business        27.017544  41.091618"
            ],
            "text/html": [
              "\n",
              "  <div id=\"df-0263ddb8-b230-4006-b44d-9f6d03422b2c\">\n",
              "    <div class=\"colab-df-container\">\n",
              "      <div>\n",
              "<style scoped>\n",
              "    .dataframe tbody tr th:only-of-type {\n",
              "        vertical-align: middle;\n",
              "    }\n",
              "\n",
              "    .dataframe tbody tr th {\n",
              "        vertical-align: top;\n",
              "    }\n",
              "\n",
              "    .dataframe thead th {\n",
              "        text-align: right;\n",
              "    }\n",
              "</style>\n",
              "<table border=\"1\" class=\"dataframe\">\n",
              "  <thead>\n",
              "    <tr style=\"text-align: right;\">\n",
              "      <th></th>\n",
              "      <th>loan_status</th>\n",
              "      <th>runn_diff</th>\n",
              "    </tr>\n",
              "    <tr>\n",
              "      <th>purpose</th>\n",
              "      <th></th>\n",
              "      <th></th>\n",
              "    </tr>\n",
              "  </thead>\n",
              "  <tbody>\n",
              "    <tr>\n",
              "      <th>wedding</th>\n",
              "      <td>10.076670</td>\n",
              "      <td>0.000000</td>\n",
              "    </tr>\n",
              "    <tr>\n",
              "      <th>major_purchase</th>\n",
              "      <td>10.144231</td>\n",
              "      <td>0.670464</td>\n",
              "    </tr>\n",
              "    <tr>\n",
              "      <th>credit_card</th>\n",
              "      <td>10.410288</td>\n",
              "      <td>2.622742</td>\n",
              "    </tr>\n",
              "    <tr>\n",
              "      <th>car</th>\n",
              "      <td>10.704420</td>\n",
              "      <td>2.825398</td>\n",
              "    </tr>\n",
              "    <tr>\n",
              "      <th>home_improvement</th>\n",
              "      <td>11.849192</td>\n",
              "      <td>10.694388</td>\n",
              "    </tr>\n",
              "    <tr>\n",
              "      <th>vacation</th>\n",
              "      <td>14.367816</td>\n",
              "      <td>21.255660</td>\n",
              "    </tr>\n",
              "    <tr>\n",
              "      <th>debt_consolidation</th>\n",
              "      <td>15.157001</td>\n",
              "      <td>5.492730</td>\n",
              "    </tr>\n",
              "    <tr>\n",
              "      <th>moving</th>\n",
              "      <td>15.217391</td>\n",
              "      <td>0.398429</td>\n",
              "    </tr>\n",
              "    <tr>\n",
              "      <th>medical</th>\n",
              "      <td>15.396341</td>\n",
              "      <td>1.175958</td>\n",
              "    </tr>\n",
              "    <tr>\n",
              "      <th>other</th>\n",
              "      <td>16.051710</td>\n",
              "      <td>4.256652</td>\n",
              "    </tr>\n",
              "    <tr>\n",
              "      <th>educational</th>\n",
              "      <td>16.403785</td>\n",
              "      <td>2.193382</td>\n",
              "    </tr>\n",
              "    <tr>\n",
              "      <th>house</th>\n",
              "      <td>16.666667</td>\n",
              "      <td>1.602564</td>\n",
              "    </tr>\n",
              "    <tr>\n",
              "      <th>renewable_energy</th>\n",
              "      <td>19.148936</td>\n",
              "      <td>14.893617</td>\n",
              "    </tr>\n",
              "    <tr>\n",
              "      <th>small_business</th>\n",
              "      <td>27.017544</td>\n",
              "      <td>41.091618</td>\n",
              "    </tr>\n",
              "  </tbody>\n",
              "</table>\n",
              "</div>\n",
              "      <button class=\"colab-df-convert\" onclick=\"convertToInteractive('df-0263ddb8-b230-4006-b44d-9f6d03422b2c')\"\n",
              "              title=\"Convert this dataframe to an interactive table.\"\n",
              "              style=\"display:none;\">\n",
              "        \n",
              "  <svg xmlns=\"http://www.w3.org/2000/svg\" height=\"24px\"viewBox=\"0 0 24 24\"\n",
              "       width=\"24px\">\n",
              "    <path d=\"M0 0h24v24H0V0z\" fill=\"none\"/>\n",
              "    <path d=\"M18.56 5.44l.94 2.06.94-2.06 2.06-.94-2.06-.94-.94-2.06-.94 2.06-2.06.94zm-11 1L8.5 8.5l.94-2.06 2.06-.94-2.06-.94L8.5 2.5l-.94 2.06-2.06.94zm10 10l.94 2.06.94-2.06 2.06-.94-2.06-.94-.94-2.06-.94 2.06-2.06.94z\"/><path d=\"M17.41 7.96l-1.37-1.37c-.4-.4-.92-.59-1.43-.59-.52 0-1.04.2-1.43.59L10.3 9.45l-7.72 7.72c-.78.78-.78 2.05 0 2.83L4 21.41c.39.39.9.59 1.41.59.51 0 1.02-.2 1.41-.59l7.78-7.78 2.81-2.81c.8-.78.8-2.07 0-2.86zM5.41 20L4 18.59l7.72-7.72 1.47 1.35L5.41 20z\"/>\n",
              "  </svg>\n",
              "      </button>\n",
              "      \n",
              "  <style>\n",
              "    .colab-df-container {\n",
              "      display:flex;\n",
              "      flex-wrap:wrap;\n",
              "      gap: 12px;\n",
              "    }\n",
              "\n",
              "    .colab-df-convert {\n",
              "      background-color: #E8F0FE;\n",
              "      border: none;\n",
              "      border-radius: 50%;\n",
              "      cursor: pointer;\n",
              "      display: none;\n",
              "      fill: #1967D2;\n",
              "      height: 32px;\n",
              "      padding: 0 0 0 0;\n",
              "      width: 32px;\n",
              "    }\n",
              "\n",
              "    .colab-df-convert:hover {\n",
              "      background-color: #E2EBFA;\n",
              "      box-shadow: 0px 1px 2px rgba(60, 64, 67, 0.3), 0px 1px 3px 1px rgba(60, 64, 67, 0.15);\n",
              "      fill: #174EA6;\n",
              "    }\n",
              "\n",
              "    [theme=dark] .colab-df-convert {\n",
              "      background-color: #3B4455;\n",
              "      fill: #D2E3FC;\n",
              "    }\n",
              "\n",
              "    [theme=dark] .colab-df-convert:hover {\n",
              "      background-color: #434B5C;\n",
              "      box-shadow: 0px 1px 3px 1px rgba(0, 0, 0, 0.15);\n",
              "      filter: drop-shadow(0px 1px 2px rgba(0, 0, 0, 0.3));\n",
              "      fill: #FFFFFF;\n",
              "    }\n",
              "  </style>\n",
              "\n",
              "      <script>\n",
              "        const buttonEl =\n",
              "          document.querySelector('#df-0263ddb8-b230-4006-b44d-9f6d03422b2c button.colab-df-convert');\n",
              "        buttonEl.style.display =\n",
              "          google.colab.kernel.accessAllowed ? 'block' : 'none';\n",
              "\n",
              "        async function convertToInteractive(key) {\n",
              "          const element = document.querySelector('#df-0263ddb8-b230-4006-b44d-9f6d03422b2c');\n",
              "          const dataTable =\n",
              "            await google.colab.kernel.invokeFunction('convertToInteractive',\n",
              "                                                     [key], {});\n",
              "          if (!dataTable) return;\n",
              "\n",
              "          const docLinkHtml = 'Like what you see? Visit the ' +\n",
              "            '<a target=\"_blank\" href=https://colab.research.google.com/notebooks/data_table.ipynb>data table notebook</a>'\n",
              "            + ' to learn more about interactive tables.';\n",
              "          element.innerHTML = '';\n",
              "          dataTable['output_type'] = 'display_data';\n",
              "          await google.colab.output.renderOutput(dataTable, element);\n",
              "          const docLink = document.createElement('div');\n",
              "          docLink.innerHTML = docLinkHtml;\n",
              "          element.appendChild(docLink);\n",
              "        }\n",
              "      </script>\n",
              "    </div>\n",
              "  </div>\n",
              "  "
            ]
          },
          "metadata": {}
        }
      ]
    },
    {
      "cell_type": "markdown",
      "source": [
        "Our analysis is done. Based on this analysis, we have shortlisted 'x' parameters that affect the defaulting of a loan or not. These are -\n",
        "\n",
        "- verification_status\n",
        "- debt to income ratio (dti)\n",
        "- public bankruptcy records\n",
        "- tenure\n",
        "- grades and sub-grades\n",
        "- loan amount\n",
        "- interest rate\n",
        "- installments\n",
        "- date of issue\n",
        "- purpose \n",
        "- annual income\n",
        "- home ownership\n",
        "- funded_amnt\n",
        "\n",
        "Based on the analysis, let us write some conclusions and recommendations now. "
      ],
      "metadata": {
        "id": "gG_CoCySVdLo"
      }
    },
    {
      "cell_type": "markdown",
      "source": [
        "# Conclusions and Recommendations"
      ],
      "metadata": {
        "id": "n-oPWw4zaO--"
      }
    },
    {
      "cell_type": "markdown",
      "source": [
        "## Conclusions"
      ],
      "metadata": {
        "id": "PvoN4wX9aZ6a"
      }
    },
    {
      "cell_type": "markdown",
      "source": [
        "On the basis of our data analysis, we can conclude the following - \n",
        "\n",
        "1. There are total __13 parameters__, out of 111, that influence the defaulter rates in a significant way. This is just around 10% of the total parameters !\n",
        "2. Out of these parameters, there are some parameters that directly affect the defaulter rates, whereas some parameters, when combined with other parameters, affect them. \n",
        "3. The standalone parameters that influence the defaulter rates are - __home ownership__, __public bankruptcy records__, __debt to income ratio__, __verification status__, __annual income__, __grades and subgrades__, __tenure (term of loan)__, __loan amount__, __interest rate__ and __installments__. \n",
        "4. The parameters that affect by combinations are - __issue date__ (month with year), __purpose__ with __home ownership__, __average funding amount__ with __grade__, and __annual income__ with __home ownership__."
      ],
      "metadata": {
        "id": "7f3Y-yf_ahRX"
      }
    },
    {
      "cell_type": "markdown",
      "source": [
        "## Recommendations"
      ],
      "metadata": {
        "id": "Nm1noun0b4UD"
      }
    },
    {
      "cell_type": "markdown",
      "source": [
        "On the basis of our Conclusions, the recommendations to the Lending Club are - \n",
        "\n",
        "1. There are __many parameters that are not even needed__ for our analysis, at least in this context. __Removing them__ from this particular data set will go a long way in making things easier for analysis.\n",
        "2. Most of the __standalone parameters have a positive effect__ on the defaulter rates, i.e. when they increase, the defaulter rates also increase. __Controlling them to the best limit possible__ will help in reducing the credit loss. \n",
        "3. The __combinator parameters__ need to be studied some more to properly understand how they are exactly affecting the defaulter rates, and __have to be controlled / optimized__ accordingly."
      ],
      "metadata": {
        "id": "fw6QySa6b6lJ"
      }
    },
    {
      "cell_type": "markdown",
      "source": [
        "Thank you, \n",
        "\n",
        "Yash Jain"
      ],
      "metadata": {
        "id": "yh0luQBidGQG"
      }
    }
  ],
  "metadata": {
    "kernelspec": {
      "display_name": "Python 3",
      "language": "python",
      "name": "python3"
    },
    "language_info": {
      "codemirror_mode": {
        "name": "ipython",
        "version": 3
      },
      "file_extension": ".py",
      "mimetype": "text/x-python",
      "name": "python",
      "nbconvert_exporter": "python",
      "pygments_lexer": "ipython3",
      "version": "3.7.7"
    },
    "colab": {
      "provenance": [],
      "collapsed_sections": [
        "sUqSArROM7Hr",
        "YOSwrO52M7H1",
        "PFLZ8XQFM7H3",
        "lDdx6QRDM7ID",
        "jOKya8L6M7IF",
        "3N6BLRXbTOdq",
        "ocrWQJRCXCGp",
        "n-oPWw4zaO--"
      ],
      "include_colab_link": true
    }
  },
  "nbformat": 4,
  "nbformat_minor": 0
}
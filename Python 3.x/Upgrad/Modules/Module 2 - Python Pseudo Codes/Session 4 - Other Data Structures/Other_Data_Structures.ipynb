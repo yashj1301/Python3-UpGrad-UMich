{
 "cells": [
  {
   "cell_type": "markdown",
   "metadata": {
    "id": "Zj0nafAr70N4"
   },
   "source": [
    "## Other Data Structures"
   ]
  },
  {
   "cell_type": "markdown",
   "metadata": {
    "id": "LLUXqgLq78j-",
    "jp-MarkdownHeadingCollapsed": true,
    "tags": []
   },
   "source": [
    "#### Extracting a List of Unique Elements"
   ]
  },
  {
   "cell_type": "markdown",
   "metadata": {
    "id": "yBmJDmlH9p4O"
   },
   "source": [
    "__Using Dictionaries__"
   ]
  },
  {
   "cell_type": "code",
   "execution_count": null,
   "metadata": {
    "colab": {
     "base_uri": "https://localhost:8080/"
    },
    "id": "0oI1RufVwAg3",
    "outputId": "3169611d-d3b4-48a9-e6c5-832ba0b85ed2"
   },
   "outputs": [
    {
     "name": "stdin",
     "output_type": "stream",
     "text": [
      "enter the list: [2,3,4,2,6,7,1,2,5,3,7,2,5,4]\n"
     ]
    },
    {
     "name": "stdout",
     "output_type": "stream",
     "text": [
      "\n",
      "[2, 3, 4, 6, 7, 1, 5]\n"
     ]
    }
   ],
   "source": [
    "import ast\n",
    "lis=ast.literal_eval(input('enter the list:'))\n",
    "\n",
    "d={i:lis.count(i) for i in lis}\n",
    "print()\n",
    "print(list(d.keys()))"
   ]
  },
  {
   "cell_type": "markdown",
   "metadata": {
    "id": "0ISvFXAy9vPH"
   },
   "source": [
    "__Using the `sorted()` function with the `set()` constructor__"
   ]
  },
  {
   "cell_type": "code",
   "execution_count": 91,
   "metadata": {
    "colab": {
     "base_uri": "https://localhost:8080/"
    },
    "id": "torx5Itl1XiQ",
    "outputId": "302feb57-181b-4753-b013-64edbc9a47cb"
   },
   "outputs": [
    {
     "data": {
      "text/plain": [
       "[2, 3, 4, 6, 7, 1, 5]"
      ]
     },
     "execution_count": 91,
     "metadata": {},
     "output_type": "execute_result"
    }
   ],
   "source": [
    "sorted(set(lis),key=lis.index)"
   ]
  },
  {
   "cell_type": "markdown",
   "metadata": {
    "id": "iB2pcpvYA_cx",
    "jp-MarkdownHeadingCollapsed": true,
    "tags": []
   },
   "source": [
    "#### List of a Dictionary"
   ]
  },
  {
   "cell_type": "code",
   "execution_count": 462,
   "metadata": {
    "colab": {
     "base_uri": "https://localhost:8080/"
    },
    "id": "3Db14ZvI8rst",
    "outputId": "3ad777c5-f329-418d-c530-1e32dbb1ec8b"
   },
   "outputs": [
    {
     "name": "stdout",
     "output_type": "stream",
     "text": [
      "Enter the dictionary:{'Mobile':['Redmi','Samsung','Realme'],'Laptop':['Dell','HP','Asus','Toshiba'],'TV':['Sony','Videocon']}\n",
      "\n",
      "['Mobile_Redmi', 'Mobile_Samsung', 'Mobile_Realme', 'Laptop_Dell', 'Laptop_HP', 'Laptop_Asus', 'Laptop_Toshiba', 'TV_Sony', 'TV_Videocon'] "
     ]
    }
   ],
   "source": [
    "import ast\n",
    "d1=ast.literal_eval(input('Enter the dictionary:'))\n",
    "\n",
    "l={'{}_{}'.format(i,j) for i in d1 for j in d1[i]]\n",
    "print()\n",
    "print(l,end=' ')"
   ]
  },
  {
   "cell_type": "markdown",
   "metadata": {
    "id": "CBSAyaShbLPj"
   },
   "source": [
    "#### Creating a Dictionary from List (Reverse of the above program)"
   ]
  },
  {
   "cell_type": "code",
   "execution_count": 4,
   "metadata": {
    "colab": {
     "base_uri": "https://localhost:8080/"
    },
    "id": "tvTzCZI-ZGKm",
    "outputId": "58acd7e1-a7c9-4c56-dc99-96d78cacaf90"
   },
   "outputs": [
    {
     "name": "stdin",
     "output_type": "stream",
     "text": [
      "enter the list:  ['Mobile_Redmi','Laptop_Dell', 'Laptop_HP', 'Mobile_Samsung','TV_Sony','Mobile_Realme','Laptop_Asus','Laptop_Toshiba','TV_Videocon']\n"
     ]
    },
    {
     "name": "stdout",
     "output_type": "stream",
     "text": [
      "\n",
      "Final Dictionary:  {'laptop': ['asus', 'dell', 'hp', 'toshiba'], 'mobile': ['realme', 'redmi', 'samsung'], 'tv': ['sony', 'videocon']}\n"
     ]
    }
   ],
   "source": [
    "l = sorted([i.lower() for i in ast.literal_eval(input('enter the list: '))])\n",
    "\n",
    "keys,values=[i.split('_')[0] for i in l],[i.split('_')[1] for i in l]\n",
    "key_size={i:keys.count(i) for i in keys}\n",
    "\n",
    "val=[]\n",
    "for i in key_size.values():\n",
    "    val+=[values[:i]]\n",
    "    del values[:i]\n",
    "\n",
    "final={i:val[j] for i,j in zip(key_size,range(len(val)))}\n",
    "print('\\nFinal Dictionary: ',final)"
   ]
  },
  {
   "cell_type": "markdown",
   "metadata": {
    "id": "6pHZFvA2meF-"
   },
   "source": [
    "#### Checking an UpGrad String"
   ]
  },
  {
   "cell_type": "code",
   "execution_count": 5,
   "metadata": {
    "colab": {
     "base_uri": "https://localhost:8080/"
    },
    "id": "E_srTdY3sI4k",
    "outputId": "5ca014fa-f918-487e-845a-29b0433028e4"
   },
   "outputs": [
    {
     "name": "stdin",
     "output_type": "stream",
     "text": [
      "enter string:  ab#ab#ab6a\n"
     ]
    },
    {
     "name": "stdout",
     "output_type": "stream",
     "text": [
      "\n",
      " True\n"
     ]
    }
   ],
   "source": [
    "string=list(input('enter string: ')) # changing to list\n",
    "count_dict={i:string.count(i) for i in string} # creating a dictionary that has \n",
    "                                                #count of each character as values\n",
    "\n",
    "val_list=list(sorted(count_dict.values())) # creating a sorted list of \n",
    "                                           #the values in the dictionary\n",
    "\n",
    "sorted_dict=dict(sorted(count_dict.items(),key=lambda key: key[1])) # creating a \n",
    "                                                                    #sorted dictionary on \n",
    "                                                                    #the basis of values\n",
    "\n",
    "# creating a difference set which returns all the unique values as \n",
    "#the difference of each element in the values list. Since our sequence needs \n",
    "#to be 1,2,3,4,5...... the set will always return {1} for all true strings. \n",
    "\n",
    "diff_set= set([val_list[i+1] - val_list[i] for i in range(len(val_list)-1)])\n",
    "\n",
    "# creating a flag variable that will contain the value True or False\n",
    "flag= True if diff_set=={1} and val_list[0]==1 else False\n",
    "\n",
    "print('\\n',flag)"
   ]
  },
  {
   "cell_type": "markdown",
   "metadata": {
    "id": "_jnhLgMT21y7"
   },
   "source": [
    "#### Balanced Brackets"
   ]
  },
  {
   "cell_type": "code",
   "execution_count": 7,
   "metadata": {
    "colab": {
     "base_uri": "https://localhost:8080/"
    },
    "id": "FofVn2eW12Su",
    "outputId": "e0e43eec-222c-46a9-8cb3-6f09eddca7da"
   },
   "outputs": [
    {
     "name": "stdin",
     "output_type": "stream",
     "text": [
      "enter the string: [](){[]()(){}}\n"
     ]
    },
    {
     "name": "stdout",
     "output_type": "stream",
     "text": [
      "True\n"
     ]
    }
   ],
   "source": [
    "string=input('enter the string:')\n",
    "\n",
    "stack=[];\n",
    "\n",
    "for i in string:\n",
    "    if len(stack)==0:stack+=[i]\n",
    "    \n",
    "    else:\n",
    "        if i==')' and stack[-1]=='(' or i==']' and stack[-1]=='[' or i=='}' and stack[-1]=='{' : del stack[-1]\n",
    "        else: stack+=[i]\n",
    "\n",
    "if len(stack)>0: print(False)\n",
    "else: print(True)\n"
   ]
  }
 ],
 "metadata": {
  "colab": {
   "name": "Other Data Structures.ipynb",
   "provenance": []
  },
  "kernelspec": {
   "display_name": "Python 3 (ipykernel)",
   "language": "python",
   "name": "python3"
  },
  "language_info": {
   "codemirror_mode": {
    "name": "ipython",
    "version": 3
   },
   "file_extension": ".py",
   "mimetype": "text/x-python",
   "name": "python",
   "nbconvert_exporter": "python",
   "pygments_lexer": "ipython3",
   "version": "3.10.5"
  }
 },
 "nbformat": 4,
 "nbformat_minor": 4
}

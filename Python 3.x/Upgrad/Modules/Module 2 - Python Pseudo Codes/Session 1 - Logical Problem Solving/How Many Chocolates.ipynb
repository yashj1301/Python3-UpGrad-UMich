{
 "cells": [
  {
   "cell_type": "markdown",
   "id": "0dc64fe2-ac76-4d6f-8296-0de1e193597b",
   "metadata": {},
   "source": [
    "## How many Chocolates ?"
   ]
  },
  {
   "cell_type": "markdown",
   "id": "cf717de5-025c-4794-82d2-a63dc9254147",
   "metadata": {},
   "source": [
    "This question is actually a puzzle that some of you must have solved as a kid. Let’s say you have m rupees and one chocolate costs rupees c. The shopkeeper will give you a bar of chocolate for free if you give him three wrappers. Can you determine how many chocolates can you get with the m rupees you have?"
   ]
  },
  {
   "cell_type": "markdown",
   "id": "0125c57b-a7a5-4809-9efc-86f6dcb82b4d",
   "metadata": {},
   "source": [
    "The logic is quite simple. You would calculate the number of wrappers and chocolates first. Then, you would create a while loop that would run until the number of wrappers with you are less than 3. Inside the loop, you would update the count of chocolates by adding the number of extra wrappers and then updating the number of wrappers remaining. \n",
    "\n",
    "Let us see the code for this - "
   ]
  },
  {
   "cell_type": "code",
   "execution_count": 3,
   "id": "6892ce51-515f-465a-a4ba-e47bd2a40165",
   "metadata": {},
   "outputs": [
    {
     "name": "stdin",
     "output_type": "stream",
     "text": [
      "enter money: 21\n",
      "enter cost: 4\n",
      "enter number of wrappers: 2\n"
     ]
    },
    {
     "name": "stdout",
     "output_type": "stream",
     "text": [
      "\n",
      "Actual chocolates: 5\n",
      "Extra Chocolates: 4\n",
      "----------------------\n",
      "Total: 9\n",
      "----------------------\n"
     ]
    }
   ],
   "source": [
    "money=int(input('enter money:'))\n",
    "cost=int(input('enter cost:'))\n",
    "wr=int(input('enter number of wrappers:'))\n",
    "\n",
    "wrapper=money//cost\n",
    "choco=money//cost\n",
    "\n",
    "extra=0;\n",
    "\n",
    "# we will run the loop until the number of wrappers remaining are less than 3\n",
    "while wrapper>=wr:\n",
    "    extra+=wrapper//wr; # extra chocolates are number of wrappers floor divided by wr\n",
    "    wrapper=wrapper//wr + wrapper%wr; # wrappers remaining are the wrappers of extra chocolates, remainder wrappers\n",
    "\n",
    "print('\\nActual chocolates: {}\\nExtra Chocolates: {}\\n----------------------\\nTotal: {}\\n----------------------'\n",
    "      .format(choco,extra,choco+extra))"
   ]
  },
  {
   "cell_type": "code",
   "execution_count": null,
   "id": "bf2f4952-c06b-4584-8454-96b69abe9bc9",
   "metadata": {},
   "outputs": [],
   "source": []
  }
 ],
 "metadata": {
  "kernelspec": {
   "display_name": "Python 3 (ipykernel)",
   "language": "python",
   "name": "python3"
  },
  "language_info": {
   "codemirror_mode": {
    "name": "ipython",
    "version": 3
   },
   "file_extension": ".py",
   "mimetype": "text/x-python",
   "name": "python",
   "nbconvert_exporter": "python",
   "pygments_lexer": "ipython3",
   "version": "3.10.5"
  }
 },
 "nbformat": 4,
 "nbformat_minor": 5
}

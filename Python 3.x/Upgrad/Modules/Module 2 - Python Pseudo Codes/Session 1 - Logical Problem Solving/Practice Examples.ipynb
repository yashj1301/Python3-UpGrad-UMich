{
 "cells": [
  {
   "cell_type": "markdown",
   "id": "52ca7528-2e3a-4a09-b66c-6d1841afa95d",
   "metadata": {},
   "source": [
    "## Practice Examples"
   ]
  },
  {
   "cell_type": "markdown",
   "id": "35e2ffa5-5cea-496d-8b60-3f6359bf13c4",
   "metadata": {
    "jp-MarkdownHeadingCollapsed": true,
    "tags": []
   },
   "source": [
    "#### Pattern Printing"
   ]
  },
  {
   "cell_type": "code",
   "execution_count": 90,
   "id": "5c92af3b-2b05-4fd1-b5d6-6dcf6dac6044",
   "metadata": {},
   "outputs": [
    {
     "name": "stdin",
     "output_type": "stream",
     "text": [
      "enter character no: 5\n"
     ]
    },
    {
     "name": "stdout",
     "output_type": "stream",
     "text": [
      "\n",
      "--------e--------\n",
      "------e-d-e------\n",
      "----e-d-c-d-e----\n",
      "--e-d-c-b-c-d-e--\n",
      "e-d-c-b-a-b-c-d-e\n",
      "--e-d-c-b-c-d-e--\n",
      "----e-d-c-d-e----\n",
      "------e-d-e------\n",
      "--------e--------\n"
     ]
    }
   ],
   "source": [
    "n=int(input('enter character no:'))\n",
    "\n",
    "char=['a','b','c','d','e','f','g','h','i','j','k','l','m','n','o','p','q','r','s','t','u','v','w','x','y','z']\n",
    "\n",
    "print()\n",
    "\n",
    "# This loop is for the upper part \n",
    "\n",
    "for i in range(1,n+1):\n",
    "    \n",
    "    # first dashed line\n",
    "    for s in range(n-i):\n",
    "        print('--',end='')\n",
    "        \n",
    "    #decreasing alphabet sequence\n",
    "    for j in range(n-1,n-i,-1):\n",
    "        print(char[j],end='-')\n",
    "        \n",
    "    #increasing alphabet sequence\n",
    "    for k in range(n-i,n):\n",
    "        if k==n-1: print(char[k],end='')\n",
    "        else: print(char[k],end='-')\n",
    "    \n",
    "    #second dashed line\n",
    "    for l in range(n-i):\n",
    "        print('--',end='')\n",
    "           \n",
    "    #inserting line break after each line\n",
    "    print()\n",
    "    \n",
    "# This loop is for the lower part\n",
    "\n",
    "for i in range(n-1,0,-1):\n",
    "    \n",
    "    # first dashed line\n",
    "    for s in range(n-i):\n",
    "        print('--',end='')\n",
    "        \n",
    "    #decreasing alphabet sequence\n",
    "    for j in range(n-1,n-i,-1):\n",
    "        print(char[j],end='-')\n",
    "    \n",
    "    #increasing alphabet sequence\n",
    "    for k in range(n-i,n):\n",
    "        if k==n-1: print(char[k],end='')\n",
    "        else: print(char[k],end='-')\n",
    "    \n",
    "    #second dashed line\n",
    "    for l in range(n-i):\n",
    "        print('--',end='')\n",
    "    \n",
    "    #inserting line break after each line\n",
    "    print()"
   ]
  },
  {
   "cell_type": "markdown",
   "id": "a0a2d24b-c992-4a49-860f-9c88329a6066",
   "metadata": {
    "jp-MarkdownHeadingCollapsed": true,
    "tags": []
   },
   "source": [
    "#### Armstrong Number"
   ]
  },
  {
   "cell_type": "code",
   "execution_count": 121,
   "id": "92dc46c7-45d7-4567-b7b8-50a95d192ea3",
   "metadata": {},
   "outputs": [
    {
     "name": "stdin",
     "output_type": "stream",
     "text": [
      "Enter the number: 153\n"
     ]
    },
    {
     "name": "stdout",
     "output_type": "stream",
     "text": [
      "The given number 153 is an Armstrong number\n"
     ]
    }
   ],
   "source": [
    "n=int(input('Enter the number:'))\n",
    "\n",
    "from functools import reduce\n",
    "\n",
    "num=[ int(i) for i in list(str(n))]\n",
    "num\n",
    "\n",
    "arms= True if reduce(lambda x,y: x+y,list(map(lambda x: x**3,num))) == n else False\n",
    "\n",
    "print('The given number {} is not an Armstrong number'.format(n)) if arms!=True else print('The given number {} is an Armstrong number'.format(n))"
   ]
  },
  {
   "cell_type": "markdown",
   "id": "4b8cd26d-2b7c-4b75-acc8-b84461c93f55",
   "metadata": {
    "jp-MarkdownHeadingCollapsed": true,
    "tags": []
   },
   "source": [
    "#### Fibbonacci Sequence"
   ]
  },
  {
   "cell_type": "code",
   "execution_count": 53,
   "id": "979f3208-6471-4b27-b725-7c44aac61b2e",
   "metadata": {},
   "outputs": [
    {
     "name": "stdin",
     "output_type": "stream",
     "text": [
      "enter number of elements: 8\n"
     ]
    },
    {
     "name": "stdout",
     "output_type": "stream",
     "text": [
      "\n",
      "0\n",
      "1\n",
      "1\n",
      "2\n",
      "3\n",
      "5\n",
      "8\n",
      "13\n"
     ]
    }
   ],
   "source": [
    "n=int(input('enter number of elements:'))\n",
    "\n",
    "fib=[0,1]\n",
    "\n",
    "for i in range(n-2):\n",
    "    fib+=[fib[i]+fib[i+1]]\n",
    "print()\n",
    "if n==1: print(0)\n",
    "else:\n",
    "    for i in fib: print(i)"
   ]
  },
  {
   "cell_type": "markdown",
   "id": "1d373483-9401-4073-a058-2099ca36648d",
   "metadata": {
    "jp-MarkdownHeadingCollapsed": true,
    "tags": []
   },
   "source": [
    "#### Sum of Primes"
   ]
  },
  {
   "cell_type": "code",
   "execution_count": 32,
   "id": "67f286bf-ea52-45e4-b2d4-2b547e2482af",
   "metadata": {},
   "outputs": [
    {
     "name": "stdin",
     "output_type": "stream",
     "text": [
      "Enter the number: 10\n"
     ]
    },
    {
     "name": "stdout",
     "output_type": "stream",
     "text": [
      "17\n"
     ]
    }
   ],
   "source": [
    "n=int(input('Enter the number:'))\n",
    "\n",
    "# finding prime numbers\n",
    "prime=[];\n",
    "from functools import reduce\n",
    "flag=True\n",
    "for i in range(2,n+1):\n",
    "    for j in range(2,i):\n",
    "        if i%j==0:\n",
    "            flag=False\n",
    "            break\n",
    "        else: flag=True\n",
    "    if flag==True: prime+=[i]\n",
    "        \n",
    "#calculating the sum        \n",
    "prime\n",
    "\n",
    "sum_prime=reduce(lambda x,y: x+y,prime)\n",
    "print(sum_prime)"
   ]
  },
  {
   "cell_type": "markdown",
   "id": "7b543178-121c-4800-b057-33aff390e402",
   "metadata": {
    "jp-MarkdownHeadingCollapsed": true,
    "tags": []
   },
   "source": [
    "#### Generalized Chocolate"
   ]
  },
  {
   "cell_type": "code",
   "execution_count": 33,
   "id": "6962633c-c24b-41cd-b086-f91dd762d84f",
   "metadata": {},
   "outputs": [
    {
     "name": "stdin",
     "output_type": "stream",
     "text": [
      "enter: 15,2,3,2\n"
     ]
    },
    {
     "name": "stdout",
     "output_type": "stream",
     "text": [
      "\n",
      "Actual chocolates: 7\n",
      "Extra Chocolates: 10\n",
      "----------------------\n",
      "Total: 17\n",
      "----------------------\n"
     ]
    }
   ],
   "source": [
    "inp=input('enter:')\n",
    "money=int(inp.split(',')[0])\n",
    "cost=int(inp.split(',')[1])\n",
    "wr=int(inp.split(',')[2])\n",
    "ch=int(inp.split(',')[3])\n",
    "\n",
    "extra=0;\n",
    "\n",
    "wrapper=money//cost\n",
    "choco=money//cost\n",
    "\n",
    "# we will run the loop until the number of wrappers remaining are less than wr\n",
    "while wrapper>=wr:\n",
    "    extra+=(wrapper//wr)*ch; # extra chocolates are number of wrappers floor divided by wr\n",
    "    wrapper=(wrapper//wr)*ch + wrapper%wr; # wrappers remaining are the wrappers of extra chocolates, remainder wrappers\n",
    "\n",
    "print('\\nActual chocolates: {}\\nExtra Chocolates: {}\\n----------------------\\nTotal: {}\\n----------------------'\n",
    "      .format(choco,extra,choco+extra))"
   ]
  },
  {
   "cell_type": "code",
   "execution_count": null,
   "id": "d9fba70c-b25d-41fe-9a46-78328907005c",
   "metadata": {},
   "outputs": [],
   "source": []
  }
 ],
 "metadata": {
  "kernelspec": {
   "display_name": "Python 3 (ipykernel)",
   "language": "python",
   "name": "python3"
  },
  "language_info": {
   "codemirror_mode": {
    "name": "ipython",
    "version": 3
   },
   "file_extension": ".py",
   "mimetype": "text/x-python",
   "name": "python",
   "nbconvert_exporter": "python",
   "pygments_lexer": "ipython3",
   "version": "3.10.5"
  }
 },
 "nbformat": 4,
 "nbformat_minor": 5
}

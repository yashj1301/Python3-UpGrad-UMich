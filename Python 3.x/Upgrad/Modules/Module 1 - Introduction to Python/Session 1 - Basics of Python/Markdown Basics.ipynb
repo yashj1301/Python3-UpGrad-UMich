{
 "cells": [
  {
   "cell_type": "markdown",
   "id": "f401c3cd-fb5f-45c0-8d98-3a794e96d228",
   "metadata": {},
   "source": [
    "<h1 style=\"color:red\"> This is How we use Markdown </h1>\n",
    "<hr>"
   ]
  },
  {
   "cell_type": "markdown",
   "id": "2c1d0e10-ec29-42d3-a719-f34396f8f23a",
   "metadata": {},
   "source": [
    "# This is Title"
   ]
  },
  {
   "cell_type": "markdown",
   "id": "65dec6da-47c1-463f-a52d-e4ab8e483751",
   "metadata": {
    "tags": []
   },
   "source": [
    "## This is 1st Level Heading"
   ]
  },
  {
   "cell_type": "markdown",
   "id": "43eb150b-a84f-40ba-95d4-141c74e55ed1",
   "metadata": {
    "tags": []
   },
   "source": [
    "### This is 2nd level Heading"
   ]
  },
  {
   "cell_type": "markdown",
   "id": "5170cbab-f6b8-4e64-bbba-b5892f98a96c",
   "metadata": {},
   "source": [
    "_This is italic Text_<br>\n",
    "__This is bold Text__"
   ]
  },
  {
   "cell_type": "markdown",
   "id": "ef586adf-ea9c-4ac0-9282-e9b1d6ffbd12",
   "metadata": {},
   "source": [
    "`This is a monospace font`"
   ]
  },
  {
   "cell_type": "markdown",
   "id": "e41c0dae-7ed7-4e6e-a4eb-9324d80bfb5b",
   "metadata": {},
   "source": [
    "__This is how we indent text__ <br>\n",
    ">This is closer to the cell <br>\n",
    ">>>>>>This is further away from the cell."
   ]
  },
  {
   "cell_type": "markdown",
   "id": "3acf6652-7bef-486c-b747-36a6b288467e",
   "metadata": {},
   "source": [
    "__Let us make a list__<br>\n",
    "1. Unordered List<br>\n",
    ">- UL List Item 1<br>\n",
    ">- UL List Item 2<br>\n",
    ">- UL List Item 3<br>\n",
    ">- UL List Item 4<br>\n",
    "2. Ordered List<br>\n",
    ">a. OL List Item 1<br>\n",
    ">b. OL List Item 2<br>\n",
    ">c. OL List Item 3<br>\n",
    ">d. OL List Item 4<br>"
   ]
  },
  {
   "cell_type": "markdown",
   "id": "0c45902a-d525-42f0-b40e-edcdd75b3730",
   "metadata": {},
   "source": [
    "<b>This is how we use Styling in Markdown<b><br>\n",
    "<font style=\"border:2px solid #000080; padding:1%\" face=\"bahnschrift\" color=\"#000080\" size=\"50px\"> \n",
    "Styled Text \n",
    "</font>"
   ]
  },
  {
   "cell_type": "markdown",
   "id": "6b311817-234b-46bb-9074-c92ae0ab0a38",
   "metadata": {},
   "source": [
    "<script src='https://cdnjs.cloudflare.com/ajax/libs/mathjax/2.7.4/MathJax.js?config=default'></script>\n",
    "\n",
    "__This is how we add equations in Markdown:__<br>\n",
    "<p style=\"border: 2px solid #000080;\n",
    "          background-color:azure;\n",
    "          font-size:180%;\n",
    "          font-style:normal;\n",
    "          padding:1%;\"> $\\int \\frac{dx}{x} = \\ln{x}$<br>\n",
    "   $ \\binom{n}{k}=\\frac{n!}{k!(n-k)!}$ </p>"
   ]
  },
  {
   "cell_type": "markdown",
   "id": "273e66dd-7041-40e1-b9aa-308cfc5e7978",
   "metadata": {},
   "source": [
    "__Adding Image here__\n",
    "<div><img src=\"https://asset.brandfetch.io/idvsI-ggxm/idtgSNSCEv.png\" height=auto width=50%\n",
    "          style=\"border:5px solid red; padding:1%; border-radius:50px\"></div>"
   ]
  },
  {
   "cell_type": "markdown",
   "id": "e6c58e90-c874-4691-80f4-c5e5684dfab9",
   "metadata": {},
   "source": [
    "# Using Different programming languages (JAVA, Python, Scala) within the same notebook"
   ]
  },
  {
   "cell_type": "markdown",
   "id": "b258221b-e872-4e4f-8c5e-3d056acca745",
   "metadata": {},
   "source": [
    "__JAVA__"
   ]
  },
  {
   "cell_type": "code",
   "execution_count": 4,
   "id": "a8cba91a-e196-4cc9-bed8-4b92c591ecd2",
   "metadata": {},
   "outputs": [
    {
     "name": "stdout",
     "output_type": "stream",
     "text": [
      "The sum of 3 and 5 is: 8\n"
     ]
    }
   ],
   "source": [
    "int x=3;\n",
    "int y=5;\n",
    "System.out.println(\"The sum of \"+x+\" and \"+y+\" is: \"+(x+y));"
   ]
  },
  {
   "cell_type": "markdown",
   "id": "90a1d0f0-1dc7-4ab2-b1f8-e39ecb0d447e",
   "metadata": {},
   "source": [
    "__PYTHON__"
   ]
  },
  {
   "cell_type": "code",
   "execution_count": 1,
   "id": "9ada3778-bf5f-4a3a-a8aa-c6da8317260a",
   "metadata": {},
   "outputs": [
    {
     "name": "stdout",
     "output_type": "stream",
     "text": [
      "The sum of  7  and  9  is  16\n"
     ]
    }
   ],
   "source": [
    "a=7; b=9;\n",
    "print('The sum of ',a,' and ',b,' is ',(a+b));"
   ]
  },
  {
   "cell_type": "markdown",
   "id": "afab09c4-4198-4110-8331-efa7bd406e07",
   "metadata": {},
   "source": [
    "__SCALA__"
   ]
  },
  {
   "cell_type": "code",
   "execution_count": 14,
   "id": "4e3e4f6f-26ad-4a56-904d-bb6011b939f7",
   "metadata": {},
   "outputs": [
    {
     "name": "stdout",
     "output_type": "stream",
     "text": [
      "Sum: 12 and Difference: 4"
     ]
    },
    {
     "data": {
      "text/plain": [
       "x: Int = 8\r\n",
       "y: Int = 4\r\n"
      ]
     },
     "execution_count": 14,
     "metadata": {},
     "output_type": "execute_result"
    }
   ],
   "source": [
    "val x=8;\n",
    "val y=4;\n",
    "\n",
    "print(\"Sum: \"+(x+y)+\" and Difference: \"+(x-y));"
   ]
  },
  {
   "cell_type": "markdown",
   "id": "714d5a7e-d4f3-4692-b4ce-013bfd22b1b6",
   "metadata": {},
   "source": [
    "<hr height=\"40\" width=auto>\n",
    "\n",
    "# THE END\n"
   ]
  }
 ],
 "metadata": {
  "kernelspec": {
   "display_name": "Python 3 (ipykernel)",
   "language": "python",
   "name": "python3"
  },
  "language_info": {
   "codemirror_mode": {
    "name": "ipython",
    "version": 3
   },
   "file_extension": ".py",
   "mimetype": "text/x-python",
   "name": "python",
   "nbconvert_exporter": "python",
   "pygments_lexer": "ipython3",
   "version": "3.10.5"
  }
 },
 "nbformat": 4,
 "nbformat_minor": 5
}

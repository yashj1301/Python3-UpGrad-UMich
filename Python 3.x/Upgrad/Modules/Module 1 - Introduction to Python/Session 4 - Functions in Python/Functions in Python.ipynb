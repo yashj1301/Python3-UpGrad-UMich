{
 "cells": [
  {
   "cell_type": "markdown",
   "id": "223371a4-1a7e-4114-8ff1-078ea5165d5f",
   "metadata": {
    "tags": []
   },
   "source": [
    "## Functions in Python"
   ]
  },
  {
   "cell_type": "markdown",
   "id": "56d0a4c4-f2a8-44b6-af0e-b96ee2598ad9",
   "metadata": {},
   "source": [
    "Functions are the centre stage of any programming language. If you have any reusable code, then you don’t have to type it or copy paste it again and again. You can just create a function the first time, and then use it as many types as you want. This is the very core of __Functional Programming__. \n",
    "\n",
    "__Functions__ are a block of reusable code that can be accessed by the programmer. They provide better modularity for programs. __Modularity__ means dividing a program into various sub-programs that work in coherence with each other. \n",
    "\n",
    "These sub-programs are various functions in functional programming, that are used in sync with each other to execute the whole code. It implements the whole idea of Functional Programming.\n"
   ]
  },
  {
   "cell_type": "markdown",
   "id": "4b4405da-2ab2-4159-a489-70c6b7cf4a36",
   "metadata": {
    "jp-MarkdownHeadingCollapsed": true,
    "tags": []
   },
   "source": [
    "### Types of Functions"
   ]
  },
  {
   "cell_type": "markdown",
   "id": "f795f7b4-e343-41f4-9dec-46c628cd6980",
   "metadata": {},
   "source": [
    "There are various kinds of functions in python. Usually, there is a criterion that separates these functions. There are 2 bases for differentiation:\n",
    "<ol>\n",
    " <li><b>Value of the Function</b>: There are some functions that return a value, and hence, can be stored in a variable, whereas there are functions that do not return a value, and hence, cannot be stored in a variable. We have 2 major types of functions here:</li><br>\n",
    "      <ul>\n",
    "      <li><u><i>Void Functions</i></u>: These functions are the functions that __do not return__ any value. The code of these functions usually prints the output directly to the console. The functions like `print()` are void functions.</li>\n",
    "      <li><u><i>Return Functions</i></u>: These functions are the functions that __return a particular value__. They won’t send the output directly to the console. You have to either store them in a variable, or send them to the output using the print function. The `len()`, `input()` functions are examples of these functions.</li>\n",
    "     </ul><br>\n",
    "     \n",
    "   <li><b>Scope of the Function</b>: There are functions that can be accessed in only particular block of the code in the program. Some of them can be accessed anywhere in the code, whereas some functions can be accessed in multiple programs. We have 2 major types of functions in this criterion:</li>\n",
    "    <ul><br>\n",
    "    <li><u><i>In-Built Functions</i></u>: These functions are the ones that __can be accessed in multiple programs__. They are __already built by the python__ libraries, and they need not be defined by the programmer. Some examples of these functions are the len(), type() and print() functions.</li>\n",
    "    <li><u><i>User Defined Functions</i></u>: These functions are the functions __that can be accessed in just simple programs__. Their access is local to the program they are a part of. These functions are __created by the programmer__ while writing a python script. They cannot be accessed by python or the programmer in any other program other than the one where it is defined.</li></ul>\n",
    "</ol>"
   ]
  },
  {
   "cell_type": "markdown",
   "id": "8b5943e2-68f2-4489-bdc6-4c6589fd0a18",
   "metadata": {
    "jp-MarkdownHeadingCollapsed": true,
    "tags": []
   },
   "source": [
    "### Defining a Function"
   ]
  },
  {
   "cell_type": "markdown",
   "id": "9e490011-4b99-400f-a5d1-7fde7809bc3d",
   "metadata": {},
   "source": [
    "We will learn writing __User-Defined functions__ here. For that, we use the `def` keyword, and follow the following \n",
    "\n",
    "___Syntax___:\n",
    "\n",
    "<img src=\"https://www.learnbyexample.org/wp-content/uploads/python/Python-Function-Syntax.png\" height=auto width=60%>\n",
    "\n",
    "The arguments are also called the __parameters__ of the function. They are the variables present in the function’s block code that are used as references to operate the function. Functions <font color=\"red\">can have no parameters</font> as well. \n",
    "\n",
    "If we are defining a __return function__, then we need to make sure that our function returns an object. What this means is that the function will act as a container for the object. Then, the function specified by the parameters is either sent to output by the `print()` statement or by storing them in a variable for later use. \n",
    "\n",
    "For returning a value to a function, we use the `return`keyword. It can contain an integer, float, string or a Boolean. We can also return data structures – list, tuple, set, and dictionary. The syntax for the return statement is :\n",
    "\n",
    "`return object;`\n",
    "\n",
    "Please note that <font color=\"red\">we cannot define functions by the same names as the in-built functions</font> like print(), input(), sorted()  etc. We need to give them a unique name. We follow the same rules for naming the functions that we do for naming the variables.\n",
    "\n",
    "We __use the function by calling it__ out (writing its name, and specifying its parameters). There are two ways to call a function: \n",
    "\n",
    "1. Call by Reference (assigning to a variable; for return functions)\n",
    "2. Call by Value (directly writing the name; for void functions)\n",
    "\n",
    "Let us see some examples now.\n"
   ]
  },
  {
   "cell_type": "code",
   "execution_count": 70,
   "id": "e51d1165-93d2-4148-bcc6-d68b7d950065",
   "metadata": {},
   "outputs": [
    {
     "data": {
      "text/plain": [
       "6227020800"
      ]
     },
     "execution_count": 70,
     "metadata": {},
     "output_type": "execute_result"
    }
   ],
   "source": [
    "def fact(n):\n",
    "    f=1;\n",
    "    for i in range(1,n+1):\n",
    "        f*=i;\n",
    "    return f;\n",
    "\n",
    "five=fact(13) #Calling by reference\n",
    "five"
   ]
  },
  {
   "cell_type": "code",
   "execution_count": 71,
   "id": "9514af49-b8e1-47c0-a3cd-ff3cd8d23636",
   "metadata": {},
   "outputs": [
    {
     "name": "stdout",
     "output_type": "stream",
     "text": [
      "['Welcome', 'to', 'Python']\n"
     ]
    }
   ],
   "source": [
    "def str_to_list(string,de):\n",
    "    \n",
    "    list1=string.split(de);\n",
    "    print(list1)\n",
    "\n",
    "str_to_list('Welcome_to_Python','_') # Calling by Value"
   ]
  },
  {
   "cell_type": "markdown",
   "id": "5c6951ec-3846-4bb6-af32-3f8fd0468545",
   "metadata": {
    "jp-MarkdownHeadingCollapsed": true,
    "tags": []
   },
   "source": [
    "### Nesting Functions"
   ]
  },
  {
   "cell_type": "markdown",
   "id": "030efaaa-ce6c-4c51-92e3-b9fe9d1ef6bd",
   "metadata": {},
   "source": [
    "Now, let us see if we can define a function within another function. The following example returns a factorial list of an input list."
   ]
  },
  {
   "cell_type": "code",
   "execution_count": 20,
   "id": "e87857bc-aef6-4c73-99be-b72bf91a6458",
   "metadata": {},
   "outputs": [
    {
     "name": "stdin",
     "output_type": "stream",
     "text": [
      "Enter no of elements:  4\n",
      "Enter the element 1: 12\n",
      "Enter the element 2: 13\n",
      "Enter the element 3: 5\n",
      "Enter the element 4: 16\n"
     ]
    },
    {
     "name": "stdout",
     "output_type": "stream",
     "text": [
      "The factorial of the list is: [479001600, 6227020800, 120, 20922789888000]\n"
     ]
    }
   ],
   "source": [
    "def fact_list(num):\n",
    "    \n",
    "    list1=[];\n",
    "    f_list=[];\n",
    "    i=0;\n",
    "    def facto(n):\n",
    "        f=1;\n",
    "        for i in range(1,n+1):\n",
    "            f*=i;\n",
    "        return f;\n",
    "    \n",
    "    while i<num:\n",
    "        ele=input('Enter the element {}:'.format(i+1))\n",
    "        list1+=[int(ele)];\n",
    "        f_list+=[facto(list1[i])]\n",
    "        i+=1\n",
    "    return f_list\n",
    "\n",
    "num=int(input('Enter no of elements: '));\n",
    "fac=fact_list(num)\n",
    "print('The factorial of the list is:',fac);"
   ]
  },
  {
   "cell_type": "markdown",
   "id": "26146297-f6f9-46a3-ba2d-49f505110f3e",
   "metadata": {},
   "source": [
    "Here, you can see that we used the `while` loop for the program to modify the lists. This is because we are using a user-defined parameter here, and hence, we do not know the number of iterations here. "
   ]
  },
  {
   "cell_type": "markdown",
   "id": "2dc25d11-4396-4ece-b7a3-a288e748b7fd",
   "metadata": {
    "jp-MarkdownHeadingCollapsed": true,
    "tags": []
   },
   "source": [
    "### Passing Arguments of a Function"
   ]
  },
  {
   "cell_type": "markdown",
   "id": "1ed56edb-2b37-4071-91aa-d662eb2ce1c5",
   "metadata": {},
   "source": [
    "There are multiple ways to pass the arguments to a function. Whenever we have some parameters, the function won't move forward unless the parameter is specified. Let us look at the previous example of the `fact()` function."
   ]
  },
  {
   "cell_type": "code",
   "execution_count": 26,
   "id": "209eb44e-f717-40c1-a7a6-e1c75130f5b8",
   "metadata": {},
   "outputs": [
    {
     "ename": "TypeError",
     "evalue": "fact() missing 1 required positional argument: 'n'",
     "output_type": "error",
     "traceback": [
      "\u001b[1;31m---------------------------------------------------------------------------\u001b[0m",
      "\u001b[1;31mTypeError\u001b[0m                                 Traceback (most recent call last)",
      "Input \u001b[1;32mIn [26]\u001b[0m, in \u001b[0;36m<cell line: 6>\u001b[1;34m()\u001b[0m\n\u001b[0;32m      4\u001b[0m         f\u001b[38;5;241m*\u001b[39m\u001b[38;5;241m=\u001b[39mi;\n\u001b[0;32m      5\u001b[0m     \u001b[38;5;28;01mreturn\u001b[39;00m f;\n\u001b[1;32m----> 6\u001b[0m \u001b[43mfact\u001b[49m\u001b[43m(\u001b[49m\u001b[43m)\u001b[49m\n",
      "\u001b[1;31mTypeError\u001b[0m: fact() missing 1 required positional argument: 'n'"
     ]
    }
   ],
   "source": [
    "def fact(n):\n",
    "    f=1;\n",
    "    for i in range(1,n+1):\n",
    "        f*=i;\n",
    "    return f;\n",
    "fact()"
   ]
  },
  {
   "cell_type": "markdown",
   "id": "e1ade240-0c95-4b68-95e5-71be953cdf2f",
   "metadata": {},
   "source": [
    "Hence, since the fact() is missing the `n` parameter, we need to enter a value there for the function to move forward. This is a __required parameter__.\n",
    "\n",
    "However, we can declare some default values to it. Let us see the following example."
   ]
  },
  {
   "cell_type": "code",
   "execution_count": 31,
   "id": "158336c3-551f-4573-959f-992a002bb4a2",
   "metadata": {},
   "outputs": [],
   "source": [
    "def fact(n=0):\n",
    "    f=1;\n",
    "    for i in range(1,n+1):\n",
    "        f*=i;\n",
    "    return f;"
   ]
  },
  {
   "cell_type": "markdown",
   "id": "4abbe7ef-e459-49b0-b5b6-0faac858aaf1",
   "metadata": {},
   "source": [
    "Here, we have declared `n` in the function itself. So, whenever the parameter is empty, it will take `n=0`. However, if we specify a parameter, then it will overwrite the value."
   ]
  },
  {
   "cell_type": "code",
   "execution_count": 35,
   "id": "886f0c9c-4704-46bf-a427-7dba5d1b6563",
   "metadata": {},
   "outputs": [
    {
     "data": {
      "text/plain": [
       "(1, 720)"
      ]
     },
     "execution_count": 35,
     "metadata": {},
     "output_type": "execute_result"
    }
   ],
   "source": [
    "fact(),fact(6)"
   ]
  },
  {
   "cell_type": "markdown",
   "id": "a62926e8-6f94-4c8d-abbd-d9535eea8482",
   "metadata": {},
   "source": [
    "Hence, this is a way to __pass default arguments__ to your functions. Let us see another example."
   ]
  },
  {
   "cell_type": "code",
   "execution_count": 37,
   "id": "b8485fa4-db5e-4f9c-b17d-e80f7be70266",
   "metadata": {},
   "outputs": [],
   "source": [
    "def details(name,age=22):\n",
    "    print(name);\n",
    "    print(age);"
   ]
  },
  {
   "cell_type": "code",
   "execution_count": 38,
   "id": "15e89b02-5023-4f0f-a7b4-3daccdecc5e4",
   "metadata": {},
   "outputs": [
    {
     "name": "stdout",
     "output_type": "stream",
     "text": [
      "Yash\n",
      "22\n"
     ]
    }
   ],
   "source": [
    "details('Yash')"
   ]
  },
  {
   "cell_type": "code",
   "execution_count": 39,
   "id": "714c3000-17da-4571-ac55-efb5ad832ac4",
   "metadata": {},
   "outputs": [
    {
     "name": "stdout",
     "output_type": "stream",
     "text": [
      "Yash\n",
      "20\n"
     ]
    }
   ],
   "source": [
    "details('Yash',20)"
   ]
  },
  {
   "cell_type": "markdown",
   "id": "3c5ca8c5-6195-48cb-89c4-3d4256178a09",
   "metadata": {},
   "source": [
    "Another way to pass arguments to your functions is by __keyword arguments__ method. Here, if you know the name of the parameter, then you use the assignment operator inside the paranthesis when calling out the function. Let us see an example."
   ]
  },
  {
   "cell_type": "code",
   "execution_count": 47,
   "id": "5d049762-374e-4959-9778-9e8fe2ff7075",
   "metadata": {},
   "outputs": [
    {
     "name": "stdout",
     "output_type": "stream",
     "text": [
      "Yash\n",
      "24\n"
     ]
    }
   ],
   "source": [
    "details('Yash',age=24)"
   ]
  },
  {
   "cell_type": "markdown",
   "id": "c661fb9c-d88b-43fc-a2db-99a9466de8c1",
   "metadata": {},
   "source": [
    "You <font color=\"red\">cannot use this method</font> on the arguments that __do not have a default__ value. It will throw an error. The following example shows this:"
   ]
  },
  {
   "cell_type": "code",
   "execution_count": 48,
   "id": "d9aa0a87-846d-41e2-9444-cb27bbcc6ab8",
   "metadata": {},
   "outputs": [
    {
     "ename": "SyntaxError",
     "evalue": "positional argument follows keyword argument (254017206.py, line 1)",
     "output_type": "error",
     "traceback": [
      "\u001b[1;36m  Input \u001b[1;32mIn [48]\u001b[1;36m\u001b[0m\n\u001b[1;33m    details(name='Yash',24)\u001b[0m\n\u001b[1;37m                          ^\u001b[0m\n\u001b[1;31mSyntaxError\u001b[0m\u001b[1;31m:\u001b[0m positional argument follows keyword argument\n"
     ]
    }
   ],
   "source": [
    "details(name='Yash',24)"
   ]
  },
  {
   "cell_type": "markdown",
   "id": "c700cdfc-9634-4674-ac40-55c41f28e2a6",
   "metadata": {},
   "source": [
    "Hence, either you need to specify the keyword for only the default parameters, or for all of them."
   ]
  },
  {
   "cell_type": "markdown",
   "id": "a35eee31-36e2-4f09-94db-fa003b6dc179",
   "metadata": {},
   "source": [
    "Another way to pass arguments to a function is by using __variable length argument__. Using this method, you can __pass multiple values to the same parameter__. It is defined by using an `asterisk (*)` before the parameter name. Let us see an example:"
   ]
  },
  {
   "cell_type": "code",
   "execution_count": 72,
   "id": "83b605c3-19a0-4911-8949-382ebf74e599",
   "metadata": {},
   "outputs": [],
   "source": [
    "def details(name,age,*city):\n",
    "    print(name);\n",
    "    print(age);\n",
    "    print(city);"
   ]
  },
  {
   "cell_type": "code",
   "execution_count": 73,
   "id": "f3f84f7b-b2d9-458a-abcd-1544ff606538",
   "metadata": {},
   "outputs": [
    {
     "name": "stdout",
     "output_type": "stream",
     "text": [
      "Yash\n",
      "22\n",
      "('del', 'hyd', 'mum')\n"
     ]
    }
   ],
   "source": [
    "details('Yash',22,'del','hyd','mum')"
   ]
  },
  {
   "cell_type": "markdown",
   "id": "9d1be7eb-aafe-4bc7-ac22-eaf2800f3a10",
   "metadata": {},
   "source": [
    "Here, you can see that the parameter accepts multiple arguments and returns a tuple of them all. "
   ]
  },
  {
   "cell_type": "code",
   "execution_count": 74,
   "id": "513dea75-647f-4a86-9899-518490acea6e",
   "metadata": {},
   "outputs": [],
   "source": [
    "def details(name,*age,city):\n",
    "    print(name);\n",
    "    print(age);\n",
    "    print(city);"
   ]
  },
  {
   "cell_type": "markdown",
   "id": "ada96774-3fb8-4572-921a-c3080583efa5",
   "metadata": {},
   "source": [
    "__Special: Call of a Call of a function__"
   ]
  },
  {
   "cell_type": "code",
   "execution_count": 69,
   "id": "cf95d93e-fe48-4199-957c-00ddd4cedc24",
   "metadata": {},
   "outputs": [
    {
     "data": {
      "text/plain": [
       "23"
      ]
     },
     "execution_count": 69,
     "metadata": {},
     "output_type": "execute_result"
    }
   ],
   "source": [
    "def func(x, y = 1):\n",
    "    z = x * y + x + y\n",
    "    return z\n",
    "\n",
    "func(2, func(3))"
   ]
  },
  {
   "cell_type": "markdown",
   "id": "41b41dc7-ba71-46ea-b4d6-662b134a08cc",
   "metadata": {
    "tags": []
   },
   "source": [
    "### Lambda Function"
   ]
  },
  {
   "cell_type": "markdown",
   "id": "1838f7bf-b5e7-4b0c-be21-bc22366224c9",
   "metadata": {},
   "source": [
    "We have previously seen how to use comprehensions for data structures to write shorter codes. Similar thing can be applied to functions as well. \n",
    "\n",
    "We can define a function in a single line, using the `lambda` operator. The corresponding function is called the __Lambda Function__. It creates a <font color=\"#000080\">function object</font>, that can be called to use it. Since it is defined anonymously (without using the `def` keyword), it is also called __<font color=#000080>Anonymous Function</font>__.\n",
    "\n",
    "It has the following syntax – `function_name  = lambda input_parameters :  output_parameters`\n",
    "\n",
    "Some examples of the lambda function are given below:"
   ]
  },
  {
   "cell_type": "code",
   "execution_count": 102,
   "id": "6d34011a-4b20-4f66-b0f0-2770ca3e2bc5",
   "metadata": {},
   "outputs": [
    {
     "name": "stdout",
     "output_type": "stream",
     "text": [
      "3\n"
     ]
    }
   ],
   "source": [
    "greater=lambda x,y: x if x>y else y;\n",
    "print(greater(3,2))"
   ]
  },
  {
   "cell_type": "code",
   "execution_count": 94,
   "id": "2c4db8f5-8fd7-4d92-b4ec-96f38817dd91",
   "metadata": {},
   "outputs": [
    {
     "data": {
      "text/plain": [
       "'odd'"
      ]
     },
     "execution_count": 94,
     "metadata": {},
     "output_type": "execute_result"
    }
   ],
   "source": [
    "odd_even=lambda x: 'even' if x%2==0 else 'odd';\n",
    "odd_even(7)"
   ]
  },
  {
   "cell_type": "markdown",
   "id": "aa5c6097-9538-4e1d-b679-b866dbcf1d21",
   "metadata": {},
   "source": [
    "Please note that we cannot use the looping statements inside the lambda function. It <font color=\"red\">does not support</font> loops. The following examples will depict this -"
   ]
  },
  {
   "cell_type": "code",
   "execution_count": 100,
   "id": "6c9a7d4f-0624-4c01-981d-bd341922d02b",
   "metadata": {},
   "outputs": [
    {
     "ename": "SyntaxError",
     "evalue": "invalid syntax (1550742431.py, line 2)",
     "output_type": "error",
     "traceback": [
      "\u001b[1;36m  Input \u001b[1;32mIn [100]\u001b[1;36m\u001b[0m\n\u001b[1;33m    fact=lambda n: n*i for i in range(n);\u001b[0m\n\u001b[1;37m                       ^\u001b[0m\n\u001b[1;31mSyntaxError\u001b[0m\u001b[1;31m:\u001b[0m invalid syntax\n"
     ]
    }
   ],
   "source": [
    "i=1;\n",
    "fact=lambda n: n*i for i in range(n);"
   ]
  },
  {
   "cell_type": "markdown",
   "id": "cce56cb6-dc2a-450e-a40e-463616c214ea",
   "metadata": {},
   "source": [
    "It is showing syntax error because for loops cannot be used inside a lambda function directly. "
   ]
  },
  {
   "cell_type": "markdown",
   "id": "7899da9e-fa98-4934-98db-344f72ee2a39",
   "metadata": {
    "tags": []
   },
   "source": [
    "#### Lambda Utility Functions"
   ]
  },
  {
   "cell_type": "markdown",
   "id": "94cc5dfd-16e9-4eaa-953e-882fdb867f20",
   "metadata": {},
   "source": [
    "There are some utility functions related to the `lambda` operator that allow us to use it in coherence with the data structures (lists, tuples, dictionaries,sets). There are 3 main functions -"
   ]
  },
  {
   "cell_type": "markdown",
   "id": "92411513-514e-4750-aacd-2a5b1e93c9a8",
   "metadata": {
    "tags": []
   },
   "source": [
    "##### The `map()` function"
   ]
  },
  {
   "cell_type": "markdown",
   "id": "b513dbab-bda0-4ebf-8ac4-b80fb6f33a79",
   "metadata": {},
   "source": [
    "This function is used to map a lambda function object to the elements of an interable object. In simple words, you can use the lambda function in each element of an iterable object using the `map()` function.\n",
    "\n",
    "_Syntax:_                    `map(lambda_function,iterable_object);`\n",
    "\n",
    "This function returns a map object, that can be converted into the corresponding data structure using the typecasting functions `list()`, `tuple()`, `set()` and `dict()`.\n",
    "\n",
    "The following examples illustrate this."
   ]
  },
  {
   "cell_type": "code",
   "execution_count": 2,
   "id": "1352d24e-ca17-4f2a-bc07-f11beba45e2a",
   "metadata": {},
   "outputs": [
    {
     "data": {
      "text/plain": [
       "['INDIA', 'JAPAN', 'ITALY', 'FRANCE']"
      ]
     },
     "execution_count": 2,
     "metadata": {},
     "output_type": "execute_result"
    }
   ],
   "source": [
    "country=['India','Japan','Italy','France'];\n",
    "up=[];\n",
    "for i in country:\n",
    "    up+=[i.upper()]\n",
    "up"
   ]
  },
  {
   "cell_type": "markdown",
   "id": "132f5198-655f-42d9-848d-7f7a477ca155",
   "metadata": {},
   "source": [
    "The operation performed above can be executed in just one line using the `map()` function and the `lambda` operator. Let us use it now."
   ]
  },
  {
   "cell_type": "code",
   "execution_count": 106,
   "id": "51623be1-5150-44c8-a81b-4fb1fc546cd6",
   "metadata": {},
   "outputs": [
    {
     "data": {
      "text/plain": [
       "['INDIA', 'JAPAN', 'ITALY', 'FRANCE']"
      ]
     },
     "execution_count": 106,
     "metadata": {},
     "output_type": "execute_result"
    }
   ],
   "source": [
    "list(map(lambda x: x.upper(),country))"
   ]
  },
  {
   "cell_type": "markdown",
   "id": "369b765f-9d19-44f0-ac6b-33ffc5aab655",
   "metadata": {},
   "source": [
    "See? The task is performed in a single line. This is the efficiency and memory that is saved by the lambda operator using these utility functions. "
   ]
  },
  {
   "cell_type": "markdown",
   "id": "694c8e32-0438-4af2-a06d-022af57cf57f",
   "metadata": {},
   "source": [
    "__Using a User Defined Function as parameter__"
   ]
  },
  {
   "cell_type": "markdown",
   "id": "5ff0f218-f5a0-4851-a793-e9bf8aed14e2",
   "metadata": {},
   "source": [
    "We can even use a user-defined function as parameter in such cases. Let us see this with an example."
   ]
  },
  {
   "cell_type": "code",
   "execution_count": 126,
   "id": "8e1df3dd-9d79-4ebf-ba91-bd2469643da6",
   "metadata": {},
   "outputs": [
    {
     "data": {
      "text/plain": [
       "[1, 4, 9, 16, 25]"
      ]
     },
     "execution_count": 126,
     "metadata": {},
     "output_type": "execute_result"
    }
   ],
   "source": [
    "def square(n):\n",
    "    return n**2;\n",
    "\n",
    "list1=[1,2,3,4,5];\n",
    "\n",
    "list(map(square,list1))"
   ]
  },
  {
   "cell_type": "markdown",
   "id": "adefe231-66d1-4439-8697-f53ea7523bf6",
   "metadata": {},
   "source": [
    "See? The functionality of these functions are beyond the lambda operator. "
   ]
  },
  {
   "cell_type": "markdown",
   "id": "f34ef233-00c3-471a-b1b4-dc408315d419",
   "metadata": {
    "tags": []
   },
   "source": [
    "##### The `filter()` function"
   ]
  },
  {
   "cell_type": "markdown",
   "id": "44065a8d-e9a2-4e02-a281-0bcf7502a4fa",
   "metadata": {},
   "source": [
    "This function is used to __filter the elements of the iterable object based on conditions__. Keep in mind that the __lambda function__ passed to this function should __always return a boolean value__. \n",
    "\n",
    "Syntax: `filter(lambda_function,iterable_object);`\n",
    "\n",
    "The lambda function here can also be thought of as the filtering condition. This function also needs to be converted to the corresponding data structures using the typecasting functions. Let us see an example -"
   ]
  },
  {
   "cell_type": "code",
   "execution_count": 108,
   "id": "c414b870-7e4b-4edc-8d91-3e7a63c4fd62",
   "metadata": {},
   "outputs": [
    {
     "data": {
      "text/plain": [
       "['India', 'Japan', 'Italy', 'France']"
      ]
     },
     "execution_count": 108,
     "metadata": {},
     "output_type": "execute_result"
    }
   ],
   "source": [
    "country"
   ]
  },
  {
   "cell_type": "markdown",
   "id": "37685f01-01d0-44e9-b955-8e064a4d757e",
   "metadata": {},
   "source": [
    "Let's say we need to find out all the countries in the list that start with I or not. We use the following logic for that -"
   ]
  },
  {
   "cell_type": "code",
   "execution_count": 111,
   "id": "cbefc4ab-fca8-4141-9cac-ba37a32ac5c0",
   "metadata": {},
   "outputs": [
    {
     "data": {
      "text/plain": [
       "['India', 'Italy']"
      ]
     },
     "execution_count": 111,
     "metadata": {},
     "output_type": "execute_result"
    }
   ],
   "source": [
    "bool_country=[];\n",
    "for i in country:\n",
    "    if i[0]=='I' or i[0]=='i':\n",
    "        bool_country+=[i];\n",
    "\n",
    "bool_country\n",
    "    "
   ]
  },
  {
   "cell_type": "markdown",
   "id": "364800e9-9891-4404-8f24-bfef1943c7bb",
   "metadata": {},
   "source": [
    "Let us use the `lambda` function for this operation, along with the `filter()` function."
   ]
  },
  {
   "cell_type": "code",
   "execution_count": 149,
   "id": "f30405b0-9324-45f2-a52e-3beac77449ec",
   "metadata": {},
   "outputs": [
    {
     "data": {
      "text/plain": [
       "['India', 'Italy']"
      ]
     },
     "execution_count": 149,
     "metadata": {},
     "output_type": "execute_result"
    }
   ],
   "source": [
    "bool_country=list(filter(lambda x: x[0]=='I' or x[0]=='i',country))\n",
    "bool_country"
   ]
  },
  {
   "cell_type": "markdown",
   "id": "ef92f52f-850e-4fa7-b053-30775ceb7ae7",
   "metadata": {},
   "source": [
    "See? The data structure is filtered according to our condition."
   ]
  },
  {
   "cell_type": "markdown",
   "id": "771800a4-0d51-4e78-be0d-202dec112803",
   "metadata": {},
   "source": [
    "Let us filter the dictionary and find all the students who are older than 18 years old. The following code helps us -"
   ]
  },
  {
   "cell_type": "code",
   "execution_count": 136,
   "id": "61eeb540-4f3e-4f37-8ad7-e10e1ee4b4da",
   "metadata": {},
   "outputs": [],
   "source": [
    "stu={1:['Sam',15],2:['Elon',20],3:['Gravit',13],4:['Yash',22],5:['Ratan',19]};"
   ]
  },
  {
   "cell_type": "code",
   "execution_count": 148,
   "id": "9674bb86-dd5e-412b-a934-8bda0f52c19a",
   "metadata": {},
   "outputs": [
    {
     "data": {
      "text/plain": [
       "[['Elon', 20], ['Yash', 22], ['Ratan', 19]]"
      ]
     },
     "execution_count": 148,
     "metadata": {},
     "output_type": "execute_result"
    }
   ],
   "source": [
    "age=list(filter(lambda x: x[1]>18,stu.values()))\n",
    "age"
   ]
  },
  {
   "cell_type": "markdown",
   "id": "f770b71a-feb8-4e8f-afcf-9183572690e1",
   "metadata": {
    "tags": []
   },
   "source": [
    "##### The `reduce()` function"
   ]
  },
  {
   "cell_type": "markdown",
   "id": "b5808937-e9a0-4103-84e0-3b54a85eb91e",
   "metadata": {},
   "source": [
    "This function is used to __reduce the iterable object into a single dimensional functionality__. It takes the function object and the data structure as parameters. An important condition here is that the <font color=red>function object should have only 2 parameters</font> - not more, not less.\n",
    "\n",
    "It is a part of the `functools` module of the python library. It can be imported using the `import` operation, if it is not already loaded."
   ]
  },
  {
   "cell_type": "markdown",
   "id": "9f95a5b0-d9cc-4307-8eb4-54c33bb10cf1",
   "metadata": {},
   "source": [
    "Syntax - `reduce(lambda_function,iterable_object);`\n",
    "\n",
    "Let us see an example now. "
   ]
  },
  {
   "cell_type": "code",
   "execution_count": 116,
   "id": "2e1add81-f6db-49c0-81f3-bcb34ac25593",
   "metadata": {},
   "outputs": [
    {
     "data": {
      "text/plain": [
       "['India', 'Japan', 'Italy', 'France']"
      ]
     },
     "execution_count": 116,
     "metadata": {},
     "output_type": "execute_result"
    }
   ],
   "source": [
    "country"
   ]
  },
  {
   "cell_type": "markdown",
   "id": "f02f5661-d75f-47bc-aa0b-bd608bbb9955",
   "metadata": {},
   "source": [
    "Let us say that we need to display all the elements of the list besides each other as a string. For that, we use the following logic - "
   ]
  },
  {
   "cell_type": "code",
   "execution_count": 4,
   "id": "80989c97-1f9c-42dc-be1d-7e6016430b7e",
   "metadata": {},
   "outputs": [
    {
     "data": {
      "text/plain": [
       "'India Japan Italy France'"
      ]
     },
     "execution_count": 4,
     "metadata": {},
     "output_type": "execute_result"
    }
   ],
   "source": [
    "str1='';\n",
    "for i in country:\n",
    "    str1+=i+\" \";\n",
    "str1.rstrip(' ')"
   ]
  },
  {
   "cell_type": "markdown",
   "id": "62f92a29-80db-4977-a076-f4cca9635bb7",
   "metadata": {},
   "source": [
    "Although this code is substantially small, we can use the `lambda` function here, along with the `reduce()` function to perform this. Let us see it in action:"
   ]
  },
  {
   "cell_type": "code",
   "execution_count": 3,
   "id": "1b97d7b6-c87a-4ece-b374-9a1f3c001cbe",
   "metadata": {},
   "outputs": [
    {
     "data": {
      "text/plain": [
       "'India Japan Italy France'"
      ]
     },
     "execution_count": 3,
     "metadata": {},
     "output_type": "execute_result"
    }
   ],
   "source": [
    "from functools import reduce\n",
    "red=reduce(lambda x,y: x+\" \"+y,country)\n",
    "red"
   ]
  },
  {
   "cell_type": "markdown",
   "id": "f56b01d4-0517-4ea0-951c-72357eeadf67",
   "metadata": {},
   "source": [
    "This way, the `reduce()` function reduced the dimensionality of the iterable object from a list to a string. This is how it is utilized. Let us now find the factorial of numbers."
   ]
  },
  {
   "cell_type": "code",
   "execution_count": 11,
   "id": "a2061cd8-e163-4fa3-a033-11d747ec433b",
   "metadata": {},
   "outputs": [],
   "source": [
    "from functools import reduce\n",
    "def fact(n):\n",
    "    if n<0:\n",
    "        print('Error ! Out of scope');\n",
    "        \n",
    "    elif n==0:\n",
    "        return 1;\n",
    "    \n",
    "    else:\n",
    "        fact=reduce(lambda x,y: x*y,list(range(1,n+1)))\n",
    "        return fact;"
   ]
  },
  {
   "cell_type": "code",
   "execution_count": 14,
   "id": "59e19283-fa06-4f37-b261-9fc4a613517e",
   "metadata": {},
   "outputs": [
    {
     "data": {
      "text/plain": [
       "40320"
      ]
     },
     "execution_count": 14,
     "metadata": {},
     "output_type": "execute_result"
    }
   ],
   "source": [
    "fact(8)"
   ]
  },
  {
   "cell_type": "markdown",
   "id": "8f39afc1-e33b-4d2c-b39c-8ca26bebbaf8",
   "metadata": {},
   "source": [
    "Hence, we can use `lambda` function and the `reduce()` function here to create a factorial. It became such a simple command where previously we need to create two functions, two lists and store them. Here, just one line of code accomplished this !"
   ]
  }
 ],
 "metadata": {
  "kernelspec": {
   "display_name": "Python 3 (ipykernel)",
   "language": "python",
   "name": "python3"
  },
  "language_info": {
   "codemirror_mode": {
    "name": "ipython",
    "version": 3
   },
   "file_extension": ".py",
   "mimetype": "text/x-python",
   "name": "python",
   "nbconvert_exporter": "python",
   "pygments_lexer": "ipython3",
   "version": "3.10.5"
  }
 },
 "nbformat": 4,
 "nbformat_minor": 5
}

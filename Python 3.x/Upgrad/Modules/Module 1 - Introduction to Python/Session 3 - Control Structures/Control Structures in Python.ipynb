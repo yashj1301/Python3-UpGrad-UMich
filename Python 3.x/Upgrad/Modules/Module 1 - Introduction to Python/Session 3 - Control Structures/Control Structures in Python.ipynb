{
 "cells": [
  {
   "cell_type": "markdown",
   "id": "fc356550-85ef-4f9b-ba26-ecaf1f6bcfcd",
   "metadata": {},
   "source": [
    "## Control Structures in Python"
   ]
  },
  {
   "cell_type": "markdown",
   "id": "c52b111e-358a-4a66-a625-562cc0c1ad60",
   "metadata": {},
   "source": [
    " We can create lists, tuples, sets and dictionaries and perform various kinds of operations on them. However, we haven’t talked about conditions yet. \n",
    " \n",
    "__Conditions__ are expressions in any programming language, that are used to control, or filter the data that we want to use. These conditions can be used where we searched for an index in a dictionary and returned a value if it wasn’t found. This is how conditions are used."
   ]
  },
  {
   "cell_type": "markdown",
   "id": "44426d25-39dd-4482-b936-a076ff48d832",
   "metadata": {
    "jp-MarkdownHeadingCollapsed": true,
    "tags": []
   },
   "source": [
    "### Operators for Control Structures"
   ]
  },
  {
   "cell_type": "markdown",
   "id": "4ba1ff0f-5e1c-4604-b0ef-0b33c43aeaef",
   "metadata": {},
   "source": [
    "To define various conditions in python, we use __Control Structures__. These structures make use of the _binary and relational operators_ to define a condition, that filters and controls the data coming as output. \n",
    "\n",
    "Let us learn about binary and relational operators first. \n"
   ]
  },
  {
   "cell_type": "markdown",
   "id": "9bf6c10b-e3ed-4741-b453-c6ea60c22312",
   "metadata": {
    "jp-MarkdownHeadingCollapsed": true,
    "tags": []
   },
   "source": [
    "#### Binary Operators"
   ]
  },
  {
   "cell_type": "markdown",
   "id": "36c2e5ea-fff7-4e00-b381-b59634561b99",
   "metadata": {},
   "source": [
    "Binary operators are used to perform __arithmetic calculations__ in python. These operators usually have 2 operands. Simple arithmetic operators like `+`,` -`,`*`,`/`,` %`,` //`,` **` are all binary operators."
   ]
  },
  {
   "cell_type": "code",
   "execution_count": 2,
   "id": "b9bc2406-7399-4b7c-9ddf-b153a6e12200",
   "metadata": {},
   "outputs": [
    {
     "name": "stdout",
     "output_type": "stream",
     "text": [
      "5\n",
      "1\n",
      "6\n",
      "1.5\n",
      "1\n",
      "9\n",
      "1\n"
     ]
    }
   ],
   "source": [
    "a=3; b=2;\n",
    "\n",
    "print(a+b)\n",
    "print(a-b)\n",
    "print(a*b)\n",
    "print(a/b)\n",
    "print(a//b)\n",
    "print(a**b)\n",
    "print(a%b)"
   ]
  },
  {
   "cell_type": "markdown",
   "id": "651698d9-a07b-454c-9b39-8daf3df789c9",
   "metadata": {
    "jp-MarkdownHeadingCollapsed": true,
    "tags": []
   },
   "source": [
    "#### Relational Operators"
   ]
  },
  {
   "cell_type": "markdown",
   "id": "2d5ce4f5-1b35-44bc-9073-d7913eb42326",
   "metadata": {},
   "source": [
    "Relational operators are binary operators used to __apply conditions__ to control the scope of any python instance. They are used to __compare objects__, and __return Boolean values `True` and `False`__. The operators in this category are:\n",
    "\n",
    "- Is equal to `(==)`: Checking if two values are equal or not.\n",
    "- Is greater than or equal to `(>=)`: Checking if a value is greater than or equal to the other.\n",
    "- Is less than equal to `(<=)`: Checking if a value is less than or equal to the other.\n",
    "- Is less than `(<)`: Checking if one value is lesser than the other\n",
    "- Is greater than `(>)`: Checking if one value is greater than the other.\n",
    "- Is not equal to `(!=)`: Checking if a value is not equal to the other.\n",
    "\n",
    "Let us see some examples"
   ]
  },
  {
   "cell_type": "code",
   "execution_count": 3,
   "id": "51f5e354-3da0-417c-a5cd-9f7e42bcbe78",
   "metadata": {},
   "outputs": [
    {
     "data": {
      "text/plain": [
       "(3, 2)"
      ]
     },
     "execution_count": 3,
     "metadata": {},
     "output_type": "execute_result"
    }
   ],
   "source": [
    "a,b"
   ]
  },
  {
   "cell_type": "markdown",
   "id": "c2388fa3-01e0-466a-b5bb-ff85b2888c19",
   "metadata": {},
   "source": [
    "__Equal to (`==`) Operator__"
   ]
  },
  {
   "cell_type": "code",
   "execution_count": 5,
   "id": "54200242-6e75-4532-8427-fca6155733bd",
   "metadata": {},
   "outputs": [
    {
     "data": {
      "text/plain": [
       "(True, True, False)"
      ]
     },
     "execution_count": 5,
     "metadata": {},
     "output_type": "execute_result"
    }
   ],
   "source": [
    "a==3,b==2,a==b"
   ]
  },
  {
   "cell_type": "code",
   "execution_count": 6,
   "id": "b9e136ff-3846-4e9b-8540-45535ccbacb0",
   "metadata": {},
   "outputs": [
    {
     "data": {
      "text/plain": [
       "(True, True)"
      ]
     },
     "execution_count": 6,
     "metadata": {},
     "output_type": "execute_result"
    }
   ],
   "source": [
    "1==True,0==False"
   ]
  },
  {
   "cell_type": "markdown",
   "id": "a57191ff-7332-4df1-969c-1753add5c0ef",
   "metadata": {},
   "source": [
    "Hence, you can see that the values of 1 and True, and 0 and False are taken as same."
   ]
  },
  {
   "cell_type": "code",
   "execution_count": 27,
   "id": "9523df69-e134-46ef-9d65-f61ea522ab0d",
   "metadata": {},
   "outputs": [
    {
     "data": {
      "text/plain": [
       "False"
      ]
     },
     "execution_count": 27,
     "metadata": {},
     "output_type": "execute_result"
    }
   ],
   "source": [
    "a-3+1==False"
   ]
  },
  {
   "cell_type": "markdown",
   "id": "f0fe9e2f-e525-4a2e-be77-05b6682bd0b4",
   "metadata": {},
   "source": [
    "__Less than (`<`) and Greater than (`>`) Operators__"
   ]
  },
  {
   "cell_type": "code",
   "execution_count": 9,
   "id": "87e115d8-c966-4e48-8194-5319ecbfa06a",
   "metadata": {},
   "outputs": [
    {
     "data": {
      "text/plain": [
       "(True, False)"
      ]
     },
     "execution_count": 9,
     "metadata": {},
     "output_type": "execute_result"
    }
   ],
   "source": [
    "a>b,b>a"
   ]
  },
  {
   "cell_type": "code",
   "execution_count": 8,
   "id": "2d7d5439-18c6-47b5-8c12-4fd5b84cf83c",
   "metadata": {},
   "outputs": [
    {
     "data": {
      "text/plain": [
       "(False, True)"
      ]
     },
     "execution_count": 8,
     "metadata": {},
     "output_type": "execute_result"
    }
   ],
   "source": [
    "a<b,b<a"
   ]
  },
  {
   "cell_type": "code",
   "execution_count": 30,
   "id": "e8c36682-fc02-45fe-9021-3742830261de",
   "metadata": {},
   "outputs": [
    {
     "data": {
      "text/plain": [
       "(False, True)"
      ]
     },
     "execution_count": 30,
     "metadata": {},
     "output_type": "execute_result"
    }
   ],
   "source": [
    "a+b<a-b,a-1<b+1"
   ]
  },
  {
   "cell_type": "markdown",
   "id": "4fa74a5b-6b22-48e7-b49d-14225de19847",
   "metadata": {},
   "source": [
    "__Less than or Equal to (`<=`) and Greater than or Equal to (`>=`) Operators__"
   ]
  },
  {
   "cell_type": "code",
   "execution_count": 11,
   "id": "25c8cafc-cdda-49a6-bd49-7c66419bd6ef",
   "metadata": {},
   "outputs": [
    {
     "data": {
      "text/plain": [
       "(3, 2)"
      ]
     },
     "execution_count": 11,
     "metadata": {},
     "output_type": "execute_result"
    }
   ],
   "source": [
    "a,b"
   ]
  },
  {
   "cell_type": "code",
   "execution_count": 13,
   "id": "da975d4e-acdd-4ce3-86cc-683ef84a1faf",
   "metadata": {},
   "outputs": [
    {
     "data": {
      "text/plain": [
       "(False, True)"
      ]
     },
     "execution_count": 13,
     "metadata": {},
     "output_type": "execute_result"
    }
   ],
   "source": [
    "a>=5,a<=5"
   ]
  },
  {
   "cell_type": "code",
   "execution_count": 14,
   "id": "0b178e23-6f59-425a-9664-148e2896b260",
   "metadata": {},
   "outputs": [
    {
     "data": {
      "text/plain": [
       "(True, True)"
      ]
     },
     "execution_count": 14,
     "metadata": {},
     "output_type": "execute_result"
    }
   ],
   "source": [
    "a>=b,b<=a"
   ]
  },
  {
   "cell_type": "code",
   "execution_count": 16,
   "id": "6a994e62-57ca-4e08-8eb2-b5839dda1716",
   "metadata": {},
   "outputs": [
    {
     "data": {
      "text/plain": [
       "(True, True)"
      ]
     },
     "execution_count": 16,
     "metadata": {},
     "output_type": "execute_result"
    }
   ],
   "source": [
    "1>=True,0<=False"
   ]
  },
  {
   "cell_type": "markdown",
   "id": "43c648dc-4d4e-4a99-b4c8-3f9b10c19c50",
   "metadata": {},
   "source": [
    "__Not equal to (`!=`) Operator__"
   ]
  },
  {
   "cell_type": "code",
   "execution_count": 17,
   "id": "39e0e6ac-39b5-4550-ae4b-014afb2f0436",
   "metadata": {},
   "outputs": [
    {
     "data": {
      "text/plain": [
       "(3, 2)"
      ]
     },
     "execution_count": 17,
     "metadata": {},
     "output_type": "execute_result"
    }
   ],
   "source": [
    "a,b"
   ]
  },
  {
   "cell_type": "code",
   "execution_count": 21,
   "id": "2b5732ba-c6ae-4993-926b-a61fdc17fdfc",
   "metadata": {},
   "outputs": [
    {
     "data": {
      "text/plain": [
       "(False, True)"
      ]
     },
     "execution_count": 21,
     "metadata": {},
     "output_type": "execute_result"
    }
   ],
   "source": [
    "a!=3,b!=4"
   ]
  },
  {
   "cell_type": "code",
   "execution_count": 22,
   "id": "894e0617-280d-465c-a4aa-9ba6d9589703",
   "metadata": {},
   "outputs": [
    {
     "data": {
      "text/plain": [
       "True"
      ]
     },
     "execution_count": 22,
     "metadata": {},
     "output_type": "execute_result"
    }
   ],
   "source": [
    "a!=b"
   ]
  },
  {
   "cell_type": "code",
   "execution_count": 23,
   "id": "4ce563c1-6d95-4f76-b912-a10b63daf327",
   "metadata": {},
   "outputs": [
    {
     "data": {
      "text/plain": [
       "False"
      ]
     },
     "execution_count": 23,
     "metadata": {},
     "output_type": "execute_result"
    }
   ],
   "source": [
    "a-2!=True"
   ]
  },
  {
   "cell_type": "markdown",
   "id": "1d5548d7-0431-4672-83e6-aed9ffa1c674",
   "metadata": {
    "tags": []
   },
   "source": [
    "#### Logical Operators"
   ]
  },
  {
   "cell_type": "markdown",
   "id": "a7e1a8ac-f03b-4dbe-881a-b166f4c367e2",
   "metadata": {},
   "source": [
    "These operators work on Boolean operands and they return the Boolean value True or False after checking the condition. There are 3 main logical operators:\n",
    "\n",
    "- `AND`: This operator returns True only and only if all the statements within the keyword are True. Even if one is wrong, it will return False. It can also be used with the `&` symbol.\n",
    "- `OR`: This operator returns True even if one of all the statements within the keyword are True. It can also be used with the `|` symbol.\n",
    "- `NOT`: This operator returns the logic opposite of the passed condition. For example, if inside NOT, we have 3>5, then it wil return True.\n"
   ]
  },
  {
   "cell_type": "code",
   "execution_count": 123,
   "id": "e73d8aa2-4b2b-4491-9d87-751d3be93848",
   "metadata": {},
   "outputs": [
    {
     "data": {
      "text/plain": [
       "(3, 2)"
      ]
     },
     "execution_count": 123,
     "metadata": {},
     "output_type": "execute_result"
    }
   ],
   "source": [
    "a=3; b=2;\n",
    "a,b"
   ]
  },
  {
   "cell_type": "markdown",
   "id": "4db2aab5-7c4f-4bc7-b194-fe2e2f9fdb4a",
   "metadata": {},
   "source": [
    "__`AND` Operator__"
   ]
  },
  {
   "cell_type": "code",
   "execution_count": 122,
   "id": "2e372e93-ba83-4360-b5e1-c291c9a39a6a",
   "metadata": {},
   "outputs": [
    {
     "data": {
      "text/plain": [
       "False"
      ]
     },
     "execution_count": 122,
     "metadata": {},
     "output_type": "execute_result"
    }
   ],
   "source": [
    "a>3 and b<2"
   ]
  },
  {
   "cell_type": "code",
   "execution_count": 71,
   "id": "2b777511-f1bc-40fa-89fb-59d154625f7c",
   "metadata": {},
   "outputs": [
    {
     "data": {
      "text/plain": [
       "(True, False)"
      ]
     },
     "execution_count": 71,
     "metadata": {},
     "output_type": "execute_result"
    }
   ],
   "source": [
    "a>=3 and b<=2,a>3 and b<=2"
   ]
  },
  {
   "cell_type": "code",
   "execution_count": 128,
   "id": "e9babfe8-6138-4bdd-890f-65cb0c124363",
   "metadata": {},
   "outputs": [
    {
     "data": {
      "text/plain": [
       "(True, True)"
      ]
     },
     "execution_count": 128,
     "metadata": {},
     "output_type": "execute_result"
    }
   ],
   "source": [
    "a>1 and b>1, (a>1) & (b>1)"
   ]
  },
  {
   "cell_type": "code",
   "execution_count": 129,
   "id": "14d649c3-7c11-4c0f-ac55-a7879933d630",
   "metadata": {},
   "outputs": [
    {
     "data": {
      "text/plain": [
       "False"
      ]
     },
     "execution_count": 129,
     "metadata": {},
     "output_type": "execute_result"
    }
   ],
   "source": [
    "a>1 & b>1"
   ]
  },
  {
   "cell_type": "markdown",
   "id": "133ee314-ce77-481e-aec0-ba9113a1b423",
   "metadata": {},
   "source": [
    "Hence, it is important to write the expressions in parenthesis while using the `&` symbol for the `AND` operation."
   ]
  },
  {
   "cell_type": "markdown",
   "id": "177d0d94-0cb4-4efe-8b17-f19b70b03b9a",
   "metadata": {},
   "source": [
    "__`OR` Operator__"
   ]
  },
  {
   "cell_type": "code",
   "execution_count": 73,
   "id": "cf1d0d73-08ba-4304-afe4-1c585d5f66d1",
   "metadata": {},
   "outputs": [
    {
     "data": {
      "text/plain": [
       "True"
      ]
     },
     "execution_count": 73,
     "metadata": {},
     "output_type": "execute_result"
    }
   ],
   "source": [
    "a>3 or b<=2"
   ]
  },
  {
   "cell_type": "code",
   "execution_count": 79,
   "id": "95a196a4-0232-4b62-8430-7920cc932142",
   "metadata": {},
   "outputs": [
    {
     "data": {
      "text/plain": [
       "True"
      ]
     },
     "execution_count": 79,
     "metadata": {},
     "output_type": "execute_result"
    }
   ],
   "source": [
    "a==True or b!=False"
   ]
  },
  {
   "cell_type": "code",
   "execution_count": 136,
   "id": "30ef712a-7f7f-4ab1-af48-55337cc65a9f",
   "metadata": {},
   "outputs": [
    {
     "data": {
      "text/plain": [
       "(True, False)"
      ]
     },
     "execution_count": 136,
     "metadata": {},
     "output_type": "execute_result"
    }
   ],
   "source": [
    "(a>3) | (b<=2), a>3 | b<=2"
   ]
  },
  {
   "cell_type": "markdown",
   "id": "60f3678d-da2d-4ab5-9e46-50e9d25e94f0",
   "metadata": {},
   "source": [
    "Here also, you need to use the parenthesis for expressions individually when you want to use the `|` symbol for the `OR` operation."
   ]
  },
  {
   "cell_type": "markdown",
   "id": "a2ead201-e9e6-44b4-8729-c37589085926",
   "metadata": {},
   "source": [
    "__`NOT` Operator__"
   ]
  },
  {
   "cell_type": "code",
   "execution_count": 81,
   "id": "6d93e50d-420b-4001-b344-b1158547dc81",
   "metadata": {},
   "outputs": [
    {
     "data": {
      "text/plain": [
       "(False, True)"
      ]
     },
     "execution_count": 81,
     "metadata": {},
     "output_type": "execute_result"
    }
   ],
   "source": [
    "not a>b,not a<b"
   ]
  },
  {
   "cell_type": "code",
   "execution_count": 84,
   "id": "ac5b0787-99c5-4dc7-b1af-0c84826303c1",
   "metadata": {},
   "outputs": [
    {
     "data": {
      "text/plain": [
       "(False, True)"
      ]
     },
     "execution_count": 84,
     "metadata": {},
     "output_type": "execute_result"
    }
   ],
   "source": [
    "not True, not False"
   ]
  },
  {
   "cell_type": "markdown",
   "id": "bb46bee8-6eca-495e-9383-f0a79fe8f642",
   "metadata": {
    "jp-MarkdownHeadingCollapsed": true,
    "tags": []
   },
   "source": [
    "### `IF-ELSE` Control Structures"
   ]
  },
  {
   "attachments": {
    "bd118605-c0cd-4017-adc9-c07514927f64.png": {
     "image/png": "[encoded data removed]"
    }
   },
   "cell_type": "markdown",
   "id": "207b88ff-3e24-42cd-b58a-e3972d2ced31",
   "metadata": {},
   "source": [
    "Now that we have a basic idea on the relational and binary operators, let us see how they are used to specify a condition. \n",
    "\n",
    "Conditions are specified using control structures. One of the main control structures is: __`IF-ELIF`__.\n",
    "\n",
    "The `IF` keyword is used to check a condition, and apply a block of code if the condition is true. If the condition is false, then we jump to the `ELIF` keyword, which checks the condition specified within it, and apply a block of code if the condition is true. This carries on till the last condition, where we define the condition using the `ELSE` keyword.\n",
    "\n",
    "<u><i>Syntax:</i></u>\n",
    "\n",
    "![image.png](attachment:bd118605-c0cd-4017-adc9-c07514927f64.png)\n",
    "\n",
    "This complete control structure __does not support curly brackets__ like other programming languages (JAVA, C++ etc). Instead, it __uses indentation__ to see which block of code has to be run under which statement. You need to use tabs below the IF, ELIF and ELSE statements for it to run smoothly.\n",
    "\n",
    "Let us see an example:\n"
   ]
  },
  {
   "cell_type": "code",
   "execution_count": 148,
   "id": "75de6d45-53f3-4034-acbb-0a61524f3849",
   "metadata": {},
   "outputs": [
    {
     "name": "stdin",
     "output_type": "stream",
     "text": [
      "Enter the number: 54\n"
     ]
    },
    {
     "name": "stdout",
     "output_type": "stream",
     "text": [
      "54 is even number\n"
     ]
    }
   ],
   "source": [
    "x=input('Enter the number:');\n",
    "x_fl=int(x);\n",
    "\n",
    "if x_fl % 2 == 0:\n",
    "    print(x_fl,'is even number');\n",
    "else:\n",
    "    print(x_fl,'is odd number');"
   ]
  },
  {
   "cell_type": "code",
   "execution_count": 146,
   "id": "321a3520-a4cc-4919-861a-a47d392fb334",
   "metadata": {},
   "outputs": [
    {
     "name": "stdin",
     "output_type": "stream",
     "text": [
      "Enter your total bill amount: 15478\n"
     ]
    },
    {
     "name": "stdout",
     "output_type": "stream",
     "text": [
      "Congratulations! You have earned a discount of INR 3869.5\n",
      "Your payment due is: 11608.5\n"
     ]
    }
   ],
   "source": [
    "bill=input('Enter your total bill amount:');\n",
    "bill=float(bill);\n",
    "\n",
    "if bill>=25000:\n",
    "    discount=0.4*bill;\n",
    "elif bill>=15000 and bill<25000:\n",
    "    discount=0.25*bill;\n",
    "elif bill>=10000 and bill<15000:\n",
    "    discount=0.15*bill;\n",
    "else:\n",
    "    discount=0;\n",
    "\n",
    "if discount==0:\n",
    "    print('Sorry! You are not eligible for a discount.');\n",
    "else:\n",
    "    print('Congratulations! You have earned a discount of INR',discount);\n",
    "\n",
    "print('Your payment due is:',bill-discount);\n",
    "    "
   ]
  },
  {
   "cell_type": "markdown",
   "id": "577254fa-a170-40d0-b583-deaaffbd4806",
   "metadata": {},
   "source": [
    "Hence, we used the if-else statement to apply conditions to our outputs. "
   ]
  },
  {
   "cell_type": "markdown",
   "id": "22b9eb51-2835-485d-bd73-5603fdb42fe6",
   "metadata": {},
   "source": [
    "#### Nested IF-ELSE Structures"
   ]
  },
  {
   "cell_type": "markdown",
   "id": "41c85975-e135-46f2-85ff-1da5b97eeed2",
   "metadata": {},
   "source": [
    "We can nest one `IF-ELSE` structure in another if-else structure. For that, we need to use indentation in a proper manner to define the block of code within the `if` and `else` statement(s).\n",
    "\n",
    "Let us see an example:"
   ]
  },
  {
   "cell_type": "code",
   "execution_count": 97,
   "id": "726a91b9-2f0a-4aa7-b101-c7fcf6f463cd",
   "metadata": {},
   "outputs": [
    {
     "data": {
      "text/plain": [
       "{2021: ['India', 'New Zealand'],\n",
       " 2019: ['England', 'New Zealand'],\n",
       " 2017: ['India', 'Pakistan'],\n",
       " 2015: ['Australia', 'New Zealand'],\n",
       " 2014: ['India', 'Sri Lanka']}"
      ]
     },
     "execution_count": 97,
     "metadata": {},
     "output_type": "execute_result"
    }
   ],
   "source": [
    "finalists={2021:['India','New Zealand'],2019:['England','New Zealand'],2017:['India','Pakistan'],\n",
    "           2015:['Australia','New Zealand'],2014:['India','Sri Lanka']}\n",
    "finalists"
   ]
  },
  {
   "cell_type": "code",
   "execution_count": 156,
   "id": "75f853ba-eff3-4b38-a9a5-b16223a324b8",
   "metadata": {},
   "outputs": [
    {
     "name": "stdin",
     "output_type": "stream",
     "text": [
      "Enter the year to check if any championship held or not: 2019\n"
     ]
    },
    {
     "name": "stdout",
     "output_type": "stream",
     "text": [
      "Yes ! A championship was held in 2019\n"
     ]
    },
    {
     "name": "stdin",
     "output_type": "stream",
     "text": [
      "Enter the country name (in sentence case) to see if they were the finalists: India\n"
     ]
    },
    {
     "name": "stdout",
     "output_type": "stream",
     "text": [
      "No! India did not make it to the finals. The finalists were: England and New Zealand \n"
     ]
    }
   ],
   "source": [
    "year=input('Enter the year to check if any championship held or not:');\n",
    "year=int(year);\n",
    "if year in finalists:\n",
    "    print('Yes ! A championship was held in {}'.format(year));\n",
    "    country=input('Enter the country name (in sentence case) to see if they were the finalists:');\n",
    "    if country in finalists[year]:\n",
    "        print(\"Yes! {} made it to the finals. The finalists were: {} and {}\".format(country,finalists[year][0],\n",
    "                                                                                  finalists[year][1]));\n",
    "    else:\n",
    "        print('No! {} did not make it to the finals. The finalists were: {} and {} '\n",
    "              .format(country,finalists[year][0],finalists[year][1]));\n",
    "else:\n",
    "    print('There was no championship in the year',year);"
   ]
  },
  {
   "cell_type": "markdown",
   "id": "4e29d053-dbb2-4f9d-a4b2-32f6a0f6bef9",
   "metadata": {},
   "source": [
    "This is how nesting IF-ELSE structures works!"
   ]
  },
  {
   "cell_type": "markdown",
   "id": "b7ca26c2-258d-45b5-8fac-40794409285f",
   "metadata": {
    "tags": []
   },
   "source": [
    "### Looping Control Structures"
   ]
  },
  {
   "cell_type": "markdown",
   "id": "d6a61cf9-ed54-4ead-b065-f65553715cd9",
   "metadata": {},
   "source": [
    "When you have to repeat a statement multiple times, using different indexes in an iterable object, like string, tuple and dictionary, then we use the __Looping Control Structures__.\n",
    "\n",
    "These structures _repeat a block of code as many times as you want_. They give us the power to modify data structures without creating tedious, lengthy formulas by indexing, slicing and methods.\n",
    "\n",
    "Let us see the various types of looping structures:\n"
   ]
  },
  {
   "cell_type": "markdown",
   "id": "85ee403b-342b-492a-8202-4768886991f1",
   "metadata": {
    "jp-MarkdownHeadingCollapsed": true,
    "tags": []
   },
   "source": [
    "#### For Loops"
   ]
  },
  {
   "attachments": {
    "3579518d-938a-4bad-bdc8-e3e12330cb58.png": {
     "image/png": "[encoded data removed]"
    }
   },
   "cell_type": "markdown",
   "id": "53ccfd06-febd-4e24-9bfa-f0c5aca3099c",
   "metadata": {},
   "source": [
    "These loops are __Counter-driven Loops__. This means that these loops iterate over a fixed set of values. These values are iterable objects such as strings, lists, tuples, sets or dictionaries. \n",
    "\n",
    "These loops can be used to access __elements of such objects__, as well count the number of iterations. It can be looped over data structures, or numeric lists, such as those defined by the `range()` function.\n",
    "\n",
    "__The `range()` function__ is used to extract a list of integers in a range. This range cannot contain floating point numbers, or Boolean values in definition. It has the following syntax –\n",
    "\n",
    "`range(start,stop,step);`\n",
    "\n",
    "It is often used in iterable objects along with the counter-driven loops to navigate through the object. These loops are operated using the for keyword. The following syntax is used for this structure –\n",
    "\n",
    "![image.png](attachment:3579518d-938a-4bad-bdc8-e3e12330cb58.png)\n",
    "\n",
    "Just like the `IF-ELSE` control structures, the `FOR LOOPS` are also __indentation-sensitive__. We do not use brackets here, unless it is with the symbols of the logical operators `AND (&)` and `OR (|)`.\n",
    "\n",
    "Let us see some examples.\n"
   ]
  },
  {
   "cell_type": "markdown",
   "id": "7a2538fe-8fef-4499-938f-5ce072d22bb9",
   "metadata": {
    "jp-MarkdownHeadingCollapsed": true,
    "tags": []
   },
   "source": [
    "##### Using the `range()` function"
   ]
  },
  {
   "cell_type": "code",
   "execution_count": 232,
   "id": "0a53d654-0fc1-4da0-a90b-5cceace41823",
   "metadata": {},
   "outputs": [
    {
     "name": "stdout",
     "output_type": "stream",
     "text": [
      "0:1:2:3:4:5:6:7:8:9:"
     ]
    }
   ],
   "source": [
    "for i in range(10):\n",
    "    print(i,end=':')"
   ]
  },
  {
   "cell_type": "code",
   "execution_count": 233,
   "id": "bbec7854-09a8-41ac-826b-cb1000297cef",
   "metadata": {},
   "outputs": [
    {
     "name": "stdout",
     "output_type": "stream",
     "text": [
      "1 2 3 4 5 6 7 8 9 "
     ]
    }
   ],
   "source": [
    "for i in range(1,10):\n",
    "    print(i,end=\" \")"
   ]
  },
  {
   "cell_type": "code",
   "execution_count": 329,
   "id": "8c629418-8768-459f-a0ed-031ea6951ead",
   "metadata": {},
   "outputs": [
    {
     "name": "stdout",
     "output_type": "stream",
     "text": [
      "120\n"
     ]
    }
   ],
   "source": [
    "j=0;\n",
    "for i in range(1,16):\n",
    "    j+=i;\n",
    "\n",
    "print(j)"
   ]
  },
  {
   "cell_type": "markdown",
   "id": "7ebb5004-62b6-468d-b3a6-1b16a2c6ba0e",
   "metadata": {
    "jp-MarkdownHeadingCollapsed": true,
    "tags": []
   },
   "source": [
    "##### Iterating over Strings"
   ]
  },
  {
   "cell_type": "code",
   "execution_count": 322,
   "id": "3c7c1843-0ced-445c-a1de-490b389510f3",
   "metadata": {},
   "outputs": [
    {
     "name": "stdout",
     "output_type": "stream",
     "text": [
      "U t t a r   P r a d e s h "
     ]
    },
    {
     "data": {
      "text/plain": [
       "2"
      ]
     },
     "execution_count": 322,
     "metadata": {},
     "output_type": "execute_result"
    }
   ],
   "source": [
    "state='Uttar Pradesh';\n",
    "count=0;\n",
    "for i in state:\n",
    "    print(i,end=\" \");\n",
    "    if 'a'==i:\n",
    "        count+=1;\n",
    "\n",
    "count"
   ]
  },
  {
   "cell_type": "markdown",
   "id": "3ba62846-41ca-4c78-b030-c5ee70bbe59a",
   "metadata": {
    "jp-MarkdownHeadingCollapsed": true,
    "tags": []
   },
   "source": [
    "##### Iterating over Data Structures"
   ]
  },
  {
   "cell_type": "code",
   "execution_count": 237,
   "id": "01b8901c-e163-4d1d-880f-5884e240b54f",
   "metadata": {},
   "outputs": [],
   "source": [
    "list1=['A',1,True,0.5,6,False,'Python',3,'Sleep'];\n",
    "tuple1='A',1,True,0.5,6,False,'Python',3,'Sleep'\n",
    "set1={'A',1,True,0.5,6,False,'Python',3,'Sleep'}\n",
    "dict1={1:'A',2:'Python',3:0.5,4:False,5:True,6:'Sleep'}"
   ]
  },
  {
   "cell_type": "code",
   "execution_count": 239,
   "id": "e3e3e93f-132f-4e03-ac24-6b5cfa76710f",
   "metadata": {},
   "outputs": [
    {
     "name": "stdout",
     "output_type": "stream",
     "text": [
      "A 1 True 0.5 6 False Python 3 Sleep "
     ]
    }
   ],
   "source": [
    "for i in list1:\n",
    "    print(i,end=\" \")"
   ]
  },
  {
   "cell_type": "markdown",
   "id": "35f704ac-e0f5-458f-9cca-e5b05ecd0fe1",
   "metadata": {},
   "source": [
    "Hence, all the elements of the list are returned."
   ]
  },
  {
   "cell_type": "code",
   "execution_count": 240,
   "id": "56855aad-8dc2-4e81-8f99-43aa79ff8e71",
   "metadata": {},
   "outputs": [
    {
     "name": "stdout",
     "output_type": "stream",
     "text": [
      "A 1 True 0.5 6 False Python 3 Sleep "
     ]
    }
   ],
   "source": [
    "for i in tuple1:\n",
    "    print(i,end=\" \")"
   ]
  },
  {
   "cell_type": "markdown",
   "id": "41bbc3f5-8cf7-4755-8ecf-966f525aa524",
   "metadata": {},
   "source": [
    "Hence, all the elements of a tuple are returned. "
   ]
  },
  {
   "cell_type": "code",
   "execution_count": 241,
   "id": "a77bd264-9313-4327-af26-58130e482737",
   "metadata": {},
   "outputs": [
    {
     "name": "stdout",
     "output_type": "stream",
     "text": [
      "0.5 1 False 3 6 Sleep A Python "
     ]
    }
   ],
   "source": [
    "for i in set1:\n",
    "    print(i,end=\" \")"
   ]
  },
  {
   "cell_type": "markdown",
   "id": "7519d914-054a-4bce-9e14-68b675c5e0b8",
   "metadata": {},
   "source": [
    "Hence, all the elements of the set are returned. See carefully that True is not returned, because we already have a value 1 here. "
   ]
  },
  {
   "cell_type": "code",
   "execution_count": 242,
   "id": "1bbc967f-367e-494f-bab0-8c99d61bb2d1",
   "metadata": {},
   "outputs": [
    {
     "name": "stdout",
     "output_type": "stream",
     "text": [
      "1 2 3 4 5 6 "
     ]
    }
   ],
   "source": [
    "for i in dict1:\n",
    "    print(i,end=\" \")"
   ]
  },
  {
   "cell_type": "markdown",
   "id": "4b1d83a5-6c47-4296-a182-fa82dcd116f2",
   "metadata": {},
   "source": [
    "Hence, for a dictionary, only the indexes are returned. To return the values, we use either the `values()` method or the `dict()` function for typecasting inside the `for` definition:"
   ]
  },
  {
   "cell_type": "code",
   "execution_count": 255,
   "id": "f966027c-4818-4586-9285-d80ce7ccdc88",
   "metadata": {},
   "outputs": [
    {
     "name": "stdout",
     "output_type": "stream",
     "text": [
      "A Python 0.5 False True Sleep "
     ]
    }
   ],
   "source": [
    "for i in dict1:\n",
    "    print(dict(dict1)[i],end=\" \")"
   ]
  },
  {
   "cell_type": "code",
   "execution_count": 257,
   "id": "7bc08014-5767-4dcf-96a7-c86da1bf0efd",
   "metadata": {},
   "outputs": [
    {
     "name": "stdout",
     "output_type": "stream",
     "text": [
      "A Python 0.5 False True Sleep "
     ]
    }
   ],
   "source": [
    "for i in dict1.values():\n",
    "    print(i,end=\" \")"
   ]
  },
  {
   "cell_type": "markdown",
   "id": "590eace4-d9d6-4867-9d1f-90a36310c5b9",
   "metadata": {
    "jp-MarkdownHeadingCollapsed": true,
    "tags": []
   },
   "source": [
    "##### For Loops in Nested Data Structures"
   ]
  },
  {
   "cell_type": "code",
   "execution_count": 277,
   "id": "f1c205d2-6e90-43a3-b091-6eadca965e1b",
   "metadata": {},
   "outputs": [
    {
     "name": "stdout",
     "output_type": "stream",
     "text": [
      "A acadab\n",
      "B lariusi\n",
      "C tridsuhff\n",
      "D ensmur\n",
      "E elliarm\n"
     ]
    }
   ],
   "source": [
    "list1=[('A','Abracadabra'),('B','Bellariusies'),('C','Centridsuhffes'),('D','Dofensmurtz'),('E','Expelliarmus')]\n",
    "\n",
    "for i,j in list1:\n",
    "    print(i,j[3:-2])"
   ]
  },
  {
   "cell_type": "markdown",
   "id": "1b70718c-5816-4116-94df-a3d4819a2cd9",
   "metadata": {
    "tags": []
   },
   "source": [
    "##### Nested For Loops"
   ]
  },
  {
   "cell_type": "markdown",
   "id": "bc402272-1825-464e-8c15-ec277f699049",
   "metadata": {},
   "source": [
    "We can nest one For Loop inside another. A simple example to find out the prime numbers in a range is a very good example of this."
   ]
  },
  {
   "cell_type": "code",
   "execution_count": null,
   "id": "463fcc60-c626-4aed-a553-11d76d112ed4",
   "metadata": {},
   "outputs": [
    {
     "data": {
      "text/plain": [
       "8"
      ]
     },
     "execution_count": 401,
     "metadata": {},
     "output_type": "execute_result"
    }
   ],
   "source": [
    "prime=set({});\n",
    "ctr=len(range(2,20));\n",
    "list1=[];\n",
    "\n",
    "for n in range(2,20):\n",
    "    flag=True\n",
    "    for i in range(2,n):\n",
    "        if n % i == 0:\n",
    "            flag=False;\n",
    "            ctr=ctr-1;\n",
    "            break;\n",
    "    if flag:\n",
    "        list1+=[n]\n",
    "ctr"
   ]
  },
  {
   "cell_type": "markdown",
   "id": "3fe85605-c32d-4e18-9197-05c0028e44d1",
   "metadata": {
    "jp-MarkdownHeadingCollapsed": true,
    "tags": []
   },
   "source": [
    "#### While Loops"
   ]
  },
  {
   "attachments": {
    "8d1010e7-c022-4323-a5e1-b8e57489fc92.png": {
     "image/png": "[encoded data removed]"
    }
   },
   "cell_type": "markdown",
   "id": "34d8c5ff-0a7e-4197-9c5c-035c83dedc7a",
   "metadata": {},
   "source": [
    "This looping is an __event-based looping__, where the programmer __does not know the number of iterations__ for the program. It is used to execute a code block inside the statement while the condition still holds true. We use the `while` keyword for these types of loops. The syntax for this is given below:\n",
    "\n",
    " ![image.png](attachment:8d1010e7-c022-4323-a5e1-b8e57489fc92.png)\n",
    "\n",
    "Let us see an example to understand this."
   ]
  },
  {
   "cell_type": "code",
   "execution_count": 406,
   "id": "80a02aec-ac02-4171-b2c5-5fb5f58674a0",
   "metadata": {},
   "outputs": [
    {
     "name": "stdin",
     "output_type": "stream",
     "text": [
      "Enter:  python\n"
     ]
    },
    {
     "name": "stdout",
     "output_type": "stream",
     "text": [
      "python\n"
     ]
    },
    {
     "name": "stdin",
     "output_type": "stream",
     "text": [
      "Enter:  2\n"
     ]
    },
    {
     "name": "stdout",
     "output_type": "stream",
     "text": [
      "2\n"
     ]
    },
    {
     "name": "stdin",
     "output_type": "stream",
     "text": [
      "Enter:  program\n"
     ]
    },
    {
     "name": "stdout",
     "output_type": "stream",
     "text": [
      "program\n"
     ]
    },
    {
     "name": "stdin",
     "output_type": "stream",
     "text": [
      "Enter:  quit\n"
     ]
    },
    {
     "name": "stdout",
     "output_type": "stream",
     "text": [
      "Terminating....completed\n"
     ]
    }
   ],
   "source": [
    "ch=''\n",
    "while ch!='quit':\n",
    "    ch=input('Enter: ');\n",
    "    if ch=='quit':\n",
    "        print('Terminating....completed');\n",
    "    else:\n",
    "        print(ch)\n",
    "    "
   ]
  },
  {
   "cell_type": "code",
   "execution_count": 414,
   "id": "13374b63-c24b-4c41-95a3-32dc44696d9d",
   "metadata": {},
   "outputs": [
    {
     "name": "stdout",
     "output_type": "stream",
     "text": [
      "The difference of the two lists [6, 7, 4, 3, 9] and [1, 2, 3, 4, 5] is the list : [5, 5, 1, -1, 4]\n"
     ]
    }
   ],
   "source": [
    "list1=[1,2,3,4,5];\n",
    "list2=[6,7,4,3,9];\n",
    "i=0;\n",
    "list3=[];\n",
    "while i<len(list2):\n",
    "    list3+=[list2[i]-list1[i]]\n",
    "    i+=1;\n",
    "\n",
    "print('The difference of the two lists {} and {} is the list : {}'.format(list2,list1,list3))"
   ]
  },
  {
   "cell_type": "markdown",
   "id": "ce44ecb7-542e-4f19-82b0-7d7dd84c21d0",
   "metadata": {},
   "source": [
    "Let us assign a boolean value in our while statement. Remember that until there is a break statement inside the loop, it will run infinitely."
   ]
  },
  {
   "cell_type": "code",
   "execution_count": 416,
   "id": "60addbb0-49c2-4796-9918-f7f04b66990f",
   "metadata": {},
   "outputs": [
    {
     "name": "stdin",
     "output_type": "stream",
     "text": [
      "Enter value (type 'q' to quit) : res\n"
     ]
    },
    {
     "name": "stdout",
     "output_type": "stream",
     "text": [
      "res\n"
     ]
    },
    {
     "name": "stdin",
     "output_type": "stream",
     "text": [
      "Enter value (type 'q' to quit) : res\n"
     ]
    },
    {
     "name": "stdout",
     "output_type": "stream",
     "text": [
      "res\n"
     ]
    },
    {
     "name": "stdin",
     "output_type": "stream",
     "text": [
      "Enter value (type 'q' to quit) : dfg\n"
     ]
    },
    {
     "name": "stdout",
     "output_type": "stream",
     "text": [
      "dfg\n"
     ]
    },
    {
     "name": "stdin",
     "output_type": "stream",
     "text": [
      "Enter value (type 'q' to quit) : 232r\n"
     ]
    },
    {
     "name": "stdout",
     "output_type": "stream",
     "text": [
      "232r\n"
     ]
    },
    {
     "name": "stdin",
     "output_type": "stream",
     "text": [
      "Enter value (type 'q' to quit) : q\n"
     ]
    },
    {
     "name": "stdout",
     "output_type": "stream",
     "text": [
      "\n",
      " Quitting.......Completed\n"
     ]
    }
   ],
   "source": [
    "while True:\n",
    "    inp=input(\"Enter value (type 'q' to quit) :\");\n",
    "    if inp=='q':\n",
    "        print('\\n Quitting.......Completed');\n",
    "        break;\n",
    "    else:\n",
    "        print(inp);"
   ]
  },
  {
   "cell_type": "code",
   "execution_count": 421,
   "id": "9a4f2f9c-1186-4502-a74d-48ba7e7e176a",
   "metadata": {},
   "outputs": [
    {
     "name": "stdin",
     "output_type": "stream",
     "text": [
      " 12\n"
     ]
    },
    {
     "data": {
      "text/plain": [
       "[1, 4, 9, 16, 25, 36, 49, 64, 81, 100, 121, 144]"
      ]
     },
     "execution_count": 421,
     "metadata": {},
     "output_type": "execute_result"
    }
   ],
   "source": [
    "n=int(input());\n",
    "[i**2 for i in range(1,n+1)]"
   ]
  },
  {
   "cell_type": "code",
   "execution_count": 422,
   "id": "b54e8061-cff3-4300-a958-1fd64c53aefd",
   "metadata": {},
   "outputs": [],
   "source": []
  },
  {
   "cell_type": "code",
   "execution_count": 441,
   "id": "03a3ff8d-5ad7-4d83-ab76-ee7bae7c44c0",
   "metadata": {},
   "outputs": [
    {
     "name": "stdin",
     "output_type": "stream",
     "text": [
      "Enter list:  aaasss,eeeggg,vvfdgsdg,utfdgdsfg,ofdofdfgsdfj,eegdfbhd,cvbdcvsdg,fghdvs\n"
     ]
    },
    {
     "data": {
      "text/plain": [
       "['aaasss', 'eeeggg', 'utfdgdsfg', 'ofdofdfgsdfj', 'eegdfbhd']"
      ]
     },
     "execution_count": 441,
     "metadata": {},
     "output_type": "execute_result"
    }
   ],
   "source": [
    "list1=input('Enter list: ');\n",
    "list1=list1.split(',');\n",
    "vowels=['a','e','i','o','u','A','E','I','O','U']\n",
    "fin_list=[];\n",
    "for i in list1:\n",
    "    if(i[0] in vowels):\n",
    "        fin_list+=[i];\n",
    "fin_list"
   ]
  },
  {
   "cell_type": "code",
   "execution_count": 436,
   "id": "55784c89-ea1e-4a31-83ff-1e0355685f9d",
   "metadata": {},
   "outputs": [
    {
     "data": {
      "text/plain": [
       "['aBDFDF', 'efdbdfbf', 'afbdfb']"
      ]
     },
     "execution_count": 436,
     "metadata": {},
     "output_type": "execute_result"
    }
   ],
   "source": [
    "[i for i in list1 if i[0] in vowels]"
   ]
  },
  {
   "cell_type": "code",
   "execution_count": 442,
   "id": "5a5181c9-bb06-43d2-971d-abe3c5f2f334",
   "metadata": {},
   "outputs": [
    {
     "name": "stdout",
     "output_type": "stream",
     "text": [
      "{'A': 'aaa', 'C': 'ccc', 'B': 'bbb', 'D': 'ddd'}\n"
     ]
    }
   ],
   "source": [
    "d = {x.upper(): x*3 for x in 'acbd'}\n",
    "print(d)"
   ]
  },
  {
   "cell_type": "markdown",
   "id": "6f75f171-a0f5-4a44-bff8-7f62f40352dd",
   "metadata": {
    "tags": []
   },
   "source": [
    "#### Comprehensions"
   ]
  },
  {
   "cell_type": "markdown",
   "id": "99e9ea5c-5669-4646-bec3-5ef2c9e48529",
   "metadata": {},
   "source": [
    "Comprehensions are syntactic constructs that __enable sequences to be built from other sequences__ in a clear and concise manner. These statements can be thought of, as __shorthand notations__ for some simpler loop exercises. \n",
    "Python supports comprehension of __lists, sets__ and __dictionaries__. Let us look at each of them individually. "
   ]
  },
  {
   "cell_type": "markdown",
   "id": "e2ed9d2a-0f79-48b1-9b80-c092ce8bf52a",
   "metadata": {
    "jp-MarkdownHeadingCollapsed": true,
    "tags": []
   },
   "source": [
    "##### List Comprehensions"
   ]
  },
  {
   "cell_type": "markdown",
   "id": "b810bc8c-544d-4f0a-a1b7-9c84036f0016",
   "metadata": {},
   "source": [
    "List Comprehensions can be used to create new lists without writing long and lengthy lines of code. The syntax for comprehension is:\n",
    "\n",
    "`var = [output statement iterable keyword condition];`\n",
    "\n",
    "Here, the variable var will create a new list which will store the output of the loop within the square brackets. The parameters inside the square brackets are:\n",
    "- Output statement – where you declare what needs to be stored\n",
    "- Iterable keyword statement– method of iterating, i.e. counter-driven (for loop) or event-based (while loop).\n",
    "- Condition – conditions used for controlling the output (if-else constructs)\n",
    "\n",
    "Let us see an example. \n"
   ]
  },
  {
   "cell_type": "code",
   "execution_count": 2,
   "id": "e7098440-17b1-42bd-b74d-ae758122c4b5",
   "metadata": {},
   "outputs": [
    {
     "data": {
      "text/plain": [
       "[4, 8, 12, 16, 20]"
      ]
     },
     "execution_count": 2,
     "metadata": {},
     "output_type": "execute_result"
    }
   ],
   "source": [
    "list1=[1,2,3,4,5,6,7,8,9,10];\n",
    "list2=[];\n",
    "\n",
    "for i in list1:\n",
    "    if i%2==0:\n",
    "        list2+=[i*2];\n",
    "list2"
   ]
  },
  {
   "cell_type": "markdown",
   "id": "cac54ed8-12f1-43fc-9f3e-580c193432f8",
   "metadata": {},
   "source": [
    "When using list comprehensions, we need to identify which part is the output statement, the iterable keyword statement and the condition. This is also identified above. Let us see list comprehensions in action now."
   ]
  },
  {
   "cell_type": "code",
   "execution_count": 1,
   "id": "b5f6b60a-ad3d-43d1-9e47-891b4b040904",
   "metadata": {},
   "outputs": [
    {
     "data": {
      "text/plain": [
       "[4, 8, 12, 16, 20]"
      ]
     },
     "execution_count": 1,
     "metadata": {},
     "output_type": "execute_result"
    }
   ],
   "source": [
    "list1=[1,2,3,4,5,6,7,8,9,10];\n",
    "list2=[];\n",
    "\n",
    "list2=[i*2 for i in list1 if i%2==0]\n",
    "list2"
   ]
  },
  {
   "cell_type": "markdown",
   "id": "ef8352f7-0272-4653-8cb5-822dc4e14635",
   "metadata": {},
   "source": [
    "Hence, a code of 6 lines was reduced to a code of 2 lines. More specifically, the code of the looping statement reduced from 3 to 1. This is how we __optimize our code using comprehensions__. "
   ]
  },
  {
   "cell_type": "markdown",
   "id": "69fac2fb-30ba-43c5-b5a0-f7bd383af78e",
   "metadata": {},
   "source": [
    "While dealing with multiple lists, we can also use the `zip()` function, that allows us to iterate over two or more objects at the same time. The syntax for this function is –\n",
    "\n",
    "`zip(x,y,z....);`\n",
    "\n",
    "Let us use this function in the lists created above. "
   ]
  },
  {
   "cell_type": "code",
   "execution_count": 10,
   "id": "c8a68d7c-8b87-488e-9672-46701e3cd408",
   "metadata": {},
   "outputs": [
    {
     "name": "stdout",
     "output_type": "stream",
     "text": [
      "1 - 4\n",
      "2 - 8\n",
      "3 - 12\n",
      "4 - 16\n",
      "5 - 20\n"
     ]
    }
   ],
   "source": [
    "for i,j in zip(list1,list2):\n",
    "    print(i,'-',j);"
   ]
  },
  {
   "cell_type": "markdown",
   "id": "ca7f52e6-c631-44e8-934e-5522a7548d08",
   "metadata": {},
   "source": [
    "Note that this function will only iterate over the __limit of the smallest list__, due to which we are unable to see other values of `list1`.\n",
    "\n",
    "Let us see an example for iterating over more than 2 lists. The following example clarifies things -"
   ]
  },
  {
   "cell_type": "code",
   "execution_count": 140,
   "id": "a21a3125-e627-4154-a5ad-dc2332bba824",
   "metadata": {},
   "outputs": [
    {
     "name": "stdout",
     "output_type": "stream",
     "text": [
      "1 nos. : 2,3,4\n",
      "2 nos. : 4,6,8\n",
      "3 nos. : 6,9,12\n",
      "4 nos. : 8,12,16\n",
      "5 nos. : 10,15,20\n",
      "6 nos. : 12,18,24\n",
      "7 nos. : 14,21,28\n",
      "8 nos. : 16,24,32\n",
      "9 nos. : 18,27,36\n",
      "10 nos. : 20,30,40\n"
     ]
    }
   ],
   "source": [
    "list1=[i for i in range(2,22,2)]\n",
    "list2=[i for i in range(3,33,3)]\n",
    "list3=[i for i in range(4,44,4)]\n",
    "list4=[i for i in range(1,11)]\n",
    "\n",
    "for i,j,k,l in zip(list1,list2,list3,list4):\n",
    "    print('{} nos. : {},{},{}'.format(l,i,j,k));"
   ]
  },
  {
   "cell_type": "code",
   "execution_count": 163,
   "id": "4dbe09e9-7614-431f-8010-0d3e6e2b8da1",
   "metadata": {},
   "outputs": [
    {
     "data": {
      "text/plain": [
       "[(1, 2, 3, 4),\n",
       " (2, 4, 6, 8),\n",
       " (3, 6, 9, 12),\n",
       " (4, 8, 12, 16),\n",
       " (5, 10, 15, 20),\n",
       " (6, 12, 18, 24),\n",
       " (7, 14, 21, 28),\n",
       " (8, 16, 24, 32),\n",
       " (9, 18, 27, 36),\n",
       " (10, 20, 30, 40)]"
      ]
     },
     "execution_count": 163,
     "metadata": {},
     "output_type": "execute_result"
    }
   ],
   "source": [
    "[ for i,j,k,l in zip(list1,list2,list3,list4)]"
   ]
  },
  {
   "cell_type": "code",
   "execution_count": 25,
   "id": "32b5a982-0fed-45d3-b08f-df4bcd40d865",
   "metadata": {},
   "outputs": [
    {
     "name": "stdin",
     "output_type": "stream",
     "text": [
      " 7\n"
     ]
    },
    {
     "name": "stdout",
     "output_type": "stream",
     "text": [
      "[1, 4, 9, 16, 25, 36, 49]\n"
     ]
    }
   ],
   "source": [
    "n = int(input())\n",
    "print([i**2 for i in range(1,n+1)])"
   ]
  },
  {
   "cell_type": "markdown",
   "id": "947c7888-c451-4f20-8c0f-5d924b4dd4be",
   "metadata": {
    "tags": []
   },
   "source": [
    "##### Dictionary Comprehensions"
   ]
  },
  {
   "cell_type": "markdown",
   "id": "336db3cd-a859-4b13-988a-0a4acb1868c5",
   "metadata": {},
   "source": [
    "Dictionary comprehensions are used to manipulate dictionaries using comprehensions. This type of comprehension has a different syntax than that of the list comprehension. It is –\n",
    "\n",
    "`var = {iterable variable: output statement iterable keyword statement condition };` \n",
    "\n",
    "Here, the __iterable variable__ is treated as the __`key`__ of the dictionary, whereas the __output statement__ defines the __`value`__ of the key. Let us see an example. \n"
   ]
  },
  {
   "cell_type": "code",
   "execution_count": 48,
   "id": "91b8f1a6-44e1-4a61-8f62-5f214732a83d",
   "metadata": {},
   "outputs": [
    {
     "data": {
      "text/plain": [
       "{0: 'This', 1: 'is', 2: 'Python', 3: 'Programming'}"
      ]
     },
     "execution_count": 48,
     "metadata": {},
     "output_type": "execute_result"
    }
   ],
   "source": [
    "string='This is Python Programming';\n",
    "\n",
    "string.split(' ')\n",
    "for i in range(0,len(string.split(' '))):\n",
    "    dict1[i]=string.split(' ')[i];\n",
    "dict(sorted(dict1.items()))"
   ]
  },
  {
   "cell_type": "markdown",
   "id": "2345bd01-7796-4786-886b-80d00ca77474",
   "metadata": {},
   "source": [
    "Now, let us use the dictionary comprehension to create this dictionary. The code is given below:"
   ]
  },
  {
   "cell_type": "code",
   "execution_count": 49,
   "id": "65777e6c-a208-442f-b07d-4b41af5d53f7",
   "metadata": {},
   "outputs": [
    {
     "data": {
      "text/plain": [
       "{0: 'This', 1: 'is', 2: 'Python', 3: 'Programming'}"
      ]
     },
     "execution_count": 49,
     "metadata": {},
     "output_type": "execute_result"
    }
   ],
   "source": [
    "dict1={i:string.split(' ')[i] for i in range(len(string.split(' ')))}\n",
    "dict1"
   ]
  },
  {
   "cell_type": "markdown",
   "id": "ad0fa017-01a2-49b0-bd9e-3f007aaae014",
   "metadata": {},
   "source": [
    "We can also use the `zip()` function in comprehensions to make our iterable object. The following example illustrates this. It also includes __converting a list into a dictionary using comprehension__."
   ]
  },
  {
   "cell_type": "code",
   "execution_count": 139,
   "id": "5315ef5b-4e7f-4464-b37a-4bcc7b67d672",
   "metadata": {},
   "outputs": [
    {
     "data": {
      "text/plain": [
       "{'1 nos.': '2,3,4',\n",
       " '2 nos.': '4,6,8',\n",
       " '3 nos.': '6,9,12',\n",
       " '4 nos.': '8,12,16',\n",
       " '5 nos.': '10,15,20',\n",
       " '6 nos.': '12,18,24',\n",
       " '7 nos.': '14,21,28',\n",
       " '8 nos.': '16,24,32',\n",
       " '9 nos.': '18,27,36',\n",
       " '10 nos.': '20,30,40'}"
      ]
     },
     "execution_count": 139,
     "metadata": {},
     "output_type": "execute_result"
    }
   ],
   "source": [
    "list1=[i for i in range(2,22,2)]\n",
    "list2=[i for i in range(3,33,3)]\n",
    "list3=[i for i in range(4,44,4)]\n",
    "list4=[i for i in range(1,11)]\n",
    "\n",
    "list_n=['{} nos. : {},{},{}'.format(l,i,j,k) for i,j,k,l in zip(list1,list2,list3,list4)]\n",
    "dict_n={list_n[i].split(':')[0].strip(' '): list_n[i].split(':')[1].strip(' ') for i in range(len(list_n))}\n",
    "dict_n"
   ]
  },
  {
   "cell_type": "code",
   "execution_count": null,
   "id": "719f4643-e853-4e8b-8c25-5b8edf3b5db2",
   "metadata": {},
   "outputs": [],
   "source": []
  }
 ],
 "metadata": {
  "kernelspec": {
   "display_name": "Python 3 (ipykernel)",
   "language": "python",
   "name": "python3"
  },
  "language_info": {
   "codemirror_mode": {
    "name": "ipython",
    "version": 3
   },
   "file_extension": ".py",
   "mimetype": "text/x-python",
   "name": "python",
   "nbconvert_exporter": "python",
   "pygments_lexer": "ipython3",
   "version": "3.10.5"
  }
 },
 "nbformat": 4,
 "nbformat_minor": 5
}

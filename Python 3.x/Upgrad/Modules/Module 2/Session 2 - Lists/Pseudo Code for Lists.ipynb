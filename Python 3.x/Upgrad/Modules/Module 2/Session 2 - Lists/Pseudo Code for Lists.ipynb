{
 "cells": [
  {
   "cell_type": "markdown",
   "id": "f58fa650-98d4-47bf-8d3c-222d0a7149cb",
   "metadata": {},
   "source": [
    "## Defining a function to take input list"
   ]
  },
  {
   "cell_type": "code",
   "execution_count": 254,
   "id": "9fcb57f0-fc4b-44eb-a434-408ad9518699",
   "metadata": {},
   "outputs": [],
   "source": [
    "def input_list(n):\n",
    "    i=1;\n",
    "    n_l=[];\n",
    "    print()\n",
    "    while i<=n:\n",
    "        ele=int(input('enter the element {}:'.format(i)))\n",
    "        n_l+=[ele];\n",
    "        i+=1;\n",
    "    return n_l;"
   ]
  },
  {
   "cell_type": "markdown",
   "id": "f0b2f6a8-16d5-462a-b625-cac86a34d14d",
   "metadata": {
    "jp-MarkdownHeadingCollapsed": true,
    "tags": []
   },
   "source": [
    "### Smallest Element and Largest Element"
   ]
  },
  {
   "cell_type": "code",
   "execution_count": 56,
   "id": "4c716afe-d3c0-4f59-9739-40655ede6d51",
   "metadata": {},
   "outputs": [
    {
     "name": "stdin",
     "output_type": "stream",
     "text": [
      "enter number of elements: 5\n"
     ]
    },
    {
     "name": "stdout",
     "output_type": "stream",
     "text": [
      "\n"
     ]
    },
    {
     "name": "stdin",
     "output_type": "stream",
     "text": [
      "enter the element 1: 1\n",
      "enter the element 2: 5\n",
      "enter the element 3: 2\n",
      "enter the element 4: 5\n",
      "enter the element 5: 1\n"
     ]
    },
    {
     "name": "stdout",
     "output_type": "stream",
     "text": [
      "\n",
      "smallest element: 1 \t position: [1, 5]\n",
      "largest element: 5 \t position: [2, 4]\n"
     ]
    }
   ],
   "source": [
    "min_pos,max_pos=[],[];\n",
    "n=int(input('enter number of elements:'))\n",
    "n_l=input_list(n)\n",
    "\n",
    "for i in range(len(n_l)):\n",
    "    if n_l[i]==sorted(n_l)[0]: min_pos+=[i+1];\n",
    "    if n_l[i]==sorted(n_l)[-1]: max_pos+=[i+1];\n",
    "\n",
    "print()\n",
    "print('smallest element:',sorted(n_l)[0],'\\t position:',min_pos)\n",
    "print('largest element:',sorted(n_l)[-1],'\\t position:',max_pos)"
   ]
  },
  {
   "cell_type": "markdown",
   "id": "6897deb0-fc67-4806-b634-7375f1f16960",
   "metadata": {},
   "source": [
    "__Using the `min()` and `max()`function__"
   ]
  },
  {
   "cell_type": "code",
   "execution_count": 57,
   "id": "00f99c0e-fafb-4fe5-af0c-b42bee6c2001",
   "metadata": {},
   "outputs": [
    {
     "name": "stdout",
     "output_type": "stream",
     "text": [
      "smallest element: 1 \t positions: [1, 5]\n",
      "largest element: 5 \t positions: [2, 4]\n"
     ]
    }
   ],
   "source": [
    "min_pos=[i+1 for i in range(len(n_l)) if n_l[i]==min(n_l)];\n",
    "max_pos=[i+1 for i in range(len(n_l)) if n_l[i]==max(n_l)];\n",
    "\n",
    "print('smallest element:',min(n_l),'\\t positions:',min_pos)\n",
    "print('largest element:',max(n_l),'\\t positions:',max_pos)"
   ]
  },
  {
   "cell_type": "markdown",
   "id": "2b258a6b-c257-4599-8f08-d8080bba5206",
   "metadata": {
    "jp-MarkdownHeadingCollapsed": true,
    "tags": []
   },
   "source": [
    "### Above Average"
   ]
  },
  {
   "cell_type": "code",
   "execution_count": 50,
   "id": "902c7d12-7366-4d0c-84b0-e81770f6a705",
   "metadata": {},
   "outputs": [
    {
     "name": "stdin",
     "output_type": "stream",
     "text": [
      "enter number of elements: 5\n"
     ]
    },
    {
     "name": "stdout",
     "output_type": "stream",
     "text": [
      "\n"
     ]
    },
    {
     "name": "stdin",
     "output_type": "stream",
     "text": [
      "enter the element 1: 2\n",
      "enter the element 2: 4\n",
      "enter the element 3: 8\n",
      "enter the element 4: 5\n",
      "enter the element 5: 9\n"
     ]
    },
    {
     "name": "stdout",
     "output_type": "stream",
     "text": [
      "\n",
      "The list of elements greater than the average 5.6 is: [8, 9]\n"
     ]
    }
   ],
   "source": [
    "n=int(input('enter number of elements:'))\n",
    "n_l=input_list(n)\n",
    "\n",
    "from functools import reduce\n",
    "    \n",
    "average=int(reduce(lambda x,y: x+y,n_l)/len(n_l)) if reduce(lambda x,y: x+y,n_l)%len(n_l)==0 else reduce(\n",
    "                                                                                lambda x,y: x+y,n_l)/len(n_l)\n",
    "big=[i for i in n_l if i>average]\n",
    "\n",
    "print()\n",
    "print('The list of elements greater than the average {} is: {}'.format(average,big))"
   ]
  },
  {
   "cell_type": "markdown",
   "id": "28a40aa7-1d7a-4d1b-8a1b-5077f0eec660",
   "metadata": {},
   "source": [
    "__Using the `sum()` and `len()` functions__"
   ]
  },
  {
   "cell_type": "code",
   "execution_count": 59,
   "id": "cce4844d-b9a4-4f68-833f-755516cba373",
   "metadata": {},
   "outputs": [
    {
     "name": "stdout",
     "output_type": "stream",
     "text": [
      "The list of elements greater than the average 5.6 is: [8, 9]\n"
     ]
    }
   ],
   "source": [
    "average=int(sum(n_l)/len(n_l)) if sum(n_l)%len(n_l)==0 else sum(n_l)/len(n_l)\n",
    "big=[i for i in n_l if i > average]\n",
    "\n",
    "print('The list of elements greater than the average {} is: {}'.format(average,big))"
   ]
  },
  {
   "cell_type": "markdown",
   "id": "6a83aa02-9a5d-46db-ba80-fc39814c17b4",
   "metadata": {
    "jp-MarkdownHeadingCollapsed": true,
    "tags": []
   },
   "source": [
    "<h3> N<sup>th</sup> Maximum and N<sup>th</sup> Minimum in a List</h3>"
   ]
  },
  {
   "cell_type": "code",
   "execution_count": 255,
   "id": "6c911e99-0947-41b8-8a39-2dac00f4f122",
   "metadata": {},
   "outputs": [
    {
     "name": "stdin",
     "output_type": "stream",
     "text": [
      "enter number of elements: 10\n"
     ]
    },
    {
     "name": "stdout",
     "output_type": "stream",
     "text": [
      "\n"
     ]
    },
    {
     "name": "stdin",
     "output_type": "stream",
     "text": [
      "enter the element 1: 2\n",
      "enter the element 2: 5\n",
      "enter the element 3: 4\n",
      "enter the element 4: 2\n",
      "enter the element 5: 9\n",
      "enter the element 6: 6\n",
      "enter the element 7: 4\n",
      "enter the element 8: 5\n",
      "enter the element 9: 1\n",
      "enter the element 10: 4\n"
     ]
    },
    {
     "name": "stdout",
     "output_type": "stream",
     "text": [
      "\n"
     ]
    },
    {
     "name": "stdin",
     "output_type": "stream",
     "text": [
      "enter the nth position: 4\n"
     ]
    },
    {
     "name": "stdout",
     "output_type": "stream",
     "text": [
      "\n",
      "The 4th smallest element in the list is 5 at the position [2, 8]\n",
      "The 4th largest element in the list is 4 at the position [3, 7, 10]\n"
     ]
    }
   ],
   "source": [
    "n=int(input('enter number of elements:'))\n",
    "n_l=input_list(n)\n",
    "print()\n",
    "\n",
    "p=int(input('enter the nth position:'))\n",
    "print()\n",
    "\n",
    "forward,reverse=sorted(set(n_l)),sorted(set(n_l))[-1::-1]\n",
    "\n",
    "# finding nth minimum and maximum\n",
    "min_pos,max_pos=[],[]\n",
    "\n",
    "for i in range(len(n_l)):\n",
    "    if n_l[i]==forward[p-1]: min_pos+=[i+1]\n",
    "    if n_l[i]==reverse[p-1]: max_pos+=[i+1]\n",
    "\n",
    "print('The {}th smallest element in the list is {} at the position {}'.format(p,forward[p-1],min_pos))\n",
    "print('The {}th largest element in the list is {} at the position {}'.format(p,reverse[p-1],max_pos))"
   ]
  },
  {
   "cell_type": "markdown",
   "id": "23f1d055-a5fc-46f3-adcb-98a547a0b692",
   "metadata": {
    "jp-MarkdownHeadingCollapsed": true,
    "tags": []
   },
   "source": [
    "### Recruitment"
   ]
  },
  {
   "cell_type": "code",
   "execution_count": 53,
   "id": "0023b70e-de23-4d0b-bd1e-5e739937cfa3",
   "metadata": {},
   "outputs": [
    {
     "name": "stdout",
     "output_type": "stream",
     "text": [
      "The new team is:  [10, 20, 30, 40, 50, 60, 80]\n"
     ]
    }
   ],
   "source": [
    "team=[10,20,30,40,50]\n",
    "applicant=[30,60,80,40]\n",
    "\n",
    "[team.append(i) for i in applicant if sum(team+[i])/len(team+[i]) > sum(team)/len(team)]\n",
    "print('The new team is: ',team)"
   ]
  },
  {
   "cell_type": "code",
   "execution_count": 54,
   "id": "89aa8cdd-000e-461a-adb8-0c3d9b614ab5",
   "metadata": {},
   "outputs": [
    {
     "name": "stdout",
     "output_type": "stream",
     "text": [
      "The new team is:  [45, 65, 34, 56, 82, 53, 46, 85, 48, 65, 64, 89, 76, 87, 97, 69, 74, 76]\n"
     ]
    }
   ],
   "source": [
    "team=[45,65,34,56,82,53,46,85,48]\n",
    "applicant=[65,34,64,89,53,24,34,56,76,43,16,87,45,97,53,69,74,26,76,45,32,33]\n",
    "\n",
    "[team.append(i) for i in applicant if sum(team+[i])/len(team+[i]) > sum(team)/len(team)]\n",
    "print('The new team is: ',team)"
   ]
  },
  {
   "cell_type": "markdown",
   "id": "a0e4886a-42e8-465a-a174-bbdb8800402f",
   "metadata": {
    "jp-MarkdownHeadingCollapsed": true,
    "tags": []
   },
   "source": [
    "### Calendar"
   ]
  },
  {
   "cell_type": "code",
   "execution_count": 93,
   "id": "7242611e-5103-4290-a642-7a7112554ca5",
   "metadata": {},
   "outputs": [
    {
     "name": "stdin",
     "output_type": "stream",
     "text": [
      "enter the wedding date: 24\n"
     ]
    },
    {
     "name": "stdout",
     "output_type": "stream",
     "text": [
      "\n",
      "Date 24 is clashing with 2 events: [[23, 26], [24, 25]]\n"
     ]
    }
   ],
   "source": [
    "events=[[29,31],[23,26],[24,25]]\n",
    "date=int(input('enter the wedding date:'))\n",
    "\n",
    "clash=[[i,j] for i,j in events if date<=j and date>=i]\n",
    "\n",
    "print()\n",
    "print('No scheduled events') if len(clash)==0 else print('Date {} is clashing with {} events: {}'\n",
    "                                                         .format(date,len(clash),clash))"
   ]
  },
  {
   "cell_type": "markdown",
   "id": "7bd3012a-87a5-4556-9433-5cb9a456cb4a",
   "metadata": {
    "jp-MarkdownHeadingCollapsed": true,
    "tags": []
   },
   "source": [
    "### Fenced Matrix"
   ]
  },
  {
   "cell_type": "code",
   "execution_count": 15,
   "id": "7f35a57b-c75d-4eac-9ba2-b6766a74df12",
   "metadata": {},
   "outputs": [
    {
     "name": "stdin",
     "output_type": "stream",
     "text": [
      "enter the number of rows: 4\n",
      "enter the number of columns: 5\n"
     ]
    },
    {
     "name": "stdout",
     "output_type": "stream",
     "text": [
      "\n",
      "[1, 1, 1, 1, 1]\n",
      "[1, 0, 0, 0, 1]\n",
      "[1, 0, 0, 0, 1]\n",
      "[1, 1, 1, 1, 1]\n"
     ]
    }
   ],
   "source": [
    "rows=int(input('enter the number of rows:'))\n",
    "cols=int(input('enter the number of columns:'))\n",
    "print()\n",
    "\n",
    "l_new=[]\n",
    "for i in range(1,rows+1):\n",
    "    l=[]\n",
    "    for j in range(1,cols+1):\n",
    "        l+=[0 if i!=1 and j!=1 and i!=rows and j!=cols else 1]\n",
    "    l_new+=[l]\n",
    "    print(l)"
   ]
  },
  {
   "cell_type": "markdown",
   "id": "5a382b7d-9b14-4079-acfa-16b92d4eb7e5",
   "metadata": {
    "jp-MarkdownHeadingCollapsed": true,
    "tags": []
   },
   "source": [
    "### Pascal's Triangle"
   ]
  },
  {
   "cell_type": "code",
   "execution_count": 23,
   "id": "7f5b113e-7b2e-4d6f-9830-b17ecab16612",
   "metadata": {},
   "outputs": [
    {
     "name": "stdin",
     "output_type": "stream",
     "text": [
      "enter nth row: 8\n"
     ]
    },
    {
     "name": "stdout",
     "output_type": "stream",
     "text": [
      "\n",
      " [1, 7, 21, 35, 35, 21, 7, 1]\n",
      "\n",
      "Printing triangle now.....\n",
      "\n",
      "        1 \n",
      "       1 1 \n",
      "      1 2 1 \n",
      "     1 3 3 1 \n",
      "    1 4 6 4 1 \n",
      "   1 5 10 10 5 1 \n",
      "  1 6 15 20 15 6 1 \n",
      " 1 7 21 35 35 21 7 1 \n"
     ]
    }
   ],
   "source": [
    "n=int(input('enter nth row:'))\n",
    "\n",
    "def fact(n):\n",
    "    from functools import reduce\n",
    "    n_list=[i for i in range(1,n+1)] if n>=0 else [i for i in range(n,0)]\n",
    "    fact=reduce(lambda x,y: x*y,n_list) if n!=0 else 1\n",
    "    \n",
    "    return fact;\n",
    "\n",
    "for i in range(n):\n",
    "    pascal=[]\n",
    "    for j in range(i+1):\n",
    "        pascal+=[fact(i)//((fact(j)*fact(i-j)))]\n",
    "        \n",
    "print('\\n',pascal)\n",
    "print('\\nPrinting triangle now.....')\n",
    "print()\n",
    "for i in range(n):\n",
    "    for j in range(n-i):\n",
    "        print(end=\" \")\n",
    "    for k in range(i+1):\n",
    "        print(fact(i)//((fact(k)*fact(i-k))),end=' ')\n",
    "    print()"
   ]
  }
 ],
 "metadata": {
  "kernelspec": {
   "display_name": "Python 3 (ipykernel)",
   "language": "python",
   "name": "python3"
  },
  "language_info": {
   "codemirror_mode": {
    "name": "ipython",
    "version": 3
   },
   "file_extension": ".py",
   "mimetype": "text/x-python",
   "name": "python",
   "nbconvert_exporter": "python",
   "pygments_lexer": "ipython3",
   "version": "3.10.5"
  }
 },
 "nbformat": 4,
 "nbformat_minor": 5
}

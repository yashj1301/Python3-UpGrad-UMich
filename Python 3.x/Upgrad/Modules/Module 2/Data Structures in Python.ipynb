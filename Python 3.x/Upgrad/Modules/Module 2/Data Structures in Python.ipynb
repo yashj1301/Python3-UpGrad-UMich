{
 "cells": [
  {
   "cell_type": "markdown",
   "id": "017e5da5-3088-4d50-ae85-8a8c0edb288a",
   "metadata": {},
   "source": [
    "## Data Structures in Python"
   ]
  },
  {
   "cell_type": "markdown",
   "id": "7264e375-60dc-4423-9e3e-053d91471da4",
   "metadata": {},
   "source": [
    "Basically, these structures can hold the data together. A __Data Structure__ is a particular way of organizing data in a computer so that it can be used effectively. The four built-in data structures in Python are:\n",
    "- <a href=\"#tuple\">Tuples</a>\n",
    "- <a href=\"#list\">Lists</a> \n",
    "- <a href=\"#dictionary\">Dictionaries</a> \n",
    "- <a href=\"#sets\">Sets</a>"
   ]
  },
  {
   "cell_type": "markdown",
   "id": "cd53708c-a171-477d-8937-2ef096e497cb",
   "metadata": {
    "jp-MarkdownHeadingCollapsed": true,
    "tags": []
   },
   "source": [
    "### <a class=anchor id=\"tuple\">Tuples</a>"
   ]
  },
  {
   "cell_type": "markdown",
   "id": "5676c75e-d1ca-426f-bdb8-8fd194a29494",
   "metadata": {},
   "source": [
    "Tuples are __compound data types__ that store _mixed data type values_ in an ordered manner. These are __immutable__, and are defined using the normal brackets `( )`. \n",
    "\n",
    "They are stored in the sequence in which they are entered. A tuple is allocated space in the memory according to the elements inside it, and those elements are associated with their _index number_ that describes their position in the tuple.\n",
    "\n",
    "The syntax for tuples goes like this – \n",
    "\n",
    "<code>Identifier = (value<sub>1</sub>, value<sub>2</sub>, …… value<sub>n</sub>); </code>"
   ]
  },
  {
   "cell_type": "markdown",
   "id": "09c37e0d-a366-40a2-b763-207cdf718ec5",
   "metadata": {},
   "source": [
    "It can hold multiple data types within itself. You can store all integer, all float, all Boolean or all string values, as well as any combination of these 4. Here is a simple example for illustration:\n"
   ]
  },
  {
   "cell_type": "code",
   "execution_count": 3,
   "id": "89dde3ac-ec9a-42e8-a8e5-d5193ed8b594",
   "metadata": {},
   "outputs": [],
   "source": [
    "x1 = (1,2,3,4,5);\n",
    "x2 = (1.1,2.2,3.3,4.4,5.5);\n",
    "x3 = (True,False);\n",
    "x4 = ('Hi','This','is','python');\n",
    "x5= (1,'Hi',True,4.4);"
   ]
  },
  {
   "cell_type": "code",
   "execution_count": 5,
   "id": "cbe28248-054e-430c-a4ae-49d57fa41d44",
   "metadata": {},
   "outputs": [
    {
     "name": "stdout",
     "output_type": "stream",
     "text": [
      "(1, 2, 3, 4, 5) <class 'tuple'>\n",
      "(1.1, 2.2, 3.3, 4.4, 5.5) <class 'tuple'>\n",
      "(True, False) <class 'tuple'>\n",
      "('Hi', 'This', 'is', 'python') <class 'tuple'>\n",
      "(1, 'Hi', True, 4.4) <class 'tuple'>\n"
     ]
    }
   ],
   "source": [
    "print(x1,type(x1))\n",
    "print(x2,type(x2))\n",
    "print(x3,type(x3))\n",
    "print(x4,type(x4))\n",
    "print(x5,type(x5))"
   ]
  },
  {
   "cell_type": "markdown",
   "id": "c1b08aeb-0dfd-48ce-90f1-cdec193ed95b",
   "metadata": {
    "jp-MarkdownHeadingCollapsed": true,
    "tags": []
   },
   "source": [
    "#### How to define Tuples"
   ]
  },
  {
   "cell_type": "markdown",
   "id": "5503846f-09a5-4d27-a486-e7645cdcd1b4",
   "metadata": {},
   "source": [
    "There are a number of ways to define tuples in python. They can be defined _without parenthesis_ or even as a _single tuple_. "
   ]
  },
  {
   "cell_type": "markdown",
   "id": "ecd6e1d6-cb2b-4bd7-8f5f-a61a1f728bc4",
   "metadata": {},
   "source": [
    "__Defining tuples without parenthesis__"
   ]
  },
  {
   "cell_type": "code",
   "execution_count": 2,
   "id": "248dca5f-3138-460c-be61-00f0edcdcc69",
   "metadata": {},
   "outputs": [
    {
     "name": "stdout",
     "output_type": "stream",
     "text": [
      "(1, 2, 3, 4, 5) <class 'tuple'>\n",
      "(2, 'Yash', True, 4.5) <class 'tuple'>\n"
     ]
    }
   ],
   "source": [
    "x5=1,2,3,4,5;\n",
    "x6=2,'Yash',True,4.5;\n",
    "\n",
    "print(x5,type(x5))\n",
    "print(x6,type(x6))"
   ]
  },
  {
   "cell_type": "markdown",
   "id": "c188ce5e-df4a-4a6b-85dd-9f59921c062d",
   "metadata": {},
   "source": [
    "__Defining singular tuples__"
   ]
  },
  {
   "cell_type": "markdown",
   "id": "eb2a3ac5-b104-400b-990f-130d51e3208f",
   "metadata": {},
   "source": [
    "You have to use a comma after writing the value in the tuple to tell python that the identifier will be a tuple, and not any other type. Some examples are given below:"
   ]
  },
  {
   "cell_type": "code",
   "execution_count": 3,
   "id": "d870d142-c6a9-40f7-8883-acc0d7479bb1",
   "metadata": {},
   "outputs": [
    {
     "name": "stdout",
     "output_type": "stream",
     "text": [
      "(1,) <class 'tuple'>\n",
      "('Yash',) <class 'tuple'>\n",
      "(True,) <class 'tuple'>\n",
      "(4.5,) <class 'tuple'>\n"
     ]
    }
   ],
   "source": [
    "y1=1,\n",
    "y2='Yash',\n",
    "y3=True,\n",
    "y4=4.5,\n",
    "\n",
    "print(y1,type(y1))\n",
    "print(y2,type(y2))\n",
    "print(y3,type(y3))\n",
    "print(y4,type(y4))"
   ]
  },
  {
   "cell_type": "markdown",
   "id": "5fd6f3fb-49dc-42a1-bc5b-f3fbeaced97c",
   "metadata": {},
   "source": [
    "If you do not use commas after them, then python will assign data types to them according to the values present there. An illustration is given here:"
   ]
  },
  {
   "cell_type": "code",
   "execution_count": 4,
   "id": "48de8dd8-06ba-4edb-8046-4f51b6276eaf",
   "metadata": {},
   "outputs": [
    {
     "name": "stdout",
     "output_type": "stream",
     "text": [
      "1 <class 'int'>\n",
      "Yash <class 'str'>\n",
      "True <class 'bool'>\n",
      "4.5 <class 'float'>\n"
     ]
    }
   ],
   "source": [
    "y5=1\n",
    "y6='Yash'\n",
    "y7=True\n",
    "y8=4.5\n",
    "\n",
    "print(y5,type(y5))\n",
    "print(y6,type(y6))\n",
    "print(y7,type(y7))\n",
    "print(y8,type(y8))"
   ]
  },
  {
   "cell_type": "markdown",
   "id": "9831dfcf-edb6-4a73-a9a8-f1ec0eecefad",
   "metadata": {
    "jp-MarkdownHeadingCollapsed": true,
    "tags": []
   },
   "source": [
    "#### How to access data inside a Tuple"
   ]
  },
  {
   "cell_type": "markdown",
   "id": "6632cb6c-c4e7-4ec3-9fdc-c70170a4a9c2",
   "metadata": {},
   "source": [
    "Since tuples are a sequence of ordered data, we can use basic indexing and slicing (both forward and reverse), to extract elements inside it."
   ]
  },
  {
   "cell_type": "markdown",
   "id": "25da14d4-9517-451f-8851-c6305913d7e4",
   "metadata": {
    "jp-MarkdownHeadingCollapsed": true,
    "tags": []
   },
   "source": [
    "##### Indexing in Tuples"
   ]
  },
  {
   "cell_type": "markdown",
   "id": "214b7036-47ee-41bf-9bd5-e3267df1370a",
   "metadata": {},
   "source": [
    "Let us look at the following example:"
   ]
  },
  {
   "cell_type": "code",
   "execution_count": 8,
   "id": "5183698c-7493-4098-987a-f71904f7ed6a",
   "metadata": {},
   "outputs": [
    {
     "name": "stdout",
     "output_type": "stream",
     "text": [
      "Forward Indexing:  1 2 Yash\n",
      "Reverse Indexing:  4 Program False\n"
     ]
    }
   ],
   "source": [
    "x=1,2,'Yash',3.5,True,'Python',4,'Program',False\n",
    "\n",
    "print('Forward Indexing: ',x[0],x[1],x[2])\n",
    "print('Reverse Indexing: ',x[-3],x[-2],x[-1])"
   ]
  },
  {
   "cell_type": "markdown",
   "id": "608f82b1-b263-46ca-9ab3-cf469124aba0",
   "metadata": {},
   "source": [
    "We can also access the characters inside the string element(s) using __multiple indexing__. This can be used in the following way:"
   ]
  },
  {
   "cell_type": "code",
   "execution_count": 10,
   "id": "13ada80b-cb4a-4260-bb88-1591a821864f",
   "metadata": {},
   "outputs": [
    {
     "name": "stdout",
     "output_type": "stream",
     "text": [
      "Forward Indexing:  s h g\n",
      "Reverse Indexing (a):  g t y\n",
      "Reverse Indexing (b):  r o s\n"
     ]
    }
   ],
   "source": [
    "print('Forward Indexing: ',x[2][2], x[5][3], x[7][3])\n",
    "print('Reverse Indexing (a): ',x[-2][3], x[-4][2], x[-4][1])\n",
    "print('Reverse Indexing (b): ',x[-2][-3], x[-4][-2], x[-7][-2])"
   ]
  },
  {
   "cell_type": "markdown",
   "id": "ff0b4a71-1574-434a-a878-b649638b90d2",
   "metadata": {},
   "source": [
    "Using single indexing, we were able to navigate through the tuple elements, but in multiple indexing, we were able to navigate through strings inside a tuple. Please note that this method will not work with any other data type than string."
   ]
  },
  {
   "cell_type": "markdown",
   "id": "2a48e9ef-4ae0-47ce-b8fc-0fb7a60ce767",
   "metadata": {
    "jp-MarkdownHeadingCollapsed": true,
    "tags": []
   },
   "source": [
    "##### Slicing in Tuples"
   ]
  },
  {
   "cell_type": "markdown",
   "id": "184c64ff-e3e9-4f70-a669-94453fccb6d9",
   "metadata": {},
   "source": [
    "Slicing can also be implemented in the very same manner as indexing. We can use forward indexing, or reverse indexing to apply slicing. Remember that contrary to strings, slicing in tuples will return elements of the string as a single tuple. \n",
    "\n",
    "An example to illustrate this:"
   ]
  },
  {
   "cell_type": "code",
   "execution_count": 12,
   "id": "c13ae224-5497-4668-9a17-07ae5dc8f070",
   "metadata": {},
   "outputs": [
    {
     "data": {
      "text/plain": [
       "(1, 2, 'Yash', 3.5, True, 'Python', 4, 'Program', False)"
      ]
     },
     "execution_count": 12,
     "metadata": {},
     "output_type": "execute_result"
    }
   ],
   "source": [
    "x"
   ]
  },
  {
   "cell_type": "code",
   "execution_count": 49,
   "id": "984cdc90-c579-4458-b234-a68511fbf8d4",
   "metadata": {},
   "outputs": [
    {
     "data": {
      "text/plain": [
       "((3.5, True, 'Python', 4, 'Program', False),\n",
       " (1, 2, 'Yash', 3.5, True, 'Python'),\n",
       " (2, 3.5, 'Python', 'Program'),\n",
       " (1, 3.5))"
      ]
     },
     "execution_count": 49,
     "metadata": {},
     "output_type": "execute_result"
    }
   ],
   "source": [
    "x[3:], x[:6], x[1::2], x[:6:3]"
   ]
  },
  {
   "cell_type": "code",
   "execution_count": 18,
   "id": "ab84fbe5-5217-4016-ab1f-0ea9fb407d79",
   "metadata": {},
   "outputs": [
    {
     "data": {
      "text/plain": [
       "(('Python', 4, 'Program', False),\n",
       " (1, 2, 'Yash', 3.5, True, 'Python'),\n",
       " (3.5, True, 'Python'))"
      ]
     },
     "execution_count": 18,
     "metadata": {},
     "output_type": "execute_result"
    }
   ],
   "source": [
    "x[-4:], x[:-3],x[-6:-3]"
   ]
  },
  {
   "cell_type": "markdown",
   "id": "18c410a9-a071-445b-bb54-bd7a6f163d0a",
   "metadata": {},
   "source": [
    "We can also use __multiple slicing__ for string elements. It is to be used in the same way indexing was used, using two square brackets. It has to be used as a combination of indexing and slicing, though.\n",
    "\n",
    "An example is given below:"
   ]
  },
  {
   "cell_type": "code",
   "execution_count": 48,
   "id": "7af35424-8b00-4794-b9fb-38022ec79f04",
   "metadata": {},
   "outputs": [
    {
     "data": {
      "text/plain": [
       "('Pro', 'sh')"
      ]
     },
     "execution_count": 48,
     "metadata": {},
     "output_type": "execute_result"
    }
   ],
   "source": [
    "x[5::2][1][:3], x[2][-2:]"
   ]
  },
  {
   "cell_type": "markdown",
   "id": "5e253c01-79ef-4210-8028-d3b43c3fa604",
   "metadata": {
    "jp-MarkdownHeadingCollapsed": true,
    "tags": []
   },
   "source": [
    "#### Operations on Tuples"
   ]
  },
  {
   "cell_type": "markdown",
   "id": "37d15d49-9412-46e3-ae87-d524454bf592",
   "metadata": {},
   "source": [
    "We can apply multiple operations to tuples, similar to other data types. Let us look at them."
   ]
  },
  {
   "cell_type": "markdown",
   "id": "7b580164-62d3-4dfb-a537-027ffd2e47d4",
   "metadata": {
    "jp-MarkdownHeadingCollapsed": true,
    "tags": []
   },
   "source": [
    "##### Addition (Concatenation)"
   ]
  },
  {
   "cell_type": "code",
   "execution_count": 59,
   "id": "ec6bebdc-4382-4619-a868-e12826e31765",
   "metadata": {},
   "outputs": [
    {
     "data": {
      "text/plain": [
       "(1,\n",
       " 2,\n",
       " 'Yash',\n",
       " 3.5,\n",
       " True,\n",
       " 'Python',\n",
       " 4,\n",
       " 'Program',\n",
       " False,\n",
       " 1,\n",
       " 3,\n",
       " 4,\n",
       " True,\n",
       " 'Yash',\n",
       " False)"
      ]
     },
     "execution_count": 59,
     "metadata": {},
     "output_type": "execute_result"
    }
   ],
   "source": [
    "x=1,2,'Yash',3.5,True,'Python',4,'Program',False\n",
    "y=1,3,4,True,'Yash',False;\n",
    "\n",
    "z=x+y\n",
    "z"
   ]
  },
  {
   "cell_type": "markdown",
   "id": "c63e7740-4268-4df8-b2ae-9da6a660fc4b",
   "metadata": {
    "jp-MarkdownHeadingCollapsed": true,
    "tags": []
   },
   "source": [
    "##### Subtraction"
   ]
  },
  {
   "cell_type": "code",
   "execution_count": 117,
   "id": "d4892104-b355-4c02-ad50-f51d74d92b77",
   "metadata": {},
   "outputs": [
    {
     "ename": "TypeError",
     "evalue": "unsupported operand type(s) for -: 'tuple' and 'tuple'",
     "output_type": "error",
     "traceback": [
      "\u001b[1;31m---------------------------------------------------------------------------\u001b[0m",
      "\u001b[1;31mTypeError\u001b[0m                                 Traceback (most recent call last)",
      "Input \u001b[1;32mIn [117]\u001b[0m, in \u001b[0;36m<cell line: 4>\u001b[1;34m()\u001b[0m\n\u001b[0;32m      1\u001b[0m j\u001b[38;5;241m=\u001b[39m\u001b[38;5;241m1\u001b[39m,\u001b[38;5;241m2\u001b[39m,\u001b[38;5;241m3\u001b[39m,\u001b[38;5;241m4\u001b[39m,\u001b[38;5;241m5\u001b[39m;\n\u001b[0;32m      2\u001b[0m k\u001b[38;5;241m=\u001b[39m\u001b[38;5;241m2\u001b[39m,\u001b[38;5;241m3\u001b[39m,\u001b[38;5;241m4\u001b[39m,\u001b[38;5;241m5\u001b[39m,\u001b[38;5;241m6\u001b[39m;\n\u001b[1;32m----> 4\u001b[0m \u001b[43mj\u001b[49m\u001b[38;5;241;43m-\u001b[39;49m\u001b[43mk\u001b[49m\n",
      "\u001b[1;31mTypeError\u001b[0m: unsupported operand type(s) for -: 'tuple' and 'tuple'"
     ]
    }
   ],
   "source": [
    "j=1,2,3,4,5;\n",
    "k=2,3,4,5,6;\n",
    "\n",
    "j-k"
   ]
  },
  {
   "cell_type": "code",
   "execution_count": 60,
   "id": "15a1aac1-d861-44f5-9bd3-fa824422bb47",
   "metadata": {},
   "outputs": [
    {
     "ename": "TypeError",
     "evalue": "unsupported operand type(s) for -: 'tuple' and 'tuple'",
     "output_type": "error",
     "traceback": [
      "\u001b[1;31m---------------------------------------------------------------------------\u001b[0m",
      "\u001b[1;31mTypeError\u001b[0m                                 Traceback (most recent call last)",
      "Input \u001b[1;32mIn [60]\u001b[0m, in \u001b[0;36m<cell line: 1>\u001b[1;34m()\u001b[0m\n\u001b[1;32m----> 1\u001b[0m \u001b[43mz\u001b[49m\u001b[38;5;241;43m-\u001b[39;49m\u001b[43mx\u001b[49m\n",
      "\u001b[1;31mTypeError\u001b[0m: unsupported operand type(s) for -: 'tuple' and 'tuple'"
     ]
    }
   ],
   "source": [
    "z-x"
   ]
  },
  {
   "cell_type": "markdown",
   "id": "4e83b99c-348e-4ac3-a936-fe0c1b010c43",
   "metadata": {},
   "source": [
    "Hence, subtraction is <font color=\"red\"> not supported </font>. Same is the case with division, exponential, modulus, floor division."
   ]
  },
  {
   "cell_type": "markdown",
   "id": "c39e3025-b509-49bf-a558-04c91050a3eb",
   "metadata": {
    "jp-MarkdownHeadingCollapsed": true,
    "tags": []
   },
   "source": [
    "##### Multiplication"
   ]
  },
  {
   "cell_type": "markdown",
   "id": "2620f0df-7adc-40aa-846a-c4e84be8721b",
   "metadata": {},
   "source": [
    "In the case of multiplication, it will be multiplied with only an integer, and treated as a repeating operator. The tuple will be repeated that many times. "
   ]
  },
  {
   "cell_type": "code",
   "execution_count": 67,
   "id": "4dc714aa-78ad-411a-8f07-2cee83a2af00",
   "metadata": {},
   "outputs": [
    {
     "data": {
      "text/plain": [
       "(9, 27)"
      ]
     },
     "execution_count": 67,
     "metadata": {},
     "output_type": "execute_result"
    }
   ],
   "source": [
    "len(x),len(x*3)"
   ]
  },
  {
   "cell_type": "markdown",
   "id": "8b35ff00-a29b-4132-b8a1-ba94c08b0d65",
   "metadata": {
    "jp-MarkdownHeadingCollapsed": true,
    "tags": []
   },
   "source": [
    "#### Nested Tuples"
   ]
  },
  {
   "cell_type": "markdown",
   "id": "3ac35f95-a511-418d-a8b6-1d1026cb66c7",
   "metadata": {},
   "source": [
    "You can add a tuple as an element inside another tuple. For the inner tuple, you have to use the brackets () to tell python that this element will be a tuple.\n",
    "\n",
    "An illustration is given below:"
   ]
  },
  {
   "cell_type": "code",
   "execution_count": 69,
   "id": "da6a0690-b8aa-4b6b-be5b-f9b3469c6527",
   "metadata": {},
   "outputs": [
    {
     "data": {
      "text/plain": [
       "(1, 2, 3, ('Yash', 'Jain', True, 3.4, 4, 5.6, False), True, 3.4, 'hello')"
      ]
     },
     "execution_count": 69,
     "metadata": {},
     "output_type": "execute_result"
    }
   ],
   "source": [
    "y=1,2,3,('Yash','Jain',True,3.4,4,5.6,False),True,3.4,'hello'\n",
    "y"
   ]
  },
  {
   "cell_type": "code",
   "execution_count": 70,
   "id": "d43ed176-fe58-4fdf-a03f-5488f8b3c25f",
   "metadata": {},
   "outputs": [
    {
     "data": {
      "text/plain": [
       "('Yash', 'Jain', True, 3.4, 4, 5.6, False)"
      ]
     },
     "execution_count": 70,
     "metadata": {},
     "output_type": "execute_result"
    }
   ],
   "source": [
    "y[3]"
   ]
  },
  {
   "cell_type": "code",
   "execution_count": 72,
   "id": "a9a5bf87-69cd-40b9-8a9c-9b3d0a72bb6f",
   "metadata": {},
   "outputs": [
    {
     "data": {
      "text/plain": [
       "(tuple, tuple)"
      ]
     },
     "execution_count": 72,
     "metadata": {},
     "output_type": "execute_result"
    }
   ],
   "source": [
    "type(y), type(y[3])"
   ]
  },
  {
   "cell_type": "markdown",
   "id": "bc620d0c-9624-45f7-b616-f25cfd649b67",
   "metadata": {},
   "source": [
    "You can use indexing and slicing here as well. It will be the same syntax, with more brackets to access any specific element inside the tuple(s)."
   ]
  },
  {
   "cell_type": "code",
   "execution_count": 91,
   "id": "5e952b20-0b71-4066-94f9-2dd3304d1454",
   "metadata": {},
   "outputs": [
    {
     "data": {
      "text/plain": [
       "('ash', 'ain')"
      ]
     },
     "execution_count": 91,
     "metadata": {},
     "output_type": "execute_result"
    }
   ],
   "source": [
    "y[3][:2][0][1:],y[3][:2][1][1:]"
   ]
  },
  {
   "cell_type": "markdown",
   "id": "d006bda4-596c-48ed-a1c8-fce1be88fc55",
   "metadata": {
    "jp-MarkdownHeadingCollapsed": true,
    "tags": []
   },
   "source": [
    "#### Functions on Tuples"
   ]
  },
  {
   "cell_type": "markdown",
   "id": "8c4799f6-5aaa-4d63-8c43-8a2f500320a6",
   "metadata": {},
   "source": [
    "You can use various functions with tuples. These can be arithmetic functions like `sum()`, `max()` and `min()`, or these can be sorting function `sorted()`.\n",
    "\n",
    "An illustration of this is given below:"
   ]
  },
  {
   "cell_type": "code",
   "execution_count": 97,
   "id": "5a53b833-c9fa-430d-bcaa-23d24e4fd55a",
   "metadata": {},
   "outputs": [],
   "source": [
    "x=1,2,3;\n",
    "y=2,3,4;\n",
    "z='Python',2,3,4,5,'Programming';\n"
   ]
  },
  {
   "cell_type": "code",
   "execution_count": 99,
   "id": "a2821d69-e63a-4190-926f-97e040957f65",
   "metadata": {},
   "outputs": [
    {
     "data": {
      "text/plain": [
       "(6, 9)"
      ]
     },
     "execution_count": 99,
     "metadata": {},
     "output_type": "execute_result"
    }
   ],
   "source": [
    "sum(x),sum(y)"
   ]
  },
  {
   "cell_type": "markdown",
   "id": "a01285a5-4e55-43f0-aa7e-0973334191b9",
   "metadata": {},
   "source": [
    "The z tuple elements cannot be added, since they do not have elements of the same data type. Let us see what do we have if a tuple has all string elements."
   ]
  },
  {
   "cell_type": "code",
   "execution_count": 104,
   "id": "73bfa308-1f1d-4342-a3d5-40e6431de600",
   "metadata": {},
   "outputs": [
    {
     "ename": "TypeError",
     "evalue": "unsupported operand type(s) for +: 'int' and 'str'",
     "output_type": "error",
     "traceback": [
      "\u001b[1;31m---------------------------------------------------------------------------\u001b[0m",
      "\u001b[1;31mTypeError\u001b[0m                                 Traceback (most recent call last)",
      "Input \u001b[1;32mIn [128]\u001b[0m, in \u001b[0;36m<cell line: 3>\u001b[1;34m()\u001b[0m\n\u001b[0;32m      1\u001b[0m z1\u001b[38;5;241m=\u001b[39m\u001b[38;5;124m'\u001b[39m\u001b[38;5;124mWelcome\u001b[39m\u001b[38;5;124m'\u001b[39m,\u001b[38;5;124m'\u001b[39m\u001b[38;5;124mto\u001b[39m\u001b[38;5;124m'\u001b[39m,\u001b[38;5;124m'\u001b[39m\u001b[38;5;124mPython\u001b[39m\u001b[38;5;124m'\u001b[39m,\u001b[38;5;124m'\u001b[39m\u001b[38;5;124mProgramming\u001b[39m\u001b[38;5;124m'\u001b[39m;\n\u001b[0;32m      2\u001b[0m z2\u001b[38;5;241m=\u001b[39m\u001b[38;5;241m1\u001b[39m,\u001b[38;5;241m3\u001b[39m,\u001b[38;5;241m5.6\u001b[39m,\u001b[38;5;241m2\u001b[39m,\u001b[38;5;241m4\u001b[39m,\u001b[38;5;28;01mTrue\u001b[39;00m,\u001b[38;5;241m5\u001b[39m,\u001b[38;5;241m6.7\u001b[39m\n\u001b[1;32m----> 3\u001b[0m \u001b[38;5;28msum\u001b[39m(z2),\u001b[38;5;28;43msum\u001b[39;49m\u001b[43m(\u001b[49m\u001b[43mz1\u001b[49m\u001b[43m)\u001b[49m\n",
      "\u001b[1;31mTypeError\u001b[0m: unsupported operand type(s) for +: 'int' and 'str'"
     ]
    }
   ],
   "source": [
    "z1='Welcome','to','Python','Programming';\n",
    "sum(z1)"
   ]
  },
  {
   "cell_type": "markdown",
   "id": "c3e72431-1c5c-4aaa-8efa-ea5bf973987c",
   "metadata": {},
   "source": [
    "We can clearly see here, that sum() will only work on tuples having non-string data types. Let us see another example."
   ]
  },
  {
   "cell_type": "code",
   "execution_count": 108,
   "id": "4cb45654-bf40-46cc-92e3-a373c57ab70e",
   "metadata": {},
   "outputs": [
    {
     "data": {
      "text/plain": [
       "28.3"
      ]
     },
     "execution_count": 108,
     "metadata": {},
     "output_type": "execute_result"
    }
   ],
   "source": [
    "z2=1,3,5.6,2,4,True,5,6.7\n",
    "sum(z2)"
   ]
  },
  {
   "cell_type": "markdown",
   "id": "48f2f848-e846-498d-adf8-140f91f6731b",
   "metadata": {},
   "source": [
    "As expected, the boolean values have been treated as their integer counterparts 0 (False) and 1 True). Now, let us see the <code>sorted()</code> function. This function creates a list instead of a tuple."
   ]
  },
  {
   "cell_type": "code",
   "execution_count": 24,
   "id": "bb9be825-8853-4c62-b7d8-6b76e2e1e4d3",
   "metadata": {},
   "outputs": [
    {
     "name": "stdout",
     "output_type": "stream",
     "text": [
      "[1, True, 2, 3, 4, 5, 5.6, 6.7] ['Programming', 'Python', 'Welcome', 'to'] <class 'list'>\n"
     ]
    }
   ],
   "source": [
    "z1='Welcome','to','Python','Programming'\n",
    "z2=1,3,5.6,2,4,True,5,6.7\n",
    "print(sorted(z2),sorted(z1),type(sorted(z2)))"
   ]
  },
  {
   "cell_type": "markdown",
   "id": "9abdc7c1-e3d3-4bcc-abaf-43d189ec65b8",
   "metadata": {},
   "source": [
    "Hence, to get a sorted tuple, we use the `tuple()` function to typecast this. It is used in the following way:"
   ]
  },
  {
   "cell_type": "code",
   "execution_count": 25,
   "id": "dc103acf-ef28-4eba-8b76-21604e1348f7",
   "metadata": {},
   "outputs": [
    {
     "name": "stdout",
     "output_type": "stream",
     "text": [
      "(1, True, 2, 3, 4, 5, 5.6, 6.7) <class 'tuple'>\n"
     ]
    }
   ],
   "source": [
    "print(tuple(sorted(z2)),type(tuple(sorted(z2))))"
   ]
  },
  {
   "cell_type": "code",
   "execution_count": 130,
   "id": "fd73674d-4537-4bd3-b048-1c40b00e49ed",
   "metadata": {},
   "outputs": [
    {
     "ename": "TypeError",
     "evalue": "'<' not supported between instances of 'int' and 'str'",
     "output_type": "error",
     "traceback": [
      "\u001b[1;31m---------------------------------------------------------------------------\u001b[0m",
      "\u001b[1;31mTypeError\u001b[0m                                 Traceback (most recent call last)",
      "Input \u001b[1;32mIn [130]\u001b[0m, in \u001b[0;36m<cell line: 2>\u001b[1;34m()\u001b[0m\n\u001b[0;32m      1\u001b[0m z\u001b[38;5;241m=\u001b[39m\u001b[38;5;124m'\u001b[39m\u001b[38;5;124mPython\u001b[39m\u001b[38;5;124m'\u001b[39m,\u001b[38;5;241m2\u001b[39m,\u001b[38;5;241m3\u001b[39m,\u001b[38;5;241m4\u001b[39m,\u001b[38;5;241m5\u001b[39m,\u001b[38;5;124m'\u001b[39m\u001b[38;5;124mProgramming\u001b[39m\u001b[38;5;124m'\u001b[39m;\n\u001b[1;32m----> 2\u001b[0m \u001b[38;5;28;43msorted\u001b[39;49m\u001b[43m(\u001b[49m\u001b[43mz\u001b[49m\u001b[43m)\u001b[49m\n",
      "\u001b[1;31mTypeError\u001b[0m: '<' not supported between instances of 'int' and 'str'"
     ]
    }
   ],
   "source": [
    "z='Python',2,3,4,5,'Programming';\n",
    "sorted(z)"
   ]
  },
  {
   "cell_type": "markdown",
   "id": "ba854704-aa6c-4e57-bc68-db5c3233c895",
   "metadata": {},
   "source": [
    "So, even in this function, we need the data types of the elements to be the same. It is essential to notice such small things in Python."
   ]
  },
  {
   "cell_type": "markdown",
   "id": "4cf474e1-b20d-4e78-aac7-c50d27bdcb9d",
   "metadata": {},
   "source": [
    "Now, let us see the <code> min() </code> and the <code> max() </code> functions."
   ]
  },
  {
   "cell_type": "code",
   "execution_count": 121,
   "id": "3579d602-1c56-4e21-b767-4795cf50e0ed",
   "metadata": {},
   "outputs": [
    {
     "data": {
      "text/plain": [
       "(9, 0)"
      ]
     },
     "execution_count": 121,
     "metadata": {},
     "output_type": "execute_result"
    }
   ],
   "source": [
    "num=3,9,5,7,8,3,4,True,0,False;\n",
    "\n",
    "max(num),min(num)"
   ]
  },
  {
   "cell_type": "code",
   "execution_count": 126,
   "id": "4f4e47c1-ceb5-4555-8061-e6ce05f8ec07",
   "metadata": {},
   "outputs": [
    {
     "ename": "TypeError",
     "evalue": "'>' not supported between instances of 'int' and 'str'",
     "output_type": "error",
     "traceback": [
      "\u001b[1;31m---------------------------------------------------------------------------\u001b[0m",
      "\u001b[1;31mTypeError\u001b[0m                                 Traceback (most recent call last)",
      "Input \u001b[1;32mIn [126]\u001b[0m, in \u001b[0;36m<cell line: 1>\u001b[1;34m()\u001b[0m\n\u001b[1;32m----> 1\u001b[0m \u001b[38;5;28;43mmax\u001b[39;49m\u001b[43m(\u001b[49m\u001b[43mz\u001b[49m\u001b[43m)\u001b[49m,\u001b[38;5;28mmin\u001b[39m(z)\n",
      "\u001b[1;31mTypeError\u001b[0m: '>' not supported between instances of 'int' and 'str'"
     ]
    }
   ],
   "source": [
    "max(z),min(z)"
   ]
  },
  {
   "cell_type": "markdown",
   "id": "cb0466bf-9f07-4da7-a91f-d324324dd206",
   "metadata": {},
   "source": [
    "Hence, these functions do not support the string type at all. They only support the integer and float types, whereas the booleans True and False are taken as 1 and 0 respectively."
   ]
  },
  {
   "cell_type": "markdown",
   "id": "857432d7-e098-421d-8b6d-6ee3be6904ef",
   "metadata": {
    "jp-MarkdownHeadingCollapsed": true,
    "tags": []
   },
   "source": [
    "#### Immutability of Tuples"
   ]
  },
  {
   "cell_type": "markdown",
   "id": "99995763-7865-4e7e-96bd-70504a683b5a",
   "metadata": {},
   "source": [
    "Tuples __cannot be modified once created__. We can clearly see from the following example, what happens when we try to change a tuple:"
   ]
  },
  {
   "cell_type": "code",
   "execution_count": 4,
   "id": "ed995c01-5a29-44e0-aacd-a3af4d6a4276",
   "metadata": {},
   "outputs": [
    {
     "ename": "TypeError",
     "evalue": "'tuple' object does not support item assignment",
     "output_type": "error",
     "traceback": [
      "\u001b[1;31m---------------------------------------------------------------------------\u001b[0m",
      "\u001b[1;31mTypeError\u001b[0m                                 Traceback (most recent call last)",
      "Input \u001b[1;32mIn [4]\u001b[0m, in \u001b[0;36m<cell line: 2>\u001b[1;34m()\u001b[0m\n\u001b[0;32m      1\u001b[0m x\u001b[38;5;241m=\u001b[39m\u001b[38;5;241m1\u001b[39m,\u001b[38;5;241m2\u001b[39m,\u001b[38;5;241m3\u001b[39m,\u001b[38;5;241m4\u001b[39m,\u001b[38;5;241m5\u001b[39m;\n\u001b[1;32m----> 2\u001b[0m \u001b[43mx\u001b[49m\u001b[43m[\u001b[49m\u001b[38;5;241;43m3\u001b[39;49m\u001b[43m]\u001b[49m\u001b[38;5;241m=\u001b[39m\u001b[38;5;241m6\u001b[39m\n",
      "\u001b[1;31mTypeError\u001b[0m: 'tuple' object does not support item assignment"
     ]
    }
   ],
   "source": [
    "x=1,2,3,4,5;\n",
    "x[3]=6"
   ]
  },
  {
   "cell_type": "markdown",
   "id": "ba51f59a-d0be-49af-b4d7-839c66e627de",
   "metadata": {},
   "source": [
    "Hence, it is clearly visible that tuple elements cannot be modified. How to modify a tuple, then ? \n",
    "\n",
    "There can be 2 ways to do it -\n",
    "- Use slicing to create a new tuple and overwrite it with the original one.\n",
    "- Create a whole new tuple with the modified value."
   ]
  },
  {
   "cell_type": "markdown",
   "id": "2d03b70a-5952-461d-a1b6-3de01cb26ea9",
   "metadata": {},
   "source": [
    "__Using Slicing__"
   ]
  },
  {
   "cell_type": "code",
   "execution_count": 18,
   "id": "9c0d22b1-8bd5-4d76-ab34-bcc717540cab",
   "metadata": {},
   "outputs": [
    {
     "data": {
      "text/plain": [
       "((1, 2, 3, 8, 6, 7), ())"
      ]
     },
     "execution_count": 18,
     "metadata": {},
     "output_type": "execute_result"
    }
   ],
   "source": [
    "x=1,2,3,4,5,6,7\n",
    "t=x[:3]+(8,)+x[5:]\n",
    "x=t\n",
    "t=()\n",
    "x,t"
   ]
  },
  {
   "cell_type": "markdown",
   "id": "8ec049f6-2ea2-4335-847c-de213a93e485",
   "metadata": {},
   "source": [
    "Here, we first sliced the tuple, and then replaced the value of the element and combined them into t. Then, we copied all the values of t into the original tuple x, and declared t as an empty tuple."
   ]
  },
  {
   "cell_type": "markdown",
   "id": "0f8694a0-e0ee-460d-a2a9-96002f263d60",
   "metadata": {},
   "source": [
    "__Creating a new variable__"
   ]
  },
  {
   "cell_type": "markdown",
   "id": "2e253385-f02e-4de4-8f66-be3b30306b35",
   "metadata": {},
   "source": [
    "This method is actually depicted above, just the difference is that we do not use the last two statements where we copy all the values of t into x and then empty the tuple t."
   ]
  },
  {
   "cell_type": "code",
   "execution_count": 21,
   "id": "d88beff6-0fd0-4a66-9235-83bd27b78c0b",
   "metadata": {},
   "outputs": [
    {
     "data": {
      "text/plain": [
       "((1, 2, 3, 12, 7), (1, 2, 3, 8, 6, 7))"
      ]
     },
     "execution_count": 21,
     "metadata": {},
     "output_type": "execute_result"
    }
   ],
   "source": [
    "temp=x[:3]+(12,)+x[5:]\n",
    "temp,x"
   ]
  },
  {
   "cell_type": "markdown",
   "id": "5391984d-9495-4df1-ab96-3af7470d3187",
   "metadata": {
    "jp-MarkdownHeadingCollapsed": true,
    "tags": []
   },
   "source": [
    "#### Packing and Unpacking of Tuples"
   ]
  },
  {
   "cell_type": "markdown",
   "id": "8744370e-b6c7-490d-a483-a17a49ee0581",
   "metadata": {},
   "source": [
    "__Packing__ is done, when we create a tuple. It is when we pack several values into one single tuple. It is what initiates making a tuple. \n",
    "\n",
    "__Unpacking__ is the absolute opposite of it. It means to split / unpack the tuple into its elements. Let us see some examples of unpacking."
   ]
  },
  {
   "cell_type": "code",
   "execution_count": 29,
   "id": "66933809-cd5f-4535-aeba-874989f5a06e",
   "metadata": {},
   "outputs": [
    {
     "data": {
      "text/plain": [
       "((1, 2, 3, 4, 5, 6, 7), tuple, 7)"
      ]
     },
     "execution_count": 29,
     "metadata": {},
     "output_type": "execute_result"
    }
   ],
   "source": [
    "tup=1,2,3,4,5,6,7; # this is packing\n",
    "tup,type(tup),len(tup)"
   ]
  },
  {
   "cell_type": "markdown",
   "id": "af7da974-db0b-4b04-9103-adda5a1cf079",
   "metadata": {},
   "source": [
    "We have packed 7 elements into a tuple. Let us now unpack the tuple. It is done in the following way:"
   ]
  },
  {
   "cell_type": "code",
   "execution_count": 36,
   "id": "067c1417-ec67-4fa4-a7b1-094efd4f1384",
   "metadata": {},
   "outputs": [
    {
     "name": "stdout",
     "output_type": "stream",
     "text": [
      "1 2 3 4 5 6 7\n",
      "<class 'int'> <class 'int'> <class 'int'>\n"
     ]
    }
   ],
   "source": [
    "(x1,x2,x3,x4,x5,x6,x7)=tup;\n",
    "print(x1,x2,x3,x4,x5,x6,x7)\n",
    "print(type(x1),type(x2),type(x3))"
   ]
  },
  {
   "cell_type": "markdown",
   "id": "76daeb10-fbbf-49de-a609-e72480284522",
   "metadata": {},
   "source": [
    "If we provide more or less elements inside the brackets, it will show __<font color=\"red\"> error ! </font>__. This is because it is used to unpack each element, not split the tuple into multiple tuples.\n",
    "\n",
    "The following examples will provide a better clarity:"
   ]
  },
  {
   "cell_type": "code",
   "execution_count": 32,
   "id": "94da1a98-e49e-4cdd-b1fe-4b7151522637",
   "metadata": {},
   "outputs": [
    {
     "ename": "ValueError",
     "evalue": "too many values to unpack (expected 3)",
     "output_type": "error",
     "traceback": [
      "\u001b[1;31m---------------------------------------------------------------------------\u001b[0m",
      "\u001b[1;31mValueError\u001b[0m                                Traceback (most recent call last)",
      "Input \u001b[1;32mIn [32]\u001b[0m, in \u001b[0;36m<cell line: 1>\u001b[1;34m()\u001b[0m\n\u001b[1;32m----> 1\u001b[0m (x,y,z)\u001b[38;5;241m=\u001b[39mtup\n",
      "\u001b[1;31mValueError\u001b[0m: too many values to unpack (expected 3)"
     ]
    }
   ],
   "source": [
    "(x,y,z)=tup"
   ]
  },
  {
   "cell_type": "code",
   "execution_count": 33,
   "id": "7991e874-af61-4a9a-99ad-21c44ed1000a",
   "metadata": {},
   "outputs": [
    {
     "ename": "ValueError",
     "evalue": "not enough values to unpack (expected 9, got 7)",
     "output_type": "error",
     "traceback": [
      "\u001b[1;31m---------------------------------------------------------------------------\u001b[0m",
      "\u001b[1;31mValueError\u001b[0m                                Traceback (most recent call last)",
      "Input \u001b[1;32mIn [33]\u001b[0m, in \u001b[0;36m<cell line: 1>\u001b[1;34m()\u001b[0m\n\u001b[1;32m----> 1\u001b[0m (x1,x2,x3,x4,x5,x6,x7,x8,x9)\u001b[38;5;241m=\u001b[39mtup\n",
      "\u001b[1;31mValueError\u001b[0m: not enough values to unpack (expected 9, got 7)"
     ]
    }
   ],
   "source": [
    "(x1,x2,x3,x4,x5,x6,x7,x8,x9)=tup"
   ]
  },
  {
   "cell_type": "markdown",
   "id": "c8bc6ac9-4864-44bb-ae28-f5ed58a71fb0",
   "metadata": {},
   "source": [
    "This was the reason of using the `len()` function in the first statement to know how many elements are there to be extracted. It is an essential part of using the function."
   ]
  },
  {
   "cell_type": "markdown",
   "id": "ac6ab42a-547b-414e-b6a3-f8a16ea9e501",
   "metadata": {
    "jp-MarkdownHeadingCollapsed": true,
    "tags": []
   },
   "source": [
    "### <a class=anchor id=\"list\">Lists</a>"
   ]
  },
  {
   "cell_type": "markdown",
   "id": "58e4c37b-df7e-4d49-a27b-00ef79c0b6f2",
   "metadata": {},
   "source": [
    "Lists are also data structures, just like tuples. They are _ordered sequence of mixed data types_, that are __mutable__, i.e. they can be modified after creation, unlike tuples. They are stored in the same way tuples are; using indexes. \n",
    "\n",
    "They are written enclosed in square brackets `[ ]`, and the elements inside a list can be entered using comma-separated values within these square brackets.\n",
    "\n",
    "Let us see some common examples."
   ]
  },
  {
   "cell_type": "code",
   "execution_count": 76,
   "id": "e1114385-6098-4c32-ad50-a39df95955a6",
   "metadata": {},
   "outputs": [
    {
     "name": "stdout",
     "output_type": "stream",
     "text": [
      "[1, 2, 3, 4, 5] <class 'list'>\n",
      "['str1', 'str2', 'str3', 'str4'] <class 'list'>\n",
      "[True, False, True] <class 'list'>\n",
      "[3.3, 55.6, 1.2, 81.3] <class 'list'>\n"
     ]
    }
   ],
   "source": [
    "list1=[1,2,3,4,5]\n",
    "list2=['str1','str2','str3','str4'];\n",
    "list3=[True,False,True];\n",
    "list4=[3.3,55.6,1.2,81.3];\n",
    "\n",
    "print(list1,type(list1))\n",
    "print(list2,type(list2))\n",
    "print(list3,type(list3))\n",
    "print(list4,type(list4))"
   ]
  },
  {
   "cell_type": "markdown",
   "id": "b776e835-e1a2-473c-8068-6531feaef90e",
   "metadata": {},
   "source": [
    "Lists can also have mixed data types, just like tuples. Here are some examples:"
   ]
  },
  {
   "cell_type": "code",
   "execution_count": 77,
   "id": "38980dff-e532-4ad0-9dfc-5665729ab4d9",
   "metadata": {},
   "outputs": [
    {
     "data": {
      "text/plain": [
       "(['ABCDEFG', 1, True, 3.4], [1, 2, 'Python', 3, 3.5, 6.3, True, 'Programming'])"
      ]
     },
     "execution_count": 77,
     "metadata": {},
     "output_type": "execute_result"
    }
   ],
   "source": [
    "list1=['ABCDEFG',1,True,3.4]\n",
    "list2=[1,2,'Python',3,3.5,6.3,True, 'Programming']\n",
    "\n",
    "list1,list2"
   ]
  },
  {
   "cell_type": "markdown",
   "id": "55180e4e-a3b6-4e0c-be0e-d7ec40f5d7b0",
   "metadata": {
    "jp-MarkdownHeadingCollapsed": true,
    "tags": []
   },
   "source": [
    "#### Indexing in Lists"
   ]
  },
  {
   "cell_type": "markdown",
   "id": "99385bc9-23f6-4d1b-baa7-4921f97a33ae",
   "metadata": {},
   "source": [
    "Indexing in lists are done in the same way as they are done in tuples. There is no difference; you can use negative and positive indexing.\n",
    "\n",
    "See the following examples:"
   ]
  },
  {
   "cell_type": "code",
   "execution_count": 78,
   "id": "a68e886c-b8be-4bc4-a690-5627b1c2d944",
   "metadata": {},
   "outputs": [],
   "source": [
    "list1=[1,2,'Python',True,4,6.5,7,'Programming','Good',3.4];"
   ]
  },
  {
   "cell_type": "code",
   "execution_count": 83,
   "id": "b68801b8-9c62-4ef4-a797-f8d671c109c3",
   "metadata": {},
   "outputs": [
    {
     "data": {
      "text/plain": [
       "(True, 6.5, 'Programming', 6.5)"
      ]
     },
     "execution_count": 83,
     "metadata": {},
     "output_type": "execute_result"
    }
   ],
   "source": [
    "list1[3],list1[5],list1[-3],list1[-5]"
   ]
  },
  {
   "cell_type": "markdown",
   "id": "59463fad-17b8-4b75-a55a-954b35315e2c",
   "metadata": {},
   "source": [
    "You can once again use __multiple indexing__ for the string elements here. Let us see with an example below:"
   ]
  },
  {
   "cell_type": "code",
   "execution_count": 86,
   "id": "ebb2bea3-de9d-4384-98f8-5706de8771fd",
   "metadata": {},
   "outputs": [
    {
     "data": {
      "text/plain": [
       "('o', 'm', 'o')"
      ]
     },
     "execution_count": 86,
     "metadata": {},
     "output_type": "execute_result"
    }
   ],
   "source": [
    "list1[2][4],list1[7][6],list1[-2][-3]"
   ]
  },
  {
   "cell_type": "markdown",
   "id": "1090494a-b2a2-4eb2-83e9-ba5ae10ba570",
   "metadata": {
    "jp-MarkdownHeadingCollapsed": true,
    "tags": []
   },
   "source": [
    "#### Slicing in Lists"
   ]
  },
  {
   "cell_type": "markdown",
   "id": "6a348463-6282-41da-a838-13452a3abb7e",
   "metadata": {},
   "source": [
    "Slicing in Lists is done in the same way as tuples. The following examples will depict it:"
   ]
  },
  {
   "cell_type": "code",
   "execution_count": 87,
   "id": "118ca798-7d73-418a-9f1f-a1303e4ebb95",
   "metadata": {},
   "outputs": [
    {
     "data": {
      "text/plain": [
       "([1, 2, 'Python', True, 4, 6.5],\n",
       " [4, 6.5, 7, 'Programming', 'Good', 3.4],\n",
       " [True, 6.5, 'Programming'])"
      ]
     },
     "execution_count": 87,
     "metadata": {},
     "output_type": "execute_result"
    }
   ],
   "source": [
    "list1[:6],list1[4:],list1[3:8:2]"
   ]
  },
  {
   "cell_type": "markdown",
   "id": "b5c8e9be-6a41-439b-84ba-1d314bee2e26",
   "metadata": {},
   "source": [
    "You can also use slicing and indexing together, to extract text from string elements. It is done in the following way:"
   ]
  },
  {
   "cell_type": "code",
   "execution_count": 89,
   "id": "343927b4-3f8d-445e-adb0-58ea3be05a29",
   "metadata": {},
   "outputs": [
    {
     "data": {
      "text/plain": [
       "('gramm', 'Pytho')"
      ]
     },
     "execution_count": 89,
     "metadata": {},
     "output_type": "execute_result"
    }
   ],
   "source": [
    "list1[7][3:8],list1[-8][:-1]"
   ]
  },
  {
   "cell_type": "markdown",
   "id": "490e2dc4-6c0f-41cc-a899-c4704aef5f90",
   "metadata": {
    "jp-MarkdownHeadingCollapsed": true,
    "tags": []
   },
   "source": [
    "#### Nesting Lists and Tuples"
   ]
  },
  {
   "cell_type": "markdown",
   "id": "76ca7b06-d0bb-4cd9-ba3b-5f01d224c57d",
   "metadata": {},
   "source": [
    "Lists and tuples can be nested within one another. The indexing and slicing will follow the same rules as when tuples were nested inside tuples. Let us look at some examples:"
   ]
  },
  {
   "cell_type": "markdown",
   "id": "eb797c52-b0fa-4608-978e-3290842371ff",
   "metadata": {},
   "source": [
    "__Nesting tuples inside Lists__"
   ]
  },
  {
   "cell_type": "code",
   "execution_count": 98,
   "id": "4b5923ca-a4e2-486e-9fa9-f9bdf4f48c92",
   "metadata": {},
   "outputs": [
    {
     "data": {
      "text/plain": [
       "((True, 4.5, 1, False, 'Program'), tuple)"
      ]
     },
     "execution_count": 98,
     "metadata": {},
     "output_type": "execute_result"
    }
   ],
   "source": [
    "list1=['Python','Programming',True,(True, 4.5, 1,False, 'Program'),2.4,False];\n",
    "list1[3] , type(list1[3])"
   ]
  },
  {
   "cell_type": "code",
   "execution_count": 104,
   "id": "361edfb7-e078-4423-b41a-d5796a14f81a",
   "metadata": {},
   "outputs": [
    {
     "data": {
      "text/plain": [
       "'gra'"
      ]
     },
     "execution_count": 104,
     "metadata": {},
     "output_type": "execute_result"
    }
   ],
   "source": [
    "list1[3][-1][-4:-1]"
   ]
  },
  {
   "cell_type": "markdown",
   "id": "febf93bb-548e-41cc-9c53-2c26af26e9f4",
   "metadata": {},
   "source": [
    "__Nesting lists inside Lists__"
   ]
  },
  {
   "cell_type": "code",
   "execution_count": 106,
   "id": "dc0904fe-5259-4b04-b501-20fab7045328",
   "metadata": {},
   "outputs": [
    {
     "data": {
      "text/plain": [
       "([True, 4.5, 1, False, 'Program'], list)"
      ]
     },
     "execution_count": 106,
     "metadata": {},
     "output_type": "execute_result"
    }
   ],
   "source": [
    "list1=['Python','Programming',True,[True, 4.5, 1,False, 'Program'],2.4,False];\n",
    "list1[3],type(list1[3])"
   ]
  },
  {
   "cell_type": "code",
   "execution_count": 110,
   "id": "d220b5bc-d3ee-4e7a-b324-8018bee1c715",
   "metadata": {},
   "outputs": [
    {
     "data": {
      "text/plain": [
       "'Progr'"
      ]
     },
     "execution_count": 110,
     "metadata": {},
     "output_type": "execute_result"
    }
   ],
   "source": [
    "list1[3][-1][:5]"
   ]
  },
  {
   "cell_type": "markdown",
   "id": "8cbde80e-ef90-4b4e-a5aa-19a6ec60eec4",
   "metadata": {
    "jp-MarkdownHeadingCollapsed": true,
    "tags": []
   },
   "source": [
    "#### Memberships in Lists"
   ]
  },
  {
   "cell_type": "markdown",
   "id": "304e4957-7696-4cd3-a309-7ddbd0812b33",
   "metadata": {},
   "source": [
    "The membership operators `IN` and `NOT IN` are also used with lists to navigate through them. They can be used in the same way as strings, only here, the whole element will be matched, instead of characters.\n",
    "\n",
    "The following example illustrates this:"
   ]
  },
  {
   "cell_type": "code",
   "execution_count": 111,
   "id": "734ff45e-9148-4ab9-9381-b23a2a074806",
   "metadata": {},
   "outputs": [
    {
     "data": {
      "text/plain": [
       "['Python', 'Programming', True, [True, 4.5, 1, False, 'Program'], 2.4, False]"
      ]
     },
     "execution_count": 111,
     "metadata": {},
     "output_type": "execute_result"
    }
   ],
   "source": [
    "list1"
   ]
  },
  {
   "cell_type": "code",
   "execution_count": 130,
   "id": "1c98e985-610e-46ef-b735-5794bb52e340",
   "metadata": {},
   "outputs": [
    {
     "name": "stdout",
     "output_type": "stream",
     "text": [
      "False\n",
      "True\n",
      "True\n",
      "True\n"
     ]
    }
   ],
   "source": [
    "print('Py' in list1)\n",
    "print('Py' in list1[0])\n",
    "print(False in list1[3])\n",
    "print(True in list1[3][1:])"
   ]
  },
  {
   "cell_type": "markdown",
   "id": "8be7341d-9825-4a5f-aabe-f1b5a69f074b",
   "metadata": {},
   "source": [
    "Note that the last value is coming true even though the boolean `TRUE` is not present. This is because the value 1 is present, which is its numeric form. These small things need to be considered."
   ]
  },
  {
   "cell_type": "code",
   "execution_count": 140,
   "id": "cd499238-a7d6-4355-baa9-7930891413c1",
   "metadata": {},
   "outputs": [
    {
     "name": "stdout",
     "output_type": "stream",
     "text": [
      "False\n",
      "False\n"
     ]
    }
   ],
   "source": [
    "print('Prog' not in list1[1])\n",
    "print(False not in list1)"
   ]
  },
  {
   "cell_type": "markdown",
   "id": "f55abc28-5cda-42bb-8679-131ede840a85",
   "metadata": {
    "jp-MarkdownHeadingCollapsed": true,
    "tags": []
   },
   "source": [
    "#### Operations on Lists"
   ]
  },
  {
   "cell_type": "markdown",
   "id": "2e16aeac-5983-4ef8-916e-94cfdcc084ed",
   "metadata": {},
   "source": [
    "Let us see if the basic arithmetic operations are possible with lists or not. See the following examples:"
   ]
  },
  {
   "cell_type": "markdown",
   "id": "bf18d2b6-4e26-4d5c-88e8-053932871e5d",
   "metadata": {
    "jp-MarkdownHeadingCollapsed": true,
    "tags": []
   },
   "source": [
    "##### Addition"
   ]
  },
  {
   "cell_type": "code",
   "execution_count": 143,
   "id": "c4019205-a63c-45a3-b038-e6785a228950",
   "metadata": {},
   "outputs": [
    {
     "data": {
      "text/plain": [
       "[1, 2, 3, 4, 5, 2, 3, 4, 5, 6]"
      ]
     },
     "execution_count": 143,
     "metadata": {},
     "output_type": "execute_result"
    }
   ],
   "source": [
    "list1=[1,2,3,4,5];\n",
    "list2=[2,3,4,5,6];\n",
    "\n",
    "list_new=list1+list2\n",
    "list_new"
   ]
  },
  {
   "cell_type": "markdown",
   "id": "340808f3-e381-412f-9d8c-9d2ea7e21343",
   "metadata": {},
   "source": [
    "So, basic addition with other lists is possible. Can they perform the same operation with, say tuples ? or integers and floats and booleans ? Let's see."
   ]
  },
  {
   "cell_type": "code",
   "execution_count": 144,
   "id": "8824000e-603d-4977-aeec-24532719c3b1",
   "metadata": {},
   "outputs": [
    {
     "ename": "TypeError",
     "evalue": "can only concatenate list (not \"tuple\") to list",
     "output_type": "error",
     "traceback": [
      "\u001b[1;31m---------------------------------------------------------------------------\u001b[0m",
      "\u001b[1;31mTypeError\u001b[0m                                 Traceback (most recent call last)",
      "Input \u001b[1;32mIn [144]\u001b[0m, in \u001b[0;36m<cell line: 3>\u001b[1;34m()\u001b[0m\n\u001b[0;32m      1\u001b[0m tuple1\u001b[38;5;241m=\u001b[39m\u001b[38;5;241m1\u001b[39m,\u001b[38;5;241m2\u001b[39m,\u001b[38;5;241m3\u001b[39m,\u001b[38;5;241m4\u001b[39m,\u001b[38;5;241m5\u001b[39m;\n\u001b[1;32m----> 3\u001b[0m struct_new\u001b[38;5;241m=\u001b[39m\u001b[43mlist1\u001b[49m\u001b[38;5;241;43m+\u001b[39;49m\u001b[43mtuple1\u001b[49m\n",
      "\u001b[1;31mTypeError\u001b[0m: can only concatenate list (not \"tuple\") to list"
     ]
    }
   ],
   "source": [
    "tuple1=1,2,3,4,5;\n",
    "\n",
    "struct_new=list1+tuple1"
   ]
  },
  {
   "cell_type": "markdown",
   "id": "53dbb6d3-cf31-4e13-9edd-7b411e3d7982",
   "metadata": {},
   "source": [
    "Hence, we cannot add anything other than a list to a list."
   ]
  },
  {
   "cell_type": "markdown",
   "id": "d0f5c2a1-e9ed-421c-bb91-9bfd553eed3b",
   "metadata": {
    "jp-MarkdownHeadingCollapsed": true,
    "tags": []
   },
   "source": [
    "##### Subtraction"
   ]
  },
  {
   "cell_type": "code",
   "execution_count": 145,
   "id": "d354648d-39e4-4383-b989-511a5be8e186",
   "metadata": {},
   "outputs": [
    {
     "data": {
      "text/plain": [
       "([1, 2, 3, 4, 5], [2, 3, 4, 5, 6])"
      ]
     },
     "execution_count": 145,
     "metadata": {},
     "output_type": "execute_result"
    }
   ],
   "source": [
    "list1,list2"
   ]
  },
  {
   "cell_type": "code",
   "execution_count": 146,
   "id": "a002631b-f3dc-49d0-96e2-1202b5335ce3",
   "metadata": {},
   "outputs": [
    {
     "ename": "TypeError",
     "evalue": "unsupported operand type(s) for -: 'list' and 'list'",
     "output_type": "error",
     "traceback": [
      "\u001b[1;31m---------------------------------------------------------------------------\u001b[0m",
      "\u001b[1;31mTypeError\u001b[0m                                 Traceback (most recent call last)",
      "Input \u001b[1;32mIn [146]\u001b[0m, in \u001b[0;36m<cell line: 1>\u001b[1;34m()\u001b[0m\n\u001b[1;32m----> 1\u001b[0m \u001b[43mlist2\u001b[49m\u001b[38;5;241;43m-\u001b[39;49m\u001b[43mlist1\u001b[49m\n",
      "\u001b[1;31mTypeError\u001b[0m: unsupported operand type(s) for -: 'list' and 'list'"
     ]
    }
   ],
   "source": [
    "list2-list1"
   ]
  },
  {
   "cell_type": "markdown",
   "id": "e584722c-2e9c-4439-83b9-42842db11152",
   "metadata": {},
   "source": [
    "Hence, we cannot subtract two lists. Similarily, division, exponential, floor division, and modulus operations are not compatible with lists as well."
   ]
  },
  {
   "cell_type": "markdown",
   "id": "111ac6da-2e2d-42e3-9d20-78f9dbcc530f",
   "metadata": {
    "jp-MarkdownHeadingCollapsed": true,
    "tags": []
   },
   "source": [
    "##### Multiplication"
   ]
  },
  {
   "cell_type": "markdown",
   "id": "3b57beb1-4506-475c-b906-1a475aeeae79",
   "metadata": {},
   "source": [
    "Again, just like tuples, lists can only be multiplied by integers, in which case, it will act as a repetition operator. Let us see an example:"
   ]
  },
  {
   "cell_type": "code",
   "execution_count": 150,
   "id": "9b59a5b7-757e-4398-b20f-cf32b3b8f388",
   "metadata": {},
   "outputs": [
    {
     "data": {
      "text/plain": [
       "([1, 2, 3, 4, 5], [1, 2, 3, 4, 5, 1, 2, 3, 4, 5, 1, 2, 3, 4, 5])"
      ]
     },
     "execution_count": 150,
     "metadata": {},
     "output_type": "execute_result"
    }
   ],
   "source": [
    "list1,list1*3"
   ]
  },
  {
   "cell_type": "code",
   "execution_count": 151,
   "id": "59aa3485-413f-4856-90d9-01b5d3d03e56",
   "metadata": {},
   "outputs": [
    {
     "ename": "TypeError",
     "evalue": "can't multiply sequence by non-int of type 'list'",
     "output_type": "error",
     "traceback": [
      "\u001b[1;31m---------------------------------------------------------------------------\u001b[0m",
      "\u001b[1;31mTypeError\u001b[0m                                 Traceback (most recent call last)",
      "Input \u001b[1;32mIn [151]\u001b[0m, in \u001b[0;36m<cell line: 1>\u001b[1;34m()\u001b[0m\n\u001b[1;32m----> 1\u001b[0m \u001b[43mlist1\u001b[49m\u001b[38;5;241;43m*\u001b[39;49m\u001b[43mlist2\u001b[49m\n",
      "\u001b[1;31mTypeError\u001b[0m: can't multiply sequence by non-int of type 'list'"
     ]
    }
   ],
   "source": [
    "list1*list2"
   ]
  },
  {
   "cell_type": "markdown",
   "id": "160aeac8-6d75-417f-811b-4008ba974730",
   "metadata": {},
   "source": [
    "Hence proved ! Only the integer types can be multiplied by lists."
   ]
  },
  {
   "cell_type": "markdown",
   "id": "1047b2f9-e4b8-47af-ac72-9e405c0c568c",
   "metadata": {
    "jp-MarkdownHeadingCollapsed": true,
    "tags": []
   },
   "source": [
    "#### Modification of Lists"
   ]
  },
  {
   "cell_type": "markdown",
   "id": "7a401c32-4cda-45a6-b5d1-370fb2d431b8",
   "metadata": {},
   "source": [
    "As discussed before, the key difference between a __<font color=\"#000080\">list</font>__ and a __<font color=\"#000080\">tuple</font>__ is that __lists are mutable__, and hence, provide a greater flexibility to us.\n",
    "\n",
    "Let us see all the ways in which we can modify lists."
   ]
  },
  {
   "cell_type": "markdown",
   "id": "058777ed-3f76-40ae-a7f9-3e823d5fadff",
   "metadata": {
    "jp-MarkdownHeadingCollapsed": true,
    "tags": []
   },
   "source": [
    "##### 1. Replacing an element"
   ]
  },
  {
   "cell_type": "markdown",
   "id": "c759a5b7-bfd9-487a-8b0b-7409c034205a",
   "metadata": {},
   "source": [
    "You can replace an element inside a list using a very simple assignment expression. Just use indexing to point to the element, and assign the new value to it. Here is an example:"
   ]
  },
  {
   "cell_type": "code",
   "execution_count": 163,
   "id": "a7ea9a70-b817-42f4-9480-af3d7f7fe57d",
   "metadata": {},
   "outputs": [
    {
     "data": {
      "text/plain": [
       "['Physics', 'Chemistry', 'Mathematics', 'Biology']"
      ]
     },
     "execution_count": 163,
     "metadata": {},
     "output_type": "execute_result"
    }
   ],
   "source": [
    "list1=['Physics','Chemistry','Mathematics','Biology']\n",
    "list1"
   ]
  },
  {
   "cell_type": "code",
   "execution_count": 164,
   "id": "ebc9aac9-42c8-49cd-a647-b1aef40616e3",
   "metadata": {},
   "outputs": [
    {
     "data": {
      "text/plain": [
       "['Physics', 'Chemistry', 'Mathematics', 'Computer Science']"
      ]
     },
     "execution_count": 164,
     "metadata": {},
     "output_type": "execute_result"
    }
   ],
   "source": [
    "list1[-1]='Computer Science'\n",
    "list1"
   ]
  },
  {
   "cell_type": "markdown",
   "id": "9d3f0908-0930-4007-810a-c80fd1600dcb",
   "metadata": {},
   "source": [
    "Hence, the element in the list is changed. It became very simple. Now a simple question :\n",
    "\n",
    "__If a tuple is an element of a list, and you want to modify the element of the tuple, will you be able to do it?__\n",
    "\n",
    "Let us look at an example for this."
   ]
  },
  {
   "cell_type": "code",
   "execution_count": 158,
   "id": "7465bbeb-6226-4db4-88ef-4f902b105cd4",
   "metadata": {},
   "outputs": [
    {
     "data": {
      "text/plain": [
       "['Oranges',\n",
       " 'Mangoes',\n",
       " 'Bananas',\n",
       " ('Green Apples', 'Black Apples', 'Red Apples'),\n",
       " 'Grapes']"
      ]
     },
     "execution_count": 158,
     "metadata": {},
     "output_type": "execute_result"
    }
   ],
   "source": [
    "list2=['Oranges','Mangoes','Bananas',('Green Apples','Black Apples','Red Apples'),'Grapes']\n",
    "list2"
   ]
  },
  {
   "cell_type": "markdown",
   "id": "45a48a67-8e7d-44f8-ac90-d8aa12d4e827",
   "metadata": {},
   "source": [
    "We have a tuple at the index `-2`. Let's see if we can change its elements using multiple indexing and a simple assignment statement:"
   ]
  },
  {
   "cell_type": "code",
   "execution_count": 159,
   "id": "92c119e1-5958-4de0-8091-c955801b51d7",
   "metadata": {},
   "outputs": [
    {
     "ename": "TypeError",
     "evalue": "'types.GenericAlias' object does not support item assignment",
     "output_type": "error",
     "traceback": [
      "\u001b[1;31m---------------------------------------------------------------------------\u001b[0m",
      "\u001b[1;31mTypeError\u001b[0m                                 Traceback (most recent call last)",
      "Input \u001b[1;32mIn [159]\u001b[0m, in \u001b[0;36m<cell line: 1>\u001b[1;34m()\u001b[0m\n\u001b[1;32m----> 1\u001b[0m \u001b[38;5;28;43mlist\u001b[39;49m\u001b[43m[\u001b[49m\u001b[38;5;241;43m-\u001b[39;49m\u001b[38;5;241;43m2\u001b[39;49m\u001b[43m]\u001b[49m\u001b[43m[\u001b[49m\u001b[38;5;241;43m0\u001b[39;49m\u001b[43m]\u001b[49m\u001b[38;5;241m=\u001b[39m\u001b[38;5;124m'\u001b[39m\u001b[38;5;124mGreenApples\u001b[39m\u001b[38;5;124m'\u001b[39m\n",
      "\u001b[1;31mTypeError\u001b[0m: 'types.GenericAlias' object does not support item assignment"
     ]
    }
   ],
   "source": [
    "list[-2][0]='GreenApples'"
   ]
  },
  {
   "cell_type": "markdown",
   "id": "95da4035-c6ac-4a0b-9b41-3e27df7b6942",
   "metadata": {},
   "source": [
    "So, __<font color=\"red\"> No!__, we cannot modify an element of a tuple that is nested inside a list."
   ]
  },
  {
   "cell_type": "markdown",
   "id": "ece1d0af-58da-4ffe-b4da-27c2bf87bb36",
   "metadata": {
    "jp-MarkdownHeadingCollapsed": true,
    "tags": []
   },
   "source": [
    "##### 2. Adding Elements to list"
   ]
  },
  {
   "cell_type": "markdown",
   "id": "69e42615-5d6a-41ab-9013-ea184b2ff047",
   "metadata": {},
   "source": [
    "To add elements to a list, we can use a simple addition (+) operator. However, there is a method of `extend()`, that is used to add elements in a list. Remember, even if you are adding a single value, you need to add it within square brackets inside the parenthesis of the method. "
   ]
  },
  {
   "cell_type": "code",
   "execution_count": 160,
   "id": "a3aa23eb-6308-4614-9eee-19ef21341f4e",
   "metadata": {},
   "outputs": [
    {
     "data": {
      "text/plain": [
       "['Physics', 'Chemistry', 'Mathematics', 'Computer Science']"
      ]
     },
     "execution_count": 160,
     "metadata": {},
     "output_type": "execute_result"
    }
   ],
   "source": [
    "list1"
   ]
  },
  {
   "cell_type": "code",
   "execution_count": 165,
   "id": "79302e39-792b-4820-a716-210f9f68473d",
   "metadata": {},
   "outputs": [
    {
     "data": {
      "text/plain": [
       "['Physics',\n",
       " 'Chemistry',\n",
       " 'Mathematics',\n",
       " 'Computer Science',\n",
       " 'Biology',\n",
       " 'Physical Education',\n",
       " 'General Studies']"
      ]
     },
     "execution_count": 165,
     "metadata": {},
     "output_type": "execute_result"
    }
   ],
   "source": [
    "list1.extend(['Biology','Physical Education','General Studies'])\n",
    "list1"
   ]
  },
  {
   "cell_type": "markdown",
   "id": "b6a111d7-7fc3-4e87-9e6d-3a505fed4d64",
   "metadata": {},
   "source": [
    "However, if you don't put square brackets, then each character of a string will become an element of the list. It can be depicted below - "
   ]
  },
  {
   "cell_type": "code",
   "execution_count": 166,
   "id": "754d00b6-da3b-4679-a1a1-a455a7a66c8c",
   "metadata": {},
   "outputs": [
    {
     "data": {
      "text/plain": [
       "['Physics',\n",
       " 'Chemistry',\n",
       " 'Mathematics',\n",
       " 'Computer Science',\n",
       " 'Biology',\n",
       " 'Physical Education',\n",
       " 'General Studies',\n",
       " 'S',\n",
       " 'p',\n",
       " 'o',\n",
       " 'r',\n",
       " 't',\n",
       " 's']"
      ]
     },
     "execution_count": 166,
     "metadata": {},
     "output_type": "execute_result"
    }
   ],
   "source": [
    "list1.extend('Sports')\n",
    "list1"
   ]
  },
  {
   "cell_type": "markdown",
   "id": "8b162a32-197a-401c-97b5-ce7cbcea74ff",
   "metadata": {},
   "source": [
    "Hence, it is important to add square brackets for the `extend()` function."
   ]
  },
  {
   "cell_type": "markdown",
   "id": "527b5a53-daa5-48fe-bf2b-7a70ab5cff22",
   "metadata": {},
   "source": [
    "There is another method `append()` that is used to add elements to the end of a list. In this method, you __need not put the square brackets__ inside the parenthesis, as it will take each comma separated entry as an element. If you want to nest a tuple or a list inside the list, then you can use the square brackets. \n",
    "\n",
    "This method adds a _single element_ at the end of the list. You __cannot add more than one element at a time__ with this method. Let us see an example of this -"
   ]
  },
  {
   "cell_type": "code",
   "execution_count": 168,
   "id": "69ef4e8e-f9dc-4c1d-b981-2f001479cecc",
   "metadata": {},
   "outputs": [
    {
     "data": {
      "text/plain": [
       "['Python', 'Programming', True, (True, 4.5, 1, False, 'Program'), 2.4, False]"
      ]
     },
     "execution_count": 168,
     "metadata": {},
     "output_type": "execute_result"
    }
   ],
   "source": [
    "list1=['Python','Programming',True,(True, 4.5, 1,False, 'Program'),2.4,False];\n",
    "list1"
   ]
  },
  {
   "cell_type": "code",
   "execution_count": 170,
   "id": "a2b0d139-9663-446a-91f7-0fa2debbf863",
   "metadata": {},
   "outputs": [
    {
     "data": {
      "text/plain": [
       "['Python',\n",
       " 'Programming',\n",
       " True,\n",
       " (True, 4.5, 1, False, 'Program'),\n",
       " 2.4,\n",
       " False,\n",
       " 'Fun']"
      ]
     },
     "execution_count": 170,
     "metadata": {},
     "output_type": "execute_result"
    }
   ],
   "source": [
    "list1.append('Fun')\n",
    "list1"
   ]
  },
  {
   "cell_type": "markdown",
   "id": "e39a3a1d-95c6-4dcb-864d-79dfadc79712",
   "metadata": {},
   "source": [
    "Now, if you want to add a list, or a tuple inside the list, then you can use the square brackets [ ] in the append() method. Let us see:"
   ]
  },
  {
   "cell_type": "code",
   "execution_count": 171,
   "id": "8845de82-283b-49b5-895d-656c8e102d81",
   "metadata": {},
   "outputs": [
    {
     "data": {
      "text/plain": [
       "['Python',\n",
       " 'Programming',\n",
       " True,\n",
       " (True, 4.5, 1, False, 'Program'),\n",
       " 2.4,\n",
       " False,\n",
       " 'Fun',\n",
       " ['list1', 'list2', 3, 4, 6]]"
      ]
     },
     "execution_count": 171,
     "metadata": {},
     "output_type": "execute_result"
    }
   ],
   "source": [
    "list1.append(['list1','list2',3,4,6])\n",
    "list1"
   ]
  },
  {
   "cell_type": "markdown",
   "id": "32e68c07-2ede-436c-8cd4-6e7b1d69dcc2",
   "metadata": {},
   "source": [
    "As you can see, the entries are all inserted as a nested list inside the list. The same syntax with the `extend()` method inserts them as elements."
   ]
  },
  {
   "cell_type": "markdown",
   "id": "a9419526-0fde-4f08-bb57-bfa03df723ce",
   "metadata": {
    "jp-MarkdownHeadingCollapsed": true,
    "tags": []
   },
   "source": [
    "##### 3. Deleting elements from List"
   ]
  },
  {
   "cell_type": "markdown",
   "id": "ca5babda-871f-4f3c-89f4-80191a927630",
   "metadata": {},
   "source": [
    "For deleting elements from your list, you can use several methods. There is a keyword `del` that is used for this purpose only. It can be used to delete the whole list, or a part of the list using indexing and slicing.\n",
    "\n",
    "Let us look at some examples - "
   ]
  },
  {
   "cell_type": "code",
   "execution_count": 172,
   "id": "fa20dcb0-43b5-4c63-8026-24811ebc95e5",
   "metadata": {},
   "outputs": [
    {
     "data": {
      "text/plain": [
       "['Python',\n",
       " 'Programming',\n",
       " True,\n",
       " (True, 4.5, 1, False, 'Program'),\n",
       " 2.4,\n",
       " False,\n",
       " 'Fun',\n",
       " ['list1', 'list2', 3, 4, 6]]"
      ]
     },
     "execution_count": 172,
     "metadata": {},
     "output_type": "execute_result"
    }
   ],
   "source": [
    "list1"
   ]
  },
  {
   "cell_type": "code",
   "execution_count": 173,
   "id": "8a6a7c5c-31f3-4386-8e1a-d4d4473ecc33",
   "metadata": {},
   "outputs": [
    {
     "data": {
      "text/plain": [
       "['Python',\n",
       " 'Programming',\n",
       " True,\n",
       " (True, 4.5, 1, False, 'Program'),\n",
       " 2.4,\n",
       " False,\n",
       " 'Fun']"
      ]
     },
     "execution_count": 173,
     "metadata": {},
     "output_type": "execute_result"
    }
   ],
   "source": [
    "del list1[-1]\n",
    "list1"
   ]
  },
  {
   "cell_type": "code",
   "execution_count": 175,
   "id": "87cf1974-6b59-4432-9d37-15749a6ba410",
   "metadata": {},
   "outputs": [
    {
     "data": {
      "text/plain": [
       "['Python', 'Programming', True, False, 'Fun']"
      ]
     },
     "execution_count": 175,
     "metadata": {},
     "output_type": "execute_result"
    }
   ],
   "source": [
    "del list1[-4:-2]\n",
    "list1"
   ]
  },
  {
   "cell_type": "markdown",
   "id": "b06154d3-4388-4b58-a554-145cfde2a537",
   "metadata": {},
   "source": [
    "There are other ways to delete an element from a list. One of them is using the `pop()` method that removes the element specified from its index from the list. By default, it removes the last element.\n",
    "\n",
    "Let us see an example:"
   ]
  },
  {
   "cell_type": "code",
   "execution_count": 176,
   "id": "c7205028-602f-4ff3-a2c1-4eeaa5a4f0cc",
   "metadata": {},
   "outputs": [
    {
     "data": {
      "text/plain": [
       "['Python', 'Programming', True, False]"
      ]
     },
     "execution_count": 176,
     "metadata": {},
     "output_type": "execute_result"
    }
   ],
   "source": [
    "list1.pop()\n",
    "list1"
   ]
  },
  {
   "cell_type": "markdown",
   "id": "afb86b3f-8fb8-4cbb-9892-487246d69032",
   "metadata": {},
   "source": [
    "There is another method called `remove()` that is used to remove a specific element from the list. You have to give the value of the element as parameter of this method. \n",
    "\n",
    "Here is an example -"
   ]
  },
  {
   "cell_type": "code",
   "execution_count": 177,
   "id": "c07ba29a-b082-406f-9bb8-1984591b8ca7",
   "metadata": {},
   "outputs": [
    {
     "data": {
      "text/plain": [
       "['Python', 'Programming', False]"
      ]
     },
     "execution_count": 177,
     "metadata": {},
     "output_type": "execute_result"
    }
   ],
   "source": [
    "list1.remove(True)\n",
    "list1"
   ]
  },
  {
   "cell_type": "markdown",
   "id": "5d3420a8-e926-4b7a-854d-fb8009911341",
   "metadata": {
    "jp-MarkdownHeadingCollapsed": true,
    "tags": []
   },
   "source": [
    "##### 4. Sorting a List"
   ]
  },
  {
   "cell_type": "markdown",
   "id": "4774414e-7d05-474c-a8d1-35a5d19728b8",
   "metadata": {},
   "source": [
    "We already saw the `sorted()` function for tuples. However, lists use the `sort()` method for sorting. Also, you can provide a parameter inside the parenthesis for `Reverse=TRUE` to enable sorting in reverse order.\n",
    "\n",
    "Let us look at an example -"
   ]
  },
  {
   "cell_type": "code",
   "execution_count": 180,
   "id": "86b613e7-3984-49aa-88b3-5adc190a195f",
   "metadata": {},
   "outputs": [
    {
     "data": {
      "text/plain": [
       "['Oranges', 'Mangoes', 'Bananas', 'Grapes']"
      ]
     },
     "execution_count": 180,
     "metadata": {},
     "output_type": "execute_result"
    }
   ],
   "source": [
    "list2"
   ]
  },
  {
   "cell_type": "markdown",
   "id": "d93a3b99-c740-410e-bb9b-a85054a8c88a",
   "metadata": {},
   "source": [
    "Now, let us use the `sort()` function. "
   ]
  },
  {
   "cell_type": "code",
   "execution_count": 182,
   "id": "6ae3040d-ef9f-46fa-a3e7-c74df960b9d6",
   "metadata": {},
   "outputs": [],
   "source": [
    "list2.sort()"
   ]
  },
  {
   "cell_type": "markdown",
   "id": "5f08f145-178e-4659-ae0f-4fe31faf8e7a",
   "metadata": {},
   "source": [
    "This function does not return any value, and simply sorts the list, and stores the sorted list in the original list."
   ]
  },
  {
   "cell_type": "code",
   "execution_count": 183,
   "id": "7b255434-2b79-4f8f-8ebf-fd3c24d175a9",
   "metadata": {},
   "outputs": [
    {
     "data": {
      "text/plain": [
       "['Bananas', 'Grapes', 'Mangoes', 'Oranges']"
      ]
     },
     "execution_count": 183,
     "metadata": {},
     "output_type": "execute_result"
    }
   ],
   "source": [
    "list2"
   ]
  },
  {
   "cell_type": "markdown",
   "id": "06dc147b-7d17-4a93-9bc9-745e39c2ec86",
   "metadata": {},
   "source": [
    "Here is the sorted list. If you want to sort by reverse order, then do this:"
   ]
  },
  {
   "cell_type": "code",
   "execution_count": 188,
   "id": "26933be4-3372-4787-8586-9a000f0a3595",
   "metadata": {},
   "outputs": [
    {
     "data": {
      "text/plain": [
       "['Oranges', 'Mangoes', 'Grapes', 'Bananas']"
      ]
     },
     "execution_count": 188,
     "metadata": {},
     "output_type": "execute_result"
    }
   ],
   "source": [
    "list2.sort(reverse=True);\n",
    "list2"
   ]
  },
  {
   "cell_type": "markdown",
   "id": "d893af68-2b0d-4c7c-b3fd-2c0d0bf9bb8d",
   "metadata": {},
   "source": [
    "__`Sort()` Method vs `Sorted()` Function__"
   ]
  },
  {
   "cell_type": "markdown",
   "id": "d68fcf92-4c41-46e6-96d3-c062ab838212",
   "metadata": {},
   "source": [
    "Both of them perform the same job, but their method of sorting is different. \n",
    "\n",
    "The `sort()` method sorts the list on the basis of ASCII values, and it overwrites the original list with the sorted list. This method does not return anything, and hence, assigning it to any variable won't be of any use.\n",
    "\n",
    "In case you want to preserve the original list, we use the `sorted()` function. This function takes any iterable object (Strings and Data Structures) as parameters, and returns the sorted list. It does not overwrite the original list. Hence, you can assign this to a variable."
   ]
  },
  {
   "cell_type": "code",
   "execution_count": 189,
   "id": "08591cbc-0198-4dbc-91ba-4890277c7b2e",
   "metadata": {},
   "outputs": [],
   "source": [
    "list1=['Oranges','Guavas,','Grapes','Pineapples','Bananas','Cherries','Apples']"
   ]
  },
  {
   "cell_type": "markdown",
   "id": "7e7ab447-f7fa-4896-9b2f-5f2d82028017",
   "metadata": {},
   "source": [
    "_Using the `sorted()` function_"
   ]
  },
  {
   "cell_type": "code",
   "execution_count": 193,
   "id": "52e3d236-f06c-4054-a690-303415d1d7c6",
   "metadata": {},
   "outputs": [
    {
     "name": "stdout",
     "output_type": "stream",
     "text": [
      "Sorted list:  ['Apples', 'Bananas', 'Cherries', 'Grapes', 'Guavas,', 'Oranges', 'Pineapples']\n",
      "Original List:  ['Oranges', 'Guavas,', 'Grapes', 'Pineapples', 'Bananas', 'Cherries', 'Apples']\n"
     ]
    }
   ],
   "source": [
    "list2=sorted(list1);\n",
    "print('Sorted list: ',list2)\n",
    "print('Original List: ',list1)"
   ]
  },
  {
   "cell_type": "markdown",
   "id": "a21eb338-1383-4c9e-870f-d18938927ec4",
   "metadata": {},
   "source": [
    "It is important to remember that the `sorted()` function supports __only those data structures that have all the elements of the same data type__. "
   ]
  },
  {
   "cell_type": "markdown",
   "id": "022ecd9d-a2e8-492a-a1e8-ac8388e898c0",
   "metadata": {},
   "source": [
    "_Using the `sort()` method_"
   ]
  },
  {
   "cell_type": "code",
   "execution_count": 194,
   "id": "1f5ba8df-ce2c-4371-aa50-6c1fc5aa21ff",
   "metadata": {},
   "outputs": [
    {
     "name": "stdout",
     "output_type": "stream",
     "text": [
      "Sorted list:  None\n",
      "Original List:  ['Apples', 'Bananas', 'Cherries', 'Grapes', 'Guavas,', 'Oranges', 'Pineapples']\n"
     ]
    }
   ],
   "source": [
    "list3=list1.sort()\n",
    "print('Sorted list: ',list3)\n",
    "print('Original List: ',list1)"
   ]
  },
  {
   "cell_type": "markdown",
   "id": "4c82de5e-c464-441b-8ac0-1b6b74ca6158",
   "metadata": {},
   "source": [
    "Hence, you can see the difference between the two !"
   ]
  },
  {
   "cell_type": "markdown",
   "id": "ab11d16d-66c7-4f5b-9a5b-0d5ff1de6564",
   "metadata": {
    "jp-MarkdownHeadingCollapsed": true,
    "tags": []
   },
   "source": [
    "##### Shallow Copying"
   ]
  },
  {
   "cell_type": "markdown",
   "id": "fb296310-5925-4907-b650-d2eae38bdd28",
   "metadata": {},
   "source": [
    "When you use the = operator in an assignment statement, you copy the address of the object on the right to the object on the left. \n",
    "When this is a literal (number, bool, string etc), it does not matter. But, when it is a variable in itself, then it becomes a problem. \n",
    "\n",
    "Consider the following statement - "
   ]
  },
  {
   "cell_type": "code",
   "execution_count": 195,
   "id": "f7713435-6721-4fd0-b694-d11e219b829b",
   "metadata": {},
   "outputs": [],
   "source": [
    "A=['Guava','Oranges','Mangoes']\n",
    "B=A"
   ]
  },
  {
   "cell_type": "markdown",
   "id": "b18290c9-f949-4efa-85bb-79ab93592c2a",
   "metadata": {},
   "source": [
    "Here, we have copied the memory address of A into B. Hence, essentially, they are the same object, having two different names. What happens when we modify any one of them?"
   ]
  },
  {
   "cell_type": "code",
   "execution_count": 196,
   "id": "9ec9f571-03cc-4369-8f61-68a3c4e84ccc",
   "metadata": {},
   "outputs": [],
   "source": [
    "A[0]='Apples'"
   ]
  },
  {
   "cell_type": "markdown",
   "id": "552dea50-a5bc-4b23-b3e0-e9d84ca4a1f6",
   "metadata": {},
   "source": [
    "Let us see the output of both A and B."
   ]
  },
  {
   "cell_type": "code",
   "execution_count": 198,
   "id": "3208f668-7605-4cf2-a1a0-8ff20bbe3933",
   "metadata": {},
   "outputs": [
    {
     "name": "stdout",
     "output_type": "stream",
     "text": [
      "['Apples', 'Oranges', 'Mangoes']\n",
      "['Apples', 'Oranges', 'Mangoes']\n"
     ]
    }
   ],
   "source": [
    "print(A)\n",
    "print(B)"
   ]
  },
  {
   "cell_type": "markdown",
   "id": "1bc617dc-6d46-404e-b29b-bcfcdbe8c4e5",
   "metadata": {},
   "source": [
    "Here, you can see that even though we changed the value of A only, the value of B also changed. This is because the variables are sharing the memory address of the same object. If B is modified, then A will also be modified."
   ]
  },
  {
   "cell_type": "markdown",
   "id": "115d920a-9cca-468f-abaf-2f05b7d6d405",
   "metadata": {},
   "source": [
    "To avoid this, we use a concept called __Shallow Copying__. Here, we use the slicing syntax to create a separate object as a copy of the original subject, so that it has different memory address assigned to it."
   ]
  },
  {
   "cell_type": "code",
   "execution_count": 199,
   "id": "8d16993c-59df-4e85-bef5-c4882ed5157a",
   "metadata": {},
   "outputs": [],
   "source": [
    "B=A[:]"
   ]
  },
  {
   "cell_type": "markdown",
   "id": "75472ae6-d2b2-4420-a1c8-eacda10fa862",
   "metadata": {},
   "source": [
    "Now, let us see both lists first."
   ]
  },
  {
   "cell_type": "code",
   "execution_count": 201,
   "id": "8be1e126-c7ad-4e34-835c-66829a913b4b",
   "metadata": {},
   "outputs": [
    {
     "name": "stdout",
     "output_type": "stream",
     "text": [
      "['Apples', 'Oranges', 'Mangoes']\n",
      "['Apples', 'Oranges', 'Mangoes']\n"
     ]
    }
   ],
   "source": [
    "print(A)\n",
    "print(B)"
   ]
  },
  {
   "cell_type": "markdown",
   "id": "c637f9a9-e9d6-4d61-b5c5-6de0ca98a34a",
   "metadata": {},
   "source": [
    "Currently, they are the same. Let us modify the list B. "
   ]
  },
  {
   "cell_type": "code",
   "execution_count": 202,
   "id": "c295e300-e64b-4ffb-86b9-59c2991c7e9e",
   "metadata": {},
   "outputs": [],
   "source": [
    "B[2]='Cherries'"
   ]
  },
  {
   "cell_type": "markdown",
   "id": "d52a5ef1-c277-4cf5-8657-9a313d4320fd",
   "metadata": {},
   "source": [
    "Now, let us see if both of them are modified, or only one of them is."
   ]
  },
  {
   "cell_type": "code",
   "execution_count": 203,
   "id": "c4cbed93-2c02-4081-8f60-f8f346d4537d",
   "metadata": {},
   "outputs": [
    {
     "name": "stdout",
     "output_type": "stream",
     "text": [
      "['Apples', 'Oranges', 'Mangoes']\n",
      "['Apples', 'Oranges', 'Cherries']\n"
     ]
    }
   ],
   "source": [
    "print(A)\n",
    "print(B)"
   ]
  },
  {
   "cell_type": "markdown",
   "id": "6eefab62-c33f-4099-9e20-de8618000f5d",
   "metadata": {},
   "source": [
    "Here you go ! Our copy is created here. This is a very useful concept, when you want to perform certain operations on a list, but also want to retain the original one.\n",
    "\n",
    "The following image will help in understanding it better - \n",
    "\n",
    "<img src=\"https://images.upgrad.com/dcce0524-383d-47e6-8d29-febd498a62af-Shallow%20and%20Deep%20Copying.png\" width=\"70%\" height=\"auto\" style=\"margin:0 auto\">"
   ]
  },
  {
   "cell_type": "markdown",
   "id": "8d24f885-72d0-4fa2-9ef3-5d640565a336",
   "metadata": {
    "jp-MarkdownHeadingCollapsed": true,
    "tags": []
   },
   "source": [
    "### <a class=anchor id=\"sets\">Sets</a>"
   ]
  },
  {
   "cell_type": "markdown",
   "id": "e2b281cc-18a2-431a-9543-12acaf79ba8e",
   "metadata": {},
   "source": [
    "Sets are another type of data structures in Python. Like Lists and Tuples, they can also take elements of mixed data types. However, one key difference between those two and Sets is that __Sets are unordered__.\n",
    "\n",
    "This means that they are not stored in memory in an ordered manner. Due to this, it is __not possible__ for Sets to do __indexing__ and __slicing__. \n",
    "\n",
    "They are enclosed in curly brackets `{}` and need to be defined in this manner. The elements inside a set would be entered as comma-separated values.\n",
    "\n"
   ]
  },
  {
   "cell_type": "markdown",
   "id": "2ef8cd33-d6dd-4c1a-b674-7163fe0d4aac",
   "metadata": {
    "jp-MarkdownHeadingCollapsed": true,
    "tags": []
   },
   "source": [
    "#### How do Sets work ?"
   ]
  },
  {
   "cell_type": "markdown",
   "id": "ff767366-40db-4cde-8dce-c7724d933c99",
   "metadata": {},
   "source": [
    "Sets store the values inserted in them, using uniqueness. There are __no repeated values__ in sets. It returns all the unique elements in a data structure."
   ]
  },
  {
   "cell_type": "markdown",
   "id": "00fda631-4490-4829-bc0f-027237051591",
   "metadata": {},
   "source": [
    "__Syntax__ : <code>identifier = {element<sub>1</sub>,element<sub>2</sub>,..................element<sub>n</sub>}</code>"
   ]
  },
  {
   "cell_type": "markdown",
   "id": "a1238c5e-9381-43ac-9c4f-8625c3d49a62",
   "metadata": {},
   "source": [
    "Let us look at some examples."
   ]
  },
  {
   "cell_type": "code",
   "execution_count": 1,
   "id": "383e424f-d4fb-4dfa-9859-fe7d4a8e75f8",
   "metadata": {},
   "outputs": [
    {
     "data": {
      "text/plain": [
       "{1, 2, 3, 4, 5, 6, 7}"
      ]
     },
     "execution_count": 1,
     "metadata": {},
     "output_type": "execute_result"
    }
   ],
   "source": [
    "set1={1,2,3,4,5,1,2,3,3,4,6,7,4,3,2}\n",
    "set1"
   ]
  },
  {
   "cell_type": "markdown",
   "id": "7f1344d1-5ccf-4de0-8dfc-76fc4333208e",
   "metadata": {},
   "source": [
    "As you can see, even though the elements inserted were repeated, when the set was created, it only stored the unique elements."
   ]
  },
  {
   "cell_type": "code",
   "execution_count": 4,
   "id": "cf11addf-2504-46a0-9ae2-47dfa0053b62",
   "metadata": {},
   "outputs": [
    {
     "data": {
      "text/plain": [
       "{0, 1, '1', 2, 3, 'Program', 'Python', 'python'}"
      ]
     },
     "execution_count": 4,
     "metadata": {},
     "output_type": "execute_result"
    }
   ],
   "source": [
    "set2={1,0,True,False,'Python','Program','python',2,3,0,False ,'1'}\n",
    "set2"
   ]
  },
  {
   "cell_type": "markdown",
   "id": "c9cce11b-08f4-4535-ae37-b69f51c75171",
   "metadata": {},
   "source": [
    "As you can see, it returns the unique values inside it, even with mixed data types."
   ]
  },
  {
   "cell_type": "markdown",
   "id": "5977aae2-3802-4005-8f95-9af6042a032d",
   "metadata": {},
   "source": [
    "It is important to notice that __Sets automatically sort the values in ascending order__:"
   ]
  },
  {
   "cell_type": "code",
   "execution_count": 17,
   "id": "f8101848-8701-446a-81e9-9bce0b0e7b76",
   "metadata": {},
   "outputs": [
    {
     "data": {
      "text/plain": [
       "{'A', 'C', 'J', 'L', 'N', 'P', 'S'}"
      ]
     },
     "execution_count": 17,
     "metadata": {},
     "output_type": "execute_result"
    }
   ],
   "source": [
    "set2={'P','J','L','S','A','N','C'}\n",
    "set2"
   ]
  },
  {
   "cell_type": "code",
   "execution_count": 19,
   "id": "2776b48e-c788-4b70-800f-856a2ca68478",
   "metadata": {},
   "outputs": [
    {
     "data": {
      "text/plain": [
       "{1.3,\n",
       " 3,\n",
       " 3.3,\n",
       " 4,\n",
       " 5,\n",
       " 9.4,\n",
       " False,\n",
       " 'Linux',\n",
       " 'Nimo',\n",
       " 'Python',\n",
       " True,\n",
       " 'Windows',\n",
       " 'Yash'}"
      ]
     },
     "execution_count": 19,
     "metadata": {},
     "output_type": "execute_result"
    }
   ],
   "source": [
    "set3={'Yash',4,'Nimo','Python',True,5,3,4,4,'Linux','Windows',False,3.3,9.4,1.3,True,'Python'}\n",
    "set3"
   ]
  },
  {
   "cell_type": "markdown",
   "id": "878301d0-25e6-420b-ad28-993e2866f158",
   "metadata": {},
   "source": [
    "Hence, they sorted first the numeric values (integers and floats), and then the other values. Note that boolean values are sorted by taking them as strings, and not 1 and 0 (otherwise False and True would be the first 2 values)."
   ]
  },
  {
   "cell_type": "markdown",
   "id": "4fdc270f-1ec5-49ae-b4b6-b9f93eebe58f",
   "metadata": {
    "jp-MarkdownHeadingCollapsed": true,
    "tags": []
   },
   "source": [
    "#### Modifying Sets"
   ]
  },
  {
   "cell_type": "markdown",
   "id": "c25c7726-3b48-4000-8c4c-9d9b445ec8dc",
   "metadata": {},
   "source": [
    "Sets are actually very flexible when it comes to modification. You can overwrite a whole set, or you can add and remove values from a set. \n",
    "\n",
    "Since it is not possible to use indexing, the addition and deletion of elements are completed by specifying the exact value to be added or removed."
   ]
  },
  {
   "cell_type": "markdown",
   "id": "5c75ba86-915f-45b9-82d2-e4fd20deb3f2",
   "metadata": {
    "jp-MarkdownHeadingCollapsed": true,
    "tags": []
   },
   "source": [
    "##### Adding elements"
   ]
  },
  {
   "cell_type": "markdown",
   "id": "21ceb9be-db7a-41e3-9af8-c11b89a1405d",
   "metadata": {},
   "source": [
    "For adding elements to Sets, we use the `add()` method. The element to be added needs to be different from the elements already there in the set. It won't show an error if you input an existing value, but it won't be stored as a separate element.\n",
    "\n",
    "Let us see an example."
   ]
  },
  {
   "cell_type": "code",
   "execution_count": 6,
   "id": "96e2f578-ae91-449c-877e-45dadad7fdad",
   "metadata": {},
   "outputs": [
    {
     "data": {
      "text/plain": [
       "{1, 2, 3, 4, 5, 6, 7}"
      ]
     },
     "execution_count": 6,
     "metadata": {},
     "output_type": "execute_result"
    }
   ],
   "source": [
    "set1"
   ]
  },
  {
   "cell_type": "code",
   "execution_count": 10,
   "id": "67f19bb7-33de-44ac-ab6a-86db2c68ccb0",
   "metadata": {},
   "outputs": [
    {
     "data": {
      "text/plain": [
       "{1, 2, 3, 3.5, 4, 5, 6, 7}"
      ]
     },
     "execution_count": 10,
     "metadata": {},
     "output_type": "execute_result"
    }
   ],
   "source": [
    "set1.add(3.5)\n",
    "set1"
   ]
  },
  {
   "cell_type": "code",
   "execution_count": 14,
   "id": "6ea60e13-0c4b-4ae2-acca-633bba0cf0f9",
   "metadata": {},
   "outputs": [
    {
     "data": {
      "text/plain": [
       "{1, 2, 3, 3.5, 4, 5, 6, 7, 'Python'}"
      ]
     },
     "execution_count": 14,
     "metadata": {},
     "output_type": "execute_result"
    }
   ],
   "source": [
    "set1.add('Python')\n",
    "set1"
   ]
  },
  {
   "cell_type": "markdown",
   "id": "3d9dacb6-c514-46da-8809-f94dc3f2e970",
   "metadata": {},
   "source": [
    "Let us try to add an existing element in the set. It won't show any difference in the output."
   ]
  },
  {
   "cell_type": "code",
   "execution_count": 16,
   "id": "082c8a4c-6300-4a30-9624-5a6ccff8a927",
   "metadata": {},
   "outputs": [
    {
     "data": {
      "text/plain": [
       "{1, 2, 3, 3.5, 4, 5, 6, 7, 'Python'}"
      ]
     },
     "execution_count": 16,
     "metadata": {},
     "output_type": "execute_result"
    }
   ],
   "source": [
    "set1.add(3.5)\n",
    "set1"
   ]
  },
  {
   "cell_type": "markdown",
   "id": "1511b1aa-b573-4d66-984e-65821fe64f05",
   "metadata": {},
   "source": [
    "See? Because sets store unique values, hence there is no change in the output. "
   ]
  },
  {
   "cell_type": "markdown",
   "id": "04e91c26-4fb9-44ad-a37e-eb13d708ca04",
   "metadata": {
    "jp-MarkdownHeadingCollapsed": true,
    "tags": []
   },
   "source": [
    "##### Removing Elements"
   ]
  },
  {
   "cell_type": "markdown",
   "id": "7cb60296-e1d1-4525-b061-f1da6ec414ec",
   "metadata": {},
   "source": [
    "To remove an element from a set, we use the `remove()` method. The parameter inside this method specifies the removed element from the set."
   ]
  },
  {
   "cell_type": "code",
   "execution_count": 20,
   "id": "78484df8-2b63-43a2-92d8-b64e05a7d618",
   "metadata": {},
   "outputs": [
    {
     "data": {
      "text/plain": [
       "{1, 2, 3, 3.5, 4, 5, 6, 7, 'Python'}"
      ]
     },
     "execution_count": 20,
     "metadata": {},
     "output_type": "execute_result"
    }
   ],
   "source": [
    "set1"
   ]
  },
  {
   "cell_type": "code",
   "execution_count": 22,
   "id": "9c9bdfc2-99c5-4228-b66b-c8b4fce4fc54",
   "metadata": {},
   "outputs": [
    {
     "data": {
      "text/plain": [
       "{1, 2, 3, 4, 5, 6, 7, 'Python'}"
      ]
     },
     "execution_count": 22,
     "metadata": {},
     "output_type": "execute_result"
    }
   ],
   "source": [
    "set1.remove(3.5)\n",
    "set1"
   ]
  },
  {
   "cell_type": "markdown",
   "id": "fbb4bb94-1eab-48cd-af36-e8cdbb8bed62",
   "metadata": {},
   "source": [
    "It is important to note that this function and the `add()` methods - both these functions __do not return values__. They simply modify the existing set, after performing the operation."
   ]
  },
  {
   "cell_type": "markdown",
   "id": "ed393e2a-f121-4d7e-9eed-8facbccea581",
   "metadata": {
    "jp-MarkdownHeadingCollapsed": true,
    "tags": []
   },
   "source": [
    "#### Operations on Sets"
   ]
  },
  {
   "cell_type": "markdown",
   "id": "3d21f99d-3618-441e-a27a-07b7116663aa",
   "metadata": {},
   "source": [
    "Sets work in python, just like they do in mathematics. Hence, the operations in sets are also the same. These operations are -\n",
    "\n",
    "- Union\n",
    "- Intersection\n",
    "- Difference\n",
    "- Symmetric Difference"
   ]
  },
  {
   "cell_type": "markdown",
   "id": "dda44f18-fe6c-416a-a1cc-979e67707872",
   "metadata": {
    "jp-MarkdownHeadingCollapsed": true,
    "tags": []
   },
   "source": [
    "##### Union"
   ]
  },
  {
   "cell_type": "markdown",
   "id": "fba55070-b876-47e9-b752-bb4bbf9c3281",
   "metadata": {},
   "source": [
    "The __union__ operation in sets returns the all the unique values from both the sets. It is used in the same way it is used in mathematics. The following diagram will help explain it better:\n",
    "\n",
    "<img src=\"https://encrypted-tbn0.gstatic.com/images?q=tbn:ANd9GcR5VNtEibMdUff0DK9rQSpF8_JOMZ96QgTQfA&usqp=CAU\" height=auto width=30% style=\"border:2px solid #000080; padding:2%\">\n",
    "\n",
    "The blue shaded part is the union of two sets A and B. \n",
    "\n",
    "We perform this operation, by simply using the OR operator (|) or the union() method. The syntax for this is given below:\n",
    "\n",
    "__Syntax__: `A|B` or `A.union(B)`\n",
    "\n",
    "Let us see an example:"
   ]
  },
  {
   "cell_type": "code",
   "execution_count": 24,
   "id": "173a1951-e73b-4ec7-b1f2-2b643f17d360",
   "metadata": {},
   "outputs": [],
   "source": [
    "A={'This','is','This','Python','Programming','Love','is'}\n",
    "B={'Python','lovely','great','is','Love'}"
   ]
  },
  {
   "cell_type": "code",
   "execution_count": 35,
   "id": "340a2b11-a9f2-456a-999e-c6cd184a9cc0",
   "metadata": {},
   "outputs": [
    {
     "data": {
      "text/plain": [
       "({'Love', 'Programming', 'Python', 'This', 'great', 'is', 'lovely'},\n",
       " {'Love', 'Programming', 'Python', 'This', 'great', 'is', 'lovely'})"
      ]
     },
     "execution_count": 35,
     "metadata": {},
     "output_type": "execute_result"
    }
   ],
   "source": [
    "A|B,B|A"
   ]
  },
  {
   "cell_type": "code",
   "execution_count": 36,
   "id": "bb3b14a6-5571-494a-9e20-78cde449a488",
   "metadata": {},
   "outputs": [
    {
     "data": {
      "text/plain": [
       "({'Love', 'Programming', 'Python', 'This', 'great', 'is', 'lovely'},\n",
       " {'Love', 'Programming', 'Python', 'This', 'great', 'is', 'lovely'})"
      ]
     },
     "execution_count": 36,
     "metadata": {},
     "output_type": "execute_result"
    }
   ],
   "source": [
    "A.union(B),B.union(A)"
   ]
  },
  {
   "cell_type": "markdown",
   "id": "d0c43c94-23e8-460f-808e-560bd7c8819b",
   "metadata": {},
   "source": [
    "Here, you can see that the __union is a commutative operation__."
   ]
  },
  {
   "cell_type": "markdown",
   "id": "d8905dab-7b34-46fb-86b2-293659b8683f",
   "metadata": {
    "jp-MarkdownHeadingCollapsed": true,
    "tags": []
   },
   "source": [
    "##### Intersection"
   ]
  },
  {
   "cell_type": "markdown",
   "id": "b44348f1-1f05-40b7-beb5-0b6c5db28fc9",
   "metadata": {},
   "source": [
    "The intersection operation returns the values of two sets that are common. Hence, this function returns the actual intersection between two sets. The following image will explain better:\n",
    "    \n",
    "<img src=\"https://www.mathstopia.net/wp-content/uploads/2021/01/a-n-b.jpg\" height=30% width=40%>"
   ]
  },
  {
   "cell_type": "markdown",
   "id": "5fede043-da9c-408d-965d-f32d23729346",
   "metadata": {},
   "source": [
    "The shaded region is the intersection of 2 sets A and B.\n",
    "\n",
    "We perform this operation by using the AND operator (&) or the intersection() method. The syntax for this is given below:\n",
    "\n",
    "__Syntax__: `A & B` or `A.intersection(B);`\n",
    "\n",
    "Let us see an example."
   ]
  },
  {
   "cell_type": "code",
   "execution_count": 39,
   "id": "1d7d1602-06b5-46f1-9c7b-9e6ea9c36dc1",
   "metadata": {},
   "outputs": [
    {
     "data": {
      "text/plain": [
       "({'Love', 'Programming', 'Python', 'This', 'is'},\n",
       " {'Love', 'Python', 'great', 'is', 'lovely'})"
      ]
     },
     "execution_count": 39,
     "metadata": {},
     "output_type": "execute_result"
    }
   ],
   "source": [
    "A,B"
   ]
  },
  {
   "cell_type": "code",
   "execution_count": 46,
   "id": "710b4eb5-3e4b-4928-8c33-029509e2d53b",
   "metadata": {},
   "outputs": [
    {
     "data": {
      "text/plain": [
       "({'Love', 'Python', 'is'}, {'Love', 'Python', 'is'})"
      ]
     },
     "execution_count": 46,
     "metadata": {},
     "output_type": "execute_result"
    }
   ],
   "source": [
    "A & B,B & A"
   ]
  },
  {
   "cell_type": "code",
   "execution_count": 45,
   "id": "9579fe2a-a255-4909-aed1-c04fb820b598",
   "metadata": {},
   "outputs": [
    {
     "data": {
      "text/plain": [
       "({'Love', 'Python', 'is'}, {'Love', 'Python', 'is'})"
      ]
     },
     "execution_count": 45,
     "metadata": {},
     "output_type": "execute_result"
    }
   ],
   "source": [
    "A.intersection(B),B.intersection(A)"
   ]
  },
  {
   "cell_type": "markdown",
   "id": "f4e3136d-88d6-4956-b29d-13b424eebc4c",
   "metadata": {
    "jp-MarkdownHeadingCollapsed": true,
    "tags": []
   },
   "source": [
    "##### Difference"
   ]
  },
  {
   "cell_type": "markdown",
   "id": "ff3341fa-2a89-400f-bf80-2bd8d331be7b",
   "metadata": {},
   "source": [
    "The difference operation returns all the items from a set that is not in the other set. Mathematically, it is the difference of the elements in set A that are not common with set B.\n",
    "\n",
    "The following image will explain it better - \n",
    "\n",
    "<img src=\"https://media.geeksforgeeks.org/wp-content/cdn-uploads/set-difference.jpg\" height=20% width=40% style=\"border:2px solid; padding:0%\">"
   ]
  },
  {
   "cell_type": "markdown",
   "id": "a560f2a8-874b-4321-88e0-c264072987ed",
   "metadata": {},
   "source": [
    "The shaded region is the difference of two sets A and B.\n",
    "\n",
    "This operation can be performed using the minus (-) operator. The syntax is given below -\n",
    "\n",
    "__Syntax__: `A - B;`\n",
    "\n",
    "Let us see an example."
   ]
  },
  {
   "cell_type": "code",
   "execution_count": 47,
   "id": "fd361539-8db8-49da-96f6-833fbb601cd0",
   "metadata": {},
   "outputs": [
    {
     "data": {
      "text/plain": [
       "({'Love', 'Programming', 'Python', 'This', 'is'},\n",
       " {'Love', 'Python', 'great', 'is', 'lovely'})"
      ]
     },
     "execution_count": 47,
     "metadata": {},
     "output_type": "execute_result"
    }
   ],
   "source": [
    "A,B"
   ]
  },
  {
   "cell_type": "code",
   "execution_count": 48,
   "id": "5af5c23d-4b1d-4587-a886-596f09e46dd4",
   "metadata": {},
   "outputs": [
    {
     "data": {
      "text/plain": [
       "{'Programming', 'This'}"
      ]
     },
     "execution_count": 48,
     "metadata": {},
     "output_type": "execute_result"
    }
   ],
   "source": [
    "A-B"
   ]
  },
  {
   "cell_type": "code",
   "execution_count": 49,
   "id": "bf31b135-07fd-41be-b331-fa80d14c8788",
   "metadata": {},
   "outputs": [
    {
     "data": {
      "text/plain": [
       "{'great', 'lovely'}"
      ]
     },
     "execution_count": 49,
     "metadata": {},
     "output_type": "execute_result"
    }
   ],
   "source": [
    "B-A"
   ]
  },
  {
   "cell_type": "markdown",
   "id": "6e2fc3fd-f683-41bd-ae1d-aeafd9bb8a84",
   "metadata": {},
   "source": [
    "Here, it is clearly visible that the difference operation is __not commutative__."
   ]
  },
  {
   "cell_type": "markdown",
   "id": "7f2579a6-f554-450c-8462-c2387fd4d868",
   "metadata": {
    "jp-MarkdownHeadingCollapsed": true,
    "tags": []
   },
   "source": [
    "##### Symmetric Difference"
   ]
  },
  {
   "cell_type": "markdown",
   "id": "18f83a1c-a21a-467a-9549-afc3df5e4307",
   "metadata": {},
   "source": [
    "The symmetric difference is the union of the two differences of two sets. It can be described as the union of all the elements that are just in either set. \n",
    "\n",
    "The following image will help in understanding better - \n",
    "\n",
    "<img src=\"https://www.cdn.geeksforgeeks.org/wp-content/uploads/symmetric-difference.jpg\" height=30% width=40% style=\"border:2px solid; padding:0%\">\n",
    "\n",
    "The shaded region is the symmetric difference of two sets A and B.\n",
    "\n",
    "This operation can be performed by using the circumflex operator (^) or the union (|) and minus(-) operators. The syntax is given below -\n",
    "\n",
    "__Syntax__: `A ^ B` or `A-B | B-A`\n",
    "\n",
    "Let us see an example."
   ]
  },
  {
   "cell_type": "code",
   "execution_count": 57,
   "id": "02dedb46-c84e-4133-8ddc-ecd344b0296c",
   "metadata": {},
   "outputs": [
    {
     "data": {
      "text/plain": [
       "({'Love', 'Programming', 'Python', 'This', 'is'},\n",
       " {'Love', 'Python', 'great', 'is', 'lovely'})"
      ]
     },
     "execution_count": 57,
     "metadata": {},
     "output_type": "execute_result"
    }
   ],
   "source": [
    "A,B"
   ]
  },
  {
   "cell_type": "code",
   "execution_count": 58,
   "id": "a7229ca9-a596-4131-a4b5-486dca952477",
   "metadata": {},
   "outputs": [
    {
     "data": {
      "text/plain": [
       "({'Programming', 'This', 'great', 'lovely'},\n",
       " {'Programming', 'This', 'great', 'lovely'})"
      ]
     },
     "execution_count": 58,
     "metadata": {},
     "output_type": "execute_result"
    }
   ],
   "source": [
    "A ^ B, B ^ A"
   ]
  },
  {
   "cell_type": "code",
   "execution_count": 59,
   "id": "e7d89aa2-fed0-4652-96a0-0f7ad39546ec",
   "metadata": {},
   "outputs": [
    {
     "data": {
      "text/plain": [
       "({'Programming', 'This', 'great', 'lovely'},\n",
       " {'Programming', 'This', 'great', 'lovely'})"
      ]
     },
     "execution_count": 59,
     "metadata": {},
     "output_type": "execute_result"
    }
   ],
   "source": [
    "A-B | B-A, B-A | A-B"
   ]
  },
  {
   "cell_type": "markdown",
   "id": "f19c7c7b-c733-4088-a62a-16e3ee2e46a2",
   "metadata": {},
   "source": [
    "Hence, it is quite clear that __symmetric difference is commutative__."
   ]
  },
  {
   "cell_type": "markdown",
   "id": "ba50ac1c-07b1-452d-8837-36cc2ce9ed2d",
   "metadata": {
    "jp-MarkdownHeadingCollapsed": true,
    "tags": []
   },
   "source": [
    "#### Typecasting with Sets"
   ]
  },
  {
   "cell_type": "markdown",
   "id": "fa0da6bf-35c7-4aa2-8578-e8b7ea6ba367",
   "metadata": {},
   "source": [
    "Typecasting with Sets can be used to extract unique values from any list or tuple. It is a very useful feature, as it allows us to get more familiar with our data. \n",
    "\n",
    "We use the `set()` function to use typecasting.\n",
    "\n",
    "Let us see some examples."
   ]
  },
  {
   "cell_type": "code",
   "execution_count": 60,
   "id": "eb8ac532-d2ba-4a86-8b95-8d12cb50b046",
   "metadata": {},
   "outputs": [
    {
     "data": {
      "text/plain": [
       "(['Apples', 'Oranges', 'Melon', 'Oranges', 'Grapes', 'Apples', 'Cherries'],\n",
       " (1, 2, 'Python', 3.4, 5, 1, 3, True, 'Python'))"
      ]
     },
     "execution_count": 60,
     "metadata": {},
     "output_type": "execute_result"
    }
   ],
   "source": [
    "A=['Apples','Oranges','Melon','Oranges','Grapes','Apples','Cherries'];\n",
    "B=1,2,'Python',3.4,5,1,3,True,'Python';\n",
    "\n",
    "A,B"
   ]
  },
  {
   "cell_type": "markdown",
   "id": "b2250b2f-06e1-4b3d-9926-dcce4b8ec2f1",
   "metadata": {},
   "source": [
    "Now, let us turn the list into a set."
   ]
  },
  {
   "cell_type": "code",
   "execution_count": 62,
   "id": "3bcec3ca-ded3-4321-81e0-4785aa18b3ca",
   "metadata": {},
   "outputs": [
    {
     "data": {
      "text/plain": [
       "{'Apples', 'Cherries', 'Grapes', 'Melon', 'Oranges'}"
      ]
     },
     "execution_count": 62,
     "metadata": {},
     "output_type": "execute_result"
    }
   ],
   "source": [
    "setA=set(A);\n",
    "setA"
   ]
  },
  {
   "cell_type": "markdown",
   "id": "04992cd4-4907-49ad-ad48-8184fab5c077",
   "metadata": {},
   "source": [
    "Here, you can see that only the unique values have been extracted. Next, let us try with the tuple:"
   ]
  },
  {
   "cell_type": "code",
   "execution_count": 63,
   "id": "9e09b702-d7b1-49f8-ac7e-3a0729ee2a3c",
   "metadata": {},
   "outputs": [
    {
     "data": {
      "text/plain": [
       "{1, 2, 3, 3.4, 5, 'Python'}"
      ]
     },
     "execution_count": 63,
     "metadata": {},
     "output_type": "execute_result"
    }
   ],
   "source": [
    "setB=set(B)\n",
    "setB"
   ]
  },
  {
   "cell_type": "markdown",
   "id": "cf8704ae-c2bf-46f9-ab7a-af33dd9990bf",
   "metadata": {},
   "source": [
    "Here, you can clearly see that the value `TRUE` wasn't extracted. This is because the set took its value as 1, and there already is an element 1 in the set."
   ]
  },
  {
   "cell_type": "markdown",
   "id": "fc8ee989-ea78-4c05-a17c-afc938a4a179",
   "metadata": {},
   "source": [
    "Let us see what happens when we turn them back to their original data structures."
   ]
  },
  {
   "cell_type": "code",
   "execution_count": 67,
   "id": "8869b0a8-2cdd-411d-9c65-2383811c2309",
   "metadata": {},
   "outputs": [
    {
     "data": {
      "text/plain": [
       "(['Apples', 'Oranges', 'Melon', 'Oranges', 'Grapes', 'Apples', 'Cherries'],\n",
       " ['Grapes', 'Melon', 'Apples', 'Cherries', 'Oranges'])"
      ]
     },
     "execution_count": 67,
     "metadata": {},
     "output_type": "execute_result"
    }
   ],
   "source": [
    "A,list(setA)"
   ]
  },
  {
   "cell_type": "code",
   "execution_count": 68,
   "id": "8685d9de-4a34-4e06-a4cb-513c96054a56",
   "metadata": {},
   "outputs": [
    {
     "data": {
      "text/plain": [
       "((1, 2, 'Python', 3.4, 5, 1, 3, True, 'Python'), (1, 2, 3.4, 3, 5, 'Python'))"
      ]
     },
     "execution_count": 68,
     "metadata": {},
     "output_type": "execute_result"
    }
   ],
   "source": [
    "B,tuple(setB)"
   ]
  },
  {
   "cell_type": "markdown",
   "id": "b9d86317-d05e-4c45-bab1-b54a80eb2ba4",
   "metadata": {},
   "source": [
    "Here, it is clearly visible that __loss of data occurs__ in some cases while working with sets. While sometimes it is what we want, other times, it compromises the integrity, accuracy and reliability of the data."
   ]
  },
  {
   "cell_type": "markdown",
   "id": "bc559a06-c118-40c9-b487-f5afb4444a5c",
   "metadata": {
    "jp-MarkdownHeadingCollapsed": true,
    "tags": []
   },
   "source": [
    "#### Nesting in Sets"
   ]
  },
  {
   "cell_type": "markdown",
   "id": "fa884bba-6f59-457b-9940-462706ba92b8",
   "metadata": {},
   "source": [
    "Let us see if we can nest a list, tuple or another set within a set. Nesting is important as it gives us the ability to store data in multiple layers within a data structure. "
   ]
  },
  {
   "cell_type": "markdown",
   "id": "447ea4c3-1442-418a-995f-9d920acde4e0",
   "metadata": {},
   "source": [
    "__Nesting list in a set__"
   ]
  },
  {
   "cell_type": "code",
   "execution_count": 8,
   "id": "d9b2b8fe-6298-4382-89c0-8a921f64a433",
   "metadata": {},
   "outputs": [
    {
     "ename": "TypeError",
     "evalue": "unhashable type: 'list'",
     "output_type": "error",
     "traceback": [
      "\u001b[1;31m---------------------------------------------------------------------------\u001b[0m",
      "\u001b[1;31mTypeError\u001b[0m                                 Traceback (most recent call last)",
      "Input \u001b[1;32mIn [8]\u001b[0m, in \u001b[0;36m<cell line: 1>\u001b[1;34m()\u001b[0m\n\u001b[1;32m----> 1\u001b[0m set1\u001b[38;5;241m=\u001b[39m{\u001b[38;5;124m'\u001b[39m\u001b[38;5;124mA\u001b[39m\u001b[38;5;124m'\u001b[39m,\u001b[38;5;124m'\u001b[39m\u001b[38;5;124mB\u001b[39m\u001b[38;5;124m'\u001b[39m,[\u001b[38;5;241m1\u001b[39m,\u001b[38;5;241m2\u001b[39m,\u001b[38;5;241m6\u001b[39m,\u001b[38;5;241m5\u001b[39m,\u001b[38;5;241m2\u001b[39m,\u001b[38;5;241m3\u001b[39m],\u001b[38;5;124m'\u001b[39m\u001b[38;5;124mA\u001b[39m\u001b[38;5;124m'\u001b[39m,\u001b[38;5;124m'\u001b[39m\u001b[38;5;124mC\u001b[39m\u001b[38;5;124m'\u001b[39m}\n\u001b[0;32m      2\u001b[0m set1\n",
      "\u001b[1;31mTypeError\u001b[0m: unhashable type: 'list'"
     ]
    }
   ],
   "source": [
    "set1={'A','B',[1,2,6,5,2,3],'A','C'}\n",
    "set1"
   ]
  },
  {
   "cell_type": "markdown",
   "id": "8c2524d4-db87-480e-a650-a8be28353983",
   "metadata": {},
   "source": [
    "So, we __cannot__ nest a list inside a set. Let us try for tuples now."
   ]
  },
  {
   "cell_type": "markdown",
   "id": "4280926d-2f76-43ba-8c89-85099f670367",
   "metadata": {},
   "source": [
    "__Nesting tuple in a set__"
   ]
  },
  {
   "cell_type": "code",
   "execution_count": 9,
   "id": "a6c7d9b6-d116-4366-925a-16151f90f222",
   "metadata": {},
   "outputs": [
    {
     "data": {
      "text/plain": [
       "{(1, 2, 6, 5, 2, 3), 'A', 'B', 'C'}"
      ]
     },
     "execution_count": 9,
     "metadata": {},
     "output_type": "execute_result"
    }
   ],
   "source": [
    "set1={'A','B',(1,2,6,5,2,3),'A','C'}\n",
    "set1"
   ]
  },
  {
   "cell_type": "markdown",
   "id": "94bdabf3-e62e-42c4-b0e4-c56c0a4e48a6",
   "metadata": {},
   "source": [
    "Here, we can see that we definitely __can nest a tuple__ inside a set. Let us try for sets now."
   ]
  },
  {
   "cell_type": "markdown",
   "id": "b1b12e70-5f1e-4ff7-951d-d13984958df7",
   "metadata": {},
   "source": [
    "__Nesting sets in a set__"
   ]
  },
  {
   "cell_type": "code",
   "execution_count": 12,
   "id": "daef1009-439f-4159-b5ac-2316b7976bf2",
   "metadata": {},
   "outputs": [
    {
     "ename": "TypeError",
     "evalue": "unhashable type: 'set'",
     "output_type": "error",
     "traceback": [
      "\u001b[1;31m---------------------------------------------------------------------------\u001b[0m",
      "\u001b[1;31mTypeError\u001b[0m                                 Traceback (most recent call last)",
      "Input \u001b[1;32mIn [12]\u001b[0m, in \u001b[0;36m<cell line: 1>\u001b[1;34m()\u001b[0m\n\u001b[1;32m----> 1\u001b[0m set1\u001b[38;5;241m=\u001b[39m{\u001b[38;5;124m'\u001b[39m\u001b[38;5;124mA\u001b[39m\u001b[38;5;124m'\u001b[39m,\u001b[38;5;124m'\u001b[39m\u001b[38;5;124mB\u001b[39m\u001b[38;5;124m'\u001b[39m,{\u001b[38;5;241m1\u001b[39m,\u001b[38;5;241m2\u001b[39m,\u001b[38;5;241m6\u001b[39m,\u001b[38;5;241m5\u001b[39m,\u001b[38;5;241m2\u001b[39m,\u001b[38;5;241m3\u001b[39m},\u001b[38;5;124m'\u001b[39m\u001b[38;5;124mA\u001b[39m\u001b[38;5;124m'\u001b[39m,\u001b[38;5;124m'\u001b[39m\u001b[38;5;124mC\u001b[39m\u001b[38;5;124m'\u001b[39m}\n\u001b[0;32m      2\u001b[0m set1\n",
      "\u001b[1;31mTypeError\u001b[0m: unhashable type: 'set'"
     ]
    }
   ],
   "source": [
    "set1={'A','B',{1,2,6,5,2,3},'A','C'}\n",
    "set1"
   ]
  },
  {
   "cell_type": "markdown",
   "id": "4eccb29d-0a4f-4525-951d-8090548d095c",
   "metadata": {},
   "source": [
    "Hence, we __cannot nest a set__ inside another set."
   ]
  },
  {
   "cell_type": "markdown",
   "id": "a8bd35f5-704b-4143-bc2f-340bb8916944",
   "metadata": {
    "tags": []
   },
   "source": [
    "### <a class=anchor id=\"dictionary\">Dictionaries</a>"
   ]
  },
  {
   "cell_type": "markdown",
   "id": "7c499d11-f410-48f5-be6f-e8b7b402545f",
   "metadata": {},
   "source": [
    "Dictionaries are the type of data structures in python that __store data in a `key:value` pair__. It is like an actual dictionary - a key, meaning the word, and the value, meaning the explanation of the key. \n",
    "\n",
    "The `key:value` pair is a single element in a dictionary. In this data structure, the following is considered:\n",
    "- Key mean the indexes of the values, that are immutable and unique.\n",
    "- The values are the objects containing data. These can be any data type object (int, float, bool, string) or it can be another data structure (list, tuple, set).\n",
    "- Each value can be accessed using their key. This is just like indexing.\n",
    "- There can be duplicate `key:value` pairs in dictionaries.\n",
    "\n",
    "_Syntax_: <code>identifier = {key<sub>1</sub>:value<sub>1</sub>,key<sub>2</sub>:value<sub>2</sub>......}</code>\n",
    "\n",
    "Let us see an example."
   ]
  },
  {
   "cell_type": "code",
   "execution_count": 13,
   "id": "a6a50f75-118b-490a-bc2b-0238d80d85d5",
   "metadata": {},
   "outputs": [
    {
     "data": {
      "text/plain": [
       "{'INR': 'India', 'USD': 'United States', 'OMR': 'Oman', 'EUR': 'Europe'}"
      ]
     },
     "execution_count": 13,
     "metadata": {},
     "output_type": "execute_result"
    }
   ],
   "source": [
    "dict1={'INR':'India','USD':'United States','OMR':'Oman','EUR':'Europe'};\n",
    "dict1"
   ]
  },
  {
   "cell_type": "markdown",
   "id": "b1ae717f-fbdd-456c-b92e-5bea872eafd1",
   "metadata": {},
   "source": [
    "Let us see if we can assign multiple values to the same key."
   ]
  },
  {
   "cell_type": "code",
   "execution_count": 16,
   "id": "c238470b-d44b-4a1d-b50f-3a555d70d0aa",
   "metadata": {},
   "outputs": [
    {
     "data": {
      "text/plain": [
       "{'INR': 'Hindustan', 'USD': 'United States', 'OMR': 'Oman', 'EUR': 'Europe'}"
      ]
     },
     "execution_count": 16,
     "metadata": {},
     "output_type": "execute_result"
    }
   ],
   "source": [
    "dict2={'INR':'India','USD':'United States','OMR':'Oman','EUR':'Europe','INR':'Hindustan'};\n",
    "dict2"
   ]
  },
  {
   "cell_type": "markdown",
   "id": "6e7822c0-2166-471c-a6fc-2b6e55bae9a8",
   "metadata": {},
   "source": [
    "Here, you can see that the value assigned to the key is one value only, but it takes the most recent entry for the key in consideration."
   ]
  },
  {
   "cell_type": "markdown",
   "id": "37bf3327-d9d3-4454-863e-99b212709456",
   "metadata": {
    "jp-MarkdownHeadingCollapsed": true,
    "tags": []
   },
   "source": [
    "#### Accessing values inside a Dictionary"
   ]
  },
  {
   "cell_type": "markdown",
   "id": "8cfdcc07-9a2d-4429-af6f-09a4701692cd",
   "metadata": {},
   "source": [
    "To access values inside a dictionary, we use the basic indexing. The only difference is that since the indexes are customized using the __key values__, we need to __mention the key index value__ for it to work. An example is shown below:"
   ]
  },
  {
   "cell_type": "code",
   "execution_count": 18,
   "id": "11dda22c-ee04-4e49-a24b-0800656ebec5",
   "metadata": {},
   "outputs": [
    {
     "data": {
      "text/plain": [
       "{1: 'One', 2: 'Two', '1': 'Once', '2': 'Twice'}"
      ]
     },
     "execution_count": 18,
     "metadata": {},
     "output_type": "execute_result"
    }
   ],
   "source": [
    "dict1={1:'One',2:'Two','1':'Once','2':'Twice'};\n",
    "dict1"
   ]
  },
  {
   "cell_type": "code",
   "execution_count": 21,
   "id": "0965f158-eb54-4ed7-b365-7477c981df58",
   "metadata": {},
   "outputs": [
    {
     "data": {
      "text/plain": [
       "('One', 'Once')"
      ]
     },
     "execution_count": 21,
     "metadata": {},
     "output_type": "execute_result"
    }
   ],
   "source": [
    "dict1[1],dict1['1']"
   ]
  },
  {
   "cell_type": "markdown",
   "id": "58be6ed6-4fc2-4cad-b60b-d30c9cb0c43c",
   "metadata": {},
   "source": [
    "Hence, you can see that one index is defined as an int variable, while the other index is defined as a string variable. Although both of them contain the same value (1), they are treated as different indexes."
   ]
  },
  {
   "cell_type": "markdown",
   "id": "c6a8b5b4-6c07-45f4-97ba-686db9d530db",
   "metadata": {},
   "source": [
    "__Using Data Structures as Indexes in Dictionary__"
   ]
  },
  {
   "cell_type": "markdown",
   "id": "4e87df1d-ec2c-4612-b2e0-78585c64d778",
   "metadata": {},
   "source": [
    "Let us see if we can define a list, tuple or a set as an index or not. "
   ]
  },
  {
   "cell_type": "code",
   "execution_count": 22,
   "id": "3959ab83-7f86-4623-a717-0b180529c8a6",
   "metadata": {},
   "outputs": [
    {
     "ename": "TypeError",
     "evalue": "unhashable type: 'list'",
     "output_type": "error",
     "traceback": [
      "\u001b[1;31m---------------------------------------------------------------------------\u001b[0m",
      "\u001b[1;31mTypeError\u001b[0m                                 Traceback (most recent call last)",
      "Input \u001b[1;32mIn [22]\u001b[0m, in \u001b[0;36m<cell line: 1>\u001b[1;34m()\u001b[0m\n\u001b[1;32m----> 1\u001b[0m dict1\u001b[38;5;241m=\u001b[39m{[\u001b[38;5;241m1\u001b[39m,\u001b[38;5;241m2\u001b[39m,\u001b[38;5;241m3\u001b[39m]:\u001b[38;5;124m'\u001b[39m\u001b[38;5;124mOne\u001b[39m\u001b[38;5;124m'\u001b[39m,\u001b[38;5;241m2\u001b[39m:\u001b[38;5;124m'\u001b[39m\u001b[38;5;124mTwo\u001b[39m\u001b[38;5;124m'\u001b[39m,\u001b[38;5;241m3\u001b[39m:\u001b[38;5;124m'\u001b[39m\u001b[38;5;124mThree\u001b[39m\u001b[38;5;124m'\u001b[39m};\n\u001b[0;32m      2\u001b[0m dict1\n",
      "\u001b[1;31mTypeError\u001b[0m: unhashable type: 'list'"
     ]
    }
   ],
   "source": [
    "dict1={[1,2,3]:'One',2:'Two',3:'Three'};\n",
    "dict1"
   ]
  },
  {
   "cell_type": "markdown",
   "id": "41436bb6-3984-44e2-b57e-cfdf7c67058a",
   "metadata": {},
   "source": [
    "From here, it is clearly visible that we __cannot add list__ as an index."
   ]
  },
  {
   "cell_type": "code",
   "execution_count": 29,
   "id": "5633c103-dc77-435c-a0c8-8f86c9615b8e",
   "metadata": {},
   "outputs": [
    {
     "data": {
      "text/plain": [
       "'One'"
      ]
     },
     "execution_count": 29,
     "metadata": {},
     "output_type": "execute_result"
    }
   ],
   "source": [
    "dict1={(1,2,3):'One',2:'Two',3:'Three'};\n",
    "dict1[(1,2,3)]"
   ]
  },
  {
   "cell_type": "markdown",
   "id": "44957b07-62ee-4362-ab88-486ebf711c1e",
   "metadata": {},
   "source": [
    "Here, it is clearly visible that __a tuple can be added as an index__ but the values inside the tuple won't have any significance, other than that they have to be written together as a tuple for indexing."
   ]
  },
  {
   "cell_type": "code",
   "execution_count": 26,
   "id": "cd2b0b3b-6f55-41a3-be79-4fe04ac0debb",
   "metadata": {},
   "outputs": [
    {
     "ename": "TypeError",
     "evalue": "unhashable type: 'set'",
     "output_type": "error",
     "traceback": [
      "\u001b[1;31m---------------------------------------------------------------------------\u001b[0m",
      "\u001b[1;31mTypeError\u001b[0m                                 Traceback (most recent call last)",
      "Input \u001b[1;32mIn [26]\u001b[0m, in \u001b[0;36m<cell line: 1>\u001b[1;34m()\u001b[0m\n\u001b[1;32m----> 1\u001b[0m dict1\u001b[38;5;241m=\u001b[39m{{\u001b[38;5;241m1\u001b[39m,\u001b[38;5;241m2\u001b[39m,\u001b[38;5;241m3\u001b[39m}:\u001b[38;5;124m'\u001b[39m\u001b[38;5;124mOne\u001b[39m\u001b[38;5;124m'\u001b[39m,\u001b[38;5;241m2\u001b[39m:\u001b[38;5;124m'\u001b[39m\u001b[38;5;124mTwo\u001b[39m\u001b[38;5;124m'\u001b[39m,\u001b[38;5;241m3\u001b[39m:\u001b[38;5;124m'\u001b[39m\u001b[38;5;124mThree\u001b[39m\u001b[38;5;124m'\u001b[39m};\n\u001b[0;32m      2\u001b[0m dict1\n",
      "\u001b[1;31mTypeError\u001b[0m: unhashable type: 'set'"
     ]
    }
   ],
   "source": [
    "dict1={{1,2,3}:'One',2:'Two',3:'Three'};\n",
    "dict1"
   ]
  },
  {
   "cell_type": "markdown",
   "id": "43086a03-9b19-4e2b-9c51-9594d639de2d",
   "metadata": {},
   "source": [
    "Hence, we concluded that __a set cannot__ be added as an index."
   ]
  },
  {
   "cell_type": "markdown",
   "id": "24c2f344-da3b-40cb-bd90-f6593ac61162",
   "metadata": {
    "jp-MarkdownHeadingCollapsed": true,
    "tags": []
   },
   "source": [
    "#### Nesting in Dictionaries"
   ]
  },
  {
   "cell_type": "markdown",
   "id": "bf71b303-82f0-410c-9907-cc1c902f96b2",
   "metadata": {},
   "source": [
    "Let us use data structures as values, and try to access their elements. We will start with lists."
   ]
  },
  {
   "cell_type": "code",
   "execution_count": 33,
   "id": "4614fa8e-dfae-4499-8c2f-17a5b9859b53",
   "metadata": {},
   "outputs": [
    {
     "data": {
      "text/plain": [
       "'United Kingdom'"
      ]
     },
     "execution_count": 33,
     "metadata": {},
     "output_type": "execute_result"
    }
   ],
   "source": [
    "dict2={'India':'Delhi','USA':'California','Europe':['Germany','France','United Kingdom']}\n",
    "dict2['Europe'][2]"
   ]
  },
  {
   "cell_type": "markdown",
   "id": "fc817c63-bdfb-4bed-aa1d-b1cc53253fc0",
   "metadata": {},
   "source": [
    "Let us now move on to tuples."
   ]
  },
  {
   "cell_type": "code",
   "execution_count": 35,
   "id": "dca8a04d-c0f0-47c7-bbe1-306723a8867a",
   "metadata": {},
   "outputs": [
    {
     "data": {
      "text/plain": [
       "'France'"
      ]
     },
     "execution_count": 35,
     "metadata": {},
     "output_type": "execute_result"
    }
   ],
   "source": [
    "dict2={'India':'Delhi','USA':'California','Europe':('Germany','France','United Kingdom')}\n",
    "dict2['Europe'][1]"
   ]
  },
  {
   "cell_type": "markdown",
   "id": "2712edf7-72fc-4294-9b70-1b81f17f17a9",
   "metadata": {},
   "source": [
    "Now, let us try sets."
   ]
  },
  {
   "cell_type": "code",
   "execution_count": 39,
   "id": "34d83d29-d628-489c-b8c9-fe2e676899c0",
   "metadata": {},
   "outputs": [
    {
     "data": {
      "text/plain": [
       "{'France', 'Germany', 'United Kingdom'}"
      ]
     },
     "execution_count": 39,
     "metadata": {},
     "output_type": "execute_result"
    }
   ],
   "source": [
    "dict2={'India':'Delhi','USA':'California','Europe':{'Germany','France','United Kingdom'}}\n",
    "dict2['Europe']"
   ]
  },
  {
   "cell_type": "markdown",
   "id": "45f6e873-2f81-411e-8013-41b2ea4cd955",
   "metadata": {
    "jp-MarkdownHeadingCollapsed": true,
    "tags": []
   },
   "source": [
    "#### Indexing in Dictionaries"
   ]
  },
  {
   "cell_type": "markdown",
   "id": "475fcc09-a00c-4ebb-8913-754ff94450f2",
   "metadata": {},
   "source": [
    "The indexing in dictionaries is same as tuples and lists, the only difference being that the index can be any data type from string, to int, to float, to bool, and even tuple. It all depends on the definition of the dictionary.\n",
    "\n",
    "Let us see an example, using all these data types as indexes."
   ]
  },
  {
   "cell_type": "code",
   "execution_count": 40,
   "id": "7c5906a2-ad72-4996-be27-bfdc5f626e4b",
   "metadata": {},
   "outputs": [
    {
     "data": {
      "text/plain": [
       "{1: 'The truth',\n",
       " 1.5: 'One point five',\n",
       " 'hello': 'This is one',\n",
       " False: 'This is false',\n",
       " (1, 1.5, 'hello', True, False): 'Tuple values'}"
      ]
     },
     "execution_count": 40,
     "metadata": {},
     "output_type": "execute_result"
    }
   ],
   "source": [
    "dict1={1:'One',1.5:'One point five','hello':'This is one',True:'The truth',False:'This is false',(1,1.5,'hello',True,False):'Tuple values'}\n",
    "dict1"
   ]
  },
  {
   "cell_type": "code",
   "execution_count": 42,
   "id": "486b321c-3f69-41ee-8875-1cb32c59a103",
   "metadata": {},
   "outputs": [
    {
     "data": {
      "text/plain": [
       "('The truth', 'One point five')"
      ]
     },
     "execution_count": 42,
     "metadata": {},
     "output_type": "execute_result"
    }
   ],
   "source": [
    "dict1[1],dict1[1.5]"
   ]
  },
  {
   "cell_type": "code",
   "execution_count": 44,
   "id": "93992ca1-a3b4-479f-83eb-399b24daba27",
   "metadata": {},
   "outputs": [
    {
     "data": {
      "text/plain": [
       "('This is one', 'The truth', 'This is false')"
      ]
     },
     "execution_count": 44,
     "metadata": {},
     "output_type": "execute_result"
    }
   ],
   "source": [
    "dict1['hello'],dict1[True],dict1[False]"
   ]
  },
  {
   "cell_type": "code",
   "execution_count": 45,
   "id": "63f50806-196d-43fa-90b1-930a4e694e92",
   "metadata": {},
   "outputs": [
    {
     "data": {
      "text/plain": [
       "'Tuple values'"
      ]
     },
     "execution_count": 45,
     "metadata": {},
     "output_type": "execute_result"
    }
   ],
   "source": [
    "dict1[(1,1.5,'hello',True,False)]"
   ]
  },
  {
   "cell_type": "markdown",
   "id": "9cfd3a76-162d-4a21-aec3-221673c6c523",
   "metadata": {},
   "source": [
    "We can even use __multiple indexing__ when we define values as strings or data structures. Let us see an example:"
   ]
  },
  {
   "cell_type": "code",
   "execution_count": 50,
   "id": "963c020f-d7bf-42d9-8a1a-21c4d4e67990",
   "metadata": {},
   "outputs": [],
   "source": [
    "dict1={1:'String',2:2,3:3.5,'Tuple':(1,2,True,3,'False'),'List':[1,2,4.5,'List1','List2',False],'Set':{1,2,4,5,2,5,6,4,3,1,6}}"
   ]
  },
  {
   "cell_type": "code",
   "execution_count": 54,
   "id": "9b74cf60-ca69-4d30-ad61-9b415880ad76",
   "metadata": {},
   "outputs": [
    {
     "data": {
      "text/plain": [
       "('i', 3.5)"
      ]
     },
     "execution_count": 54,
     "metadata": {},
     "output_type": "execute_result"
    }
   ],
   "source": [
    "dict1[1][3],dict1[3]"
   ]
  },
  {
   "cell_type": "code",
   "execution_count": 63,
   "id": "427a9b2b-e101-4531-ae6e-299b26fcdb4e",
   "metadata": {},
   "outputs": [
    {
     "data": {
      "text/plain": [
       "('l', 's', {1, 2, 3, 4, 5, 6})"
      ]
     },
     "execution_count": 63,
     "metadata": {},
     "output_type": "execute_result"
    }
   ],
   "source": [
    "dict1['Tuple'][-1][-3],dict1['List'][3][2],dict1['Set']"
   ]
  },
  {
   "cell_type": "markdown",
   "id": "263ea0cb-6609-496e-9c03-99418113164c",
   "metadata": {
    "jp-MarkdownHeadingCollapsed": true,
    "tags": []
   },
   "source": [
    "#### Slicing in Dictionaries"
   ]
  },
  {
   "cell_type": "markdown",
   "id": "0ea10ab8-cb98-44a6-986e-a2cd83b54cd5",
   "metadata": {},
   "source": [
    "Slicing in dictionaries can be done in the same way that it is done in strings, lists and tuples. Let us see some examples:"
   ]
  },
  {
   "cell_type": "code",
   "execution_count": 64,
   "id": "4b036a45-3ae7-48e4-a286-2c81e8b8f86c",
   "metadata": {},
   "outputs": [
    {
     "data": {
      "text/plain": [
       "{1: 'String',\n",
       " 2: 2,\n",
       " 3: 3.5,\n",
       " 'Tuple': (1, 2, True, 3, 'False'),\n",
       " 'List': [1, 2, 4.5, 'List1', 'List2', False],\n",
       " 'Set': {1, 2, 3, 4, 5, 6}}"
      ]
     },
     "execution_count": 64,
     "metadata": {},
     "output_type": "execute_result"
    }
   ],
   "source": [
    "dict1"
   ]
  },
  {
   "cell_type": "code",
   "execution_count": 65,
   "id": "cf75d5d2-dbad-4a50-92e9-785651c2ab59",
   "metadata": {},
   "outputs": [
    {
     "data": {
      "text/plain": [
       "'ri'"
      ]
     },
     "execution_count": 65,
     "metadata": {},
     "output_type": "execute_result"
    }
   ],
   "source": [
    "dict1[1][-4:-2]"
   ]
  },
  {
   "cell_type": "code",
   "execution_count": 77,
   "id": "b58fe8ab-d55e-4c93-aa56-40b970e777e7",
   "metadata": {},
   "outputs": [
    {
     "data": {
      "text/plain": [
       "((2, True, 3), [2, 4.5, 'List1'])"
      ]
     },
     "execution_count": 77,
     "metadata": {},
     "output_type": "execute_result"
    }
   ],
   "source": [
    "dict1['Tuple'][-4:-1],dict1['List'][1:4]"
   ]
  },
  {
   "cell_type": "code",
   "execution_count": 73,
   "id": "ce330f4b-9915-4e5e-8d46-8f9e1234fcd7",
   "metadata": {},
   "outputs": [
    {
     "data": {
      "text/plain": [
       "(2, 'is')"
      ]
     },
     "execution_count": 73,
     "metadata": {},
     "output_type": "execute_result"
    }
   ],
   "source": [
    "dict1['Tuple'][-4::2][0], dict1['List'][-5:-1][-2][-4:-2]"
   ]
  },
  {
   "cell_type": "markdown",
   "id": "27569ef9-917b-4a7e-8cf1-362e6d1bdbeb",
   "metadata": {},
   "source": [
    "Note that slicing is not allowed in sets, so it cannot be done there. "
   ]
  },
  {
   "cell_type": "markdown",
   "id": "1d1f5a33-424a-4d06-b925-c2b39a51ea0d",
   "metadata": {
    "jp-MarkdownHeadingCollapsed": true,
    "tags": []
   },
   "source": [
    "#### Modifying Dictionaries"
   ]
  },
  {
   "cell_type": "markdown",
   "id": "c0c90f46-976c-48f9-a0f9-bed42498c55a",
   "metadata": {},
   "source": [
    "Dictionaries are mutable, and the immutable data types inside dictionaries are not mutable. Let use see some basic modifications:"
   ]
  },
  {
   "cell_type": "markdown",
   "id": "b05acff7-62e3-4496-8844-ad9d3173c05d",
   "metadata": {
    "jp-MarkdownHeadingCollapsed": true,
    "tags": []
   },
   "source": [
    "##### 1. Replacing an Element"
   ]
  },
  {
   "cell_type": "markdown",
   "id": "c657fa26-42cc-46a7-b5b5-76546f2c24de",
   "metadata": {},
   "source": [
    "To replace an element inside a dictionary, we simply use a combination of indexing and assignment operator `=`. This can be done as in the following examples:"
   ]
  },
  {
   "cell_type": "code",
   "execution_count": 79,
   "id": "51b8fa9f-5587-4f1c-ae2d-6fcc1aaaa988",
   "metadata": {},
   "outputs": [
    {
     "data": {
      "text/plain": [
       "{1: 'String',\n",
       " 2: 2,\n",
       " 3: 3.5,\n",
       " 'Tuple': (1, 2, True, 3, 'False'),\n",
       " 'List': [1, 2, 4.5, 'List1', 'List2', False],\n",
       " 'Set': {1, 2, 3, 4, 5, 6}}"
      ]
     },
     "execution_count": 79,
     "metadata": {},
     "output_type": "execute_result"
    }
   ],
   "source": [
    "dict1"
   ]
  },
  {
   "cell_type": "code",
   "execution_count": 80,
   "id": "4c1869b7-79a4-4865-a50d-637c3fcc8bf5",
   "metadata": {},
   "outputs": [
    {
     "data": {
      "text/plain": [
       "{1: 'String',\n",
       " 2: 'Two',\n",
       " 3: 3.5,\n",
       " 'Tuple': (1, 2, True, 3, 'False'),\n",
       " 'List': [1, 2, 4.5, 'List1', 'List2', False],\n",
       " 'Set': {1, 2, 3, 4, 5, 6}}"
      ]
     },
     "execution_count": 80,
     "metadata": {},
     "output_type": "execute_result"
    }
   ],
   "source": [
    "dict1[2]='Two'\n",
    "dict1"
   ]
  },
  {
   "cell_type": "code",
   "execution_count": 83,
   "id": "dbb4f506-3ae7-4d7a-9694-57536929699a",
   "metadata": {},
   "outputs": [
    {
     "data": {
      "text/plain": [
       "{1: 'String',\n",
       " 2: 'Two',\n",
       " 3: 3.5,\n",
       " 'Tuple': (1, 2, True, 3, 'False'),\n",
       " 'List': [1, 2, 'Four Point Five', 'List1', 'List2', False],\n",
       " 'Set': {1, 2, 3, 4, 5, 6}}"
      ]
     },
     "execution_count": 83,
     "metadata": {},
     "output_type": "execute_result"
    }
   ],
   "source": [
    "dict1['List'][2]='Four Point Five'\n",
    "dict1"
   ]
  },
  {
   "cell_type": "code",
   "execution_count": 86,
   "id": "97d527c3-5324-45c6-ac91-6a2415be4574",
   "metadata": {},
   "outputs": [
    {
     "ename": "TypeError",
     "evalue": "'tuple' object does not support item assignment",
     "output_type": "error",
     "traceback": [
      "\u001b[1;31m---------------------------------------------------------------------------\u001b[0m",
      "\u001b[1;31mTypeError\u001b[0m                                 Traceback (most recent call last)",
      "Input \u001b[1;32mIn [86]\u001b[0m, in \u001b[0;36m<cell line: 1>\u001b[1;34m()\u001b[0m\n\u001b[1;32m----> 1\u001b[0m \u001b[43mdict1\u001b[49m\u001b[43m[\u001b[49m\u001b[38;5;124;43m'\u001b[39;49m\u001b[38;5;124;43mTuple\u001b[39;49m\u001b[38;5;124;43m'\u001b[39;49m\u001b[43m]\u001b[49m\u001b[43m[\u001b[49m\u001b[38;5;241;43m2\u001b[39;49m\u001b[43m]\u001b[49m\u001b[38;5;241m=\u001b[39m\u001b[38;5;28;01mFalse\u001b[39;00m\n",
      "\u001b[1;31mTypeError\u001b[0m: 'tuple' object does not support item assignment"
     ]
    }
   ],
   "source": [
    "dict1['Tuple'][2]=False"
   ]
  },
  {
   "cell_type": "markdown",
   "id": "1f590d56-a6c7-4c81-8115-27060a7d0cd2",
   "metadata": {},
   "source": [
    "Hence, since tuples do not support modification, we cannot modify them. But, we can use typecasting to modify it. Let us see with the following example:"
   ]
  },
  {
   "cell_type": "code",
   "execution_count": 94,
   "id": "a5df3eba-a564-4d12-a27a-6e0f29aef737",
   "metadata": {},
   "outputs": [],
   "source": [
    "dict1['Tuple']=list(dict1['Tuple'])\n",
    "dict1['Tuple'][-1]=False"
   ]
  },
  {
   "cell_type": "code",
   "execution_count": 95,
   "id": "92cd41b9-a0ee-45eb-9ee2-67e8d0f22bd8",
   "metadata": {},
   "outputs": [
    {
     "data": {
      "text/plain": [
       "(1, 2, True, 3, False)"
      ]
     },
     "execution_count": 95,
     "metadata": {},
     "output_type": "execute_result"
    }
   ],
   "source": [
    "dict1['Tuple']=tuple(dict1['Tuple'])\n",
    "dict1['Tuple']"
   ]
  },
  {
   "cell_type": "code",
   "execution_count": 115,
   "id": "018da61e-0f11-4b97-9214-8f7f34303392",
   "metadata": {},
   "outputs": [
    {
     "data": {
      "text/plain": [
       "{1: True,\n",
       " 2: 2,\n",
       " 3: 3.5,\n",
       " 'Tuple': (1, 2, True, 3, 'False'),\n",
       " 'List': [1, 2, 4.5, 'List1', 'List2'],\n",
       " 2.5: 2.5,\n",
       " False: False}"
      ]
     },
     "execution_count": 115,
     "metadata": {},
     "output_type": "execute_result"
    }
   ],
   "source": [
    "dict2[2.5]=2.5\n",
    "dict2[True]=True\n",
    "dict2[False]=False\n",
    "\n",
    "dict2"
   ]
  },
  {
   "cell_type": "markdown",
   "id": "32b047ca-db6b-48b2-a94d-7070ed7ba0f8",
   "metadata": {},
   "source": [
    "Here, you can see that the `True` boolean is not in the keys, but its value has replaced the value of the index 1. This is because True is considered as 1 here. Similarly, if 0 index was present, we won't see the `False` index."
   ]
  },
  {
   "cell_type": "markdown",
   "id": "49cef05f-e0e8-48a9-b180-55d7573c9e98",
   "metadata": {
    "jp-MarkdownHeadingCollapsed": true,
    "tags": []
   },
   "source": [
    "##### 2. Adding a new Element"
   ]
  },
  {
   "cell_type": "markdown",
   "id": "c448eda7-3696-4eec-854c-e03e6ff93e5d",
   "metadata": {},
   "source": [
    "To add a new element in the dictionary, simply use the key:value pair in an assignment statement associated with the identifier, and the pair will be added. An example to demonstrate this is -"
   ]
  },
  {
   "cell_type": "code",
   "execution_count": 96,
   "id": "88aa7e9c-bb8b-4b9c-9d01-7983f7496531",
   "metadata": {},
   "outputs": [
    {
     "data": {
      "text/plain": [
       "{1: 'String',\n",
       " 2: 'Two',\n",
       " 3: 3.5,\n",
       " 'Tuple': (1, 2, True, 3, False),\n",
       " 'List': [1, 2, 'Four Point Five', 'List1', 'List2', False],\n",
       " 'Set': {1, 2, 3, 4, 5, 6}}"
      ]
     },
     "execution_count": 96,
     "metadata": {},
     "output_type": "execute_result"
    }
   ],
   "source": [
    "dict1"
   ]
  },
  {
   "cell_type": "code",
   "execution_count": 98,
   "id": "213d6143-5d90-4311-b33d-8ecc29334776",
   "metadata": {},
   "outputs": [
    {
     "data": {
      "text/plain": [
       "{1: 'String',\n",
       " 2: 'Two',\n",
       " 3: 3.5,\n",
       " 'Tuple': (1, 2, True, 3, False),\n",
       " 'List': [1, 2, 'Four Point Five', 'List1', 'List2', False],\n",
       " 'Set': {1, 2, 3, 4, 5, 6},\n",
       " 'String': 'Actual String'}"
      ]
     },
     "execution_count": 98,
     "metadata": {},
     "output_type": "execute_result"
    }
   ],
   "source": [
    "dict1['String']='Actual String'\n",
    "dict1"
   ]
  },
  {
   "cell_type": "markdown",
   "id": "b818b104-e0ba-4d99-8492-b6c775449eff",
   "metadata": {
    "jp-MarkdownHeadingCollapsed": true,
    "tags": []
   },
   "source": [
    "##### 3. Deleting an Element"
   ]
  },
  {
   "cell_type": "markdown",
   "id": "30648aba-1c83-4c45-a72b-b7f100edc67a",
   "metadata": {},
   "source": [
    "To delete an element, we use the `del` keyword. Some examples are given below:"
   ]
  },
  {
   "cell_type": "code",
   "execution_count": 108,
   "id": "a1944a68-e807-4271-bb97-570ace7a9b7d",
   "metadata": {},
   "outputs": [
    {
     "data": {
      "text/plain": [
       "{1: 'String',\n",
       " 2: 2,\n",
       " 3: 3.5,\n",
       " 'Tuple': (1, 2, True, 3, 'False'),\n",
       " 'List': [1, 2, 4.5, 'List1', 'List2', False],\n",
       " 'Set': {1, 2, 3, 4, 5, 6}}"
      ]
     },
     "execution_count": 108,
     "metadata": {},
     "output_type": "execute_result"
    }
   ],
   "source": [
    "dict2={1:'String',2:2,3:3.5,'Tuple':(1,2,True,3,'False'),'List':[1,2,4.5,'List1','List2',False],'Set':{1,2,4,5,2,5,6,4,3,1,6}}\n",
    "dict2"
   ]
  },
  {
   "cell_type": "code",
   "execution_count": 110,
   "id": "3f29e11e-d5e7-42b2-b0d7-48b8ab676ed3",
   "metadata": {},
   "outputs": [],
   "source": [
    "del dict2['Set']"
   ]
  },
  {
   "cell_type": "code",
   "execution_count": 111,
   "id": "b4e870fc-ab98-4940-93c0-7d1076c4bf8a",
   "metadata": {},
   "outputs": [
    {
     "data": {
      "text/plain": [
       "{1: 'String',\n",
       " 2: 2,\n",
       " 3: 3.5,\n",
       " 'Tuple': (1, 2, True, 3, 'False'),\n",
       " 'List': [1, 2, 4.5, 'List1', 'List2', False]}"
      ]
     },
     "execution_count": 111,
     "metadata": {},
     "output_type": "execute_result"
    }
   ],
   "source": [
    "dict2"
   ]
  },
  {
   "cell_type": "markdown",
   "id": "150960b6-d85c-40d8-bf60-294f5426da78",
   "metadata": {},
   "source": [
    "Hence, the whole key value pair is deleted. You can also delete a specific element inside a data structure that is nested within a dictionary:"
   ]
  },
  {
   "cell_type": "code",
   "execution_count": 112,
   "id": "ba210911-6786-4103-a6cc-21a361547c18",
   "metadata": {},
   "outputs": [
    {
     "data": {
      "text/plain": [
       "{1: 'String',\n",
       " 2: 2,\n",
       " 3: 3.5,\n",
       " 'Tuple': (1, 2, True, 3, 'False'),\n",
       " 'List': [1, 2, 4.5, 'List1', 'List2']}"
      ]
     },
     "execution_count": 112,
     "metadata": {},
     "output_type": "execute_result"
    }
   ],
   "source": [
    "del dict2['List'][-1]\n",
    "dict2"
   ]
  },
  {
   "cell_type": "markdown",
   "id": "421af155-9bf2-4a72-8570-fb58d9967ca2",
   "metadata": {},
   "source": [
    "This is how the `del` keyword works for dictionaries."
   ]
  },
  {
   "cell_type": "markdown",
   "id": "d55b200c-b5f1-4e7f-bfec-65309cca44d2",
   "metadata": {
    "tags": []
   },
   "source": [
    "##### 4. Sorting a Dictionary"
   ]
  },
  {
   "cell_type": "markdown",
   "id": "75fc42c2-f299-4d00-a95b-e5770d8d93a3",
   "metadata": {},
   "source": [
    "To sort a dictionary, we will use the `sorted()` function. Remember that we can use the `sort()` method for sorting lists, if we are selecting a list element from the dictionary. "
   ]
  },
  {
   "cell_type": "code",
   "execution_count": 114,
   "id": "ae40be75-1493-4a38-9451-5cceaae1ed90",
   "metadata": {},
   "outputs": [
    {
     "data": {
      "text/plain": [
       "{1: 'String',\n",
       " 2: 2,\n",
       " 3: 3.5,\n",
       " 'Tuple': (1, 2, True, 3, 'False'),\n",
       " 'List': [1, 2, 4.5, 'List1', 'List2']}"
      ]
     },
     "execution_count": 114,
     "metadata": {},
     "output_type": "execute_result"
    }
   ],
   "source": [
    "dict2"
   ]
  },
  {
   "cell_type": "markdown",
   "id": "bb24ecfb-fcbc-4784-88e8-5a4be0875c06",
   "metadata": {},
   "source": [
    "Before sorting, remember that the `sorted()` function only supports sorting with similar data types. Hence, we need to select the indexes with same data types."
   ]
  },
  {
   "cell_type": "code",
   "execution_count": 123,
   "id": "b53a9333-40bc-4b8e-8815-3dd8869135c4",
   "metadata": {},
   "outputs": [
    {
     "data": {
      "text/plain": [
       "[False, 1, 2, 2.5, 3]"
      ]
     },
     "execution_count": 123,
     "metadata": {},
     "output_type": "execute_result"
    }
   ],
   "source": [
    "dict3={1:True,2:2,3:3.5,2.5:'Two point five',False:False}\n",
    "sorted(dict3)"
   ]
  },
  {
   "cell_type": "markdown",
   "id": "437b2b49-32f9-4ccf-95d7-142870ea3bbe",
   "metadata": {},
   "source": [
    "As you can see, it has taken the value of False as 0 and then sorted the entire index. It has returned a list, as expected."
   ]
  },
  {
   "cell_type": "markdown",
   "id": "33e4f609-351f-4a8e-b635-3a4e2b101e27",
   "metadata": {
    "jp-MarkdownHeadingCollapsed": true,
    "tags": []
   },
   "source": [
    "#### Methods in Dictionaries"
   ]
  },
  {
   "cell_type": "markdown",
   "id": "6ffd970c-2c30-4030-b3c0-7953fe1ec47d",
   "metadata": {},
   "source": [
    "There are 3 basic methods in Dictionaries, that would help gain more information on the dictionary. These methods are - \n",
    "\n",
    "- `keys()`: This method returns a list of all the keys inside a dictionary.\n",
    "- `values()`: This method returns a list of all the values inside a dictionary.\n",
    "- `update()`: This method is used to update the value of any key. \n",
    "\n",
    "Let us see them in action."
   ]
  },
  {
   "cell_type": "code",
   "execution_count": 147,
   "id": "3347032b-7eda-450e-b119-da601aa9512d",
   "metadata": {},
   "outputs": [
    {
     "data": {
      "text/plain": [
       "{1: True, 2: 2, 3: 3.5, 2.5: 'Two point five', False: False}"
      ]
     },
     "execution_count": 147,
     "metadata": {},
     "output_type": "execute_result"
    }
   ],
   "source": [
    "dict3"
   ]
  },
  {
   "cell_type": "code",
   "execution_count": 153,
   "id": "2478c652-bd8e-4e03-a13c-bcd56218cc21",
   "metadata": {},
   "outputs": [
    {
     "data": {
      "text/plain": [
       "(dict_keys([1, 2, 3, 2.5, False]),\n",
       " dict_values([True, 2, 3.5, 'Two point five', False]))"
      ]
     },
     "execution_count": 153,
     "metadata": {},
     "output_type": "execute_result"
    }
   ],
   "source": [
    "dict3.keys(),dict3.values()"
   ]
  },
  {
   "cell_type": "code",
   "execution_count": 154,
   "id": "36ba0f20-fa92-431c-946c-63a5c67863c2",
   "metadata": {},
   "outputs": [
    {
     "data": {
      "text/plain": [
       "{1: True, 2: 2, 3: 3.5, 2.5: 2.5, False: False}"
      ]
     },
     "execution_count": 154,
     "metadata": {},
     "output_type": "execute_result"
    }
   ],
   "source": [
    "dict3.update({2.5:2.5})\n",
    "dict3"
   ]
  },
  {
   "cell_type": "markdown",
   "id": "3ff2e8b7-326e-4d3b-9460-fd5c21a7ed16",
   "metadata": {},
   "source": [
    "If you try to update a key that does not exist, then it will be added to the dictionary. An example illustrating this -"
   ]
  },
  {
   "cell_type": "code",
   "execution_count": 155,
   "id": "c24d61e6-42a3-456a-be5b-f42a19276e67",
   "metadata": {},
   "outputs": [
    {
     "data": {
      "text/plain": [
       "{1: True, 2: 2, 3: 3.5, 2.5: 2.5, False: False, 4: 4}"
      ]
     },
     "execution_count": 155,
     "metadata": {},
     "output_type": "execute_result"
    }
   ],
   "source": [
    "dict3.update({4:4})\n",
    "dict3"
   ]
  },
  {
   "cell_type": "markdown",
   "id": "d0e8a4b0-6e5e-4073-90b5-27144076b46c",
   "metadata": {
    "tags": []
   },
   "source": [
    "#### Typecasting in Dictionaries"
   ]
  },
  {
   "cell_type": "markdown",
   "id": "bdf3a46a-112b-4620-a87d-2caf4400299a",
   "metadata": {},
   "source": [
    "Typecasting from dictionaries to other data structures is simple, actually. The functions of `str()`, `list()`, `tuple()` and `set()` would work very simply. But, they would by default return the __object(s) of indexes__, not values. \n",
    "\n",
    "To get the object(s) of values, we need to use the __method `values()`__ inside these typecasting functions."
   ]
  },
  {
   "cell_type": "code",
   "execution_count": 135,
   "id": "478033e3-871f-4653-9917-a26359010a28",
   "metadata": {},
   "outputs": [
    {
     "data": {
      "text/plain": [
       "{1: True, 2: 2, 3: 3.5, 2.5: 'Two point five', False: False}"
      ]
     },
     "execution_count": 135,
     "metadata": {},
     "output_type": "execute_result"
    }
   ],
   "source": [
    "dict3"
   ]
  },
  {
   "cell_type": "code",
   "execution_count": 130,
   "id": "2fd5eea6-9573-4a2b-8d76-40f35cf9c860",
   "metadata": {},
   "outputs": [
    {
     "data": {
      "text/plain": [
       "[1, 2, 3, 2.5, False, True, 2, 3.5, 'Two point five', False]"
      ]
     },
     "execution_count": 130,
     "metadata": {},
     "output_type": "execute_result"
    }
   ],
   "source": [
    "list(dict3)+list(dict3.values())"
   ]
  },
  {
   "cell_type": "code",
   "execution_count": 129,
   "id": "867c8efa-275a-4694-b29b-0c2930bd6952",
   "metadata": {},
   "outputs": [
    {
     "data": {
      "text/plain": [
       "(True, 2, 3.5, 'Two point five', False)"
      ]
     },
     "execution_count": 129,
     "metadata": {},
     "output_type": "execute_result"
    }
   ],
   "source": [
    "tuple(dict3.values())"
   ]
  },
  {
   "cell_type": "code",
   "execution_count": 131,
   "id": "a6fc8db9-317c-49d1-86b1-a360df1753d2",
   "metadata": {},
   "outputs": [
    {
     "data": {
      "text/plain": [
       "\"{1: True, 2: 2, 3: 3.5, 2.5: 'Two point five', False: False}\""
      ]
     },
     "execution_count": 131,
     "metadata": {},
     "output_type": "execute_result"
    }
   ],
   "source": [
    "str(dict3)"
   ]
  },
  {
   "cell_type": "code",
   "execution_count": 167,
   "id": "16c061ac-bed5-4fa4-81c9-e94efa962ad8",
   "metadata": {},
   "outputs": [
    {
     "ename": "ValueError",
     "evalue": "could not convert string to float: '{1: True, 2: 2, 3: 3.5, 2.5: 2.5, False: False, 4: 4}'",
     "output_type": "error",
     "traceback": [
      "\u001b[1;31m---------------------------------------------------------------------------\u001b[0m",
      "\u001b[1;31mValueError\u001b[0m                                Traceback (most recent call last)",
      "Input \u001b[1;32mIn [167]\u001b[0m, in \u001b[0;36m<cell line: 1>\u001b[1;34m()\u001b[0m\n\u001b[1;32m----> 1\u001b[0m \u001b[38;5;28;43mfloat\u001b[39;49m\u001b[43m(\u001b[49m\u001b[38;5;28;43mstr\u001b[39;49m\u001b[43m(\u001b[49m\u001b[43mdict3\u001b[49m\u001b[43m)\u001b[49m\u001b[43m)\u001b[49m\n",
      "\u001b[1;31mValueError\u001b[0m: could not convert string to float: '{1: True, 2: 2, 3: 3.5, 2.5: 2.5, False: False, 4: 4}'"
     ]
    }
   ],
   "source": [
    "float(str(dict3))"
   ]
  },
  {
   "cell_type": "markdown",
   "id": "d0882025-3cda-471f-90eb-53460fae64a3",
   "metadata": {},
   "source": [
    "Hence, you won't be able to typecast a dictionary into integer or float."
   ]
  }
 ],
 "metadata": {
  "kernelspec": {
   "display_name": "Python 3 (ipykernel)",
   "language": "python",
   "name": "python3"
  },
  "language_info": {
   "codemirror_mode": {
    "name": "ipython",
    "version": 3
   },
   "file_extension": ".py",
   "mimetype": "text/x-python",
   "name": "python",
   "nbconvert_exporter": "python",
   "pygments_lexer": "ipython3",
   "version": "3.10.5"
  }
 },
 "nbformat": 4,
 "nbformat_minor": 5
}

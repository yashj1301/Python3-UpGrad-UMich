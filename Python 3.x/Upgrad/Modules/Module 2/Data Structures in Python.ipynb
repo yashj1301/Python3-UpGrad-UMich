{
 "cells": [
  {
   "cell_type": "markdown",
   "id": "017e5da5-3088-4d50-ae85-8a8c0edb288a",
   "metadata": {},
   "source": [
    "## Data Structures in Python"
   ]
  },
  {
   "cell_type": "markdown",
   "id": "7264e375-60dc-4423-9e3e-053d91471da4",
   "metadata": {},
   "source": [
    "Basically, these structures can hold the data together. A __Data Structure__ is a particular way of organizing data in a computer so that it can be used effectively. The four built-in data structures in Python are:\n",
    "- Tuples \n",
    "- Lists \n",
    "- Dictionaries \n",
    "- Sets"
   ]
  },
  {
   "cell_type": "markdown",
   "id": "cd53708c-a171-477d-8937-2ef096e497cb",
   "metadata": {
    "jp-MarkdownHeadingCollapsed": true,
    "tags": []
   },
   "source": [
    "### Tuples"
   ]
  },
  {
   "cell_type": "markdown",
   "id": "5676c75e-d1ca-426f-bdb8-8fd194a29494",
   "metadata": {},
   "source": [
    "Tuples are __compound data types__ that store _mixed data type values_ in an ordered manner. These are __immutable__, and are defined using the normal brackets `( )`. The syntax for tuples goes like this – \n",
    "\n",
    "<code>Identifier = (value<sub>1</sub>, value<sub>2</sub>, …… value<sub>n</sub>); </code>"
   ]
  },
  {
   "cell_type": "markdown",
   "id": "09c37e0d-a366-40a2-b763-207cdf718ec5",
   "metadata": {},
   "source": [
    "It can hold multiple data types within itself. You can store all integer, all float, all Boolean or all string values, as well as any combination of these 4. Here is a simple example for illustration:\n"
   ]
  },
  {
   "cell_type": "code",
   "execution_count": 3,
   "id": "89dde3ac-ec9a-42e8-a8e5-d5193ed8b594",
   "metadata": {},
   "outputs": [],
   "source": [
    "x1 = (1,2,3,4,5);\n",
    "x2 = (1.1,2.2,3.3,4.4,5.5);\n",
    "x3 = (True,False);\n",
    "x4 = ('Hi','This','is','python');\n",
    "x5= (1,'Hi',True,4.4);"
   ]
  },
  {
   "cell_type": "code",
   "execution_count": 5,
   "id": "cbe28248-054e-430c-a4ae-49d57fa41d44",
   "metadata": {},
   "outputs": [
    {
     "name": "stdout",
     "output_type": "stream",
     "text": [
      "(1, 2, 3, 4, 5) <class 'tuple'>\n",
      "(1.1, 2.2, 3.3, 4.4, 5.5) <class 'tuple'>\n",
      "(True, False) <class 'tuple'>\n",
      "('Hi', 'This', 'is', 'python') <class 'tuple'>\n",
      "(1, 'Hi', True, 4.4) <class 'tuple'>\n"
     ]
    }
   ],
   "source": [
    "print(x1,type(x1))\n",
    "print(x2,type(x2))\n",
    "print(x3,type(x3))\n",
    "print(x4,type(x4))\n",
    "print(x5,type(x5))"
   ]
  },
  {
   "cell_type": "markdown",
   "id": "c1b08aeb-0dfd-48ce-90f1-cdec193ed95b",
   "metadata": {
    "jp-MarkdownHeadingCollapsed": true,
    "tags": []
   },
   "source": [
    "#### How to define Tuples"
   ]
  },
  {
   "cell_type": "markdown",
   "id": "5503846f-09a5-4d27-a486-e7645cdcd1b4",
   "metadata": {},
   "source": [
    "There are a number of ways to define tuples in python. They can be defined _without parenthesis_ or even as a _single tuple_. "
   ]
  },
  {
   "cell_type": "markdown",
   "id": "ecd6e1d6-cb2b-4bd7-8f5f-a61a1f728bc4",
   "metadata": {},
   "source": [
    "__Defining tuples without parenthesis__"
   ]
  },
  {
   "cell_type": "code",
   "execution_count": 2,
   "id": "248dca5f-3138-460c-be61-00f0edcdcc69",
   "metadata": {},
   "outputs": [
    {
     "name": "stdout",
     "output_type": "stream",
     "text": [
      "(1, 2, 3, 4, 5) <class 'tuple'>\n",
      "(2, 'Yash', True, 4.5) <class 'tuple'>\n"
     ]
    }
   ],
   "source": [
    "x5=1,2,3,4,5;\n",
    "x6=2,'Yash',True,4.5;\n",
    "\n",
    "print(x5,type(x5))\n",
    "print(x6,type(x6))"
   ]
  },
  {
   "cell_type": "markdown",
   "id": "c188ce5e-df4a-4a6b-85dd-9f59921c062d",
   "metadata": {},
   "source": [
    "__Defining singular tuples__"
   ]
  },
  {
   "cell_type": "markdown",
   "id": "eb2a3ac5-b104-400b-990f-130d51e3208f",
   "metadata": {},
   "source": [
    "You have to use a comma after writing the value in the tuple to tell python that the identifier will be a tuple, and not any other type. Some examples are given below:"
   ]
  },
  {
   "cell_type": "code",
   "execution_count": 3,
   "id": "d870d142-c6a9-40f7-8883-acc0d7479bb1",
   "metadata": {},
   "outputs": [
    {
     "name": "stdout",
     "output_type": "stream",
     "text": [
      "(1,) <class 'tuple'>\n",
      "('Yash',) <class 'tuple'>\n",
      "(True,) <class 'tuple'>\n",
      "(4.5,) <class 'tuple'>\n"
     ]
    }
   ],
   "source": [
    "y1=1,\n",
    "y2='Yash',\n",
    "y3=True,\n",
    "y4=4.5,\n",
    "\n",
    "print(y1,type(y1))\n",
    "print(y2,type(y2))\n",
    "print(y3,type(y3))\n",
    "print(y4,type(y4))"
   ]
  },
  {
   "cell_type": "markdown",
   "id": "5fd6f3fb-49dc-42a1-bc5b-f3fbeaced97c",
   "metadata": {},
   "source": [
    "If you do not use commas after them, then python will assign data types to them according to the values present there. An illustration is given here:"
   ]
  },
  {
   "cell_type": "code",
   "execution_count": 4,
   "id": "48de8dd8-06ba-4edb-8046-4f51b6276eaf",
   "metadata": {},
   "outputs": [
    {
     "name": "stdout",
     "output_type": "stream",
     "text": [
      "1 <class 'int'>\n",
      "Yash <class 'str'>\n",
      "True <class 'bool'>\n",
      "4.5 <class 'float'>\n"
     ]
    }
   ],
   "source": [
    "y5=1\n",
    "y6='Yash'\n",
    "y7=True\n",
    "y8=4.5\n",
    "\n",
    "print(y5,type(y5))\n",
    "print(y6,type(y6))\n",
    "print(y7,type(y7))\n",
    "print(y8,type(y8))"
   ]
  },
  {
   "cell_type": "markdown",
   "id": "9831dfcf-edb6-4a73-a9a8-f1ec0eecefad",
   "metadata": {
    "jp-MarkdownHeadingCollapsed": true,
    "tags": []
   },
   "source": [
    "#### How to access data inside a Tuple"
   ]
  },
  {
   "cell_type": "markdown",
   "id": "6632cb6c-c4e7-4ec3-9fdc-c70170a4a9c2",
   "metadata": {},
   "source": [
    "Since tuples are a sequence of ordered data, we can use basic indexing and slicing (both forward and reverse), to extract elements inside it."
   ]
  },
  {
   "cell_type": "markdown",
   "id": "25da14d4-9517-451f-8851-c6305913d7e4",
   "metadata": {
    "jp-MarkdownHeadingCollapsed": true,
    "tags": []
   },
   "source": [
    "##### Indexing in Tuples"
   ]
  },
  {
   "cell_type": "markdown",
   "id": "214b7036-47ee-41bf-9bd5-e3267df1370a",
   "metadata": {},
   "source": [
    "Let us look at the following example:"
   ]
  },
  {
   "cell_type": "code",
   "execution_count": 8,
   "id": "5183698c-7493-4098-987a-f71904f7ed6a",
   "metadata": {},
   "outputs": [
    {
     "name": "stdout",
     "output_type": "stream",
     "text": [
      "Forward Indexing:  1 2 Yash\n",
      "Reverse Indexing:  4 Program False\n"
     ]
    }
   ],
   "source": [
    "x=1,2,'Yash',3.5,True,'Python',4,'Program',False\n",
    "\n",
    "print('Forward Indexing: ',x[0],x[1],x[2])\n",
    "print('Reverse Indexing: ',x[-3],x[-2],x[-1])"
   ]
  },
  {
   "cell_type": "markdown",
   "id": "608f82b1-b263-46ca-9ab3-cf469124aba0",
   "metadata": {},
   "source": [
    "We can also access the characters inside the string element(s) using __multiple indexing__. This can be used in the following way:"
   ]
  },
  {
   "cell_type": "code",
   "execution_count": 10,
   "id": "13ada80b-cb4a-4260-bb88-1591a821864f",
   "metadata": {},
   "outputs": [
    {
     "name": "stdout",
     "output_type": "stream",
     "text": [
      "Forward Indexing:  s h g\n",
      "Reverse Indexing (a):  g t y\n",
      "Reverse Indexing (b):  r o s\n"
     ]
    }
   ],
   "source": [
    "print('Forward Indexing: ',x[2][2], x[5][3], x[7][3])\n",
    "print('Reverse Indexing (a): ',x[-2][3], x[-4][2], x[-4][1])\n",
    "print('Reverse Indexing (b): ',x[-2][-3], x[-4][-2], x[-7][-2])"
   ]
  },
  {
   "cell_type": "markdown",
   "id": "ff0b4a71-1574-434a-a878-b649638b90d2",
   "metadata": {},
   "source": [
    "Using single indexing, we were able to navigate through the tuple elements, but in multiple indexing, we were able to navigate through strings inside a tuple. Please note that this method will not work with any other data type than string."
   ]
  },
  {
   "cell_type": "markdown",
   "id": "2a48e9ef-4ae0-47ce-b8fc-0fb7a60ce767",
   "metadata": {
    "jp-MarkdownHeadingCollapsed": true,
    "tags": []
   },
   "source": [
    "##### Slicing in Tuples"
   ]
  },
  {
   "cell_type": "markdown",
   "id": "184c64ff-e3e9-4f70-a669-94453fccb6d9",
   "metadata": {},
   "source": [
    "Slicing can also be implemented in the very same manner as indexing. We can use forward indexing, or reverse indexing to apply slicing. Remember that contrary to strings, slicing in tuples will return elements of the string as a single tuple. \n",
    "\n",
    "An example to illustrate this:"
   ]
  },
  {
   "cell_type": "code",
   "execution_count": 12,
   "id": "c13ae224-5497-4668-9a17-07ae5dc8f070",
   "metadata": {},
   "outputs": [
    {
     "data": {
      "text/plain": [
       "(1, 2, 'Yash', 3.5, True, 'Python', 4, 'Program', False)"
      ]
     },
     "execution_count": 12,
     "metadata": {},
     "output_type": "execute_result"
    }
   ],
   "source": [
    "x"
   ]
  },
  {
   "cell_type": "code",
   "execution_count": 49,
   "id": "984cdc90-c579-4458-b234-a68511fbf8d4",
   "metadata": {},
   "outputs": [
    {
     "data": {
      "text/plain": [
       "((3.5, True, 'Python', 4, 'Program', False),\n",
       " (1, 2, 'Yash', 3.5, True, 'Python'),\n",
       " (2, 3.5, 'Python', 'Program'),\n",
       " (1, 3.5))"
      ]
     },
     "execution_count": 49,
     "metadata": {},
     "output_type": "execute_result"
    }
   ],
   "source": [
    "x[3:], x[:6], x[1::2], x[:6:3]"
   ]
  },
  {
   "cell_type": "code",
   "execution_count": 18,
   "id": "ab84fbe5-5217-4016-ab1f-0ea9fb407d79",
   "metadata": {},
   "outputs": [
    {
     "data": {
      "text/plain": [
       "(('Python', 4, 'Program', False),\n",
       " (1, 2, 'Yash', 3.5, True, 'Python'),\n",
       " (3.5, True, 'Python'))"
      ]
     },
     "execution_count": 18,
     "metadata": {},
     "output_type": "execute_result"
    }
   ],
   "source": [
    "x[-4:], x[:-3],x[-6:-3]"
   ]
  },
  {
   "cell_type": "markdown",
   "id": "18c410a9-a071-445b-bb54-bd7a6f163d0a",
   "metadata": {},
   "source": [
    "We can also use __multiple slicing__ for string elements. It is to be used in the same way indexing was used, using two square brackets. It has to be used as a combination of indexing and slicing, though.\n",
    "\n",
    "An example is given below:"
   ]
  },
  {
   "cell_type": "code",
   "execution_count": 48,
   "id": "7af35424-8b00-4794-b9fb-38022ec79f04",
   "metadata": {},
   "outputs": [
    {
     "data": {
      "text/plain": [
       "('Pro', 'sh')"
      ]
     },
     "execution_count": 48,
     "metadata": {},
     "output_type": "execute_result"
    }
   ],
   "source": [
    "x[5::2][1][:3], x[2][-2:]"
   ]
  },
  {
   "cell_type": "markdown",
   "id": "5e253c01-79ef-4210-8028-d3b43c3fa604",
   "metadata": {
    "jp-MarkdownHeadingCollapsed": true,
    "tags": []
   },
   "source": [
    "#### Operations on Tuples"
   ]
  },
  {
   "cell_type": "markdown",
   "id": "37d15d49-9412-46e3-ae87-d524454bf592",
   "metadata": {},
   "source": [
    "We can apply multiple operations to tuples, similar to other data types. Let us look at them."
   ]
  },
  {
   "cell_type": "markdown",
   "id": "7b580164-62d3-4dfb-a537-027ffd2e47d4",
   "metadata": {
    "jp-MarkdownHeadingCollapsed": true,
    "tags": []
   },
   "source": [
    "##### Addition (Concatenation)"
   ]
  },
  {
   "cell_type": "code",
   "execution_count": 59,
   "id": "ec6bebdc-4382-4619-a868-e12826e31765",
   "metadata": {},
   "outputs": [
    {
     "data": {
      "text/plain": [
       "(1,\n",
       " 2,\n",
       " 'Yash',\n",
       " 3.5,\n",
       " True,\n",
       " 'Python',\n",
       " 4,\n",
       " 'Program',\n",
       " False,\n",
       " 1,\n",
       " 3,\n",
       " 4,\n",
       " True,\n",
       " 'Yash',\n",
       " False)"
      ]
     },
     "execution_count": 59,
     "metadata": {},
     "output_type": "execute_result"
    }
   ],
   "source": [
    "x=1,2,'Yash',3.5,True,'Python',4,'Program',False\n",
    "y=1,3,4,True,'Yash',False;\n",
    "\n",
    "z=x+y\n",
    "z"
   ]
  },
  {
   "cell_type": "markdown",
   "id": "c63e7740-4268-4df8-b2ae-9da6a660fc4b",
   "metadata": {
    "jp-MarkdownHeadingCollapsed": true,
    "tags": []
   },
   "source": [
    "##### Subtraction"
   ]
  },
  {
   "cell_type": "code",
   "execution_count": 117,
   "id": "d4892104-b355-4c02-ad50-f51d74d92b77",
   "metadata": {},
   "outputs": [
    {
     "ename": "TypeError",
     "evalue": "unsupported operand type(s) for -: 'tuple' and 'tuple'",
     "output_type": "error",
     "traceback": [
      "\u001b[1;31m---------------------------------------------------------------------------\u001b[0m",
      "\u001b[1;31mTypeError\u001b[0m                                 Traceback (most recent call last)",
      "Input \u001b[1;32mIn [117]\u001b[0m, in \u001b[0;36m<cell line: 4>\u001b[1;34m()\u001b[0m\n\u001b[0;32m      1\u001b[0m j\u001b[38;5;241m=\u001b[39m\u001b[38;5;241m1\u001b[39m,\u001b[38;5;241m2\u001b[39m,\u001b[38;5;241m3\u001b[39m,\u001b[38;5;241m4\u001b[39m,\u001b[38;5;241m5\u001b[39m;\n\u001b[0;32m      2\u001b[0m k\u001b[38;5;241m=\u001b[39m\u001b[38;5;241m2\u001b[39m,\u001b[38;5;241m3\u001b[39m,\u001b[38;5;241m4\u001b[39m,\u001b[38;5;241m5\u001b[39m,\u001b[38;5;241m6\u001b[39m;\n\u001b[1;32m----> 4\u001b[0m \u001b[43mj\u001b[49m\u001b[38;5;241;43m-\u001b[39;49m\u001b[43mk\u001b[49m\n",
      "\u001b[1;31mTypeError\u001b[0m: unsupported operand type(s) for -: 'tuple' and 'tuple'"
     ]
    }
   ],
   "source": [
    "j=1,2,3,4,5;\n",
    "k=2,3,4,5,6;\n",
    "\n",
    "j-k"
   ]
  },
  {
   "cell_type": "code",
   "execution_count": 60,
   "id": "15a1aac1-d861-44f5-9bd3-fa824422bb47",
   "metadata": {},
   "outputs": [
    {
     "ename": "TypeError",
     "evalue": "unsupported operand type(s) for -: 'tuple' and 'tuple'",
     "output_type": "error",
     "traceback": [
      "\u001b[1;31m---------------------------------------------------------------------------\u001b[0m",
      "\u001b[1;31mTypeError\u001b[0m                                 Traceback (most recent call last)",
      "Input \u001b[1;32mIn [60]\u001b[0m, in \u001b[0;36m<cell line: 1>\u001b[1;34m()\u001b[0m\n\u001b[1;32m----> 1\u001b[0m \u001b[43mz\u001b[49m\u001b[38;5;241;43m-\u001b[39;49m\u001b[43mx\u001b[49m\n",
      "\u001b[1;31mTypeError\u001b[0m: unsupported operand type(s) for -: 'tuple' and 'tuple'"
     ]
    }
   ],
   "source": [
    "z-x"
   ]
  },
  {
   "cell_type": "markdown",
   "id": "4e83b99c-348e-4ac3-a936-fe0c1b010c43",
   "metadata": {},
   "source": [
    "Hence, subtraction is <font color=\"red\"> not supported </font>. Same is the case with division, exponential, modulus, floor division."
   ]
  },
  {
   "cell_type": "markdown",
   "id": "c39e3025-b509-49bf-a558-04c91050a3eb",
   "metadata": {
    "jp-MarkdownHeadingCollapsed": true,
    "tags": []
   },
   "source": [
    "##### Multiplication"
   ]
  },
  {
   "cell_type": "markdown",
   "id": "2620f0df-7adc-40aa-846a-c4e84be8721b",
   "metadata": {},
   "source": [
    "In the case of multiplication, it will be multiplied with only an integer, and treated as a repeating operator. The tuple will be repeated that many times. "
   ]
  },
  {
   "cell_type": "code",
   "execution_count": 67,
   "id": "4dc714aa-78ad-411a-8f07-2cee83a2af00",
   "metadata": {},
   "outputs": [
    {
     "data": {
      "text/plain": [
       "(9, 27)"
      ]
     },
     "execution_count": 67,
     "metadata": {},
     "output_type": "execute_result"
    }
   ],
   "source": [
    "len(x),len(x*3)"
   ]
  },
  {
   "cell_type": "markdown",
   "id": "8b35ff00-a29b-4132-b8a1-ba94c08b0d65",
   "metadata": {
    "jp-MarkdownHeadingCollapsed": true,
    "tags": []
   },
   "source": [
    "#### Nested Tuples"
   ]
  },
  {
   "cell_type": "markdown",
   "id": "3ac35f95-a511-418d-a8b6-1d1026cb66c7",
   "metadata": {},
   "source": [
    "You can add a tuple as an element inside another tuple. For the inner tuple, you have to use the brackets () to tell python that this element will be a tuple.\n",
    "\n",
    "An illustration is given below:"
   ]
  },
  {
   "cell_type": "code",
   "execution_count": 69,
   "id": "da6a0690-b8aa-4b6b-be5b-f9b3469c6527",
   "metadata": {},
   "outputs": [
    {
     "data": {
      "text/plain": [
       "(1, 2, 3, ('Yash', 'Jain', True, 3.4, 4, 5.6, False), True, 3.4, 'hello')"
      ]
     },
     "execution_count": 69,
     "metadata": {},
     "output_type": "execute_result"
    }
   ],
   "source": [
    "y=1,2,3,('Yash','Jain',True,3.4,4,5.6,False),True,3.4,'hello'\n",
    "y"
   ]
  },
  {
   "cell_type": "code",
   "execution_count": 70,
   "id": "d43ed176-fe58-4fdf-a03f-5488f8b3c25f",
   "metadata": {},
   "outputs": [
    {
     "data": {
      "text/plain": [
       "('Yash', 'Jain', True, 3.4, 4, 5.6, False)"
      ]
     },
     "execution_count": 70,
     "metadata": {},
     "output_type": "execute_result"
    }
   ],
   "source": [
    "y[3]"
   ]
  },
  {
   "cell_type": "code",
   "execution_count": 72,
   "id": "a9a5bf87-69cd-40b9-8a9c-9b3d0a72bb6f",
   "metadata": {},
   "outputs": [
    {
     "data": {
      "text/plain": [
       "(tuple, tuple)"
      ]
     },
     "execution_count": 72,
     "metadata": {},
     "output_type": "execute_result"
    }
   ],
   "source": [
    "type(y), type(y[3])"
   ]
  },
  {
   "cell_type": "markdown",
   "id": "bc620d0c-9624-45f7-b616-f25cfd649b67",
   "metadata": {},
   "source": [
    "You can use indexing and slicing here as well. It will be the same syntax, with more brackets to access any specific element inside the tuple(s)."
   ]
  },
  {
   "cell_type": "code",
   "execution_count": 91,
   "id": "5e952b20-0b71-4066-94f9-2dd3304d1454",
   "metadata": {},
   "outputs": [
    {
     "data": {
      "text/plain": [
       "('ash', 'ain')"
      ]
     },
     "execution_count": 91,
     "metadata": {},
     "output_type": "execute_result"
    }
   ],
   "source": [
    "y[3][:2][0][1:],y[3][:2][1][1:]"
   ]
  },
  {
   "cell_type": "markdown",
   "id": "d006bda4-596c-48ed-a1c8-fce1be88fc55",
   "metadata": {
    "jp-MarkdownHeadingCollapsed": true,
    "tags": []
   },
   "source": [
    "#### Functions on Tuples"
   ]
  },
  {
   "cell_type": "markdown",
   "id": "8c4799f6-5aaa-4d63-8c43-8a2f500320a6",
   "metadata": {},
   "source": [
    "You can use various functions with tuples. These can be arithmetic functions like `sum()`, `max()` and `min()`, or these can be sorting function `sorted()`.\n",
    "\n",
    "An illustration of this is given below:"
   ]
  },
  {
   "cell_type": "code",
   "execution_count": 97,
   "id": "5a53b833-c9fa-430d-bcaa-23d24e4fd55a",
   "metadata": {},
   "outputs": [],
   "source": [
    "x=1,2,3;\n",
    "y=2,3,4;\n",
    "z='Python',2,3,4,5,'Programming';\n"
   ]
  },
  {
   "cell_type": "code",
   "execution_count": 99,
   "id": "a2821d69-e63a-4190-926f-97e040957f65",
   "metadata": {},
   "outputs": [
    {
     "data": {
      "text/plain": [
       "(6, 9)"
      ]
     },
     "execution_count": 99,
     "metadata": {},
     "output_type": "execute_result"
    }
   ],
   "source": [
    "sum(x),sum(y)"
   ]
  },
  {
   "cell_type": "markdown",
   "id": "a01285a5-4e55-43f0-aa7e-0973334191b9",
   "metadata": {},
   "source": [
    "The z tuple elements cannot be added, since they do not have elements of the same data type. Let us see what do we have if a tuple has all string elements."
   ]
  },
  {
   "cell_type": "code",
   "execution_count": 104,
   "id": "73bfa308-1f1d-4342-a3d5-40e6431de600",
   "metadata": {},
   "outputs": [
    {
     "ename": "TypeError",
     "evalue": "unsupported operand type(s) for +: 'int' and 'str'",
     "output_type": "error",
     "traceback": [
      "\u001b[1;31m---------------------------------------------------------------------------\u001b[0m",
      "\u001b[1;31mTypeError\u001b[0m                                 Traceback (most recent call last)",
      "Input \u001b[1;32mIn [128]\u001b[0m, in \u001b[0;36m<cell line: 3>\u001b[1;34m()\u001b[0m\n\u001b[0;32m      1\u001b[0m z1\u001b[38;5;241m=\u001b[39m\u001b[38;5;124m'\u001b[39m\u001b[38;5;124mWelcome\u001b[39m\u001b[38;5;124m'\u001b[39m,\u001b[38;5;124m'\u001b[39m\u001b[38;5;124mto\u001b[39m\u001b[38;5;124m'\u001b[39m,\u001b[38;5;124m'\u001b[39m\u001b[38;5;124mPython\u001b[39m\u001b[38;5;124m'\u001b[39m,\u001b[38;5;124m'\u001b[39m\u001b[38;5;124mProgramming\u001b[39m\u001b[38;5;124m'\u001b[39m;\n\u001b[0;32m      2\u001b[0m z2\u001b[38;5;241m=\u001b[39m\u001b[38;5;241m1\u001b[39m,\u001b[38;5;241m3\u001b[39m,\u001b[38;5;241m5.6\u001b[39m,\u001b[38;5;241m2\u001b[39m,\u001b[38;5;241m4\u001b[39m,\u001b[38;5;28;01mTrue\u001b[39;00m,\u001b[38;5;241m5\u001b[39m,\u001b[38;5;241m6.7\u001b[39m\n\u001b[1;32m----> 3\u001b[0m \u001b[38;5;28msum\u001b[39m(z2),\u001b[38;5;28;43msum\u001b[39;49m\u001b[43m(\u001b[49m\u001b[43mz1\u001b[49m\u001b[43m)\u001b[49m\n",
      "\u001b[1;31mTypeError\u001b[0m: unsupported operand type(s) for +: 'int' and 'str'"
     ]
    }
   ],
   "source": [
    "z1='Welcome','to','Python','Programming';\n",
    "sum(z1)"
   ]
  },
  {
   "cell_type": "markdown",
   "id": "c3e72431-1c5c-4aaa-8efa-ea5bf973987c",
   "metadata": {},
   "source": [
    "We can clearly see here, that sum() will only work on tuples having non-string data types. Let us see another example."
   ]
  },
  {
   "cell_type": "code",
   "execution_count": 108,
   "id": "4cb45654-bf40-46cc-92e3-a373c57ab70e",
   "metadata": {},
   "outputs": [
    {
     "data": {
      "text/plain": [
       "28.3"
      ]
     },
     "execution_count": 108,
     "metadata": {},
     "output_type": "execute_result"
    }
   ],
   "source": [
    "z2=1,3,5.6,2,4,True,5,6.7\n",
    "sum(z2)"
   ]
  },
  {
   "cell_type": "markdown",
   "id": "48f2f848-e846-498d-adf8-140f91f6731b",
   "metadata": {},
   "source": [
    "As expected, the boolean values have been treated as their integer counterparts 0 (False) and 1 True). Now, let us see the <code>sorted()</code> function. This function creates a list instead of a tuple."
   ]
  },
  {
   "cell_type": "code",
   "execution_count": 24,
   "id": "bb9be825-8853-4c62-b7d8-6b76e2e1e4d3",
   "metadata": {},
   "outputs": [
    {
     "name": "stdout",
     "output_type": "stream",
     "text": [
      "[1, True, 2, 3, 4, 5, 5.6, 6.7] ['Programming', 'Python', 'Welcome', 'to'] <class 'list'>\n"
     ]
    }
   ],
   "source": [
    "z1='Welcome','to','Python','Programming'\n",
    "z2=1,3,5.6,2,4,True,5,6.7\n",
    "print(sorted(z2),sorted(z1),type(sorted(z2)))"
   ]
  },
  {
   "cell_type": "markdown",
   "id": "9abdc7c1-e3d3-4bcc-abaf-43d189ec65b8",
   "metadata": {},
   "source": [
    "Hence, to get a sorted tuple, we use the `tuple()` function to typecast this. It is used in the following way:"
   ]
  },
  {
   "cell_type": "code",
   "execution_count": 25,
   "id": "dc103acf-ef28-4eba-8b76-21604e1348f7",
   "metadata": {},
   "outputs": [
    {
     "name": "stdout",
     "output_type": "stream",
     "text": [
      "(1, True, 2, 3, 4, 5, 5.6, 6.7) <class 'tuple'>\n"
     ]
    }
   ],
   "source": [
    "print(tuple(sorted(z2)),type(tuple(sorted(z2))))"
   ]
  },
  {
   "cell_type": "code",
   "execution_count": 130,
   "id": "fd73674d-4537-4bd3-b048-1c40b00e49ed",
   "metadata": {},
   "outputs": [
    {
     "ename": "TypeError",
     "evalue": "'<' not supported between instances of 'int' and 'str'",
     "output_type": "error",
     "traceback": [
      "\u001b[1;31m---------------------------------------------------------------------------\u001b[0m",
      "\u001b[1;31mTypeError\u001b[0m                                 Traceback (most recent call last)",
      "Input \u001b[1;32mIn [130]\u001b[0m, in \u001b[0;36m<cell line: 2>\u001b[1;34m()\u001b[0m\n\u001b[0;32m      1\u001b[0m z\u001b[38;5;241m=\u001b[39m\u001b[38;5;124m'\u001b[39m\u001b[38;5;124mPython\u001b[39m\u001b[38;5;124m'\u001b[39m,\u001b[38;5;241m2\u001b[39m,\u001b[38;5;241m3\u001b[39m,\u001b[38;5;241m4\u001b[39m,\u001b[38;5;241m5\u001b[39m,\u001b[38;5;124m'\u001b[39m\u001b[38;5;124mProgramming\u001b[39m\u001b[38;5;124m'\u001b[39m;\n\u001b[1;32m----> 2\u001b[0m \u001b[38;5;28;43msorted\u001b[39;49m\u001b[43m(\u001b[49m\u001b[43mz\u001b[49m\u001b[43m)\u001b[49m\n",
      "\u001b[1;31mTypeError\u001b[0m: '<' not supported between instances of 'int' and 'str'"
     ]
    }
   ],
   "source": [
    "z='Python',2,3,4,5,'Programming';\n",
    "sorted(z)"
   ]
  },
  {
   "cell_type": "markdown",
   "id": "ba854704-aa6c-4e57-bc68-db5c3233c895",
   "metadata": {},
   "source": [
    "So, even in this function, we need the data types of the elements to be the same. It is essential to notice such small things in Python."
   ]
  },
  {
   "cell_type": "markdown",
   "id": "4cf474e1-b20d-4e78-aac7-c50d27bdcb9d",
   "metadata": {},
   "source": [
    "Now, let us see the <code> min() </code> and the <code> max() </code> functions."
   ]
  },
  {
   "cell_type": "code",
   "execution_count": 121,
   "id": "3579d602-1c56-4e21-b767-4795cf50e0ed",
   "metadata": {},
   "outputs": [
    {
     "data": {
      "text/plain": [
       "(9, 0)"
      ]
     },
     "execution_count": 121,
     "metadata": {},
     "output_type": "execute_result"
    }
   ],
   "source": [
    "num=3,9,5,7,8,3,4,True,0,False;\n",
    "\n",
    "max(num),min(num)"
   ]
  },
  {
   "cell_type": "code",
   "execution_count": 126,
   "id": "4f4e47c1-ceb5-4555-8061-e6ce05f8ec07",
   "metadata": {},
   "outputs": [
    {
     "ename": "TypeError",
     "evalue": "'>' not supported between instances of 'int' and 'str'",
     "output_type": "error",
     "traceback": [
      "\u001b[1;31m---------------------------------------------------------------------------\u001b[0m",
      "\u001b[1;31mTypeError\u001b[0m                                 Traceback (most recent call last)",
      "Input \u001b[1;32mIn [126]\u001b[0m, in \u001b[0;36m<cell line: 1>\u001b[1;34m()\u001b[0m\n\u001b[1;32m----> 1\u001b[0m \u001b[38;5;28;43mmax\u001b[39;49m\u001b[43m(\u001b[49m\u001b[43mz\u001b[49m\u001b[43m)\u001b[49m,\u001b[38;5;28mmin\u001b[39m(z)\n",
      "\u001b[1;31mTypeError\u001b[0m: '>' not supported between instances of 'int' and 'str'"
     ]
    }
   ],
   "source": [
    "max(z),min(z)"
   ]
  },
  {
   "cell_type": "markdown",
   "id": "cb0466bf-9f07-4da7-a91f-d324324dd206",
   "metadata": {},
   "source": [
    "Hence, these functions do not support the string type at all. They only support the integer and float types, whereas the booleans True and False are taken as 1 and 0 respectively."
   ]
  },
  {
   "cell_type": "markdown",
   "id": "857432d7-e098-421d-8b6d-6ee3be6904ef",
   "metadata": {
    "jp-MarkdownHeadingCollapsed": true,
    "tags": []
   },
   "source": [
    "#### Immutability of Tuples"
   ]
  },
  {
   "cell_type": "markdown",
   "id": "99995763-7865-4e7e-96bd-70504a683b5a",
   "metadata": {},
   "source": [
    "Tuples __cannot be modified once created__. We can clearly see from the following example, what happens when we try to change a tuple:"
   ]
  },
  {
   "cell_type": "code",
   "execution_count": 4,
   "id": "ed995c01-5a29-44e0-aacd-a3af4d6a4276",
   "metadata": {},
   "outputs": [
    {
     "ename": "TypeError",
     "evalue": "'tuple' object does not support item assignment",
     "output_type": "error",
     "traceback": [
      "\u001b[1;31m---------------------------------------------------------------------------\u001b[0m",
      "\u001b[1;31mTypeError\u001b[0m                                 Traceback (most recent call last)",
      "Input \u001b[1;32mIn [4]\u001b[0m, in \u001b[0;36m<cell line: 2>\u001b[1;34m()\u001b[0m\n\u001b[0;32m      1\u001b[0m x\u001b[38;5;241m=\u001b[39m\u001b[38;5;241m1\u001b[39m,\u001b[38;5;241m2\u001b[39m,\u001b[38;5;241m3\u001b[39m,\u001b[38;5;241m4\u001b[39m,\u001b[38;5;241m5\u001b[39m;\n\u001b[1;32m----> 2\u001b[0m \u001b[43mx\u001b[49m\u001b[43m[\u001b[49m\u001b[38;5;241;43m3\u001b[39;49m\u001b[43m]\u001b[49m\u001b[38;5;241m=\u001b[39m\u001b[38;5;241m6\u001b[39m\n",
      "\u001b[1;31mTypeError\u001b[0m: 'tuple' object does not support item assignment"
     ]
    }
   ],
   "source": [
    "x=1,2,3,4,5;\n",
    "x[3]=6"
   ]
  },
  {
   "cell_type": "markdown",
   "id": "ba51f59a-d0be-49af-b4d7-839c66e627de",
   "metadata": {},
   "source": [
    "Hence, it is clearly visible that tuple elements cannot be modified. How to modify a tuple, then ? \n",
    "\n",
    "There can be 2 ways to do it -\n",
    "- Use slicing to create a new tuple and overwrite it with the original one.\n",
    "- Create a whole new tuple with the modified value."
   ]
  },
  {
   "cell_type": "markdown",
   "id": "2d03b70a-5952-461d-a1b6-3de01cb26ea9",
   "metadata": {},
   "source": [
    "__Using Slicing__"
   ]
  },
  {
   "cell_type": "code",
   "execution_count": 18,
   "id": "9c0d22b1-8bd5-4d76-ab34-bcc717540cab",
   "metadata": {},
   "outputs": [
    {
     "data": {
      "text/plain": [
       "((1, 2, 3, 8, 6, 7), ())"
      ]
     },
     "execution_count": 18,
     "metadata": {},
     "output_type": "execute_result"
    }
   ],
   "source": [
    "x=1,2,3,4,5,6,7\n",
    "t=x[:3]+(8,)+x[5:]\n",
    "x=t\n",
    "t=()\n",
    "x,t"
   ]
  },
  {
   "cell_type": "markdown",
   "id": "8ec049f6-2ea2-4335-847c-de213a93e485",
   "metadata": {},
   "source": [
    "Here, we first sliced the tuple, and then replaced the value of the element and combined them into t. Then, we copied all the values of t into the original tuple x, and declared t as an empty tuple."
   ]
  },
  {
   "cell_type": "markdown",
   "id": "0f8694a0-e0ee-460d-a2a9-96002f263d60",
   "metadata": {},
   "source": [
    "__Creating a new variable__"
   ]
  },
  {
   "cell_type": "markdown",
   "id": "2e253385-f02e-4de4-8f66-be3b30306b35",
   "metadata": {},
   "source": [
    "This method is actually depicted above, just the difference is that we do not use the last two statements where we copy all the values of t into x and then empty the tuple t."
   ]
  },
  {
   "cell_type": "code",
   "execution_count": 21,
   "id": "d88beff6-0fd0-4a66-9235-83bd27b78c0b",
   "metadata": {},
   "outputs": [
    {
     "data": {
      "text/plain": [
       "((1, 2, 3, 12, 7), (1, 2, 3, 8, 6, 7))"
      ]
     },
     "execution_count": 21,
     "metadata": {},
     "output_type": "execute_result"
    }
   ],
   "source": [
    "temp=x[:3]+(12,)+x[5:]\n",
    "temp,x"
   ]
  },
  {
   "cell_type": "markdown",
   "id": "5391984d-9495-4df1-ab96-3af7470d3187",
   "metadata": {},
   "source": [
    "#### Packing and Unpacking of Tuples"
   ]
  },
  {
   "cell_type": "markdown",
   "id": "8744370e-b6c7-490d-a483-a17a49ee0581",
   "metadata": {},
   "source": [
    "__Packing__ is done, when we create a tuple. It is when we pack several values into one single tuple. It is what initiates making a tuple. \n",
    "\n",
    "__Unpacking__ is the absolute opposite of it. It means to split / unpack the tuple into its elements. Let us see some examples of unpacking."
   ]
  },
  {
   "cell_type": "code",
   "execution_count": 29,
   "id": "66933809-cd5f-4535-aeba-874989f5a06e",
   "metadata": {},
   "outputs": [
    {
     "data": {
      "text/plain": [
       "((1, 2, 3, 4, 5, 6, 7), tuple, 7)"
      ]
     },
     "execution_count": 29,
     "metadata": {},
     "output_type": "execute_result"
    }
   ],
   "source": [
    "tup=1,2,3,4,5,6,7; # this is packing\n",
    "tup,type(tup),len(tup)"
   ]
  },
  {
   "cell_type": "markdown",
   "id": "af7da974-db0b-4b04-9103-adda5a1cf079",
   "metadata": {},
   "source": [
    "We have packed 7 elements into a tuple. Let us now unpack the tuple. It is done in the following way:"
   ]
  },
  {
   "cell_type": "code",
   "execution_count": 36,
   "id": "067c1417-ec67-4fa4-a7b1-094efd4f1384",
   "metadata": {},
   "outputs": [
    {
     "name": "stdout",
     "output_type": "stream",
     "text": [
      "1 2 3 4 5 6 7\n",
      "<class 'int'> <class 'int'> <class 'int'>\n"
     ]
    }
   ],
   "source": [
    "(x1,x2,x3,x4,x5,x6,x7)=tup;\n",
    "print(x1,x2,x3,x4,x5,x6,x7)\n",
    "print(type(x1),type(x2),type(x3))"
   ]
  },
  {
   "cell_type": "markdown",
   "id": "76daeb10-fbbf-49de-a609-e72480284522",
   "metadata": {},
   "source": [
    "If we provide more or less elements inside the brackets, it will show __<font color=\"red\"> error ! </font>__. This is because it is used to unpack each element, not split the tuple into multiple tuples.\n",
    "\n",
    "The following examples will provide a better clarity:"
   ]
  },
  {
   "cell_type": "code",
   "execution_count": 32,
   "id": "94da1a98-e49e-4cdd-b1fe-4b7151522637",
   "metadata": {},
   "outputs": [
    {
     "ename": "ValueError",
     "evalue": "too many values to unpack (expected 3)",
     "output_type": "error",
     "traceback": [
      "\u001b[1;31m---------------------------------------------------------------------------\u001b[0m",
      "\u001b[1;31mValueError\u001b[0m                                Traceback (most recent call last)",
      "Input \u001b[1;32mIn [32]\u001b[0m, in \u001b[0;36m<cell line: 1>\u001b[1;34m()\u001b[0m\n\u001b[1;32m----> 1\u001b[0m (x,y,z)\u001b[38;5;241m=\u001b[39mtup\n",
      "\u001b[1;31mValueError\u001b[0m: too many values to unpack (expected 3)"
     ]
    }
   ],
   "source": [
    "(x,y,z)=tup"
   ]
  },
  {
   "cell_type": "code",
   "execution_count": 33,
   "id": "7991e874-af61-4a9a-99ad-21c44ed1000a",
   "metadata": {},
   "outputs": [
    {
     "ename": "ValueError",
     "evalue": "not enough values to unpack (expected 9, got 7)",
     "output_type": "error",
     "traceback": [
      "\u001b[1;31m---------------------------------------------------------------------------\u001b[0m",
      "\u001b[1;31mValueError\u001b[0m                                Traceback (most recent call last)",
      "Input \u001b[1;32mIn [33]\u001b[0m, in \u001b[0;36m<cell line: 1>\u001b[1;34m()\u001b[0m\n\u001b[1;32m----> 1\u001b[0m (x1,x2,x3,x4,x5,x6,x7,x8,x9)\u001b[38;5;241m=\u001b[39mtup\n",
      "\u001b[1;31mValueError\u001b[0m: not enough values to unpack (expected 9, got 7)"
     ]
    }
   ],
   "source": [
    "(x1,x2,x3,x4,x5,x6,x7,x8,x9)=tup"
   ]
  },
  {
   "cell_type": "markdown",
   "id": "c8bc6ac9-4864-44bb-ae28-f5ed58a71fb0",
   "metadata": {},
   "source": [
    "This was the reason of using the `len()` function in the first statement to know how many elements are there to be extracted. It is an essential part of using the function."
   ]
  },
  {
   "cell_type": "markdown",
   "id": "ac6ab42a-547b-414e-b6a3-f8a16ea9e501",
   "metadata": {
    "tags": []
   },
   "source": [
    "### Lists"
   ]
  },
  {
   "cell_type": "markdown",
   "id": "58e4c37b-df7e-4d49-a27b-00ef79c0b6f2",
   "metadata": {},
   "source": [
    "Lists are also data structures, just like tuples. They are _ordered sequence of mixed data types_, that are __mutable__, i.e. they can be modified after creation, unlike tuples. \n",
    "\n",
    "They are written enclosed in square brackets `[ ]`, and the elements inside a list can be entered using comma-separated values within these square brackets.\n",
    "\n",
    "Let us see some common examples."
   ]
  },
  {
   "cell_type": "code",
   "execution_count": 76,
   "id": "e1114385-6098-4c32-ad50-a39df95955a6",
   "metadata": {},
   "outputs": [
    {
     "name": "stdout",
     "output_type": "stream",
     "text": [
      "[1, 2, 3, 4, 5] <class 'list'>\n",
      "['str1', 'str2', 'str3', 'str4'] <class 'list'>\n",
      "[True, False, True] <class 'list'>\n",
      "[3.3, 55.6, 1.2, 81.3] <class 'list'>\n"
     ]
    }
   ],
   "source": [
    "list1=[1,2,3,4,5]\n",
    "list2=['str1','str2','str3','str4'];\n",
    "list3=[True,False,True];\n",
    "list4=[3.3,55.6,1.2,81.3];\n",
    "\n",
    "print(list1,type(list1))\n",
    "print(list2,type(list2))\n",
    "print(list3,type(list3))\n",
    "print(list4,type(list4))"
   ]
  },
  {
   "cell_type": "markdown",
   "id": "b776e835-e1a2-473c-8068-6531feaef90e",
   "metadata": {},
   "source": [
    "Lists can also have mixed data types, just like tuples. Here are some examples:"
   ]
  },
  {
   "cell_type": "code",
   "execution_count": 77,
   "id": "38980dff-e532-4ad0-9dfc-5665729ab4d9",
   "metadata": {},
   "outputs": [
    {
     "data": {
      "text/plain": [
       "(['ABCDEFG', 1, True, 3.4], [1, 2, 'Python', 3, 3.5, 6.3, True, 'Programming'])"
      ]
     },
     "execution_count": 77,
     "metadata": {},
     "output_type": "execute_result"
    }
   ],
   "source": [
    "list1=['ABCDEFG',1,True,3.4]\n",
    "list2=[1,2,'Python',3,3.5,6.3,True, 'Programming']\n",
    "\n",
    "list1,list2"
   ]
  },
  {
   "cell_type": "markdown",
   "id": "55180e4e-a3b6-4e0c-be0e-d7ec40f5d7b0",
   "metadata": {
    "jp-MarkdownHeadingCollapsed": true,
    "tags": []
   },
   "source": [
    "#### Indexing in Lists"
   ]
  },
  {
   "cell_type": "markdown",
   "id": "99385bc9-23f6-4d1b-baa7-4921f97a33ae",
   "metadata": {},
   "source": [
    "Indexing in lists are done in the same way as they are done in tuples. There is no difference; you can use negative and positive indexing.\n",
    "\n",
    "See the following examples:"
   ]
  },
  {
   "cell_type": "code",
   "execution_count": 78,
   "id": "a68e886c-b8be-4bc4-a690-5627b1c2d944",
   "metadata": {},
   "outputs": [],
   "source": [
    "list1=[1,2,'Python',True,4,6.5,7,'Programming','Good',3.4];"
   ]
  },
  {
   "cell_type": "code",
   "execution_count": 83,
   "id": "b68801b8-9c62-4ef4-a797-f8d671c109c3",
   "metadata": {},
   "outputs": [
    {
     "data": {
      "text/plain": [
       "(True, 6.5, 'Programming', 6.5)"
      ]
     },
     "execution_count": 83,
     "metadata": {},
     "output_type": "execute_result"
    }
   ],
   "source": [
    "list1[3],list1[5],list1[-3],list1[-5]"
   ]
  },
  {
   "cell_type": "markdown",
   "id": "59463fad-17b8-4b75-a55a-954b35315e2c",
   "metadata": {},
   "source": [
    "You can once again use __multiple indexing__ for the string elements here. Let us see with an example below:"
   ]
  },
  {
   "cell_type": "code",
   "execution_count": 86,
   "id": "ebb2bea3-de9d-4384-98f8-5706de8771fd",
   "metadata": {},
   "outputs": [
    {
     "data": {
      "text/plain": [
       "('o', 'm', 'o')"
      ]
     },
     "execution_count": 86,
     "metadata": {},
     "output_type": "execute_result"
    }
   ],
   "source": [
    "list1[2][4],list1[7][6],list1[-2][-3]"
   ]
  },
  {
   "cell_type": "markdown",
   "id": "1090494a-b2a2-4eb2-83e9-ba5ae10ba570",
   "metadata": {
    "jp-MarkdownHeadingCollapsed": true,
    "tags": []
   },
   "source": [
    "#### Slicing in Lists"
   ]
  },
  {
   "cell_type": "markdown",
   "id": "6a348463-6282-41da-a838-13452a3abb7e",
   "metadata": {},
   "source": [
    "Slicing in Lists is done in the same way as tuples. The following examples will depict it:"
   ]
  },
  {
   "cell_type": "code",
   "execution_count": 87,
   "id": "118ca798-7d73-418a-9f1f-a1303e4ebb95",
   "metadata": {},
   "outputs": [
    {
     "data": {
      "text/plain": [
       "([1, 2, 'Python', True, 4, 6.5],\n",
       " [4, 6.5, 7, 'Programming', 'Good', 3.4],\n",
       " [True, 6.5, 'Programming'])"
      ]
     },
     "execution_count": 87,
     "metadata": {},
     "output_type": "execute_result"
    }
   ],
   "source": [
    "list1[:6],list1[4:],list1[3:8:2]"
   ]
  },
  {
   "cell_type": "markdown",
   "id": "b5c8e9be-6a41-439b-84ba-1d314bee2e26",
   "metadata": {},
   "source": [
    "You can also use slicing and indexing together, to extract text from string elements. It is done in the following way:"
   ]
  },
  {
   "cell_type": "code",
   "execution_count": 89,
   "id": "343927b4-3f8d-445e-adb0-58ea3be05a29",
   "metadata": {},
   "outputs": [
    {
     "data": {
      "text/plain": [
       "('gramm', 'Pytho')"
      ]
     },
     "execution_count": 89,
     "metadata": {},
     "output_type": "execute_result"
    }
   ],
   "source": [
    "list1[7][3:8],list1[-8][:-1]"
   ]
  },
  {
   "cell_type": "markdown",
   "id": "490e2dc4-6c0f-41cc-a899-c4704aef5f90",
   "metadata": {
    "jp-MarkdownHeadingCollapsed": true,
    "tags": []
   },
   "source": [
    "#### Nesting Lists and Tuples"
   ]
  },
  {
   "cell_type": "markdown",
   "id": "76ca7b06-d0bb-4cd9-ba3b-5f01d224c57d",
   "metadata": {},
   "source": [
    "Lists and tuples can be nested within one another. The indexing and slicing will follow the same rules as when tuples were nested inside tuples. Let us look at some examples:"
   ]
  },
  {
   "cell_type": "markdown",
   "id": "eb797c52-b0fa-4608-978e-3290842371ff",
   "metadata": {},
   "source": [
    "__Nesting tuples inside Lists__"
   ]
  },
  {
   "cell_type": "code",
   "execution_count": 98,
   "id": "4b5923ca-a4e2-486e-9fa9-f9bdf4f48c92",
   "metadata": {},
   "outputs": [
    {
     "data": {
      "text/plain": [
       "((True, 4.5, 1, False, 'Program'), tuple)"
      ]
     },
     "execution_count": 98,
     "metadata": {},
     "output_type": "execute_result"
    }
   ],
   "source": [
    "list1=['Python','Programming',True,(True, 4.5, 1,False, 'Program'),2.4,False];\n",
    "list1[3] , type(list1[3])"
   ]
  },
  {
   "cell_type": "code",
   "execution_count": 104,
   "id": "361edfb7-e078-4423-b41a-d5796a14f81a",
   "metadata": {},
   "outputs": [
    {
     "data": {
      "text/plain": [
       "'gra'"
      ]
     },
     "execution_count": 104,
     "metadata": {},
     "output_type": "execute_result"
    }
   ],
   "source": [
    "list1[3][-1][-4:-1]"
   ]
  },
  {
   "cell_type": "markdown",
   "id": "febf93bb-548e-41cc-9c53-2c26af26e9f4",
   "metadata": {},
   "source": [
    "__Nesting lists inside Lists__"
   ]
  },
  {
   "cell_type": "code",
   "execution_count": 106,
   "id": "dc0904fe-5259-4b04-b501-20fab7045328",
   "metadata": {},
   "outputs": [
    {
     "data": {
      "text/plain": [
       "([True, 4.5, 1, False, 'Program'], list)"
      ]
     },
     "execution_count": 106,
     "metadata": {},
     "output_type": "execute_result"
    }
   ],
   "source": [
    "list1=['Python','Programming',True,[True, 4.5, 1,False, 'Program'],2.4,False];\n",
    "list1[3],type(list1[3])"
   ]
  },
  {
   "cell_type": "code",
   "execution_count": 110,
   "id": "d220b5bc-d3ee-4e7a-b324-8018bee1c715",
   "metadata": {},
   "outputs": [
    {
     "data": {
      "text/plain": [
       "'Progr'"
      ]
     },
     "execution_count": 110,
     "metadata": {},
     "output_type": "execute_result"
    }
   ],
   "source": [
    "list1[3][-1][:5]"
   ]
  },
  {
   "cell_type": "markdown",
   "id": "8cbde80e-ef90-4b4e-a5aa-19a6ec60eec4",
   "metadata": {
    "jp-MarkdownHeadingCollapsed": true,
    "tags": []
   },
   "source": [
    "#### Memberships in Lists"
   ]
  },
  {
   "cell_type": "markdown",
   "id": "304e4957-7696-4cd3-a309-7ddbd0812b33",
   "metadata": {},
   "source": [
    "The membership operators `IN` and `NOT IN` are also used with lists to navigate through them. They can be used in the same way as strings, only here, the whole element will be matched, instead of characters.\n",
    "\n",
    "The following example illustrates this:"
   ]
  },
  {
   "cell_type": "code",
   "execution_count": 111,
   "id": "734ff45e-9148-4ab9-9381-b23a2a074806",
   "metadata": {},
   "outputs": [
    {
     "data": {
      "text/plain": [
       "['Python', 'Programming', True, [True, 4.5, 1, False, 'Program'], 2.4, False]"
      ]
     },
     "execution_count": 111,
     "metadata": {},
     "output_type": "execute_result"
    }
   ],
   "source": [
    "list1"
   ]
  },
  {
   "cell_type": "code",
   "execution_count": 130,
   "id": "1c98e985-610e-46ef-b735-5794bb52e340",
   "metadata": {},
   "outputs": [
    {
     "name": "stdout",
     "output_type": "stream",
     "text": [
      "False\n",
      "True\n",
      "True\n",
      "True\n"
     ]
    }
   ],
   "source": [
    "print('Py' in list1)\n",
    "print('Py' in list1[0])\n",
    "print(False in list1[3])\n",
    "print(True in list1[3][1:])"
   ]
  },
  {
   "cell_type": "markdown",
   "id": "8be7341d-9825-4a5f-aabe-f1b5a69f074b",
   "metadata": {},
   "source": [
    "Note that the last value is coming true even though the boolean `TRUE` is not present. This is because the value 1 is present, which is its numeric form. These small things need to be considered."
   ]
  },
  {
   "cell_type": "code",
   "execution_count": 140,
   "id": "cd499238-a7d6-4355-baa9-7930891413c1",
   "metadata": {},
   "outputs": [
    {
     "name": "stdout",
     "output_type": "stream",
     "text": [
      "False\n",
      "False\n"
     ]
    }
   ],
   "source": [
    "print('Prog' not in list1[1])\n",
    "print(False not in list1)"
   ]
  },
  {
   "cell_type": "markdown",
   "id": "f55abc28-5cda-42bb-8679-131ede840a85",
   "metadata": {
    "jp-MarkdownHeadingCollapsed": true,
    "tags": []
   },
   "source": [
    "#### Operations on Lists"
   ]
  },
  {
   "cell_type": "markdown",
   "id": "2e16aeac-5983-4ef8-916e-94cfdcc084ed",
   "metadata": {},
   "source": [
    "Let us see if the basic arithmetic operations are possible with lists or not. See the following examples:"
   ]
  },
  {
   "cell_type": "markdown",
   "id": "bf18d2b6-4e26-4d5c-88e8-053932871e5d",
   "metadata": {
    "jp-MarkdownHeadingCollapsed": true,
    "tags": []
   },
   "source": [
    "##### Addition"
   ]
  },
  {
   "cell_type": "code",
   "execution_count": 143,
   "id": "c4019205-a63c-45a3-b038-e6785a228950",
   "metadata": {},
   "outputs": [
    {
     "data": {
      "text/plain": [
       "[1, 2, 3, 4, 5, 2, 3, 4, 5, 6]"
      ]
     },
     "execution_count": 143,
     "metadata": {},
     "output_type": "execute_result"
    }
   ],
   "source": [
    "list1=[1,2,3,4,5];\n",
    "list2=[2,3,4,5,6];\n",
    "\n",
    "list_new=list1+list2\n",
    "list_new"
   ]
  },
  {
   "cell_type": "markdown",
   "id": "340808f3-e381-412f-9d8c-9d2ea7e21343",
   "metadata": {},
   "source": [
    "So, basic addition with other lists is possible. Can they perform the same operation with, say tuples ? or integers and floats and booleans ? Let's see."
   ]
  },
  {
   "cell_type": "code",
   "execution_count": 144,
   "id": "8824000e-603d-4977-aeec-24532719c3b1",
   "metadata": {},
   "outputs": [
    {
     "ename": "TypeError",
     "evalue": "can only concatenate list (not \"tuple\") to list",
     "output_type": "error",
     "traceback": [
      "\u001b[1;31m---------------------------------------------------------------------------\u001b[0m",
      "\u001b[1;31mTypeError\u001b[0m                                 Traceback (most recent call last)",
      "Input \u001b[1;32mIn [144]\u001b[0m, in \u001b[0;36m<cell line: 3>\u001b[1;34m()\u001b[0m\n\u001b[0;32m      1\u001b[0m tuple1\u001b[38;5;241m=\u001b[39m\u001b[38;5;241m1\u001b[39m,\u001b[38;5;241m2\u001b[39m,\u001b[38;5;241m3\u001b[39m,\u001b[38;5;241m4\u001b[39m,\u001b[38;5;241m5\u001b[39m;\n\u001b[1;32m----> 3\u001b[0m struct_new\u001b[38;5;241m=\u001b[39m\u001b[43mlist1\u001b[49m\u001b[38;5;241;43m+\u001b[39;49m\u001b[43mtuple1\u001b[49m\n",
      "\u001b[1;31mTypeError\u001b[0m: can only concatenate list (not \"tuple\") to list"
     ]
    }
   ],
   "source": [
    "tuple1=1,2,3,4,5;\n",
    "\n",
    "struct_new=list1+tuple1"
   ]
  },
  {
   "cell_type": "markdown",
   "id": "53dbb6d3-cf31-4e13-9edd-7b411e3d7982",
   "metadata": {},
   "source": [
    "Hence, we cannot add anything other than a list to a list."
   ]
  },
  {
   "cell_type": "markdown",
   "id": "d0f5c2a1-e9ed-421c-bb91-9bfd553eed3b",
   "metadata": {
    "jp-MarkdownHeadingCollapsed": true,
    "tags": []
   },
   "source": [
    "##### Subtraction"
   ]
  },
  {
   "cell_type": "code",
   "execution_count": 145,
   "id": "d354648d-39e4-4383-b989-511a5be8e186",
   "metadata": {},
   "outputs": [
    {
     "data": {
      "text/plain": [
       "([1, 2, 3, 4, 5], [2, 3, 4, 5, 6])"
      ]
     },
     "execution_count": 145,
     "metadata": {},
     "output_type": "execute_result"
    }
   ],
   "source": [
    "list1,list2"
   ]
  },
  {
   "cell_type": "code",
   "execution_count": 146,
   "id": "a002631b-f3dc-49d0-96e2-1202b5335ce3",
   "metadata": {},
   "outputs": [
    {
     "ename": "TypeError",
     "evalue": "unsupported operand type(s) for -: 'list' and 'list'",
     "output_type": "error",
     "traceback": [
      "\u001b[1;31m---------------------------------------------------------------------------\u001b[0m",
      "\u001b[1;31mTypeError\u001b[0m                                 Traceback (most recent call last)",
      "Input \u001b[1;32mIn [146]\u001b[0m, in \u001b[0;36m<cell line: 1>\u001b[1;34m()\u001b[0m\n\u001b[1;32m----> 1\u001b[0m \u001b[43mlist2\u001b[49m\u001b[38;5;241;43m-\u001b[39;49m\u001b[43mlist1\u001b[49m\n",
      "\u001b[1;31mTypeError\u001b[0m: unsupported operand type(s) for -: 'list' and 'list'"
     ]
    }
   ],
   "source": [
    "list2-list1"
   ]
  },
  {
   "cell_type": "markdown",
   "id": "e584722c-2e9c-4439-83b9-42842db11152",
   "metadata": {},
   "source": [
    "Hence, we cannot subtract two lists. Similarily, division, exponential, floor division, and modulus operations are not compatible with lists as well."
   ]
  },
  {
   "cell_type": "markdown",
   "id": "111ac6da-2e2d-42e3-9d20-78f9dbcc530f",
   "metadata": {},
   "source": [
    "##### Multiplication"
   ]
  },
  {
   "cell_type": "markdown",
   "id": "3b57beb1-4506-475c-b906-1a475aeeae79",
   "metadata": {},
   "source": [
    "Again, just like tuples, lists can only be multiplied by integers, in which case, it will act as a repetition operator. Let us see an example:"
   ]
  },
  {
   "cell_type": "code",
   "execution_count": 150,
   "id": "9b59a5b7-757e-4398-b20f-cf32b3b8f388",
   "metadata": {},
   "outputs": [
    {
     "data": {
      "text/plain": [
       "([1, 2, 3, 4, 5], [1, 2, 3, 4, 5, 1, 2, 3, 4, 5, 1, 2, 3, 4, 5])"
      ]
     },
     "execution_count": 150,
     "metadata": {},
     "output_type": "execute_result"
    }
   ],
   "source": [
    "list1,list1*3"
   ]
  },
  {
   "cell_type": "code",
   "execution_count": 151,
   "id": "59aa3485-413f-4856-90d9-01b5d3d03e56",
   "metadata": {},
   "outputs": [
    {
     "ename": "TypeError",
     "evalue": "can't multiply sequence by non-int of type 'list'",
     "output_type": "error",
     "traceback": [
      "\u001b[1;31m---------------------------------------------------------------------------\u001b[0m",
      "\u001b[1;31mTypeError\u001b[0m                                 Traceback (most recent call last)",
      "Input \u001b[1;32mIn [151]\u001b[0m, in \u001b[0;36m<cell line: 1>\u001b[1;34m()\u001b[0m\n\u001b[1;32m----> 1\u001b[0m \u001b[43mlist1\u001b[49m\u001b[38;5;241;43m*\u001b[39;49m\u001b[43mlist2\u001b[49m\n",
      "\u001b[1;31mTypeError\u001b[0m: can't multiply sequence by non-int of type 'list'"
     ]
    }
   ],
   "source": [
    "list1*list2"
   ]
  },
  {
   "cell_type": "markdown",
   "id": "160aeac8-6d75-417f-811b-4008ba974730",
   "metadata": {},
   "source": [
    "Hence proved ! Only the integer types can be multiplied by lists."
   ]
  },
  {
   "cell_type": "markdown",
   "id": "1047b2f9-e4b8-47af-ac72-9e405c0c568c",
   "metadata": {},
   "source": [
    "#### Modification of Lists"
   ]
  },
  {
   "cell_type": "markdown",
   "id": "7a401c32-4cda-45a6-b5d1-370fb2d431b8",
   "metadata": {},
   "source": [
    "As discussed before, the key difference between a __<font color=\"#000080\">list</font>__ and a __<font color=\"#000080\">tuple</font>__ is that __lists are mutable__, and hence, provide a greater flexibility to us.\n",
    "\n",
    "Let us see all the ways in which we can modify lists."
   ]
  },
  {
   "cell_type": "markdown",
   "id": "058777ed-3f76-40ae-a7f9-3e823d5fadff",
   "metadata": {
    "jp-MarkdownHeadingCollapsed": true,
    "tags": []
   },
   "source": [
    "##### 1. Replacing an element"
   ]
  },
  {
   "cell_type": "markdown",
   "id": "c759a5b7-bfd9-487a-8b0b-7409c034205a",
   "metadata": {},
   "source": [
    "You can replace an element inside a list using a very simple assignment expression. Just use indexing to point to the element, and assign the new value to it. Here is an example:"
   ]
  },
  {
   "cell_type": "code",
   "execution_count": 163,
   "id": "a7ea9a70-b817-42f4-9480-af3d7f7fe57d",
   "metadata": {},
   "outputs": [
    {
     "data": {
      "text/plain": [
       "['Physics', 'Chemistry', 'Mathematics', 'Biology']"
      ]
     },
     "execution_count": 163,
     "metadata": {},
     "output_type": "execute_result"
    }
   ],
   "source": [
    "list1=['Physics','Chemistry','Mathematics','Biology']\n",
    "list1"
   ]
  },
  {
   "cell_type": "code",
   "execution_count": 164,
   "id": "ebc9aac9-42c8-49cd-a647-b1aef40616e3",
   "metadata": {},
   "outputs": [
    {
     "data": {
      "text/plain": [
       "['Physics', 'Chemistry', 'Mathematics', 'Computer Science']"
      ]
     },
     "execution_count": 164,
     "metadata": {},
     "output_type": "execute_result"
    }
   ],
   "source": [
    "list1[-1]='Computer Science'\n",
    "list1"
   ]
  },
  {
   "cell_type": "markdown",
   "id": "9d3f0908-0930-4007-810a-c80fd1600dcb",
   "metadata": {},
   "source": [
    "Hence, the element in the list is changed. It became very simple. Now a simple question :\n",
    "\n",
    "__If a tuple is an element of a list, and you want to modify the element of the tuple, will you be able to do it?__\n",
    "\n",
    "Let us look at an example for this."
   ]
  },
  {
   "cell_type": "code",
   "execution_count": 158,
   "id": "7465bbeb-6226-4db4-88ef-4f902b105cd4",
   "metadata": {},
   "outputs": [
    {
     "data": {
      "text/plain": [
       "['Oranges',\n",
       " 'Mangoes',\n",
       " 'Bananas',\n",
       " ('Green Apples', 'Black Apples', 'Red Apples'),\n",
       " 'Grapes']"
      ]
     },
     "execution_count": 158,
     "metadata": {},
     "output_type": "execute_result"
    }
   ],
   "source": [
    "list2=['Oranges','Mangoes','Bananas',('Green Apples','Black Apples','Red Apples'),'Grapes']\n",
    "list2"
   ]
  },
  {
   "cell_type": "markdown",
   "id": "45a48a67-8e7d-44f8-ac90-d8aa12d4e827",
   "metadata": {},
   "source": [
    "We have a tuple at the index `-2`. Let's see if we can change its elements using multiple indexing and a simple assignment statement:"
   ]
  },
  {
   "cell_type": "code",
   "execution_count": 159,
   "id": "92c119e1-5958-4de0-8091-c955801b51d7",
   "metadata": {},
   "outputs": [
    {
     "ename": "TypeError",
     "evalue": "'types.GenericAlias' object does not support item assignment",
     "output_type": "error",
     "traceback": [
      "\u001b[1;31m---------------------------------------------------------------------------\u001b[0m",
      "\u001b[1;31mTypeError\u001b[0m                                 Traceback (most recent call last)",
      "Input \u001b[1;32mIn [159]\u001b[0m, in \u001b[0;36m<cell line: 1>\u001b[1;34m()\u001b[0m\n\u001b[1;32m----> 1\u001b[0m \u001b[38;5;28;43mlist\u001b[39;49m\u001b[43m[\u001b[49m\u001b[38;5;241;43m-\u001b[39;49m\u001b[38;5;241;43m2\u001b[39;49m\u001b[43m]\u001b[49m\u001b[43m[\u001b[49m\u001b[38;5;241;43m0\u001b[39;49m\u001b[43m]\u001b[49m\u001b[38;5;241m=\u001b[39m\u001b[38;5;124m'\u001b[39m\u001b[38;5;124mGreenApples\u001b[39m\u001b[38;5;124m'\u001b[39m\n",
      "\u001b[1;31mTypeError\u001b[0m: 'types.GenericAlias' object does not support item assignment"
     ]
    }
   ],
   "source": [
    "list[-2][0]='GreenApples'"
   ]
  },
  {
   "cell_type": "markdown",
   "id": "95da4035-c6ac-4a0b-9b41-3e27df7b6942",
   "metadata": {},
   "source": [
    "So, __<font color=\"red\"> No!__, we cannot modify an element of a tuple that is nested inside a list."
   ]
  },
  {
   "cell_type": "markdown",
   "id": "ece1d0af-58da-4ffe-b4da-27c2bf87bb36",
   "metadata": {
    "jp-MarkdownHeadingCollapsed": true,
    "tags": []
   },
   "source": [
    "##### 2. Adding Elements to list"
   ]
  },
  {
   "cell_type": "markdown",
   "id": "69e42615-5d6a-41ab-9013-ea184b2ff047",
   "metadata": {},
   "source": [
    "To add elements to a list, we can use a simple addition (+) operator. However, there is a function of `extend()`, that is used to add elements in a list. Remember, even if you are adding a single value, you need to add it within square brackets inside the parenthesis of the function. "
   ]
  },
  {
   "cell_type": "code",
   "execution_count": 160,
   "id": "a3aa23eb-6308-4614-9eee-19ef21341f4e",
   "metadata": {},
   "outputs": [
    {
     "data": {
      "text/plain": [
       "['Physics', 'Chemistry', 'Mathematics', 'Computer Science']"
      ]
     },
     "execution_count": 160,
     "metadata": {},
     "output_type": "execute_result"
    }
   ],
   "source": [
    "list1"
   ]
  },
  {
   "cell_type": "code",
   "execution_count": 165,
   "id": "79302e39-792b-4820-a716-210f9f68473d",
   "metadata": {},
   "outputs": [
    {
     "data": {
      "text/plain": [
       "['Physics',\n",
       " 'Chemistry',\n",
       " 'Mathematics',\n",
       " 'Computer Science',\n",
       " 'Biology',\n",
       " 'Physical Education',\n",
       " 'General Studies']"
      ]
     },
     "execution_count": 165,
     "metadata": {},
     "output_type": "execute_result"
    }
   ],
   "source": [
    "list1.extend(['Biology','Physical Education','General Studies'])\n",
    "list1"
   ]
  },
  {
   "cell_type": "markdown",
   "id": "b6a111d7-7fc3-4e87-9e6d-3a505fed4d64",
   "metadata": {},
   "source": [
    "However, if you don't put square brackets, then each character of a string will become an element of the list. It can be depicted below - "
   ]
  },
  {
   "cell_type": "code",
   "execution_count": 166,
   "id": "754d00b6-da3b-4679-a1a1-a455a7a66c8c",
   "metadata": {},
   "outputs": [
    {
     "data": {
      "text/plain": [
       "['Physics',\n",
       " 'Chemistry',\n",
       " 'Mathematics',\n",
       " 'Computer Science',\n",
       " 'Biology',\n",
       " 'Physical Education',\n",
       " 'General Studies',\n",
       " 'S',\n",
       " 'p',\n",
       " 'o',\n",
       " 'r',\n",
       " 't',\n",
       " 's']"
      ]
     },
     "execution_count": 166,
     "metadata": {},
     "output_type": "execute_result"
    }
   ],
   "source": [
    "list1.extend('Sports')\n",
    "list1"
   ]
  },
  {
   "cell_type": "markdown",
   "id": "8b162a32-197a-401c-97b5-ce7cbcea74ff",
   "metadata": {},
   "source": [
    "Hence, it is important to add square brackets for the `extend()` function."
   ]
  },
  {
   "cell_type": "markdown",
   "id": "527b5a53-daa5-48fe-bf2b-7a70ab5cff22",
   "metadata": {},
   "source": [
    "There is another function `append()` that is used to add elements to the end of a list. In this function, you __need not put the square brackets__ inside the parenthesis, as it will take each comma separated entry as an element. If you want to nest a tuple or a list inside the list, then you can use the square brackets. \n",
    "\n",
    "This function adds a _single element_ at the end of the list. You __cannot add more than one element at a time__ with this function. Let us see an example of this -"
   ]
  },
  {
   "cell_type": "code",
   "execution_count": 168,
   "id": "69ef4e8e-f9dc-4c1d-b981-2f001479cecc",
   "metadata": {},
   "outputs": [
    {
     "data": {
      "text/plain": [
       "['Python', 'Programming', True, (True, 4.5, 1, False, 'Program'), 2.4, False]"
      ]
     },
     "execution_count": 168,
     "metadata": {},
     "output_type": "execute_result"
    }
   ],
   "source": [
    "list1=['Python','Programming',True,(True, 4.5, 1,False, 'Program'),2.4,False];\n",
    "list1"
   ]
  },
  {
   "cell_type": "code",
   "execution_count": 170,
   "id": "a2b0d139-9663-446a-91f7-0fa2debbf863",
   "metadata": {},
   "outputs": [
    {
     "data": {
      "text/plain": [
       "['Python',\n",
       " 'Programming',\n",
       " True,\n",
       " (True, 4.5, 1, False, 'Program'),\n",
       " 2.4,\n",
       " False,\n",
       " 'Fun']"
      ]
     },
     "execution_count": 170,
     "metadata": {},
     "output_type": "execute_result"
    }
   ],
   "source": [
    "list1.append('Fun')\n",
    "list1"
   ]
  },
  {
   "cell_type": "markdown",
   "id": "e39a3a1d-95c6-4dcb-864d-79dfadc79712",
   "metadata": {},
   "source": [
    "Now, if you want to add a list, or a tuple inside the list, then you can use the square brackets [ ] in the append() function. Let us see:"
   ]
  },
  {
   "cell_type": "code",
   "execution_count": 171,
   "id": "8845de82-283b-49b5-895d-656c8e102d81",
   "metadata": {},
   "outputs": [
    {
     "data": {
      "text/plain": [
       "['Python',\n",
       " 'Programming',\n",
       " True,\n",
       " (True, 4.5, 1, False, 'Program'),\n",
       " 2.4,\n",
       " False,\n",
       " 'Fun',\n",
       " ['list1', 'list2', 3, 4, 6]]"
      ]
     },
     "execution_count": 171,
     "metadata": {},
     "output_type": "execute_result"
    }
   ],
   "source": [
    "list1.append(['list1','list2',3,4,6])\n",
    "list1"
   ]
  },
  {
   "cell_type": "markdown",
   "id": "32e68c07-2ede-436c-8cd4-6e7b1d69dcc2",
   "metadata": {},
   "source": [
    "As you can see, the entries are all inserted as a nested list inside the list. The same syntax with the `extend()` function inserts them as elements."
   ]
  },
  {
   "cell_type": "markdown",
   "id": "a9419526-0fde-4f08-bb57-bfa03df723ce",
   "metadata": {
    "tags": []
   },
   "source": [
    "##### 3. Deleting elements from List"
   ]
  },
  {
   "cell_type": "markdown",
   "id": "ca5babda-871f-4f3c-89f4-80191a927630",
   "metadata": {},
   "source": [
    "For deleting elements from your list, you can use several functions. There is a keyword `del` that is used for this purpose only. It can be used to delete the whole list, or a part of the list using indexing and slicing.\n",
    "\n",
    "Let us look at some examples - "
   ]
  },
  {
   "cell_type": "code",
   "execution_count": 172,
   "id": "fa20dcb0-43b5-4c63-8026-24811ebc95e5",
   "metadata": {},
   "outputs": [
    {
     "data": {
      "text/plain": [
       "['Python',\n",
       " 'Programming',\n",
       " True,\n",
       " (True, 4.5, 1, False, 'Program'),\n",
       " 2.4,\n",
       " False,\n",
       " 'Fun',\n",
       " ['list1', 'list2', 3, 4, 6]]"
      ]
     },
     "execution_count": 172,
     "metadata": {},
     "output_type": "execute_result"
    }
   ],
   "source": [
    "list1"
   ]
  },
  {
   "cell_type": "code",
   "execution_count": 173,
   "id": "8a6a7c5c-31f3-4386-8e1a-d4d4473ecc33",
   "metadata": {},
   "outputs": [
    {
     "data": {
      "text/plain": [
       "['Python',\n",
       " 'Programming',\n",
       " True,\n",
       " (True, 4.5, 1, False, 'Program'),\n",
       " 2.4,\n",
       " False,\n",
       " 'Fun']"
      ]
     },
     "execution_count": 173,
     "metadata": {},
     "output_type": "execute_result"
    }
   ],
   "source": [
    "del list1[-1]\n",
    "list1"
   ]
  },
  {
   "cell_type": "code",
   "execution_count": 175,
   "id": "87cf1974-6b59-4432-9d37-15749a6ba410",
   "metadata": {},
   "outputs": [
    {
     "data": {
      "text/plain": [
       "['Python', 'Programming', True, False, 'Fun']"
      ]
     },
     "execution_count": 175,
     "metadata": {},
     "output_type": "execute_result"
    }
   ],
   "source": [
    "del list1[-4:-2]\n",
    "list1"
   ]
  },
  {
   "cell_type": "markdown",
   "id": "b06154d3-4388-4b58-a554-145cfde2a537",
   "metadata": {},
   "source": [
    "There are other ways to delete an element from a list. One of them is using the `pop()` function that removes the element specified from its index from the list. By default, it removes the last element.\n",
    "\n",
    "Let us see an example:"
   ]
  },
  {
   "cell_type": "code",
   "execution_count": 176,
   "id": "c7205028-602f-4ff3-a2c1-4eeaa5a4f0cc",
   "metadata": {},
   "outputs": [
    {
     "data": {
      "text/plain": [
       "['Python', 'Programming', True, False]"
      ]
     },
     "execution_count": 176,
     "metadata": {},
     "output_type": "execute_result"
    }
   ],
   "source": [
    "list1.pop()\n",
    "list1"
   ]
  },
  {
   "cell_type": "markdown",
   "id": "afb86b3f-8fb8-4cbb-9892-487246d69032",
   "metadata": {},
   "source": [
    "There is another function called `remove()` that is used to remove a specific element from the list. You have to give the value of the element as parameter of this function. \n",
    "\n",
    "Here is an example -"
   ]
  },
  {
   "cell_type": "code",
   "execution_count": 177,
   "id": "c07ba29a-b082-406f-9bb8-1984591b8ca7",
   "metadata": {},
   "outputs": [
    {
     "data": {
      "text/plain": [
       "['Python', 'Programming', False]"
      ]
     },
     "execution_count": 177,
     "metadata": {},
     "output_type": "execute_result"
    }
   ],
   "source": [
    "list1.remove(True)\n",
    "list1"
   ]
  },
  {
   "cell_type": "markdown",
   "id": "5d3420a8-e926-4b7a-854d-fb8009911341",
   "metadata": {
    "tags": []
   },
   "source": [
    "##### 4. Sorting a List"
   ]
  },
  {
   "cell_type": "markdown",
   "id": "4774414e-7d05-474c-a8d1-35a5d19728b8",
   "metadata": {},
   "source": [
    "We already saw the `sorted()` function for tuples. However, lists use the `sort()` function for sorting. Also, you can provide a parameter inside the parenthesis for `Reverse=TRUE` to enable sorting in reverse order.\n",
    "\n",
    "Let us look at an example -"
   ]
  },
  {
   "cell_type": "code",
   "execution_count": 180,
   "id": "86b613e7-3984-49aa-88b3-5adc190a195f",
   "metadata": {},
   "outputs": [
    {
     "data": {
      "text/plain": [
       "['Oranges', 'Mangoes', 'Bananas', 'Grapes']"
      ]
     },
     "execution_count": 180,
     "metadata": {},
     "output_type": "execute_result"
    }
   ],
   "source": [
    "list2"
   ]
  },
  {
   "cell_type": "markdown",
   "id": "d93a3b99-c740-410e-bb9b-a85054a8c88a",
   "metadata": {},
   "source": [
    "Now, let us use the `sort()` function. "
   ]
  },
  {
   "cell_type": "code",
   "execution_count": 182,
   "id": "6ae3040d-ef9f-46fa-a3e7-c74df960b9d6",
   "metadata": {},
   "outputs": [],
   "source": [
    "list2.sort()"
   ]
  },
  {
   "cell_type": "markdown",
   "id": "5f08f145-178e-4659-ae0f-4fe31faf8e7a",
   "metadata": {},
   "source": [
    "This function does not return any value, and simply sorts the list, and stores the sorted list in the original list."
   ]
  },
  {
   "cell_type": "code",
   "execution_count": 183,
   "id": "7b255434-2b79-4f8f-8ebf-fd3c24d175a9",
   "metadata": {},
   "outputs": [
    {
     "data": {
      "text/plain": [
       "['Bananas', 'Grapes', 'Mangoes', 'Oranges']"
      ]
     },
     "execution_count": 183,
     "metadata": {},
     "output_type": "execute_result"
    }
   ],
   "source": [
    "list2"
   ]
  },
  {
   "cell_type": "markdown",
   "id": "06dc147b-7d17-4a93-9bc9-745e39c2ec86",
   "metadata": {},
   "source": [
    "Here is the sorted list. If you want to sort by reverse order, then do this:"
   ]
  },
  {
   "cell_type": "code",
   "execution_count": 188,
   "id": "26933be4-3372-4787-8586-9a000f0a3595",
   "metadata": {},
   "outputs": [
    {
     "data": {
      "text/plain": [
       "['Oranges', 'Mangoes', 'Grapes', 'Bananas']"
      ]
     },
     "execution_count": 188,
     "metadata": {},
     "output_type": "execute_result"
    }
   ],
   "source": [
    "list2.sort(reverse=True);\n",
    "list2"
   ]
  },
  {
   "cell_type": "markdown",
   "id": "d893af68-2b0d-4c7c-b3fd-2c0d0bf9bb8d",
   "metadata": {},
   "source": [
    "__`Sort()` vs `Sorted()` Functions__"
   ]
  },
  {
   "cell_type": "markdown",
   "id": "d68fcf92-4c41-46e6-96d3-c062ab838212",
   "metadata": {},
   "source": [
    "Both the functions perform the same job, but their method of sorting is different. \n",
    "\n",
    "The `sort()` method sorts the list on the basis of ASCII values, and it overwrites the original list with the sorted list. This function does not return anything, and hence, assigning it to any variable won't be of any use.\n",
    "\n",
    "In case you want to preserve the original list, we use the `sorted()` function. This function takes any iterable object (Strings and Data Structures) as parameters, and returns the sorted list. It does not overwrite the original list. Hence, you can assign this to a variable."
   ]
  },
  {
   "cell_type": "code",
   "execution_count": 189,
   "id": "08591cbc-0198-4dbc-91ba-4890277c7b2e",
   "metadata": {},
   "outputs": [],
   "source": [
    "list1=['Oranges','Guavas,','Grapes','Pineapples','Bananas','Cherries','Apples']"
   ]
  },
  {
   "cell_type": "markdown",
   "id": "7e7ab447-f7fa-4896-9b2f-5f2d82028017",
   "metadata": {},
   "source": [
    "_Using the `sorted()` function_"
   ]
  },
  {
   "cell_type": "code",
   "execution_count": 193,
   "id": "52e3d236-f06c-4054-a690-303415d1d7c6",
   "metadata": {},
   "outputs": [
    {
     "name": "stdout",
     "output_type": "stream",
     "text": [
      "Sorted list:  ['Apples', 'Bananas', 'Cherries', 'Grapes', 'Guavas,', 'Oranges', 'Pineapples']\n",
      "Original List:  ['Oranges', 'Guavas,', 'Grapes', 'Pineapples', 'Bananas', 'Cherries', 'Apples']\n"
     ]
    }
   ],
   "source": [
    "list2=sorted(list1);\n",
    "print('Sorted list: ',list2)\n",
    "print('Original List: ',list1)"
   ]
  },
  {
   "cell_type": "markdown",
   "id": "a21eb338-1383-4c9e-870f-d18938927ec4",
   "metadata": {},
   "source": [
    "It is important to remember that the `sorted()` function supports __only those data structures that have all the elements of the same data type__. "
   ]
  },
  {
   "cell_type": "markdown",
   "id": "022ecd9d-a2e8-492a-a1e8-ac8388e898c0",
   "metadata": {},
   "source": [
    "_Using the `sort()` function_"
   ]
  },
  {
   "cell_type": "code",
   "execution_count": 194,
   "id": "1f5ba8df-ce2c-4371-aa50-6c1fc5aa21ff",
   "metadata": {},
   "outputs": [
    {
     "name": "stdout",
     "output_type": "stream",
     "text": [
      "Sorted list:  None\n",
      "Original List:  ['Apples', 'Bananas', 'Cherries', 'Grapes', 'Guavas,', 'Oranges', 'Pineapples']\n"
     ]
    }
   ],
   "source": [
    "list3=list1.sort()\n",
    "print('Sorted list: ',list3)\n",
    "print('Original List: ',list1)"
   ]
  },
  {
   "cell_type": "markdown",
   "id": "4c82de5e-c464-441b-8ac0-1b6b74ca6158",
   "metadata": {},
   "source": [
    "Hence, you can see the difference between the two functions !"
   ]
  },
  {
   "cell_type": "markdown",
   "id": "ab11d16d-66c7-4f5b-9a5b-0d5ff1de6564",
   "metadata": {},
   "source": [
    "##### Shallow Copying"
   ]
  },
  {
   "cell_type": "markdown",
   "id": "fb296310-5925-4907-b650-d2eae38bdd28",
   "metadata": {},
   "source": [
    "When you use the = operator in an assignment statement, you copy the address of the object on the right to the object on the left. \n",
    "When this is a literal (number, bool, string etc), it does not matter. But, when it is a variable in itself, then it becomes a problem. \n",
    "\n",
    "Consider the following statement - "
   ]
  },
  {
   "cell_type": "code",
   "execution_count": 195,
   "id": "f7713435-6721-4fd0-b694-d11e219b829b",
   "metadata": {},
   "outputs": [],
   "source": [
    "A=['Guava','Oranges','Mangoes']\n",
    "B=A"
   ]
  },
  {
   "cell_type": "markdown",
   "id": "b18290c9-f949-4efa-85bb-79ab93592c2a",
   "metadata": {},
   "source": [
    "Here, we have copied the memory address of A into B. Hence, essentially, they are the same object, having two different names. What happens when we modify any one of them?"
   ]
  },
  {
   "cell_type": "code",
   "execution_count": 196,
   "id": "9ec9f571-03cc-4369-8f61-68a3c4e84ccc",
   "metadata": {},
   "outputs": [],
   "source": [
    "A[0]='Apples'"
   ]
  },
  {
   "cell_type": "markdown",
   "id": "552dea50-a5bc-4b23-b3e0-e9d84ca4a1f6",
   "metadata": {},
   "source": [
    "Let us see the output of both A and B."
   ]
  },
  {
   "cell_type": "code",
   "execution_count": 198,
   "id": "3208f668-7605-4cf2-a1a0-8ff20bbe3933",
   "metadata": {},
   "outputs": [
    {
     "name": "stdout",
     "output_type": "stream",
     "text": [
      "['Apples', 'Oranges', 'Mangoes']\n",
      "['Apples', 'Oranges', 'Mangoes']\n"
     ]
    }
   ],
   "source": [
    "print(A)\n",
    "print(B)"
   ]
  },
  {
   "cell_type": "markdown",
   "id": "1bc617dc-6d46-404e-b29b-bcfcdbe8c4e5",
   "metadata": {},
   "source": [
    "Here, you can see that even though we changed the value of A only, the value of B also changed. This is because the variables are sharing the memory address of the same object. If B is modified, then A will also be modified."
   ]
  },
  {
   "cell_type": "markdown",
   "id": "115d920a-9cca-468f-abaf-2f05b7d6d405",
   "metadata": {},
   "source": [
    "To avoid this, we use a concept called __Shallow Copying__. Here, we use the slicing syntax to create a separate object as a copy of the original subject, so that it has different memory address assigned to it."
   ]
  },
  {
   "cell_type": "code",
   "execution_count": 199,
   "id": "8d16993c-59df-4e85-bef5-c4882ed5157a",
   "metadata": {},
   "outputs": [],
   "source": [
    "B=A[:]"
   ]
  },
  {
   "cell_type": "markdown",
   "id": "75472ae6-d2b2-4420-a1c8-eacda10fa862",
   "metadata": {},
   "source": [
    "Now, let us see both lists first."
   ]
  },
  {
   "cell_type": "code",
   "execution_count": 201,
   "id": "8be1e126-c7ad-4e34-835c-66829a913b4b",
   "metadata": {},
   "outputs": [
    {
     "name": "stdout",
     "output_type": "stream",
     "text": [
      "['Apples', 'Oranges', 'Mangoes']\n",
      "['Apples', 'Oranges', 'Mangoes']\n"
     ]
    }
   ],
   "source": [
    "print(A)\n",
    "print(B)"
   ]
  },
  {
   "cell_type": "markdown",
   "id": "c637f9a9-e9d6-4d61-b5c5-6de0ca98a34a",
   "metadata": {},
   "source": [
    "Currently, they are the same. Let us modify the list B. "
   ]
  },
  {
   "cell_type": "code",
   "execution_count": 202,
   "id": "c295e300-e64b-4ffb-86b9-59c2991c7e9e",
   "metadata": {},
   "outputs": [],
   "source": [
    "B[2]='Cherries'"
   ]
  },
  {
   "cell_type": "markdown",
   "id": "d52a5ef1-c277-4cf5-8657-9a313d4320fd",
   "metadata": {},
   "source": [
    "Now, let us see if both of them are modified, or only one of them is."
   ]
  },
  {
   "cell_type": "code",
   "execution_count": 203,
   "id": "c4cbed93-2c02-4081-8f60-f8f346d4537d",
   "metadata": {},
   "outputs": [
    {
     "name": "stdout",
     "output_type": "stream",
     "text": [
      "['Apples', 'Oranges', 'Mangoes']\n",
      "['Apples', 'Oranges', 'Cherries']\n"
     ]
    }
   ],
   "source": [
    "print(A)\n",
    "print(B)"
   ]
  },
  {
   "cell_type": "markdown",
   "id": "6eefab62-c33f-4099-9e20-de8618000f5d",
   "metadata": {},
   "source": [
    "Here you go ! Our copy is created here. This is a very useful concept, when you want to perform certain operations on a list, but also want to retain the original one.\n",
    "\n",
    "The following image will help in understanding it better - \n",
    "\n",
    "<img src=\"https://images.upgrad.com/dcce0524-383d-47e6-8d29-febd498a62af-Shallow%20and%20Deep%20Copying.png\" width=\"70%\" height=\"auto\" style=\"margin:0 auto\">"
   ]
  },
  {
   "cell_type": "code",
   "execution_count": null,
   "id": "0bc80f94-b39a-4086-8fd4-fb344b60c539",
   "metadata": {},
   "outputs": [],
   "source": []
  },
  {
   "cell_type": "code",
   "execution_count": null,
   "id": "d4a7463a-5855-4a5a-98f7-313a1d7a19c9",
   "metadata": {},
   "outputs": [],
   "source": []
  },
  {
   "cell_type": "code",
   "execution_count": null,
   "id": "9975df4d-0bc0-476b-a8a1-34790cad4fea",
   "metadata": {},
   "outputs": [],
   "source": []
  }
 ],
 "metadata": {
  "kernelspec": {
   "display_name": "Python 3 (ipykernel)",
   "language": "python",
   "name": "python3"
  },
  "language_info": {
   "codemirror_mode": {
    "name": "ipython",
    "version": 3
   },
   "file_extension": ".py",
   "mimetype": "text/x-python",
   "name": "python",
   "nbconvert_exporter": "python",
   "pygments_lexer": "ipython3",
   "version": "3.10.5"
  }
 },
 "nbformat": 4,
 "nbformat_minor": 5
}

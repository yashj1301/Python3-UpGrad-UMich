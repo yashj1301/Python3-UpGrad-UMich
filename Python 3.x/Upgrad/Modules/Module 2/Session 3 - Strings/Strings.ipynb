{
 "cells": [
  {
   "cell_type": "markdown",
   "id": "5f388736-0d22-4e82-ad11-2a9ca0766129",
   "metadata": {},
   "source": [
    "## Pseudo Code for Strings"
   ]
  },
  {
   "cell_type": "markdown",
   "id": "d635cbb3-c3f8-4ea2-a4b3-e33f36374417",
   "metadata": {
    "jp-MarkdownHeadingCollapsed": true,
    "tags": []
   },
   "source": [
    "#### Reversing Words"
   ]
  },
  {
   "cell_type": "code",
   "execution_count": 45,
   "id": "434c03fd-7784-4d42-96bb-0aa3c6781b08",
   "metadata": {},
   "outputs": [
    {
     "name": "stdin",
     "output_type": "stream",
     "text": [
      "Enter the string:  basilichi\n"
     ]
    },
    {
     "name": "stdout",
     "output_type": "stream",
     "text": [
      "\n",
      "Original Word: basilichi\n",
      "Reverse  Word: ihcilisab\n"
     ]
    }
   ],
   "source": [
    "string=input('Enter the string: ')\n",
    "print()\n",
    "print('Original Word: {}\\nReverse  Word: {}'.format(string,string[-1::-1]))"
   ]
  },
  {
   "cell_type": "code",
   "execution_count": 48,
   "id": "0bb99203-948a-4e15-b7fe-ea4a351944b1",
   "metadata": {},
   "outputs": [
    {
     "name": "stdout",
     "output_type": "stream",
     "text": [
      "Original Word: basilichi\n",
      "Reverse  Word: ihcilisab\n"
     ]
    }
   ],
   "source": [
    "from functools import reduce\n",
    "print('Original Word: {}\\nReverse  Word: {}'.format(string,reduce(lambda x,y:y+x,string)))"
   ]
  },
  {
   "cell_type": "markdown",
   "id": "2703aab2-e60a-4367-8aca-429fc0f99cad",
   "metadata": {
    "jp-MarkdownHeadingCollapsed": true,
    "tags": []
   },
   "source": [
    "#### Palindrome"
   ]
  },
  {
   "cell_type": "code",
   "execution_count": 63,
   "id": "9fb29865-e616-48cc-bbd5-283144d789d2",
   "metadata": {},
   "outputs": [
    {
     "name": "stdin",
     "output_type": "stream",
     "text": [
      "Enter the string:  racecar\n"
     ]
    },
    {
     "name": "stdout",
     "output_type": "stream",
     "text": [
      "\n",
      "The given string [racecar] is Palindrome\n"
     ]
    }
   ],
   "source": [
    "string=input('Enter the string: ')\n",
    "print()\n",
    "print('The given string [{}] is Palindrome'.format(string) if string.lower()==string.lower()[-1::-1] else \n",
    "      'The given string [{}] is Not Palindrome'.format(string))"
   ]
  },
  {
   "cell_type": "markdown",
   "id": "765b0f1c-5c4b-43e3-86a1-a8a4a7107734",
   "metadata": {
    "jp-MarkdownHeadingCollapsed": true,
    "tags": []
   },
   "source": [
    "#### Reversing a Sentence"
   ]
  },
  {
   "cell_type": "code",
   "execution_count": 65,
   "id": "d73f86a1-8924-481c-962b-04fddcd0c07b",
   "metadata": {},
   "outputs": [
    {
     "name": "stdin",
     "output_type": "stream",
     "text": [
      "enter the sentence: I love coding\n"
     ]
    },
    {
     "name": "stdout",
     "output_type": "stream",
     "text": [
      "\n",
      "Actual  Sentence: I love coding\n",
      "Reverse Sentence: coding love I\n"
     ]
    }
   ],
   "source": [
    "string=input('enter the sentence:')\n",
    "print()\n",
    "from functools import reduce\n",
    "print('Actual  Sentence: {}\\nReverse Sentence: {}'.format(string,\n",
    "                                                         reduce(lambda x,y: x+' '+y,string.split(' ')[-1::-1])))"
   ]
  },
  {
   "cell_type": "code",
   "execution_count": 66,
   "id": "cd6c3963-ec96-4537-98e6-35ebcf62d786",
   "metadata": {},
   "outputs": [
    {
     "name": "stdout",
     "output_type": "stream",
     "text": [
      "Actual  Sentence: I love coding\n",
      "Reverse Sentence: coding love I\n"
     ]
    }
   ],
   "source": [
    "string_list=string.split()\n",
    "string_list.reverse()\n",
    "print('Actual  Sentence: {}\\nReverse Sentence: {}'.format(string,\n",
    "                                                         reduce(lambda x,y: x+' '+y,string_list)))"
   ]
  },
  {
   "cell_type": "code",
   "execution_count": 70,
   "id": "a4f808ae-f038-439a-9ff2-0addd5417573",
   "metadata": {},
   "outputs": [
    {
     "name": "stdout",
     "output_type": "stream",
     "text": [
      "Actual  Sentence: I love coding\n",
      "Reverse Sentence: coding love I\n"
     ]
    }
   ],
   "source": [
    "print('Actual  Sentence: {}\\nReverse Sentence: {}'.\n",
    "      format(string,reduce(lambda x,y:y+' '+x,string.split())))"
   ]
  },
  {
   "cell_type": "markdown",
   "id": "322127a4-19a8-4701-8108-3259afc58761",
   "metadata": {
    "jp-MarkdownHeadingCollapsed": true,
    "tags": []
   },
   "source": [
    "#### No spaces"
   ]
  },
  {
   "cell_type": "code",
   "execution_count": 199,
   "id": "4da1bf0e-0c38-44a9-8290-45e2577a1243",
   "metadata": {},
   "outputs": [
    {
     "name": "stdout",
     "output_type": "stream",
     "text": [
      "Calorie_Consumed\n"
     ]
    }
   ],
   "source": [
    "string='calOrIe coNSumEd'\n",
    "l_string=list(string.lower())\n",
    "\n",
    "for i in range(len(l_string)):\n",
    "    if l_string[i]==' ':\n",
    "        l_string[i]='_';\n",
    "        l_string[i+1]=l_string[i+1].upper()\n",
    "    if i==0: l_string[i]=l_string[i].upper()\n",
    "    \n",
    "print(reduce(lambda x,y:x+y,l_string))"
   ]
  },
  {
   "cell_type": "code",
   "execution_count": 196,
   "id": "3c9c5d42-ad51-4c6e-a147-c9d26a6535d9",
   "metadata": {},
   "outputs": [
    {
     "name": "stdout",
     "output_type": "stream",
     "text": [
      "Calorie_Consumed\n"
     ]
    }
   ],
   "source": [
    "print(string.replace(' ','_').title())"
   ]
  },
  {
   "cell_type": "code",
   "execution_count": 204,
   "id": "d3fd96ca-cef6-4e08-9d4c-a8bcb1016b0c",
   "metadata": {},
   "outputs": [
    {
     "name": "stdout",
     "output_type": "stream",
     "text": [
      "Calorie_Consumed\n"
     ]
    }
   ],
   "source": [
    "words=[word[0].upper()+word[1:] for word in string.lower().split()]\n",
    "print('_'.join(words))"
   ]
  },
  {
   "cell_type": "markdown",
   "id": "ae52eda7-9596-453b-9122-e3d81db51db2",
   "metadata": {
    "tags": []
   },
   "source": [
    "#### Moving Vowels"
   ]
  },
  {
   "cell_type": "code",
   "execution_count": 228,
   "id": "739a0d23-213e-497a-aca5-e42dcf70f810",
   "metadata": {},
   "outputs": [
    {
     "name": "stdin",
     "output_type": "stream",
     "text": [
      "enter string: You love Python\n"
     ]
    },
    {
     "name": "stdout",
     "output_type": "stream",
     "text": [
      "\n",
      "ouoeoY lv Pythn\n"
     ]
    }
   ],
   "source": [
    "string=input('enter string:')\n",
    "\n",
    "vowels=[vow for vow in string if vow in ['a','e','i','o','u']]\n",
    "cons=[con for con in string if con not in vowels]\n",
    "print()\n",
    "print(''.join(vowels)+''.join(cons))"
   ]
  },
  {
   "cell_type": "markdown",
   "id": "4218dc54-8547-4a9c-9b68-f49a9dcece99",
   "metadata": {},
   "source": [
    "#### Common Prefix"
   ]
  },
  {
   "cell_type": "code",
   "execution_count": 73,
   "id": "7625d557-e508-4269-9531-2c81e0a0e53e",
   "metadata": {},
   "outputs": [
    {
     "name": "stdin",
     "output_type": "stream",
     "text": [
      "enter the strings:  abshdksajd abshiehand\n"
     ]
    },
    {
     "name": "stdout",
     "output_type": "stream",
     "text": [
      "\n",
      "Longest common prefix between [abshdksajd] and [abshiehand] is: 'absh'\n"
     ]
    }
   ],
   "source": [
    "s1,s2=input('enter the strings: ').lower().split()\n",
    "\n",
    "pre=''\n",
    "i=0\n",
    "\n",
    "if s1 in s2 or s2 in s1: \n",
    "        pre=s1;\n",
    "else:    \n",
    "    while s1[i]==s2[i]:\n",
    "        pre+=s1[i];\n",
    "        i+=1;\n",
    "\n",
    "if pre=='':pre=-1;\n",
    "print()\n",
    "print(\"Longest common prefix between [{}] and [{}] is: '{}'\".format(s1,s2,pre))"
   ]
  },
  {
   "cell_type": "code",
   "execution_count": 33,
   "id": "95b578b9-d2de-4c05-9315-3e08b56de5d7",
   "metadata": {},
   "outputs": [
    {
     "name": "stdout",
     "output_type": "stream",
     "text": [
      "upgrad\n"
     ]
    }
   ],
   "source": [
    "st_list=['upgrad','upgradda','upgraddata','upgradscience'];\n",
    "pre='';\n",
    "\n",
    "size_list=list(map(lambda x:len(x),st_list))\n",
    "\n",
    "for i in range(min(size_list)):\n",
    "    if i!=min(size_list):\n",
    "        for j in range(min(size_list)):\n",
    "            if j!=min(size_list):\n",
    "                if st_list[i][j]==st_list[i+1][j]: pre+=st_list[i][j]\n",
    "                else: break\n",
    "        break   \n",
    "    else:break\n",
    "\n",
    "print(pre)if pre!='' else print(-1)"
   ]
  },
  {
   "cell_type": "markdown",
   "id": "939b2a9a-de88-4457-b2d0-2a784b574a56",
   "metadata": {},
   "source": [
    "#### Anagrams"
   ]
  },
  {
   "cell_type": "code",
   "execution_count": 210,
   "id": "f6e72ab8-872f-4c05-999e-d8d743786d34",
   "metadata": {},
   "outputs": [
    {
     "name": "stdin",
     "output_type": "stream",
     "text": [
      " night\n",
      " thing\n"
     ]
    },
    {
     "name": "stdout",
     "output_type": "stream",
     "text": [
      "True\n"
     ]
    }
   ],
   "source": [
    "str1=input()\n",
    "str2=input()\n",
    "\n",
    "flag=True\n",
    "for i in range(len(str1)):\n",
    "    if str1.count(str1[i])!=str2.count(str1[i]): flag=False\n",
    "    \n",
    "print(flag)"
   ]
  }
 ],
 "metadata": {
  "kernelspec": {
   "display_name": "Python 3 (ipykernel)",
   "language": "python",
   "name": "python3"
  },
  "language_info": {
   "codemirror_mode": {
    "name": "ipython",
    "version": 3
   },
   "file_extension": ".py",
   "mimetype": "text/x-python",
   "name": "python",
   "nbconvert_exporter": "python",
   "pygments_lexer": "ipython3",
   "version": "3.10.5"
  }
 },
 "nbformat": 4,
 "nbformat_minor": 5
}

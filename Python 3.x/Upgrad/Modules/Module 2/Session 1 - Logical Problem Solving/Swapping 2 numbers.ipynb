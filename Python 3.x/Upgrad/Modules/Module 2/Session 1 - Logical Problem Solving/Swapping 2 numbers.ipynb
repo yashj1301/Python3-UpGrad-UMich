{
 "cells": [
  {
   "cell_type": "markdown",
   "id": "2aa69a28-7400-4052-bfbe-20f46d828047",
   "metadata": {},
   "source": [
    "## Swapping of 2 Numbers"
   ]
  },
  {
   "cell_type": "markdown",
   "id": "4ded4117-84fc-45b4-a013-a0a9c5087640",
   "metadata": {},
   "source": [
    "Swapping of 2 numbers is a pretty simple application, that comes in handy when we deal with data structures. Here, we will see how to swap 2 numbers.\n",
    "\n",
    "Let us take those numbers as input. Since the `input()` function accepts a string value, first we would convert them into integers. "
   ]
  },
  {
   "cell_type": "code",
   "execution_count": 81,
   "id": "b42bcc33-b995-4939-85b1-e8157eac5618",
   "metadata": {},
   "outputs": [
    {
     "name": "stdin",
     "output_type": "stream",
     "text": [
      "Enter the numbers separated by comma:  12,34\n"
     ]
    },
    {
     "name": "stdout",
     "output_type": "stream",
     "text": [
      "before swap: x=12 and y=34\n"
     ]
    }
   ],
   "source": [
    "num=input('Enter the numbers separated by comma: ');\n",
    "n1=int(num.split(',')[0])\n",
    "n2=int(num.split(',')[1])\n",
    "\n",
    "print('before swap: x={} and y={}'.format(n1,n2))"
   ]
  },
  {
   "cell_type": "markdown",
   "id": "5861e122-1d1c-409e-a0c4-2f896670c6ce",
   "metadata": {},
   "source": [
    "Hence, the numbers before swapping are visible. Next, we would swap them. There are 3 basic different ways to do it - one of them involves using a third variable, while the other two, not so much. Let us see them."
   ]
  },
  {
   "cell_type": "markdown",
   "id": "8b0d6f04-834b-4a54-9d95-430d2f69eda1",
   "metadata": {
    "tags": []
   },
   "source": [
    "### Using a Temporary Variable"
   ]
  },
  {
   "attachments": {
    "59361edc-8dc2-40d6-b7e9-13d2d492699a.png": {
     "image/png": "[encoded data removed]"
    }
   },
   "cell_type": "markdown",
   "id": "6303787b-741a-4cdd-bc63-ffaf027c0f91",
   "metadata": {},
   "source": [
    "We use a temporary variable, whenever we need to just use it for an operation. Here, we will use the temporary variable to swap the numbers. \n",
    "\n",
    "The logic is that the temporary variable will store one of the values, whereas the other one will be saved in the former variable, and after that, the value in temporary variable will be saved in the latter variable.\n",
    "\n",
    "The following flow chart will explain it better:\n",
    "\n",
    "![image.png](attachment:59361edc-8dc2-40d6-b7e9-13d2d492699a.png)\n",
    "\n",
    "Now, let us see it in action."
   ]
  },
  {
   "cell_type": "code",
   "execution_count": 72,
   "id": "327cdb42-817f-489b-930e-4e0573cc97d3",
   "metadata": {},
   "outputs": [
    {
     "name": "stdout",
     "output_type": "stream",
     "text": [
      "after swap: x=34 and y=12\n"
     ]
    }
   ],
   "source": [
    "temp=n1;\n",
    "n1=n2;\n",
    "n2=temp;\n",
    "del temp;\n",
    "\n",
    "print('after swap: x={} and y={}'.format(n1,n2))"
   ]
  },
  {
   "cell_type": "markdown",
   "id": "09f37027-961e-4eb2-8e24-4070e5a0aea9",
   "metadata": {},
   "source": [
    "### Using the `reduce() lambda` Function"
   ]
  },
  {
   "cell_type": "markdown",
   "id": "2a372a5a-fda4-48fa-96d0-17a431bc4470",
   "metadata": {},
   "source": [
    "Here, we will define a list containing the two numbers and assign the values of them element-wise using the `reduce()` function. Let us see it in working -"
   ]
  },
  {
   "cell_type": "code",
   "execution_count": 75,
   "id": "3c8c6348-e38d-4ab4-8e20-c614fa896cfe",
   "metadata": {},
   "outputs": [
    {
     "name": "stdout",
     "output_type": "stream",
     "text": [
      "after swap: x=34 and y=12\n"
     ]
    }
   ],
   "source": [
    "n1,n2=reduce(lambda x,y:y,[n1,n2]),reduce(lambda x,y:x,[n1,n2])\n",
    "print('after swap: x={} and y={}'.format(n1,n2))"
   ]
  },
  {
   "cell_type": "markdown",
   "id": "eec152bf-c91f-4c4c-9996-f59a9d655a3c",
   "metadata": {},
   "source": [
    "### Using only 2 Variables"
   ]
  },
  {
   "cell_type": "markdown",
   "id": "9906e379-ecfc-4384-8fef-cb11dfe49b27",
   "metadata": {},
   "source": [
    "When we want to use only 2 variables, then we can use two methods - __assignment statements__ and __swapping using arithmetic operators__. Let us see both of them in action."
   ]
  },
  {
   "cell_type": "markdown",
   "id": "27cf7a2c-5ab3-4da0-82ea-a12f94c61701",
   "metadata": {},
   "source": [
    "__Assignment Statements__"
   ]
  },
  {
   "cell_type": "code",
   "execution_count": 82,
   "id": "a7579a7c-4c9d-4658-b9f0-5f1a2aa5aa88",
   "metadata": {},
   "outputs": [
    {
     "name": "stdout",
     "output_type": "stream",
     "text": [
      "after swap: x=34 and y=12\n"
     ]
    }
   ],
   "source": [
    "n1,n2=n2,n1\n",
    "print('after swap: x={} and y={}'.format(n1,n2))"
   ]
  },
  {
   "cell_type": "markdown",
   "id": "6af0d1fa-a57d-4e79-b0c8-548d9054130f",
   "metadata": {},
   "source": [
    "__Arithmetic Operators__"
   ]
  },
  {
   "cell_type": "code",
   "execution_count": 79,
   "id": "9ef17d58-d42e-45c1-bc8f-b82185dd3f11",
   "metadata": {},
   "outputs": [
    {
     "name": "stdout",
     "output_type": "stream",
     "text": [
      "after swap: x=34 and y=12\n"
     ]
    }
   ],
   "source": [
    "n1=n1+n2;\n",
    "n2=n1-n2;\n",
    "n1=n1-n2;\n",
    "\n",
    "print('after swap: x={} and y={}'.format(n1,n2))"
   ]
  },
  {
   "cell_type": "code",
   "execution_count": null,
   "id": "2d93b9bd-1244-4f13-bae0-e81fdf8e5361",
   "metadata": {},
   "outputs": [],
   "source": []
  }
 ],
 "metadata": {
  "kernelspec": {
   "display_name": "Python 3 (ipykernel)",
   "language": "python",
   "name": "python3"
  },
  "language_info": {
   "codemirror_mode": {
    "name": "ipython",
    "version": 3
   },
   "file_extension": ".py",
   "mimetype": "text/x-python",
   "name": "python",
   "nbconvert_exporter": "python",
   "pygments_lexer": "ipython3",
   "version": "3.10.5"
  }
 },
 "nbformat": 4,
 "nbformat_minor": 5
}

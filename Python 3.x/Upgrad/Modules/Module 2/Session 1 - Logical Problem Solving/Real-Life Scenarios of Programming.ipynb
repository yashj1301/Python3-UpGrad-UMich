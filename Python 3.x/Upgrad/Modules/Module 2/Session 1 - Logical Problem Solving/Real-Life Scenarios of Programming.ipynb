{
 "cells": [
  {
   "cell_type": "markdown",
   "id": "354204de-3a18-4db3-b5ab-9ce0b511c3a4",
   "metadata": {},
   "source": [
    "## Real Life Scenarios of Programming"
   ]
  },
  {
   "cell_type": "markdown",
   "id": "af09fd6b-89ad-4e07-b560-d3dbdaf82f40",
   "metadata": {},
   "source": [
    "To use programming to solve real-world problems is the core job of any programmer or a data scientist. Hence, studying the real-life scenarios are a good practice to logical problem solving. Let us see some examples here. "
   ]
  },
  {
   "cell_type": "markdown",
   "id": "68672801-0382-4877-a119-24d5ac79b5da",
   "metadata": {
    "tags": []
   },
   "source": [
    "### Online Food Delivery Systems"
   ]
  },
  {
   "cell_type": "markdown",
   "id": "fbc91dab-86ae-4800-97c3-14aa8b442114",
   "metadata": {},
   "source": [
    "The problem on our plate is the food delivery application platforms. There are thousands of restaurants registered with such application platforms. If you have ever placed a food order online, you might have noticed that you only see the restaurants that will deliver an order to you at the top of the display list. \n",
    "\n",
    "__How do you think that happens?__"
   ]
  },
  {
   "cell_type": "markdown",
   "id": "bafe6c45-c932-4f77-95cf-9ae26afe78cf",
   "metadata": {},
   "source": [
    "When you turn on GPS, the application extracts your location, and returns a list of all the restaurants near you. This is how it is implemented. \n",
    "\n",
    "Let us first take a dictionary containing the restaurant code as index and their names, GPS Locations and the radius in which they deliver. "
   ]
  },
  {
   "cell_type": "code",
   "execution_count": 41,
   "id": "e986ea72-52f2-477f-837e-74cc4d0d04ba",
   "metadata": {},
   "outputs": [
    {
     "data": {
      "text/plain": [
       "{'R1': ['Bikaners', 25, 10],\n",
       " 'R2': ['Haldirams', 23, 3],\n",
       " 'R3': ['Sagar Ratna', 22, 5],\n",
       " 'R4': ['Dominos', 10, 11],\n",
       " 'R5': ['Pizza Hut', 5, 7]}"
      ]
     },
     "execution_count": 41,
     "metadata": {},
     "output_type": "execute_result"
    }
   ],
   "source": [
    "r_data={'R1':['Bikaners',25,10],'R2':['Haldirams',23,3],'R3':['Sagar Ratna',22,5],\n",
    "        'R4':['Dominos',10,11],'R5':['Pizza Hut',5,7]}\n",
    "r_data"
   ]
  },
  {
   "cell_type": "markdown",
   "id": "abdf18cb-a5f9-4f2e-a080-f3be30d0ef87",
   "metadata": {},
   "source": [
    "Now, we will take the user's GPS Location. "
   ]
  },
  {
   "cell_type": "code",
   "execution_count": 39,
   "id": "2e2889c0-6700-4c83-bce4-0a25617da6ac",
   "metadata": {},
   "outputs": [
    {
     "name": "stdin",
     "output_type": "stream",
     "text": [
      "User Loc:  18\n"
     ]
    },
    {
     "data": {
      "text/plain": [
       "18"
      ]
     },
     "execution_count": 39,
     "metadata": {},
     "output_type": "execute_result"
    }
   ],
   "source": [
    "user=int(input('User Loc: '));\n",
    "user"
   ]
  },
  {
   "cell_type": "markdown",
   "id": "70ba29a8-b77f-41f6-bfb1-c0153a1b823c",
   "metadata": {},
   "source": [
    "Now, we will see if the distance between the user's location and the restaurant's location is less than the radius in which the restaurant delivers. If it is, then the restaurant will be added to the list of restaurants that are returned on the app."
   ]
  },
  {
   "cell_type": "code",
   "execution_count": 78,
   "id": "c02b7ba5-d55b-4a7a-8579-b9506cfab9d8",
   "metadata": {},
   "outputs": [
    {
     "name": "stdout",
     "output_type": "stream",
     "text": [
      "RCode \tName\n",
      "======\t=============\n",
      "R1 \tBikaners\n",
      "R3 \tSagar Ratna\n",
      "R4 \tDominos\n"
     ]
    }
   ],
   "source": [
    "d_res={i:j[0] for i,j in r_data.items() if j[1]-user < j[2] and (j[1]-user)*-1 < j[2]}\n",
    "print('RCode','\\tName')\n",
    "print('======\\t=============')\n",
    "for i,j in d_res.items():\n",
    "    print(i,'\\t{}'.format(j))"
   ]
  },
  {
   "cell_type": "markdown",
   "id": "3dd5f32d-3a12-42b3-8669-94172b1ceaa7",
   "metadata": {},
   "source": [
    "Here, the restaurant id and names of the restaurants near the user's location that can deliver to their house are returned. "
   ]
  },
  {
   "cell_type": "markdown",
   "id": "d97981e4-7d8a-4abd-b966-e02ce2648acf",
   "metadata": {
    "tags": []
   },
   "source": [
    "### Dating Websites"
   ]
  },
  {
   "cell_type": "markdown",
   "id": "f583cc56-442f-443b-9433-d86d4ec4a04e",
   "metadata": {},
   "source": [
    "Another interesting real life scenario is Dating Websites like Tinder. What they do is that they show the profiles to the user, ask them if they are interested in them or not, and if they are, they store those profiles in a list. \n",
    "\n",
    "What happens next is that they iterate through each of those profiles, and search if the other person is interested or not, by iterating over their list of saved profiles. Let us see this in work. "
   ]
  },
  {
   "cell_type": "code",
   "execution_count": 142,
   "id": "d1832bb2-67d4-495f-9332-3c684d7d6e50",
   "metadata": {},
   "outputs": [],
   "source": [
    "F_Users=['F{}'.format(i) for i in range(1,6)]\n",
    "M_Users=['M{}'.format(i) for i in range(1,6)]"
   ]
  },
  {
   "cell_type": "markdown",
   "id": "84ec868b-296b-4dc3-b5cb-e68ca3ebabbc",
   "metadata": {},
   "source": [
    "Here, first we created 2 lists for the profiles available to the users. These are on the basis of the gender of the users. Next, we create a function, which returned the user id and the saved profile list for the user, to help us iterate over the lists. "
   ]
  },
  {
   "cell_type": "code",
   "execution_count": 143,
   "id": "59d5d0bd-b86e-433b-b346-c5e3ff2fa2f3",
   "metadata": {},
   "outputs": [],
   "source": [
    "def inp(in_u,gen_u):\n",
    "\n",
    "    in_u='F{}'.format(in_u) if gen_u=='F' else 'M{}'.format(in_u)\n",
    "    if gen_u=='F': fem=in_u;\n",
    "    else: male=in_u;\n",
    "        \n",
    "    R_list=Int_List(gen_u);\n",
    "    return in_u,R_list;\n",
    "\n",
    "def Int_List(gen_u):\n",
    "    \n",
    "    int_='Y';\n",
    "    if gen_u == 'M':\n",
    "        M_int=[];\n",
    "        for i in F_Users:\n",
    "            print('Profile: {}'.format(i),end=\" \")\n",
    "            int_=input('Interested: ');\n",
    "        \n",
    "            if int_=='Y': \n",
    "                M_int+=[i];\n",
    "        return M_int;\n",
    "    else:\n",
    "        F_int=[];\n",
    "        for i in M_Users:\n",
    "            print('Profile: {}'.format(i))\n",
    "            int_=input('Interested: ');\n",
    "        \n",
    "            if int_=='Y': \n",
    "                F_int+=[i];\n",
    "        return F_int;\n"
   ]
  },
  {
   "cell_type": "markdown",
   "id": "15cc19a9-51ee-43a1-9e6d-fd390685600d",
   "metadata": {},
   "source": [
    "Now, we compared two profiles. For demo purposes, we took 2 inputs - one for female and other for male user. "
   ]
  },
  {
   "cell_type": "code",
   "execution_count": 146,
   "id": "6b6fd051-63c9-43b9-a10c-58a56de103c0",
   "metadata": {},
   "outputs": [
    {
     "name": "stdout",
     "output_type": "stream",
     "text": [
      "Profile: M1\n"
     ]
    },
    {
     "name": "stdin",
     "output_type": "stream",
     "text": [
      "Interested:  N\n"
     ]
    },
    {
     "name": "stdout",
     "output_type": "stream",
     "text": [
      "Profile: M2\n"
     ]
    },
    {
     "name": "stdin",
     "output_type": "stream",
     "text": [
      "Interested:  Y\n"
     ]
    },
    {
     "name": "stdout",
     "output_type": "stream",
     "text": [
      "Profile: M3\n"
     ]
    },
    {
     "name": "stdin",
     "output_type": "stream",
     "text": [
      "Interested:  Y\n"
     ]
    },
    {
     "name": "stdout",
     "output_type": "stream",
     "text": [
      "Profile: M4\n"
     ]
    },
    {
     "name": "stdin",
     "output_type": "stream",
     "text": [
      "Interested:  N\n"
     ]
    },
    {
     "name": "stdout",
     "output_type": "stream",
     "text": [
      "Profile: M5\n"
     ]
    },
    {
     "name": "stdin",
     "output_type": "stream",
     "text": [
      "Interested:  Y\n"
     ]
    },
    {
     "data": {
      "text/plain": [
       "('F3', ['M2', 'M3', 'M5'])"
      ]
     },
     "execution_count": 146,
     "metadata": {},
     "output_type": "execute_result"
    }
   ],
   "source": [
    "fem=inp(3,'F')\n",
    "fem"
   ]
  },
  {
   "cell_type": "code",
   "execution_count": 147,
   "id": "11407b47-33ea-49b8-babc-288aa1640cd0",
   "metadata": {},
   "outputs": [
    {
     "name": "stdout",
     "output_type": "stream",
     "text": [
      "Profile: F1 "
     ]
    },
    {
     "name": "stdin",
     "output_type": "stream",
     "text": [
      "Interested:  Y\n"
     ]
    },
    {
     "name": "stdout",
     "output_type": "stream",
     "text": [
      "Profile: F2 "
     ]
    },
    {
     "name": "stdin",
     "output_type": "stream",
     "text": [
      "Interested:  N\n"
     ]
    },
    {
     "name": "stdout",
     "output_type": "stream",
     "text": [
      "Profile: F3 "
     ]
    },
    {
     "name": "stdin",
     "output_type": "stream",
     "text": [
      "Interested:  Y\n"
     ]
    },
    {
     "name": "stdout",
     "output_type": "stream",
     "text": [
      "Profile: F4 "
     ]
    },
    {
     "name": "stdin",
     "output_type": "stream",
     "text": [
      "Interested:  N\n"
     ]
    },
    {
     "name": "stdout",
     "output_type": "stream",
     "text": [
      "Profile: F5 "
     ]
    },
    {
     "name": "stdin",
     "output_type": "stream",
     "text": [
      "Interested:  N\n"
     ]
    },
    {
     "data": {
      "text/plain": [
       "('M5', ['F1', 'F3'])"
      ]
     },
     "execution_count": 147,
     "metadata": {},
     "output_type": "execute_result"
    }
   ],
   "source": [
    "male=inp(5,'M')\n",
    "male"
   ]
  },
  {
   "cell_type": "markdown",
   "id": "741b3646-0a17-40a7-b642-ff7103d20cc5",
   "metadata": {},
   "source": [
    "Now, to see if they are a match or not, we iterated over both their saved profile lists, and checked if both of them are interested or not."
   ]
  },
  {
   "cell_type": "code",
   "execution_count": 148,
   "id": "3c371071-cd59-4602-bf85-39ef951a5422",
   "metadata": {},
   "outputs": [
    {
     "name": "stdout",
     "output_type": "stream",
     "text": [
      "Match between F3 and M5\n"
     ]
    }
   ],
   "source": [
    "for i in male[1]:\n",
    "    if fem[0]== i: \n",
    "        for j in fem[1]:\n",
    "            if male[0]==j:\n",
    "                print('Match between {} and {}'.format(i,j));"
   ]
  },
  {
   "cell_type": "markdown",
   "id": "7b47aaf6-2b02-49ff-ad6b-8dd9e24b477a",
   "metadata": {},
   "source": [
    "Here, it is visible that the profiles with user IDs F3 and M5 are interested, so __on the frontend__, the website / app connects them."
   ]
  }
 ],
 "metadata": {
  "kernelspec": {
   "display_name": "Python 3 (ipykernel)",
   "language": "python",
   "name": "python3"
  },
  "language_info": {
   "codemirror_mode": {
    "name": "ipython",
    "version": 3
   },
   "file_extension": ".py",
   "mimetype": "text/x-python",
   "name": "python",
   "nbconvert_exporter": "python",
   "pygments_lexer": "ipython3",
   "version": "3.10.5"
  }
 },
 "nbformat": 4,
 "nbformat_minor": 5
}

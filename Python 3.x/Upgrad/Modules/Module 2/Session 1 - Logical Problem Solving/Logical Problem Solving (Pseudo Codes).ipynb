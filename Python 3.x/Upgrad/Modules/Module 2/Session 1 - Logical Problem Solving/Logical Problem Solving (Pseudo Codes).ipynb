{
 "cells": [
  {
   "cell_type": "markdown",
   "id": "85b4c179-d3ff-4ced-a4a0-1fb5e17f07ad",
   "metadata": {},
   "source": [
    "## Logical Problem Solving (Pseudo Codes)"
   ]
  },
  {
   "cell_type": "markdown",
   "id": "ae5e1cb0-d642-4a2e-9004-c616a9dedccd",
   "metadata": {},
   "source": [
    "The ultimate goal of a data scientist is to solve a problem. Hence, to convert a real-life problem into a problem statement, and deriving the logic to obtain the code needed to extract its solution, we need to practice logical problem solving. \n",
    "\n",
    "The first step to solving any problem is to think about what you are going to do. Only after deciding the right process and flow of the solution do you explain the same process to the computer using a programming language. \n",
    "\n",
    "So no matter what language you write your code, the first step is always deciding the flow to explain to the computer what you want it to do. This is called __Writing Pseudo-Code__.\n",
    "\n",
    "Here, we will see some applications of Pseudo Codes. \n"
   ]
  },
  {
   "cell_type": "markdown",
   "id": "fbec3017-6a4b-4613-abf5-8ee6d28369b5",
   "metadata": {
    "jp-MarkdownHeadingCollapsed": true,
    "tags": []
   },
   "source": [
    "### The 'Back' Button on Browsers and Applications"
   ]
  },
  {
   "cell_type": "markdown",
   "id": "9e6f062f-a2fd-409b-ba7a-4492b07cb4f3",
   "metadata": {},
   "source": [
    "The back button is not only used in browsers but also in smartphones and different applications. __Ever wondered how that works?__\n",
    "\n",
    "Of course, we will <font color=\"red\">not be designing the real back button</font> for different applications or browsers, but we can still try and <font color=\"#000080\">break down the basic implementation</font>. This basic thought or flow of the problem is then worked on and improved with different things like giving different illustrations and applying a similar concept for different data forms, and so on.\n"
   ]
  },
  {
   "cell_type": "markdown",
   "id": "acafdc5e-2509-4359-a5aa-80cf2d42d7b0",
   "metadata": {},
   "source": [
    "To implement this, let us assume that all the webpages visited in a browser session are stored in a list. So, we just __need to extract the element of the previous index from the list__ to implement the back button."
   ]
  },
  {
   "cell_type": "code",
   "execution_count": 88,
   "id": "97721781-bdca-4d6f-8b0e-d7ea1343202f",
   "metadata": {},
   "outputs": [
    {
     "data": {
      "text/plain": [
       "['https://google.com',\n",
       " 'https://upgrad.com',\n",
       " 'https://linkedin.com',\n",
       " 'https://python.org',\n",
       " 'https://coursera.org']"
      ]
     },
     "execution_count": 88,
     "metadata": {},
     "output_type": "execute_result"
    }
   ],
   "source": [
    "session=['https://google.com','https://upgrad.com','https://linkedin.com','https://python.org',\n",
    "         'https://coursera.org']\n",
    "session"
   ]
  },
  {
   "cell_type": "markdown",
   "id": "6eca5f37-d595-4116-a9e8-6c86482f903a",
   "metadata": {},
   "source": [
    "The current webpage that you open is appended at the end of the list. So, to go back, we just remove the last element of the list, and return the last element of the new list, which takes us to the previous page."
   ]
  },
  {
   "cell_type": "code",
   "execution_count": 26,
   "id": "d1c2286f-782c-4a0f-83bb-39b6e454dbfe",
   "metadata": {},
   "outputs": [
    {
     "data": {
      "text/plain": [
       "'https://coursera.org'"
      ]
     },
     "execution_count": 26,
     "metadata": {},
     "output_type": "execute_result"
    }
   ],
   "source": [
    "current=session[-1]\n",
    "current"
   ]
  },
  {
   "cell_type": "markdown",
   "id": "1a543c0b-1af0-4377-bda7-05d292ded435",
   "metadata": {},
   "source": [
    "Now, we will remove the last element, and return the last element of the new list. This is done using the `pop()` function."
   ]
  },
  {
   "cell_type": "code",
   "execution_count": 30,
   "id": "e8d73284-3bdf-41f8-9c18-ee1ee737fb38",
   "metadata": {},
   "outputs": [
    {
     "data": {
      "text/plain": [
       "'https://python.org'"
      ]
     },
     "execution_count": 30,
     "metadata": {},
     "output_type": "execute_result"
    }
   ],
   "source": [
    "session.pop(-1)\n",
    "session[-1]"
   ]
  },
  {
   "cell_type": "markdown",
   "id": "7e1fa58d-c967-4109-8509-4f006e0aa381",
   "metadata": {},
   "source": [
    "Hence, we are returned to the previous webpage. This is the __program that runs in the backend__ when we click on the `back` button on a browser or an application.\n",
    "\n",
    "This is also how the `undo` function works in your __text editors__. The programs are built upon many times to improve performance and speed, but the core idea never changes."
   ]
  },
  {
   "cell_type": "markdown",
   "id": "272491fa-aa50-4698-9cac-83f26f9869aa",
   "metadata": {
    "jp-MarkdownHeadingCollapsed": true,
    "tags": []
   },
   "source": [
    "### Track Youtube unique Views"
   ]
  },
  {
   "cell_type": "markdown",
   "id": "50747045-50ba-4133-b192-577289f60b57",
   "metadata": {},
   "source": [
    "YouTube keeps a count of the unique views each video gets. Even the upGrad platform keeps track of the video being seen by its student to later analyse the content and student performance. How do you think this is done?"
   ]
  },
  {
   "cell_type": "markdown",
   "id": "5d9af48c-3611-4bd2-9029-27b918fee028",
   "metadata": {},
   "source": [
    "In the most simple cases, video streaming websites store the user ids of users that watch a video in a list, and everytime a user watches it, their user id gets appended to it.\n",
    "\n",
    "Here, since the user id is unique to each user, first we check if the user id of the user already exists in the list or not. If it does, then we don't add it, otherwise we do. This way, we create a list of unique elements."
   ]
  },
  {
   "cell_type": "code",
   "execution_count": 76,
   "id": "a65b71fd-3d56-4349-986d-f3bb212e7ea8",
   "metadata": {},
   "outputs": [
    {
     "name": "stdout",
     "output_type": "stream",
     "text": [
      "No of views: 100\n"
     ]
    }
   ],
   "source": [
    "user_list=['U{}'.format(i) for i in range(1,101)]\n",
    "count=len(user_list)\n",
    "print('No of views:',count)"
   ]
  },
  {
   "cell_type": "markdown",
   "id": "11dc62cb-32fe-4487-84d0-43c5afdfa15b",
   "metadata": {},
   "source": [
    "Now, we count the number of elements inside the list to return the number of views. For demo purposes, we will take the new user id as input."
   ]
  },
  {
   "cell_type": "code",
   "execution_count": 77,
   "id": "7547573a-fae1-44d0-b73a-ad08a856194c",
   "metadata": {},
   "outputs": [
    {
     "name": "stdin",
     "output_type": "stream",
     "text": [
      "Enter user id:  77\n"
     ]
    },
    {
     "name": "stdout",
     "output_type": "stream",
     "text": [
      "Updated No of views: 100\n"
     ]
    }
   ],
   "source": [
    "user_id=int(input('Enter user id: '))\n",
    "user_id='U{}'.format(user_id)\n",
    "\n",
    "user_list=user_list+[user_id] if user_id not in user_list else user_list\n",
    "count=len(user_list)\n",
    "print('Updated No of views:',count)"
   ]
  },
  {
   "cell_type": "markdown",
   "id": "63caa51f-ce5a-4596-aff1-da3c6445df22",
   "metadata": {},
   "source": [
    "Hence, when the user is already there, then we don't add it. Now, when it is there, we do add it. Let us see."
   ]
  },
  {
   "cell_type": "code",
   "execution_count": 78,
   "id": "42db8e5e-c361-403a-85b4-a87c4929f566",
   "metadata": {},
   "outputs": [
    {
     "name": "stdin",
     "output_type": "stream",
     "text": [
      "Enter user id:  101\n"
     ]
    },
    {
     "name": "stdout",
     "output_type": "stream",
     "text": [
      "Updated No of views: 101\n"
     ]
    }
   ],
   "source": [
    "user_id=int(input('Enter user id: '))\n",
    "user_id='U{}'.format(user_id)\n",
    "\n",
    "user_list=user_list+[user_id] if user_id not in user_list else user_list\n",
    "count=len(user_list)\n",
    "print('Updated No of views:',count)"
   ]
  },
  {
   "cell_type": "markdown",
   "id": "5fbbada8-963c-41fa-b3e4-ef7c748b01d3",
   "metadata": {},
   "source": [
    "Hence, the new user is added, and the view count is increased. This is how the returning of unique views occur."
   ]
  },
  {
   "cell_type": "markdown",
   "id": "471420a3-0b8b-40df-bfb6-88dc907f703d",
   "metadata": {
    "tags": []
   },
   "source": [
    "### Search Bar in E-Commerce Website"
   ]
  },
  {
   "cell_type": "markdown",
   "id": "7f0106a5-be73-450d-a695-aef01ed36c52",
   "metadata": {},
   "source": [
    "Whenever you type anything into the search bar of any E-Commerce website like Flipkart, Amazon and others, you get results that match the searched item. These are matched using __keywords__ that are an integral part of the SEO (Search Engine Optimization) ecosystem. \n",
    "\n",
    "__How does this happen?__"
   ]
  },
  {
   "cell_type": "markdown",
   "id": "c0dbc2c5-c561-4ac7-a843-1fa5a9dc45ff",
   "metadata": {},
   "source": [
    "In the most simple cases, we use __String Matching__ to get the desired output. What websites do is that they store some keywords in a list, and everything matching the searched item to the keyword is returned. \n",
    "\n",
    "Let us see how this happens."
   ]
  },
  {
   "cell_type": "code",
   "execution_count": 94,
   "id": "e761f601-c2e8-44d6-975c-2dbb618cb4ab",
   "metadata": {},
   "outputs": [],
   "source": [
    "keyword_list=['black pant','white pant','white shirt','party dress',\n",
    "              'office dress','office shirt','office pant','party pant']"
   ]
  },
  {
   "cell_type": "markdown",
   "id": "69233799-bda6-49ea-ab43-183bdbf7ba5c",
   "metadata": {},
   "source": [
    "Next, the searched item is stored in a variable `query`."
   ]
  },
  {
   "cell_type": "code",
   "execution_count": 92,
   "id": "53fe39b5-8396-4ad1-9bf3-696ef084fe7e",
   "metadata": {},
   "outputs": [
    {
     "name": "stdin",
     "output_type": "stream",
     "text": [
      "Enter your search:  office\n"
     ]
    }
   ],
   "source": [
    "query=input('Enter your search: ')"
   ]
  },
  {
   "cell_type": "markdown",
   "id": "a4e55a0c-bf03-457b-8c2b-38107e94e795",
   "metadata": {},
   "source": [
    "This is then searched in the list and all the related items are returned."
   ]
  },
  {
   "cell_type": "code",
   "execution_count": 93,
   "id": "46559b7a-3911-41a4-acf7-877a410f6027",
   "metadata": {},
   "outputs": [
    {
     "data": {
      "text/plain": [
       "['office dress', 'office shirt', 'office pant']"
      ]
     },
     "execution_count": 93,
     "metadata": {},
     "output_type": "execute_result"
    }
   ],
   "source": [
    "result=[i for i in keyword_list if query in i]\n",
    "result"
   ]
  },
  {
   "cell_type": "markdown",
   "id": "82ab9b29-38c0-494c-a874-f2d5b1a2584b",
   "metadata": {},
   "source": [
    "This is how the most basic searching is done in E-Commerce websites. Although a 'search bar' in real life has been further developed to perform more complex searches than just basic string matching, this should serve as a very good starting point to further develop a more sophisticated search bar."
   ]
  }
 ],
 "metadata": {
  "kernelspec": {
   "display_name": "Python 3 (ipykernel)",
   "language": "python",
   "name": "python3"
  },
  "language_info": {
   "codemirror_mode": {
    "name": "ipython",
    "version": 3
   },
   "file_extension": ".py",
   "mimetype": "text/x-python",
   "name": "python",
   "nbconvert_exporter": "python",
   "pygments_lexer": "ipython3",
   "version": "3.10.5"
  }
 },
 "nbformat": 4,
 "nbformat_minor": 5
}

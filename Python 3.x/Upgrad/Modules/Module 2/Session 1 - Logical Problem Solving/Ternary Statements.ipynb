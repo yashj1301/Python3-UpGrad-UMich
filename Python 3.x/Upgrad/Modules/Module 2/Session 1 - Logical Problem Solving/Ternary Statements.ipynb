{
 "cells": [
  {
   "cell_type": "markdown",
   "id": "35a5e410-9033-4395-94af-076c50f79041",
   "metadata": {},
   "source": [
    "## Ternary Statements"
   ]
  },
  {
   "cell_type": "markdown",
   "id": "230ef062-8255-4366-8f61-02421ea38fcb",
   "metadata": {},
   "source": [
    "To evaluate small conditional problems, we can just write the whole code in one line. It is done using the __Ternary Operators__.\n",
    "\n",
    "It has the following syntax: `[on true] if [expression] else [on false]`\n",
    "\n",
    "Let us see a normal odd-even example."
   ]
  },
  {
   "cell_type": "code",
   "execution_count": 9,
   "id": "086bf621-fe6e-476d-94c6-35f973e213eb",
   "metadata": {},
   "outputs": [
    {
     "name": "stdin",
     "output_type": "stream",
     "text": [
      "Enter the number:  45\n"
     ]
    },
    {
     "name": "stdout",
     "output_type": "stream",
     "text": [
      "Odd\n"
     ]
    }
   ],
   "source": [
    "num=int(input('Enter the number: '));\n",
    "\n",
    "oddeven='Even' if num%2==0 else 'Odd';\n",
    "print(oddeven)"
   ]
  },
  {
   "cell_type": "markdown",
   "id": "a323a058-5ed0-49e4-90a2-59c7791fb56a",
   "metadata": {},
   "source": [
    "We can even nest ternary statements. It follows the following syntax -\n",
    "\n",
    "`[ontrue1] if [expression] else [ontrue2] if [expression2] else [ontrue3] if ...... else [onfalse]`\n",
    "\n",
    "Let us see an example."
   ]
  },
  {
   "cell_type": "code",
   "execution_count": 10,
   "id": "5a7fbbc6-5c80-485a-af71-4bf13f5b3b09",
   "metadata": {},
   "outputs": [
    {
     "name": "stdin",
     "output_type": "stream",
     "text": [
      "Enter the number 47\n"
     ]
    },
    {
     "name": "stdout",
     "output_type": "stream",
     "text": [
      "pretty\n"
     ]
    }
   ],
   "source": [
    "num=int(input('Enter the number'));\n",
    "\n",
    "cond='beautiful' if num%3==1 else 'pretty' if num%3==2 else 'sexy'\n",
    "print(cond)"
   ]
  },
  {
   "cell_type": "markdown",
   "id": "d5dfaf4e-495f-43a9-ae31-01ac22208293",
   "metadata": {},
   "source": [
    "Hence, this is how we nest ternary statements. These statements are extremely helpful when we deal with short pseudo codes."
   ]
  }
 ],
 "metadata": {
  "kernelspec": {
   "display_name": "Python 3 (ipykernel)",
   "language": "python",
   "name": "python3"
  },
  "language_info": {
   "codemirror_mode": {
    "name": "ipython",
    "version": 3
   },
   "file_extension": ".py",
   "mimetype": "text/x-python",
   "name": "python",
   "nbconvert_exporter": "python",
   "pygments_lexer": "ipython3",
   "version": "3.10.5"
  }
 },
 "nbformat": 4,
 "nbformat_minor": 5
}

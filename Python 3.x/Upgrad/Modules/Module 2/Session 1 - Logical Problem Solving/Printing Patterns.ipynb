{
 "cells": [
  {
   "cell_type": "markdown",
   "id": "ec508714-8497-4400-9fd4-fae7c4327a3d",
   "metadata": {},
   "source": [
    "## Printing Patterns"
   ]
  },
  {
   "cell_type": "markdown",
   "id": "f467110a-8721-4ed7-90ca-904bd987dac4",
   "metadata": {},
   "source": [
    "Printing Patterns are a good way to practice your iteration concepts. They are designed in a way to make you think and find creative solutions to get the desired output. \n",
    "\n",
    "Let us look at some examples."
   ]
  },
  {
   "cell_type": "markdown",
   "id": "fa1af799-1e22-4532-a35c-1a9aad19094f",
   "metadata": {},
   "source": [
    "__Arrow__"
   ]
  },
  {
   "cell_type": "code",
   "execution_count": 120,
   "id": "21143bf3-457d-400a-b78b-620c5c8a1ab9",
   "metadata": {},
   "outputs": [
    {
     "name": "stdin",
     "output_type": "stream",
     "text": [
      "enter max rows: 5\n"
     ]
    },
    {
     "name": "stdout",
     "output_type": "stream",
     "text": [
      "     \n",
      "    * \n",
      "   * * \n",
      "  * * * \n",
      " * * * * \n",
      "* * * * * \n",
      "    *\n",
      "    *\n",
      "    *\n",
      "    *\n",
      "    *\n"
     ]
    }
   ],
   "source": [
    "n=int(input('enter max rows:'))\n",
    "\n",
    "n_list=[i for i in range(1,n+1)]\n",
    "n_list\n",
    "\n",
    "for i in range(n+1):\n",
    "    for j in range(n,-1,-1):\n",
    "        if i+j==n: print(j*' '+i*'* ')\n",
    "    \n",
    "for k in range(n):\n",
    "    if n%2==0: print((n//2+1)*' '+' *')\n",
    "    else: print((n//2+1)*' '+' *')\n",
    "    "
   ]
  },
  {
   "cell_type": "markdown",
   "id": "6167f856-4871-47fb-953e-c476572b1676",
   "metadata": {},
   "source": [
    "__Christmas Tree__"
   ]
  },
  {
   "cell_type": "code",
   "execution_count": 128,
   "id": "e7e0b43e-39d8-4bd6-9e5f-76cfb039f667",
   "metadata": {},
   "outputs": [
    {
     "name": "stdin",
     "output_type": "stream",
     "text": [
      "enter the max rows: 6\n"
     ]
    },
    {
     "name": "stdout",
     "output_type": "stream",
     "text": [
      "\n",
      "     *\n",
      "    *_*\n",
      "   *_*_*\n",
      "  *_*_*_*\n",
      " *_*_*_*_*\n",
      "*_*_*_*_*_*\n",
      "     *\n",
      "     *\n",
      "     *\n",
      "     *\n"
     ]
    }
   ],
   "source": [
    "m=int(input('enter the max rows:'))\n",
    "print()\n",
    "for i,j,k in zip(range(m-1,-1,-1),[1]*m,range(0,m)):\n",
    "    print(i*' '+j*'*'+k*'_*')\n",
    "    \n",
    "for x,y in zip([m//2+1]*(m-2),[1]*(m-2)):\n",
    "    print(x*' '+y*' *')"
   ]
  },
  {
   "cell_type": "markdown",
   "id": "0c4af4fa-d589-4744-a95b-d9bc95c330fd",
   "metadata": {},
   "source": [
    "This is how patterns can be used to strengthen your grip on iterations. They are extremely helpful in making your concepts stronger, and decoding algorithms easier. "
   ]
  }
 ],
 "metadata": {
  "kernelspec": {
   "display_name": "Python 3 (ipykernel)",
   "language": "python",
   "name": "python3"
  },
  "language_info": {
   "codemirror_mode": {
    "name": "ipython",
    "version": 3
   },
   "file_extension": ".py",
   "mimetype": "text/x-python",
   "name": "python",
   "nbconvert_exporter": "python",
   "pygments_lexer": "ipython3",
   "version": "3.10.5"
  }
 },
 "nbformat": 4,
 "nbformat_minor": 5
}

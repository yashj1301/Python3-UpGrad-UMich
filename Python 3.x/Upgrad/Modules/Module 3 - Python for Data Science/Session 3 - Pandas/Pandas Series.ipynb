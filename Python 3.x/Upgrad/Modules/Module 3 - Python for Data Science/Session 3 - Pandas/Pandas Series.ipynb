{
 "cells": [
  {
   "cell_type": "markdown",
   "id": "cb0f9820-f2c2-4772-ae73-955d5caf4dd0",
   "metadata": {},
   "source": [
    "## Pandas Series"
   ]
  },
  {
   "cell_type": "markdown",
   "id": "974ab226-6994-4408-8b94-84e0249b31aa",
   "metadata": {},
   "source": [
    "The most basic object in Pandas is a __Series__. To visualise it easily, a series can be thought of as a __one-dimensional (1D) NumPy array__ with a label and an index attached to it. Also, <font color=\"red\">unlike NumPy arrays, they can contain non-numeric data (characters, dates, time, booleans, etc)</font>. Usually, you will work with Series only as part of DataFrames.\n",
    "\n",
    "First, let us import the necessary libraries for our use."
   ]
  },
  {
   "cell_type": "code",
   "execution_count": 1,
   "id": "716c3641-fbce-4edb-8076-04e567af99b9",
   "metadata": {},
   "outputs": [],
   "source": [
    "import numpy as np\n",
    "import pandas as pd"
   ]
  },
  {
   "cell_type": "markdown",
   "id": "8f8d9523-87b3-4aee-af09-c1c3571e40e5",
   "metadata": {},
   "source": [
    "Now, let us start learning on how to create a Pandas Series."
   ]
  },
  {
   "cell_type": "markdown",
   "id": "cef0f80c-5624-4509-926e-e1b58970d8c1",
   "metadata": {
    "jp-MarkdownHeadingCollapsed": true,
    "tags": []
   },
   "source": [
    "### Creating a Pandas Series"
   ]
  },
  {
   "cell_type": "markdown",
   "id": "18f6dabb-4e5b-4a40-b879-096d320ac2fb",
   "metadata": {},
   "source": [
    "Pandas Series can be created from the lists, dictionary, and from a scalar value etc. To create a Pandas Series, we use the create() method used in Pandas. It has the following syntax – \n",
    "\n",
    "__`identifier = pandas.Series(data,dtype)`__\n",
    "\n",
    "The parameter `data` is a data structure containing n number of dimensions, whereas the `dtype` is the data type of the series. Let us see an example."
   ]
  },
  {
   "cell_type": "code",
   "execution_count": 20,
   "id": "054ed5c0-7042-4d25-a98e-029f73337c14",
   "metadata": {},
   "outputs": [],
   "source": [
    "pylist=[1,2,'Yash',3,5.6,'Python',True]\n",
    "pytup=3,'Python',5,True,'Yash',5.6\n",
    "pyset=set(pylist)\n",
    "pydict={'{}M'.format(i) if i!=0 else i:pylist[i] for i in range(len(pylist))}"
   ]
  },
  {
   "cell_type": "markdown",
   "id": "3a4cca39-1639-4ecf-8138-389b437f9c89",
   "metadata": {},
   "source": [
    "Now, let us create our Pandas series."
   ]
  },
  {
   "cell_type": "code",
   "execution_count": 21,
   "id": "7098a73e-4faa-4190-a42c-0abd9c2bb470",
   "metadata": {},
   "outputs": [],
   "source": [
    "ser1,ser2,ser3=pd.Series(pylist),pd.Series(pytup),pd.Series(pydict)"
   ]
  },
  {
   "cell_type": "code",
   "execution_count": 22,
   "id": "8492fd3a-c306-4326-9d82-8fc3285ad2a0",
   "metadata": {},
   "outputs": [
    {
     "data": {
      "text/plain": [
       "0         1\n",
       "1         2\n",
       "2      Yash\n",
       "3         3\n",
       "4       5.6\n",
       "5    Python\n",
       "6      True\n",
       "dtype: object"
      ]
     },
     "execution_count": 22,
     "metadata": {},
     "output_type": "execute_result"
    }
   ],
   "source": [
    "ser1"
   ]
  },
  {
   "cell_type": "code",
   "execution_count": 23,
   "id": "1151b315-710a-47c0-a8d4-0b9753914e84",
   "metadata": {},
   "outputs": [
    {
     "data": {
      "text/plain": [
       "0          1\n",
       "1M         2\n",
       "2M      Yash\n",
       "3M         3\n",
       "4M       5.6\n",
       "5M    Python\n",
       "6M      True\n",
       "dtype: object"
      ]
     },
     "execution_count": 23,
     "metadata": {},
     "output_type": "execute_result"
    }
   ],
   "source": [
    "ser3"
   ]
  },
  {
   "cell_type": "markdown",
   "id": "aac0fe2e-2eba-47e6-9f4a-6823e87d0577",
   "metadata": {},
   "source": [
    "See? We have easily created our Pandas Series. One basic point you should notice is that the data type in each of them is an `object`, which is different from a NumPy Array. \n",
    "\n",
    "If we create a NumPy array for the same, we will see a single data type. "
   ]
  },
  {
   "cell_type": "code",
   "execution_count": 24,
   "id": "d50c98fa-6569-4534-940b-f514646fe15c",
   "metadata": {},
   "outputs": [
    {
     "data": {
      "text/plain": [
       "array(['1', '2', 'Yash', '3', '5.6', 'Python', 'True'], dtype='<U32')"
      ]
     },
     "execution_count": 24,
     "metadata": {},
     "output_type": "execute_result"
    }
   ],
   "source": [
    "nparr=np.array(pylist)\n",
    "nparr"
   ]
  },
  {
   "cell_type": "markdown",
   "id": "d116b537-75f3-45ce-acf6-452bf4dc8ef3",
   "metadata": {},
   "source": [
    "See? Our array automatically changed all elements to string data type. This is due to __data type precedence__. This is where Series are useful in comparison to NumPy arrays. We can also notice that the __series `ser3` contains an unordered index__; Another advantage from arrays. Let us see another example."
   ]
  },
  {
   "cell_type": "code",
   "execution_count": 25,
   "id": "e32de14b-f93c-4da9-8b47-b7dd802d6bce",
   "metadata": {},
   "outputs": [
    {
     "data": {
      "text/plain": [
       "font     123\n",
       "xyz     34.5\n",
       "yash    True\n",
       "dtype: object"
      ]
     },
     "execution_count": 25,
     "metadata": {},
     "output_type": "execute_result"
    }
   ],
   "source": [
    "ser4=pd.Series({'font':123,'xyz':34.5,'yash':True})\n",
    "ser4"
   ]
  },
  {
   "cell_type": "markdown",
   "id": "28a74023-d190-4f37-b21b-32effc60ad7e",
   "metadata": {},
   "source": [
    "See? This is an unordered index. We will access the elements inside it using its index only, just like a dictionary. That is why __it is easiest to create pandas objects from dictionaries__."
   ]
  },
  {
   "cell_type": "markdown",
   "id": "555581aa-9a0f-468e-b6e7-206c40e5f860",
   "metadata": {
    "tags": []
   },
   "source": [
    "### Accessing Elements inside a Pandas Series"
   ]
  },
  {
   "cell_type": "markdown",
   "id": "293d74ea-59e1-4856-9784-7be8bb195dcf",
   "metadata": {},
   "source": [
    "To access elements inside a Pandas series, we follow the same rules as we follow in NumPy arrays. The only difference is due to the fact that the indexes are mutable in series, not in arrays. So, we will see for two types of series – Ordered Index and Unordered Index series. "
   ]
  },
  {
   "cell_type": "markdown",
   "id": "3a096eb5-0260-4429-94f4-a56d3c48e97b",
   "metadata": {
    "jp-MarkdownHeadingCollapsed": true,
    "tags": []
   },
   "source": [
    "#### Ordered Indexes"
   ]
  },
  {
   "cell_type": "markdown",
   "id": "0066baf9-d5d8-46bf-b322-99824d1adced",
   "metadata": {},
   "source": [
    "In case of Ordered Index Series, we will follow exactly the same syntax as the NumPy arrays. We can do both slicing and indexing, with the only exception being that <b>we cannot do negative indexing in Series</b>. Let us see an example. "
   ]
  },
  {
   "cell_type": "code",
   "execution_count": 192,
   "id": "54c163b0-a07d-4a32-93f7-3629cdf30511",
   "metadata": {},
   "outputs": [
    {
     "data": {
      "text/plain": [
       "0    4\n",
       "1    4\n",
       "2    3\n",
       "3    2\n",
       "4    3\n",
       "5    4\n",
       "6    2\n",
       "7    4\n",
       "8    1\n",
       "9    4\n",
       "dtype: int32"
      ]
     },
     "execution_count": 192,
     "metadata": {},
     "output_type": "execute_result"
    }
   ],
   "source": [
    "ser=pd.Series(np.random.randint(1,5,10))\n",
    "ser"
   ]
  },
  {
   "cell_type": "code",
   "execution_count": 193,
   "id": "36d69f67-8bf9-46d5-ba66-8284a2c81ddf",
   "metadata": {},
   "outputs": [
    {
     "data": {
      "text/plain": [
       "(4, 1)"
      ]
     },
     "execution_count": 193,
     "metadata": {},
     "output_type": "execute_result"
    }
   ],
   "source": [
    "ser[5],ser[8]"
   ]
  },
  {
   "cell_type": "code",
   "execution_count": 67,
   "id": "a612c8be-3242-4d70-b506-5b21fbb9b833",
   "metadata": {
    "scrolled": true,
    "tags": []
   },
   "outputs": [
    {
     "ename": "KeyError",
     "evalue": "-1",
     "output_type": "error",
     "traceback": [
      "\u001b[1;31m---------------------------------------------------------------------------\u001b[0m",
      "\u001b[1;31mValueError\u001b[0m                                Traceback (most recent call last)",
      "File \u001b[1;32m~\\AppData\\Roaming\\Python\\Python310\\site-packages\\pandas\\core\\indexes\\range.py:385\u001b[0m, in \u001b[0;36mRangeIndex.get_loc\u001b[1;34m(self, key, method, tolerance)\u001b[0m\n\u001b[0;32m    384\u001b[0m \u001b[38;5;28;01mtry\u001b[39;00m:\n\u001b[1;32m--> 385\u001b[0m     \u001b[38;5;28;01mreturn\u001b[39;00m \u001b[38;5;28;43mself\u001b[39;49m\u001b[38;5;241;43m.\u001b[39;49m\u001b[43m_range\u001b[49m\u001b[38;5;241;43m.\u001b[39;49m\u001b[43mindex\u001b[49m\u001b[43m(\u001b[49m\u001b[43mnew_key\u001b[49m\u001b[43m)\u001b[49m\n\u001b[0;32m    386\u001b[0m \u001b[38;5;28;01mexcept\u001b[39;00m \u001b[38;5;167;01mValueError\u001b[39;00m \u001b[38;5;28;01mas\u001b[39;00m err:\n",
      "\u001b[1;31mValueError\u001b[0m: -1 is not in range",
      "\nThe above exception was the direct cause of the following exception:\n",
      "\u001b[1;31mKeyError\u001b[0m                                  Traceback (most recent call last)",
      "Input \u001b[1;32mIn [67]\u001b[0m, in \u001b[0;36m<cell line: 1>\u001b[1;34m()\u001b[0m\n\u001b[1;32m----> 1\u001b[0m \u001b[43mser\u001b[49m\u001b[43m[\u001b[49m\u001b[38;5;241;43m-\u001b[39;49m\u001b[38;5;241;43m1\u001b[39;49m\u001b[43m]\u001b[49m\n",
      "File \u001b[1;32m~\\AppData\\Roaming\\Python\\Python310\\site-packages\\pandas\\core\\series.py:958\u001b[0m, in \u001b[0;36mSeries.__getitem__\u001b[1;34m(self, key)\u001b[0m\n\u001b[0;32m    955\u001b[0m     \u001b[38;5;28;01mreturn\u001b[39;00m \u001b[38;5;28mself\u001b[39m\u001b[38;5;241m.\u001b[39m_values[key]\n\u001b[0;32m    957\u001b[0m \u001b[38;5;28;01melif\u001b[39;00m key_is_scalar:\n\u001b[1;32m--> 958\u001b[0m     \u001b[38;5;28;01mreturn\u001b[39;00m \u001b[38;5;28;43mself\u001b[39;49m\u001b[38;5;241;43m.\u001b[39;49m\u001b[43m_get_value\u001b[49m\u001b[43m(\u001b[49m\u001b[43mkey\u001b[49m\u001b[43m)\u001b[49m\n\u001b[0;32m    960\u001b[0m \u001b[38;5;28;01mif\u001b[39;00m is_hashable(key):\n\u001b[0;32m    961\u001b[0m     \u001b[38;5;66;03m# Otherwise index.get_value will raise InvalidIndexError\u001b[39;00m\n\u001b[0;32m    962\u001b[0m     \u001b[38;5;28;01mtry\u001b[39;00m:\n\u001b[0;32m    963\u001b[0m         \u001b[38;5;66;03m# For labels that don't resolve as scalars like tuples and frozensets\u001b[39;00m\n",
      "File \u001b[1;32m~\\AppData\\Roaming\\Python\\Python310\\site-packages\\pandas\\core\\series.py:1069\u001b[0m, in \u001b[0;36mSeries._get_value\u001b[1;34m(self, label, takeable)\u001b[0m\n\u001b[0;32m   1066\u001b[0m     \u001b[38;5;28;01mreturn\u001b[39;00m \u001b[38;5;28mself\u001b[39m\u001b[38;5;241m.\u001b[39m_values[label]\n\u001b[0;32m   1068\u001b[0m \u001b[38;5;66;03m# Similar to Index.get_value, but we do not fall back to positional\u001b[39;00m\n\u001b[1;32m-> 1069\u001b[0m loc \u001b[38;5;241m=\u001b[39m \u001b[38;5;28;43mself\u001b[39;49m\u001b[38;5;241;43m.\u001b[39;49m\u001b[43mindex\u001b[49m\u001b[38;5;241;43m.\u001b[39;49m\u001b[43mget_loc\u001b[49m\u001b[43m(\u001b[49m\u001b[43mlabel\u001b[49m\u001b[43m)\u001b[49m\n\u001b[0;32m   1070\u001b[0m \u001b[38;5;28;01mreturn\u001b[39;00m \u001b[38;5;28mself\u001b[39m\u001b[38;5;241m.\u001b[39mindex\u001b[38;5;241m.\u001b[39m_get_values_for_loc(\u001b[38;5;28mself\u001b[39m, loc, label)\n",
      "File \u001b[1;32m~\\AppData\\Roaming\\Python\\Python310\\site-packages\\pandas\\core\\indexes\\range.py:387\u001b[0m, in \u001b[0;36mRangeIndex.get_loc\u001b[1;34m(self, key, method, tolerance)\u001b[0m\n\u001b[0;32m    385\u001b[0m         \u001b[38;5;28;01mreturn\u001b[39;00m \u001b[38;5;28mself\u001b[39m\u001b[38;5;241m.\u001b[39m_range\u001b[38;5;241m.\u001b[39mindex(new_key)\n\u001b[0;32m    386\u001b[0m     \u001b[38;5;28;01mexcept\u001b[39;00m \u001b[38;5;167;01mValueError\u001b[39;00m \u001b[38;5;28;01mas\u001b[39;00m err:\n\u001b[1;32m--> 387\u001b[0m         \u001b[38;5;28;01mraise\u001b[39;00m \u001b[38;5;167;01mKeyError\u001b[39;00m(key) \u001b[38;5;28;01mfrom\u001b[39;00m \u001b[38;5;21;01merr\u001b[39;00m\n\u001b[0;32m    388\u001b[0m \u001b[38;5;28mself\u001b[39m\u001b[38;5;241m.\u001b[39m_check_indexing_error(key)\n\u001b[0;32m    389\u001b[0m \u001b[38;5;28;01mraise\u001b[39;00m \u001b[38;5;167;01mKeyError\u001b[39;00m(key)\n",
      "\u001b[1;31mKeyError\u001b[0m: -1"
     ]
    }
   ],
   "source": [
    "ser[-1]"
   ]
  },
  {
   "cell_type": "markdown",
   "id": "54ffe224-3df6-4bc7-9423-e1e317475408",
   "metadata": {},
   "source": [
    "Here, you can see that we get a valuerror, which says that -1 is not in range. This is because we cannot use negative indexing here. We can, however, use the `len()` function and subtract it by `1` to get the last element. Let us see it. "
   ]
  },
  {
   "cell_type": "code",
   "execution_count": 196,
   "id": "30abb3c8-e3ab-4521-ba47-92d3ceea65a5",
   "metadata": {},
   "outputs": [
    {
     "data": {
      "text/plain": [
       "4"
      ]
     },
     "execution_count": 196,
     "metadata": {},
     "output_type": "execute_result"
    }
   ],
   "source": [
    "ser[len(ser)-1]"
   ]
  },
  {
   "cell_type": "markdown",
   "id": "97156d9b-233a-4624-9658-e46b339ca01c",
   "metadata": {},
   "source": [
    "Here, we have hardcoded the argument, which really defeats the purpose of negative indexing, but still, it is a quick workaround. Now, let us move towards <b>slicing</b>. "
   ]
  },
  {
   "cell_type": "code",
   "execution_count": 197,
   "id": "074f004b-e401-43fb-a8cb-1019e452fd7c",
   "metadata": {},
   "outputs": [
    {
     "data": {
      "text/plain": [
       "3    2\n",
       "4    3\n",
       "5    4\n",
       "6    2\n",
       "7    4\n",
       "dtype: int32"
      ]
     },
     "execution_count": 197,
     "metadata": {},
     "output_type": "execute_result"
    }
   ],
   "source": [
    "ser[3:8]"
   ]
  },
  {
   "cell_type": "code",
   "execution_count": 198,
   "id": "ac4ec839-d922-4fca-a598-7da31ff82fa3",
   "metadata": {},
   "outputs": [
    {
     "data": {
      "text/plain": [
       "2    3\n",
       "5    4\n",
       "8    1\n",
       "dtype: int32"
      ]
     },
     "execution_count": 198,
     "metadata": {},
     "output_type": "execute_result"
    }
   ],
   "source": [
    "ser[2::3]"
   ]
  },
  {
   "cell_type": "markdown",
   "id": "25a52078-fcc5-445b-91cc-6139ad3f16a9",
   "metadata": {},
   "source": [
    "See? We can easily use indexing and slicing in this case. Now, let us see for negative slicing. In case of negative slicing, __we can use negative slicing__. Let us see some examples."
   ]
  },
  {
   "cell_type": "code",
   "execution_count": 199,
   "id": "1ec2c2b9-23b9-4b8e-b677-16e2624120df",
   "metadata": {},
   "outputs": [
    {
     "data": {
      "text/plain": [
       "8    1\n",
       "7    4\n",
       "6    2\n",
       "5    4\n",
       "4    3\n",
       "dtype: int32"
      ]
     },
     "execution_count": 199,
     "metadata": {},
     "output_type": "execute_result"
    }
   ],
   "source": [
    "ser[-2:3:-1]"
   ]
  },
  {
   "cell_type": "code",
   "execution_count": 200,
   "id": "8743e4b1-e4ff-41ce-867f-d1de8971504e",
   "metadata": {},
   "outputs": [
    {
     "data": {
      "text/plain": [
       "3    2\n",
       "4    3\n",
       "5    4\n",
       "6    2\n",
       "dtype: int32"
      ]
     },
     "execution_count": 200,
     "metadata": {},
     "output_type": "execute_result"
    }
   ],
   "source": [
    "ser[3:-3]"
   ]
  },
  {
   "cell_type": "markdown",
   "id": "2603b9cd-8e1a-4b9a-a7cd-b918ba455e58",
   "metadata": {},
   "source": [
    "See? This is how indexing is done for ordered indexes. Now, let us see for unordered indexes. "
   ]
  },
  {
   "cell_type": "markdown",
   "id": "1a0e9803-761b-4300-ac9f-118482ec2797",
   "metadata": {
    "jp-MarkdownHeadingCollapsed": true,
    "tags": []
   },
   "source": [
    "#### Unordered Indexes"
   ]
  },
  {
   "cell_type": "markdown",
   "id": "d1b5d85a-0830-4761-9dc2-535dfaa6e4ee",
   "metadata": {},
   "source": [
    "In this case, we can do indexing, but it has to be done, like we do in dictionaries. We have to specify the exact index value inside the square brackets for indexing to work. Let us see an example for this. We will use the `index` keyword argument of the `Series()` method in pandas for creating the series. "
   ]
  },
  {
   "cell_type": "code",
   "execution_count": 79,
   "id": "b3ea8086-24d7-4f0c-851e-b69a6434b467",
   "metadata": {},
   "outputs": [
    {
     "data": {
      "text/plain": [
       "4     4\n",
       "3     3\n",
       "11    3\n",
       "4     3\n",
       "5     3\n",
       "11    3\n",
       "5     3\n",
       "12    2\n",
       "11    2\n",
       "10    4\n",
       "dtype: int32"
      ]
     },
     "execution_count": 79,
     "metadata": {},
     "output_type": "execute_result"
    }
   ],
   "source": [
    "ser=pd.Series(np.random.randint(2,5,10),index=np.random.randint(2,15,10))\n",
    "ser"
   ]
  },
  {
   "cell_type": "code",
   "execution_count": 84,
   "id": "3b01ad1a-731c-47b7-9b0f-3c22c27a930c",
   "metadata": {},
   "outputs": [
    {
     "data": {
      "text/plain": [
       "4"
      ]
     },
     "execution_count": 84,
     "metadata": {},
     "output_type": "execute_result"
    }
   ],
   "source": [
    "ser[10]"
   ]
  },
  {
   "cell_type": "markdown",
   "id": "576d496e-c8bd-49f2-8a67-100537831da4",
   "metadata": {},
   "source": [
    "Here, you can see that __in the case of indexing, it is returning values as per the indexes assigned__ to those values. __This won't be the same in the case of slicing__. Let us see some examples."
   ]
  },
  {
   "cell_type": "code",
   "execution_count": 82,
   "id": "a353b694-9142-4691-9b40-07425f164771",
   "metadata": {},
   "outputs": [
    {
     "data": {
      "text/plain": [
       "5     3\n",
       "11    3\n",
       "5     3\n",
       "12    2\n",
       "dtype: int32"
      ]
     },
     "execution_count": 82,
     "metadata": {},
     "output_type": "execute_result"
    }
   ],
   "source": [
    "ser[4:8]"
   ]
  },
  {
   "cell_type": "code",
   "execution_count": 83,
   "id": "7fcbd34e-bee9-4de3-b014-e6a40ee3d04d",
   "metadata": {},
   "outputs": [
    {
     "data": {
      "text/plain": [
       "10    4\n",
       "11    2\n",
       "12    2\n",
       "5     3\n",
       "dtype: int32"
      ]
     },
     "execution_count": 83,
     "metadata": {},
     "output_type": "execute_result"
    }
   ],
   "source": [
    "ser[-1:5:-1]"
   ]
  },
  {
   "cell_type": "markdown",
   "id": "74ca6ec9-90c5-4f5a-8301-27d9486314f9",
   "metadata": {},
   "source": [
    "See? So it does not matter what are the names of your indexes, because eventually, they will follow normal indexing standards as per pandas in the case of slicing. In the case of indexing, you have to be careful."
   ]
  },
  {
   "cell_type": "markdown",
   "id": "23a80e1a-e400-4c74-bcc1-5ab1059da130",
   "metadata": {
    "jp-MarkdownHeadingCollapsed": true,
    "tags": []
   },
   "source": [
    "#### Multiple Values, Same Index"
   ]
  },
  {
   "cell_type": "markdown",
   "id": "16e8eb2e-7107-48e3-9d3d-a4e0600a1bec",
   "metadata": {},
   "source": [
    "Now, imagine you have __same index for multiple values__. What would happen when you use indexing?"
   ]
  },
  {
   "cell_type": "code",
   "execution_count": 77,
   "id": "87ab1301-1c69-47b2-aaa4-ae5b6c681611",
   "metadata": {},
   "outputs": [
    {
     "data": {
      "text/plain": [
       "one      2\n",
       "two      7\n",
       "three    9\n",
       "two      9\n",
       "five     4\n",
       "dtype: int32"
      ]
     },
     "execution_count": 77,
     "metadata": {},
     "output_type": "execute_result"
    }
   ],
   "source": [
    "ser=pd.Series(np.random.randint(2,10,5),index=['one','two','three','two','five'])\n",
    "ser"
   ]
  },
  {
   "cell_type": "code",
   "execution_count": 78,
   "id": "81f311be-4435-424b-9e0f-4c7538b71b32",
   "metadata": {},
   "outputs": [
    {
     "data": {
      "text/plain": [
       "two    7\n",
       "two    9\n",
       "dtype: int32"
      ]
     },
     "execution_count": 78,
     "metadata": {},
     "output_type": "execute_result"
    }
   ],
   "source": [
    "ser['two']"
   ]
  },
  {
   "cell_type": "markdown",
   "id": "5589e741-dbb4-4f31-8b02-d735b6a2efab",
   "metadata": {},
   "source": [
    "As you can see, it returned all the values that has the same index. This is another advantage of Series. "
   ]
  },
  {
   "cell_type": "markdown",
   "id": "c2463ef6-ef6b-4ebb-ab72-59219e09f1f8",
   "metadata": {
    "jp-MarkdownHeadingCollapsed": true,
    "tags": []
   },
   "source": [
    "#### Filter Indexing"
   ]
  },
  {
   "cell_type": "markdown",
   "id": "e9f0093f-d55d-4b44-8868-feaf148d083a",
   "metadata": {},
   "source": [
    "We can also use __filter indexing__ on Pandas Series. Let us see an example. "
   ]
  },
  {
   "cell_type": "code",
   "execution_count": 92,
   "id": "2064a83c-3450-4189-ac12-da2bebb2e676",
   "metadata": {},
   "outputs": [
    {
     "data": {
      "text/plain": [
       "0    16\n",
       "1     5\n",
       "2    68\n",
       "3     3\n",
       "4    62\n",
       "5    37\n",
       "6    30\n",
       "7    38\n",
       "8     2\n",
       "9    25\n",
       "dtype: int32"
      ]
     },
     "execution_count": 92,
     "metadata": {},
     "output_type": "execute_result"
    }
   ],
   "source": [
    "ser=pd.Series(np.random.randint(1,100,10))\n",
    "ser"
   ]
  },
  {
   "cell_type": "code",
   "execution_count": 96,
   "id": "38d03760-c6fd-4f0b-bbe3-0b397f3f365b",
   "metadata": {},
   "outputs": [
    {
     "data": {
      "text/plain": [
       "2    68\n",
       "4    62\n",
       "5    37\n",
       "6    30\n",
       "7    38\n",
       "dtype: int32"
      ]
     },
     "execution_count": 96,
     "metadata": {},
     "output_type": "execute_result"
    }
   ],
   "source": [
    "ser[ser>=ser.mean()]"
   ]
  },
  {
   "cell_type": "markdown",
   "id": "0be5901e-12d1-4686-b711-e7f162fa9dd6",
   "metadata": {},
   "source": [
    "See? This is the kind of indexing we can do with Series. Let us see some operations on Pandas Series now. "
   ]
  },
  {
   "cell_type": "markdown",
   "id": "b5319092-185a-4d31-a5d6-d0ea1e23007f",
   "metadata": {
    "jp-MarkdownHeadingCollapsed": true,
    "tags": []
   },
   "source": [
    "### Operations on Pandas Series"
   ]
  },
  {
   "cell_type": "markdown",
   "id": "3d427927-583c-4f7c-a644-498365c3016f",
   "metadata": {},
   "source": [
    "Now, we will perform some basic operations - arithmetic, membership and logical on the Pandas series. Let us create a series now. "
   ]
  },
  {
   "cell_type": "code",
   "execution_count": 88,
   "id": "bd2fa14e-b295-42f1-a8fa-2d5e691b8a8c",
   "metadata": {},
   "outputs": [
    {
     "data": {
      "text/plain": [
       "0    6\n",
       "1    3\n",
       "2    4\n",
       "3    7\n",
       "4    2\n",
       "5    4\n",
       "6    3\n",
       "7    3\n",
       "8    8\n",
       "9    5\n",
       "dtype: int32"
      ]
     },
     "execution_count": 88,
     "metadata": {},
     "output_type": "execute_result"
    }
   ],
   "source": [
    "nat=pd.Series(np.random.randint(1,10,10))\n",
    "nat"
   ]
  },
  {
   "cell_type": "markdown",
   "id": "964c6bb5-d3d5-4aa7-a054-17dd5d5e9dc2",
   "metadata": {
    "jp-MarkdownHeadingCollapsed": true,
    "tags": []
   },
   "source": [
    "#### Arithmetic Operations"
   ]
  },
  {
   "cell_type": "markdown",
   "id": "5170e2fb-5f89-4b11-86b7-85c3bcf49a03",
   "metadata": {},
   "source": [
    "In the case of Arithmetic Operations, it will __follow all the limitations of Python Lists__, because it has a multi-data type structure. Hence, only some global operators like addition and multiplication would work on a Pandas series containing all the 4 data types – integer, float, boolean and strings. \n",
    "\n",
    "If the Pandas series is of a __single data type__, then we can perform __all the allowed operations__ on that data type to it. Let us see some examples.\n"
   ]
  },
  {
   "cell_type": "code",
   "execution_count": 98,
   "id": "84a49512-155f-4d55-a78d-ece2654e0358",
   "metadata": {},
   "outputs": [
    {
     "data": {
      "text/plain": [
       "0        1\n",
       "1      2.5\n",
       "2    three\n",
       "3     True\n",
       "dtype: object"
      ]
     },
     "execution_count": 98,
     "metadata": {},
     "output_type": "execute_result"
    }
   ],
   "source": [
    "s1=pd.Series([1,2.5,'three',True])\n",
    "s1"
   ]
  },
  {
   "cell_type": "code",
   "execution_count": 104,
   "id": "eaf9a1e9-6656-4295-bd3a-6af1a0fae964",
   "metadata": {},
   "outputs": [
    {
     "data": {
      "text/plain": [
       "0                       4\n",
       "1                    10.0\n",
       "2    threethreethreethree\n",
       "3                       4\n",
       "dtype: object"
      ]
     },
     "execution_count": 104,
     "metadata": {},
     "output_type": "execute_result"
    }
   ],
   "source": [
    "s1*4"
   ]
  },
  {
   "cell_type": "markdown",
   "id": "eb754771-f847-4393-be63-21fee5c13cea",
   "metadata": {},
   "source": [
    "As you can see, the multiplication operator supports all data types, so it performs multiplication on each element as per its limitations, in this case, repetition in case of strings."
   ]
  },
  {
   "cell_type": "code",
   "execution_count": 103,
   "id": "78816c7d-4f3c-41f0-a8fe-a9787ae05f00",
   "metadata": {},
   "outputs": [
    {
     "data": {
      "text/plain": [
       "0             2\n",
       "1           5.0\n",
       "2    threethree\n",
       "3             2\n",
       "dtype: object"
      ]
     },
     "execution_count": 103,
     "metadata": {},
     "output_type": "execute_result"
    }
   ],
   "source": [
    "s1+s1"
   ]
  },
  {
   "cell_type": "markdown",
   "id": "f1973d55-a478-428b-8f19-6f4e2febf5c9",
   "metadata": {},
   "source": [
    "Similarily, the addition operator also supports all of the data types, so it simply added them, concatenation in case of strings. Other operations come with their limitations, but can be done on similar data types. Let us see an example."
   ]
  },
  {
   "cell_type": "code",
   "execution_count": 106,
   "id": "abf31e89-e547-42dd-bb0c-390bbcc729bf",
   "metadata": {},
   "outputs": [],
   "source": [
    "s1=pd.Series(np.random.randint(2,100,10))\n",
    "s2=pd.Series(np.random.randint(2,100,10))"
   ]
  },
  {
   "cell_type": "code",
   "execution_count": 107,
   "id": "491c7cab-2e6b-4216-8c16-57434e7f24fa",
   "metadata": {},
   "outputs": [
    {
     "data": {
      "text/plain": [
       "0    12\n",
       "1   -73\n",
       "2    63\n",
       "3    65\n",
       "4   -15\n",
       "5    -8\n",
       "6   -77\n",
       "7   -44\n",
       "8    27\n",
       "9     0\n",
       "dtype: int32"
      ]
     },
     "execution_count": 107,
     "metadata": {},
     "output_type": "execute_result"
    }
   ],
   "source": [
    "s1-s2"
   ]
  },
  {
   "cell_type": "code",
   "execution_count": 109,
   "id": "b4851571-57d8-474b-8e57-1e38c91465e6",
   "metadata": {},
   "outputs": [
    {
     "data": {
      "text/plain": [
       "0    12\n",
       "1    24\n",
       "2    28\n",
       "3    11\n",
       "4     7\n",
       "5    57\n",
       "6    14\n",
       "7    21\n",
       "8    27\n",
       "9     0\n",
       "dtype: int32"
      ]
     },
     "execution_count": 109,
     "metadata": {},
     "output_type": "execute_result"
    }
   ],
   "source": [
    "s1%s2"
   ]
  },
  {
   "cell_type": "markdown",
   "id": "f970cebb-71ec-447e-b47f-0e6df07771e7",
   "metadata": {},
   "source": [
    "You can see that all the operations can be performed in the same manner as NumPy arrays. Let us see now for logical operations."
   ]
  },
  {
   "cell_type": "markdown",
   "id": "3f55f284-1a1e-4453-933f-9189f70efa6b",
   "metadata": {
    "jp-MarkdownHeadingCollapsed": true,
    "tags": []
   },
   "source": [
    "#### Logical Operations"
   ]
  },
  {
   "cell_type": "markdown",
   "id": "9bc48aa5-f979-4fa1-a871-23ccd1476060",
   "metadata": {},
   "source": [
    "Logical Operations are the `and (&)` the `or (|)` and the `not (!)` operations. we can use logical operations <font color=\"darkred\">only on the same data type Pandas series</font>, because we usually need comparison operators for that, and their limitation is similar or same data type. Let us see an example."
   ]
  },
  {
   "cell_type": "code",
   "execution_count": 115,
   "id": "39055c13-9b6d-43a0-8594-e19dadc50575",
   "metadata": {},
   "outputs": [
    {
     "data": {
      "text/plain": [
       "0    92\n",
       "1    24\n",
       "2    98\n",
       "3    92\n",
       "4     7\n",
       "5    57\n",
       "6    14\n",
       "7    21\n",
       "8    85\n",
       "9    20\n",
       "dtype: int32"
      ]
     },
     "execution_count": 115,
     "metadata": {},
     "output_type": "execute_result"
    }
   ],
   "source": [
    "s1"
   ]
  },
  {
   "cell_type": "code",
   "execution_count": 120,
   "id": "c0c7e228-c324-4664-92c3-120e6b2c21f5",
   "metadata": {},
   "outputs": [
    {
     "data": {
      "text/plain": [
       "1    24\n",
       "4     7\n",
       "6    14\n",
       "7    21\n",
       "9    20\n",
       "dtype: int32"
      ]
     },
     "execution_count": 120,
     "metadata": {},
     "output_type": "execute_result"
    }
   ],
   "source": [
    "s1[(s1>=5) & (s1<50)]"
   ]
  },
  {
   "cell_type": "code",
   "execution_count": 122,
   "id": "58aadf8a-a389-4dfc-bba0-f3958bca0979",
   "metadata": {},
   "outputs": [
    {
     "data": {
      "text/plain": [
       "True"
      ]
     },
     "execution_count": 122,
     "metadata": {},
     "output_type": "execute_result"
    }
   ],
   "source": [
    "s1[5]>50 or s1[7]%3==0"
   ]
  },
  {
   "cell_type": "code",
   "execution_count": 123,
   "id": "b6bfa0c8-7760-4973-a74e-bcaad15d8d79",
   "metadata": {},
   "outputs": [
    {
     "data": {
      "text/plain": [
       "True"
      ]
     },
     "execution_count": 123,
     "metadata": {},
     "output_type": "execute_result"
    }
   ],
   "source": [
    "s1[9]!=3"
   ]
  },
  {
   "cell_type": "markdown",
   "id": "ab099728-9736-4b86-960b-73d68fa9b659",
   "metadata": {
    "jp-MarkdownHeadingCollapsed": true,
    "tags": []
   },
   "source": [
    "#### Membership Operations"
   ]
  },
  {
   "cell_type": "markdown",
   "id": "5db8371b-8cef-4b74-b312-0ea8bde02b9c",
   "metadata": {},
   "source": [
    "The membership operations are the <code>in</code> and the <code>not in</code> operations performed on the series. They also carry the same limitations, the only difference being that __they check conditions for the indexes__, not the values. Let us see some examples."
   ]
  },
  {
   "cell_type": "code",
   "execution_count": 129,
   "id": "218c7b79-4628-46c1-b0aa-387469523138",
   "metadata": {},
   "outputs": [
    {
     "data": {
      "text/plain": [
       "0    92\n",
       "1    24\n",
       "2    98\n",
       "3    92\n",
       "4     7\n",
       "5    57\n",
       "6    14\n",
       "7    21\n",
       "8    85\n",
       "9    20\n",
       "dtype: int32"
      ]
     },
     "execution_count": 129,
     "metadata": {},
     "output_type": "execute_result"
    }
   ],
   "source": [
    "s1"
   ]
  },
  {
   "cell_type": "code",
   "execution_count": 130,
   "id": "30cf08a9-3ea6-4ac6-9c8e-c054be94efc2",
   "metadata": {},
   "outputs": [
    {
     "data": {
      "text/plain": [
       "True"
      ]
     },
     "execution_count": 130,
     "metadata": {},
     "output_type": "execute_result"
    }
   ],
   "source": [
    "4 in s1"
   ]
  },
  {
   "cell_type": "code",
   "execution_count": 131,
   "id": "1d9929b4-d5f7-4a23-893c-687d485f84da",
   "metadata": {},
   "outputs": [
    {
     "data": {
      "text/plain": [
       "False"
      ]
     },
     "execution_count": 131,
     "metadata": {},
     "output_type": "execute_result"
    }
   ],
   "source": [
    "92 in s1"
   ]
  },
  {
   "cell_type": "markdown",
   "id": "cff60a5e-dc2e-4cf7-ae34-abbe06e5de07",
   "metadata": {},
   "source": [
    "See? Even though the first statement is False, and the second statement is True, it is showing the opposite, because that is in the case for indexes. This is an important difference between Pandas series and NumPy arrays.\n",
    "\n",
    "Now, let us look at some methods for Series. "
   ]
  },
  {
   "cell_type": "markdown",
   "id": "9ce3b230-2d7a-4f53-aaa2-4adefdc68b94",
   "metadata": {
    "tags": []
   },
   "source": [
    "### Methods for Pandas Series"
   ]
  },
  {
   "cell_type": "markdown",
   "id": "3b905fb4-0447-4f50-a76e-202ee8a4e11f",
   "metadata": {},
   "source": [
    "We can see how efficient Pandas Series are, without using many methods. Nevertheless, it is important to know some of the methods for Series. They follow the following syntax - \n",
    "\n",
    "__`identifier.methodname(arguments)`__\n",
    "\n",
    "The most widely used methods are -\n",
    "\n",
    "- <b>`add()`,`sub()`,`mul()`,`div()`</b> - These methods are used to return the series of sum, difference, product and float quotient of the Pandas series to the called series. They take a keyword `fill_values=0` if the lengths of the series do not match.\n",
    "- <b>`sum()`,`prod()`,`mean()`,`cov()`</b> - These methods return the sum, product, mean and covariance of the values inside a Pandas series.\n",
    "- <b>`pow()`,`abs()`</b> - These methods return the series of the exponential value and the absolute value of an array respectively. \n",
    "\n",
    "Let us see some examples."
   ]
  },
  {
   "cell_type": "code",
   "execution_count": 138,
   "id": "21b8ad72-c754-401d-b8ba-40ddc60628c9",
   "metadata": {},
   "outputs": [
    {
     "data": {
      "text/plain": [
       "0    92\n",
       "1    24\n",
       "2    98\n",
       "3    92\n",
       "4     7\n",
       "5    57\n",
       "6    14\n",
       "7    21\n",
       "8    85\n",
       "9    20\n",
       "dtype: int32"
      ]
     },
     "execution_count": 138,
     "metadata": {},
     "output_type": "execute_result"
    }
   ],
   "source": [
    "s1"
   ]
  },
  {
   "cell_type": "code",
   "execution_count": 139,
   "id": "693d1763-480c-4e2b-bc67-bf1e25372513",
   "metadata": {},
   "outputs": [
    {
     "data": {
      "text/plain": [
       "0    80\n",
       "1    97\n",
       "2    35\n",
       "3    27\n",
       "4    22\n",
       "5    65\n",
       "6    91\n",
       "7    65\n",
       "8    58\n",
       "9    20\n",
       "dtype: int32"
      ]
     },
     "execution_count": 139,
     "metadata": {},
     "output_type": "execute_result"
    }
   ],
   "source": [
    "s2"
   ]
  },
  {
   "cell_type": "code",
   "execution_count": 137,
   "id": "31243e70-4936-47bf-9d7d-9f6bb69fe6ca",
   "metadata": {},
   "outputs": [
    {
     "data": {
      "text/plain": [
       "(510, -839813120, 51.0, -125.55555555555554)"
      ]
     },
     "execution_count": 137,
     "metadata": {},
     "output_type": "execute_result"
    }
   ],
   "source": [
    "s1.sum(),s1.prod(),s1.mean(),s1.cov(s2)"
   ]
  },
  {
   "cell_type": "code",
   "execution_count": 142,
   "id": "0809d978-d34f-4d7d-8841-48856ac7fb93",
   "metadata": {},
   "outputs": [
    {
     "data": {
      "text/plain": [
       "0    1.150000\n",
       "1    0.247423\n",
       "2    2.800000\n",
       "3    3.407407\n",
       "4    0.318182\n",
       "5    0.876923\n",
       "6    0.153846\n",
       "7    0.323077\n",
       "8    1.465517\n",
       "9    1.000000\n",
       "dtype: float64"
      ]
     },
     "execution_count": 142,
     "metadata": {},
     "output_type": "execute_result"
    }
   ],
   "source": [
    "s1.div(s2)"
   ]
  },
  {
   "cell_type": "code",
   "execution_count": 145,
   "id": "1025708b-0934-48ec-8b9b-ce4c9172f1c2",
   "metadata": {},
   "outputs": [
    {
     "data": {
      "text/plain": [
       "0    12\n",
       "1   -73\n",
       "2    63\n",
       "3    65\n",
       "4   -15\n",
       "5    -8\n",
       "6   -77\n",
       "7   -44\n",
       "8    27\n",
       "9     0\n",
       "dtype: int32"
      ]
     },
     "execution_count": 145,
     "metadata": {},
     "output_type": "execute_result"
    }
   ],
   "source": [
    "s1.sub(s2)"
   ]
  },
  {
   "cell_type": "code",
   "execution_count": 146,
   "id": "52ea108e-6f05-4343-b1d1-30e0408f8920",
   "metadata": {},
   "outputs": [
    {
     "data": {
      "text/plain": [
       "0    8464\n",
       "1     576\n",
       "2    9604\n",
       "3    8464\n",
       "4      49\n",
       "5    3249\n",
       "6     196\n",
       "7     441\n",
       "8    7225\n",
       "9     400\n",
       "dtype: int32"
      ]
     },
     "execution_count": 146,
     "metadata": {},
     "output_type": "execute_result"
    }
   ],
   "source": [
    "s1.pow(2)"
   ]
  },
  {
   "cell_type": "code",
   "execution_count": 150,
   "id": "345a74ce-3847-4f5a-8c8b-e04bfbf842ce",
   "metadata": {},
   "outputs": [
    {
     "data": {
      "text/plain": [
       "0    276\n",
       "1     72\n",
       "2    294\n",
       "3    276\n",
       "4     21\n",
       "5    171\n",
       "6     42\n",
       "7     63\n",
       "8    255\n",
       "9     60\n",
       "dtype: int32"
      ]
     },
     "execution_count": 150,
     "metadata": {},
     "output_type": "execute_result"
    }
   ],
   "source": [
    "(s1*-3).abs()"
   ]
  },
  {
   "cell_type": "markdown",
   "id": "0cf332b3-e70a-405c-82a9-2eb6d91e95ac",
   "metadata": {},
   "source": [
    "Some other methods are used to perform some logical operations on the Pandas Series - \n",
    "\n",
    "- <b>`count()`,`size`</b> - These methods return the __number of non-null__ elements and __total elements__ in the series respectively. \n",
    "- <b>`between()`</b> - This method returns the __boolean series telling if the element lies between two numbers__ inclusively.\n",
    "- <b>`max()`,`idxmax()`</b> - These methods return the __maximum value and its index__ in the series respectively.\n",
    "- <b>`min()`,`idxmin()`</b> - These methods return the __minimum value and its index__ in the series respectively.\n",
    "- <b>`sort_values()`,`sort_index()`</b> - These methods are used to __sort the series by values and by index__ respectively.\n",
    "- <b>`head()`,`tail()`</b> - These methods return the __first and last `n` entries__ in the series.\n",
    "- <b>`astype()`</b> - This method is used to __change the data type__ of the series.\n",
    "- <b>`unique()`,`nunique()`,`value_counts()`</b> - These methods return the __array of unique values__, the __number of unique values__, and the __series having number of unique values for each unique number__ in the series respectively. \n",
    "\n",
    "Let us see them in action."
   ]
  },
  {
   "cell_type": "code",
   "execution_count": 152,
   "id": "b22b376d-07bc-47bc-9f9c-a330876c7a2b",
   "metadata": {},
   "outputs": [
    {
     "data": {
      "text/plain": [
       "0    92\n",
       "1    24\n",
       "2    98\n",
       "3    92\n",
       "4     7\n",
       "5    57\n",
       "6    14\n",
       "7    21\n",
       "8    85\n",
       "9    20\n",
       "dtype: int32"
      ]
     },
     "execution_count": 152,
     "metadata": {},
     "output_type": "execute_result"
    }
   ],
   "source": [
    "s1"
   ]
  },
  {
   "cell_type": "code",
   "execution_count": 156,
   "id": "9dfffc87-b74d-42b7-9e64-0da95b1e7760",
   "metadata": {},
   "outputs": [
    {
     "data": {
      "text/plain": [
       "(10, 10)"
      ]
     },
     "execution_count": 156,
     "metadata": {},
     "output_type": "execute_result"
    }
   ],
   "source": [
    "s1.count(),s1.size"
   ]
  },
  {
   "cell_type": "code",
   "execution_count": 159,
   "id": "a4cb4861-d557-426e-8902-3be28f300339",
   "metadata": {},
   "outputs": [
    {
     "data": {
      "text/plain": [
       "(98, 2, 7, 4)"
      ]
     },
     "execution_count": 159,
     "metadata": {},
     "output_type": "execute_result"
    }
   ],
   "source": [
    "s1.max(),s1.idxmax(),s1.min(),s1.idxmin()"
   ]
  },
  {
   "cell_type": "code",
   "execution_count": 162,
   "id": "1195a4a8-0ce8-4388-a4e1-f7eb2b4de27c",
   "metadata": {},
   "outputs": [
    {
     "data": {
      "text/plain": [
       "0    False\n",
       "1     True\n",
       "2    False\n",
       "3    False\n",
       "4     True\n",
       "5     True\n",
       "6     True\n",
       "7     True\n",
       "8    False\n",
       "9     True\n",
       "dtype: bool"
      ]
     },
     "execution_count": 162,
     "metadata": {},
     "output_type": "execute_result"
    }
   ],
   "source": [
    "s1.between(7,57)"
   ]
  },
  {
   "cell_type": "code",
   "execution_count": 163,
   "id": "02866606-c94e-468c-81c9-030bdea85638",
   "metadata": {},
   "outputs": [
    {
     "data": {
      "text/plain": [
       "0    92\n",
       "1    24\n",
       "2    98\n",
       "3    92\n",
       "dtype: int32"
      ]
     },
     "execution_count": 163,
     "metadata": {},
     "output_type": "execute_result"
    }
   ],
   "source": [
    "s1.head(4)"
   ]
  },
  {
   "cell_type": "code",
   "execution_count": 164,
   "id": "b9e5a0cf-943d-4588-b20d-6d52c3c41dc9",
   "metadata": {},
   "outputs": [
    {
     "data": {
      "text/plain": [
       "7    21\n",
       "8    85\n",
       "9    20\n",
       "dtype: int32"
      ]
     },
     "execution_count": 164,
     "metadata": {},
     "output_type": "execute_result"
    }
   ],
   "source": [
    "s1.tail(3)"
   ]
  },
  {
   "cell_type": "code",
   "execution_count": 183,
   "id": "5273fd00-48b5-4e20-8b18-96ab2ddf8954",
   "metadata": {},
   "outputs": [
    {
     "data": {
      "text/plain": [
       "0    92\n",
       "1    24\n",
       "2    98\n",
       "3    92\n",
       "4     7\n",
       "5    57\n",
       "6    14\n",
       "7    21\n",
       "8    85\n",
       "9    20\n",
       "dtype: object"
      ]
     },
     "execution_count": 183,
     "metadata": {},
     "output_type": "execute_result"
    }
   ],
   "source": [
    "s1.astype(str)"
   ]
  },
  {
   "cell_type": "code",
   "execution_count": 187,
   "id": "52f6cddf-3d1b-459d-90ec-276039ec7acc",
   "metadata": {},
   "outputs": [
    {
     "data": {
      "text/plain": [
       "4     7\n",
       "6    14\n",
       "9    20\n",
       "7    21\n",
       "1    24\n",
       "5    57\n",
       "8    85\n",
       "0    92\n",
       "3    92\n",
       "2    98\n",
       "dtype: int32"
      ]
     },
     "execution_count": 187,
     "metadata": {},
     "output_type": "execute_result"
    }
   ],
   "source": [
    "s1.sort_values()"
   ]
  },
  {
   "cell_type": "code",
   "execution_count": 174,
   "id": "0e8c0778-919a-4bc0-942d-4fbeabe2b4f6",
   "metadata": {},
   "outputs": [
    {
     "data": {
      "text/plain": [
       "0    2.0\n",
       "1    2.0\n",
       "2    3.0\n",
       "3    2.0\n",
       "4    3.0\n",
       "5    1.0\n",
       "6    1.0\n",
       "7    1.0\n",
       "8    3.0\n",
       "9    3.0\n",
       "dtype: float64"
      ]
     },
     "execution_count": 174,
     "metadata": {},
     "output_type": "execute_result"
    }
   ],
   "source": [
    "s3=pd.Series(np.random.randint(1,5,10),dtype=float)\n",
    "s3"
   ]
  },
  {
   "cell_type": "code",
   "execution_count": 175,
   "id": "86ef71b1-c05a-4ebf-8a32-6ded436ed301",
   "metadata": {},
   "outputs": [
    {
     "data": {
      "text/plain": [
       "(3, array([2., 3., 1.]))"
      ]
     },
     "execution_count": 175,
     "metadata": {},
     "output_type": "execute_result"
    }
   ],
   "source": [
    "s3.nunique(),s3.unique()"
   ]
  },
  {
   "cell_type": "code",
   "execution_count": 176,
   "id": "0015f958-58b3-491c-b9f2-5789dbcd48e6",
   "metadata": {},
   "outputs": [
    {
     "data": {
      "text/plain": [
       "3.0    4\n",
       "2.0    3\n",
       "1.0    3\n",
       "dtype: int64"
      ]
     },
     "execution_count": 176,
     "metadata": {},
     "output_type": "execute_result"
    }
   ],
   "source": [
    "s3.value_counts()"
   ]
  },
  {
   "cell_type": "markdown",
   "id": "27b9316f-6e13-4f59-9639-52aed1cc5089",
   "metadata": {
    "jp-MarkdownHeadingCollapsed": true,
    "tags": []
   },
   "source": [
    "It is important to note that __all these functions are return functions__, i.e. they do not overwrite or modify your existing pandas series. They have to be assigned to a variable. \n",
    "\n",
    "This is how we use Pandas Series. These have been derived from NumPy, but hold much greater flexibility and power, in many areas, as shown above. "
   ]
  }
 ],
 "metadata": {
  "kernelspec": {
   "display_name": "Python 3 (ipykernel)",
   "language": "python",
   "name": "python3"
  },
  "language_info": {
   "codemirror_mode": {
    "name": "ipython",
    "version": 3
   },
   "file_extension": ".py",
   "mimetype": "text/x-python",
   "name": "python",
   "nbconvert_exporter": "python",
   "pygments_lexer": "ipython3",
   "version": "3.10.6"
  }
 },
 "nbformat": 4,
 "nbformat_minor": 5
}

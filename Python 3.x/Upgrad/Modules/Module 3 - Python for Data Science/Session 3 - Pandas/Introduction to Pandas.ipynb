{
 "cells": [
  {
   "cell_type": "markdown",
   "id": "3a806304-3840-4a76-b828-3d81a0212898",
   "metadata": {},
   "source": [
    "## Pandas - The Panel Data Library"
   ]
  },
  {
   "cell_type": "markdown",
   "id": "6e7d9cee-4ca0-405a-ad72-03565b7c50cd",
   "metadata": {},
   "source": [
    "Pandas is a library __specifically for data analysis__ built using NumPy. You'll be using Pandas extensively for data manipulation, visualisation, building machine learning models, etc. \n",
    "\n",
    "The name Pandas is derived from the __word Panel Data__ – an Econometrics from Multidimensional data. In 2008, developer Wes McKinney started developing pandas when in need of high performance, flexible tool for analysis of data. Prior to Pandas, Python was majorly used for data munging and preparation.\n"
   ]
  },
  {
   "cell_type": "markdown",
   "id": "81e45d6f-fd37-4863-9f95-7da3a26e91ce",
   "metadata": {},
   "source": [
    "### Why are Pandas used?"
   ]
  },
  {
   "cell_type": "markdown",
   "id": "dc89429b-232b-44a0-8e0b-bc5c02b252f6",
   "metadata": {},
   "source": [
    "Pandas is an open-source library that is made mainly for working with relational or labelled data both easily and intuitively. It provides various data structures and operations for manipulating numerical data and time series.\n",
    "\n",
    "This library is built on top of the NumPy library. Pandas is fast and it has high performance & productivity for users. This is the reason it is so widely used by data scientists across the globe."
   ]
  },
  {
   "cell_type": "markdown",
   "id": "9fcd64ab-7f26-4beb-a472-ce7c32a15fb6",
   "metadata": {},
   "source": [
    "### Advantages of Pandas"
   ]
  },
  {
   "cell_type": "markdown",
   "id": "a92449c7-6353-4785-9a0d-1c4850f66dc2",
   "metadata": {},
   "source": [
    "Pandas is one of the most efficient, open-source and flexible data science libraries in the \tworld. This is due to some advantages it has – \n",
    "\n",
    "- Fast and efficient for manipulating and analyzing data.\n",
    "- Data from different file objects can be loaded.\n",
    "- Easy handling of missing data (represented as NaN) in floating point as well as non-floating-point data\n",
    "- Size mutability: columns can be inserted and deleted from DataFrame and higher dimensional objects\n",
    "- Data set merging and joining.\n",
    "- Flexible reshaping and pivoting of data sets\n",
    "- Provides time-series functionality.\n",
    "- Powerful group by functionality for performing split-apply-combine operations on data sets.\n",
    "\n",
    "These reasons are why Pandas are so popular among data scientists. Let us start working with Pandas. Let us see how we can start using this library."
   ]
  },
  {
   "cell_type": "markdown",
   "id": "6e93f564-d531-47e2-ab17-12a8f0093383",
   "metadata": {},
   "source": [
    "### Getting Started with Pandas"
   ]
  },
  {
   "cell_type": "markdown",
   "id": "234eb8f7-0ec1-4300-9c22-0c114bdf0639",
   "metadata": {},
   "source": [
    "The first step of getting started with Pandas is to import the library into our notebook. For this, we use the <font face=\"consolas\" style=\"font-weight:bold\">import</font> keyword, with the <font face=\"consolas\" style=\"font-weight:bold\">alias <font color=\"#000080\">pd</font></font>. Let us see this statement –"
   ]
  },
  {
   "cell_type": "code",
   "execution_count": 2,
   "id": "874f930c-2970-4d81-8096-285a0fe5949b",
   "metadata": {},
   "outputs": [],
   "source": [
    "import pandas as pd"
   ]
  },
  {
   "cell_type": "markdown",
   "id": "4b4c5f51-2d80-4e24-a1b6-86ade94650b1",
   "metadata": {},
   "source": [
    "Now that we have imported our library, it is time to get going. To use the pandas library, we need to understand its basics."
   ]
  },
  {
   "cell_type": "markdown",
   "id": "c6afcdb3-f3e7-44b7-b1ba-3689ffdb01dc",
   "metadata": {},
   "source": [
    "#### Basics of Pandas"
   ]
  },
  {
   "cell_type": "markdown",
   "id": "13764629-5bea-484e-ac18-64687b1cddd7",
   "metadata": {},
   "source": [
    "Pandas interacts with the data using only 2 types of objects, that are very similar to the ones we have seen in NumPy before. These objects are – \n",
    "\n",
    "- <u>Series</u> - Pandas Series is a one-dimensional labeled array capable of holding data of any type (integer, string, float, python objects, etc.). The axis labels are collectively called indexes.\n",
    "- <u>DataFrame</u> - Pandas DataFrame is a two-dimensional size-mutable, potentially heterogeneous tabular data structure with labelled axes (rows and columns).\n",
    "\n",
    "These two objects are the ways in which Pandas interact with us and the data. You can think of series as an equivalent to 1-D array, whereas a DataFrame can be thought of as a 2-D array."
   ]
  },
  {
   "cell_type": "markdown",
   "id": "ae077b32-7e00-415c-8623-f771784e649f",
   "metadata": {},
   "source": [
    "__Let us extract all the information on Pandas from Python `help()` function__"
   ]
  },
  {
   "cell_type": "code",
   "execution_count": 6,
   "id": "e54c79d3-3e9c-4753-8374-a32067294d8c",
   "metadata": {},
   "outputs": [
    {
     "name": "stderr",
     "output_type": "stream",
     "text": [
      "C:\\Program Files\\Python310\\lib\\inspect.py:469: FutureWarning: pandas.Float64Index is deprecated and will be removed from pandas in a future version. Use pandas.Index with the appropriate dtype instead.\n",
      "  value = getattr(object, key)\n",
      "C:\\Program Files\\Python310\\lib\\inspect.py:469: FutureWarning: pandas.Int64Index is deprecated and will be removed from pandas in a future version. Use pandas.Index with the appropriate dtype instead.\n",
      "  value = getattr(object, key)\n",
      "C:\\Program Files\\Python310\\lib\\inspect.py:469: FutureWarning: pandas.UInt64Index is deprecated and will be removed from pandas in a future version. Use pandas.Index with the appropriate dtype instead.\n",
      "  value = getattr(object, key)\n",
      "IOPub data rate exceeded.\n",
      "The Jupyter server will temporarily stop sending output\n",
      "to the client in order to avoid crashing it.\n",
      "To change this limit, set the config variable\n",
      "`--ServerApp.iopub_data_rate_limit`.\n",
      "\n",
      "Current values:\n",
      "ServerApp.iopub_data_rate_limit=1000000.0 (bytes/sec)\n",
      "ServerApp.rate_limit_window=3.0 (secs)\n",
      "\n"
     ]
    }
   ],
   "source": [
    "help(pd)"
   ]
  },
  {
   "cell_type": "markdown",
   "id": "b57faf71-5073-4142-80e0-cea33cab79d7",
   "metadata": {},
   "source": [
    "We cannot display the output here, because it is too long. Never mind !"
   ]
  }
 ],
 "metadata": {
  "kernelspec": {
   "display_name": "Python 3 (ipykernel)",
   "language": "python",
   "name": "python3"
  },
  "language_info": {
   "codemirror_mode": {
    "name": "ipython",
    "version": 3
   },
   "file_extension": ".py",
   "mimetype": "text/x-python",
   "name": "python",
   "nbconvert_exporter": "python",
   "pygments_lexer": "ipython3",
   "version": "3.10.6"
  }
 },
 "nbformat": 4,
 "nbformat_minor": 5
}

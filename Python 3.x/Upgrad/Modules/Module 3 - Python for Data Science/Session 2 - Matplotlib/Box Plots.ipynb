{
 "cells": [
  {
   "cell_type": "markdown",
   "id": "1ce61272-c353-4890-ae1b-8675a0a22651",
   "metadata": {},
   "source": [
    "## Box Plots"
   ]
  },
  {
   "cell_type": "markdown",
   "id": "b56d8fb4-8330-486e-9943-b0c12c7c0bb7",
   "metadata": {},
   "source": [
    "Box plots are effective in <font color=\"#000080\">summarising the spread of large data</font> into a visual representation. They take the help of <font color=\"darkred\">percentiles</font> to divide the data range.\n",
    "\n",
    "The __percentile value__ gives the proportion of the data range that falls below a chosen data point when all the data points are arranged in descending order.\n",
    "\n",
    "Boxplots are particularly helpful when we want to <font color=\"darkred\">find percentile ranges</font> , like quartile range, or inter-quartile range of a data. They also help in <font color=\"darkred\">finding out the outliers</font> in a dataset. Let us see how to create them.\n"
   ]
  },
  {
   "cell_type": "code",
   "execution_count": 1,
   "id": "8245ad02-bb45-44a8-b4e7-3f0336282f24",
   "metadata": {},
   "outputs": [],
   "source": [
    "import numpy as np\n",
    "import matplotlib.pyplot as plot"
   ]
  },
  {
   "cell_type": "markdown",
   "id": "68dc522c-03e6-405b-97fc-ed13a6d14633",
   "metadata": {},
   "source": [
    "### Creating Boxplots"
   ]
  },
  {
   "cell_type": "markdown",
   "id": "9712d75c-e79b-47b3-94e5-7b77b45b8324",
   "metadata": {},
   "source": [
    "To create boxplots, we use the __`boxplot()`__ method, which takes multiple lists as arguments, and returns their boxplot. It has the following syntax –\n",
    "\n",
    "__<code>plot.boxplot(list<sub>1</sub>,list<sub>2</sub>,list<sub>3</sub>…list<sub>n</sub>)</code>__\n",
    "\n",
    "It also takes some optional keyword arguments like – \n",
    "- <font face=\"consolas\">vert</font> – This parameter takes a boolean value and asks us if the boxplot should be horizontal or vertical.\n",
    "- <font face=\"consolas\">widths</font> – This parameter takes an array, and sets the width of the boxes. It should have a value between 0 and 1.\n",
    "- <font face=\"consolas\">meanline</font> – This parameter takes a boolean value to ask us if the meanline should be rendered as full width of the box or not. \n",
    "\n",
    "Let us see it in action.\n"
   ]
  },
  {
   "cell_type": "code",
   "execution_count": 29,
   "id": "9833c95d-f642-4311-83d5-5c9c7aea7985",
   "metadata": {},
   "outputs": [
    {
     "data": {
      "image/png": "[encoded data removed]",
      "text/plain": [
       "<Figure size 432x288 with 1 Axes>"
      ]
     },
     "metadata": {
      "needs_background": "light"
     },
     "output_type": "display_data"
    }
   ],
   "source": [
    "list_1 = [48.49, 67.54, 57.47, 68.17, 51.18, 68.31, 50.33, 66.7, 45.62, \n",
    "          43.59, 53.64, 70.08, 47.69, 61.27, 44.14, 51.62, 48.72, 65.11]\n",
    "\n",
    "plot.title('Box Plot for the Given List')\n",
    "plot.xlabel('List(s)')\n",
    "plot.ylabel('Values')\n",
    "plot.boxplot(list_1,vert=True,widths=[0.7],meanline=True)\n",
    "plot.show()"
   ]
  },
  {
   "cell_type": "markdown",
   "id": "2c151075-9733-4386-b51a-e32a6dd187d8",
   "metadata": {},
   "source": [
    "Now, let us create a horizontal boxplot having multiple lists as inputs."
   ]
  },
  {
   "cell_type": "code",
   "execution_count": 67,
   "id": "398073f6-b7fa-43d8-85b6-d8eb33d637ef",
   "metadata": {},
   "outputs": [
    {
     "data": {
      "image/png": "[encoded data removed]",
      "text/plain": [
       "<Figure size 432x288 with 1 Axes>"
      ]
     },
     "metadata": {
      "needs_background": "light"
     },
     "output_type": "display_data"
    }
   ],
   "source": [
    "x=list(np.random.randint(0,100,100))\n",
    "y=list(np.random.randint(0,100,100))\n",
    "z=list(np.random.randint(0,100,100))\n",
    "\n",
    "plot.title('Box Plot for the Given Lists',fontdict={'size':18,'family':'century schoolbook'})\n",
    "plot.xlabel('Number of Values',fontdict={'size':14,'family':'century schoolbook'})\n",
    "plot.ylabel('Lists',fontdict={'size':14,'family':'century schoolbook'})\n",
    "plot.boxplot([x,y,z],vert=False,widths=0.5)\n",
    "plot.yticks([1,2,3],['List-X','List-Y','List-Z'])\n",
    "plot.grid()"
   ]
  },
  {
   "cell_type": "markdown",
   "id": "ac4f195c-24ce-4898-8997-c23f224addf8",
   "metadata": {},
   "source": [
    "See? This is how we create boxplots for our data visualization. "
   ]
  },
  {
   "cell_type": "code",
   "execution_count": null,
   "id": "8273a4ff-6574-47f8-8ded-d3fbd8eb7fe2",
   "metadata": {},
   "outputs": [],
   "source": []
  }
 ],
 "metadata": {
  "kernelspec": {
   "display_name": "Python 3 (ipykernel)",
   "language": "python",
   "name": "python3"
  },
  "language_info": {
   "codemirror_mode": {
    "name": "ipython",
    "version": 3
   },
   "file_extension": ".py",
   "mimetype": "text/x-python",
   "name": "python",
   "nbconvert_exporter": "python",
   "pygments_lexer": "ipython3",
   "version": "3.10.6"
  }
 },
 "nbformat": 4,
 "nbformat_minor": 5
}

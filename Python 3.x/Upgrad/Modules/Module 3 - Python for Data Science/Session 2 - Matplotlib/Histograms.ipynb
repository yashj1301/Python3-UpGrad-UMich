{
 "cells": [
  {
   "cell_type": "markdown",
   "id": "a2e1490c-71c6-4853-bc5d-c5350b935064",
   "metadata": {},
   "source": [
    "## Histograms"
   ]
  },
  {
   "cell_type": "markdown",
   "id": "0378bd8e-5a71-43d0-aaaf-c7f9b74283ac",
   "metadata": {},
   "source": [
    "A Histogram is a __frequency chart__ that records the occurrence of an entry or an element in a data set. It is useful when you want to understand the distribution of a given series. Let us learn how to plot a histogram."
   ]
  },
  {
   "cell_type": "markdown",
   "id": "be827967-1486-4aee-a528-b5e844742e93",
   "metadata": {},
   "source": [
    "For plotting a histogram, we use the `hist()` method, with the pyplot package. This method takes a variable as positional argument, and takes some optional keyword arguments like the following - \n",
    "\n",
    "- <font face=\"consolas\">bins</font> - This tells us how many intervals of the variable we want to create in our histogram. It is an integer value.\n",
    "- <font face=\"consolas\">range</font> - This defines the upper and lower range of bins. It is an array.\n",
    "- <font face=\"consolas\">edgecolor</font> - This parameter lets us define the color of the edges of the bars of the histogram. \n",
    "\n",
    "Apart from this, it also takes the global parameters `color` and `label`. It has the following syntax - \n",
    "\n",
    "__`plot.hist(x,bins,range,density,color,label)`__\n",
    "\n",
    "Let us now see it in action."
   ]
  },
  {
   "cell_type": "code",
   "execution_count": 1,
   "id": "4703b620-af7e-4e7a-a848-65fe97a27e84",
   "metadata": {},
   "outputs": [],
   "source": [
    "import numpy as np\n",
    "import matplotlib.pyplot as plot"
   ]
  },
  {
   "cell_type": "markdown",
   "id": "7adf0083-d364-40bb-aa37-47768f1e6656",
   "metadata": {},
   "source": [
    "Now, let us create our array for making a histogram. "
   ]
  },
  {
   "cell_type": "code",
   "execution_count": 72,
   "id": "3972dad6-144f-49de-8f20-227342f953e2",
   "metadata": {},
   "outputs": [
    {
     "data": {
      "text/plain": [
       "array([23, 27, 27, 24, 26, 29, 25, 27, 25, 29, 22, 20, 28, 24, 22, 23, 23,\n",
       "       27, 24, 22, 26, 22, 24, 29, 24, 27, 23, 20, 29, 27, 20, 29, 28, 28,\n",
       "       20, 28, 24, 27, 22, 24, 28, 25, 23, 22, 21, 27, 29, 23, 29, 29, 29,\n",
       "       27, 24, 29, 24, 29, 27, 29, 28, 24, 20, 29, 22, 20, 29, 21, 23, 22,\n",
       "       27, 23, 22, 23, 20, 20, 26, 22, 23, 21, 21, 22, 20, 28, 21, 20, 27,\n",
       "       24, 20, 22, 24, 24, 24, 25, 22, 27, 23, 23, 26, 23, 27, 23, 24, 26,\n",
       "       26, 28, 26, 27, 26, 28, 21, 29, 24, 23, 26, 27, 28, 25, 22, 27, 25,\n",
       "       23, 26, 25, 21, 24, 29, 26, 28, 23, 27, 25, 27, 23, 20, 24, 27, 20,\n",
       "       22, 26, 23, 26, 23, 28, 26, 23, 22, 26, 21, 23, 29, 25, 26, 20, 27,\n",
       "       25, 22, 25, 24, 29, 29, 27, 20, 21, 21, 23, 21, 27, 25, 22, 29, 27,\n",
       "       20, 29, 26, 27, 26, 20, 27, 27, 20, 21, 22, 22, 29, 26, 22, 28, 23,\n",
       "       21, 28, 21, 25, 25, 28, 21, 20, 28, 27, 27, 23, 27, 25, 22, 23, 20,\n",
       "       29, 21, 20, 29, 27, 28, 28, 27, 27, 22, 25, 21, 23, 22, 25, 28, 20,\n",
       "       21, 25, 25, 29, 29, 23, 21, 26, 21, 23, 20, 24, 26, 28, 26, 22, 26,\n",
       "       27, 29, 23, 29, 28, 24, 27, 26, 20, 28, 25, 26])"
      ]
     },
     "execution_count": 72,
     "metadata": {},
     "output_type": "execute_result"
    }
   ],
   "source": [
    "x=np.random.randint(20,30,250)\n",
    "x"
   ]
  },
  {
   "cell_type": "markdown",
   "id": "7df697e1-85e2-4e4f-a0a5-16d347e52cd3",
   "metadata": {},
   "source": [
    "Finally, we will be creating our histogram now. Let us use the <font face=\"consolas\">hist()</font> method to create the histogram - "
   ]
  },
  {
   "cell_type": "code",
   "execution_count": 84,
   "id": "43b82518-0869-474b-8831-ca2866d36420",
   "metadata": {},
   "outputs": [
    {
     "data": {
      "image/png": "[encoded data removed]",
      "text/plain": [
       "<Figure size 432x288 with 1 Axes>"
      ]
     },
     "metadata": {
      "needs_background": "light"
     },
     "output_type": "display_data"
    }
   ],
   "source": [
    "plot.title('Histogram for a Random Array')\n",
    "plot.xlabel('Range')\n",
    "plot.ylabel('Frequency')\n",
    "plot.hist(x,bins=6,range=[20,30],color='red',edgecolor=\"#d3d3d3\")\n",
    "plot.show()"
   ]
  },
  {
   "cell_type": "markdown",
   "id": "0802d181-e1f5-4fe5-bf9d-0943dca9e2f1",
   "metadata": {},
   "source": [
    "See? It is so simple to create a histogram. Now, we can enhance this further, by using some additional methods for histograms - \n",
    "\n",
    "- <font face=\"consolas\">density (0 or 1)</font> - This parameter asks us if we need to show the probability distribution function (PDF) or not. \n",
    "- <font face=\"consolas\">align</font> - This parameter controls how the histogram is plotted. It has the options <font face=\"consolas\">left, right</font> and <font face=\"consolas\">mid</font>.\n",
    "- <font face=\"consolas\">histtype</font> - This parameter lets us specify the type of histogram to display. It has the options of <font face=\"consolas\">bar, barstacked, step, stepfilled</font>.\n",
    "- <font face=\"consolas\">log (0 or 1)</font> - This parameter sets the histogram axis scale to logarithmic scale.\n",
    "- <font face=\"consolas\">orientation</font> - This parameter asks us to specify if the histogram is horizontal or vertical.\n",
    "- <font face=\"consolas\">alpha</font> - This parameter defines the transparency of the bars. It takes a value between 0 (transparent) and 1 (opaque).\n",
    "\n",
    "Let us see them in action."
   ]
  },
  {
   "cell_type": "code",
   "execution_count": 87,
   "id": "474af0fd-af8c-4dbc-9c64-0fbbadaa2a94",
   "metadata": {},
   "outputs": [
    {
     "data": {
      "image/png": "[encoded data removed]",
      "text/plain": [
       "<Figure size 432x288 with 1 Axes>"
      ]
     },
     "metadata": {
      "needs_background": "light"
     },
     "output_type": "display_data"
    }
   ],
   "source": [
    "plot.title('Histogram for a Random Array')\n",
    "plot.hist(x,bins=10,range=[20,30],color='yellow',edgecolor=\"#d3d3d3\",density=1)\n",
    "plot.show()"
   ]
  },
  {
   "cell_type": "code",
   "execution_count": 90,
   "id": "871e7004-9c92-4c5d-946d-24fa059f2b6d",
   "metadata": {},
   "outputs": [
    {
     "data": {
      "image/png": "[encoded data removed]",
      "text/plain": [
       "<Figure size 432x288 with 1 Axes>"
      ]
     },
     "metadata": {
      "needs_background": "light"
     },
     "output_type": "display_data"
    }
   ],
   "source": [
    "plot.title('Histogram for a Random Array')\n",
    "plot.hist(x,bins=10,range=[20,30],color='green',\n",
    "          histtype='stepfilled',align=\"mid\",edgecolor=\"#d3d3d3\",\n",
    "          log=1)\n",
    "plot.show()"
   ]
  },
  {
   "cell_type": "code",
   "execution_count": 91,
   "id": "b3237006-18a2-43ee-9879-bab25acafb6f",
   "metadata": {},
   "outputs": [
    {
     "data": {
      "image/png": "[encoded data removed]",
      "text/plain": [
       "<Figure size 432x288 with 1 Axes>"
      ]
     },
     "metadata": {
      "needs_background": "light"
     },
     "output_type": "display_data"
    }
   ],
   "source": [
    "plot.title('Histogram for a Random Array')\n",
    "plot.hist(x,bins=5,range=[20,30],color='blue',orientation='horizontal',\n",
    "          alpha=0.5,edgecolor=\"#d3d3d3\")\n",
    "plot.show()"
   ]
  },
  {
   "cell_type": "markdown",
   "id": "2e94e070-861c-4941-84b1-827fbd171550",
   "metadata": {},
   "source": [
    "See? All these parameters are used in just one method - __`hist()`__ method, which in itself, is very efficient in creating histograms. "
   ]
  },
  {
   "cell_type": "code",
   "execution_count": null,
   "id": "2331348d-2b9c-4698-803d-2d772493fe7d",
   "metadata": {},
   "outputs": [],
   "source": []
  }
 ],
 "metadata": {
  "kernelspec": {
   "display_name": "Python 3 (ipykernel)",
   "language": "python",
   "name": "python3"
  },
  "language_info": {
   "codemirror_mode": {
    "name": "ipython",
    "version": 3
   },
   "file_extension": ".py",
   "mimetype": "text/x-python",
   "name": "python",
   "nbconvert_exporter": "python",
   "pygments_lexer": "ipython3",
   "version": "3.10.6"
  }
 },
 "nbformat": 4,
 "nbformat_minor": 5
}

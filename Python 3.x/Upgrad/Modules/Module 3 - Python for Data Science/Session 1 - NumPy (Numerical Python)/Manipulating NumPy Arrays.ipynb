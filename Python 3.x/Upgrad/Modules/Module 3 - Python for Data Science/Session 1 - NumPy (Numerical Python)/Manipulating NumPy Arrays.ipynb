{
 "cells": [
  {
   "cell_type": "markdown",
   "id": "126bd3b2-8cc9-45ce-a8c2-294dea685522",
   "metadata": {},
   "source": [
    "## Manipulating NumPy Arrays"
   ]
  },
  {
   "cell_type": "code",
   "execution_count": 1,
   "id": "3ce479f7-5374-4ebc-8064-9745e76c6871",
   "metadata": {},
   "outputs": [],
   "source": [
    "import numpy as np"
   ]
  },
  {
   "cell_type": "markdown",
   "id": "f2703db8-f8fa-4403-8629-51944b45b7de",
   "metadata": {},
   "source": [
    "While working over NumPy arrays, it is possible that you would have to manipulate data to obtain the desired results. NumPy arrays provide you with the feature of:\n",
    "- changing the shape of an array\n",
    "- combining arrays, and \n",
    "- splitting arrays................... etc."
   ]
  },
  {
   "cell_type": "markdown",
   "id": "19421f12-a46d-4ccc-8d43-3ca7da3ffd18",
   "metadata": {
    "tags": []
   },
   "source": [
    "### Stacking Arrays"
   ]
  },
  {
   "cell_type": "markdown",
   "id": "66b51e31-efa8-46fc-a584-86b6716e3651",
   "metadata": {},
   "source": [
    "When we use arithmetic operators on two arrays, it performs that operation on each element of the arrays and returns the result. However, what if we want to merge two arrays?\n",
    "\n",
    "For this purpose, __Stacking__ occurs. It is done using the `np.hstack()` and `np.vstack()` methods. For horizontal stacking, the number of rows should be the same, while for vertical stacking, the number of columns should be the same.\n",
    "\n",
    "Let us see some examples."
   ]
  },
  {
   "cell_type": "markdown",
   "id": "42a27ee8-f3db-4dc2-bbae-c8aa29ab3e22",
   "metadata": {
    "jp-MarkdownHeadingCollapsed": true,
    "tags": []
   },
   "source": [
    "#### Horizontal Stacking"
   ]
  },
  {
   "cell_type": "markdown",
   "id": "7d0bb2d2-de38-4792-83c2-7b2b968f5f82",
   "metadata": {},
   "source": [
    "Horizontal Stacking is done, when we want to merge two arrays horizontally, i.e. the number of rows does not change. Let us see some examples."
   ]
  },
  {
   "cell_type": "code",
   "execution_count": 2,
   "id": "9b1e4b33-1d31-4ee0-a40e-03ade2e4ad28",
   "metadata": {},
   "outputs": [
    {
     "data": {
      "text/plain": [
       "array([ 5,  7,  9, 11, 13])"
      ]
     },
     "execution_count": 2,
     "metadata": {},
     "output_type": "execute_result"
    }
   ],
   "source": [
    "arr1=np.arange(5,10)\n",
    "arr2=np.arange(5)\n",
    "\n",
    "arr1+arr2"
   ]
  },
  {
   "cell_type": "markdown",
   "id": "4ab18f92-dc91-454a-be08-38fa2e5bcaff",
   "metadata": {},
   "source": [
    "See? The operation returned an array of the sum of the arrays. Now, to merge these two arrays, we use the `hstack()` function. Let us see how it is used."
   ]
  },
  {
   "cell_type": "code",
   "execution_count": 7,
   "id": "479f914f-05d0-4ef3-b566-60ce46ebc1ec",
   "metadata": {},
   "outputs": [
    {
     "data": {
      "text/plain": [
       "array([0, 1, 2, 3, 4, 5, 6, 7, 8, 9])"
      ]
     },
     "execution_count": 7,
     "metadata": {},
     "output_type": "execute_result"
    }
   ],
   "source": [
    "np.hstack((arr2,arr1))"
   ]
  },
  {
   "cell_type": "markdown",
   "id": "34c7f2e8-c010-4083-9706-f83d20d91bdd",
   "metadata": {},
   "source": [
    "This is how the `hstack()` method is used to merge 2 one-dimensional arrays in python. There is one constraint for using this method - <font color=\"red\">__The arrays passed as arguments should have equal number of rows__</font>. \n",
    "\n",
    "Let us see a case where this is not true. "
   ]
  },
  {
   "cell_type": "code",
   "execution_count": 10,
   "id": "52e5fd1c-6f9d-44ae-b2c1-b555db7c2b6f",
   "metadata": {},
   "outputs": [
    {
     "data": {
      "text/plain": [
       "array([[1, 2, 3, 4],\n",
       "       [5, 6, 7, 8]])"
      ]
     },
     "execution_count": 10,
     "metadata": {},
     "output_type": "execute_result"
    }
   ],
   "source": [
    "arr1=np.array([[1,2,3,4],[5,6,7,8]])\n",
    "arr1"
   ]
  },
  {
   "cell_type": "code",
   "execution_count": 13,
   "id": "e45c98a8-6212-44f7-bef2-407d9ce34f09",
   "metadata": {},
   "outputs": [
    {
     "data": {
      "text/plain": [
       "array([0, 1, 2, 3, 4])"
      ]
     },
     "execution_count": 13,
     "metadata": {},
     "output_type": "execute_result"
    }
   ],
   "source": [
    "arr2"
   ]
  },
  {
   "cell_type": "code",
   "execution_count": 14,
   "id": "5eaa6e73-6648-429a-8c53-ab4ca24fb03b",
   "metadata": {},
   "outputs": [
    {
     "ename": "ValueError",
     "evalue": "all the input arrays must have same number of dimensions, but the array at index 0 has 1 dimension(s) and the array at index 1 has 2 dimension(s)",
     "output_type": "error",
     "traceback": [
      "\u001b[1;31m---------------------------------------------------------------------------\u001b[0m",
      "\u001b[1;31mValueError\u001b[0m                                Traceback (most recent call last)",
      "Input \u001b[1;32mIn [14]\u001b[0m, in \u001b[0;36m<cell line: 1>\u001b[1;34m()\u001b[0m\n\u001b[1;32m----> 1\u001b[0m \u001b[43mnp\u001b[49m\u001b[38;5;241;43m.\u001b[39;49m\u001b[43mhstack\u001b[49m\u001b[43m(\u001b[49m\u001b[43m(\u001b[49m\u001b[43marr2\u001b[49m\u001b[43m,\u001b[49m\u001b[43marr1\u001b[49m\u001b[43m)\u001b[49m\u001b[43m)\u001b[49m\n",
      "File \u001b[1;32m<__array_function__ internals>:180\u001b[0m, in \u001b[0;36mhstack\u001b[1;34m(*args, **kwargs)\u001b[0m\n",
      "File \u001b[1;32m~\\AppData\\Roaming\\Python\\Python310\\site-packages\\numpy\\core\\shape_base.py:343\u001b[0m, in \u001b[0;36mhstack\u001b[1;34m(tup)\u001b[0m\n\u001b[0;32m    341\u001b[0m \u001b[38;5;66;03m# As a special case, dimension 0 of 1-dimensional arrays is \"horizontal\"\u001b[39;00m\n\u001b[0;32m    342\u001b[0m \u001b[38;5;28;01mif\u001b[39;00m arrs \u001b[38;5;129;01mand\u001b[39;00m arrs[\u001b[38;5;241m0\u001b[39m]\u001b[38;5;241m.\u001b[39mndim \u001b[38;5;241m==\u001b[39m \u001b[38;5;241m1\u001b[39m:\n\u001b[1;32m--> 343\u001b[0m     \u001b[38;5;28;01mreturn\u001b[39;00m \u001b[43m_nx\u001b[49m\u001b[38;5;241;43m.\u001b[39;49m\u001b[43mconcatenate\u001b[49m\u001b[43m(\u001b[49m\u001b[43marrs\u001b[49m\u001b[43m,\u001b[49m\u001b[43m \u001b[49m\u001b[38;5;241;43m0\u001b[39;49m\u001b[43m)\u001b[49m\n\u001b[0;32m    344\u001b[0m \u001b[38;5;28;01melse\u001b[39;00m:\n\u001b[0;32m    345\u001b[0m     \u001b[38;5;28;01mreturn\u001b[39;00m _nx\u001b[38;5;241m.\u001b[39mconcatenate(arrs, \u001b[38;5;241m1\u001b[39m)\n",
      "File \u001b[1;32m<__array_function__ internals>:180\u001b[0m, in \u001b[0;36mconcatenate\u001b[1;34m(*args, **kwargs)\u001b[0m\n",
      "\u001b[1;31mValueError\u001b[0m: all the input arrays must have same number of dimensions, but the array at index 0 has 1 dimension(s) and the array at index 1 has 2 dimension(s)"
     ]
    }
   ],
   "source": [
    "np.hstack((arr2,arr1))"
   ]
  },
  {
   "cell_type": "markdown",
   "id": "2377e655-e9ba-4403-a825-c226b01b74f9",
   "metadata": {},
   "source": [
    "Hence, we cannot merge two arrays having different number of rows. This is proved now. Let us now move to vertical stacking of arrays."
   ]
  },
  {
   "cell_type": "markdown",
   "id": "5db16fdb-bbb8-4526-ae2e-126bb4eccc0e",
   "metadata": {
    "tags": []
   },
   "source": [
    "#### Vertical Stacking"
   ]
  },
  {
   "cell_type": "markdown",
   "id": "daaa1314-ef04-4f2f-8c85-8c579d163cf0",
   "metadata": {},
   "source": [
    "Vertical Stacking is done when we merge two arrays vertically, by their number of columns, i.e. the number of columns remains the same. Let us see some examples."
   ]
  },
  {
   "cell_type": "code",
   "execution_count": 16,
   "id": "afffc28f-a408-44a6-9af3-65b8137b1697",
   "metadata": {},
   "outputs": [],
   "source": [
    "arr1=np.array([[1,2,3,4,5],[6,7,8,9,10]])\n",
    "arr2=np.array([[11,12,13,14,15],[16,71,18,91,110],[21,22,24,967,30],[56,31,12,41,150]])"
   ]
  },
  {
   "cell_type": "code",
   "execution_count": 17,
   "id": "2db4d28f-1d39-4cad-a33f-b8b4a6abc8eb",
   "metadata": {},
   "outputs": [
    {
     "data": {
      "text/plain": [
       "(2, 5)"
      ]
     },
     "execution_count": 17,
     "metadata": {},
     "output_type": "execute_result"
    }
   ],
   "source": [
    "arr1.shape"
   ]
  },
  {
   "cell_type": "code",
   "execution_count": 18,
   "id": "534088aa-4955-4a18-91eb-7bfe183659c6",
   "metadata": {},
   "outputs": [
    {
     "data": {
      "text/plain": [
       "(4, 5)"
      ]
     },
     "execution_count": 18,
     "metadata": {},
     "output_type": "execute_result"
    }
   ],
   "source": [
    "arr2.shape"
   ]
  },
  {
   "cell_type": "code",
   "execution_count": 21,
   "id": "9191e46b-f2df-4b93-a862-ca35357930e4",
   "metadata": {},
   "outputs": [
    {
     "data": {
      "text/plain": [
       "array([[  1,   2,   3,   4,   5],\n",
       "       [  6,   7,   8,   9,  10],\n",
       "       [ 11,  12,  13,  14,  15],\n",
       "       [ 16,  71,  18,  91, 110],\n",
       "       [ 21,  22,  24, 967,  30],\n",
       "       [ 56,  31,  12,  41, 150]])"
      ]
     },
     "execution_count": 21,
     "metadata": {},
     "output_type": "execute_result"
    }
   ],
   "source": [
    "np.vstack((arr1,arr2))"
   ]
  },
  {
   "cell_type": "markdown",
   "id": "3b2df013-0464-498d-9869-fcee6b894cb7",
   "metadata": {},
   "source": [
    "See? This is how the 2-D arrays are merged. Here also, we have a constraint - <font color=\"red\"> __We cannot merge two arrays having different number of columns__</font>. Let us see an example where this is true."
   ]
  },
  {
   "cell_type": "code",
   "execution_count": 22,
   "id": "c0334240-eb35-4767-bdb3-a83c6ccc74a7",
   "metadata": {},
   "outputs": [],
   "source": [
    "arr1=np.array([[1,2,3,4,5],[6,7,8,9,10]])\n",
    "arr2=np.array([[11,12,13,14],[16,71,18,91],[21,22,24,967],[56,31,12,41]])"
   ]
  },
  {
   "cell_type": "code",
   "execution_count": 23,
   "id": "dca3787a-4efa-46a9-9c8f-d6f24be2bdef",
   "metadata": {},
   "outputs": [
    {
     "data": {
      "text/plain": [
       "(2, 5)"
      ]
     },
     "execution_count": 23,
     "metadata": {},
     "output_type": "execute_result"
    }
   ],
   "source": [
    "arr1.shape"
   ]
  },
  {
   "cell_type": "code",
   "execution_count": 24,
   "id": "d91088b5-bb5d-4f77-9eaa-b451dda14172",
   "metadata": {},
   "outputs": [
    {
     "data": {
      "text/plain": [
       "(4, 4)"
      ]
     },
     "execution_count": 24,
     "metadata": {},
     "output_type": "execute_result"
    }
   ],
   "source": [
    "arr2.shape"
   ]
  },
  {
   "cell_type": "code",
   "execution_count": 26,
   "id": "1b04329c-dfe2-4cc1-8264-dc03a9db1453",
   "metadata": {},
   "outputs": [
    {
     "ename": "ValueError",
     "evalue": "all the input array dimensions for the concatenation axis must match exactly, but along dimension 1, the array at index 0 has size 5 and the array at index 1 has size 4",
     "output_type": "error",
     "traceback": [
      "\u001b[1;31m---------------------------------------------------------------------------\u001b[0m",
      "\u001b[1;31mValueError\u001b[0m                                Traceback (most recent call last)",
      "Input \u001b[1;32mIn [26]\u001b[0m, in \u001b[0;36m<cell line: 1>\u001b[1;34m()\u001b[0m\n\u001b[1;32m----> 1\u001b[0m \u001b[43mnp\u001b[49m\u001b[38;5;241;43m.\u001b[39;49m\u001b[43mvstack\u001b[49m\u001b[43m(\u001b[49m\u001b[43m(\u001b[49m\u001b[43marr1\u001b[49m\u001b[43m,\u001b[49m\u001b[43marr2\u001b[49m\u001b[43m)\u001b[49m\u001b[43m)\u001b[49m\n",
      "File \u001b[1;32m<__array_function__ internals>:180\u001b[0m, in \u001b[0;36mvstack\u001b[1;34m(*args, **kwargs)\u001b[0m\n",
      "File \u001b[1;32m~\\AppData\\Roaming\\Python\\Python310\\site-packages\\numpy\\core\\shape_base.py:282\u001b[0m, in \u001b[0;36mvstack\u001b[1;34m(tup)\u001b[0m\n\u001b[0;32m    280\u001b[0m \u001b[38;5;28;01mif\u001b[39;00m \u001b[38;5;129;01mnot\u001b[39;00m \u001b[38;5;28misinstance\u001b[39m(arrs, \u001b[38;5;28mlist\u001b[39m):\n\u001b[0;32m    281\u001b[0m     arrs \u001b[38;5;241m=\u001b[39m [arrs]\n\u001b[1;32m--> 282\u001b[0m \u001b[38;5;28;01mreturn\u001b[39;00m \u001b[43m_nx\u001b[49m\u001b[38;5;241;43m.\u001b[39;49m\u001b[43mconcatenate\u001b[49m\u001b[43m(\u001b[49m\u001b[43marrs\u001b[49m\u001b[43m,\u001b[49m\u001b[43m \u001b[49m\u001b[38;5;241;43m0\u001b[39;49m\u001b[43m)\u001b[49m\n",
      "File \u001b[1;32m<__array_function__ internals>:180\u001b[0m, in \u001b[0;36mconcatenate\u001b[1;34m(*args, **kwargs)\u001b[0m\n",
      "\u001b[1;31mValueError\u001b[0m: all the input array dimensions for the concatenation axis must match exactly, but along dimension 1, the array at index 0 has size 5 and the array at index 1 has size 4"
     ]
    }
   ],
   "source": [
    "np.vstack((arr1,arr2))"
   ]
  },
  {
   "cell_type": "markdown",
   "id": "88e822f7-9a62-40d9-b668-e45934fb9547",
   "metadata": {},
   "source": [
    "Hence, it is proved that for stacking, we need to have the corresponding rows and columns equal, depending on the kind of stacking occurring."
   ]
  },
  {
   "cell_type": "markdown",
   "id": "a867b53c-449a-4237-923b-82d492e1e030",
   "metadata": {},
   "source": [
    "### Reshaping Arrays"
   ]
  },
  {
   "cell_type": "markdown",
   "id": "34881ef0-680e-4af9-8110-7b7165391b4f",
   "metadata": {},
   "source": [
    "Reshaping arrays means that we are defining the number of rows and columns of the array. We are changing its dimensions, by specifying new dimensions. \n",
    "\n",
    "Reshaping is done via the `reshape()` method, which takes the array identifier, and a tuple of the rows and columns as arguments. Let us see the syntax - \n",
    "\n",
    "`np.reshape(identifier,(rows,cols))`\n",
    "\n",
    "Let us see this in action."
   ]
  },
  {
   "cell_type": "code",
   "execution_count": 29,
   "id": "00222c05-c7a7-44fd-9082-f6118ac32076",
   "metadata": {},
   "outputs": [
    {
     "data": {
      "text/plain": [
       "array([  1,   2,   3,   4,   5,   6,   7,   8,   9,  10,  11,  12,  13,\n",
       "        14,  15,  16,  17,  18,  19,  20,  21,  22,  23,  24,  25,  26,\n",
       "        27,  28,  29,  30,  31,  32,  33,  34,  35,  36,  37,  38,  39,\n",
       "        40,  41,  42,  43,  44,  45,  46,  47,  48,  49,  50,  51,  52,\n",
       "        53,  54,  55,  56,  57,  58,  59,  60,  61,  62,  63,  64,  65,\n",
       "        66,  67,  68,  69,  70,  71,  72,  73,  74,  75,  76,  77,  78,\n",
       "        79,  80,  81,  82,  83,  84,  85,  86,  87,  88,  89,  90,  91,\n",
       "        92,  93,  94,  95,  96,  97,  98,  99, 100, 101, 102, 103, 104,\n",
       "       105, 106, 107, 108, 109, 110, 111, 112, 113, 114, 115, 116, 117,\n",
       "       118, 119, 120, 121, 122, 123, 124, 125, 126, 127, 128, 129, 130,\n",
       "       131, 132])"
      ]
     },
     "execution_count": 29,
     "metadata": {},
     "output_type": "execute_result"
    }
   ],
   "source": [
    "arr=np.array(list(range(1,11*12+1)))\n",
    "arr"
   ]
  },
  {
   "cell_type": "markdown",
   "id": "62ca84d1-0d3a-48c6-ae02-498ff4387225",
   "metadata": {},
   "source": [
    "Now, let us convert this array, into an array of 11x12 dimensions, i.e. 11 rows and 12 columns. "
   ]
  },
  {
   "cell_type": "code",
   "execution_count": 32,
   "id": "1ca18ff8-ec33-4fed-8bea-907faa847553",
   "metadata": {
    "tags": []
   },
   "outputs": [
    {
     "data": {
      "text/plain": [
       "((11, 12), (132,))"
      ]
     },
     "execution_count": 32,
     "metadata": {},
     "output_type": "execute_result"
    }
   ],
   "source": [
    "newarr=np.reshape(arr,(11,12))\n",
    "newarr.shape,arr.shape"
   ]
  },
  {
   "cell_type": "markdown",
   "id": "241fa54c-50d5-47f6-b3b3-11510ca9a636",
   "metadata": {},
   "source": [
    "See? This is how easily we reshaped an array. Now, let us see a special case. "
   ]
  },
  {
   "cell_type": "code",
   "execution_count": 33,
   "id": "d6224f03-9348-44c1-8004-037d3c490245",
   "metadata": {},
   "outputs": [
    {
     "data": {
      "text/plain": [
       "array([ 1,  2,  3,  4,  5,  6,  7,  8,  9, 10, 11, 12, 13, 14, 15, 16, 17,\n",
       "       18, 19, 20, 21, 22, 23, 24, 25, 26, 27, 28, 29, 30])"
      ]
     },
     "execution_count": 33,
     "metadata": {},
     "output_type": "execute_result"
    }
   ],
   "source": [
    "arr1=np.array(list(range(1,5*6+1)))\n",
    "arr1"
   ]
  },
  {
   "cell_type": "code",
   "execution_count": 36,
   "id": "cc836113-2150-4544-9ac9-e19acc190c58",
   "metadata": {},
   "outputs": [
    {
     "data": {
      "text/plain": [
       "array([[ 1,  2,  3,  4,  5,  6],\n",
       "       [ 7,  8,  9, 10, 11, 12],\n",
       "       [13, 14, 15, 16, 17, 18],\n",
       "       [19, 20, 21, 22, 23, 24],\n",
       "       [25, 26, 27, 28, 29, 30]])"
      ]
     },
     "execution_count": 36,
     "metadata": {},
     "output_type": "execute_result"
    }
   ],
   "source": [
    "np.reshape(arr1,(5,-1))"
   ]
  },
  {
   "cell_type": "markdown",
   "id": "c74d8692-179c-45b0-8d83-88ee9ecc0aaf",
   "metadata": {},
   "source": [
    "This is how we distributed the array into an array having 5 rows. Hence, ___we can also specify only one parameter out of rows and columns___, keeping the other one as -1."
   ]
  },
  {
   "cell_type": "code",
   "execution_count": 37,
   "id": "82569172-c19a-4fcb-a7aa-e31106065fc1",
   "metadata": {},
   "outputs": [
    {
     "data": {
      "text/plain": [
       "array([[ 1,  2,  3,  4,  5],\n",
       "       [ 6,  7,  8,  9, 10],\n",
       "       [11, 12, 13, 14, 15],\n",
       "       [16, 17, 18, 19, 20],\n",
       "       [21, 22, 23, 24, 25],\n",
       "       [26, 27, 28, 29, 30]])"
      ]
     },
     "execution_count": 37,
     "metadata": {},
     "output_type": "execute_result"
    }
   ],
   "source": [
    "np.reshape(arr1,(-1,5))"
   ]
  },
  {
   "cell_type": "markdown",
   "id": "0ad5a9c6-3bb5-4637-9476-b56570671d05",
   "metadata": {},
   "source": [
    "See? This is such a simple way of creating multi-dimensional arrays. Let us see the dimensions for them."
   ]
  },
  {
   "cell_type": "code",
   "execution_count": 39,
   "id": "7a9f0f11-7803-4f6f-ae3f-dbd620f8dec2",
   "metadata": {},
   "outputs": [
    {
     "data": {
      "text/plain": [
       "(2, 2)"
      ]
     },
     "execution_count": 39,
     "metadata": {},
     "output_type": "execute_result"
    }
   ],
   "source": [
    "row5,col5=np.reshape(arr1,(5,-1)),np.reshape(arr1,(-1,3))\n",
    "row5.ndim,col5.ndim"
   ]
  },
  {
   "cell_type": "markdown",
   "id": "f489093b-4381-4e24-9d74-2083902a26f0",
   "metadata": {},
   "source": [
    "__Changing a 2D Array to 1D Array__"
   ]
  },
  {
   "cell_type": "code",
   "execution_count": 83,
   "id": "3f64f068-a823-4805-b6f0-5e2d0ee2ebd2",
   "metadata": {},
   "outputs": [
    {
     "data": {
      "text/plain": [
       "array([ 1,  2,  3,  4,  5,  6,  7,  8,  9, 10, 11, 12, 13, 14, 15, 16, 17,\n",
       "       18, 19, 20, 21, 22, 23, 24, 25, 26, 27, 28, 29, 30])"
      ]
     },
     "execution_count": 83,
     "metadata": {},
     "output_type": "execute_result"
    }
   ],
   "source": [
    "row1=row5.reshape(1,-1)[0]\n",
    "row1"
   ]
  },
  {
   "cell_type": "code",
   "execution_count": 70,
   "id": "453a07b1-5d10-47f0-ab00-09193e92ff0e",
   "metadata": {},
   "outputs": [
    {
     "data": {
      "text/plain": [
       "1"
      ]
     },
     "execution_count": 70,
     "metadata": {},
     "output_type": "execute_result"
    }
   ],
   "source": [
    "row1.ndim"
   ]
  },
  {
   "cell_type": "markdown",
   "id": "4acc8b5e-9e38-4997-985d-3bfe51e65afb",
   "metadata": {},
   "source": [
    "Hence, we created 2-D arrays by manipulating a 1-D array. This speaks volumes of the efficiency of arrays over lists. Can you think of a non-complicated way of doing this for python lists? Try to explore more !"
   ]
  }
 ],
 "metadata": {
  "kernelspec": {
   "display_name": "Python 3 (ipykernel)",
   "language": "python",
   "name": "python3"
  },
  "language_info": {
   "codemirror_mode": {
    "name": "ipython",
    "version": 3
   },
   "file_extension": ".py",
   "mimetype": "text/x-python",
   "name": "python",
   "nbconvert_exporter": "python",
   "pygments_lexer": "ipython3",
   "version": "3.10.6"
  }
 },
 "nbformat": 4,
 "nbformat_minor": 5
}

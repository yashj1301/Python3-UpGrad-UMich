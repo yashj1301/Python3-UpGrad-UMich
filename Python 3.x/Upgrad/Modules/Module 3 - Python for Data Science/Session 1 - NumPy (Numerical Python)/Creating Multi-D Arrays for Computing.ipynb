{
 "cells": [
  {
   "cell_type": "markdown",
   "id": "aec5533f-67e0-44d7-a9b6-6fc010c56a75",
   "metadata": {},
   "source": [
    "## Creating Multi-dimensional Arrays for Computing"
   ]
  },
  {
   "cell_type": "markdown",
   "id": "1f92b71e-349e-4e74-8413-10eb78b848a7",
   "metadata": {},
   "source": [
    "Now, we will be focusing on creating multi-dimensional arrays for numerical computing. These may not be used as extensively in data science, but they are an integral part of the NumPy library. \n",
    "\n",
    "Let us now look at them. "
   ]
  },
  {
   "cell_type": "code",
   "execution_count": 1,
   "id": "6e69e0cb-f6c0-4215-94c1-b27d5704d7c7",
   "metadata": {},
   "outputs": [],
   "source": [
    "import numpy as np"
   ]
  },
  {
   "cell_type": "markdown",
   "id": "15337dd9-4cc5-4d4b-b8bd-b9e5975a7e5d",
   "metadata": {
    "jp-MarkdownHeadingCollapsed": true,
    "tags": []
   },
   "source": [
    "### Creating arrays of binary numbers 0 and 1"
   ]
  },
  {
   "cell_type": "markdown",
   "id": "63d43173-b2ca-4ad0-a42e-8c5655938745",
   "metadata": {},
   "source": [
    "We have some specified methods to create arrays of the binary numbers 0 and 1. These pre-defined methods create multi-dimensional arrays for us containing either 0 or 1 or both. These methods are -\n",
    "\n",
    "1. __`zeros()`__ - This method creates an array of zeros. It takes a number, or a numerical data structure as arguments.  \n",
    "2. __`ones()`__ - This method creates an array of ones. It takes arguments similar to the `zeros()` method.  \n",
    "3. __`full()`__ - This method creates an array of a single number repeated to the size of the array, both being specified as arguments. This can be an array of 2s, 3s, 10s or any other number.  \n",
    "4. __`eye()`__ - This method creates an identity matrix of `'n'` dimensions, where `n` is taken as a parameter. \n",
    "5. __`tile()`__ - This method creates an array by repeating the data structure defined in its arguments by a number `'n'`, which is also given as argument.\n",
    "\n",
    "Let us now see them in action."
   ]
  },
  {
   "cell_type": "code",
   "execution_count": 2,
   "id": "c0d5c7b6-a7f0-470a-bb77-24ac920bc764",
   "metadata": {},
   "outputs": [
    {
     "data": {
      "text/plain": [
       "array([[0., 0., 0.],\n",
       "       [0., 0., 0.],\n",
       "       [0., 0., 0.],\n",
       "       [0., 0., 0.],\n",
       "       [0., 0., 0.]])"
      ]
     },
     "execution_count": 2,
     "metadata": {},
     "output_type": "execute_result"
    }
   ],
   "source": [
    "np.zeros((5,3))"
   ]
  },
  {
   "cell_type": "code",
   "execution_count": 3,
   "id": "830f860d-5454-4c0d-b1e0-a1246086d5f0",
   "metadata": {},
   "outputs": [
    {
     "data": {
      "text/plain": [
       "array([[1., 1., 1., 1.],\n",
       "       [1., 1., 1., 1.],\n",
       "       [1., 1., 1., 1.]])"
      ]
     },
     "execution_count": 3,
     "metadata": {},
     "output_type": "execute_result"
    }
   ],
   "source": [
    "np.ones((3,4))"
   ]
  },
  {
   "cell_type": "code",
   "execution_count": 4,
   "id": "73bbddcd-583a-4a82-8e75-61985dd4ce21",
   "metadata": {},
   "outputs": [
    {
     "data": {
      "text/plain": [
       "array([[2, 2, 2, 2],\n",
       "       [2, 2, 2, 2],\n",
       "       [2, 2, 2, 2],\n",
       "       [2, 2, 2, 2],\n",
       "       [2, 2, 2, 2]])"
      ]
     },
     "execution_count": 4,
     "metadata": {},
     "output_type": "execute_result"
    }
   ],
   "source": [
    "np.full([5,4],2)"
   ]
  },
  {
   "cell_type": "code",
   "execution_count": 5,
   "id": "c37c0cfb-7e66-4850-9c5d-91953c3c7e95",
   "metadata": {},
   "outputs": [
    {
     "data": {
      "text/plain": [
       "array([[1., 0., 0., 0., 0.],\n",
       "       [0., 1., 0., 0., 0.],\n",
       "       [0., 0., 1., 0., 0.],\n",
       "       [0., 0., 0., 1., 0.],\n",
       "       [0., 0., 0., 0., 1.]])"
      ]
     },
     "execution_count": 5,
     "metadata": {},
     "output_type": "execute_result"
    }
   ],
   "source": [
    "np.eye(5)"
   ]
  },
  {
   "cell_type": "code",
   "execution_count": 6,
   "id": "1618dd25-04c2-4f7a-b8fb-f092f13b68ae",
   "metadata": {},
   "outputs": [
    {
     "data": {
      "text/plain": [
       "array([1, 2, 3, 4, 5, 4, 3, 2, 1, 0, 1, 2, 3, 4, 5, 4, 3, 2, 1, 0, 1, 2,\n",
       "       3, 4, 5, 4, 3, 2, 1, 0, 1, 2, 3, 4, 5, 4, 3, 2, 1, 0])"
      ]
     },
     "execution_count": 6,
     "metadata": {},
     "output_type": "execute_result"
    }
   ],
   "source": [
    "np.tile([1,2,3,4,5,4,3,2,1,0],4)"
   ]
  },
  {
   "cell_type": "markdown",
   "id": "9a4eae27-2ebc-4e2a-8b1f-7a3406e7f452",
   "metadata": {},
   "source": [
    "These methods are very useful for creating printing patterns. However, more often than not, we have to deal with sequences of different types in data science. For them, we have some more methods to create arrays. "
   ]
  },
  {
   "cell_type": "markdown",
   "id": "07fd36b8-4d37-4edc-ae32-cf948cf9ceec",
   "metadata": {
    "jp-MarkdownHeadingCollapsed": true,
    "tags": []
   },
   "source": [
    "### Creating Arrays for Sequences"
   ]
  },
  {
   "cell_type": "markdown",
   "id": "aaadc08a-035f-4171-a167-550c076ae4d8",
   "metadata": {
    "tags": []
   },
   "source": [
    "Now, we will be using some methods used to create arrays that follow a particular sequence. This can already be accomplished by using the `range()` function, but these methods are a step-up from the function. They are -\n",
    "\n",
    "1. __`arange()`__ - This method creates an array of integers by defining a start, end and step value. In many ways, it is similar to the `range()` function. It takes a start value, an end value, and a step value as arguments.   \n",
    "2. __`linspace()`__ - This method will create an array of numbers between two numbers, and a chunk value given, which will decide how many elements the array will have. For eg. if the chunk is 20, and the numbers are 0 and 5, then the array will contain 20 numbers between 0 and 5.\n",
    "3. __`random()`__ - This function will create an array of random numbers between any two numbers, that are taken as arguments. \n",
    "\n",
    "Let us now see them in action."
   ]
  },
  {
   "cell_type": "code",
   "execution_count": 7,
   "id": "5e392c76-bcb0-407b-8bf7-83cb23f3dd31",
   "metadata": {},
   "outputs": [
    {
     "data": {
      "text/plain": [
       "array([0.  , 0.25, 0.5 , 0.75, 1.  , 1.25, 1.5 , 1.75, 2.  , 2.25, 2.5 ,\n",
       "       2.75, 3.  , 3.25, 3.5 , 3.75, 4.  , 4.25, 4.5 , 4.75, 5.  , 5.25,\n",
       "       5.5 , 5.75, 6.  , 6.25, 6.5 , 6.75, 7.  , 7.25, 7.5 , 7.75, 8.  ,\n",
       "       8.25, 8.5 , 8.75, 9.  , 9.25, 9.5 , 9.75])"
      ]
     },
     "execution_count": 7,
     "metadata": {},
     "output_type": "execute_result"
    }
   ],
   "source": [
    "np.arange(0,10,0.25)"
   ]
  },
  {
   "cell_type": "code",
   "execution_count": 8,
   "id": "9a9b5bc7-dff4-4ab2-9446-af9953d1131b",
   "metadata": {},
   "outputs": [
    {
     "data": {
      "text/plain": [
       "array([ 0.        ,  0.52631579,  1.05263158,  1.57894737,  2.10526316,\n",
       "        2.63157895,  3.15789474,  3.68421053,  4.21052632,  4.73684211,\n",
       "        5.26315789,  5.78947368,  6.31578947,  6.84210526,  7.36842105,\n",
       "        7.89473684,  8.42105263,  8.94736842,  9.47368421, 10.        ])"
      ]
     },
     "execution_count": 8,
     "metadata": {},
     "output_type": "execute_result"
    }
   ],
   "source": [
    "np.linspace(0,10,20)"
   ]
  },
  {
   "cell_type": "code",
   "execution_count": 9,
   "id": "3ca6e41e-9766-4315-b5b9-f56b65c442d7",
   "metadata": {},
   "outputs": [
    {
     "data": {
      "text/plain": [
       "array([0.24892976, 0.16040531, 0.72534257, 0.8651455 , 0.31583676,\n",
       "       0.34373613, 0.77078745, 0.13698691, 0.87051141, 0.53831621,\n",
       "       0.39162707, 0.61714935, 0.65558715, 0.13827088, 0.26205726,\n",
       "       0.42986083, 0.56794717, 0.86858147, 0.01265645, 0.66620235])"
      ]
     },
     "execution_count": 9,
     "metadata": {},
     "output_type": "execute_result"
    }
   ],
   "source": [
    "np.random.random(20)"
   ]
  },
  {
   "cell_type": "markdown",
   "id": "561432f1-ed8a-4061-8eba-1415179b13f5",
   "metadata": {},
   "source": [
    "We also have another method `randint()`, that takes two values as arguments and returns a random integer between them. Let us see how it is used."
   ]
  },
  {
   "cell_type": "code",
   "execution_count": 10,
   "id": "20bdaa1f-4c8b-4b9d-bde0-c3b115227e94",
   "metadata": {},
   "outputs": [
    {
     "data": {
      "text/plain": [
       "9"
      ]
     },
     "execution_count": 10,
     "metadata": {},
     "output_type": "execute_result"
    }
   ],
   "source": [
    "np.random.randint(-5,10)"
   ]
  },
  {
   "cell_type": "markdown",
   "id": "152d9da8-16ea-4fc2-86a4-61b0c4544352",
   "metadata": {},
   "source": [
    "This is how arrays are used to create specific sequences. Next, we will see how we can create arrays for special mathematical functions."
   ]
  },
  {
   "cell_type": "markdown",
   "id": "546b4f58-3a27-42c4-ae60-3b27f2cbf5ea",
   "metadata": {
    "tags": []
   },
   "source": [
    "### Creating Arrays using methods for Special Mathematical Functions"
   ]
  },
  {
   "cell_type": "markdown",
   "id": "d0eb03cd-7add-443f-aed3-7e91a96f0718",
   "metadata": {},
   "source": [
    "Here, we will create arrays using methods that define some special mathematical functions. These include trigonometric ratios like sine,cosines,tangents, or exponential functions like power and log. It has the following methods -\n",
    "\n",
    "1. __`power()`__ - This method is used to create an array of powers of a data structure. We can simply use the power operator (**) but this is another way to do it. \n",
    "2. __`absolute()`__ - This method is used to return an array that gives all the absolute (positive) values of each numeric element inside the array.\n",
    "3. __`sin()`__ - This method is used to create an array of the sines of all the elements inside the array.\n",
    "4. __`cos()`__ - This method is used to create an array of the cosines of all the elements inside the array.\n",
    "5. __`log()`__ - This method is used to create an array of the logarithms of all the elements inside the array.\n",
    "\n",
    "Let us see them in action."
   ]
  },
  {
   "cell_type": "code",
   "execution_count": 12,
   "id": "556ad7d2-02c3-4e95-93ef-7c4cdd5c0d83",
   "metadata": {},
   "outputs": [
    {
     "name": "stdout",
     "output_type": "stream",
     "text": [
      "[10.         10.51724138 11.03448276 11.55172414 12.06896552 12.5862069\n",
      " 13.10344828 13.62068966 14.13793103 14.65517241 15.17241379 15.68965517\n",
      " 16.20689655 16.72413793 17.24137931 17.75862069 18.27586207 18.79310345\n",
      " 19.31034483 19.82758621 20.34482759 20.86206897 21.37931034 21.89655172\n",
      " 22.4137931  22.93103448 23.44827586 23.96551724 24.48275862 25.        ]\n",
      "\n",
      "[1.00000000e-03 8.59596178e-04 7.44293213e-04 6.48723413e-04\n",
      " 5.68839650e-04 5.01551346e-04 4.44470768e-04 3.95733400e-04\n",
      " 3.53868922e-04 3.17707307e-04 2.86309636e-04 2.58916545e-04\n",
      " 2.34909413e-04 2.13780839e-04 1.95112000e-04 1.78555119e-04\n",
      " 1.63819798e-04 1.50662263e-04 1.38876868e-04 1.28289307e-04\n",
      " 1.18751187e-04 1.10135637e-04 1.02333759e-04 9.52517181e-05\n",
      " 8.88083751e-05 8.29333212e-05 7.75652605e-05 7.26506627e-05\n",
      " 6.81426388e-05 6.40000000e-05]\n"
     ]
    }
   ],
   "source": [
    "new=np.linspace(10,25,30)\n",
    "print(new)\n",
    "print()\n",
    "print(np.power(new,-3))"
   ]
  },
  {
   "cell_type": "code",
   "execution_count": 13,
   "id": "3c73c382-df89-4677-bd55-61586a5b353a",
   "metadata": {},
   "outputs": [
    {
     "data": {
      "text/plain": [
       "array([2097152, 2097152, 2097152, 2097152, 2097152], dtype=int32)"
      ]
     },
     "execution_count": 13,
     "metadata": {},
     "output_type": "execute_result"
    }
   ],
   "source": [
    "x=np.full(5,128)\n",
    "np.power(x,3)"
   ]
  },
  {
   "cell_type": "code",
   "execution_count": 15,
   "id": "164b97bf-264b-462a-8826-525a977e7917",
   "metadata": {},
   "outputs": [
    {
     "name": "stdout",
     "output_type": "stream",
     "text": [
      "[-100  -80  -60  -40  -20    0   20   40   60   80]\n",
      "[100  80  60  40  20   0  20  40  60  80]\n"
     ]
    }
   ],
   "source": [
    "negpos=np.arange(-100,100,20)\n",
    "\n",
    "print(negpos)\n",
    "print(np.absolute(negpos))"
   ]
  },
  {
   "cell_type": "code",
   "execution_count": 18,
   "id": "4a548f0f-1a5c-4162-9945-a1e66bcbe28d",
   "metadata": {},
   "outputs": [
    {
     "name": "stdout",
     "output_type": "stream",
     "text": [
      "[-1  0  1]\n",
      "[-0.84147098  0.          0.84147098] [0.54030231 1.         0.54030231]\n"
     ]
    }
   ],
   "source": [
    "trig=np.array([-1,0,1])\n",
    "\n",
    "print(trig)\n",
    "print(np.sin(trig),np.cos(trig))"
   ]
  },
  {
   "cell_type": "code",
   "execution_count": 19,
   "id": "f93317b5-632c-4d4d-b48e-eab48327cc35",
   "metadata": {},
   "outputs": [
    {
     "data": {
      "text/plain": [
       "array([0.        , 2.30258509, 4.60517019])"
      ]
     },
     "execution_count": 19,
     "metadata": {},
     "output_type": "execute_result"
    }
   ],
   "source": [
    "np.log([1,10,100])"
   ]
  },
  {
   "cell_type": "markdown",
   "id": "4c6abf57-3a53-4a17-bf8e-b05e3f5351a8",
   "metadata": {},
   "source": [
    "This is how we create arrays that serve multiple, specific purposes for us. Although we do have some extensive applications of arrays in linear algebra, calculus and other computing problems, our primary focus is on this aspect of arrays only."
   ]
  },
  {
   "cell_type": "code",
   "execution_count": null,
   "id": "2f2ebe25-f456-4d90-9974-43bcac086ab5",
   "metadata": {},
   "outputs": [],
   "source": []
  }
 ],
 "metadata": {
  "kernelspec": {
   "display_name": "Python 3 (ipykernel)",
   "language": "python",
   "name": "python3"
  },
  "language_info": {
   "codemirror_mode": {
    "name": "ipython",
    "version": 3
   },
   "file_extension": ".py",
   "mimetype": "text/x-python",
   "name": "python",
   "nbconvert_exporter": "python",
   "pygments_lexer": "ipython3",
   "version": "3.10.6"
  },
  "toc-autonumbering": false,
  "toc-showcode": false,
  "toc-showmarkdowntxt": false
 },
 "nbformat": 4,
 "nbformat_minor": 5
}

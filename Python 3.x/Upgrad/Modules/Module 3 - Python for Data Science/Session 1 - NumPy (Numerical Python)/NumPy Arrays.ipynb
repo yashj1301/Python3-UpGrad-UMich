{
 "cells": [
  {
   "cell_type": "code",
   "execution_count": 9,
   "id": "5f3b3505-f7bc-474f-99c7-3145ebc8eeeb",
   "metadata": {},
   "outputs": [],
   "source": [
    "import numpy as np"
   ]
  },
  {
   "cell_type": "markdown",
   "id": "0f568409-46ca-4a3c-967e-9b2483ac8df3",
   "metadata": {},
   "source": [
    "Now, we can use all functionalities of the NumPy library. Let us start with NumPy Arrays."
   ]
  },
  {
   "cell_type": "markdown",
   "id": "4f0e398c-4379-4b10-96a8-de0de5764c0b",
   "metadata": {},
   "source": [
    "## NumPy Arrays"
   ]
  },
  {
   "cell_type": "markdown",
   "id": "5287445b-092c-4d07-88b0-f41107bcafb9",
   "metadata": {},
   "source": [
    "An __Array__ in the NumPy library is a collection of objects of the same data type. Unlike python data structures, we can have only one data type of all the elements inside an array. It can be `float`, or it can be `string` or `boolean` or `integer`. "
   ]
  },
  {
   "cell_type": "markdown",
   "id": "8f1e9dcd-1bfd-4096-a3d7-09360ab6b641",
   "metadata": {},
   "source": [
    "To create an array, we use the `array()` method defined in the NumPy library. It takes a data structure as an argument, and converts it into a NumPy array. Python is incapable of operating over the entire data stored in lists. This is where NumPy arrays come to the rescue. Let’s see how we use NumPy arrays first. \n",
    "\n",
    "Syntax - \t`identifier = np.array(data structure)`\n",
    "\n",
    "Let us see some examples."
   ]
  },
  {
   "cell_type": "markdown",
   "id": "cbf24989-f946-4285-88a3-17d91e0b53a6",
   "metadata": {
    "jp-MarkdownHeadingCollapsed": true,
    "tags": []
   },
   "source": [
    "### Creating NumPy Arrays"
   ]
  },
  {
   "cell_type": "code",
   "execution_count": 16,
   "id": "2fe8e4c3-f706-4568-a200-0a655d5decce",
   "metadata": {},
   "outputs": [
    {
     "data": {
      "text/plain": [
       "(list, tuple)"
      ]
     },
     "execution_count": 16,
     "metadata": {},
     "output_type": "execute_result"
    }
   ],
   "source": [
    "a1=[1,5,4,2,7,6]\n",
    "a2=5,6,7,3,2,4\n",
    "\n",
    "type(a1),type(a2)"
   ]
  },
  {
   "cell_type": "code",
   "execution_count": 18,
   "id": "71203a12-ff78-4925-b450-c9d1b212422d",
   "metadata": {},
   "outputs": [],
   "source": [
    "arr_a1=np.array(a1)\n",
    "arr_a2=np.array(a2)"
   ]
  },
  {
   "cell_type": "code",
   "execution_count": 21,
   "id": "427d94b0-077f-4e9a-bbbe-d0e606a2e4ca",
   "metadata": {},
   "outputs": [
    {
     "name": "stdout",
     "output_type": "stream",
     "text": [
      "[1 5 4 2 7 6] [5 6 7 3 2 4]\n"
     ]
    }
   ],
   "source": [
    "print(arr_a1,arr_a2)"
   ]
  },
  {
   "cell_type": "markdown",
   "id": "43db46e3-42b0-492f-8662-a441febd86ad",
   "metadata": {},
   "source": [
    "Here, you can see that the elements inside the array are separated using `whitespaces ( )` instead of `commas(,)` that happen in in-built data structures of python."
   ]
  },
  {
   "cell_type": "markdown",
   "id": "a01f39ee-a96d-47ab-8beb-35567a5df0af",
   "metadata": {
    "jp-MarkdownHeadingCollapsed": true,
    "tags": []
   },
   "source": [
    "### NumPy Arrays vs Python Lists"
   ]
  },
  {
   "cell_type": "markdown",
   "id": "23ef3fb6-1863-4af8-bacc-89b845254bbe",
   "metadata": {},
   "source": [
    "It is important to note that <font color=\"red\">Python lists can very well perform all the actions that a NumPy array can</font>.\n",
    "\n",
    "It's just the fact that <font color=\"#000080\">__NumPy arrays are faster and more convenient__ than lists when it comes to extensive computations</font> which make it extremely useful, especially when you're working with large amounts of data."
   ]
  },
  {
   "cell_type": "markdown",
   "id": "02a76715-96a8-46d8-b012-c86b8661e329",
   "metadata": {},
   "source": [
    "A __key advantage__ of using the NumPy arrays over Lists is that __we can operate over an entire array__, but we __cannot do that to a list__. Let us see an example."
   ]
  },
  {
   "cell_type": "code",
   "execution_count": 26,
   "id": "e166718e-196f-4fa5-840a-a039e1916f69",
   "metadata": {},
   "outputs": [
    {
     "name": "stdout",
     "output_type": "stream",
     "text": [
      "List: [1, 5, 4, 2, 7, 6]\n",
      "Array: [1 5 4 2 7 6]\n"
     ]
    }
   ],
   "source": [
    "print('List:',a1)\n",
    "print('Array:',arr_a1)"
   ]
  },
  {
   "cell_type": "markdown",
   "id": "c13113a9-4a14-4015-ace1-612f7b0c5d99",
   "metadata": {},
   "source": [
    "Now, let us say we want to multiply the whole list by 2.5. \n",
    "\n",
    "__For lists__, we cannot do that directly. We have to __create a new list__, and use the __`lambda` functionality__ to do this. "
   ]
  },
  {
   "cell_type": "code",
   "execution_count": 27,
   "id": "85ec3de5-1008-4591-b8c7-bd2fa9bec553",
   "metadata": {},
   "outputs": [
    {
     "data": {
      "text/plain": [
       "[2.5, 12.5, 10.0, 5.0, 17.5, 15.0]"
      ]
     },
     "execution_count": 27,
     "metadata": {},
     "output_type": "execute_result"
    }
   ],
   "source": [
    "a1m=list(map(lambda x:x*2.5,a1))\n",
    "a1m"
   ]
  },
  {
   "cell_type": "markdown",
   "id": "8f4679c5-4668-4f94-b9cf-428c44989eb8",
   "metadata": {},
   "source": [
    "In case of __NumPy arrays__, we can simply use the __arithmetic operator `*`__ for this operation. "
   ]
  },
  {
   "cell_type": "code",
   "execution_count": 30,
   "id": "55b2d3e2-3170-405c-8af1-d89fca565e9f",
   "metadata": {},
   "outputs": [
    {
     "name": "stdout",
     "output_type": "stream",
     "text": [
      "[ 2.5 12.5 10.   5.  17.5 15. ]\n"
     ]
    }
   ],
   "source": [
    "arr_a1m=arr_a1*2.5\n",
    "print(arr_a1m)"
   ]
  },
  {
   "cell_type": "markdown",
   "id": "64275424-c2a8-4913-9daf-f7d446ecd3b6",
   "metadata": {},
   "source": [
    "See? We didn't even have to use any functionality here. Simply use the arithmetic operators, and get the answer. This is where NumPy arrays hold advantage over lists. \n",
    "\n",
    "It is another reason __they only have elements of a single data type__. Let us see what happens when we try to convert a multi-data type list to an array."
   ]
  },
  {
   "cell_type": "code",
   "execution_count": 33,
   "id": "12a7a3c3-ac79-45c7-8a45-ffb0f0320493",
   "metadata": {},
   "outputs": [
    {
     "name": "stdout",
     "output_type": "stream",
     "text": [
      "['1' 'Python' '4.5' 'True']\n"
     ]
    }
   ],
   "source": [
    "li=[1,'Python',4.5,True]\n",
    "li_arr=np.array(li)\n",
    "print(li_arr)"
   ]
  },
  {
   "cell_type": "markdown",
   "id": "33b4d8c4-992f-4588-aad0-844491dde4c4",
   "metadata": {},
   "source": [
    "See? Out of all the data types, it converted them into strings."
   ]
  },
  {
   "cell_type": "code",
   "execution_count": 39,
   "id": "0864bcac-7fec-4b29-ae11-ce456304410b",
   "metadata": {},
   "outputs": [
    {
     "name": "stdout",
     "output_type": "stream",
     "text": [
      "[2.  2.5 0. ]\n"
     ]
    }
   ],
   "source": [
    "two=[2,2.5,False]\n",
    "two_arr=np.array(two)\n",
    "print(two_arr)"
   ]
  },
  {
   "cell_type": "markdown",
   "id": "e6792e8a-e3bb-43d2-b7c1-cc9e6799f2ef",
   "metadata": {},
   "source": [
    "Now, here we see that the boolean value is converted to a float inside the array. Hence, we come on to realize that there is a precedence of data types that will be preferred over others. The order for this is -\n",
    "\n",
    "<span style=\"border:2px solid #000080; padding:1%; text-align:center; font-size:120%; font-family:cambria math; color:#000080; background-color:azure\">strings > floats > integers > booleans</span>"
   ]
  },
  {
   "cell_type": "markdown",
   "id": "60f86ee4-0ea1-4039-b973-149b42cb338a",
   "metadata": {},
   "source": [
    "This means that out of all the data types present in a multi-type data structure, the converted array will give preference in the above order for its data type. "
   ]
  },
  {
   "cell_type": "markdown",
   "id": "cd469816-3dde-478d-b9f8-e578b06142f1",
   "metadata": {
    "jp-MarkdownHeadingCollapsed": true,
    "tags": []
   },
   "source": [
    "### Operations on Arrays"
   ]
  },
  {
   "cell_type": "markdown",
   "id": "3a02409e-4eb5-4169-bd2b-f93b9171490c",
   "metadata": {},
   "source": [
    "Now, let us see some basic operations on arrays. For this, we will create two 1-D arrays using the `range()` function and perform operations on them. "
   ]
  },
  {
   "cell_type": "code",
   "execution_count": 50,
   "id": "f963277e-6d7e-47b5-ba19-29b80da09ae7",
   "metadata": {},
   "outputs": [
    {
     "data": {
      "text/plain": [
       "(array([1, 2, 3, 4, 5, 6, 7, 8, 9]),\n",
       " array([11, 12, 13, 14, 15, 16, 17, 18, 19]))"
      ]
     },
     "execution_count": 50,
     "metadata": {},
     "output_type": "execute_result"
    }
   ],
   "source": [
    "arr1,arr2=np.array(range(1,10)),np.array(range(11,20))\n",
    "arr1,arr2"
   ]
  },
  {
   "cell_type": "markdown",
   "id": "4defe278-c33f-4941-96b6-6d57b34f8668",
   "metadata": {
    "jp-MarkdownHeadingCollapsed": true,
    "tags": []
   },
   "source": [
    "#### Arithmetic Operations"
   ]
  },
  {
   "cell_type": "code",
   "execution_count": 59,
   "id": "2bcc6535-a886-4b76-8712-e30d8c34b6ea",
   "metadata": {},
   "outputs": [
    {
     "name": "stdout",
     "output_type": "stream",
     "text": [
      "Sum: [12 14 16 18 20 22 24 26 28]\n",
      "Difference: [-10 -10 -10 -10 -10 -10 -10 -10 -10]\n",
      "Product: [ 11  24  39  56  75  96 119 144 171]\n",
      "Float Quotient: [11.          6.          4.33333333  3.5         3.          2.66666667\n",
      "  2.42857143  2.25        2.11111111]\n",
      "Floor Quotient: [11  6  4  3  3  2  2  2  2]\n",
      "Modulus: [0 0 1 2 0 4 3 2 1]\n",
      "Power: [         11         144        2197       38416      759375    16777216\n",
      "   410338673 -1864941312   565150579]\n"
     ]
    }
   ],
   "source": [
    "print('Sum:',arr1+arr2)\n",
    "print('Difference:',arr1-arr2)\n",
    "print('Product:',arr1*arr2)\n",
    "print('Float Quotient:',arr2/arr1)\n",
    "print('Floor Quotient:',arr2//arr1)\n",
    "print('Modulus:',arr2%arr1)\n",
    "print('Power:',arr2**arr1)"
   ]
  },
  {
   "cell_type": "markdown",
   "id": "e05b70ae-af6c-4792-83b0-de75e97c5c4e",
   "metadata": {},
   "source": [
    "Hence, it is clearly visible that all the arithmetic operations are possible for numerical arrays. If the arrays were of string type, then it won't be possible since strings do not support arithmetic operators other than (+).\n",
    "\n",
    "Now, let us look for relationship operations."
   ]
  },
  {
   "cell_type": "markdown",
   "id": "f3c16358-f8ac-41ec-a7c7-092b6e5121e2",
   "metadata": {
    "jp-MarkdownHeadingCollapsed": true,
    "tags": []
   },
   "source": [
    "#### Relationship Operations"
   ]
  },
  {
   "cell_type": "code",
   "execution_count": 89,
   "id": "0ebb907c-21bb-4243-8926-1c6938e2aacd",
   "metadata": {},
   "outputs": [
    {
     "data": {
      "text/plain": [
       "(True, False)"
      ]
     },
     "execution_count": 89,
     "metadata": {},
     "output_type": "execute_result"
    }
   ],
   "source": [
    "4 in arr1, 5 not in arr1"
   ]
  },
  {
   "cell_type": "code",
   "execution_count": 99,
   "id": "71740f3a-6a05-4a68-a658-3aa2baf2d3df",
   "metadata": {},
   "outputs": [
    {
     "data": {
      "text/plain": [
       "True"
      ]
     },
     "execution_count": 99,
     "metadata": {},
     "output_type": "execute_result"
    }
   ],
   "source": [
    "arr1 is not arr2"
   ]
  },
  {
   "cell_type": "markdown",
   "id": "cf01ee73-5b73-4220-aecb-cfb56a0acf95",
   "metadata": {},
   "source": [
    "Hence, we can clearly see that we are able to perform relationship operations on the arrays. Now, let us look for logical operations."
   ]
  },
  {
   "cell_type": "markdown",
   "id": "7d004825-3ce4-4fce-9c80-9c835dedb6c0",
   "metadata": {
    "jp-MarkdownHeadingCollapsed": true,
    "tags": []
   },
   "source": [
    "#### Logical Operations"
   ]
  },
  {
   "cell_type": "code",
   "execution_count": 111,
   "id": "323edbd4-da39-44d0-9476-8c32aa856a35",
   "metadata": {},
   "outputs": [
    {
     "data": {
      "text/plain": [
       "array([ True,  True,  True,  True,  True,  True,  True,  True,  True])"
      ]
     },
     "execution_count": 111,
     "metadata": {},
     "output_type": "execute_result"
    }
   ],
   "source": [
    "arr1<=arr2"
   ]
  },
  {
   "cell_type": "code",
   "execution_count": 102,
   "id": "e83de865-7a7b-43a5-9872-3a68828d7abd",
   "metadata": {},
   "outputs": [
    {
     "data": {
      "text/plain": [
       "array([ True,  True,  True,  True,  True,  True,  True,  True,  True])"
      ]
     },
     "execution_count": 102,
     "metadata": {},
     "output_type": "execute_result"
    }
   ],
   "source": [
    "arr1!=arr2"
   ]
  },
  {
   "cell_type": "code",
   "execution_count": 126,
   "id": "e5f13579-3f7b-4884-8bdd-9b8a7989c9fc",
   "metadata": {},
   "outputs": [
    {
     "data": {
      "text/plain": [
       "True"
      ]
     },
     "execution_count": 126,
     "metadata": {},
     "output_type": "execute_result"
    }
   ],
   "source": [
    "(4 in arr1)|(25 in arr2)"
   ]
  },
  {
   "cell_type": "code",
   "execution_count": 127,
   "id": "e1cb28bb-a3d1-4629-9cf3-33776daa0ab3",
   "metadata": {},
   "outputs": [
    {
     "data": {
      "text/plain": [
       "False"
      ]
     },
     "execution_count": 127,
     "metadata": {},
     "output_type": "execute_result"
    }
   ],
   "source": [
    "(4 in arr1) & (25 in arr2)"
   ]
  },
  {
   "cell_type": "markdown",
   "id": "a508301e-e3c3-45fa-b0b0-c65835fd2be8",
   "metadata": {},
   "source": [
    "Therefore, we can see that we are able to perform all the logical operations on the arrays. "
   ]
  },
  {
   "cell_type": "markdown",
   "id": "a778aaa7-6799-4aff-8114-1691eeda3235",
   "metadata": {},
   "source": [
    "Hence, we can see that __arrays are automatically comparing each element within themselves to return the output__ required by the user. This is another reason they hold advantage over lists and other data structures."
   ]
  },
  {
   "cell_type": "markdown",
   "id": "0038ac22-5f98-4443-bba8-830cd6c05918",
   "metadata": {},
   "source": [
    "### Accessing Elements inside an Array"
   ]
  },
  {
   "cell_type": "markdown",
   "id": "3a719b7c-f83e-47ad-8eb1-d04ed28e2c65",
   "metadata": {},
   "source": [
    "The elements of an array can be accessed in the same way as lists - by using indexes and slicing. This is a feature of arrays that is exactly the same as python lists and tuples. \n",
    "\n",
    "Let us see some examples."
   ]
  },
  {
   "cell_type": "code",
   "execution_count": 151,
   "id": "eac9a7ed-597d-4cb4-81d4-5bf85de2ab48",
   "metadata": {},
   "outputs": [
    {
     "data": {
      "text/plain": [
       "array([ 1,  2,  3,  4,  5,  6,  7,  8,  9, 10, 11, 12, 13, 14])"
      ]
     },
     "execution_count": 151,
     "metadata": {},
     "output_type": "execute_result"
    }
   ],
   "source": [
    "arr1=np.array(range(1,15))\n",
    "arr1"
   ]
  },
  {
   "cell_type": "markdown",
   "id": "5a6acf5b-e1e9-4da3-8c64-5f26f746825f",
   "metadata": {},
   "source": [
    "#### Indexing in Arrays"
   ]
  },
  {
   "cell_type": "markdown",
   "id": "64d6bad2-b437-4749-9152-6defa0469f21",
   "metadata": {},
   "source": [
    "We use indexing in the same way as lists - using the square brackets `[]` and specifying the index inside them. Let us see some examples for forward and reverse indexing."
   ]
  },
  {
   "cell_type": "code",
   "execution_count": 167,
   "id": "35d9292c-6284-4f59-8411-62f0d24913e1",
   "metadata": {},
   "outputs": [
    {
     "data": {
      "text/plain": [
       "array([ 1,  2,  3,  4,  5,  6,  7,  8,  9, 10, 11, 12, 13, 14])"
      ]
     },
     "execution_count": 167,
     "metadata": {},
     "output_type": "execute_result"
    }
   ],
   "source": [
    "arr1"
   ]
  },
  {
   "cell_type": "code",
   "execution_count": 169,
   "id": "5fff92b7-d662-4653-ba89-0b90bb41a6ef",
   "metadata": {},
   "outputs": [
    {
     "data": {
      "text/plain": [
       "(2, 4)"
      ]
     },
     "execution_count": 169,
     "metadata": {},
     "output_type": "execute_result"
    }
   ],
   "source": [
    "arr1[1],arr1[3]"
   ]
  },
  {
   "cell_type": "code",
   "execution_count": 171,
   "id": "492579a5-de20-4418-8a6f-bff042bbcccd",
   "metadata": {},
   "outputs": [
    {
     "data": {
      "text/plain": [
       "(14, 12)"
      ]
     },
     "execution_count": 171,
     "metadata": {},
     "output_type": "execute_result"
    }
   ],
   "source": [
    "arr1[-1],arr1[-3]"
   ]
  },
  {
   "cell_type": "markdown",
   "id": "e0abff82-59d0-4f58-b29d-4d4cb092cec5",
   "metadata": {},
   "source": [
    "Hence, this is how we use indexing in arrays - exactly as same as lists. Now, let us see slicing for arrays."
   ]
  },
  {
   "cell_type": "markdown",
   "id": "1f2151f1-879e-47b4-92a5-4655324bde99",
   "metadata": {},
   "source": [
    "#### Slicing in Arrays"
   ]
  },
  {
   "cell_type": "markdown",
   "id": "7ee8bbae-04f4-4fec-a167-bb7f2b8135ca",
   "metadata": {},
   "source": [
    "Slicing, just like indexing, is done in exactly the same manner as lists. We use the square brackets `[]` and the colon `(:)` for slicing. Let us see some examples."
   ]
  },
  {
   "cell_type": "code",
   "execution_count": 172,
   "id": "1c5c1e0e-f685-4003-a287-447402223144",
   "metadata": {},
   "outputs": [
    {
     "data": {
      "text/plain": [
       "array([ 3,  4,  5,  6,  7,  8,  9, 10, 11])"
      ]
     },
     "execution_count": 172,
     "metadata": {},
     "output_type": "execute_result"
    }
   ],
   "source": [
    "arr1[2:-3]"
   ]
  },
  {
   "cell_type": "code",
   "execution_count": 173,
   "id": "dfe06917-77ab-4fd9-9ebc-9e129cc9bd8b",
   "metadata": {},
   "outputs": [
    {
     "data": {
      "text/plain": [
       "array([14, 10,  6,  2])"
      ]
     },
     "execution_count": 173,
     "metadata": {},
     "output_type": "execute_result"
    }
   ],
   "source": [
    "arr1[::-4]"
   ]
  },
  {
   "cell_type": "markdown",
   "id": "aa84b562-ba3d-4157-8941-37071ad4fa39",
   "metadata": {},
   "source": [
    "See? These are exactly the same as lists. So, there is no need to learn slicing and indexing for arrays separately, if you know these concepts for lists."
   ]
  },
  {
   "cell_type": "markdown",
   "id": "8bae6072-e7d3-4f86-b423-4b00bdd4aede",
   "metadata": {
    "jp-MarkdownHeadingCollapsed": true,
    "tags": []
   },
   "source": [
    "### Some Common Methods for Arrays"
   ]
  },
  {
   "cell_type": "markdown",
   "id": "423c0520-56d5-49ac-a0f4-d51cfd5e73ff",
   "metadata": {},
   "source": [
    "There are some common methods that are used with arrays. Note that, for arrays also, we put the brackets `()` after the method name, like we do in lists. The basic syntax is -\n",
    "\n",
    "`identifier.<method-name>()`\n",
    "\n",
    "Let us see some common methods now."
   ]
  },
  {
   "cell_type": "markdown",
   "id": "686abda8-db99-47c4-9217-bfe91ad65351",
   "metadata": {},
   "source": [
    "#### The `min()`, `max()` and `mean()` Methods"
   ]
  },
  {
   "cell_type": "markdown",
   "id": "6b19f85b-a55b-4e39-9827-c71d5273ab90",
   "metadata": {},
   "source": [
    "The most common methods used in arrays are the maximum, minimum and the average methods. These methods used on an array can easily carry out the respective functionalities. "
   ]
  },
  {
   "cell_type": "code",
   "execution_count": 174,
   "id": "c0f30cad-35aa-4413-9122-3b6542122962",
   "metadata": {},
   "outputs": [
    {
     "data": {
      "text/plain": [
       "array([ 1,  2,  3,  4,  5,  6,  7,  8,  9, 10, 11, 12, 13, 14])"
      ]
     },
     "execution_count": 174,
     "metadata": {},
     "output_type": "execute_result"
    }
   ],
   "source": [
    "arr1"
   ]
  },
  {
   "cell_type": "code",
   "execution_count": 176,
   "id": "16b48edc-71f7-455d-9ea6-67c9e68c03b2",
   "metadata": {},
   "outputs": [
    {
     "data": {
      "text/plain": [
       "(7.5, 14, 1)"
      ]
     },
     "execution_count": 176,
     "metadata": {},
     "output_type": "execute_result"
    }
   ],
   "source": [
    "arr1.mean(),arr1.max(),arr1.min()"
   ]
  },
  {
   "cell_type": "markdown",
   "id": "6307d515-1d1c-4824-83d2-41ca78135c0e",
   "metadata": {},
   "source": [
    "#### The `sort()` Method"
   ]
  },
  {
   "cell_type": "markdown",
   "id": "d3964ab1-f433-4513-894e-89d5aa3067ee",
   "metadata": {},
   "source": [
    "This method is used in arrays in just the same way as lists. It is able to sort the array in ascending order by default."
   ]
  },
  {
   "cell_type": "code",
   "execution_count": 201,
   "id": "115c5f4f-3366-42a5-9007-b5db43534f41",
   "metadata": {},
   "outputs": [
    {
     "data": {
      "text/plain": [
       "array([6, 8, 2, 3, 1, 5, 6, 7, 2, 3, 1, 4, 5])"
      ]
     },
     "execution_count": 201,
     "metadata": {},
     "output_type": "execute_result"
    }
   ],
   "source": [
    "list1=[6,8,2,3,1,5,6,7,2,3,1,4,5]\n",
    "arr_list1=np.array(list1)\n",
    "arr_list1"
   ]
  },
  {
   "cell_type": "code",
   "execution_count": 187,
   "id": "2bb2b5b5-2c0e-41ba-9f3c-4214827a9a3d",
   "metadata": {},
   "outputs": [
    {
     "data": {
      "text/plain": [
       "array([1, 1, 2, 2, 3, 3, 4, 5, 5, 6, 6, 7, 8])"
      ]
     },
     "execution_count": 187,
     "metadata": {},
     "output_type": "execute_result"
    }
   ],
   "source": [
    "arr_list1.sort()\n",
    "arr_list1"
   ]
  },
  {
   "cell_type": "markdown",
   "id": "1d70b003-d69b-4aa0-8bf2-09798d39843e",
   "metadata": {},
   "source": [
    "### Filtering an Array"
   ]
  },
  {
   "cell_type": "markdown",
   "id": "b507edc4-f30b-41b0-aedd-36226926ba80",
   "metadata": {},
   "source": [
    "The functionality provided to us by the `filter()` function for lists, can be used for arrays without any function. Let us see an example for this. "
   ]
  },
  {
   "cell_type": "code",
   "execution_count": 207,
   "id": "08fc47fa-ae3f-4485-9d18-62d10a9e1374",
   "metadata": {},
   "outputs": [
    {
     "data": {
      "text/plain": [
       "[1, 2, 5, 4, 2, 6, 7, 8, 3, 2, 1, 5, 6, 3, 6, 7, 3, 4]"
      ]
     },
     "execution_count": 207,
     "metadata": {},
     "output_type": "execute_result"
    }
   ],
   "source": [
    "list1=[1,2,5,4,2,6,7,8,3,2,1,5,6,3,6,7,3,4]\n",
    "list1"
   ]
  },
  {
   "cell_type": "markdown",
   "id": "b9b40bd9-a6b7-41bb-a875-4a15a9aa699c",
   "metadata": {},
   "source": [
    "Now, we need to create a list of all the elements greater than the average of the list. For that, we use 3 different functions - the `sum()`,the `len()` and the `filter()` functions, along with the lambda functionality. Let us see them in action. "
   ]
  },
  {
   "cell_type": "code",
   "execution_count": 208,
   "id": "2f2061fb-5434-4d36-a4a2-103960d53628",
   "metadata": {},
   "outputs": [
    {
     "data": {
      "text/plain": [
       "[5, 6, 7, 8, 5, 6, 6, 7]"
      ]
     },
     "execution_count": 208,
     "metadata": {},
     "output_type": "execute_result"
    }
   ],
   "source": [
    "greater_than_average=list(filter(lambda x: x > sum(list1)/len(list1),list1))\n",
    "greater_than_average"
   ]
  },
  {
   "cell_type": "markdown",
   "id": "e7f8f566-83e1-41ef-86b1-efe19fe5338a",
   "metadata": {},
   "source": [
    "By using arrays, we will simply use a `mean()` method, along with some `filter indexing` to create the array for the same. Let us see it in action."
   ]
  },
  {
   "cell_type": "code",
   "execution_count": 209,
   "id": "57cfb04b-7c56-43d1-bede-0936c92c6c03",
   "metadata": {},
   "outputs": [
    {
     "data": {
      "text/plain": [
       "array([1, 2, 5, 4, 2, 6, 7, 8, 3, 2, 1, 5, 6, 3, 6, 7, 3, 4])"
      ]
     },
     "execution_count": 209,
     "metadata": {},
     "output_type": "execute_result"
    }
   ],
   "source": [
    "list1_arr=np.array(list1)\n",
    "list1_arr"
   ]
  },
  {
   "cell_type": "code",
   "execution_count": 212,
   "id": "6ff3bf2b-54db-4ecb-9f6b-6d4af8276456",
   "metadata": {},
   "outputs": [
    {
     "data": {
      "text/plain": [
       "array([5, 6, 7, 8, 5, 6, 6, 7])"
      ]
     },
     "execution_count": 212,
     "metadata": {},
     "output_type": "execute_result"
    }
   ],
   "source": [
    "greater_than_average_arr = list1_arr[list1_arr > list1_arr.mean()]\n",
    "greater_than_average_arr"
   ]
  },
  {
   "cell_type": "markdown",
   "id": "94f7e59b-d73f-48b7-b690-c0fce49d5ba8",
   "metadata": {},
   "source": [
    "See? With the use of just a single method, we were able to create a __filtered array__. Such syntax is used for array filtering in NumPy. Now, we can simply typecast it into a list."
   ]
  },
  {
   "cell_type": "code",
   "execution_count": 213,
   "id": "e8ba7bd0-a507-4012-a414-16beb31c05b7",
   "metadata": {},
   "outputs": [
    {
     "data": {
      "text/plain": [
       "[5, 6, 7, 8, 5, 6, 6, 7]"
      ]
     },
     "execution_count": 213,
     "metadata": {},
     "output_type": "execute_result"
    }
   ],
   "source": [
    "gta=list(greater_than_average_arr)\n",
    "gta"
   ]
  },
  {
   "cell_type": "markdown",
   "id": "aa634737-2ff4-4fb5-9564-a40a55b20bc4",
   "metadata": {},
   "source": [
    "Hence, this is how the filter indexing can be used to created filtered arrays. These functionalities are used extensively in data science, and usually preferred over lists."
   ]
  }
 ],
 "metadata": {
  "kernelspec": {
   "display_name": "Python 3 (ipykernel)",
   "language": "python",
   "name": "python3"
  },
  "language_info": {
   "codemirror_mode": {
    "name": "ipython",
    "version": 3
   },
   "file_extension": ".py",
   "mimetype": "text/x-python",
   "name": "python",
   "nbconvert_exporter": "python",
   "pygments_lexer": "ipython3",
   "version": "3.10.5"
  }
 },
 "nbformat": 4,
 "nbformat_minor": 5
}

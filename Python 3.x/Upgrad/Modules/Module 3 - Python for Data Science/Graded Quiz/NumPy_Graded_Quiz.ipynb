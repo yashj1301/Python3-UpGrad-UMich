{
  "nbformat": 4,
  "nbformat_minor": 0,
  "metadata": {
    "colab": {
      "provenance": [],
      "collapsed_sections": []
    },
    "kernelspec": {
      "name": "python3",
      "display_name": "Python 3"
    },
    "language_info": {
      "name": "python"
    }
  },
  "cells": [
    {
      "cell_type": "code",
      "execution_count": 1,
      "metadata": {
        "id": "oyIA052NZyw1"
      },
      "outputs": [],
      "source": [
        "import numpy as np\n",
        "import pandas as pd"
      ]
    },
    {
      "cell_type": "markdown",
      "source": [
        "### Q1) Consider an (8, 8) shape NumPy array. What is the index (x,y) of the 50th element?"
      ],
      "metadata": {
        "id": "eHn3Qp-AerfV"
      }
    },
    {
      "cell_type": "code",
      "source": [
        "np.arange(64).reshape(8,8)[6,2]"
      ],
      "metadata": {
        "colab": {
          "base_uri": "https://localhost:8080/"
        },
        "id": "ZK6k2iyCbE6c",
        "outputId": "5ffe8ebe-815c-4277-bf94-76338226d381"
      },
      "execution_count": 8,
      "outputs": [
        {
          "output_type": "execute_result",
          "data": {
            "text/plain": [
              "50"
            ]
          },
          "metadata": {},
          "execution_count": 8
        }
      ]
    },
    {
      "cell_type": "markdown",
      "source": [
        "### Q3) What will the output of np.arange(1,16,2).reshape(4, 2) be?"
      ],
      "metadata": {
        "id": "U0wwEMsZfHEL"
      }
    },
    {
      "cell_type": "code",
      "source": [
        "np.arange(1,16,2).reshape(4, 2) "
      ],
      "metadata": {
        "colab": {
          "base_uri": "https://localhost:8080/"
        },
        "id": "rsDO7y8ybJeU",
        "outputId": "3365a06d-fede-478e-9825-09625637d8a1"
      },
      "execution_count": 9,
      "outputs": [
        {
          "output_type": "execute_result",
          "data": {
            "text/plain": [
              "array([[ 1,  3],\n",
              "       [ 5,  7],\n",
              "       [ 9, 11],\n",
              "       [13, 15]])"
            ]
          },
          "metadata": {},
          "execution_count": 9
        }
      ]
    },
    {
      "cell_type": "markdown",
      "source": [
        "### Q4) __Coding Console Question__ - Given a single positive odd integer 'n' greater than 2, create a NumPy array of size (n x n) with all zeros and ones such that the ones make a shape like '+'. The lines of the plus must be present in the middle row and column."
      ],
      "metadata": {
        "id": "pbDLVOYJfMF8"
      }
    },
    {
      "cell_type": "code",
      "source": [
        "n=int(input())\n",
        "if n%2!=0:\n",
        "  arr=np.zeros((n,n),dtype=int)\n",
        "  arr[n//2]=np.ones(n)\n",
        "  arr[:,n//2]=np.ones(n,dtype=int)\n",
        "  print(arr)\n",
        "else: print('error')"
      ],
      "metadata": {
        "colab": {
          "base_uri": "https://localhost:8080/"
        },
        "id": "UuNgjTlcbf7P",
        "outputId": "fb0073b2-ceea-4ec3-e0d6-91ac6329decb"
      },
      "execution_count": 26,
      "outputs": [
        {
          "output_type": "stream",
          "name": "stdout",
          "text": [
            "5\n",
            "[[0 0 1 0 0]\n",
            " [0 0 1 0 0]\n",
            " [1 1 1 1 1]\n",
            " [0 0 1 0 0]\n",
            " [0 0 1 0 0]]\n"
          ]
        }
      ]
    }
  ]
}
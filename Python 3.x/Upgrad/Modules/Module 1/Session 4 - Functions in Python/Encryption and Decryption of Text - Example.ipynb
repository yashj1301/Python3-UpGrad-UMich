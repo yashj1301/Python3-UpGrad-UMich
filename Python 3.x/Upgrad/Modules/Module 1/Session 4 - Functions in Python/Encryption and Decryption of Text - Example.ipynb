{
 "cells": [
  {
   "cell_type": "markdown",
   "id": "abc90e6f-dbc0-44e7-91b5-50ee1754d293",
   "metadata": {
    "tags": []
   },
   "source": [
    "## Encryption of Text"
   ]
  },
  {
   "cell_type": "markdown",
   "id": "69717a7c-8be0-4b47-a8e3-3936eade786b",
   "metadata": {},
   "source": [
    "Here, we used a method that took a place and a city as input values, and encrypted them into a message that has each alternate character as city and state's characters. Also, if the length of the state and city do not match, then there are # added to the smaller string to make them equal.\n",
    "\n",
    "For eg. if the city is rohini and state is delhi, then it would show <i>rdoehlihnii# </i>.\n",
    "\n",
    "Let us now look at the code."
   ]
  },
  {
   "cell_type": "code",
   "execution_count": 2,
   "id": "e3e91d69-31be-45bd-a568-62f797c39301",
   "metadata": {},
   "outputs": [
    {
     "name": "stdin",
     "output_type": "stream",
     "text": [
      "Enter your city:  rohini\n",
      "Enter your state:  delhi\n"
     ]
    },
    {
     "name": "stdout",
     "output_type": "stream",
     "text": [
      "The encrypted message is: rdoehlihnii#\n"
     ]
    }
   ],
   "source": [
    "city=input('Enter your city: ');\n",
    "state=input('Enter your state: ');\n",
    "\n",
    "if len(city) < len(state) : \n",
    "    city_f=city+'#'*(len(state)-len(city));\n",
    "    state_f=state;\n",
    "    \n",
    "elif len(city) > len(state) :\n",
    "    state_f=state+'#'*(len(city)-len(state));\n",
    "    city_f=city;\n",
    "    \n",
    "else: \n",
    "    city_f=city;\n",
    "    state_f=state;\n",
    "    \n",
    "city_f, state_f\n",
    "\n",
    "city_list=list(city_f);\n",
    "state_list=list(state_f);\n",
    "\n",
    "city_list, state_list\n",
    "res='';\n",
    "for i,j in zip(city_list,state_list):\n",
    "    res=res+i+j;\n",
    "\n",
    "print('The encrypted message is: '+res);"
   ]
  },
  {
   "cell_type": "markdown",
   "id": "62becb3f-066c-433b-966d-4b0bb9f52200",
   "metadata": {},
   "source": [
    "The output is accurate. Let us see another example. This time we will take Chennai and Tamil Nadu."
   ]
  },
  {
   "cell_type": "code",
   "execution_count": 1,
   "id": "dc576e3d-3b97-45dd-90ee-3b92b300eb79",
   "metadata": {},
   "outputs": [
    {
     "name": "stdin",
     "output_type": "stream",
     "text": [
      "Enter your city:  Chennai\n",
      "Enter your state:  Tamil Nadu\n"
     ]
    },
    {
     "name": "stdout",
     "output_type": "stream",
     "text": [
      "The encrypted message is: CThaemninla iN#a#d#u\n"
     ]
    }
   ],
   "source": [
    "city=input('Enter your city: ');\n",
    "state=input('Enter your state: ');\n",
    "\n",
    "if len(city) < len(state) : \n",
    "    city_f=city+'#'*(len(state)-len(city));\n",
    "    state_f=state;\n",
    "    \n",
    "elif len(city) > len(state) :\n",
    "    state_f=state+'#'*(len(city)-len(state));\n",
    "    city_f=city;\n",
    "    \n",
    "else: \n",
    "    city_f=city;\n",
    "    state_f=state;\n",
    "    \n",
    "city_f, state_f\n",
    "\n",
    "city_list=list(city_f);\n",
    "state_list=list(state_f);\n",
    "\n",
    "city_list, state_list\n",
    "res='';\n",
    "for i,j in zip(city_list,state_list):\n",
    "    res=res+i+j;\n",
    "\n",
    "print('The encrypted message is: '+res);"
   ]
  },
  {
   "cell_type": "markdown",
   "id": "397e9f80-8821-4bc4-8e85-b49d5beb13c3",
   "metadata": {
    "tags": []
   },
   "source": [
    "## Decryption of Text"
   ]
  },
  {
   "cell_type": "markdown",
   "id": "6774e6fd-0fdb-4627-be39-0ee8eb412ffe",
   "metadata": {},
   "source": [
    "Now, we have another program that will decode the message. Let us check our outputs. "
   ]
  },
  {
   "cell_type": "code",
   "execution_count": 3,
   "id": "d99913c2-1422-42f2-ac1e-ce8d1c3857a1",
   "metadata": {},
   "outputs": [
    {
     "name": "stdin",
     "output_type": "stream",
     "text": [
      "Enter your string:  CThaemninla iN#a#d#u\n"
     ]
    },
    {
     "data": {
      "text/plain": [
       "('Chennai', 'Tamil Nadu')"
      ]
     },
     "execution_count": 3,
     "metadata": {},
     "output_type": "execute_result"
    }
   ],
   "source": [
    "input_str=input('Enter your string: ');\n",
    "\n",
    "message1 = input_str[0::2]\n",
    "message2 = input_str[1::2]\n",
    "\n",
    "val=message1.split('#')[0];\n",
    "val2=message2.split('#')[0];\n",
    "\n",
    "val,val2"
   ]
  },
  {
   "cell_type": "markdown",
   "id": "d17f37fa-63b1-43b6-92f5-28afa8ae4c37",
   "metadata": {},
   "source": [
    "This is correct. Let us check another one. "
   ]
  },
  {
   "cell_type": "code",
   "execution_count": 4,
   "id": "1bc536ef-da00-42f0-83ed-71b62d99db11",
   "metadata": {},
   "outputs": [
    {
     "name": "stdin",
     "output_type": "stream",
     "text": [
      "Enter your string:  rdoehlihnii#\n"
     ]
    },
    {
     "data": {
      "text/plain": [
       "('rohini', 'delhi')"
      ]
     },
     "execution_count": 4,
     "metadata": {},
     "output_type": "execute_result"
    }
   ],
   "source": [
    "input_str=input('Enter your string: ');\n",
    "\n",
    "message1 = input_str[0::2]\n",
    "message2 = input_str[1::2]\n",
    "\n",
    "val=message1.split('#')[0];\n",
    "val2=message2.split('#')[0];\n",
    "\n",
    "val,val2"
   ]
  },
  {
   "cell_type": "markdown",
   "id": "8d7eca12-6140-4b14-bc88-ba24fe508331",
   "metadata": {},
   "source": [
    "This is also correct !"
   ]
  },
  {
   "cell_type": "code",
   "execution_count": null,
   "id": "184a239a-7658-4233-aff2-159a449da4c3",
   "metadata": {},
   "outputs": [],
   "source": []
  }
 ],
 "metadata": {
  "kernelspec": {
   "display_name": "Python 3 (ipykernel)",
   "language": "python",
   "name": "python3"
  },
  "language_info": {
   "codemirror_mode": {
    "name": "ipython",
    "version": 3
   },
   "file_extension": ".py",
   "mimetype": "text/x-python",
   "name": "python",
   "nbconvert_exporter": "python",
   "pygments_lexer": "ipython3",
   "version": "3.10.5"
  }
 },
 "nbformat": 4,
 "nbformat_minor": 5
}

{
 "cells": [
  {
   "cell_type": "markdown",
   "id": "abc90e6f-dbc0-44e7-91b5-50ee1754d293",
   "metadata": {
    "tags": []
   },
   "source": [
    "## Encryption of Text"
   ]
  },
  {
   "cell_type": "markdown",
   "id": "69717a7c-8be0-4b47-a8e3-3936eade786b",
   "metadata": {},
   "source": [
    "Here, we used a method that took a place and a city as input values, and encrypted them into a message that has each alternate character as city and state's characters. Also, if the length of the state and city do not match, then there are # added to the smaller string to make them equal.\n",
    "\n",
    "For eg. if the city is rohini and state is delhi, then it would show <i>rdoehlihnii# </i>.\n",
    "\n",
    "Let us now look at the code."
   ]
  },
  {
   "cell_type": "code",
   "execution_count": 26,
   "id": "e3e91d69-31be-45bd-a568-62f797c39301",
   "metadata": {},
   "outputs": [],
   "source": [
    "def encode(city,state):\n",
    "    \n",
    "    from functools import reduce\n",
    "\n",
    "    city=list(city);\n",
    "    state=list(state);\n",
    "\n",
    "    city_f=city+['#']*(len(state)-len(city)) if len(city)<len(state) else city\n",
    "    state_f=state+['#']*(len(city)-len(state)) if len(city)>len(state) else state\n",
    "\n",
    "    code=reduce(lambda x,y: x+y,[city_f[i]+state_f[i] for i in range(len(city_f))])\n",
    "    print('Here is your secret code: {}'.format(code));"
   ]
  },
  {
   "cell_type": "code",
   "execution_count": 27,
   "id": "f11a8704-2f81-4dcc-80b2-8dd71fa0bcd7",
   "metadata": {},
   "outputs": [
    {
     "name": "stdout",
     "output_type": "stream",
     "text": [
      "Here is your secret code: rdoehlihnii#\n"
     ]
    }
   ],
   "source": [
    "encode('rohini','delhi')"
   ]
  },
  {
   "cell_type": "markdown",
   "id": "cc86d9d0-cf1e-4063-ad21-62a67c8e0e49",
   "metadata": {},
   "source": [
    "The output is accurate. Let us see another example. This time we will take Chennai and Tamil Nadu."
   ]
  },
  {
   "cell_type": "code",
   "execution_count": 28,
   "id": "a5acd416-34a8-449b-8ee6-ff527026fcee",
   "metadata": {},
   "outputs": [
    {
     "name": "stdout",
     "output_type": "stream",
     "text": [
      "Here is your secret code: cthaemninlania#d#u\n"
     ]
    }
   ],
   "source": [
    "encode('chennai','tamilnadu')"
   ]
  },
  {
   "cell_type": "markdown",
   "id": "397e9f80-8821-4bc4-8e85-b49d5beb13c3",
   "metadata": {
    "tags": []
   },
   "source": [
    "## Decryption of Text"
   ]
  },
  {
   "cell_type": "markdown",
   "id": "6774e6fd-0fdb-4627-be39-0ee8eb412ffe",
   "metadata": {},
   "source": [
    "Now, we have another program that will decode the message. Let us check our outputs. "
   ]
  },
  {
   "cell_type": "code",
   "execution_count": 23,
   "id": "d99913c2-1422-42f2-ac1e-ce8d1c3857a1",
   "metadata": {},
   "outputs": [],
   "source": [
    "def decode(input_str):\n",
    "\n",
    "    message1 = input_str[0::2].split('#')[0]\n",
    "    message2 = input_str[1::2].split('#')[0]\n",
    "\n",
    "    print('City:',message1,'\\tState:',message2);"
   ]
  },
  {
   "cell_type": "code",
   "execution_count": 24,
   "id": "e9b3abb0-d06e-410b-9cf6-aa20633d264f",
   "metadata": {},
   "outputs": [
    {
     "name": "stdout",
     "output_type": "stream",
     "text": [
      "City: chennai \tState: tamilnadu\n"
     ]
    }
   ],
   "source": [
    "decode('cthaemninlania#d#u')"
   ]
  },
  {
   "cell_type": "markdown",
   "id": "d17f37fa-63b1-43b6-92f5-28afa8ae4c37",
   "metadata": {},
   "source": [
    "This is correct. Let us check another one. "
   ]
  },
  {
   "cell_type": "code",
   "execution_count": 25,
   "id": "184a239a-7658-4233-aff2-159a449da4c3",
   "metadata": {},
   "outputs": [
    {
     "name": "stdout",
     "output_type": "stream",
     "text": [
      "City: rohini \tState: delhi\n"
     ]
    }
   ],
   "source": [
    "decode('rdoehlihnii#')"
   ]
  },
  {
   "cell_type": "markdown",
   "id": "8d7eca12-6140-4b14-bc88-ba24fe508331",
   "metadata": {},
   "source": [
    "This is also correct !"
   ]
  },
  {
   "cell_type": "code",
   "execution_count": null,
   "id": "1fb44a02-c5eb-4a70-8272-48a3a44832e5",
   "metadata": {},
   "outputs": [],
   "source": []
  }
 ],
 "metadata": {
  "kernelspec": {
   "display_name": "Python 3 (ipykernel)",
   "language": "python",
   "name": "python3"
  },
  "language_info": {
   "codemirror_mode": {
    "name": "ipython",
    "version": 3
   },
   "file_extension": ".py",
   "mimetype": "text/x-python",
   "name": "python",
   "nbconvert_exporter": "python",
   "pygments_lexer": "ipython3",
   "version": "3.10.5"
  }
 },
 "nbformat": 4,
 "nbformat_minor": 5
}

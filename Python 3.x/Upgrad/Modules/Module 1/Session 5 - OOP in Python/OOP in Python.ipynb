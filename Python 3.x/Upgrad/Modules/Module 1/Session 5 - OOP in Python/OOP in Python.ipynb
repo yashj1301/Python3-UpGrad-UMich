{
 "cells": [
  {
   "cell_type": "markdown",
   "id": "942dba8f-8dca-462c-b6b4-99509ac90326",
   "metadata": {
    "tags": []
   },
   "source": [
    "## Object Oriented Programming (OOP) in Python"
   ]
  },
  {
   "cell_type": "markdown",
   "id": "9f07fc77-3fa6-4153-afc5-ee1c8ba01fab",
   "metadata": {},
   "source": [
    "In Python, everything is an object. We have previously referred to the objects such as list objects, map objects, filter objects etc…. All these objects are a part of the __Object-Oriented Programming__ in Python."
   ]
  },
  {
   "cell_type": "markdown",
   "id": "147790ba-8e7f-4a9c-826d-5bf3bffa0d68",
   "metadata": {
    "jp-MarkdownHeadingCollapsed": true,
    "tags": []
   },
   "source": [
    "### What is OOP ?"
   ]
  },
  {
   "cell_type": "markdown",
   "id": "e8f12660-39cb-4823-925d-c6eb3cf8868b",
   "metadata": {},
   "source": [
    "Object-Oriented Programming (OOPs) is a Programming Paradigm that uses objects and classes in programming. It aims to implement real-world entities like inheritance, polymorphisms, encapsulation, etc. in the programming. \n",
    "\n",
    "<p style=\"padding:1%; border:2px solid; font-weight:bold\">The main concept of OOPs is to bind the data and the functions that work on that together as a single unit so that no other part of the code can access this data.</p>\n"
   ]
  },
  {
   "cell_type": "markdown",
   "id": "acf1287d-609d-4daf-8402-8b4be6316721",
   "metadata": {},
   "source": [
    "The main concepts of an OOP Paradigm are :\n",
    "\n",
    "- <u><i>Objects</i></u>: An Object can be referred to as an instance of a particular type. Hence, every time we create data structures like lists, tuples etc or even simple variables like int, float, bool, and string, we create instances of those data types, and they can be referred to as objects. Let us see some examples.\n",
    "\n",
    "> `x=5; y=3; \t// instance of creating an integer object`<br>\n",
    "> `x=5.3\t\t// instance of creating a float object`<br>\n",
    "> `x=[1,2,3,4,5] // instance of creating a list object`<br>\n",
    "\n",
    "- <u><i>Classes</i></u>: We use the object by using a Class. The attributes and the methods of an object is defined in a class. It is how we interact with the object. Hence, we can consider the data types as classes and the identifiers as objects.\n",
    "\n",
    "- <u><i>Methods</i></u>: These are functions that are assigned to each and every object of a class. These functions are a way for us to interact with the object. We have learnt about various methods in python. The most popular ones are –\n",
    "\n",
    "> `count()`, `upper()`, `lower()`, `append()`, `remove()`, `pop()`\n",
    "\n",
    "Some examples are –\n",
    "\n",
    "> `set1={1,2,3,4,5}\t// created an object set1 of class 'set'`  \n",
    "> `set1.pop(3);\t\t// this method is used to remove element x of index 'n' in the set.`   \n",
    "> `string= 'Python Programming'; // created a string object`  \n",
    "> `string.count('p');\t// this method is used to count the occurrences of 'p' in the string.`\n",
    "\n",
    "- <u><i>Encapsulation</i></u>: It describes the idea of wrapping data and the methods that work on data within one unit. This puts restrictions on accessing variables and methods directly and can prevent the accidental modification of data.\n",
    "\n",
    "- <u><i>Inheritance</i></u>: Inheritance is the capability of one class to derive or inherit the properties from another class. The class that derives properties is called the derived class or child class and the class from which the properties are being derived is called the base class or parent class. \n",
    "\n",
    "- <u><i>Polymorphism</i></u>: Polymorphism simply means having many forms. It means same name methods can be defined to various classes, even to child classes.\n",
    "\n",
    "- <u><i>Data Abstraction</i></u>: It hides the unnecessary code details from the user. Also,  when we do not want to give out sensitive parts of our code implementation and this is where data abstraction came.\n",
    "\n",
    "<img src=\"https://miro.medium.com/max/600/0*7zMicw-FfThCbN35.png\" width=50% height=50% style=\"margin:0 auto\">"
   ]
  },
  {
   "cell_type": "markdown",
   "id": "b07923a1-f3a7-4dca-a265-b3a2c39cc3ea",
   "metadata": {
    "jp-MarkdownHeadingCollapsed": true,
    "tags": []
   },
   "source": [
    "### Classes in OOP"
   ]
  },
  {
   "cell_type": "markdown",
   "id": "be70b67b-9f26-4881-9531-770720926c2c",
   "metadata": {},
   "source": [
    "A __class__ is a collection of objects. A class contains the blueprints or the prototype from which the objects are being created. It is a logical entity that contains some attributes and methods.\n",
    "\n",
    "__Each and every data type in python is a class. Lists, Tuples, Strings, Integers etc – all of them are classes.__\n",
    "\n",
    "The following examples will clarify things.\n"
   ]
  },
  {
   "cell_type": "code",
   "execution_count": 13,
   "id": "e5dfa774-3734-4836-9943-642c66e951bb",
   "metadata": {},
   "outputs": [
    {
     "name": "stdout",
     "output_type": "stream",
     "text": [
      "<class 'int'> <class 'float'> <class 'bool'> <class 'str'>\n"
     ]
    }
   ],
   "source": [
    "a1,a2,a3,a4=3,3.14,True,'String';\n",
    "print(type(a1),type(a2),type(a3),type(a4))"
   ]
  },
  {
   "cell_type": "code",
   "execution_count": 14,
   "id": "d5954ad3-b6fb-4952-aadd-9d8906ce580a",
   "metadata": {},
   "outputs": [
    {
     "name": "stdout",
     "output_type": "stream",
     "text": [
      "<class 'list'> <class 'tuple'> <class 'set'> <class 'dict'>\n"
     ]
    }
   ],
   "source": [
    "a1,a2,a3,a4=[1,2,3,4,5],(3.13,True,'String',4),{1,2,3,4,3,2,1},{1:True,2:False};\n",
    "print(type(a1),type(a2),type(a3),type(a4))"
   ]
  },
  {
   "cell_type": "markdown",
   "id": "52a7da49-6499-435d-addf-4649c7eec83c",
   "metadata": {
    "jp-MarkdownHeadingCollapsed": true,
    "tags": []
   },
   "source": [
    "#### Defining a Class"
   ]
  },
  {
   "cell_type": "markdown",
   "id": "32aefa7f-aeea-4ce4-b2b8-07c341ea8ccc",
   "metadata": {},
   "source": [
    "Classes are created by keyword `class`. Some important points related to classes are -\n",
    "\n",
    ">- Attributes are the variables that belong to a class. Attributes are always public and can be accessed using the period (.) operator. \n",
    ">> Eg.: `Myclass.Myattribute`\n",
    ">- We use objects to access classes. For the in-built classes like lists, tuples, strings etc – we just have to define a variable with the syntax. \n",
    ">- However, when we are trying to use a user-defined class, we create objects by using the class name and parenthesis. An example of this is:\n",
    ">> `MyObject=MyClass();`\n",
    ">- We access the methods of a class by adding a period(.) after the object name, and then the method name after the period, followed by parameters in the parenthesis.  \n",
    ">> Syntax: `object-name.method-name(parameter(s));`\n",
    ">- Methods are used to change the state of an object. This means that they are used to modify the object, as per requirement.\n"
   ]
  },
  {
   "attachments": {
    "0e3e139d-6cec-4765-9407-3561450b8cf9.png": {
     "image/png": "[encoded data removed]"
    }
   },
   "cell_type": "markdown",
   "id": "5e83c3ed-11d6-4ec4-b53c-f27d3febdd49",
   "metadata": {},
   "source": [
    "Let us see the syntax for classes now.\n",
    "\n",
    "![image.png](attachment:0e3e139d-6cec-4765-9407-3561450b8cf9.png)"
   ]
  },
  {
   "attachments": {
    "c2865204-4067-43f0-aaa1-e3fb84c40eec.png": {
     "image/png": "[encoded data removed]"
    }
   },
   "cell_type": "markdown",
   "id": "e0d641a1-d3aa-404f-b74a-8b290fa6b735",
   "metadata": {},
   "source": [
    "There is an in-built method of classes called the `__init__()` method. It is used to create a new object of the class. It is what we call a __constructor__ of a class. __All the typecasting functions are actually constructors of their respective classes.__\n",
    "\n",
    "It takes a parameter `self`, which is a keyword used to refer to the newly created instance of the class. It can be used to initialize (give default values) to the variables in the class.\n",
    "\n",
    "It has the following syntax:\n",
    "\n",
    "![image.png](attachment:c2865204-4067-43f0-aaa1-e3fb84c40eec.png)\n"
   ]
  },
  {
   "cell_type": "markdown",
   "id": "e82879c7-f4f7-4088-8914-40fb2cb8d2f0",
   "metadata": {},
   "source": [
    "The variables associated with the `self` keyword are called __instance variables__. They exist only for the constructor function, and not for the rest of the class. Let us see an example:"
   ]
  },
  {
   "cell_type": "code",
   "execution_count": 18,
   "id": "4f292906-5c81-4d61-89ef-4e7773e05e43",
   "metadata": {},
   "outputs": [
    {
     "name": "stdout",
     "output_type": "stream",
     "text": [
      "<class '__main__.emp'> Yash 22\n"
     ]
    }
   ],
   "source": [
    "class emp:\n",
    "    def __init__(self):\n",
    "        self.name='Yash';\n",
    "        self.age=22;\n",
    "\n",
    "emp1=emp();\n",
    "print(type(emp1),emp1.name,emp1.age)"
   ]
  },
  {
   "cell_type": "markdown",
   "id": "cf460780-9140-4e82-a542-190a4eec0fcd",
   "metadata": {},
   "source": [
    "Hence, the constructor gave default values to the object. However, if we specify values to it inside the parameter, then we get an error."
   ]
  },
  {
   "cell_type": "code",
   "execution_count": 22,
   "id": "d832c0d9-963f-4ef7-9b8c-b6826c0ca32e",
   "metadata": {},
   "outputs": [
    {
     "ename": "TypeError",
     "evalue": "emp.__init__() takes 1 positional argument but 3 were given",
     "output_type": "error",
     "traceback": [
      "\u001b[1;31m---------------------------------------------------------------------------\u001b[0m",
      "\u001b[1;31mTypeError\u001b[0m                                 Traceback (most recent call last)",
      "Input \u001b[1;32mIn [22]\u001b[0m, in \u001b[0;36m<cell line: 1>\u001b[1;34m()\u001b[0m\n\u001b[1;32m----> 1\u001b[0m emp2\u001b[38;5;241m=\u001b[39m\u001b[43memp\u001b[49m\u001b[43m(\u001b[49m\u001b[38;5;124;43m'\u001b[39;49m\u001b[38;5;124;43mYashJain\u001b[39;49m\u001b[38;5;124;43m'\u001b[39;49m\u001b[43m,\u001b[49m\u001b[38;5;241;43m22\u001b[39;49m\u001b[43m)\u001b[49m\n",
      "\u001b[1;31mTypeError\u001b[0m: emp.__init__() takes 1 positional argument but 3 were given"
     ]
    }
   ],
   "source": [
    "emp2=emp('YashJain',22)"
   ]
  },
  {
   "cell_type": "markdown",
   "id": "1fd6e212-1cff-4974-bde9-05ce76f48e16",
   "metadata": {},
   "source": [
    "To avoid this, we use parameters in the `__init__()` function, and assign the instance variables to these parameters."
   ]
  },
  {
   "cell_type": "code",
   "execution_count": 23,
   "id": "e7fb0c05-e555-45a7-b6ba-f839b31e3f06",
   "metadata": {},
   "outputs": [],
   "source": [
    "class emp:\n",
    "    def __init__(self,name,age):\n",
    "        self.name=name;\n",
    "        self.age=age;"
   ]
  },
  {
   "cell_type": "code",
   "execution_count": 28,
   "id": "ce129311-0c7a-4d89-ae5c-8b7743933040",
   "metadata": {},
   "outputs": [
    {
     "data": {
      "text/plain": [
       "('Yash', 22, 'Yash Jain', 25)"
      ]
     },
     "execution_count": 28,
     "metadata": {},
     "output_type": "execute_result"
    }
   ],
   "source": [
    "emp2=emp('Yash',22)\n",
    "emp3=emp('Yash Jain',25)\n",
    "emp2.name,emp2.age,emp3.name,emp3.age"
   ]
  },
  {
   "cell_type": "markdown",
   "id": "ed695923-31e4-470e-abba-291e4fe2cc7e",
   "metadata": {},
   "source": [
    "Hence, when we use constants for instance variables, then we cannot specify parameters for the object. However, when we use parameters for them, we need to specify the parameters.\n",
    "\n",
    "__It is very important to understand the `__init__()` method since it is this method that is instantiated automatically when a particular class is being used; it also determines the number of values to be passed, while creating a new object of the class.__"
   ]
  },
  {
   "cell_type": "markdown",
   "id": "239b24b5-3542-4ac7-b701-8ab28bc06a79",
   "metadata": {
    "jp-MarkdownHeadingCollapsed": true,
    "tags": []
   },
   "source": [
    "#### Class Variables and Instance Variables"
   ]
  },
  {
   "cell_type": "markdown",
   "id": "0e5f8c6c-606b-4721-893a-138cdcc266d5",
   "metadata": {},
   "source": [
    "The two types of variables are used for different functionality in python. __Class variables__ are the variables that are __common to all the objects__ in a class. On the other hand, __Instance Variables__ are __unique to each object__ of a class. \n",
    "\n",
    "The instance variables are associated with the keyword `self`, and declared usually in the constructor method `__init__()`, whereas class variables are defined anywhere inside the class.\n",
    "\n",
    "An example is given below.\n"
   ]
  },
  {
   "cell_type": "code",
   "execution_count": 36,
   "id": "cbc96f0b-5063-49af-a081-2dff198d08ee",
   "metadata": {},
   "outputs": [],
   "source": [
    "class circle:\n",
    "    def __init__(self,rad):\n",
    "        self.rad=rad;\n",
    "    pi=3.14;\n"
   ]
  },
  {
   "cell_type": "code",
   "execution_count": 33,
   "id": "c74092ae-e985-4a0d-8b4f-596edb031ca0",
   "metadata": {},
   "outputs": [
    {
     "name": "stdout",
     "output_type": "stream",
     "text": [
      "3.14 3.14\n",
      "14 22\n"
     ]
    }
   ],
   "source": [
    "circle1,circle2=circle(14),circle(22);\n",
    "print(circle1.pi,circle2.pi)\n",
    "print(circle1.rad,circle2.rad)"
   ]
  },
  {
   "cell_type": "markdown",
   "id": "49e9d202-8d9f-481e-a237-c29f58164d6c",
   "metadata": {},
   "source": [
    "Hence, you can see that the class variable `pi` is common to all objects, whereas the instance variable `rad` is unique for each object."
   ]
  },
  {
   "cell_type": "markdown",
   "id": "97247683-721c-4b53-b9fc-25255506245c",
   "metadata": {},
   "source": [
    "__Modifying Class variables and Instance Variables__"
   ]
  },
  {
   "cell_type": "markdown",
   "id": "9e54d718-451f-4ce2-84e2-234220131316",
   "metadata": {},
   "source": [
    "You can modify the attributes of a class using the period(.) operator after the class name and assignment statements. "
   ]
  },
  {
   "cell_type": "code",
   "execution_count": 56,
   "id": "fee08868-b0b3-4d06-8a08-f9f499611acb",
   "metadata": {},
   "outputs": [],
   "source": [
    "class circle:\n",
    "    def __init__(self):\n",
    "        self.rad=3;\n",
    "    pi=3.14;"
   ]
  },
  {
   "cell_type": "code",
   "execution_count": 61,
   "id": "d8c1b5a6-b248-4c37-b2f0-6fcaf9b84e16",
   "metadata": {},
   "outputs": [
    {
     "data": {
      "text/plain": [
       "5"
      ]
     },
     "execution_count": 61,
     "metadata": {},
     "output_type": "execute_result"
    }
   ],
   "source": [
    "circle.rad=5;\n",
    "circle.rad"
   ]
  },
  {
   "cell_type": "code",
   "execution_count": 62,
   "id": "5dd9dd39-31cd-4577-a48d-8fd2eb1c8571",
   "metadata": {},
   "outputs": [
    {
     "data": {
      "text/plain": [
       "3.1436"
      ]
     },
     "execution_count": 62,
     "metadata": {},
     "output_type": "execute_result"
    }
   ],
   "source": [
    "circle.pi=3.1436\n",
    "circle.pi"
   ]
  },
  {
   "cell_type": "code",
   "execution_count": 63,
   "id": "340ad8d3-15a3-4e3c-a8f4-7b5a9868f0fa",
   "metadata": {},
   "outputs": [
    {
     "data": {
      "text/plain": [
       "(3.1436, 3)"
      ]
     },
     "execution_count": 63,
     "metadata": {},
     "output_type": "execute_result"
    }
   ],
   "source": [
    "circle1=circle();\n",
    "circle1.pi, circle1.rad"
   ]
  },
  {
   "cell_type": "markdown",
   "id": "83ef1b54-b2a6-456a-8013-398e47a511a6",
   "metadata": {},
   "source": [
    "Hence, here you can see that __the class variable is modified, but the instance variable is not__ modified even though the __code is completed without error__. \n",
    "\n",
    "This is due to the fact that everytime a new object is created, the constructor function `__init__()` will be called, and the value of `rad` inside it will overwrite the existing value. \n",
    "\n",
    "However, this is not the case with the class variable, since it is not a part of the constructor function, so it just continues with the modified value."
   ]
  },
  {
   "cell_type": "markdown",
   "id": "af7a32ae-af48-451d-9c80-f08bd88af621",
   "metadata": {
    "jp-MarkdownHeadingCollapsed": true,
    "tags": []
   },
   "source": [
    "### Methods in OOP"
   ]
  },
  {
   "cell_type": "markdown",
   "id": "3cee2f54-db84-45ac-af5b-aa1516f3f2d3",
   "metadata": {},
   "source": [
    "We used a lot of in-built methods in the case of lists, tuples or some other data structures. These methods essentially are functions that are responsible for implementing a particular functionality when they are used in code.\n",
    "\n",
    "We use the methods like `insert()`, `append()` etc in data structures. Let us see some examples – "
   ]
  },
  {
   "cell_type": "code",
   "execution_count": 81,
   "id": "dcef498e-2fab-47a0-8641-5bd2a88c2a37",
   "metadata": {},
   "outputs": [
    {
     "data": {
      "text/plain": [
       "[3, 7, 11, 15, 19, 23, 27, 31]"
      ]
     },
     "execution_count": 81,
     "metadata": {},
     "output_type": "execute_result"
    }
   ],
   "source": [
    "list1=list(range(3,35,4))\n",
    "list1"
   ]
  },
  {
   "cell_type": "code",
   "execution_count": 82,
   "id": "53a19853-0504-42cf-8ba8-20fffa963502",
   "metadata": {},
   "outputs": [
    {
     "data": {
      "text/plain": [
       "[3, 7, 9, 11, 15, 19, 23, 27, 31]"
      ]
     },
     "execution_count": 82,
     "metadata": {},
     "output_type": "execute_result"
    }
   ],
   "source": [
    "list1.insert(2,9)\n",
    "list1"
   ]
  },
  {
   "cell_type": "code",
   "execution_count": 97,
   "id": "38957d67-bc92-43a7-ba1c-40a64c6ecd3f",
   "metadata": {},
   "outputs": [
    {
     "data": {
      "text/plain": [
       "[3, 5, 5, 7, 9, 11, 15, 19, 23, 27, 31]"
      ]
     },
     "execution_count": 97,
     "metadata": {},
     "output_type": "execute_result"
    }
   ],
   "source": [
    "list1.append(5)\n",
    "sorted(list1)"
   ]
  },
  {
   "cell_type": "markdown",
   "id": "6a84a647-dd24-49b0-b2e1-b00fa2c3cf91",
   "metadata": {},
   "source": [
    "However, when we create our classes, we can create our own methods for them as well. One of them is _Instance Methods_."
   ]
  },
  {
   "cell_type": "markdown",
   "id": "2a719dd6-8cf0-49b8-ac31-5c1f9215d374",
   "metadata": {
    "jp-MarkdownHeadingCollapsed": true,
    "tags": []
   },
   "source": [
    "#### Instance Methods in Classes"
   ]
  },
  {
   "cell_type": "markdown",
   "id": "494f6a69-0bfa-4ae9-b5d5-1e36342d53d2",
   "metadata": {},
   "source": [
    "These methods are associated with the `self` keyword. They create a unique copy of themselves for each object. They use the `self` keyword as their parameter, and are called by an object (at the instance of a class).\n",
    "\n",
    "Let us see an example -"
   ]
  },
  {
   "cell_type": "code",
   "execution_count": 133,
   "id": "9d4dd1dd-ff6f-4940-b4a1-8a61e5bb5530",
   "metadata": {},
   "outputs": [],
   "source": [
    "class cuboid:\n",
    "    def __init__(self,length,breadth,height):\n",
    "        self.length=length;\n",
    "        self.breadth=breadth;\n",
    "        self.height=height;\n",
    "    \n",
    "    def volume(self):\n",
    "        return self.length*self.breadth*self.height; \n",
    "    \n",
    "    def print_vol(self):\n",
    "        print(self.length,'x',self.breadth,'x',self.height,'=',cuboid.volume(self));"
   ]
  },
  {
   "cell_type": "code",
   "execution_count": 134,
   "id": "e6627d11-e67d-4dad-8646-b1384126c86d",
   "metadata": {},
   "outputs": [
    {
     "name": "stdout",
     "output_type": "stream",
     "text": [
      "3 x 4 x 7 = 84\n"
     ]
    }
   ],
   "source": [
    "new_cub=cuboid(3,4,7);\n",
    "new_cub.print_vol()"
   ]
  },
  {
   "cell_type": "code",
   "execution_count": 135,
   "id": "c0323b89-8c02-447d-9f54-73fe405c31af",
   "metadata": {},
   "outputs": [
    {
     "name": "stdout",
     "output_type": "stream",
     "text": [
      "4 x 6 x 2 = 48\n"
     ]
    }
   ],
   "source": [
    "cub=cuboid(4,6,2)\n",
    "cub.print_vol()"
   ]
  },
  {
   "cell_type": "markdown",
   "id": "b0acf63f-1cde-41d0-a110-3e24edc75a0a",
   "metadata": {},
   "source": [
    "As it is visible, we can clearly see that __each object has a unique copy of the `volume()` and the `print_vol()` methods__, due to the `self` keyword. Let us see another example."
   ]
  },
  {
   "cell_type": "code",
   "execution_count": 141,
   "id": "dc3358e7-bdc2-4e2c-872e-52287005862c",
   "metadata": {},
   "outputs": [],
   "source": [
    "class circle:\n",
    "    pi=3.14;\n",
    "    \n",
    "    def __init__(self,rad):\n",
    "        self.rad=rad;\n",
    "    \n",
    "    def area(self):\n",
    "        self.area=self.rad*circle.pi;\n",
    "        return self.area;"
   ]
  },
  {
   "cell_type": "code",
   "execution_count": 142,
   "id": "5c3f43dc-8879-4cbe-ba0b-3c40b5be55f5",
   "metadata": {},
   "outputs": [
    {
     "data": {
      "text/plain": [
       "12.56"
      ]
     },
     "execution_count": 142,
     "metadata": {},
     "output_type": "execute_result"
    }
   ],
   "source": [
    "c1=circle(4)\n",
    "c1.area()"
   ]
  },
  {
   "cell_type": "code",
   "execution_count": 145,
   "id": "8e64bc90-779e-4bf8-a557-05edec862b3c",
   "metadata": {},
   "outputs": [
    {
     "data": {
      "text/plain": [
       "(3.1436, 3.14)"
      ]
     },
     "execution_count": 145,
     "metadata": {},
     "output_type": "execute_result"
    }
   ],
   "source": [
    "c1.pi=3.1436\n",
    "c1.pi,circle.pi"
   ]
  },
  {
   "cell_type": "markdown",
   "id": "a65f312c-6006-4647-b734-525143670bc2",
   "metadata": {},
   "source": [
    "Here, as it is visible, we can modify the class attributes for the individual instances, but not for the whole class. This is because the `self` keyword creates a unique copy for the method for each object. "
   ]
  },
  {
   "cell_type": "markdown",
   "id": "40dc451f-24d0-4608-a22a-e8bba176401b",
   "metadata": {
    "jp-MarkdownHeadingCollapsed": true,
    "tags": []
   },
   "source": [
    "#### Class Methods in Classes"
   ]
  },
  {
   "cell_type": "markdown",
   "id": "391300da-f5d3-411b-9496-eff215782be5",
   "metadata": {},
   "source": [
    "Another type of method is the __Class Method__, which is used to __access and modify the class attributes__ of a class. They are bound to a class (not instance), and receive the class object as the parameter. <font color=red>They cannot access instance variables.</font>"
   ]
  },
  {
   "cell_type": "markdown",
   "id": "00947ac3-d8e6-4c52-ace5-14be117074ff",
   "metadata": {},
   "source": [
    "They are created using the `@classmethod` decoration before the class name, and they take a parameter `cls` which represents the class object in the method. Let us see an example."
   ]
  },
  {
   "cell_type": "code",
   "execution_count": 37,
   "id": "82561410-3c28-4371-8be9-9dba1f50bb6d",
   "metadata": {},
   "outputs": [],
   "source": [
    "class circle:\n",
    "    pi=3.14;\n",
    "    \n",
    "    def __init__(self,rad):\n",
    "        self.rad=rad;\n",
    "    \n",
    "    def area(self): # Instance method\n",
    "        self.area=self.rad*circle.pi;\n",
    "        return self.area;\n",
    "    \n",
    "    def upd_pi(self):\n",
    "        self.pi=3.1456;\n",
    "        \n",
    "    @classmethod \n",
    "    def update_pi(cls): #class method\n",
    "        cls.pi=3.1436;"
   ]
  },
  {
   "cell_type": "code",
   "execution_count": 38,
   "id": "6f01902a-075f-4f02-a22a-25fd21d22e5f",
   "metadata": {},
   "outputs": [
    {
     "data": {
      "text/plain": [
       "3.14"
      ]
     },
     "execution_count": 38,
     "metadata": {},
     "output_type": "execute_result"
    }
   ],
   "source": [
    "c1=circle(4);\n",
    "c1.pi"
   ]
  },
  {
   "cell_type": "markdown",
   "id": "1677adbe-7efe-42d2-bad6-567fe3ac7039",
   "metadata": {},
   "source": [
    "First, let us use the instance method."
   ]
  },
  {
   "cell_type": "code",
   "execution_count": 39,
   "id": "354563fb-763c-4a90-a1af-34e9e6d5ee95",
   "metadata": {},
   "outputs": [
    {
     "data": {
      "text/plain": [
       "(3.1456, 3.14)"
      ]
     },
     "execution_count": 39,
     "metadata": {},
     "output_type": "execute_result"
    }
   ],
   "source": [
    "c1.upd_pi()\n",
    "c1.pi,circle.pi"
   ]
  },
  {
   "cell_type": "markdown",
   "id": "045421bb-e8ca-46c1-8618-173a917cdc6e",
   "metadata": {},
   "source": [
    "Here, you can see that the instance method updated the pi value for only the object c1. Let us now use the class method."
   ]
  },
  {
   "cell_type": "code",
   "execution_count": 40,
   "id": "91b3e773-32b5-4aa4-96a2-404a7c992032",
   "metadata": {},
   "outputs": [
    {
     "data": {
      "text/plain": [
       "3.14"
      ]
     },
     "execution_count": 40,
     "metadata": {},
     "output_type": "execute_result"
    }
   ],
   "source": [
    "c1=circle(4);\n",
    "c1.pi"
   ]
  },
  {
   "cell_type": "code",
   "execution_count": 41,
   "id": "0018bd86-7464-40be-8958-87f2ab3baf45",
   "metadata": {},
   "outputs": [
    {
     "data": {
      "text/plain": [
       "(3.1436, 3.1436)"
      ]
     },
     "execution_count": 41,
     "metadata": {},
     "output_type": "execute_result"
    }
   ],
   "source": [
    "c1.update_pi()\n",
    "c1.pi,circle.pi"
   ]
  },
  {
   "cell_type": "markdown",
   "id": "1076a369-560a-4092-9f05-c3b1a20c2a5b",
   "metadata": {},
   "source": [
    "Hence, the class method updated the value for pi in the class. This is how it is used. However, if you want to modify the class attribute explicitly (without using class methods), then you can use assignment operator randomly."
   ]
  },
  {
   "cell_type": "code",
   "execution_count": 42,
   "id": "fe16a2c9-5daf-447f-8af8-05330493c749",
   "metadata": {},
   "outputs": [
    {
     "data": {
      "text/plain": [
       "(3.1436, 3.1436)"
      ]
     },
     "execution_count": 42,
     "metadata": {},
     "output_type": "execute_result"
    }
   ],
   "source": [
    "cr1,cr2=circle(3),circle(5);\n",
    "cr1.pi,cr2.pi"
   ]
  },
  {
   "cell_type": "code",
   "execution_count": 43,
   "id": "767a6973-8267-49f5-b9b0-b6cd15af77b7",
   "metadata": {},
   "outputs": [
    {
     "data": {
      "text/plain": [
       "(5, 5)"
      ]
     },
     "execution_count": 43,
     "metadata": {},
     "output_type": "execute_result"
    }
   ],
   "source": [
    "circle.pi=5;\n",
    "cr1.pi,cr2.pi"
   ]
  },
  {
   "cell_type": "code",
   "execution_count": 44,
   "id": "490aeec1-e8b6-4252-91d3-3013c68b3e18",
   "metadata": {},
   "outputs": [
    {
     "data": {
      "text/plain": [
       "5"
      ]
     },
     "execution_count": 44,
     "metadata": {},
     "output_type": "execute_result"
    }
   ],
   "source": [
    "circle.pi"
   ]
  },
  {
   "cell_type": "markdown",
   "id": "722681b7-15c2-447c-ac97-b5eced0d2be6",
   "metadata": {
    "tags": []
   },
   "source": [
    "#### Static Methods in Classes"
   ]
  },
  {
   "cell_type": "markdown",
   "id": "c1bef1f0-e462-4a72-af4d-8faf2c6e3c28",
   "metadata": {},
   "source": [
    "There is another method, called the __Static Method__, that does <font color=red>not take any arguments</font> in the definition. It is used to implement functionality that has a logical connection with the class. <font color=red>They also cannot access instance variables.</font>\n",
    "\n",
    "It is defined using the `@staticmethod` decoration above the class name. Let us see an example –"
   ]
  },
  {
   "cell_type": "code",
   "execution_count": 61,
   "id": "c6103fcd-4aaf-4db9-9e49-ee60cd70b32f",
   "metadata": {},
   "outputs": [],
   "source": [
    "class circle:\n",
    "    pi=3.14;\n",
    "    \n",
    "    def __init__(self,rad):\n",
    "        self.rad=rad;\n",
    "    \n",
    "    def area(self): # Instance method\n",
    "        self.area=self.rad*circle.pi;\n",
    "        return self.area;\n",
    "    \n",
    "    def upd_pi(self):\n",
    "        self.pi=3.1456;\n",
    "        \n",
    "    @classmethod \n",
    "    def update_pi(cls): #class method\n",
    "        cls.pi=3.1436;\n",
    "        \n",
    "    @staticmethod\n",
    "    def print_area(): #static method\n",
    "        print('Calculate area of circle here !');        "
   ]
  },
  {
   "cell_type": "code",
   "execution_count": 62,
   "id": "02e756f0-f045-416f-b16f-d73be8bff7b2",
   "metadata": {},
   "outputs": [
    {
     "name": "stdout",
     "output_type": "stream",
     "text": [
      "Calculate area of circle here !\n"
     ]
    }
   ],
   "source": [
    "c1=circle(4)\n",
    "c1.print_area()"
   ]
  },
  {
   "cell_type": "markdown",
   "id": "462ac140-3cec-473d-a0e8-d12ff3ee52aa",
   "metadata": {
    "jp-MarkdownHeadingCollapsed": true,
    "tags": []
   },
   "source": [
    "### Inheritance in OOP"
   ]
  },
  {
   "attachments": {
    "05b4bca8-0d7a-4dce-82f8-046d67f7c6f8.png": {
     "image/png": "[encoded data removed]"
    }
   },
   "cell_type": "markdown",
   "id": "b42e66c0-2b04-41a0-bbfe-db86aa10270d",
   "metadata": {},
   "source": [
    "Inheritance by the word means to receive something. In Python, inheritance has a similar meaning; it means class A defined on class B has all the properties of class B.\n",
    "\n",
    "It is defined as the ability of a class to derive its properties from another class (or classes). The benefits of inheritance are -\n",
    "\n",
    "- It allows reusability of code. You don't have to write repetetive code.\n",
    "- You can add multiple features to a class without modifying it.\n",
    "- It represents real-world relationships.\n",
    "- It is transitive in nature, which means that if class B inherits from another class A, then all the subclasses of B would automatically inherit from class A.\n",
    "\n",
    "Its syntax is given here -\n",
    "\n",
    "![image.png](attachment:05b4bca8-0d7a-4dce-82f8-046d67f7c6f8.png)"
   ]
  },
  {
   "cell_type": "markdown",
   "id": "2ed52b2b-4034-4295-aaae-b649778020f2",
   "metadata": {
    "tags": []
   },
   "source": [
    "#### Types of Inheritance in OOP"
   ]
  },
  {
   "cell_type": "markdown",
   "id": "d11985c7-3ff9-4fde-a4ba-b9ae5d3315a7",
   "metadata": {},
   "source": [
    "There are 5 types of inheritance in Python -\n",
    "\n",
    "1. Single Level Inheritance\n",
    "2. Multi Level Inheritance\n",
    "3. Multiple Inheritance\n",
    "4. Hierarchical Inheritance\n",
    "5. Hybrid Inheritance\n",
    "\n",
    "The following diagram explains them all - \n",
    "\n",
    "<img src=\"https://miro.medium.com/max/1024/1*xDlvgqeFbq_OHmR0WQH9bw.jpeg\" width=50% height=50%>"
   ]
  },
  {
   "cell_type": "markdown",
   "id": "228b4622-3e3c-43f5-b463-b730008deeb1",
   "metadata": {},
   "source": [
    "#### Some examples of Inheritance"
   ]
  },
  {
   "cell_type": "code",
   "execution_count": 22,
   "id": "61e041ef-e2f1-4f38-b68f-88285ffeebaf",
   "metadata": {},
   "outputs": [],
   "source": [
    "class shape:\n",
    "    \n",
    "    def set_color(self,color):\n",
    "        self.color=color;\n",
    "        \n",
    "    def area(self):\n",
    "        pass\n",
    "    \n",
    "    def shape_color(self):\n",
    "        color_price={'red':10,'blue':15,'green':5};\n",
    "        return self.area()*color_price[self.color]"
   ]
  },
  {
   "cell_type": "code",
   "execution_count": 50,
   "id": "124c146a-1651-4c0a-8086-6ce4058fdd6e",
   "metadata": {
    "tags": []
   },
   "outputs": [],
   "source": [
    "class circle(shape):\n",
    "    \n",
    "    pi=3.14;\n",
    "    \n",
    "    def __init__(self,rad):\n",
    "        self.rad=rad;\n",
    "    \n",
    "    def area(self):\n",
    "        self.circle_area=circle.pi*self.rad;\n",
    "        return self.circle_area;"
   ]
  },
  {
   "cell_type": "code",
   "execution_count": 64,
   "id": "d405874f-2cb4-4af3-bc69-0b2cb90477f9",
   "metadata": {},
   "outputs": [
    {
     "name": "stdout",
     "output_type": "stream",
     "text": [
      "Circle with radius 7cm having area 21.98sq.cm costs $109.9 for color - green\n"
     ]
    }
   ],
   "source": [
    "c1=circle(7);\n",
    "c1.set_color('green')\n",
    "print('Circle with radius {}cm having area {}sq.cm costs ${} for color - {}'.format(c1.rad,c1.area(),\n",
    "                                                                                    c1.shape_color(),c1.color))"
   ]
  },
  {
   "cell_type": "markdown",
   "id": "9a2ee36a-6b51-4581-99e2-64cbb15b60fc",
   "metadata": {},
   "source": [
    "Here, the child class `Circle` is inheriting the methods of `set_color()` and `shape_color()` from the parent class `shape`. This is how inheritance works.\n",
    "\n",
    "You can also see that the `area()` method was defined in both the parent and child classes, but __the method in circle class overrides the one in the shape class__, because we created an object of the class `circle`. \n",
    "\n",
    "This is called __Overriding User Defined Methods__. Same thing happens here as well:"
   ]
  },
  {
   "cell_type": "code",
   "execution_count": 52,
   "id": "d2984ee1-2983-4622-87e0-1e1f517ea529",
   "metadata": {},
   "outputs": [],
   "source": [
    "class rectangle(shape):\n",
    "    \n",
    "    def __init__(self,l,b):\n",
    "        self.l=l;\n",
    "        self.b=b;\n",
    "        \n",
    "    def area(self):\n",
    "        self.rect_area=self.l*self.b; \n",
    "        return self.rect_area;"
   ]
  },
  {
   "cell_type": "code",
   "execution_count": 65,
   "id": "98eecb2a-b676-436e-970b-974125206c3f",
   "metadata": {},
   "outputs": [
    {
     "name": "stdout",
     "output_type": "stream",
     "text": [
      "Rectangle with length 15cm and breadth 12cm having area 180sq.cm costs $1800 for the color - red\n"
     ]
    }
   ],
   "source": [
    "r=rectangle(15,12)\n",
    "r.set_color('red');\n",
    "print('Rectangle with length {}cm and breadth {}cm having area {}sq.cm costs ${} for the color - {}'\n",
    "      .format(r.l,r.b,r.area(),r.shape_color(),r.color)) "
   ]
  },
  {
   "cell_type": "code",
   "execution_count": null,
   "id": "22f29a32-b815-4af8-9cfc-7ef9e26f70d8",
   "metadata": {},
   "outputs": [],
   "source": []
  }
 ],
 "metadata": {
  "kernelspec": {
   "display_name": "Python 3 (ipykernel)",
   "language": "python",
   "name": "python3"
  },
  "language_info": {
   "codemirror_mode": {
    "name": "ipython",
    "version": 3
   },
   "file_extension": ".py",
   "mimetype": "text/x-python",
   "name": "python",
   "nbconvert_exporter": "python",
   "pygments_lexer": "ipython3",
   "version": "3.10.5"
  }
 },
 "nbformat": 4,
 "nbformat_minor": 5
}

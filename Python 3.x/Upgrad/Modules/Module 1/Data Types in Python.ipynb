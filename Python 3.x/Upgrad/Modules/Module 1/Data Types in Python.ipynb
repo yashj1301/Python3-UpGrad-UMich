{
 "cells": [
  {
   "cell_type": "markdown",
   "id": "1181725b-d1d1-4f91-b6c8-cc4a3ccc66a0",
   "metadata": {},
   "source": [
    "## Data Types in Python"
   ]
  },
  {
   "cell_type": "code",
   "execution_count": 1,
   "id": "401490b1-0986-4aa1-a28f-97af824c5b00",
   "metadata": {},
   "outputs": [
    {
     "name": "stdout",
     "output_type": "stream",
     "text": [
      "<class 'int'> <class 'float'> <class 'str'> <class 'bool'>\n"
     ]
    }
   ],
   "source": [
    "x1=3;\n",
    "x2=3.14;\n",
    "x3='Yash';\n",
    "x4=True;\n",
    "\n",
    "print(type(x1),type(x2),type(x3),type(x4));"
   ]
  },
  {
   "cell_type": "markdown",
   "id": "12407844-0912-4beb-943f-f905cbf6550d",
   "metadata": {},
   "source": [
    "All the values above were assigned to the variables without using the data type keywords like int, float, str or bool, but they were automatically detected by python, upon execution. This is another advantage of python."
   ]
  },
  {
   "cell_type": "markdown",
   "id": "485ee5ad-d589-492b-a898-f3ba0e4fa454",
   "metadata": {
    "tags": []
   },
   "source": [
    "### TypeCasting in Python"
   ]
  },
  {
   "cell_type": "markdown",
   "id": "e58a5635-49f6-48e1-9a31-50973fdf5415",
   "metadata": {},
   "source": [
    "TypeCasting is when you want to change the data type of your variables. We use this feature of python with the help of individual functions of `int(), str(), float(), and bool().`"
   ]
  },
  {
   "cell_type": "code",
   "execution_count": 20,
   "id": "00f6d336-e40b-44a0-878b-bb2c80299736",
   "metadata": {},
   "outputs": [],
   "source": [
    "x1=1;\n",
    "x2=3.14;\n",
    "x3=3.92;\n",
    "x4='This is Typecasting 101';\n",
    "x5=True;"
   ]
  },
  {
   "cell_type": "markdown",
   "id": "f46214f0-155f-4ecc-815c-6c1614006277",
   "metadata": {},
   "source": [
    "__Changing from int to other types__"
   ]
  },
  {
   "cell_type": "code",
   "execution_count": 25,
   "id": "a9dfb146-ce98-47f3-ab68-b52682f7bc8a",
   "metadata": {},
   "outputs": [
    {
     "name": "stdout",
     "output_type": "stream",
     "text": [
      "<class 'str'> <class 'float'> <class 'bool'> <class 'float'>\n",
      "1 1.0 True 0.0\n"
     ]
    }
   ],
   "source": [
    "x6=str(x1);\n",
    "x7=float(x1);\n",
    "x8=bool(x1);\n",
    "x9=0.0;\n",
    "\n",
    "print(type(x6),type(x7),type(x8),type(x9));\n",
    "print(x6,x7,x8,x9);"
   ]
  },
  {
   "cell_type": "markdown",
   "id": "86f03bcb-b423-4c2a-b05a-e8a45c8aecc9",
   "metadata": {},
   "source": [
    "It is visible that if you express an integer value with a decimal, like 1.0, then it will be taken as float even though there is no non-zero number after the decimal.\n",
    "\n",
    "Also, boolean can have only 2 values - 1 for True and 0 for False."
   ]
  },
  {
   "cell_type": "markdown",
   "id": "810a875c-d85e-48d7-910e-307cf605a35c",
   "metadata": {},
   "source": [
    "__Changing from float to other types__"
   ]
  },
  {
   "cell_type": "code",
   "execution_count": 22,
   "id": "a7da5f73-e087-417a-892b-a5a587920728",
   "metadata": {},
   "outputs": [
    {
     "name": "stdout",
     "output_type": "stream",
     "text": [
      "<class 'int'> <class 'int'> <class 'str'> <class 'bool'>\n",
      "3 3 3.92 False\n"
     ]
    }
   ],
   "source": [
    "y1=int(x2);\n",
    "y2=int(x3);\n",
    "y3=str(x3);\n",
    "y4=bool(x9);\n",
    "\n",
    "print(type(y1),type(y2),type(y3),type(y4));\n",
    "print(y1,y2,y3,y4);"
   ]
  },
  {
   "cell_type": "markdown",
   "id": "78325ae9-75a2-4cdb-b4ec-c0db9231474b",
   "metadata": {},
   "source": [
    "Here, you can see that when we convert from float to int, we lose the integrity of the variable. Hence, it is not advised to do it unless the value is in integer only."
   ]
  },
  {
   "cell_type": "markdown",
   "id": "3c0a8374-b2ef-428d-bb19-414928c384f0",
   "metadata": {},
   "source": [
    "__Changing from string to other types__"
   ]
  },
  {
   "cell_type": "code",
   "execution_count": 23,
   "id": "a4901ff3-e3a4-471b-ad43-dfe31fca267c",
   "metadata": {},
   "outputs": [
    {
     "name": "stdout",
     "output_type": "stream",
     "text": [
      "1 3.92 True\n",
      "<class 'int'> <class 'float'> <class 'bool'>\n"
     ]
    }
   ],
   "source": [
    "y5=int(x6);\n",
    "y6=float(y3);\n",
    "y7=bool(x6);\n",
    "\n",
    "print(y5,y6,y7);\n",
    "print(type(y5),type(y6),type(y7));"
   ]
  },
  {
   "cell_type": "markdown",
   "id": "0df3cb5e-4333-4870-8385-238999b99a92",
   "metadata": {},
   "source": [
    "Here, it should be noticed that only the string values that have integers / floats in them will be able to convert to the corresponding data types. Same will the booleans as well."
   ]
  },
  {
   "cell_type": "markdown",
   "id": "738c45d4-b97d-4ba4-9a63-13cf22688044",
   "metadata": {},
   "source": [
    "__Changing from Boolean to other types__"
   ]
  },
  {
   "cell_type": "code",
   "execution_count": 24,
   "id": "745fb288-c22e-46a1-ab9a-acc7fc5418b3",
   "metadata": {},
   "outputs": [
    {
     "name": "stdout",
     "output_type": "stream",
     "text": [
      "1 0.0 True\n",
      "<class 'int'> <class 'float'> <class 'str'>\n"
     ]
    }
   ],
   "source": [
    "z1=int(y7);\n",
    "z2=float(y4);\n",
    "z3=str(x8);\n",
    "\n",
    "print(z1,z2,z3);\n",
    "print(type(z1),type(z2),type(z3));"
   ]
  },
  {
   "cell_type": "markdown",
   "id": "bc814a0e-3d8a-485a-81da-6c9c0a8e2576",
   "metadata": {},
   "source": [
    "Hence, you can see that only the values 1 and 0, or True and False are obtained from the boolean conversions. "
   ]
  },
  {
   "cell_type": "markdown",
   "id": "ce5d2343-2fdc-4fae-a893-604b1f6fbd2b",
   "metadata": {},
   "source": [
    "__Summary__\n",
    "- The Type of String is very flexible in terms of input. It can convert any input into a string value.\n",
    "- The type of int type can convert only strings having nothing but numbers. It can convert the float values also, but the values after the decimal will be removed. \n",
    "- The Type of bool has a restriction in input as well. Only the values of 1, 1.0, 0, 0.0 will be converted to boolean values. Others will return error. \n",
    "- The float has a restriction that strings should only contain decimal values, or integer values. "
   ]
  }
 ],
 "metadata": {
  "kernelspec": {
   "display_name": "Python 3 (ipykernel)",
   "language": "python",
   "name": "python3"
  },
  "language_info": {
   "codemirror_mode": {
    "name": "ipython",
    "version": 3
   },
   "file_extension": ".py",
   "mimetype": "text/x-python",
   "name": "python",
   "nbconvert_exporter": "python",
   "pygments_lexer": "ipython3",
   "version": "3.10.5"
  }
 },
 "nbformat": 4,
 "nbformat_minor": 5
}

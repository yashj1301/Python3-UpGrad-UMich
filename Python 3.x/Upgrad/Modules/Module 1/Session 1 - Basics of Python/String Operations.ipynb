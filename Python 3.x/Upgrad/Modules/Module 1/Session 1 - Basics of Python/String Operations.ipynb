{
 "cells": [
  {
   "cell_type": "markdown",
   "id": "fa661bba-9173-49a5-843d-aad3326b3a82",
   "metadata": {},
   "source": [
    "## String Operations and Methods in Python "
   ]
  },
  {
   "cell_type": "markdown",
   "id": "31aeddac-6878-460f-b432-70f2b32a4310",
   "metadata": {},
   "source": [
    "A string is like a set of characters, in a given order. Hence, we can move to any character we want to, by navigating inside the string, and manipulating it. We use the String Functions for that."
   ]
  },
  {
   "cell_type": "markdown",
   "id": "a0e8466d-9e67-4d83-9b91-6ea9095c351f",
   "metadata": {},
   "source": [
    "<p style=\"font-weight:bold; size:130%\"> The String <code> len() </code> Function </p>"
   ]
  },
  {
   "cell_type": "markdown",
   "id": "42c22033-f67b-4aa9-bc4d-ae2c5777dccf",
   "metadata": {},
   "source": [
    "<p> This function is used to calculate the number of characters in a string. It has the following syntax : </p>\n",
    "<code> len(string); </code>\n"
   ]
  },
  {
   "cell_type": "markdown",
   "id": "e1fbb825-7d5a-452b-a4cd-ecb0de25ea2a",
   "metadata": {},
   "source": [
    "Let us see an example of this function."
   ]
  },
  {
   "cell_type": "code",
   "execution_count": 10,
   "id": "bc89ebe0-449e-4d42-9d67-e34ccc62a229",
   "metadata": {},
   "outputs": [
    {
     "name": "stdout",
     "output_type": "stream",
     "text": [
      "Length is:  34\n"
     ]
    }
   ],
   "source": [
    "x='Introduction to Python Programming';\n",
    "print('Length is: ',len(x));"
   ]
  },
  {
   "cell_type": "markdown",
   "id": "f874c865-13df-4143-8012-a2084568e7cb",
   "metadata": {
    "jp-MarkdownHeadingCollapsed": true,
    "tags": []
   },
   "source": [
    "### String Indexing"
   ]
  },
  {
   "cell_type": "markdown",
   "id": "e121a584-dbaf-4613-bd99-63af3050ddb8",
   "metadata": {},
   "source": [
    "Indexing is how string stores characters. Each character is given an index, in the same sequence that the string has them arranged, when the variable was declared. \n",
    "\n",
    "When the string is shown in the output, the indexes are sorted, and the string gets the output in the same sequence. We have 2 ways to do indexing: "
   ]
  },
  {
   "cell_type": "markdown",
   "id": "884f0b03-f9a7-432f-808d-7c6b178ecba5",
   "metadata": {},
   "source": [
    "__Forward Indexing__"
   ]
  },
  {
   "cell_type": "markdown",
   "id": "ab9a5aa5-ca1e-4ebe-85dc-ee2de2850975",
   "metadata": {},
   "source": [
    "This method starts indexing from the first character, and the __index starts at 0__. Hence, if we have a string – <br>\n",
    "<code>Str= ‘Yash Jain’</code><br>\n",
    "Then the indexing will be like this:"
   ]
  },
  {
   "cell_type": "markdown",
   "id": "d29a395c-41cc-4895-aaef-16d3673b3e3d",
   "metadata": {},
   "source": [
    "<table style=\"text-align:center\">\n",
    "<tr>\n",
    "    <th> Index </th>\n",
    "    <td> 0 </td>\n",
    "    <td> 1 </td>\n",
    "    <td> 2 </td>\n",
    "    <td> 3 </td>\n",
    "    <td> 4 </td>\n",
    "    <td> 5 </td>\n",
    "    <td> 6 </td>\n",
    "    <td> 7 </td>\n",
    "    <td> 8 </td>\n",
    "</tr>\n",
    "<tr>\n",
    "    <th> Char </th>\n",
    "    <td> 'Y' </td>\n",
    "    <td> 'a' </td>\n",
    "    <td> 's' </td>\n",
    "    <td> 'h' </td>\n",
    "    <td></td>\n",
    "    <td> 'J' </td>\n",
    "    <td> 'a' </td>\n",
    "    <td> 'i' </td>\n",
    "    <td> 'n' </td>\n",
    "</tr>\n",
    "</table>   "
   ]
  },
  {
   "cell_type": "markdown",
   "id": "a9c8e409-6519-4648-9dd3-363ffd5530dd",
   "metadata": {},
   "source": [
    "To go to a specific character in the string, we use square brackets [ ] after the variable name, and in the square brackets, we write the index number. Let us use forward indexing now."
   ]
  },
  {
   "cell_type": "code",
   "execution_count": 16,
   "id": "46243162-ec7a-47a5-9704-4bc9af819c88",
   "metadata": {},
   "outputs": [
    {
     "data": {
      "text/plain": [
       "'Yash Jain'"
      ]
     },
     "execution_count": 16,
     "metadata": {},
     "output_type": "execute_result"
    }
   ],
   "source": [
    "x='Yash Jain';\n",
    "x"
   ]
  },
  {
   "cell_type": "code",
   "execution_count": 26,
   "id": "39a164e2-3c5c-4a1b-9aac-5e4ad8fbd186",
   "metadata": {},
   "outputs": [
    {
     "data": {
      "text/plain": [
       "(' ', 'i', 'Y')"
      ]
     },
     "execution_count": 26,
     "metadata": {},
     "output_type": "execute_result"
    }
   ],
   "source": [
    "x[4], x[7], x[0]"
   ]
  },
  {
   "cell_type": "markdown",
   "id": "24ed1520-779f-451c-ae13-4cb5c33696e9",
   "metadata": {},
   "source": [
    "__Reverse Indexing__"
   ]
  },
  {
   "cell_type": "markdown",
   "id": "8d4651ef-2be5-4c29-8a39-ed83935c1f70",
   "metadata": {},
   "source": [
    "Reverse Indexing is when we start indexing from the last element. __The indexing starts from -1__.The syntax remains the same for reverse indexing. Hence, in the same example, we have the reverse-indexing as:"
   ]
  },
  {
   "cell_type": "markdown",
   "id": "d00fee37-7bd6-4b7e-a8c0-e903f70fa021",
   "metadata": {},
   "source": [
    "<table style=\"text-align:center\">\n",
    "<tr>\n",
    "    <th> Index </th>\n",
    "    <td> -9 </td>\n",
    "    <td> -8 </td>\n",
    "    <td> -7 </td>\n",
    "    <td> -6 </td>\n",
    "    <td> -5 </td>\n",
    "    <td> -4 </td>\n",
    "    <td> -3 </td>\n",
    "    <td> -2 </td>\n",
    "    <td> -1 </td>\n",
    "</tr>\n",
    "<tr>\n",
    "    <th> Char </th>\n",
    "    <td> 'Y' </td>\n",
    "    <td> 'a' </td>\n",
    "    <td> 's' </td>\n",
    "    <td> 'h' </td>\n",
    "    <td></td>\n",
    "    <td> 'J' </td>\n",
    "    <td> 'a' </td>\n",
    "    <td> 'i' </td>\n",
    "    <td> 'n' </td>\n",
    "</tr>\n",
    "</table>   "
   ]
  },
  {
   "cell_type": "markdown",
   "id": "2e57f291-0ed1-4f55-b4b0-873d1f36d6a6",
   "metadata": {},
   "source": [
    "When you use a negative value inside the square brackets, python will automatically start negative indexing. Let us now look at an example."
   ]
  },
  {
   "cell_type": "code",
   "execution_count": 28,
   "id": "3ffe6f72-b75a-4ed3-81ae-aee476e71485",
   "metadata": {},
   "outputs": [
    {
     "data": {
      "text/plain": [
       "17"
      ]
     },
     "execution_count": 28,
     "metadata": {},
     "output_type": "execute_result"
    }
   ],
   "source": [
    "y='Negative Indexing';\n",
    "len(y)"
   ]
  },
  {
   "cell_type": "code",
   "execution_count": 35,
   "id": "d3f1d45b-68a8-4545-a21f-60e8055e6558",
   "metadata": {},
   "outputs": [
    {
     "data": {
      "text/plain": [
       "'Negative Indexing'"
      ]
     },
     "execution_count": 35,
     "metadata": {},
     "output_type": "execute_result"
    }
   ],
   "source": [
    "y"
   ]
  },
  {
   "cell_type": "code",
   "execution_count": 34,
   "id": "3af10ecf-e462-4c52-8e11-1d34dda91992",
   "metadata": {},
   "outputs": [
    {
     "data": {
      "text/plain": [
       "('e', 't', 'e', 'I')"
      ]
     },
     "execution_count": 34,
     "metadata": {},
     "output_type": "execute_result"
    }
   ],
   "source": [
    "y[-5],y[-13],y[-10],y[-8]"
   ]
  },
  {
   "cell_type": "markdown",
   "id": "d3eb10ef-e41b-4c10-8d5f-f26602ec21fb",
   "metadata": {
    "jp-MarkdownHeadingCollapsed": true,
    "tags": []
   },
   "source": [
    "### String Immutability"
   ]
  },
  {
   "cell_type": "markdown",
   "id": "8bf8171d-bae0-4fbc-92e0-55a73e314e5c",
   "metadata": {},
   "source": [
    "It is the property of the string that __does not allow__ it to change the __value of any character__ in the string. You can change the whole string by assigning it to some other string value, but you cannot change any character value."
   ]
  },
  {
   "cell_type": "markdown",
   "id": "1af2f9a6-3f66-441d-af77-c03f352b78f3",
   "metadata": {},
   "source": [
    "For eg."
   ]
  },
  {
   "cell_type": "code",
   "execution_count": 47,
   "id": "19b71ab2-66fa-4208-aeed-1d627fec9ad1",
   "metadata": {},
   "outputs": [
    {
     "data": {
      "text/plain": [
       "'Python'"
      ]
     },
     "execution_count": 47,
     "metadata": {},
     "output_type": "execute_result"
    }
   ],
   "source": [
    "Str='Python';\n",
    "Str"
   ]
  },
  {
   "cell_type": "code",
   "execution_count": 42,
   "id": "0d8d336d-b7c8-4986-b3c5-70526c49408b",
   "metadata": {},
   "outputs": [
    {
     "data": {
      "text/plain": [
       "'t'"
      ]
     },
     "execution_count": 42,
     "metadata": {},
     "output_type": "execute_result"
    }
   ],
   "source": [
    "Str[2]"
   ]
  },
  {
   "cell_type": "markdown",
   "id": "ff9719c6-d463-44d6-894d-eac268f3a694",
   "metadata": {},
   "source": [
    "Now, let us try assigning a value to the string's character."
   ]
  },
  {
   "cell_type": "code",
   "execution_count": 43,
   "id": "1e521e03-eae1-449b-aaa9-8920a2dc35c9",
   "metadata": {},
   "outputs": [
    {
     "ename": "TypeError",
     "evalue": "'str' object does not support item assignment",
     "output_type": "error",
     "traceback": [
      "\u001b[1;31m---------------------------------------------------------------------------\u001b[0m",
      "\u001b[1;31mTypeError\u001b[0m                                 Traceback (most recent call last)",
      "Input \u001b[1;32mIn [43]\u001b[0m, in \u001b[0;36m<cell line: 1>\u001b[1;34m()\u001b[0m\n\u001b[1;32m----> 1\u001b[0m \u001b[43mStr\u001b[49m\u001b[43m[\u001b[49m\u001b[38;5;241;43m2\u001b[39;49m\u001b[43m]\u001b[49m\u001b[38;5;241m=\u001b[39m\u001b[38;5;124m'\u001b[39m\u001b[38;5;124mj\u001b[39m\u001b[38;5;124m'\u001b[39m\n",
      "\u001b[1;31mTypeError\u001b[0m: 'str' object does not support item assignment"
     ]
    }
   ],
   "source": [
    "Str[2]='j'"
   ]
  },
  {
   "cell_type": "markdown",
   "id": "77044f07-12f9-4404-854e-aaee6cfe3bb1",
   "metadata": {},
   "source": [
    "Hence, it is not allowed. Changing the whole string, however, as we have seen before, is very much allowed. It is illustrated in the example below - "
   ]
  },
  {
   "cell_type": "code",
   "execution_count": 44,
   "id": "7b7e9820-ac52-442e-a648-7b67d8a560d0",
   "metadata": {},
   "outputs": [
    {
     "data": {
      "text/plain": [
       "'Pyjon'"
      ]
     },
     "execution_count": 44,
     "metadata": {},
     "output_type": "execute_result"
    }
   ],
   "source": [
    "Str='Pyjon';\n",
    "Str"
   ]
  },
  {
   "cell_type": "markdown",
   "id": "7c773364-97e5-46d2-9143-25e6222c0289",
   "metadata": {},
   "source": [
    "This example illustrates __String Immutability__."
   ]
  },
  {
   "cell_type": "markdown",
   "id": "86838d8f-b3ff-4a5f-b09f-812b8dd8b0ee",
   "metadata": {
    "jp-MarkdownHeadingCollapsed": true,
    "tags": []
   },
   "source": [
    "### String Concatenation"
   ]
  },
  {
   "cell_type": "markdown",
   "id": "1bde20b2-7254-4ba0-9093-66942a827be9",
   "metadata": {},
   "source": [
    "This property of the string variables joins two more strings into a new string. It can be assigned to a variable, or it can be directly shown in the output using the `print()` function."
   ]
  },
  {
   "cell_type": "markdown",
   "id": "f4aafc55-244f-4b49-9408-6bdb7a28cc78",
   "metadata": {},
   "source": [
    "For eg."
   ]
  },
  {
   "cell_type": "code",
   "execution_count": 54,
   "id": "c0b77b09-27b7-4536-9ecc-d661b4aa4b3c",
   "metadata": {},
   "outputs": [
    {
     "name": "stdout",
     "output_type": "stream",
     "text": [
      "Welcome\n",
      "Python\n"
     ]
    }
   ],
   "source": [
    "str1= 'Welcome';\n",
    "str2= 'Python';\n",
    "print(str1)\n",
    "print(str2)"
   ]
  },
  {
   "cell_type": "markdown",
   "id": "962a0417-b3ad-49d7-853e-e8de52841d8f",
   "metadata": {},
   "source": [
    "__Method 1 - Using a variable__"
   ]
  },
  {
   "cell_type": "code",
   "execution_count": 58,
   "id": "36aa59eb-c099-4662-86ff-c4eea67317cf",
   "metadata": {},
   "outputs": [
    {
     "name": "stdout",
     "output_type": "stream",
     "text": [
      "Welcome to Python\n"
     ]
    }
   ],
   "source": [
    "str= str1 + ' to ' + str2;\n",
    "print(str); "
   ]
  },
  {
   "cell_type": "markdown",
   "id": "960c47f8-2c7e-499e-a2c2-447061f43784",
   "metadata": {},
   "source": [
    "__Method 2 - Direct Output using <code> print()</code> function__"
   ]
  },
  {
   "cell_type": "code",
   "execution_count": 60,
   "id": "e7138ee8-9ca7-4cbd-b300-97d0950a0727",
   "metadata": {},
   "outputs": [
    {
     "name": "stdout",
     "output_type": "stream",
     "text": [
      "Welcome to Python\n"
     ]
    }
   ],
   "source": [
    "print(str1 + ' to ' + str2);"
   ]
  },
  {
   "cell_type": "markdown",
   "id": "8754c465-b6f8-4de0-96f7-eb4cfc0e5693",
   "metadata": {},
   "source": [
    "#### Concatenating string and numeric values"
   ]
  },
  {
   "cell_type": "markdown",
   "id": "b836c1c4-2072-45e6-80de-22c57d5b33f4",
   "metadata": {},
   "source": [
    "Since we cannot add numeric values with strings unless the string has only numbers, let us add them using the <code> str() </code> function. Some examples are given below:"
   ]
  },
  {
   "cell_type": "code",
   "execution_count": 8,
   "id": "e5ae3767-5420-48ac-8949-f7768120d663",
   "metadata": {},
   "outputs": [
    {
     "name": "stdout",
     "output_type": "stream",
     "text": [
      "The temperature today is 45 degrees.\n",
      "Ever since he came back from injury, his average has dropped from 59.3 to 48.6.\n"
     ]
    }
   ],
   "source": [
    "print(\"The temperature today is \"+str(45)+\" degrees.\");\n",
    "print(\"Ever since he came back from injury, his average has dropped from \"+str(59.3)+\" to \"+str(48.6)+\".\");"
   ]
  },
  {
   "cell_type": "markdown",
   "id": "f6010a2e-3e96-4000-baed-74cfd38ded5e",
   "metadata": {
    "jp-MarkdownHeadingCollapsed": true,
    "tags": []
   },
   "source": [
    "### String Slicing"
   ]
  },
  {
   "cell_type": "markdown",
   "id": "394c40b3-ec41-450e-af8b-a362e2d3ac66",
   "metadata": {},
   "source": [
    "This is an operation to extract a given part of a string. It can be used to take out a part of the string, and store it in some variable, or to create a new string, using a part of this string. It is used with the following syntax – \n",
    "\n",
    "`Identifier[start : end : step];`"
   ]
  },
  {
   "cell_type": "markdown",
   "id": "1931c6c5-54b6-49ff-a14b-7e145a32b63b",
   "metadata": {},
   "source": [
    "<ul style=\"text-align:justify\">\n",
    "    <li><u style=\"font-style:italic\">Start</u>: The first parameter inside the square brackets is start, which lets us define the index from which the slicing should start.</li>\n",
    "    <li><u style=\"font-size:italic\">End</u>: The next parameter inside the square brackets is end, which lets us define the index at which slicing should end. </li>\n",
    "    <li><u style=\"font-style:italic\">Step</u>: The last parameter is the step, which defines the jump between characters while navigating the element. The higher the value, the more characters it will jump in one go. Eg. If step is 2, then every 2<sup>nd</sup> character will be displayed; if step is 3, then every 3<sup>rd</sup> character will be displayed, and so on. </li>\n",
    "</ul>\n"
   ]
  },
  {
   "cell_type": "markdown",
   "id": "3783474e-1685-41b3-8502-98b1e9f17a7f",
   "metadata": {},
   "source": [
    "Let us see this with an example here. "
   ]
  },
  {
   "cell_type": "code",
   "execution_count": 10,
   "id": "3f48d9cb-f54f-4e96-9c99-e8c43f26b53b",
   "metadata": {},
   "outputs": [
    {
     "data": {
      "text/plain": [
       "29"
      ]
     },
     "execution_count": 10,
     "metadata": {},
     "output_type": "execute_result"
    }
   ],
   "source": [
    "wc2011=\"Dhoni Finishes Off in Style !\";\n",
    "len(wc2011)"
   ]
  },
  {
   "cell_type": "markdown",
   "id": "50bf841d-634f-4550-97d9-27166126b1fe",
   "metadata": {},
   "source": [
    "__Using Forward Indexing and Reverse Indexing__ "
   ]
  },
  {
   "cell_type": "code",
   "execution_count": 15,
   "id": "f4421ca9-13e1-4f92-b480-f82b47141be8",
   "metadata": {},
   "outputs": [
    {
     "data": {
      "text/plain": [
       "('Dhoni', 'Style !')"
      ]
     },
     "execution_count": 15,
     "metadata": {},
     "output_type": "execute_result"
    }
   ],
   "source": [
    "wc2011[:5],wc2011[-7:]"
   ]
  },
  {
   "cell_type": "code",
   "execution_count": 17,
   "id": "0667e528-b5f2-4afc-bcf8-c642411ef86e",
   "metadata": {},
   "outputs": [
    {
     "data": {
      "text/plain": [
       "('Fnse f nSye!', 'Dinef')"
      ]
     },
     "execution_count": 17,
     "metadata": {},
     "output_type": "execute_result"
    }
   ],
   "source": [
    "wc2011[6::2],wc2011[:-11:4]"
   ]
  },
  {
   "cell_type": "code",
   "execution_count": 20,
   "id": "3ca24724-67a8-4713-ac9c-96efa6029c23",
   "metadata": {},
   "outputs": [
    {
     "data": {
      "text/plain": [
       "(' iihsOfi tl ', 'FieO  y')"
      ]
     },
     "execution_count": 20,
     "metadata": {},
     "output_type": "execute_result"
    }
   ],
   "source": [
    "wc2011[5:28:2],wc2011[-23:-4:3]"
   ]
  },
  {
   "cell_type": "markdown",
   "id": "33ca882b-46bd-4a09-b6a6-92f7a4a58c5f",
   "metadata": {
    "jp-MarkdownHeadingCollapsed": true,
    "tags": []
   },
   "source": [
    "### String Membership"
   ]
  },
  {
   "cell_type": "markdown",
   "id": "7f1ba4df-ab29-4f4a-b900-36d03d263d79",
   "metadata": {},
   "source": [
    "The String Memberships are managed using the membership operators <code>IN</code> and <code>NOT IN</code>, that navigates through a string to see if the asked value is there in the string or not. \n",
    "\n",
    "It will always return a boolean value <code>TRUE</code> or <code>FALSE</code>, unless typecasting is used. These operations are case sensitive, and they will match for the exact value. \n",
    "\n",
    "Let us now look at an example."
   ]
  },
  {
   "cell_type": "code",
   "execution_count": 21,
   "id": "726b661a-7921-40de-9b8f-0ae16165b761",
   "metadata": {},
   "outputs": [
    {
     "data": {
      "text/plain": [
       "('Indian Cricket Team', 19)"
      ]
     },
     "execution_count": 21,
     "metadata": {},
     "output_type": "execute_result"
    }
   ],
   "source": [
    "Str= 'Indian Cricket Team';\n",
    "Str, len(Str)"
   ]
  },
  {
   "cell_type": "code",
   "execution_count": 22,
   "id": "9a4adcf8-dba4-49e9-8777-856e7b1e03b9",
   "metadata": {},
   "outputs": [
    {
     "name": "stdout",
     "output_type": "stream",
     "text": [
      "True\n",
      "False\n",
      "True\n",
      "False\n",
      "True\n"
     ]
    }
   ],
   "source": [
    "print('India' in Str); \n",
    "print('Delhi' in Str); \n",
    " \n",
    "print('Delhi' not in Str); \n",
    "print('India' not in Str); \n",
    "print('INDIA' not in Str); "
   ]
  },
  {
   "cell_type": "markdown",
   "id": "6e1212e0-2898-4483-8b51-ee5649bff5e9",
   "metadata": {},
   "source": [
    "Due to the case sensitivity, even though the string contains the word <i>India</i>, it showed the <i> NOT IN </i> membership as <i>TRUE</i>."
   ]
  },
  {
   "cell_type": "markdown",
   "id": "55cca0b9-9575-447d-a968-600a807a94fa",
   "metadata": {
    "jp-MarkdownHeadingCollapsed": true,
    "tags": []
   },
   "source": [
    "### String Repetition"
   ]
  },
  {
   "cell_type": "markdown",
   "id": "953ccc25-e109-44be-b8bc-ae64561bb4ed",
   "metadata": {},
   "source": [
    "Before, we learnt about Arithmetic Operators, where we saw that multiplication of an integer with a string will repeat it that many times. \n",
    "\n",
    "This is String Repetition. Let us see a very quick example of this:"
   ]
  },
  {
   "cell_type": "code",
   "execution_count": 24,
   "id": "16a196ff-45dc-4710-b9e8-e8972bafe855",
   "metadata": {},
   "outputs": [
    {
     "name": "stdout",
     "output_type": "stream",
     "text": [
      "Ha Ha Ha Ha !\n"
     ]
    }
   ],
   "source": [
    "print('Ha '*4+'!'); "
   ]
  },
  {
   "cell_type": "markdown",
   "id": "f4b169e0-5865-4dcc-aaf7-9f6a1576e775",
   "metadata": {},
   "source": [
    "Even if we add the numeric value before the asterisk(*), and string after it, the output would be the same. This is due to the precedence of operators, and since addition is the only operation allowed with strings.\n",
    "\n",
    "Hence, the following code would also yield the same result :"
   ]
  },
  {
   "cell_type": "code",
   "execution_count": 25,
   "id": "47d6a668-1642-4490-b29c-00b4ac24fd71",
   "metadata": {},
   "outputs": [
    {
     "name": "stdout",
     "output_type": "stream",
     "text": [
      "Ha Ha Ha Ha !\n"
     ]
    }
   ],
   "source": [
    "print(4*'Ha '+'!');"
   ]
  },
  {
   "cell_type": "markdown",
   "id": "a91e1d58-03d1-4531-9f1a-57f3ee2d8035",
   "metadata": {},
   "source": [
    "See ? Exactly the same. This is the repetition of Strings."
   ]
  },
  {
   "cell_type": "markdown",
   "id": "e1725956-5230-41bd-b287-9cbe0ef0973f",
   "metadata": {
    "tags": []
   },
   "source": [
    "### String Methods"
   ]
  },
  {
   "cell_type": "markdown",
   "id": "41c4a3e4-cabb-4325-81fc-1bebc0a75eab",
   "metadata": {},
   "source": [
    "String Methods are used for a plethora of purposes, across all programming languages. The following methods are used to manipulate strings for very specific purposes. These methods are used by using a period (.) after the name of the string.\n",
    "\n",
    "Syntax - `string.methods(parameter)`"
   ]
  },
  {
   "cell_type": "markdown",
   "id": "e36e186a-4702-44a1-8854-0adeadbc3fc6",
   "metadata": {},
   "source": [
    "__Case Methods__"
   ]
  },
  {
   "cell_type": "markdown",
   "id": "33519576-458f-4c7d-877e-13fc4d224813",
   "metadata": {},
   "source": [
    "These methods are used to change the case of a string in python. They are particularly helpful in ruling out the abnormalities in the data due to case differences. The methods are - \n",
    "\n",
    "<u> The `upper()` Method</u> : The method, as the name suggests, is used to convert a string to __uppercase__. Let us see some examples :"
   ]
  },
  {
   "cell_type": "code",
   "execution_count": 7,
   "id": "ff7962a6-f48c-416c-9670-8ac6bcadb38f",
   "metadata": {},
   "outputs": [
    {
     "data": {
      "text/plain": [
       "('UPPERCASE', 'UPPERCASE', 'UPPERCASE', 'UPPER')"
      ]
     },
     "execution_count": 7,
     "metadata": {},
     "output_type": "execute_result"
    }
   ],
   "source": [
    "x='uppercase';\n",
    "y='Uppercase';\n",
    "z='UpPeRcAse';\n",
    "\n",
    "x.upper(),y.upper(),z.upper(),'Upper'.upper()"
   ]
  },
  {
   "cell_type": "markdown",
   "id": "d60b5d84-af10-40f4-b9e9-d2e5c00f8e49",
   "metadata": {},
   "source": [
    "Al the strings are converted to uppercase !"
   ]
  },
  {
   "cell_type": "markdown",
   "id": "15fb2b21-825f-433d-a0b1-a21189e67dd2",
   "metadata": {},
   "source": [
    "<u> The `lower()` Method</u> : The method, as the name suggests, is used to convert a string to __lowercase__. Let us see some examples :"
   ]
  },
  {
   "cell_type": "code",
   "execution_count": 8,
   "id": "632db4ba-9686-421d-b551-8763b0a61fa7",
   "metadata": {},
   "outputs": [
    {
     "data": {
      "text/plain": [
       "('lowercase', 'lowercase', 'lower')"
      ]
     },
     "execution_count": 8,
     "metadata": {},
     "output_type": "execute_result"
    }
   ],
   "source": [
    "x='LOWERCASE';\n",
    "y='LoWeRcAsE';\n",
    "\n",
    "x.lower(),y.lower(),'LOWER'.lower()"
   ]
  },
  {
   "cell_type": "markdown",
   "id": "fc8e80b1-5c07-4284-a866-a5a79d745415",
   "metadata": {},
   "source": [
    "All the strings are converted to lowercase !"
   ]
  },
  {
   "cell_type": "markdown",
   "id": "c6fb1414-9a84-4efc-a495-3635c1547c15",
   "metadata": {},
   "source": [
    "__OTHER METHODS__\n",
    "\n",
    "<p style=\"text-align:justify\"><u>The `count()` Method</u> : This method is used to count the number of occurrences of a character or a string in another string. It takes the character/string to be counted, and the step value which will tell how many characters to jump when reading, as parameters.</p>\n",
    "\n",
    "Syntax - `string/identifier.count(var,step)`\n",
    "\n",
    "Let us see some examples."
   ]
  },
  {
   "cell_type": "code",
   "execution_count": 18,
   "id": "718ad6ef-6a58-4588-aa52-46d0341d1f5c",
   "metadata": {},
   "outputs": [
    {
     "name": "stdout",
     "output_type": "stream",
     "text": [
      "4 5\n",
      "3 4\n"
     ]
    }
   ],
   "source": [
    "string='Mississippi';\n",
    "\n",
    "print(string.count('i'),'This is my incredible India'.count('i'));\n",
    "print(string.count('i',3),'This is my incredible India'.count('i',3));"
   ]
  },
  {
   "cell_type": "markdown",
   "id": "48867b6e-03c6-48e0-8784-64ba330bcaba",
   "metadata": {},
   "source": [
    "Here, the difference on using the step value is clearly visible."
   ]
  },
  {
   "cell_type": "markdown",
   "id": "e4d97191-b76c-47c2-9ee6-138bc13cfadd",
   "metadata": {},
   "source": [
    "<u>The `split()` Method</u> : This Method is used to divide a string into multiple parts using a delimiter, like space, comma, # or any other character. It has the following syntax - \n",
    "\n",
    "`identifier/string.split(delimiter);`\n",
    "\n",
    "Let us look at some examples below - "
   ]
  },
  {
   "cell_type": "code",
   "execution_count": 23,
   "id": "e053aec3-5c43-413a-8eea-54c22ef8acaf",
   "metadata": {},
   "outputs": [
    {
     "data": {
      "text/plain": [
       "['This', 'is', 'Python', 'Programming']"
      ]
     },
     "execution_count": 23,
     "metadata": {},
     "output_type": "execute_result"
    }
   ],
   "source": [
    "'This is Python Programming'.split(' ')"
   ]
  },
  {
   "cell_type": "code",
   "execution_count": 25,
   "id": "110330f2-8b64-4b17-b3bb-2e5c0b8107cb",
   "metadata": {},
   "outputs": [
    {
     "data": {
      "text/plain": [
       "['It',\n",
       " 'will',\n",
       " 'teach',\n",
       " 'you problem solving',\n",
       " ' python and many',\n",
       " ' other things.']"
      ]
     },
     "execution_count": 25,
     "metadata": {},
     "output_type": "execute_result"
    }
   ],
   "source": [
    "x='It,will,teach,you problem solving, python and many, other things.';\n",
    "x.split(',')"
   ]
  },
  {
   "cell_type": "markdown",
   "id": "f2577718-63da-435b-99c5-252607b0e400",
   "metadata": {},
   "source": [
    "<u>The `strip()` Method</u> : This method is used to strip a character or any string. It can be used to remove unwanted characters from a string. It is used in the following way - \n",
    "\n",
    "Syntax - `identifier/string.strip(char)`;\n",
    "\n",
    "It has 2 more methods, that can be used to remove strings from the left or right. They are usually used to remove symbols like $,# or majorly whitespaces. These are the `lstrip()` and the `rstrip()` methods.\n",
    "\n",
    "Let us see some examples."
   ]
  },
  {
   "cell_type": "code",
   "execution_count": 26,
   "id": "06e1ac89-9c52-4d52-a2ce-b7b45c739d9a",
   "metadata": {},
   "outputs": [
    {
     "name": "stdout",
     "output_type": "stream",
     "text": [
      "%4\n",
      "4%\n",
      "4\n"
     ]
    }
   ],
   "source": [
    "increment = '%4%'\n",
    "print(increment.rstrip('%'))\n",
    "print(increment.lstrip('%'))\n",
    "print(increment.strip('%'))"
   ]
  },
  {
   "cell_type": "code",
   "execution_count": 36,
   "id": "ce5e0b34-4ba0-4230-a5a1-7476e05b37af",
   "metadata": {},
   "outputs": [
    {
     "data": {
      "text/plain": [
       "('Hahahah', 'hahahahhahaaaHHH', 'aaHHaaHHaaHHaa')"
      ]
     },
     "execution_count": 36,
     "metadata": {},
     "output_type": "execute_result"
    }
   ],
   "source": [
    "'Hahahahaaaa'.rstrip('a'),'HHHHhahahahhahaaaHHH'.lstrip('H'),'HHHaaHHaaHHaaHHaaHH'.strip('H')"
   ]
  },
  {
   "cell_type": "markdown",
   "id": "11192794-9f96-4541-8048-45c3239f66a0",
   "metadata": {},
   "source": [
    "<u>The `format()` Method</u> : This method is used to do manual string formatting. In case you don't want to use identifiers everytime, or you are collecting data, this function comes in handy. It is used along with the curly braces {} inside the string. \n",
    "\n",
    "Syntax - `String.format(identifier);`\n",
    "\n",
    "Let us look at some examples:"
   ]
  },
  {
   "cell_type": "code",
   "execution_count": 37,
   "id": "0c683aa3-855f-4a7f-abd7-787740342349",
   "metadata": {},
   "outputs": [
    {
     "name": "stdout",
     "output_type": "stream",
     "text": [
      "Data Analysis using Pandas\n"
     ]
    }
   ],
   "source": [
    "A = \"Data\"\n",
    "B = \"Analysis\"\n",
    "C = \"Pandas\"\n",
    "\n",
    "print(\"{} {} using {}\".format(A,B,C))"
   ]
  },
  {
   "cell_type": "code",
   "execution_count": 39,
   "id": "f47e6fac-2830-48fa-b0fe-179390f79d1e",
   "metadata": {},
   "outputs": [
    {
     "data": {
      "text/plain": [
       "'The candidate Yash, age 22 years is enrolled in the course:  DSAI Jul 2022'"
      ]
     },
     "execution_count": 39,
     "metadata": {},
     "output_type": "execute_result"
    }
   ],
   "source": [
    "name='Yash'\n",
    "age='22'\n",
    "course='DSAI Jul 2022'\n",
    "\n",
    "'The candidate {}, age {} years is enrolled in the course:  {}'.format(name,age,course)"
   ]
  },
  {
   "cell_type": "code",
   "execution_count": null,
   "id": "5168c4f4-4969-4d84-974a-e327b7c19295",
   "metadata": {},
   "outputs": [],
   "source": []
  }
 ],
 "metadata": {
  "kernelspec": {
   "display_name": "Python 3 (ipykernel)",
   "language": "python",
   "name": "python3"
  },
  "language_info": {
   "codemirror_mode": {
    "name": "ipython",
    "version": 3
   },
   "file_extension": ".py",
   "mimetype": "text/x-python",
   "name": "python",
   "nbconvert_exporter": "python",
   "pygments_lexer": "ipython3",
   "version": "3.10.5"
  }
 },
 "nbformat": 4,
 "nbformat_minor": 5
}

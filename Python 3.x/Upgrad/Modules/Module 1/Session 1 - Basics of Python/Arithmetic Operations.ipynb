{
 "cells": [
  {
   "cell_type": "markdown",
   "id": "8766f464-316d-4590-b738-de62079c0928",
   "metadata": {},
   "source": [
    "## Arithmetic Operations in Python"
   ]
  },
  {
   "cell_type": "markdown",
   "id": "18b2b4e8-844b-4efc-ae1f-dd2db9d0cfe3",
   "metadata": {
    "jp-MarkdownHeadingCollapsed": true,
    "tags": []
   },
   "source": [
    "### Integers"
   ]
  },
  {
   "cell_type": "markdown",
   "id": "82d3491c-0bd2-4bfe-9341-6dbac20211bc",
   "metadata": {
    "jp-MarkdownHeadingCollapsed": true,
    "tags": []
   },
   "source": [
    "#### 1. Integer with other Integer "
   ]
  },
  {
   "cell_type": "markdown",
   "id": "143be2e4-d6fd-415f-a29b-112e971152da",
   "metadata": {},
   "source": [
    "Let us see all the arithmetic operations between two integers"
   ]
  },
  {
   "cell_type": "code",
   "execution_count": 62,
   "id": "8b071cef-49c1-4205-891d-4186a7cfbe4d",
   "metadata": {},
   "outputs": [
    {
     "name": "stdout",
     "output_type": "stream",
     "text": [
      "Addition:  7 <class 'int'>\n",
      "Subtraction:  -1 <class 'int'>\n",
      "Multiplication:  12 <class 'int'>\n",
      "Division:  0.75 <class 'float'>\n",
      "Floor Division:  0 <class 'int'>\n",
      "Modulus:  3 <class 'int'>\n",
      "Exponential:  81 <class 'int'>\n"
     ]
    }
   ],
   "source": [
    "x=3;\n",
    "y=4;\n",
    "\n",
    "print('Addition: ',x+y,type(x+y));\n",
    "print('Subtraction: ',x-y,type(x-y));\n",
    "print('Multiplication: ',x*y,type(x*y));\n",
    "print('Division: ',x/y,type(x/y));\n",
    "print('Floor Division: ',x//y,type(x//y));\n",
    "print('Modulus: ',x%y,type(x%y));\n",
    "print('Exponential: ',x**y,type(x**y));"
   ]
  },
  {
   "cell_type": "markdown",
   "id": "9e6ecda1-88b9-4384-a3d3-34dbe112d988",
   "metadata": {
    "jp-MarkdownHeadingCollapsed": true,
    "tags": []
   },
   "source": [
    "#### 2. Integer with Float"
   ]
  },
  {
   "cell_type": "markdown",
   "id": "97096101-8a4b-4409-b5d2-940194b1a809",
   "metadata": {},
   "source": [
    "Now, we use one integer and one float"
   ]
  },
  {
   "cell_type": "code",
   "execution_count": 63,
   "id": "cf64547a-8537-4d17-9f60-036b37c4b8cf",
   "metadata": {},
   "outputs": [
    {
     "name": "stdout",
     "output_type": "stream",
     "text": [
      "Addition:  8.6 <class 'float'>\n",
      "Subtraction:  -1.4 <class 'float'>\n",
      "Multiplication:  18.0 <class 'float'>\n",
      "Division:  0.72 <class 'float'>\n",
      "Floor Division:  0.0 <class 'float'>\n",
      "Modulus:  3.6 <class 'float'>\n",
      "Exponential:  604.6617600000001 <class 'float'>\n"
     ]
    }
   ],
   "source": [
    "x=3.6;\n",
    "y=5;\n",
    "\n",
    "print('Addition: ',x+y,type(x+y));\n",
    "print('Subtraction: ',x-y,type(x-y));\n",
    "print('Multiplication: ',x*y,type(x*y));\n",
    "print('Division: ',x/y,type(x/y));\n",
    "print('Floor Division: ',x//y,type(x//y));\n",
    "print('Modulus: ',x%y,type(x%y));\n",
    "print('Exponential: ',x**y,type(x**y));"
   ]
  },
  {
   "cell_type": "markdown",
   "id": "49ad5ded-bd9c-48f3-9400-0c96f5c4560a",
   "metadata": {
    "jp-MarkdownHeadingCollapsed": true,
    "tags": []
   },
   "source": [
    "#### 3. Integer with Boolean"
   ]
  },
  {
   "cell_type": "markdown",
   "id": "b7db1aa7-acde-4573-bd54-e7ee74e21eab",
   "metadata": {},
   "source": [
    "Now, we use integer and one boolean"
   ]
  },
  {
   "cell_type": "code",
   "execution_count": 64,
   "id": "aaf3dd8d-f839-4bf2-a802-2fff5349a494",
   "metadata": {},
   "outputs": [
    {
     "name": "stdout",
     "output_type": "stream",
     "text": [
      "Addition:  6 <class 'int'>\n",
      "Subtraction:  -4 <class 'int'>\n",
      "Multiplication:  5 <class 'int'>\n",
      "Division:  0.2 <class 'float'>\n",
      "Floor Division:  0 <class 'int'>\n",
      "Modulus:  1 <class 'int'>\n",
      "Exponential:  1 <class 'int'>\n"
     ]
    }
   ],
   "source": [
    "x=True;\n",
    "y=5;\n",
    "\n",
    "print('Addition: ',x+y,type(x+y));\n",
    "print('Subtraction: ',x-y,type(x-y));\n",
    "print('Multiplication: ',x*y,type(x*y));\n",
    "print('Division: ',x/y,type(x/y));\n",
    "print('Floor Division: ',x//y,type(x//y));\n",
    "print('Modulus: ',x%y,type(x%y));\n",
    "print('Exponential: ',x**y,type(x**y));"
   ]
  },
  {
   "cell_type": "markdown",
   "id": "3f2b5a71-958c-4e24-b2e5-6be48438dd1a",
   "metadata": {},
   "source": [
    "Hence, we can see that here, the boolean variable is taking the value 1 (for True), when it performs arithmetic operations with integers."
   ]
  },
  {
   "cell_type": "markdown",
   "id": "cc80db7c-851f-43d7-8f03-273e9d779e07",
   "metadata": {
    "jp-MarkdownHeadingCollapsed": true,
    "tags": []
   },
   "source": [
    "#### 4. Integer with String"
   ]
  },
  {
   "cell_type": "markdown",
   "id": "77548232-3ced-420e-93da-13df16d9d3c9",
   "metadata": {},
   "source": [
    "Now, we use one integer, and one string"
   ]
  },
  {
   "cell_type": "code",
   "execution_count": 73,
   "id": "43b08411-1000-4de6-b083-f6195c65a7bd",
   "metadata": {},
   "outputs": [
    {
     "ename": "TypeError",
     "evalue": "can only concatenate str (not \"int\") to str",
     "output_type": "error",
     "traceback": [
      "\u001b[1;31m---------------------------------------------------------------------------\u001b[0m",
      "\u001b[1;31mTypeError\u001b[0m                                 Traceback (most recent call last)",
      "Input \u001b[1;32mIn [73]\u001b[0m, in \u001b[0;36m<cell line: 4>\u001b[1;34m()\u001b[0m\n\u001b[0;32m      1\u001b[0m x\u001b[38;5;241m=\u001b[39m\u001b[38;5;124m'\u001b[39m\u001b[38;5;124mYes\u001b[39m\u001b[38;5;124m'\u001b[39m;\n\u001b[0;32m      2\u001b[0m y\u001b[38;5;241m=\u001b[39m\u001b[38;5;241m5\u001b[39m;\n\u001b[1;32m----> 4\u001b[0m \u001b[38;5;28mprint\u001b[39m(\u001b[38;5;124m'\u001b[39m\u001b[38;5;124mAddition: \u001b[39m\u001b[38;5;124m'\u001b[39m,\u001b[43mx\u001b[49m\u001b[38;5;241;43m+\u001b[39;49m\u001b[43my\u001b[49m,\u001b[38;5;28mtype\u001b[39m(x\u001b[38;5;241m+\u001b[39my));\n\u001b[0;32m      5\u001b[0m \u001b[38;5;28mprint\u001b[39m(\u001b[38;5;124m'\u001b[39m\u001b[38;5;124mSubtraction: \u001b[39m\u001b[38;5;124m'\u001b[39m,x\u001b[38;5;241m-\u001b[39my,\u001b[38;5;28mtype\u001b[39m(x\u001b[38;5;241m-\u001b[39my));\n\u001b[0;32m      6\u001b[0m \u001b[38;5;28mprint\u001b[39m(\u001b[38;5;124m'\u001b[39m\u001b[38;5;124mDivision: \u001b[39m\u001b[38;5;124m'\u001b[39m,x\u001b[38;5;241m/\u001b[39my,\u001b[38;5;28mtype\u001b[39m(x\u001b[38;5;241m/\u001b[39my));\n",
      "\u001b[1;31mTypeError\u001b[0m: can only concatenate str (not \"int\") to str"
     ]
    }
   ],
   "source": [
    "x='Yes';\n",
    "y=5;\n",
    "\n",
    "print('Addition: ',x+y,type(x+y));\n",
    "print('Subtraction: ',x-y,type(x-y));\n",
    "print('Division: ',x/y,type(x/y));\n",
    "print('Exponential: ',x**y,type(x**y));\n",
    "print('Floor Division: ',x//y,type(x//y));\n",
    "print('Modulus: ',x%y,type(x%y));"
   ]
  },
  {
   "cell_type": "code",
   "execution_count": 74,
   "id": "45e380b5-37cb-4a8f-a49f-78061719a635",
   "metadata": {},
   "outputs": [
    {
     "name": "stdout",
     "output_type": "stream",
     "text": [
      "Multiplication:  YesYesYesYesYes <class 'str'>\n"
     ]
    }
   ],
   "source": [
    "print('Multiplication: ',x*y,type(x*y));"
   ]
  },
  {
   "cell_type": "markdown",
   "id": "2560f789-480b-4ea6-90b0-f1b2fa42c3b0",
   "metadata": {},
   "source": [
    "It is clearly visible that integer and string cannot be operated, unless they are being multiplied."
   ]
  },
  {
   "cell_type": "markdown",
   "id": "72bff539-6e3f-4526-8722-f4ab0e9217aa",
   "metadata": {
    "jp-MarkdownHeadingCollapsed": true,
    "tags": []
   },
   "source": [
    "### Floats"
   ]
  },
  {
   "cell_type": "markdown",
   "id": "630eeac6-3d43-476b-8559-5253c670ef72",
   "metadata": {
    "jp-MarkdownHeadingCollapsed": true,
    "tags": []
   },
   "source": [
    "#### 1. Float with Float"
   ]
  },
  {
   "cell_type": "markdown",
   "id": "cfef5a4c-7f80-477b-819d-4e05c33b60c4",
   "metadata": {},
   "source": [
    "Now, let us examine operations between 2 floats"
   ]
  },
  {
   "cell_type": "code",
   "execution_count": 66,
   "id": "e0010d24-2291-4d6e-8260-212271e127e3",
   "metadata": {},
   "outputs": [
    {
     "name": "stdout",
     "output_type": "stream",
     "text": [
      "Addition:  7.699999999999999 <class 'float'>\n",
      "Subtraction:  -0.8999999999999999 <class 'float'>\n",
      "Multiplication:  14.62 <class 'float'>\n",
      "Division:  0.7906976744186046 <class 'float'>\n",
      "Floor Division:  0.0 <class 'float'>\n",
      "Modulus:  3.4 <class 'float'>\n",
      "Exponential:  192.9120442926277 <class 'float'>\n"
     ]
    }
   ],
   "source": [
    "x=3.4;\n",
    "y=4.3;\n",
    "\n",
    "print('Addition: ',x+y,type(x+y));\n",
    "print('Subtraction: ',x-y,type(x-y));\n",
    "print('Multiplication: ',x*y,type(x*y));\n",
    "print('Division: ',x/y,type(x/y));\n",
    "print('Floor Division: ',x//y,type(x//y));\n",
    "print('Modulus: ',x%y,type(x%y));\n",
    "print('Exponential: ',x**y,type(x**y));"
   ]
  },
  {
   "cell_type": "code",
   "execution_count": null,
   "id": "a36080b7-f4f8-46e6-a033-374871bc1f1a",
   "metadata": {},
   "outputs": [],
   "source": []
  },
  {
   "cell_type": "markdown",
   "id": "ef43debb-655f-4994-bb9d-d27c52b9c0ec",
   "metadata": {
    "jp-MarkdownHeadingCollapsed": true,
    "tags": []
   },
   "source": [
    "#### 2. Float with Boolean"
   ]
  },
  {
   "cell_type": "markdown",
   "id": "80a61fa3-5250-49dc-af88-f1acc27d9e57",
   "metadata": {},
   "source": [
    "Now, let us examine float with boolean"
   ]
  },
  {
   "cell_type": "code",
   "execution_count": 67,
   "id": "9f0c835d-5393-47c3-acb6-8e3f0e9e112d",
   "metadata": {},
   "outputs": [
    {
     "name": "stdout",
     "output_type": "stream",
     "text": [
      "Addition:  5.5 <class 'float'>\n",
      "Subtraction:  -3.5 <class 'float'>\n",
      "Multiplication:  4.5 <class 'float'>\n",
      "Division:  0.2222222222222222 <class 'float'>\n",
      "Floor Division:  0.0 <class 'float'>\n",
      "Modulus:  1.0 <class 'float'>\n",
      "Exponential:  1.0 <class 'float'>\n"
     ]
    }
   ],
   "source": [
    "x=True;\n",
    "y=4.5;\n",
    "\n",
    "print('Addition: ',x+y,type(x+y));\n",
    "print('Subtraction: ',x-y,type(x-y));\n",
    "print('Multiplication: ',x*y,type(x*y));\n",
    "print('Division: ',x/y,type(x/y));\n",
    "print('Floor Division: ',x//y,type(x//y));\n",
    "print('Modulus: ',x%y,type(x%y));\n",
    "print('Exponential: ',x**y,type(x**y));"
   ]
  },
  {
   "cell_type": "markdown",
   "id": "e0b8e1a3-0f8e-4318-bd37-10a03520b41c",
   "metadata": {},
   "source": [
    "Here also, the boolean variable is taking the value 1, while performing in arithmetic operations."
   ]
  },
  {
   "cell_type": "markdown",
   "id": "be8bee64-05cb-4f66-930d-782ea044648a",
   "metadata": {
    "jp-MarkdownHeadingCollapsed": true,
    "tags": []
   },
   "source": [
    "#### 3. Float with String"
   ]
  },
  {
   "cell_type": "markdown",
   "id": "43adb2da-0597-4960-849f-620382f21992",
   "metadata": {},
   "source": [
    "Now, how about one float and one string ?"
   ]
  },
  {
   "cell_type": "code",
   "execution_count": 68,
   "id": "3e15edf1-a3e2-4141-b264-1f1452ac0d1a",
   "metadata": {},
   "outputs": [
    {
     "ename": "TypeError",
     "evalue": "unsupported operand type(s) for +: 'float' and 'str'",
     "output_type": "error",
     "traceback": [
      "\u001b[1;31m---------------------------------------------------------------------------\u001b[0m",
      "\u001b[1;31mTypeError\u001b[0m                                 Traceback (most recent call last)",
      "Input \u001b[1;32mIn [68]\u001b[0m, in \u001b[0;36m<cell line: 4>\u001b[1;34m()\u001b[0m\n\u001b[0;32m      1\u001b[0m x\u001b[38;5;241m=\u001b[39m\u001b[38;5;241m4.5\u001b[39m;\n\u001b[0;32m      2\u001b[0m y\u001b[38;5;241m=\u001b[39m\u001b[38;5;124m'\u001b[39m\u001b[38;5;124mYes\u001b[39m\u001b[38;5;124m'\u001b[39m;\n\u001b[1;32m----> 4\u001b[0m \u001b[38;5;28mprint\u001b[39m(\u001b[38;5;124m'\u001b[39m\u001b[38;5;124mAddition: \u001b[39m\u001b[38;5;124m'\u001b[39m,\u001b[43mx\u001b[49m\u001b[38;5;241;43m+\u001b[39;49m\u001b[43my\u001b[49m,\u001b[38;5;28mtype\u001b[39m(x\u001b[38;5;241m+\u001b[39my));\n\u001b[0;32m      5\u001b[0m \u001b[38;5;28mprint\u001b[39m(\u001b[38;5;124m'\u001b[39m\u001b[38;5;124mSubtraction: \u001b[39m\u001b[38;5;124m'\u001b[39m,x\u001b[38;5;241m-\u001b[39my,\u001b[38;5;28mtype\u001b[39m(x\u001b[38;5;241m-\u001b[39my));\n\u001b[0;32m      6\u001b[0m \u001b[38;5;28mprint\u001b[39m(\u001b[38;5;124m'\u001b[39m\u001b[38;5;124mMultiplication: \u001b[39m\u001b[38;5;124m'\u001b[39m,x\u001b[38;5;241m*\u001b[39my,\u001b[38;5;28mtype\u001b[39m(x\u001b[38;5;241m*\u001b[39my));\n",
      "\u001b[1;31mTypeError\u001b[0m: unsupported operand type(s) for +: 'float' and 'str'"
     ]
    }
   ],
   "source": [
    "x=4.5;\n",
    "y='Yes';\n",
    "\n",
    "print('Addition: ',x+y,type(x+y));\n",
    "print('Subtraction: ',x-y,type(x-y));\n",
    "print('Multiplication: ',x*y,type(x*y));\n",
    "print('Division: ',x/y,type(x/y));\n",
    "print('Floor Division: ',x//y,type(x//y));\n",
    "print('Modulus: ',x%y,type(x%y));\n",
    "print('Exponential: ',x**y,type(x**y));"
   ]
  },
  {
   "cell_type": "markdown",
   "id": "c11773a5-c103-43fb-987c-ee3e6930da81",
   "metadata": {},
   "source": [
    "Clearly, string is not compatible with either float or int."
   ]
  },
  {
   "cell_type": "markdown",
   "id": "de5a666c-bdaa-4567-946b-ef4b502e7851",
   "metadata": {
    "jp-MarkdownHeadingCollapsed": true,
    "tags": []
   },
   "source": [
    "### Strings"
   ]
  },
  {
   "cell_type": "markdown",
   "id": "4df45050-269c-42d3-b742-d4b6df6a35e6",
   "metadata": {
    "jp-MarkdownHeadingCollapsed": true,
    "tags": []
   },
   "source": [
    "#### 1. Addition with String"
   ]
  },
  {
   "cell_type": "markdown",
   "id": "a6372596-71c2-4e9c-93f9-baa000072334",
   "metadata": {},
   "source": [
    "Now, let us see if strings are compatible with other strings as well. "
   ]
  },
  {
   "cell_type": "code",
   "execution_count": 78,
   "id": "b0ca7e1a-2348-4c65-9ca2-9a01ec6756f8",
   "metadata": {},
   "outputs": [
    {
     "name": "stdout",
     "output_type": "stream",
     "text": [
      "Addition:  Yash Jain <class 'str'>\n"
     ]
    }
   ],
   "source": [
    "x='Yash ';\n",
    "y='Jain';\n",
    "\n",
    "print('Addition: ',x+y,type(x+y));"
   ]
  },
  {
   "cell_type": "code",
   "execution_count": 77,
   "id": "3bacb741-6d39-481d-aa49-bc3a02b58a8b",
   "metadata": {},
   "outputs": [
    {
     "ename": "TypeError",
     "evalue": "unsupported operand type(s) for -: 'str' and 'str'",
     "output_type": "error",
     "traceback": [
      "\u001b[1;31m---------------------------------------------------------------------------\u001b[0m",
      "\u001b[1;31mTypeError\u001b[0m                                 Traceback (most recent call last)",
      "Input \u001b[1;32mIn [77]\u001b[0m, in \u001b[0;36m<cell line: 1>\u001b[1;34m()\u001b[0m\n\u001b[1;32m----> 1\u001b[0m \u001b[38;5;28mprint\u001b[39m(\u001b[38;5;124m'\u001b[39m\u001b[38;5;124mSubtraction: \u001b[39m\u001b[38;5;124m'\u001b[39m,\u001b[43mx\u001b[49m\u001b[38;5;241;43m-\u001b[39;49m\u001b[43my\u001b[49m,\u001b[38;5;28mtype\u001b[39m(x\u001b[38;5;241m-\u001b[39my));\n\u001b[0;32m      2\u001b[0m \u001b[38;5;28mprint\u001b[39m(\u001b[38;5;124m'\u001b[39m\u001b[38;5;124mMultiplication: \u001b[39m\u001b[38;5;124m'\u001b[39m,x\u001b[38;5;241m*\u001b[39my,\u001b[38;5;28mtype\u001b[39m(x\u001b[38;5;241m*\u001b[39my));\n\u001b[0;32m      3\u001b[0m \u001b[38;5;28mprint\u001b[39m(\u001b[38;5;124m'\u001b[39m\u001b[38;5;124mDivision: \u001b[39m\u001b[38;5;124m'\u001b[39m,x\u001b[38;5;241m/\u001b[39my,\u001b[38;5;28mtype\u001b[39m(x\u001b[38;5;241m/\u001b[39my));\n",
      "\u001b[1;31mTypeError\u001b[0m: unsupported operand type(s) for -: 'str' and 'str'"
     ]
    }
   ],
   "source": [
    "print('Subtraction: ',x-y,type(x-y));\n",
    "print('Multiplication: ',x*y,type(x*y));\n",
    "print('Division: ',x/y,type(x/y));\n",
    "print('Floor Division: ',x//y,type(x//y));\n",
    "print('Modulus: ',x%y,type(x%y));\n",
    "print('Exponential: ',x**y,type(x**y));"
   ]
  },
  {
   "cell_type": "markdown",
   "id": "35d3ddb9-f883-43af-bb4b-70e188ce79b8",
   "metadata": {},
   "source": [
    "Hence, we know that strings can be added together, but they cannot perform any other operations. Let us see for strings and booleans."
   ]
  },
  {
   "cell_type": "markdown",
   "id": "dff5eb5a-5fa9-43f4-8d1f-8dc551eefd17",
   "metadata": {
    "jp-MarkdownHeadingCollapsed": true,
    "tags": []
   },
   "source": [
    "#### 2. Addition with Booleans"
   ]
  },
  {
   "cell_type": "code",
   "execution_count": 83,
   "id": "cd832d66-e0b7-4599-9f47-3b9e4e3e14a5",
   "metadata": {},
   "outputs": [
    {
     "ename": "TypeError",
     "evalue": "unsupported operand type(s) for +: 'bool' and 'str'",
     "output_type": "error",
     "traceback": [
      "\u001b[1;31m---------------------------------------------------------------------------\u001b[0m",
      "\u001b[1;31mTypeError\u001b[0m                                 Traceback (most recent call last)",
      "Input \u001b[1;32mIn [83]\u001b[0m, in \u001b[0;36m<cell line: 4>\u001b[1;34m()\u001b[0m\n\u001b[0;32m      1\u001b[0m x\u001b[38;5;241m=\u001b[39m\u001b[38;5;28;01mTrue\u001b[39;00m;\n\u001b[0;32m      2\u001b[0m y\u001b[38;5;241m=\u001b[39m\u001b[38;5;124m'\u001b[39m\u001b[38;5;124mYash\u001b[39m\u001b[38;5;124m'\u001b[39m;\n\u001b[1;32m----> 4\u001b[0m \u001b[38;5;28mprint\u001b[39m(\u001b[38;5;124m'\u001b[39m\u001b[38;5;124mAddition: \u001b[39m\u001b[38;5;124m'\u001b[39m,\u001b[43mx\u001b[49m\u001b[38;5;241;43m+\u001b[39;49m\u001b[43my\u001b[49m,\u001b[38;5;28mtype\u001b[39m(x\u001b[38;5;241m+\u001b[39my));\n\u001b[0;32m      5\u001b[0m \u001b[38;5;28mprint\u001b[39m(\u001b[38;5;124m'\u001b[39m\u001b[38;5;124mSubtraction: \u001b[39m\u001b[38;5;124m'\u001b[39m,x\u001b[38;5;241m-\u001b[39my,\u001b[38;5;28mtype\u001b[39m(x\u001b[38;5;241m-\u001b[39my));\n\u001b[0;32m      6\u001b[0m \u001b[38;5;28mprint\u001b[39m(\u001b[38;5;124m'\u001b[39m\u001b[38;5;124mDivision: \u001b[39m\u001b[38;5;124m'\u001b[39m,x\u001b[38;5;241m/\u001b[39my,\u001b[38;5;28mtype\u001b[39m(x\u001b[38;5;241m/\u001b[39my));\n",
      "\u001b[1;31mTypeError\u001b[0m: unsupported operand type(s) for +: 'bool' and 'str'"
     ]
    }
   ],
   "source": [
    "x=True;\n",
    "y='Yash';\n",
    "\n",
    "print('Addition: ',x+y,type(x+y));\n",
    "print('Subtraction: ',x-y,type(x-y));\n",
    "print('Division: ',x/y,type(x/y));\n",
    "print('Floor Division: ',x//y,type(x//y));\n",
    "print('Modulus: ',x%y,type(x%y));\n",
    "print('Exponential: ',x**y,type(x**y));"
   ]
  },
  {
   "cell_type": "code",
   "execution_count": 84,
   "id": "0b97ede7-6996-4965-8e20-53d615043d93",
   "metadata": {},
   "outputs": [
    {
     "name": "stdout",
     "output_type": "stream",
     "text": [
      "Multiplication:  Yash <class 'str'>\n"
     ]
    }
   ],
   "source": [
    "print('Multiplication: ',x*y,type(x*y));"
   ]
  },
  {
   "cell_type": "markdown",
   "id": "af346bf0-1e77-47b0-9a21-105af3f4969b",
   "metadata": {},
   "source": [
    "Hence, strings can only be multiplied by the boolean variables, where also, they are taking the value 1, and repeating the string that number of times. "
   ]
  },
  {
   "cell_type": "markdown",
   "id": "f9dfb5ad-8deb-4a4b-957c-ee9d140c00f9",
   "metadata": {
    "jp-MarkdownHeadingCollapsed": true,
    "tags": []
   },
   "source": [
    "### Booleans"
   ]
  },
  {
   "cell_type": "markdown",
   "id": "7944aeaf-6968-406b-936d-b8626d726034",
   "metadata": {
    "tags": []
   },
   "source": [
    "#### 1. Booleans with Booleans"
   ]
  },
  {
   "cell_type": "code",
   "execution_count": 86,
   "id": "b61701c5-5ef2-40af-b946-96f6c39f9057",
   "metadata": {},
   "outputs": [
    {
     "name": "stdout",
     "output_type": "stream",
     "text": [
      "Addition:  1 <class 'int'>\n",
      "Subtraction:  -1 <class 'int'>\n",
      "Division:  0.0 <class 'float'>\n",
      "Floor Division:  0 <class 'int'>\n",
      "Modulus:  0 <class 'int'>\n",
      "Exponential:  0 <class 'int'>\n",
      "Multiplication:  0 <class 'int'>\n"
     ]
    }
   ],
   "source": [
    "x=False;\n",
    "y=True;\n",
    "\n",
    "print('Addition: ',x+y,type(x+y));\n",
    "print('Subtraction: ',x-y,type(x-y));\n",
    "print('Division: ',x/y,type(x/y));\n",
    "print('Floor Division: ',x//y,type(x//y));\n",
    "print('Modulus: ',x%y,type(x%y));\n",
    "print('Exponential: ',x**y,type(x**y));\n",
    "print('Multiplication: ',x*y,type(x*y));"
   ]
  },
  {
   "cell_type": "markdown",
   "id": "b49bfe19-131a-4974-9fed-de3e22ab2fa8",
   "metadata": {},
   "source": [
    "Hence, it is clearly visible, that booleans will be treated as integers, when it comes to arithmetic operations, and they won't be able to divide by each other, unless the numerator is O (False)."
   ]
  },
  {
   "cell_type": "markdown",
   "id": "32d12670-b333-4668-8a96-60694518853a",
   "metadata": {
    "tags": []
   },
   "source": [
    "### Operator Precedence"
   ]
  },
  {
   "cell_type": "markdown",
   "id": "aa572b15-b7ae-4287-9c8a-314def3e6d54",
   "metadata": {},
   "source": [
    "__In case of multiple operators being used at a same time, we need to remember the following operator precedence:__"
   ]
  },
  {
   "cell_type": "markdown",
   "id": "0950e92f-7e84-4379-8476-5c276e8a4b76",
   "metadata": {},
   "source": [
    "<p style=\"border: 2px solid #000080;\n",
    "          background-color:azure;\n",
    "          width:92%;\n",
    "          font-size:90%;\n",
    "          text-align:center;\n",
    "          font-style:normal;\n",
    "          padding:1%;\">\n",
    "  Brackets ( ) > exponential (∗∗) > floor division (//) > modulus (%) > division (/) > multiplication (*) > addition (+) > subtraction (−)\n",
    "    </p>"
   ]
  },
  {
   "cell_type": "markdown",
   "id": "f02004b6-7b7a-43e0-a890-9c9cdf66e349",
   "metadata": {},
   "source": [
    "Let us look at some examples of this operator precedence principle -"
   ]
  },
  {
   "cell_type": "markdown",
   "id": "757c4946-4326-46d4-a39a-0f9bebef7e07",
   "metadata": {},
   "source": [
    "Statement: `Print(4 % (1 + 9)**2 - 60 // (7 + 2));`"
   ]
  },
  {
   "cell_type": "markdown",
   "id": "aaa348cd-b6ff-408e-a9d7-a756490663b7",
   "metadata": {},
   "source": [
    "Step 1: Brackets:\t\t 4%10**2 – 60//9<br>\n",
    "Step 2: Exponential: \t 4%100 – 60//9;<br>\n",
    "Step 3: Floor Division:\t 4%100 – 6;<br>\n",
    "Step 4: Modulus: \t\t 4 – 6<br>\n",
    "Step 5: Subtraction: \t__-2 -> Ans__ "
   ]
  },
  {
   "cell_type": "markdown",
   "id": "e692fc8d-6a1a-4248-8fe1-4248b2696ae3",
   "metadata": {},
   "source": [
    "Let us now execute the statement:"
   ]
  },
  {
   "cell_type": "code",
   "execution_count": 88,
   "id": "3160e658-43d3-4375-8932-3397ffb6a015",
   "metadata": {},
   "outputs": [
    {
     "name": "stdout",
     "output_type": "stream",
     "text": [
      "-2\n"
     ]
    }
   ],
   "source": [
    "print(4 % (1 + 9)**2 - 60 // (7 + 2));"
   ]
  },
  {
   "cell_type": "markdown",
   "id": "d9e9078f-a8db-45e0-b0a8-f83753002f54",
   "metadata": {},
   "source": [
    "See, the answer is <span style=\"color:green; font-weight:bold\"> Correct </span>!"
   ]
  }
 ],
 "metadata": {
  "kernelspec": {
   "display_name": "Python 3 (ipykernel)",
   "language": "python",
   "name": "python3"
  },
  "language_info": {
   "codemirror_mode": {
    "name": "ipython",
    "version": 3
   },
   "file_extension": ".py",
   "mimetype": "text/x-python",
   "name": "python",
   "nbconvert_exporter": "python",
   "pygments_lexer": "ipython3",
   "version": "3.10.5"
  }
 },
 "nbformat": 4,
 "nbformat_minor": 5
}

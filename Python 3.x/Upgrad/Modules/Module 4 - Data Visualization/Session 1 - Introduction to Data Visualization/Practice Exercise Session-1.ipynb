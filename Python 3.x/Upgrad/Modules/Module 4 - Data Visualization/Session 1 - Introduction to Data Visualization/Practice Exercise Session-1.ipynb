{
  "cells": [
    {
      "cell_type": "code",
      "execution_count": 4,
      "metadata": {
        "id": "pSLO1Ms34GrP"
      },
      "outputs": [],
      "source": [
        "#Import all the necessary libraries\n",
        "import pandas as pd\n",
        "import numpy as np\n",
        "import matplotlib.pyplot as plot"
      ]
    },
    {
      "cell_type": "markdown",
      "metadata": {
        "id": "H1uyyZkk4GrT"
      },
      "source": [
        "### I - Virat Kohli Dataset"
      ]
    },
    {
      "cell_type": "code",
      "execution_count": 7,
      "metadata": {
        "id": "8eDb7grM4GrV"
      },
      "outputs": [],
      "source": [
        "df = pd.read_csv(\"https://github.com/yashj1301/Python3-UpGrad-UMich/raw/master/Python%203.x/Upgrad/Modules/Module%204%20-%20Data%20Visualization/Data/virat.csv\")"
      ]
    },
    {
      "cell_type": "code",
      "execution_count": 8,
      "metadata": {
        "id": "agTYMN1o4GrW",
        "colab": {
          "base_uri": "https://localhost:8080/",
          "height": 206
        },
        "outputId": "4afb432d-d3bc-4c3d-e9d2-59170c6b9e93"
      },
      "outputs": [
        {
          "output_type": "execute_result",
          "data": {
            "text/plain": [
              "  Runs Mins  BF  4s  6s     SR  Pos Dismissal  Inns   Opposition  \\\n",
              "0   12   33  22   1   0  54.54    2       lbw     1  v Sri Lanka   \n",
              "1   37   82  67   6   0  55.22    2    caught     2  v Sri Lanka   \n",
              "2   25   40  38   4   0  65.78    1   run out     1  v Sri Lanka   \n",
              "3   54   87  66   7   0  81.81    1    bowled     1  v Sri Lanka   \n",
              "4   31   45  46   3   1  67.39    1       lbw     2  v Sri Lanka   \n",
              "\n",
              "          Ground Start Date  \n",
              "0       Dambulla  18-Aug-08  \n",
              "1       Dambulla  20-Aug-08  \n",
              "2  Colombo (RPS)  24-Aug-08  \n",
              "3  Colombo (RPS)  27-Aug-08  \n",
              "4  Colombo (RPS)  29-Aug-08  "
            ],
            "text/html": [
              "\n",
              "  <div id=\"df-48049a0f-6175-4e92-aedc-f1b2d081e196\">\n",
              "    <div class=\"colab-df-container\">\n",
              "      <div>\n",
              "<style scoped>\n",
              "    .dataframe tbody tr th:only-of-type {\n",
              "        vertical-align: middle;\n",
              "    }\n",
              "\n",
              "    .dataframe tbody tr th {\n",
              "        vertical-align: top;\n",
              "    }\n",
              "\n",
              "    .dataframe thead th {\n",
              "        text-align: right;\n",
              "    }\n",
              "</style>\n",
              "<table border=\"1\" class=\"dataframe\">\n",
              "  <thead>\n",
              "    <tr style=\"text-align: right;\">\n",
              "      <th></th>\n",
              "      <th>Runs</th>\n",
              "      <th>Mins</th>\n",
              "      <th>BF</th>\n",
              "      <th>4s</th>\n",
              "      <th>6s</th>\n",
              "      <th>SR</th>\n",
              "      <th>Pos</th>\n",
              "      <th>Dismissal</th>\n",
              "      <th>Inns</th>\n",
              "      <th>Opposition</th>\n",
              "      <th>Ground</th>\n",
              "      <th>Start Date</th>\n",
              "    </tr>\n",
              "  </thead>\n",
              "  <tbody>\n",
              "    <tr>\n",
              "      <th>0</th>\n",
              "      <td>12</td>\n",
              "      <td>33</td>\n",
              "      <td>22</td>\n",
              "      <td>1</td>\n",
              "      <td>0</td>\n",
              "      <td>54.54</td>\n",
              "      <td>2</td>\n",
              "      <td>lbw</td>\n",
              "      <td>1</td>\n",
              "      <td>v Sri Lanka</td>\n",
              "      <td>Dambulla</td>\n",
              "      <td>18-Aug-08</td>\n",
              "    </tr>\n",
              "    <tr>\n",
              "      <th>1</th>\n",
              "      <td>37</td>\n",
              "      <td>82</td>\n",
              "      <td>67</td>\n",
              "      <td>6</td>\n",
              "      <td>0</td>\n",
              "      <td>55.22</td>\n",
              "      <td>2</td>\n",
              "      <td>caught</td>\n",
              "      <td>2</td>\n",
              "      <td>v Sri Lanka</td>\n",
              "      <td>Dambulla</td>\n",
              "      <td>20-Aug-08</td>\n",
              "    </tr>\n",
              "    <tr>\n",
              "      <th>2</th>\n",
              "      <td>25</td>\n",
              "      <td>40</td>\n",
              "      <td>38</td>\n",
              "      <td>4</td>\n",
              "      <td>0</td>\n",
              "      <td>65.78</td>\n",
              "      <td>1</td>\n",
              "      <td>run out</td>\n",
              "      <td>1</td>\n",
              "      <td>v Sri Lanka</td>\n",
              "      <td>Colombo (RPS)</td>\n",
              "      <td>24-Aug-08</td>\n",
              "    </tr>\n",
              "    <tr>\n",
              "      <th>3</th>\n",
              "      <td>54</td>\n",
              "      <td>87</td>\n",
              "      <td>66</td>\n",
              "      <td>7</td>\n",
              "      <td>0</td>\n",
              "      <td>81.81</td>\n",
              "      <td>1</td>\n",
              "      <td>bowled</td>\n",
              "      <td>1</td>\n",
              "      <td>v Sri Lanka</td>\n",
              "      <td>Colombo (RPS)</td>\n",
              "      <td>27-Aug-08</td>\n",
              "    </tr>\n",
              "    <tr>\n",
              "      <th>4</th>\n",
              "      <td>31</td>\n",
              "      <td>45</td>\n",
              "      <td>46</td>\n",
              "      <td>3</td>\n",
              "      <td>1</td>\n",
              "      <td>67.39</td>\n",
              "      <td>1</td>\n",
              "      <td>lbw</td>\n",
              "      <td>2</td>\n",
              "      <td>v Sri Lanka</td>\n",
              "      <td>Colombo (RPS)</td>\n",
              "      <td>29-Aug-08</td>\n",
              "    </tr>\n",
              "  </tbody>\n",
              "</table>\n",
              "</div>\n",
              "      <button class=\"colab-df-convert\" onclick=\"convertToInteractive('df-48049a0f-6175-4e92-aedc-f1b2d081e196')\"\n",
              "              title=\"Convert this dataframe to an interactive table.\"\n",
              "              style=\"display:none;\">\n",
              "        \n",
              "  <svg xmlns=\"http://www.w3.org/2000/svg\" height=\"24px\"viewBox=\"0 0 24 24\"\n",
              "       width=\"24px\">\n",
              "    <path d=\"M0 0h24v24H0V0z\" fill=\"none\"/>\n",
              "    <path d=\"M18.56 5.44l.94 2.06.94-2.06 2.06-.94-2.06-.94-.94-2.06-.94 2.06-2.06.94zm-11 1L8.5 8.5l.94-2.06 2.06-.94-2.06-.94L8.5 2.5l-.94 2.06-2.06.94zm10 10l.94 2.06.94-2.06 2.06-.94-2.06-.94-.94-2.06-.94 2.06-2.06.94z\"/><path d=\"M17.41 7.96l-1.37-1.37c-.4-.4-.92-.59-1.43-.59-.52 0-1.04.2-1.43.59L10.3 9.45l-7.72 7.72c-.78.78-.78 2.05 0 2.83L4 21.41c.39.39.9.59 1.41.59.51 0 1.02-.2 1.41-.59l7.78-7.78 2.81-2.81c.8-.78.8-2.07 0-2.86zM5.41 20L4 18.59l7.72-7.72 1.47 1.35L5.41 20z\"/>\n",
              "  </svg>\n",
              "      </button>\n",
              "      \n",
              "  <style>\n",
              "    .colab-df-container {\n",
              "      display:flex;\n",
              "      flex-wrap:wrap;\n",
              "      gap: 12px;\n",
              "    }\n",
              "\n",
              "    .colab-df-convert {\n",
              "      background-color: #E8F0FE;\n",
              "      border: none;\n",
              "      border-radius: 50%;\n",
              "      cursor: pointer;\n",
              "      display: none;\n",
              "      fill: #1967D2;\n",
              "      height: 32px;\n",
              "      padding: 0 0 0 0;\n",
              "      width: 32px;\n",
              "    }\n",
              "\n",
              "    .colab-df-convert:hover {\n",
              "      background-color: #E2EBFA;\n",
              "      box-shadow: 0px 1px 2px rgba(60, 64, 67, 0.3), 0px 1px 3px 1px rgba(60, 64, 67, 0.15);\n",
              "      fill: #174EA6;\n",
              "    }\n",
              "\n",
              "    [theme=dark] .colab-df-convert {\n",
              "      background-color: #3B4455;\n",
              "      fill: #D2E3FC;\n",
              "    }\n",
              "\n",
              "    [theme=dark] .colab-df-convert:hover {\n",
              "      background-color: #434B5C;\n",
              "      box-shadow: 0px 1px 3px 1px rgba(0, 0, 0, 0.15);\n",
              "      filter: drop-shadow(0px 1px 2px rgba(0, 0, 0, 0.3));\n",
              "      fill: #FFFFFF;\n",
              "    }\n",
              "  </style>\n",
              "\n",
              "      <script>\n",
              "        const buttonEl =\n",
              "          document.querySelector('#df-48049a0f-6175-4e92-aedc-f1b2d081e196 button.colab-df-convert');\n",
              "        buttonEl.style.display =\n",
              "          google.colab.kernel.accessAllowed ? 'block' : 'none';\n",
              "\n",
              "        async function convertToInteractive(key) {\n",
              "          const element = document.querySelector('#df-48049a0f-6175-4e92-aedc-f1b2d081e196');\n",
              "          const dataTable =\n",
              "            await google.colab.kernel.invokeFunction('convertToInteractive',\n",
              "                                                     [key], {});\n",
              "          if (!dataTable) return;\n",
              "\n",
              "          const docLinkHtml = 'Like what you see? Visit the ' +\n",
              "            '<a target=\"_blank\" href=https://colab.research.google.com/notebooks/data_table.ipynb>data table notebook</a>'\n",
              "            + ' to learn more about interactive tables.';\n",
              "          element.innerHTML = '';\n",
              "          dataTable['output_type'] = 'display_data';\n",
              "          await google.colab.output.renderOutput(dataTable, element);\n",
              "          const docLink = document.createElement('div');\n",
              "          docLink.innerHTML = docLinkHtml;\n",
              "          element.appendChild(docLink);\n",
              "        }\n",
              "      </script>\n",
              "    </div>\n",
              "  </div>\n",
              "  "
            ]
          },
          "metadata": {},
          "execution_count": 8
        }
      ],
      "source": [
        "df.head()"
      ]
    },
    {
      "cell_type": "markdown",
      "metadata": {
        "id": "cx9MCmJK4GrX"
      },
      "source": [
        "#### Spread in Runs\n",
        "Question 1: Analyse the spread of Runs scored by Virat in all his matches and report the difference between the scores at the 50th percentile and the 25th percentile respectively.\n",
        "\n",
        "    a)16.5\n",
        "    b)22.5\n",
        "    c)26.5\n",
        "    d)32.5\n",
        "\n"
      ]
    },
    {
      "cell_type": "code",
      "source": [
        "df['Dismissal'].value_counts()"
      ],
      "metadata": {
        "colab": {
          "base_uri": "https://localhost:8080/"
        },
        "id": "qbbEsD7G5S4y",
        "outputId": "3ad20756-7866-4466-bbf4-c581bcf5e08d"
      },
      "execution_count": 35,
      "outputs": [
        {
          "output_type": "execute_result",
          "data": {
            "text/plain": [
              "caught        84\n",
              "not out       17\n",
              "run out       10\n",
              "bowled        10\n",
              "lbw            9\n",
              "stumped        1\n",
              "hit wicket     1\n",
              "Name: Dismissal, dtype: int64"
            ]
          },
          "metadata": {},
          "execution_count": 35
        }
      ]
    },
    {
      "cell_type": "code",
      "execution_count": 36,
      "metadata": {
        "id": "m_pBr8s34GrY",
        "colab": {
          "base_uri": "https://localhost:8080/"
        },
        "outputId": "7a8c9999-3143-4680-8cf8-a9db237ce3d7"
      },
      "outputs": [
        {
          "output_type": "execute_result",
          "data": {
            "text/plain": [
              "0       12\n",
              "1       37\n",
              "2       25\n",
              "3       54\n",
              "4       31\n",
              "      ... \n",
              "127     45\n",
              "128     65\n",
              "129    122\n",
              "130      8\n",
              "131     55\n",
              "Name: Runs, Length: 132, dtype: int64"
            ]
          },
          "metadata": {},
          "execution_count": 36
        }
      ],
      "source": [
        "df['Runs']=df['Runs'].str.strip('*').astype(int)\n",
        "df['Runs']"
      ]
    },
    {
      "cell_type": "code",
      "source": [
        "desc=df['Runs'].describe(percentiles=[0.25,0.5,1])\n",
        "desc['50%']-desc['25%']"
      ],
      "metadata": {
        "colab": {
          "base_uri": "https://localhost:8080/"
        },
        "id": "FEYFbNCO72_5",
        "outputId": "21d34330-9f2a-4032-8290-7e6535bd8fd1"
      },
      "execution_count": 47,
      "outputs": [
        {
          "output_type": "execute_result",
          "data": {
            "text/plain": [
              "22.5"
            ]
          },
          "metadata": {},
          "execution_count": 47
        }
      ]
    },
    {
      "cell_type": "markdown",
      "metadata": {
        "id": "TjDUOzkA4GrZ"
      },
      "source": [
        "#### Box Plots\n",
        "\n",
        "Question 2: Plot a Box Plot to analyse the spread of Runs that Virat has scored. The upper fence in the box plot lies in which interval?\n",
        "\n",
        "    a)100-120\n",
        "    b)120-140\n",
        "    c)140-160\n",
        "    d)160-180\n"
      ]
    },
    {
      "cell_type": "code",
      "execution_count": 50,
      "metadata": {
        "id": "husJ6HjL4GrZ",
        "colab": {
          "base_uri": "https://localhost:8080/",
          "height": 285
        },
        "outputId": "796af353-ebd4-4295-920b-6bc96f1ba03f"
      },
      "outputs": [
        {
          "output_type": "execute_result",
          "data": {
            "text/plain": [
              "<matplotlib.axes._subplots.AxesSubplot at 0x7effb5e0c890>"
            ]
          },
          "metadata": {},
          "execution_count": 50
        },
        {
          "output_type": "display_data",
          "data": {
            "text/plain": [
              "<Figure size 432x288 with 1 Axes>"
            ],
            "image/png": "[encoded data removed]"
          },
          "metadata": {
            "needs_background": "light"
          }
        }
      ],
      "source": [
        "#Your code here\n",
        "df[['Runs']].boxplot()"
      ]
    },
    {
      "cell_type": "markdown",
      "metadata": {
        "id": "BPv3f1MT4Gra"
      },
      "source": [
        "#### False Statement\n",
        "\n",
        "Q3:Consider the following statements and choose the correct option\n",
        "\n",
        "     I - Virat has played the maximum number of matches in 2011\n",
        "     II - Virat has the highest run average in the year 2017\n",
        "     III - Virat has the maximum score in a single match and the highest run average in the year 2016.\n",
        "\n",
        "Which of the above statements is/are false?\n",
        "\n",
        "    a)I and II\n",
        "    b)I and III\n",
        "    c)II\n",
        "    d)III\n",
        "\n"
      ]
    },
    {
      "cell_type": "code",
      "source": [
        "# Year in which Virat played max matches\n",
        "\n",
        "date=df['Start Date'].str.rsplit('-',n=2,expand=True)\n",
        "date.rename(columns={0:'Date',1:'Month',2:'Year'},inplace=True)\n",
        "date['Year']=date['Year'].apply(lambda x:int(x)+2000)\n",
        "date['Year'].value_counts().idxmax()"
      ],
      "metadata": {
        "colab": {
          "base_uri": "https://localhost:8080/"
        },
        "id": "YQOplBEo_c4D",
        "outputId": "da2a42d2-8c79-467a-b88e-bf0d6165a45b"
      },
      "execution_count": 111,
      "outputs": [
        {
          "output_type": "execute_result",
          "data": {
            "text/plain": [
              "2011"
            ]
          },
          "metadata": {},
          "execution_count": 111
        }
      ]
    },
    {
      "cell_type": "code",
      "source": [
        "# Year having highest average and the corresponding year\n",
        "\n",
        "virat=df.copy()\n",
        "virat['Year']=virat['Start Date'].apply(lambda x:int(x.split('-')[-1])+2000)\n",
        "virat.groupby('Year').mean()['Runs'].max(),virat.groupby('Year').mean()['Runs'].idxmax()"
      ],
      "metadata": {
        "colab": {
          "base_uri": "https://localhost:8080/"
        },
        "id": "iZ6MGlIACIEj",
        "outputId": "984b5c7c-6551-45f9-a5f5-14785090c7c9"
      },
      "execution_count": 213,
      "outputs": [
        {
          "output_type": "execute_result",
          "data": {
            "text/plain": [
              "(73.9, 2016)"
            ]
          },
          "metadata": {},
          "execution_count": 213
        }
      ]
    },
    {
      "cell_type": "code",
      "source": [
        "virat.pivot_table(values='Runs',aggfunc=[np.mean,np.max],index='Year').idxmax()"
      ],
      "metadata": {
        "colab": {
          "base_uri": "https://localhost:8080/"
        },
        "id": "agNGWRt6D_QS",
        "outputId": "43066169-77a4-4d28-eaca-d6bf77cde017"
      },
      "execution_count": 215,
      "outputs": [
        {
          "output_type": "execute_result",
          "data": {
            "text/plain": [
              "mean  Runs    2016\n",
              "amax  Runs    2016\n",
              "dtype: int64"
            ]
          },
          "metadata": {},
          "execution_count": 215
        }
      ]
    },
    {
      "cell_type": "markdown",
      "metadata": {
        "id": "ghi2VW6e4Grb"
      },
      "source": [
        "#### Maximum Frequency\n",
        "\n",
        "Q4:Plot a histogram for the Mins column with 15 bins. Among the three ranges mentioned below, which one has the highest frequency?\n",
        "\n",
        "A - [54.6,68)\n",
        "\n",
        "B - [68,81.4)\n",
        "\n",
        "C - [121.6,135)\n",
        "\n",
        "    a)A - [54.6,68)\n",
        "    b)B - [68,81.4)\n",
        "    c)C - [121.6,135)\n",
        "    d)All the bin ranges have the same frequency\n"
      ]
    },
    {
      "cell_type": "code",
      "source": [
        "virat['Mins']=virat['Mins'].str.replace('-','0').astype(int)\n",
        "plot.hist(virat['Mins'],bins=15,range=[54.6,135])"
      ],
      "metadata": {
        "colab": {
          "base_uri": "https://localhost:8080/",
          "height": 337
        },
        "id": "uGaGIG4OCHb_",
        "outputId": "fa0a598e-d124-463f-9ed3-16dc0397e70c"
      },
      "execution_count": 214,
      "outputs": [
        {
          "output_type": "execute_result",
          "data": {
            "text/plain": [
              "(array([3., 1., 5., 0., 3., 6., 2., 1., 3., 1., 4., 1., 6., 6., 4.]),\n",
              " array([ 54.6 ,  59.96,  65.32,  70.68,  76.04,  81.4 ,  86.76,  92.12,\n",
              "         97.48, 102.84, 108.2 , 113.56, 118.92, 124.28, 129.64, 135.  ]),\n",
              " <a list of 15 Patch objects>)"
            ]
          },
          "metadata": {},
          "execution_count": 214
        },
        {
          "output_type": "display_data",
          "data": {
            "text/plain": [
              "<Figure size 432x288 with 1 Axes>"
            ],
            "image/png": "[encoded data removed]"
          },
          "metadata": {
            "needs_background": "light"
          }
        }
      ]
    }
  ],
  "metadata": {
    "kernelspec": {
      "display_name": "Python 3",
      "language": "python",
      "name": "python3"
    },
    "language_info": {
      "codemirror_mode": {
        "name": "ipython",
        "version": 3
      },
      "file_extension": ".py",
      "mimetype": "text/x-python",
      "name": "python",
      "nbconvert_exporter": "python",
      "pygments_lexer": "ipython3",
      "version": "3.7.3"
    },
    "colab": {
      "provenance": [],
      "collapsed_sections": []
    }
  },
  "nbformat": 4,
  "nbformat_minor": 0
}
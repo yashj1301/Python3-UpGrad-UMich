{
  "nbformat": 4,
  "nbformat_minor": 0,
  "metadata": {
    "colab": {
      "provenance": [],
      "collapsed_sections": [],
      "authorship_tag": "ABX9TyPMsQpTIaP1xEWxQUpMrm41",
      "include_colab_link": true
    },
    "kernelspec": {
      "name": "python3",
      "display_name": "Python 3"
    },
    "language_info": {
      "name": "python"
    }
  },
  "cells": [
    {
      "cell_type": "markdown",
      "metadata": {
        "id": "view-in-github",
        "colab_type": "text"
      },
      "source": [
        "<a href=\"https://colab.research.google.com/github/yashj1301/Python3-UpGrad-UMich/blob/master/Python%203.x/Upgrad/Modules/Module%204%20-%20Data%20Visualization/Session%202%20-%20Data%20Visualization%20with%20Seaborn/Pie%20Charts%20and%20Bar%20Charts.ipynb\" target=\"_parent\"><img src=\"https://colab.research.google.com/assets/colab-badge.svg\" alt=\"Open In Colab\"/></a>"
      ]
    },
    {
      "cell_type": "markdown",
      "source": [
        "## Pie Charts and Bar Charts using Seaborn"
      ],
      "metadata": {
        "id": "Ouhg1Z00GWR_"
      }
    },
    {
      "cell_type": "markdown",
      "source": [
        "The histograms are used to visualize continuous variables. Now, we will learn how to visualize categorical data using seaborn. Such data has multiple entries repeating themselves, and hence, having high frequencies. For this purpose, we use two kinds of charts -\n",
        "\n",
        "- Bar Charts\n",
        "- Pie Charts\n",
        "\n",
        "Before beginning, let us import all the necessary libraries first. This includes the `warnings` library to hide warnings for seaborn plots. Let us do this first."
      ],
      "metadata": {
        "id": "VDGnvk0uGfG8"
      }
    },
    {
      "cell_type": "code",
      "execution_count": null,
      "metadata": {
        "id": "aJrMQkA3B2TD"
      },
      "outputs": [],
      "source": [
        "import numpy as np\n",
        "import pandas as pd\n",
        "import matplotlib.pyplot as plot\n",
        "import seaborn as cb\n",
        "import warnings as warn\n",
        "\n",
        "warn.filterwarnings('ignore')"
      ]
    },
    {
      "cell_type": "markdown",
      "source": [
        "Now that all the necessary libraries have been imported, it is time to start using visualizations. Note that <font color=\"red\">we need to use aggregate functions</font> to group data, and then plot our categories accordingly. We will start with pie charts."
      ],
      "metadata": {
        "id": "6HY35fTeHpgK"
      }
    },
    {
      "cell_type": "markdown",
      "source": [
        "### Pie Charts"
      ],
      "metadata": {
        "id": "9AZUzu5gIG22"
      }
    },
    {
      "cell_type": "markdown",
      "source": [
        "One of the easiest ways to visualize a cateogorical data, is using a pie chart. They represent categorical data as slices, with each slice denoting how much % (or angle) of total, that category is covering. \n",
        "\n",
        "To plot a pie chart, we use the pie() method in the `pyplot` module of the `matplotlib` library. Seaborn does not have a dedicated method for pie charts, but it can be used to style it. It follows the following syntax -\n",
        "\n",
        "__`plot.pie(data, labels,)`__\n",
        "\n",
        "Let us see an example."
      ],
      "metadata": {
        "id": "6LwvMK59IIfM"
      }
    },
    {
      "cell_type": "code",
      "source": [
        "play=pd.read_csv('/content/ratings.csv',index_col=0)\n",
        "play.head()"
      ],
      "metadata": {
        "colab": {
          "base_uri": "https://localhost:8080/",
          "height": 337
        },
        "id": "z8_QwnlvHa-I",
        "outputId": "d0f82068-824f-430b-93f7-20b5a181d114"
      },
      "execution_count": 15,
      "outputs": [
        {
          "output_type": "execute_result",
          "data": {
            "text/plain": [
              "                                                 App        Category  Rating  \\\n",
              "0     Photo Editor & Candy Camera & Grid & ScrapBook  ART_AND_DESIGN     4.1   \n",
              "1                                Coloring book moana  ART_AND_DESIGN     3.9   \n",
              "2  U Launcher Lite – FREE Live Cool Themes, Hide ...  ART_AND_DESIGN     4.7   \n",
              "3                              Sketch - Draw & Paint  ART_AND_DESIGN     4.5   \n",
              "4              Pixel Draw - Number Art Coloring Book  ART_AND_DESIGN     4.3   \n",
              "\n",
              "    Reviews     Size  Min. Installs  Type  Price($) Content Rating  \\\n",
              "0     159.0  19000.0        10000.0  Free       0.0       Everyone   \n",
              "1     967.0  14000.0       500000.0  Free       0.0       Everyone   \n",
              "2   87510.0   8700.0      5000000.0  Free       0.0       Everyone   \n",
              "3  215644.0  25000.0     50000000.0  Free       0.0           Teen   \n",
              "4     967.0   2800.0       100000.0  Free       0.0       Everyone   \n",
              "\n",
              "                      Genres      Last Updated Current Ver   Android Ver  \n",
              "0               Art & Design   January 7, 2018       1.0.0  4.0.3 and up  \n",
              "1  Art & Design;Pretend Play  January 15, 2018       2.0.0  4.0.3 and up  \n",
              "2               Art & Design    August 1, 2018       1.2.4  4.0.3 and up  \n",
              "3               Art & Design      June 8, 2018         0.0    4.2 and up  \n",
              "4    Art & Design;Creativity     June 20, 2018         1.1    4.4 and up  "
            ],
            "text/html": [
              "\n",
              "  <div id=\"df-431d47c6-58b1-4581-909c-8de0303e1e93\">\n",
              "    <div class=\"colab-df-container\">\n",
              "      <div>\n",
              "<style scoped>\n",
              "    .dataframe tbody tr th:only-of-type {\n",
              "        vertical-align: middle;\n",
              "    }\n",
              "\n",
              "    .dataframe tbody tr th {\n",
              "        vertical-align: top;\n",
              "    }\n",
              "\n",
              "    .dataframe thead th {\n",
              "        text-align: right;\n",
              "    }\n",
              "</style>\n",
              "<table border=\"1\" class=\"dataframe\">\n",
              "  <thead>\n",
              "    <tr style=\"text-align: right;\">\n",
              "      <th></th>\n",
              "      <th>App</th>\n",
              "      <th>Category</th>\n",
              "      <th>Rating</th>\n",
              "      <th>Reviews</th>\n",
              "      <th>Size</th>\n",
              "      <th>Min. Installs</th>\n",
              "      <th>Type</th>\n",
              "      <th>Price($)</th>\n",
              "      <th>Content Rating</th>\n",
              "      <th>Genres</th>\n",
              "      <th>Last Updated</th>\n",
              "      <th>Current Ver</th>\n",
              "      <th>Android Ver</th>\n",
              "    </tr>\n",
              "  </thead>\n",
              "  <tbody>\n",
              "    <tr>\n",
              "      <th>0</th>\n",
              "      <td>Photo Editor &amp; Candy Camera &amp; Grid &amp; ScrapBook</td>\n",
              "      <td>ART_AND_DESIGN</td>\n",
              "      <td>4.1</td>\n",
              "      <td>159.0</td>\n",
              "      <td>19000.0</td>\n",
              "      <td>10000.0</td>\n",
              "      <td>Free</td>\n",
              "      <td>0.0</td>\n",
              "      <td>Everyone</td>\n",
              "      <td>Art &amp; Design</td>\n",
              "      <td>January 7, 2018</td>\n",
              "      <td>1.0.0</td>\n",
              "      <td>4.0.3 and up</td>\n",
              "    </tr>\n",
              "    <tr>\n",
              "      <th>1</th>\n",
              "      <td>Coloring book moana</td>\n",
              "      <td>ART_AND_DESIGN</td>\n",
              "      <td>3.9</td>\n",
              "      <td>967.0</td>\n",
              "      <td>14000.0</td>\n",
              "      <td>500000.0</td>\n",
              "      <td>Free</td>\n",
              "      <td>0.0</td>\n",
              "      <td>Everyone</td>\n",
              "      <td>Art &amp; Design;Pretend Play</td>\n",
              "      <td>January 15, 2018</td>\n",
              "      <td>2.0.0</td>\n",
              "      <td>4.0.3 and up</td>\n",
              "    </tr>\n",
              "    <tr>\n",
              "      <th>2</th>\n",
              "      <td>U Launcher Lite – FREE Live Cool Themes, Hide ...</td>\n",
              "      <td>ART_AND_DESIGN</td>\n",
              "      <td>4.7</td>\n",
              "      <td>87510.0</td>\n",
              "      <td>8700.0</td>\n",
              "      <td>5000000.0</td>\n",
              "      <td>Free</td>\n",
              "      <td>0.0</td>\n",
              "      <td>Everyone</td>\n",
              "      <td>Art &amp; Design</td>\n",
              "      <td>August 1, 2018</td>\n",
              "      <td>1.2.4</td>\n",
              "      <td>4.0.3 and up</td>\n",
              "    </tr>\n",
              "    <tr>\n",
              "      <th>3</th>\n",
              "      <td>Sketch - Draw &amp; Paint</td>\n",
              "      <td>ART_AND_DESIGN</td>\n",
              "      <td>4.5</td>\n",
              "      <td>215644.0</td>\n",
              "      <td>25000.0</td>\n",
              "      <td>50000000.0</td>\n",
              "      <td>Free</td>\n",
              "      <td>0.0</td>\n",
              "      <td>Teen</td>\n",
              "      <td>Art &amp; Design</td>\n",
              "      <td>June 8, 2018</td>\n",
              "      <td>0.0</td>\n",
              "      <td>4.2 and up</td>\n",
              "    </tr>\n",
              "    <tr>\n",
              "      <th>4</th>\n",
              "      <td>Pixel Draw - Number Art Coloring Book</td>\n",
              "      <td>ART_AND_DESIGN</td>\n",
              "      <td>4.3</td>\n",
              "      <td>967.0</td>\n",
              "      <td>2800.0</td>\n",
              "      <td>100000.0</td>\n",
              "      <td>Free</td>\n",
              "      <td>0.0</td>\n",
              "      <td>Everyone</td>\n",
              "      <td>Art &amp; Design;Creativity</td>\n",
              "      <td>June 20, 2018</td>\n",
              "      <td>1.1</td>\n",
              "      <td>4.4 and up</td>\n",
              "    </tr>\n",
              "  </tbody>\n",
              "</table>\n",
              "</div>\n",
              "      <button class=\"colab-df-convert\" onclick=\"convertToInteractive('df-431d47c6-58b1-4581-909c-8de0303e1e93')\"\n",
              "              title=\"Convert this dataframe to an interactive table.\"\n",
              "              style=\"display:none;\">\n",
              "        \n",
              "  <svg xmlns=\"http://www.w3.org/2000/svg\" height=\"24px\"viewBox=\"0 0 24 24\"\n",
              "       width=\"24px\">\n",
              "    <path d=\"M0 0h24v24H0V0z\" fill=\"none\"/>\n",
              "    <path d=\"M18.56 5.44l.94 2.06.94-2.06 2.06-.94-2.06-.94-.94-2.06-.94 2.06-2.06.94zm-11 1L8.5 8.5l.94-2.06 2.06-.94-2.06-.94L8.5 2.5l-.94 2.06-2.06.94zm10 10l.94 2.06.94-2.06 2.06-.94-2.06-.94-.94-2.06-.94 2.06-2.06.94z\"/><path d=\"M17.41 7.96l-1.37-1.37c-.4-.4-.92-.59-1.43-.59-.52 0-1.04.2-1.43.59L10.3 9.45l-7.72 7.72c-.78.78-.78 2.05 0 2.83L4 21.41c.39.39.9.59 1.41.59.51 0 1.02-.2 1.41-.59l7.78-7.78 2.81-2.81c.8-.78.8-2.07 0-2.86zM5.41 20L4 18.59l7.72-7.72 1.47 1.35L5.41 20z\"/>\n",
              "  </svg>\n",
              "      </button>\n",
              "      \n",
              "  <style>\n",
              "    .colab-df-container {\n",
              "      display:flex;\n",
              "      flex-wrap:wrap;\n",
              "      gap: 12px;\n",
              "    }\n",
              "\n",
              "    .colab-df-convert {\n",
              "      background-color: #E8F0FE;\n",
              "      border: none;\n",
              "      border-radius: 50%;\n",
              "      cursor: pointer;\n",
              "      display: none;\n",
              "      fill: #1967D2;\n",
              "      height: 32px;\n",
              "      padding: 0 0 0 0;\n",
              "      width: 32px;\n",
              "    }\n",
              "\n",
              "    .colab-df-convert:hover {\n",
              "      background-color: #E2EBFA;\n",
              "      box-shadow: 0px 1px 2px rgba(60, 64, 67, 0.3), 0px 1px 3px 1px rgba(60, 64, 67, 0.15);\n",
              "      fill: #174EA6;\n",
              "    }\n",
              "\n",
              "    [theme=dark] .colab-df-convert {\n",
              "      background-color: #3B4455;\n",
              "      fill: #D2E3FC;\n",
              "    }\n",
              "\n",
              "    [theme=dark] .colab-df-convert:hover {\n",
              "      background-color: #434B5C;\n",
              "      box-shadow: 0px 1px 3px 1px rgba(0, 0, 0, 0.15);\n",
              "      filter: drop-shadow(0px 1px 2px rgba(0, 0, 0, 0.3));\n",
              "      fill: #FFFFFF;\n",
              "    }\n",
              "  </style>\n",
              "\n",
              "      <script>\n",
              "        const buttonEl =\n",
              "          document.querySelector('#df-431d47c6-58b1-4581-909c-8de0303e1e93 button.colab-df-convert');\n",
              "        buttonEl.style.display =\n",
              "          google.colab.kernel.accessAllowed ? 'block' : 'none';\n",
              "\n",
              "        async function convertToInteractive(key) {\n",
              "          const element = document.querySelector('#df-431d47c6-58b1-4581-909c-8de0303e1e93');\n",
              "          const dataTable =\n",
              "            await google.colab.kernel.invokeFunction('convertToInteractive',\n",
              "                                                     [key], {});\n",
              "          if (!dataTable) return;\n",
              "\n",
              "          const docLinkHtml = 'Like what you see? Visit the ' +\n",
              "            '<a target=\"_blank\" href=https://colab.research.google.com/notebooks/data_table.ipynb>data table notebook</a>'\n",
              "            + ' to learn more about interactive tables.';\n",
              "          element.innerHTML = '';\n",
              "          dataTable['output_type'] = 'display_data';\n",
              "          await google.colab.output.renderOutput(dataTable, element);\n",
              "          const docLink = document.createElement('div');\n",
              "          docLink.innerHTML = docLinkHtml;\n",
              "          element.appendChild(docLink);\n",
              "        }\n",
              "      </script>\n",
              "    </div>\n",
              "  </div>\n",
              "  "
            ]
          },
          "metadata": {},
          "execution_count": 15
        }
      ]
    },
    {
      "cell_type": "code",
      "source": [
        "play['Content Rating'].value_counts()[:-2].plot.pie(autopct='%.3f',labels=None)\n",
        "plot.legend(play['Content Rating'].unique())\n",
        "plot.show()"
      ],
      "metadata": {
        "colab": {
          "base_uri": "https://localhost:8080/",
          "height": 248
        },
        "id": "mTBcUkoxJFHO",
        "outputId": "1df6c2b5-513b-4e04-b4ae-5bc65a794d15"
      },
      "execution_count": 87,
      "outputs": [
        {
          "output_type": "display_data",
          "data": {
            "text/plain": [
              "<Figure size 432x288 with 1 Axes>"
            ],
            "image/png": "[encoded data removed]"
          },
          "metadata": {}
        }
      ]
    },
    {
      "cell_type": "markdown",
      "source": [
        "The __`pyplot`__ module itself provides so much functionality with pie charts that we actually never needed seaborn. Plus, we have a much better alternative - Bar Charts. Let us learn about them."
      ],
      "metadata": {
        "id": "O6YFzHBsU6zx"
      }
    },
    {
      "cell_type": "markdown",
      "source": [
        "### Bar Charts"
      ],
      "metadata": {
        "id": "Iw5H2ntTXiex"
      }
    },
    {
      "cell_type": "markdown",
      "source": [
        "We have discussed about categorical data. __Bar Charts__ is a great way to create visualizations of categorical data, as it __helps us create an organized, clean and concise chart__ that can give us insights much better than pie charts. \n",
        "\n",
        "To create bar charts, we have already seen the `plot.bar()` method, that is used by Matplotlib. Let us revisit it.  "
      ],
      "metadata": {
        "id": "i5BWqtQNXquq"
      }
    },
    {
      "cell_type": "code",
      "source": [
        "fig,ax = plot.subplots(figsize=(6,4))\n",
        "\n",
        "play['Content Rating'].value_counts().plot.bar(color=['red','blue','green'])\n",
        "for i in range(len(play['Content Rating'].value_counts())):\n",
        "  plot.text(i,play['Content Rating'].value_counts()[i],play['Content Rating'].value_counts()[i], ha='center')\n",
        "fig.tight_layout()\n",
        "plot.show()"
      ],
      "metadata": {
        "colab": {
          "base_uri": "https://localhost:8080/",
          "height": 297
        },
        "id": "4qRHz2k4VIH5",
        "outputId": "feb6c613-a00b-4820-a5d5-7ce7be4bc253"
      },
      "execution_count": 138,
      "outputs": [
        {
          "output_type": "display_data",
          "data": {
            "text/plain": [
              "<Figure size 432x288 with 1 Axes>"
            ],
            "image/png": "[encoded data removed]"
          },
          "metadata": {}
        }
      ]
    },
    {
      "cell_type": "markdown",
      "source": [
        "We can clearly see how efficient bar plots are. However, we also have a seaborn method known as __`barplot()`__ that creates a bar chart. It takes two positional required arguments `x` and `y`, and an optional requirement, `data` which can be used when dealing with DataFrames. It follows the following syntax -\n",
        "\n",
        "__`seaborn.barplot(x= ,y= ,data= ,orient= ,color= )`__\n",
        "\n",
        "Let us see an example below."
      ],
      "metadata": {
        "id": "j5b9ibC3hgZX"
      }
    },
    {
      "cell_type": "code",
      "source": [
        "plot.subplots(figsize=(6,4))\n",
        "cb.set_style('darkgrid')\n",
        "cb.barplot(y=play['Content Rating'].value_counts(),x=play['Content Rating'].unique())\n",
        "plot.xticks(rotation=90)\n",
        "plot.show()"
      ],
      "metadata": {
        "colab": {
          "base_uri": "https://localhost:8080/",
          "height": 335
        },
        "id": "UPr9DY9Sh-H5",
        "outputId": "f3ab809b-ff47-4363-b2d2-e1036422af0d"
      },
      "execution_count": 169,
      "outputs": [
        {
          "output_type": "display_data",
          "data": {
            "text/plain": [
              "<Figure size 432x288 with 1 Axes>"
            ],
            "image/png": "[encoded data removed]"
          },
          "metadata": {}
        }
      ]
    },
    {
      "cell_type": "markdown",
      "source": [
        "This is how using Bar plots can make it much easier for us as data scientists to visualize categorical data."
      ],
      "metadata": {
        "id": "soduQ1Rxnk0X"
      }
    }
  ]
}